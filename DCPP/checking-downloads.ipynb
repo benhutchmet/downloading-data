{
 "cells": [
  {
   "cell_type": "code",
   "execution_count": null,
   "metadata": {},
   "outputs": [],
   "source": [
    "# Import the required modules\n",
    "from pyesgf.search import SearchConnection\n",
    "import os\n",
    "import sys\n",
    "import glob\n",
    "import importlib\n",
    "import pandas as pd\n",
    "import requests\n",
    "from tqdm import tqdm"
   ]
  },
  {
   "cell_type": "code",
   "execution_count": null,
   "metadata": {},
   "outputs": [],
   "source": [
    "# Set up the directory for lookin in\n",
    "old_dir = \"/gws/nopw/j04/canari/users/benhutch/dcppA-hindcast/data/psl/CNRM-ESM2-1/\"\n",
    "\n",
    "# Set up the target directory\n",
    "target_dir = \"/gws/nopw/j04/canari/users/benhutch/dcppA-hindcast/psl/CNRM-ESM2-1/\"\n",
    "\n",
    "# If the target directory does not exist, create it\n",
    "if not os.path.exists(target_dir):\n",
    "    os.makedirs(target_dir)"
   ]
  },
  {
   "cell_type": "code",
   "execution_count": null,
   "metadata": {},
   "outputs": [],
   "source": [
    "# MOve all of the files from the old directory to the target directory\n",
    "# But only if they are not already in the target directory\n",
    "for file in tqdm(glob.glob(old_dir + \"*.nc\")):\n",
    "    if not os.path.exists(target_dir + os.path.basename(file)):\n",
    "        os.rename(file, target_dir + os.path.basename(file))"
   ]
  },
  {
   "cell_type": "code",
   "execution_count": null,
   "metadata": {},
   "outputs": [],
   "source": [
    "\n",
    "\n",
    "# First an dlast years\n",
    "first_year = 1960\n",
    "last_year = 2018\n",
    "\n",
    "# Set the number of ensemble members\n",
    "nens = 10\n",
    "\n",
    "# Set up an empty list for sub_exp_ids\n",
    "sub_exp_ids = []\n",
    "\n",
    "# Loop over the years\n",
    "for year in range(first_year, last_year + 1):\n",
    "    print(\"Year: \" + str(year))\n",
    "    \n",
    "    # Verify that there are 20 files containing s{year} in the directory\n",
    "    # Set up the directory\n",
    "    files = os.listdir(old_dir)\n",
    "\n",
    "    # Set up the filenames\n",
    "    filenames = \"*s\" + str(year) + \"*.nc\"\n",
    "\n",
    "    # Check that there are 20 files\n",
    "    matching_files = glob.glob(old_dir + filenames)\n",
    "\n",
    "    # Assert that the size of each of the matching files is greater than\n",
    "    # 1,000,000 bytes 5,435,328\n",
    "    for file in matching_files:\n",
    "        if os.path.getsize(file) < 1000000:\n",
    "\n",
    "            # If the str s{year} is not already in the list, add it\n",
    "            if f\"s{year}\" not in sub_exp_ids:\n",
    "                sub_exp_ids.append(f\"s{year}\")\n",
    "\n",
    "            print(\"File for year \" + str(year) + \" is too small\")\n",
    "\n",
    "            continue\n",
    "\n",
    "    # Assert that there are 20 files\n",
    "    if len(matching_files) != nens:\n",
    "        \n",
    "        # If the str s{year} is not already in the list, add it\n",
    "        if f\"s{year}\" not in sub_exp_ids:\n",
    "            sub_exp_ids.append(f\"s{year}\")\n",
    "\n",
    "        print(\"There are not 20 files for year \" + str(year))\n",
    "        continue"
   ]
  },
  {
   "cell_type": "code",
   "execution_count": null,
   "metadata": {},
   "outputs": [],
   "source": [
    "print(len(sub_exp_ids))\n",
    "\n",
    "print(sub_exp_ids)"
   ]
  },
  {
   "cell_type": "code",
   "execution_count": null,
   "metadata": {},
   "outputs": [],
   "source": [
    "sub_exp_ids = [\"1961\", \"s1981\", \"s1982\", \"s1983\", \"s2003\", \"s2007\"]\n",
    "\n",
    "sub_exp_ids_ipsl = [\"s1961\", \"s1974\", \"s1981\", \"s1983\", \"s1996\", \"s2001\", \"s2003\", \"s2011\" ]\n",
    "\n",
    "sub_exp_ids_norcpm1 = [\"s1974\", \"s1981\", \"s1983\", \"s1985\", \"s1996\", \"s2000\", \"s2001\", \"s2003\", \"s2011\"]"
   ]
  }
 ],
 "metadata": {
  "kernelspec": {
   "display_name": "Python 3",
   "language": "python",
   "name": "python3"
  },
  "language_info": {
   "codemirror_mode": {
    "name": "ipython",
    "version": 3
   },
   "file_extension": ".py",
   "mimetype": "text/x-python",
   "name": "python",
   "nbconvert_exporter": "python",
   "pygments_lexer": "ipython3",
   "version": "3.10.5"
  }
 },
 "nbformat": 4,
 "nbformat_minor": 2
}
