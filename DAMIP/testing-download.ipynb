{
 "cells": [
  {
   "cell_type": "code",
   "execution_count": 1,
   "metadata": {},
   "outputs": [],
   "source": [
    "# Testing the downloading data method from:\n",
    "# https://claut.gitlab.io/man_ccia/lab2.html\n",
    "# Import the required modules\n",
    "from pyesgf.search import SearchConnection\n",
    "import os\n",
    "import pandas as pd\n",
    "import requests\n",
    "from tqdm import tqdm\n",
    "\n",
    "# Set the os environment to on\n",
    "os.environ['ESGF_PYCLIENT_NO_FACETS_STAR_WARNING'] = \"on\""
   ]
  },
  {
   "cell_type": "code",
   "execution_count": 2,
   "metadata": {},
   "outputs": [
    {
     "ename": "ImportError",
     "evalue": "cannot import name 'list' from 'typing' (/apps/jasmin/jaspy/miniconda_envs/jaspy3.10/m3-4.9.2/envs/jaspy3.10-m3-4.9.2-r20220721/lib/python3.10/typing.py)",
     "output_type": "error",
     "traceback": [
      "\u001b[0;31m---------------------------------------------------------------------------\u001b[0m",
      "\u001b[0;31mImportError\u001b[0m                               Traceback (most recent call last)",
      "\u001b[1;32m/home/users/benhutch/downloading-data/DAMIP/testing-download.ipynb Cell 2\u001b[0m line \u001b[0;36m<cell line: 2>\u001b[0;34m()\u001b[0m\n\u001b[1;32m      <a href='vscode-notebook-cell://ssh-remote%2Bsci3/home/users/benhutch/downloading-data/DAMIP/testing-download.ipynb#W1sdnNjb2RlLXJlbW90ZQ%3D%3D?line=0'>1</a>\u001b[0m \u001b[39m# Import the functions\u001b[39;00m\n\u001b[0;32m----> <a href='vscode-notebook-cell://ssh-remote%2Bsci3/home/users/benhutch/downloading-data/DAMIP/testing-download.ipynb#W1sdnNjb2RlLXJlbW90ZQ%3D%3D?line=1'>2</a>\u001b[0m \u001b[39mfrom\u001b[39;00m \u001b[39mtesting_download_functions\u001b[39;00m \u001b[39mimport\u001b[39;00m query_data_esgf, extract_file_context, \\\n\u001b[1;32m      <a href='vscode-notebook-cell://ssh-remote%2Bsci3/home/users/benhutch/downloading-data/DAMIP/testing-download.ipynb#W1sdnNjb2RlLXJlbW90ZQ%3D%3D?line=2'>3</a>\u001b[0m                                         download_file\n",
      "File \u001b[0;32m~/downloading-data/DAMIP/testing_download_functions.py:7\u001b[0m, in \u001b[0;36m<module>\u001b[0;34m\u001b[0m\n\u001b[1;32m      5\u001b[0m \u001b[39mimport\u001b[39;00m \u001b[39mrequests\u001b[39;00m\n\u001b[1;32m      6\u001b[0m \u001b[39mfrom\u001b[39;00m \u001b[39mtqdm\u001b[39;00m \u001b[39mimport\u001b[39;00m tqdm\n\u001b[0;32m----> 7\u001b[0m \u001b[39mfrom\u001b[39;00m \u001b[39mtyping\u001b[39;00m \u001b[39mimport\u001b[39;00m List, Dict, Union, \u001b[39mlist\u001b[39m\n\u001b[1;32m      8\u001b[0m \u001b[39mfrom\u001b[39;00m \u001b[39mpyesgf\u001b[39;00m\u001b[39m.\u001b[39;00m\u001b[39msearch\u001b[39;00m \u001b[39mimport\u001b[39;00m ResultSet\n\u001b[1;32m     10\u001b[0m \u001b[39m# Set the environment variables\u001b[39;00m\n",
      "\u001b[0;31mImportError\u001b[0m: cannot import name 'list' from 'typing' (/apps/jasmin/jaspy/miniconda_envs/jaspy3.10/m3-4.9.2/envs/jaspy3.10-m3-4.9.2-r20220721/lib/python3.10/typing.py)"
     ]
    }
   ],
   "source": [
    "# Import the functions\n",
    "from testing_download_functions import query_data_esgf, extract_file_context, \\\n",
    "                                        download_file"
   ]
  },
  {
   "cell_type": "code",
   "execution_count": null,
   "metadata": {},
   "outputs": [],
   "source": [
    "# set the search connection\n",
    "# to the LLNL search node\n",
    "conn = SearchConnection('https://esgf-node.llnl.gov/esg-search', distrib=True)"
   ]
  },
  {
   "cell_type": "code",
   "execution_count": null,
   "metadata": {},
   "outputs": [
    {
     "name": "stdout",
     "output_type": "stream",
     "text": [
      "<class 'pyesgf.search.connection.SearchConnection'>\n"
     ]
    }
   ],
   "source": [
    "print(type(conn))"
   ]
  },
  {
   "cell_type": "code",
   "execution_count": null,
   "metadata": {},
   "outputs": [
    {
     "name": "stdout",
     "output_type": "stream",
     "text": [
      "5\n",
      "<class 'pyesgf.search.results.ResultSet'>\n",
      "<pyesgf.search.results.ResultSet object at 0x7f0a71eff9a0>\n"
     ]
    }
   ],
   "source": [
    "# test the function for querying the database\n",
    "results = query_data_esgf(conn,\n",
    "                        source_id='CanESM5',\n",
    "                        experiment_id='hist-aer',\n",
    "                        variable_id='tas',\n",
    "                        table_id='Amon',\n",
    "                        member_id='r1i1p1f1, r2i1p1f1',\n",
    "                        data_node='crd-esgf-drc.ec.gc.ca',)\n",
    "\n",
    "# print the len of the results\n",
    "print(len(results))\n",
    "\n",
    "# print the type of the results\n",
    "print(type(results))\n",
    "\n",
    "# print the results\n",
    "print(results)"
   ]
  },
  {
   "cell_type": "code",
   "execution_count": null,
   "metadata": {},
   "outputs": [
    {
     "name": "stdout",
     "output_type": "stream",
     "text": [
      "CMIP6.DAMIP.CCCma.CanESM5.hist-aer.r1i1p1f1.Amon.tas.gn.v20190429|crd-esgf-drc.ec.gc.ca\n"
     ]
    }
   ],
   "source": [
    "# Print the details of the first result\n",
    "print(results[0].json['id'])"
   ]
  },
  {
   "cell_type": "code",
   "execution_count": null,
   "metadata": {},
   "outputs": [
    {
     "name": "stdout",
     "output_type": "stream",
     "text": [
      "Extracting file context for 5 datasets...\n",
      "[{'filename': 'tas_Amon_CanESM5_hist-aer_r1i1p1f1_gn_185001-202012.nc', 'url': 'http://crd-esgf-drc.ec.gc.ca/thredds/fileServer/esgE_dataroot/AR6/CMIP6/DAMIP/CCCma/CanESM5/hist-aer/r1i1p1f1/Amon/tas/gn/v20190429/tas_Amon_CanESM5_hist-aer_r1i1p1f1_gn_185001-202012.nc'}, {'filename': 'tas_Amon_CanESM5_hist-aer_r4i1p1f1_gn_185001-202012.nc', 'url': 'http://crd-esgf-drc.ec.gc.ca/thredds/fileServer/esgE_dataroot/AR6/CMIP6/DAMIP/CCCma/CanESM5/hist-aer/r4i1p1f1/Amon/tas/gn/v20190429/tas_Amon_CanESM5_hist-aer_r4i1p1f1_gn_185001-202012.nc'}, {'filename': 'tas_Amon_CanESM5_hist-aer_r2i1p1f1_gn_185001-202012.nc', 'url': 'http://crd-esgf-drc.ec.gc.ca/thredds/fileServer/esgE_dataroot/AR6/CMIP6/DAMIP/CCCma/CanESM5/hist-aer/r2i1p1f1/Amon/tas/gn/v20190429/tas_Amon_CanESM5_hist-aer_r2i1p1f1_gn_185001-202012.nc'}, {'filename': 'tas_Amon_CanESM5_hist-aer_r5i1p1f1_gn_185001-202012.nc', 'url': 'http://crd-esgf-drc.ec.gc.ca/thredds/fileServer/esgE_dataroot/AR6/CMIP6/DAMIP/CCCma/CanESM5/hist-aer/r5i1p1f1/Amon/tas/gn/v20190429/tas_Amon_CanESM5_hist-aer_r5i1p1f1_gn_185001-202012.nc'}, {'filename': 'tas_Amon_CanESM5_hist-aer_r3i1p1f1_gn_185001-202012.nc', 'url': 'http://crd-esgf-drc.ec.gc.ca/thredds/fileServer/esgE_dataroot/AR6/CMIP6/DAMIP/CCCma/CanESM5/hist-aer/r3i1p1f1/Amon/tas/gn/v20190429/tas_Amon_CanESM5_hist-aer_r3i1p1f1_gn_185001-202012.nc'}]\n"
     ]
    }
   ],
   "source": [
    "# Use the function to extract the file context\n",
    "files_list = extract_file_context(results)\n",
    "\n",
    "# print the files list\n",
    "print(files_list)"
   ]
  },
  {
   "cell_type": "code",
   "execution_count": null,
   "metadata": {},
   "outputs": [
    {
     "name": "stdout",
     "output_type": "stream",
     "text": [
      "<class 'list'>\n"
     ]
    }
   ],
   "source": [
    "# Print the type of the files list\n",
    "print(type(files_list))\n",
    "\n",
    "# Extract this into a dataframe\n",
    "files_df = pd.DataFrame.from_dict(files_list)\n",
    "files_df\n",
    "\n",
    "# Assert that all filenames contrain the string \"185001\" and \"202012\"\n",
    "assert all(files_df['filename'].str.contains('185001')), \"Not all filenames contain the string 185001\"\n",
    "assert all(files_df['filename'].str.contains('202012')), \"Not all filenames contain the string 202012\""
   ]
  },
  {
   "cell_type": "code",
   "execution_count": null,
   "metadata": {},
   "outputs": [],
   "source": [
    "# Use the download function to download a single file\n",
    "download_file(files_df['url'][0], files_df['filename'][0])"
   ]
  }
 ],
 "metadata": {
  "kernelspec": {
   "display_name": "Python 3",
   "language": "python",
   "name": "python3"
  },
  "language_info": {
   "codemirror_mode": {
    "name": "ipython",
    "version": 3
   },
   "file_extension": ".py",
   "mimetype": "text/x-python",
   "name": "python",
   "nbconvert_exporter": "python",
   "pygments_lexer": "ipython3",
   "version": "3.10.5"
  }
 },
 "nbformat": 4,
 "nbformat_minor": 2
}
