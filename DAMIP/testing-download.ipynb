{
 "cells": [
  {
   "cell_type": "code",
   "execution_count": 1,
   "metadata": {},
   "outputs": [],
   "source": [
    "# Testing the downloading data method from:\n",
    "# https://claut.gitlab.io/man_ccia/lab2.html\n",
    "# Import the required modules\n",
    "from pyesgf.search import SearchConnection\n",
    "import os\n",
    "import sys\n",
    "import importlib\n",
    "import pandas as pd\n",
    "import requests\n",
    "from tqdm import tqdm\n",
    "\n",
    "# Set the os environment to on\n",
    "os.environ['ESGF_PYCLIENT_NO_FACETS_STAR_WARNING'] = \"on\""
   ]
  },
  {
   "cell_type": "code",
   "execution_count": 2,
   "metadata": {},
   "outputs": [],
   "source": [
    "# Import the functions\n",
    "from testing_download_functions import query_data_esgf, extract_file_context, \\\n",
    "                                        download_file, extract_file_context_multithread, \\\n",
    "                                        check_file_exists_jasmin, query_models_esgf"
   ]
  },
  {
   "cell_type": "code",
   "execution_count": 3,
   "metadata": {},
   "outputs": [],
   "source": [
    "# Import the functions again\n",
    "# import the functions\n",
    "_ = importlib.reload(sys.modules['testing_download_functions'])\n",
    "\n",
    "# Import the functions\n",
    "from testing_download_functions import query_data_esgf, extract_file_context, \\\n",
    "                                        download_file, extract_file_context_multithread, \\\n",
    "                                        check_file_exists_jasmin, query_models_esgf, find_valid_nodes"
   ]
  },
  {
   "cell_type": "code",
   "execution_count": 4,
   "metadata": {},
   "outputs": [],
   "source": [
    "# set the search connection\n",
    "# to the LLNL search node\n",
    "conn = SearchConnection('https://esgf-node.llnl.gov/esg-search', distrib=True)"
   ]
  },
  {
   "cell_type": "code",
   "execution_count": 5,
   "metadata": {},
   "outputs": [],
   "source": [
    "# Find the models which have data on the esgf node for the following constraints\n",
    "# The constraints are:\n",
    "experiment_id = 'dcppA-hindcast'\n",
    "latest = True\n",
    "variable_id = 'rsds'\n",
    "project = 'CMIP6'\n",
    "table_id = 'Amon'\n",
    "activity_id = 'DCPP'\n",
    "sub_experiment_id = 's1961'"
   ]
  },
  {
   "cell_type": "code",
   "execution_count": 6,
   "metadata": {},
   "outputs": [
    {
     "name": "stdout",
     "output_type": "stream",
     "text": [
      "Found 473 results.\n",
      "{'HadGEM3-GC31-MM', 'BCC-CSM2-MR', 'NorCPM1', 'EC-Earth3', 'MRI-ESM2-0', 'MIROC6', 'FGOALS-f3-L', 'CanESM5', 'MPI-ESM1-2-HR', 'CESM1-1-CAM5-CMIP5', 'CMCC-CM2-SR5', 'IPSL-CM6A-LR'}\n"
     ]
    }
   ],
   "source": [
    "# Test the function which does the same as below\n",
    "models_list = query_models_esgf(experiment_id=experiment_id,\n",
    "                                variable_id=variable_id,\n",
    "                                table_id=table_id,\n",
    "                                activity_id=activity_id,\n",
    "                                connection=conn,\n",
    "                                latest=latest,\n",
    "                                project=project,\n",
    "                                sub_experiment_id=sub_experiment_id)\n",
    "\n",
    "# Print the models list\n",
    "print(models_list)"
   ]
  },
  {
   "cell_type": "code",
   "execution_count": 7,
   "metadata": {},
   "outputs": [
    {
     "name": "stdout",
     "output_type": "stream",
     "text": [
      "27769\n"
     ]
    },
    {
     "ename": "KeyboardInterrupt",
     "evalue": "",
     "output_type": "error",
     "traceback": [
      "\u001b[0;31m---------------------------------------------------------------------------\u001b[0m",
      "\u001b[0;31mKeyboardInterrupt\u001b[0m                         Traceback (most recent call last)",
      "\u001b[1;32m/home/users/benhutch/downloading-data/DAMIP/testing-download.ipynb Cell 7\u001b[0m line \u001b[0;36m<cell line: 23>\u001b[0;34m()\u001b[0m\n\u001b[1;32m     <a href='vscode-notebook-cell://ssh-remote%2Bsci3/home/users/benhutch/downloading-data/DAMIP/testing-download.ipynb#W6sdnNjb2RlLXJlbW90ZQ%3D%3D?line=16'>17</a>\u001b[0m \u001b[39mprint\u001b[39m(\u001b[39mlen\u001b[39m(results))\n\u001b[1;32m     <a href='vscode-notebook-cell://ssh-remote%2Bsci3/home/users/benhutch/downloading-data/DAMIP/testing-download.ipynb#W6sdnNjb2RlLXJlbW90ZQ%3D%3D?line=18'>19</a>\u001b[0m \u001b[39m# Python\u001b[39;00m\n\u001b[1;32m     <a href='vscode-notebook-cell://ssh-remote%2Bsci3/home/users/benhutch/downloading-data/DAMIP/testing-download.ipynb#W6sdnNjb2RlLXJlbW90ZQ%3D%3D?line=19'>20</a>\u001b[0m \u001b[39m# Form a list of the unique 'source_id' values from the results\u001b[39;00m\n\u001b[1;32m     <a href='vscode-notebook-cell://ssh-remote%2Bsci3/home/users/benhutch/downloading-data/DAMIP/testing-download.ipynb#W6sdnNjb2RlLXJlbW90ZQ%3D%3D?line=20'>21</a>\u001b[0m \u001b[39m# Python\u001b[39;00m\n\u001b[1;32m     <a href='vscode-notebook-cell://ssh-remote%2Bsci3/home/users/benhutch/downloading-data/DAMIP/testing-download.ipynb#W6sdnNjb2RlLXJlbW90ZQ%3D%3D?line=21'>22</a>\u001b[0m \u001b[39m# Form a set of the unique 'source_id' values from the results\u001b[39;00m\n\u001b[0;32m---> <a href='vscode-notebook-cell://ssh-remote%2Bsci3/home/users/benhutch/downloading-data/DAMIP/testing-download.ipynb#W6sdnNjb2RlLXJlbW90ZQ%3D%3D?line=22'>23</a>\u001b[0m source_id_set \u001b[39m=\u001b[39m \u001b[39mset\u001b[39;49m(\u001b[39mid\u001b[39;49m \u001b[39mfor\u001b[39;49;00m result \u001b[39min\u001b[39;49;00m results \u001b[39mfor\u001b[39;49;00m \u001b[39mid\u001b[39;49m \u001b[39min\u001b[39;49;00m result\u001b[39m.\u001b[39;49mjson[\u001b[39m'\u001b[39;49m\u001b[39msource_id\u001b[39;49m\u001b[39m'\u001b[39;49m])\n\u001b[1;32m     <a href='vscode-notebook-cell://ssh-remote%2Bsci3/home/users/benhutch/downloading-data/DAMIP/testing-download.ipynb#W6sdnNjb2RlLXJlbW90ZQ%3D%3D?line=24'>25</a>\u001b[0m \u001b[39m# Print the set\u001b[39;00m\n\u001b[1;32m     <a href='vscode-notebook-cell://ssh-remote%2Bsci3/home/users/benhutch/downloading-data/DAMIP/testing-download.ipynb#W6sdnNjb2RlLXJlbW90ZQ%3D%3D?line=25'>26</a>\u001b[0m \u001b[39mprint\u001b[39m(source_id_set)\n",
      "\u001b[1;32m/home/users/benhutch/downloading-data/DAMIP/testing-download.ipynb Cell 7\u001b[0m line \u001b[0;36m<genexpr>\u001b[0;34m(.0)\u001b[0m\n\u001b[1;32m     <a href='vscode-notebook-cell://ssh-remote%2Bsci3/home/users/benhutch/downloading-data/DAMIP/testing-download.ipynb#W6sdnNjb2RlLXJlbW90ZQ%3D%3D?line=16'>17</a>\u001b[0m \u001b[39mprint\u001b[39m(\u001b[39mlen\u001b[39m(results))\n\u001b[1;32m     <a href='vscode-notebook-cell://ssh-remote%2Bsci3/home/users/benhutch/downloading-data/DAMIP/testing-download.ipynb#W6sdnNjb2RlLXJlbW90ZQ%3D%3D?line=18'>19</a>\u001b[0m \u001b[39m# Python\u001b[39;00m\n\u001b[1;32m     <a href='vscode-notebook-cell://ssh-remote%2Bsci3/home/users/benhutch/downloading-data/DAMIP/testing-download.ipynb#W6sdnNjb2RlLXJlbW90ZQ%3D%3D?line=19'>20</a>\u001b[0m \u001b[39m# Form a list of the unique 'source_id' values from the results\u001b[39;00m\n\u001b[1;32m     <a href='vscode-notebook-cell://ssh-remote%2Bsci3/home/users/benhutch/downloading-data/DAMIP/testing-download.ipynb#W6sdnNjb2RlLXJlbW90ZQ%3D%3D?line=20'>21</a>\u001b[0m \u001b[39m# Python\u001b[39;00m\n\u001b[1;32m     <a href='vscode-notebook-cell://ssh-remote%2Bsci3/home/users/benhutch/downloading-data/DAMIP/testing-download.ipynb#W6sdnNjb2RlLXJlbW90ZQ%3D%3D?line=21'>22</a>\u001b[0m \u001b[39m# Form a set of the unique 'source_id' values from the results\u001b[39;00m\n\u001b[0;32m---> <a href='vscode-notebook-cell://ssh-remote%2Bsci3/home/users/benhutch/downloading-data/DAMIP/testing-download.ipynb#W6sdnNjb2RlLXJlbW90ZQ%3D%3D?line=22'>23</a>\u001b[0m source_id_set \u001b[39m=\u001b[39m \u001b[39mset\u001b[39m(\u001b[39mid\u001b[39m \u001b[39mfor\u001b[39;00m result \u001b[39min\u001b[39;00m results \u001b[39mfor\u001b[39;00m \u001b[39mid\u001b[39m \u001b[39min\u001b[39;00m result\u001b[39m.\u001b[39mjson[\u001b[39m'\u001b[39m\u001b[39msource_id\u001b[39m\u001b[39m'\u001b[39m])\n\u001b[1;32m     <a href='vscode-notebook-cell://ssh-remote%2Bsci3/home/users/benhutch/downloading-data/DAMIP/testing-download.ipynb#W6sdnNjb2RlLXJlbW90ZQ%3D%3D?line=24'>25</a>\u001b[0m \u001b[39m# Print the set\u001b[39;00m\n\u001b[1;32m     <a href='vscode-notebook-cell://ssh-remote%2Bsci3/home/users/benhutch/downloading-data/DAMIP/testing-download.ipynb#W6sdnNjb2RlLXJlbW90ZQ%3D%3D?line=25'>26</a>\u001b[0m \u001b[39mprint\u001b[39m(source_id_set)\n",
      "File \u001b[0;32m/apps/jasmin/jaspy/miniconda_envs/jaspy3.10/m3-4.9.2/envs/jaspy3.10-m3-4.9.2-r20220721/lib/python3.10/_collections_abc.py:1038\u001b[0m, in \u001b[0;36mSequence.__iter__\u001b[0;34m(self)\u001b[0m\n\u001b[1;32m   1036\u001b[0m \u001b[39mtry\u001b[39;00m:\n\u001b[1;32m   1037\u001b[0m     \u001b[39mwhile\u001b[39;00m \u001b[39mTrue\u001b[39;00m:\n\u001b[0;32m-> 1038\u001b[0m         v \u001b[39m=\u001b[39m \u001b[39mself\u001b[39;49m[i]\n\u001b[1;32m   1039\u001b[0m         \u001b[39myield\u001b[39;00m v\n\u001b[1;32m   1040\u001b[0m         i \u001b[39m+\u001b[39m\u001b[39m=\u001b[39m \u001b[39m1\u001b[39m\n",
      "File \u001b[0;32m/apps/jasmin/jaspy/miniconda_envs/jaspy3.10/m3-4.9.2/envs/jaspy3.10-m3-4.9.2-r20220721/lib/python3.10/site-packages/pyesgf/search/results.py:47\u001b[0m, in \u001b[0;36mResultSet.__getitem__\u001b[0;34m(self, index)\u001b[0m\n\u001b[1;32m     45\u001b[0m batch_i \u001b[39m=\u001b[39m index \u001b[39m/\u001b[39m\u001b[39m/\u001b[39m \u001b[39mself\u001b[39m\u001b[39m.\u001b[39mbatch_size\n\u001b[1;32m     46\u001b[0m offset \u001b[39m=\u001b[39m index \u001b[39m%\u001b[39m \u001b[39mself\u001b[39m\u001b[39m.\u001b[39mbatch_size\n\u001b[0;32m---> 47\u001b[0m batch \u001b[39m=\u001b[39m \u001b[39mself\u001b[39;49m\u001b[39m.\u001b[39;49m__get_batch(batch_i)\n\u001b[1;32m     49\u001b[0m search_type \u001b[39m=\u001b[39m \u001b[39mself\u001b[39m\u001b[39m.\u001b[39mcontext\u001b[39m.\u001b[39msearch_type\n\u001b[1;32m     50\u001b[0m ResultClass \u001b[39m=\u001b[39m _result_classes[search_type]\n",
      "File \u001b[0;32m/apps/jasmin/jaspy/miniconda_envs/jaspy3.10/m3-4.9.2/envs/jaspy3.10-m3-4.9.2-r20220721/lib/python3.10/site-packages/pyesgf/search/results.py:82\u001b[0m, in \u001b[0;36mResultSet.__get_batch\u001b[0;34m(self, batch_i)\u001b[0m\n\u001b[1;32m     79\u001b[0m limit \u001b[39m=\u001b[39m \u001b[39mself\u001b[39m\u001b[39m.\u001b[39mbatch_size\n\u001b[1;32m     81\u001b[0m query_dict \u001b[39m=\u001b[39m \u001b[39mself\u001b[39m\u001b[39m.\u001b[39mcontext\u001b[39m.\u001b[39m_build_query()\n\u001b[0;32m---> 82\u001b[0m response \u001b[39m=\u001b[39m (\u001b[39mself\u001b[39;49m\u001b[39m.\u001b[39;49mcontext\u001b[39m.\u001b[39;49mconnection\n\u001b[1;32m     83\u001b[0m             \u001b[39m.\u001b[39;49msend_search(query_dict, limit\u001b[39m=\u001b[39;49mlimit, offset\u001b[39m=\u001b[39;49moffset,\n\u001b[1;32m     84\u001b[0m                          shards\u001b[39m=\u001b[39;49m\u001b[39mself\u001b[39;49m\u001b[39m.\u001b[39;49mcontext\u001b[39m.\u001b[39;49mshards))\n\u001b[1;32m     86\u001b[0m \u001b[39mif\u001b[39;00m \u001b[39mself\u001b[39m\u001b[39m.\u001b[39m__len_cache \u001b[39mis\u001b[39;00m \u001b[39mNone\u001b[39;00m:\n\u001b[1;32m     87\u001b[0m     \u001b[39mself\u001b[39m\u001b[39m.\u001b[39m__len_cache \u001b[39m=\u001b[39m response[\u001b[39m'\u001b[39m\u001b[39mresponse\u001b[39m\u001b[39m'\u001b[39m][\u001b[39m'\u001b[39m\u001b[39mnumFound\u001b[39m\u001b[39m'\u001b[39m]\n",
      "File \u001b[0;32m/apps/jasmin/jaspy/miniconda_envs/jaspy3.10/m3-4.9.2/envs/jaspy3.10-m3-4.9.2-r20220721/lib/python3.10/site-packages/pyesgf/search/connection.py:159\u001b[0m, in \u001b[0;36mSearchConnection.send_search\u001b[0;34m(self, query_dict, limit, offset, shards)\u001b[0m\n\u001b[1;32m    157\u001b[0m \u001b[39mif\u001b[39;00m \u001b[39mnot\u001b[39;00m \u001b[39mself\u001b[39m\u001b[39m.\u001b[39m_isopen:\n\u001b[1;32m    158\u001b[0m     \u001b[39mself\u001b[39m\u001b[39m.\u001b[39mopen()\n\u001b[0;32m--> 159\u001b[0m response \u001b[39m=\u001b[39m \u001b[39mself\u001b[39;49m\u001b[39m.\u001b[39;49m_send_query(\u001b[39m'\u001b[39;49m\u001b[39msearch\u001b[39;49m\u001b[39m'\u001b[39;49m, full_query)\n\u001b[1;32m    160\u001b[0m ret \u001b[39m=\u001b[39m response\u001b[39m.\u001b[39mjson()\n\u001b[1;32m    161\u001b[0m response\u001b[39m.\u001b[39mclose()\n",
      "File \u001b[0;32m/apps/jasmin/jaspy/miniconda_envs/jaspy3.10/m3-4.9.2/envs/jaspy3.10-m3-4.9.2-r20220721/lib/python3.10/site-packages/pyesgf/search/connection.py:203\u001b[0m, in \u001b[0;36mSearchConnection._send_query\u001b[0;34m(self, endpoint, full_query)\u001b[0m\n\u001b[1;32m    200\u001b[0m query_url \u001b[39m=\u001b[39m \u001b[39m'\u001b[39m\u001b[39m%s\u001b[39;00m\u001b[39m/\u001b[39m\u001b[39m%s\u001b[39;00m\u001b[39m?\u001b[39m\u001b[39m%s\u001b[39;00m\u001b[39m'\u001b[39m \u001b[39m%\u001b[39m (\u001b[39mself\u001b[39m\u001b[39m.\u001b[39murl, endpoint, urlencode(full_query))\n\u001b[1;32m    201\u001b[0m log\u001b[39m.\u001b[39mdebug(\u001b[39m'\u001b[39m\u001b[39mQuery request is \u001b[39m\u001b[39m%s\u001b[39;00m\u001b[39m'\u001b[39m \u001b[39m%\u001b[39m query_url)\n\u001b[0;32m--> 203\u001b[0m response \u001b[39m=\u001b[39m \u001b[39mself\u001b[39;49m\u001b[39m.\u001b[39;49msession\u001b[39m.\u001b[39;49mget(query_url, verify\u001b[39m=\u001b[39;49m\u001b[39mself\u001b[39;49m\u001b[39m.\u001b[39;49mverify,\n\u001b[1;32m    204\u001b[0m                             timeout\u001b[39m=\u001b[39;49m\u001b[39mself\u001b[39;49m\u001b[39m.\u001b[39;49mtimeout)\n\u001b[1;32m    205\u001b[0m \u001b[39mif\u001b[39;00m response\u001b[39m.\u001b[39mstatus_code \u001b[39m==\u001b[39m \u001b[39m400\u001b[39m:\n\u001b[1;32m    206\u001b[0m     \u001b[39m# If error code 400, use urllib to find the errors:\u001b[39;00m\n\u001b[1;32m    207\u001b[0m     errors \u001b[39m=\u001b[39m \u001b[39mset\u001b[39m(re\u001b[39m.\u001b[39mfindall(\u001b[39mr\u001b[39m\u001b[39m\"\u001b[39m\u001b[39mInvalid HTTP query parameter=(\u001b[39m\u001b[39m\\\u001b[39m\u001b[39mw+)\u001b[39m\u001b[39m\"\u001b[39m,\n\u001b[1;32m    208\u001b[0m                  response\u001b[39m.\u001b[39mtext))\n",
      "File \u001b[0;32m/apps/jasmin/jaspy/miniconda_envs/jaspy3.10/m3-4.9.2/envs/jaspy3.10-m3-4.9.2-r20220721/lib/python3.10/site-packages/requests/sessions.py:600\u001b[0m, in \u001b[0;36mSession.get\u001b[0;34m(self, url, **kwargs)\u001b[0m\n\u001b[1;32m    592\u001b[0m \u001b[39mr\u001b[39m\u001b[39m\"\"\"Sends a GET request. Returns :class:`Response` object.\u001b[39;00m\n\u001b[1;32m    593\u001b[0m \n\u001b[1;32m    594\u001b[0m \u001b[39m:param url: URL for the new :class:`Request` object.\u001b[39;00m\n\u001b[1;32m    595\u001b[0m \u001b[39m:param \\*\\*kwargs: Optional arguments that ``request`` takes.\u001b[39;00m\n\u001b[1;32m    596\u001b[0m \u001b[39m:rtype: requests.Response\u001b[39;00m\n\u001b[1;32m    597\u001b[0m \u001b[39m\"\"\"\u001b[39;00m\n\u001b[1;32m    599\u001b[0m kwargs\u001b[39m.\u001b[39msetdefault(\u001b[39m\"\u001b[39m\u001b[39mallow_redirects\u001b[39m\u001b[39m\"\u001b[39m, \u001b[39mTrue\u001b[39;00m)\n\u001b[0;32m--> 600\u001b[0m \u001b[39mreturn\u001b[39;00m \u001b[39mself\u001b[39;49m\u001b[39m.\u001b[39;49mrequest(\u001b[39m\"\u001b[39;49m\u001b[39mGET\u001b[39;49m\u001b[39m\"\u001b[39;49m, url, \u001b[39m*\u001b[39;49m\u001b[39m*\u001b[39;49mkwargs)\n",
      "File \u001b[0;32m/apps/jasmin/jaspy/miniconda_envs/jaspy3.10/m3-4.9.2/envs/jaspy3.10-m3-4.9.2-r20220721/lib/python3.10/site-packages/requests/sessions.py:587\u001b[0m, in \u001b[0;36mSession.request\u001b[0;34m(self, method, url, params, data, headers, cookies, files, auth, timeout, allow_redirects, proxies, hooks, stream, verify, cert, json)\u001b[0m\n\u001b[1;32m    582\u001b[0m send_kwargs \u001b[39m=\u001b[39m {\n\u001b[1;32m    583\u001b[0m     \u001b[39m\"\u001b[39m\u001b[39mtimeout\u001b[39m\u001b[39m\"\u001b[39m: timeout,\n\u001b[1;32m    584\u001b[0m     \u001b[39m\"\u001b[39m\u001b[39mallow_redirects\u001b[39m\u001b[39m\"\u001b[39m: allow_redirects,\n\u001b[1;32m    585\u001b[0m }\n\u001b[1;32m    586\u001b[0m send_kwargs\u001b[39m.\u001b[39mupdate(settings)\n\u001b[0;32m--> 587\u001b[0m resp \u001b[39m=\u001b[39m \u001b[39mself\u001b[39;49m\u001b[39m.\u001b[39;49msend(prep, \u001b[39m*\u001b[39;49m\u001b[39m*\u001b[39;49msend_kwargs)\n\u001b[1;32m    589\u001b[0m \u001b[39mreturn\u001b[39;00m resp\n",
      "File \u001b[0;32m/apps/jasmin/jaspy/miniconda_envs/jaspy3.10/m3-4.9.2/envs/jaspy3.10-m3-4.9.2-r20220721/lib/python3.10/site-packages/requests/sessions.py:701\u001b[0m, in \u001b[0;36mSession.send\u001b[0;34m(self, request, **kwargs)\u001b[0m\n\u001b[1;32m    698\u001b[0m start \u001b[39m=\u001b[39m preferred_clock()\n\u001b[1;32m    700\u001b[0m \u001b[39m# Send the request\u001b[39;00m\n\u001b[0;32m--> 701\u001b[0m r \u001b[39m=\u001b[39m adapter\u001b[39m.\u001b[39;49msend(request, \u001b[39m*\u001b[39;49m\u001b[39m*\u001b[39;49mkwargs)\n\u001b[1;32m    703\u001b[0m \u001b[39m# Total elapsed time of the request (approximately)\u001b[39;00m\n\u001b[1;32m    704\u001b[0m elapsed \u001b[39m=\u001b[39m preferred_clock() \u001b[39m-\u001b[39m start\n",
      "File \u001b[0;32m/apps/jasmin/jaspy/miniconda_envs/jaspy3.10/m3-4.9.2/envs/jaspy3.10-m3-4.9.2-r20220721/lib/python3.10/site-packages/requests/adapters.py:489\u001b[0m, in \u001b[0;36mHTTPAdapter.send\u001b[0;34m(self, request, stream, timeout, verify, cert, proxies)\u001b[0m\n\u001b[1;32m    487\u001b[0m \u001b[39mtry\u001b[39;00m:\n\u001b[1;32m    488\u001b[0m     \u001b[39mif\u001b[39;00m \u001b[39mnot\u001b[39;00m chunked:\n\u001b[0;32m--> 489\u001b[0m         resp \u001b[39m=\u001b[39m conn\u001b[39m.\u001b[39;49murlopen(\n\u001b[1;32m    490\u001b[0m             method\u001b[39m=\u001b[39;49mrequest\u001b[39m.\u001b[39;49mmethod,\n\u001b[1;32m    491\u001b[0m             url\u001b[39m=\u001b[39;49murl,\n\u001b[1;32m    492\u001b[0m             body\u001b[39m=\u001b[39;49mrequest\u001b[39m.\u001b[39;49mbody,\n\u001b[1;32m    493\u001b[0m             headers\u001b[39m=\u001b[39;49mrequest\u001b[39m.\u001b[39;49mheaders,\n\u001b[1;32m    494\u001b[0m             redirect\u001b[39m=\u001b[39;49m\u001b[39mFalse\u001b[39;49;00m,\n\u001b[1;32m    495\u001b[0m             assert_same_host\u001b[39m=\u001b[39;49m\u001b[39mFalse\u001b[39;49;00m,\n\u001b[1;32m    496\u001b[0m             preload_content\u001b[39m=\u001b[39;49m\u001b[39mFalse\u001b[39;49;00m,\n\u001b[1;32m    497\u001b[0m             decode_content\u001b[39m=\u001b[39;49m\u001b[39mFalse\u001b[39;49;00m,\n\u001b[1;32m    498\u001b[0m             retries\u001b[39m=\u001b[39;49m\u001b[39mself\u001b[39;49m\u001b[39m.\u001b[39;49mmax_retries,\n\u001b[1;32m    499\u001b[0m             timeout\u001b[39m=\u001b[39;49mtimeout,\n\u001b[1;32m    500\u001b[0m         )\n\u001b[1;32m    502\u001b[0m     \u001b[39m# Send the request.\u001b[39;00m\n\u001b[1;32m    503\u001b[0m     \u001b[39melse\u001b[39;00m:\n\u001b[1;32m    504\u001b[0m         \u001b[39mif\u001b[39;00m \u001b[39mhasattr\u001b[39m(conn, \u001b[39m\"\u001b[39m\u001b[39mproxy_pool\u001b[39m\u001b[39m\"\u001b[39m):\n",
      "File \u001b[0;32m/apps/jasmin/jaspy/miniconda_envs/jaspy3.10/m3-4.9.2/envs/jaspy3.10-m3-4.9.2-r20220721/lib/python3.10/site-packages/urllib3/connectionpool.py:703\u001b[0m, in \u001b[0;36mHTTPConnectionPool.urlopen\u001b[0;34m(self, method, url, body, headers, retries, redirect, assert_same_host, timeout, pool_timeout, release_conn, chunked, body_pos, **response_kw)\u001b[0m\n\u001b[1;32m    700\u001b[0m     \u001b[39mself\u001b[39m\u001b[39m.\u001b[39m_prepare_proxy(conn)\n\u001b[1;32m    702\u001b[0m \u001b[39m# Make the request on the httplib connection object.\u001b[39;00m\n\u001b[0;32m--> 703\u001b[0m httplib_response \u001b[39m=\u001b[39m \u001b[39mself\u001b[39;49m\u001b[39m.\u001b[39;49m_make_request(\n\u001b[1;32m    704\u001b[0m     conn,\n\u001b[1;32m    705\u001b[0m     method,\n\u001b[1;32m    706\u001b[0m     url,\n\u001b[1;32m    707\u001b[0m     timeout\u001b[39m=\u001b[39;49mtimeout_obj,\n\u001b[1;32m    708\u001b[0m     body\u001b[39m=\u001b[39;49mbody,\n\u001b[1;32m    709\u001b[0m     headers\u001b[39m=\u001b[39;49mheaders,\n\u001b[1;32m    710\u001b[0m     chunked\u001b[39m=\u001b[39;49mchunked,\n\u001b[1;32m    711\u001b[0m )\n\u001b[1;32m    713\u001b[0m \u001b[39m# If we're going to release the connection in ``finally:``, then\u001b[39;00m\n\u001b[1;32m    714\u001b[0m \u001b[39m# the response doesn't need to know about the connection. Otherwise\u001b[39;00m\n\u001b[1;32m    715\u001b[0m \u001b[39m# it will also try to release it and we'll have a double-release\u001b[39;00m\n\u001b[1;32m    716\u001b[0m \u001b[39m# mess.\u001b[39;00m\n\u001b[1;32m    717\u001b[0m response_conn \u001b[39m=\u001b[39m conn \u001b[39mif\u001b[39;00m \u001b[39mnot\u001b[39;00m release_conn \u001b[39melse\u001b[39;00m \u001b[39mNone\u001b[39;00m\n",
      "File \u001b[0;32m/apps/jasmin/jaspy/miniconda_envs/jaspy3.10/m3-4.9.2/envs/jaspy3.10-m3-4.9.2-r20220721/lib/python3.10/site-packages/urllib3/connectionpool.py:386\u001b[0m, in \u001b[0;36mHTTPConnectionPool._make_request\u001b[0;34m(self, conn, method, url, timeout, chunked, **httplib_request_kw)\u001b[0m\n\u001b[1;32m    384\u001b[0m \u001b[39m# Trigger any extra validation we need to do.\u001b[39;00m\n\u001b[1;32m    385\u001b[0m \u001b[39mtry\u001b[39;00m:\n\u001b[0;32m--> 386\u001b[0m     \u001b[39mself\u001b[39;49m\u001b[39m.\u001b[39;49m_validate_conn(conn)\n\u001b[1;32m    387\u001b[0m \u001b[39mexcept\u001b[39;00m (SocketTimeout, BaseSSLError) \u001b[39mas\u001b[39;00m e:\n\u001b[1;32m    388\u001b[0m     \u001b[39m# Py2 raises this as a BaseSSLError, Py3 raises it as socket timeout.\u001b[39;00m\n\u001b[1;32m    389\u001b[0m     \u001b[39mself\u001b[39m\u001b[39m.\u001b[39m_raise_timeout(err\u001b[39m=\u001b[39me, url\u001b[39m=\u001b[39murl, timeout_value\u001b[39m=\u001b[39mconn\u001b[39m.\u001b[39mtimeout)\n",
      "File \u001b[0;32m/apps/jasmin/jaspy/miniconda_envs/jaspy3.10/m3-4.9.2/envs/jaspy3.10-m3-4.9.2-r20220721/lib/python3.10/site-packages/urllib3/connectionpool.py:1042\u001b[0m, in \u001b[0;36mHTTPSConnectionPool._validate_conn\u001b[0;34m(self, conn)\u001b[0m\n\u001b[1;32m   1040\u001b[0m \u001b[39m# Force connect early to allow us to validate the connection.\u001b[39;00m\n\u001b[1;32m   1041\u001b[0m \u001b[39mif\u001b[39;00m \u001b[39mnot\u001b[39;00m \u001b[39mgetattr\u001b[39m(conn, \u001b[39m\"\u001b[39m\u001b[39msock\u001b[39m\u001b[39m\"\u001b[39m, \u001b[39mNone\u001b[39;00m):  \u001b[39m# AppEngine might not have  `.sock`\u001b[39;00m\n\u001b[0;32m-> 1042\u001b[0m     conn\u001b[39m.\u001b[39;49mconnect()\n\u001b[1;32m   1044\u001b[0m \u001b[39mif\u001b[39;00m \u001b[39mnot\u001b[39;00m conn\u001b[39m.\u001b[39mis_verified:\n\u001b[1;32m   1045\u001b[0m     warnings\u001b[39m.\u001b[39mwarn(\n\u001b[1;32m   1046\u001b[0m         (\n\u001b[1;32m   1047\u001b[0m             \u001b[39m\"\u001b[39m\u001b[39mUnverified HTTPS request is being made to host \u001b[39m\u001b[39m'\u001b[39m\u001b[39m%s\u001b[39;00m\u001b[39m'\u001b[39m\u001b[39m. \u001b[39m\u001b[39m\"\u001b[39m\n\u001b[0;32m   (...)\u001b[0m\n\u001b[1;32m   1052\u001b[0m         InsecureRequestWarning,\n\u001b[1;32m   1053\u001b[0m     )\n",
      "File \u001b[0;32m/apps/jasmin/jaspy/miniconda_envs/jaspy3.10/m3-4.9.2/envs/jaspy3.10-m3-4.9.2-r20220721/lib/python3.10/site-packages/urllib3/connection.py:414\u001b[0m, in \u001b[0;36mHTTPSConnection.connect\u001b[0;34m(self)\u001b[0m\n\u001b[1;32m    405\u001b[0m \u001b[39mif\u001b[39;00m (\n\u001b[1;32m    406\u001b[0m     \u001b[39mnot\u001b[39;00m \u001b[39mself\u001b[39m\u001b[39m.\u001b[39mca_certs\n\u001b[1;32m    407\u001b[0m     \u001b[39mand\u001b[39;00m \u001b[39mnot\u001b[39;00m \u001b[39mself\u001b[39m\u001b[39m.\u001b[39mca_cert_dir\n\u001b[0;32m   (...)\u001b[0m\n\u001b[1;32m    410\u001b[0m     \u001b[39mand\u001b[39;00m \u001b[39mhasattr\u001b[39m(context, \u001b[39m\"\u001b[39m\u001b[39mload_default_certs\u001b[39m\u001b[39m\"\u001b[39m)\n\u001b[1;32m    411\u001b[0m ):\n\u001b[1;32m    412\u001b[0m     context\u001b[39m.\u001b[39mload_default_certs()\n\u001b[0;32m--> 414\u001b[0m \u001b[39mself\u001b[39m\u001b[39m.\u001b[39msock \u001b[39m=\u001b[39m ssl_wrap_socket(\n\u001b[1;32m    415\u001b[0m     sock\u001b[39m=\u001b[39;49mconn,\n\u001b[1;32m    416\u001b[0m     keyfile\u001b[39m=\u001b[39;49m\u001b[39mself\u001b[39;49m\u001b[39m.\u001b[39;49mkey_file,\n\u001b[1;32m    417\u001b[0m     certfile\u001b[39m=\u001b[39;49m\u001b[39mself\u001b[39;49m\u001b[39m.\u001b[39;49mcert_file,\n\u001b[1;32m    418\u001b[0m     key_password\u001b[39m=\u001b[39;49m\u001b[39mself\u001b[39;49m\u001b[39m.\u001b[39;49mkey_password,\n\u001b[1;32m    419\u001b[0m     ca_certs\u001b[39m=\u001b[39;49m\u001b[39mself\u001b[39;49m\u001b[39m.\u001b[39;49mca_certs,\n\u001b[1;32m    420\u001b[0m     ca_cert_dir\u001b[39m=\u001b[39;49m\u001b[39mself\u001b[39;49m\u001b[39m.\u001b[39;49mca_cert_dir,\n\u001b[1;32m    421\u001b[0m     ca_cert_data\u001b[39m=\u001b[39;49m\u001b[39mself\u001b[39;49m\u001b[39m.\u001b[39;49mca_cert_data,\n\u001b[1;32m    422\u001b[0m     server_hostname\u001b[39m=\u001b[39;49mserver_hostname,\n\u001b[1;32m    423\u001b[0m     ssl_context\u001b[39m=\u001b[39;49mcontext,\n\u001b[1;32m    424\u001b[0m     tls_in_tls\u001b[39m=\u001b[39;49mtls_in_tls,\n\u001b[1;32m    425\u001b[0m )\n\u001b[1;32m    427\u001b[0m \u001b[39m# If we're using all defaults and the connection\u001b[39;00m\n\u001b[1;32m    428\u001b[0m \u001b[39m# is TLSv1 or TLSv1.1 we throw a DeprecationWarning\u001b[39;00m\n\u001b[1;32m    429\u001b[0m \u001b[39m# for the host.\u001b[39;00m\n\u001b[1;32m    430\u001b[0m \u001b[39mif\u001b[39;00m (\n\u001b[1;32m    431\u001b[0m     default_ssl_context\n\u001b[1;32m    432\u001b[0m     \u001b[39mand\u001b[39;00m \u001b[39mself\u001b[39m\u001b[39m.\u001b[39mssl_version \u001b[39mis\u001b[39;00m \u001b[39mNone\u001b[39;00m\n\u001b[1;32m    433\u001b[0m     \u001b[39mand\u001b[39;00m \u001b[39mhasattr\u001b[39m(\u001b[39mself\u001b[39m\u001b[39m.\u001b[39msock, \u001b[39m\"\u001b[39m\u001b[39mversion\u001b[39m\u001b[39m\"\u001b[39m)\n\u001b[1;32m    434\u001b[0m     \u001b[39mand\u001b[39;00m \u001b[39mself\u001b[39m\u001b[39m.\u001b[39msock\u001b[39m.\u001b[39mversion() \u001b[39min\u001b[39;00m {\u001b[39m\"\u001b[39m\u001b[39mTLSv1\u001b[39m\u001b[39m\"\u001b[39m, \u001b[39m\"\u001b[39m\u001b[39mTLSv1.1\u001b[39m\u001b[39m\"\u001b[39m}\n\u001b[1;32m    435\u001b[0m ):\n",
      "File \u001b[0;32m/apps/jasmin/jaspy/miniconda_envs/jaspy3.10/m3-4.9.2/envs/jaspy3.10-m3-4.9.2-r20220721/lib/python3.10/site-packages/urllib3/util/ssl_.py:449\u001b[0m, in \u001b[0;36mssl_wrap_socket\u001b[0;34m(sock, keyfile, certfile, cert_reqs, ca_certs, server_hostname, ssl_version, ciphers, ssl_context, ca_cert_dir, key_password, ca_cert_data, tls_in_tls)\u001b[0m\n\u001b[1;32m    437\u001b[0m     warnings\u001b[39m.\u001b[39mwarn(\n\u001b[1;32m    438\u001b[0m         \u001b[39m\"\u001b[39m\u001b[39mAn HTTPS request has been made, but the SNI (Server Name \u001b[39m\u001b[39m\"\u001b[39m\n\u001b[1;32m    439\u001b[0m         \u001b[39m\"\u001b[39m\u001b[39mIndication) extension to TLS is not available on this platform. \u001b[39m\u001b[39m\"\u001b[39m\n\u001b[0;32m   (...)\u001b[0m\n\u001b[1;32m    445\u001b[0m         SNIMissingWarning,\n\u001b[1;32m    446\u001b[0m     )\n\u001b[1;32m    448\u001b[0m \u001b[39mif\u001b[39;00m send_sni:\n\u001b[0;32m--> 449\u001b[0m     ssl_sock \u001b[39m=\u001b[39m _ssl_wrap_socket_impl(\n\u001b[1;32m    450\u001b[0m         sock, context, tls_in_tls, server_hostname\u001b[39m=\u001b[39;49mserver_hostname\n\u001b[1;32m    451\u001b[0m     )\n\u001b[1;32m    452\u001b[0m \u001b[39melse\u001b[39;00m:\n\u001b[1;32m    453\u001b[0m     ssl_sock \u001b[39m=\u001b[39m _ssl_wrap_socket_impl(sock, context, tls_in_tls)\n",
      "File \u001b[0;32m/apps/jasmin/jaspy/miniconda_envs/jaspy3.10/m3-4.9.2/envs/jaspy3.10-m3-4.9.2-r20220721/lib/python3.10/site-packages/urllib3/util/ssl_.py:493\u001b[0m, in \u001b[0;36m_ssl_wrap_socket_impl\u001b[0;34m(sock, ssl_context, tls_in_tls, server_hostname)\u001b[0m\n\u001b[1;32m    490\u001b[0m     \u001b[39mreturn\u001b[39;00m SSLTransport(sock, ssl_context, server_hostname)\n\u001b[1;32m    492\u001b[0m \u001b[39mif\u001b[39;00m server_hostname:\n\u001b[0;32m--> 493\u001b[0m     \u001b[39mreturn\u001b[39;00m ssl_context\u001b[39m.\u001b[39;49mwrap_socket(sock, server_hostname\u001b[39m=\u001b[39;49mserver_hostname)\n\u001b[1;32m    494\u001b[0m \u001b[39melse\u001b[39;00m:\n\u001b[1;32m    495\u001b[0m     \u001b[39mreturn\u001b[39;00m ssl_context\u001b[39m.\u001b[39mwrap_socket(sock)\n",
      "File \u001b[0;32m/apps/jasmin/jaspy/miniconda_envs/jaspy3.10/m3-4.9.2/envs/jaspy3.10-m3-4.9.2-r20220721/lib/python3.10/ssl.py:513\u001b[0m, in \u001b[0;36mSSLContext.wrap_socket\u001b[0;34m(self, sock, server_side, do_handshake_on_connect, suppress_ragged_eofs, server_hostname, session)\u001b[0m\n\u001b[1;32m    507\u001b[0m \u001b[39mdef\u001b[39;00m \u001b[39mwrap_socket\u001b[39m(\u001b[39mself\u001b[39m, sock, server_side\u001b[39m=\u001b[39m\u001b[39mFalse\u001b[39;00m,\n\u001b[1;32m    508\u001b[0m                 do_handshake_on_connect\u001b[39m=\u001b[39m\u001b[39mTrue\u001b[39;00m,\n\u001b[1;32m    509\u001b[0m                 suppress_ragged_eofs\u001b[39m=\u001b[39m\u001b[39mTrue\u001b[39;00m,\n\u001b[1;32m    510\u001b[0m                 server_hostname\u001b[39m=\u001b[39m\u001b[39mNone\u001b[39;00m, session\u001b[39m=\u001b[39m\u001b[39mNone\u001b[39;00m):\n\u001b[1;32m    511\u001b[0m     \u001b[39m# SSLSocket class handles server_hostname encoding before it calls\u001b[39;00m\n\u001b[1;32m    512\u001b[0m     \u001b[39m# ctx._wrap_socket()\u001b[39;00m\n\u001b[0;32m--> 513\u001b[0m     \u001b[39mreturn\u001b[39;00m \u001b[39mself\u001b[39;49m\u001b[39m.\u001b[39;49msslsocket_class\u001b[39m.\u001b[39;49m_create(\n\u001b[1;32m    514\u001b[0m         sock\u001b[39m=\u001b[39;49msock,\n\u001b[1;32m    515\u001b[0m         server_side\u001b[39m=\u001b[39;49mserver_side,\n\u001b[1;32m    516\u001b[0m         do_handshake_on_connect\u001b[39m=\u001b[39;49mdo_handshake_on_connect,\n\u001b[1;32m    517\u001b[0m         suppress_ragged_eofs\u001b[39m=\u001b[39;49msuppress_ragged_eofs,\n\u001b[1;32m    518\u001b[0m         server_hostname\u001b[39m=\u001b[39;49mserver_hostname,\n\u001b[1;32m    519\u001b[0m         context\u001b[39m=\u001b[39;49m\u001b[39mself\u001b[39;49m,\n\u001b[1;32m    520\u001b[0m         session\u001b[39m=\u001b[39;49msession\n\u001b[1;32m    521\u001b[0m     )\n",
      "File \u001b[0;32m/apps/jasmin/jaspy/miniconda_envs/jaspy3.10/m3-4.9.2/envs/jaspy3.10-m3-4.9.2-r20220721/lib/python3.10/ssl.py:1071\u001b[0m, in \u001b[0;36mSSLSocket._create\u001b[0;34m(cls, sock, server_side, do_handshake_on_connect, suppress_ragged_eofs, server_hostname, context, session)\u001b[0m\n\u001b[1;32m   1068\u001b[0m         \u001b[39mif\u001b[39;00m timeout \u001b[39m==\u001b[39m \u001b[39m0.0\u001b[39m:\n\u001b[1;32m   1069\u001b[0m             \u001b[39m# non-blocking\u001b[39;00m\n\u001b[1;32m   1070\u001b[0m             \u001b[39mraise\u001b[39;00m \u001b[39mValueError\u001b[39;00m(\u001b[39m\"\u001b[39m\u001b[39mdo_handshake_on_connect should not be specified for non-blocking sockets\u001b[39m\u001b[39m\"\u001b[39m)\n\u001b[0;32m-> 1071\u001b[0m         \u001b[39mself\u001b[39;49m\u001b[39m.\u001b[39;49mdo_handshake()\n\u001b[1;32m   1072\u001b[0m \u001b[39mexcept\u001b[39;00m (\u001b[39mOSError\u001b[39;00m, \u001b[39mValueError\u001b[39;00m):\n\u001b[1;32m   1073\u001b[0m     \u001b[39mself\u001b[39m\u001b[39m.\u001b[39mclose()\n",
      "File \u001b[0;32m/apps/jasmin/jaspy/miniconda_envs/jaspy3.10/m3-4.9.2/envs/jaspy3.10-m3-4.9.2-r20220721/lib/python3.10/ssl.py:1342\u001b[0m, in \u001b[0;36mSSLSocket.do_handshake\u001b[0;34m(self, block)\u001b[0m\n\u001b[1;32m   1340\u001b[0m     \u001b[39mif\u001b[39;00m timeout \u001b[39m==\u001b[39m \u001b[39m0.0\u001b[39m \u001b[39mand\u001b[39;00m block:\n\u001b[1;32m   1341\u001b[0m         \u001b[39mself\u001b[39m\u001b[39m.\u001b[39msettimeout(\u001b[39mNone\u001b[39;00m)\n\u001b[0;32m-> 1342\u001b[0m     \u001b[39mself\u001b[39;49m\u001b[39m.\u001b[39;49m_sslobj\u001b[39m.\u001b[39;49mdo_handshake()\n\u001b[1;32m   1343\u001b[0m \u001b[39mfinally\u001b[39;00m:\n\u001b[1;32m   1344\u001b[0m     \u001b[39mself\u001b[39m\u001b[39m.\u001b[39msettimeout(timeout)\n",
      "\u001b[0;31mKeyboardInterrupt\u001b[0m: "
     ]
    }
   ],
   "source": [
    "# Set up the params for the query\n",
    "params = {\n",
    "    \"latest\": latest,\n",
    "    \"project\": project,\n",
    "    \"experiment_id\": experiment_id,\n",
    "    \"variable_id\": variable_id,\n",
    "    \"activity_id\": activity_id,\n",
    "    \"table_id\": table_id\n",
    "}\n",
    "\n",
    "# Query the database\n",
    "query = conn.new_context(**params)\n",
    "\n",
    "# Get the results\n",
    "results = query.search()\n",
    "\n",
    "print(len(results))\n",
    "\n",
    "# Python\n",
    "# Form a list of the unique 'source_id' values from the results\n",
    "# Python\n",
    "# Form a set of the unique 'source_id' values from the results\n",
    "source_id_set = set(id for result in results for id in result.json['source_id'])\n",
    "\n",
    "# Print the set\n",
    "print(source_id_set)"
   ]
  },
  {
   "cell_type": "code",
   "execution_count": 15,
   "metadata": {},
   "outputs": [
    {
     "name": "stdout",
     "output_type": "stream",
     "text": [
      "<class 'set'>\n"
     ]
    }
   ],
   "source": [
    "print(type(models_list))\n",
    "\n",
    "# # Convert the set to a list\n",
    "source_id_list = list(models_list)\n",
    "\n",
    "# Constrain to the first 3 members\n",
    "source_id_list = source_id_list[:3]\n",
    "\n",
    "source_id_set = source_id_list"
   ]
  },
  {
   "cell_type": "code",
   "execution_count": 18,
   "metadata": {},
   "outputs": [],
   "source": [
    "# Set the params for the query\n",
    "params = {\n",
    "    \"latest\": latest,\n",
    "    \"project\": project,\n",
    "    \"experiment_id\": experiment_id,\n",
    "    \"variable_id\": variable_id,\n",
    "    \"activity_id\": activity_id,\n",
    "    \"table_id\": table_id,\n",
    "    \"sub_experiment_id\": sub_experiment_id\n",
    "}"
   ]
  },
  {
   "cell_type": "code",
   "execution_count": 19,
   "metadata": {},
   "outputs": [
    {
     "name": "stdout",
     "output_type": "stream",
     "text": [
      "trying to find valid nodes for model: HadGEM3-GC31-MM\n",
      "{'latest': True, 'project': 'CMIP6', 'experiment_id': 'dcppA-hindcast', 'variable_id': 'rsds', 'activity_id': 'DCPP', 'table_id': 'Amon', 'sub_experiment_id': 's1961', 'source_id': 'HadGEM3-GC31-MM'}\n",
      "20\n",
      "CMIP6.DCPP.MOHC.HadGEM3-GC31-MM.dcppA-hindcast.s1961-r3i1p1f2.Amon.rsds.gn.v20200417|esgf-data1.llnl.gov\n",
      "{'esgf.ceda.ac.uk', 'esgf-data1.llnl.gov'}\n",
      "trying to find valid files for node: esgf.ceda.ac.uk\n",
      "10\n",
      "trying to find valid files for node: esgf-data1.llnl.gov\n",
      "10\n",
      "this data_node has less results than the previous one\n",
      "trying to find valid nodes for model: BCC-CSM2-MR\n",
      "{'latest': True, 'project': 'CMIP6', 'experiment_id': 'dcppA-hindcast', 'variable_id': 'rsds', 'activity_id': 'DCPP', 'table_id': 'Amon', 'sub_experiment_id': 's1961', 'source_id': 'BCC-CSM2-MR'}\n",
      "32\n",
      "CMIP6.DCPP.BCC.BCC-CSM2-MR.dcppA-hindcast.s1961-r1i1p1f1.Amon.rsds.gn.v20191126|cmip.bcc.cma.cn\n",
      "{'cmip.bcc.cma.cn', 'esgf3.dkrz.de', 'esgf.ceda.ac.uk', 'esgf-data1.llnl.gov'}\n",
      "trying to find valid files for node: cmip.bcc.cma.cn\n",
      "8\n",
      "trying to find valid files for node: esgf3.dkrz.de\n",
      "8\n",
      "this data_node has less results than the previous one\n",
      "trying to find valid files for node: esgf.ceda.ac.uk\n",
      "8\n",
      "this data_node has less results than the previous one\n",
      "trying to find valid files for node: esgf-data1.llnl.gov\n",
      "8\n",
      "this data_node has less results than the previous one\n",
      "trying to find valid nodes for model: NorCPM1\n",
      "{'latest': True, 'project': 'CMIP6', 'experiment_id': 'dcppA-hindcast', 'variable_id': 'rsds', 'activity_id': 'DCPP', 'table_id': 'Amon', 'sub_experiment_id': 's1961', 'source_id': 'NorCPM1'}\n",
      "60\n",
      "CMIP6.DCPP.NCC.NorCPM1.dcppA-hindcast.s1961-r9i1p1f1.Amon.rsds.gn.v20190914|esgf-data1.llnl.gov\n",
      "{'noresg.nird.sigma2.no', 'esgf.ceda.ac.uk', 'esgf-data1.llnl.gov'}\n",
      "trying to find valid files for node: noresg.nird.sigma2.no\n",
      "20\n",
      "trying to find valid files for node: esgf.ceda.ac.uk\n",
      "20\n",
      "this data_node has less results than the previous one\n",
      "trying to find valid files for node: esgf-data1.llnl.gov\n",
      "20\n",
      "this data_node has less results than the previous one\n",
      "[{'source_id': 'HadGEM3-GC31-MM', 'data_node': 'esgf.ceda.ac.uk', 'num_results': 10}, {'source_id': 'BCC-CSM2-MR', 'data_node': 'cmip.bcc.cma.cn', 'num_results': 8}, {'source_id': 'NorCPM1', 'data_node': 'noresg.nird.sigma2.no', 'num_results': 20}]\n"
     ]
    }
   ],
   "source": [
    "# # Constrain the source_id_set to the first 1 model\n",
    "# source_id_set = list(source_id_set)[0:1]\n",
    "\n",
    "# # Print the set\n",
    "# print(source_id_set)\n",
    "\n",
    "# Initialize an empty dictionary to store the results\n",
    "max_results = {'source_id': None, 'data_node': None, 'num_results': 0}\n",
    "\n",
    "# Create a list for the max_results dictionaries\n",
    "max_results_list = []\n",
    "\n",
    "# Set up the max results per source dictionary\n",
    "max_results_per_source = {}\n",
    "\n",
    "# Loop through the source_id_set and query which nodes have data for each model\n",
    "for source_id in source_id_set:\n",
    "    print(\"trying to find valid nodes for model: {}\".format(source_id))\n",
    "    # Set the source_id constraint\n",
    "    params['source_id'] = source_id\n",
    "    print(params)\n",
    "    # Query the database\n",
    "    model_query = conn.new_context(**params)\n",
    "    # Get the results\n",
    "    model_results = model_query.search()\n",
    "    # Print the number of results\n",
    "    print(len(model_results))\n",
    "\n",
    "    # if the len of the model results is not 0\n",
    "    if len(model_results) != 0:\n",
    "        # Print the first result\n",
    "        print(model_results[0].json['id'])\n",
    "\n",
    "    # Identify the unique nodes (data_node) which have data for the model\n",
    "    data_node_set = set(result.json['data_node'] for result in model_results)\n",
    "\n",
    "    # Print the set\n",
    "    print(data_node_set)\n",
    "\n",
    "    # Loop through the data_node_set and query how many files are available for each \n",
    "    # node\n",
    "    for data_node in data_node_set:\n",
    "        print(\"trying to find valid files for node: {}\".format(data_node))\n",
    "        \n",
    "        # Set up the params for the query\n",
    "        params_node = params.copy()\n",
    "        \n",
    "        # Set the data_node constraint\n",
    "        params_node['data_node'] = data_node\n",
    "        # Query the database\n",
    "        node_query = conn.new_context(**params_node)\n",
    "        # Get the results\n",
    "        node_results = node_query.search()\n",
    "        # Print the number of results\n",
    "        print(len(node_results))\n",
    "\n",
    "        # If this source_id is not in max_results_per_source or this data_node has more results, update the dictionary\n",
    "        if source_id not in max_results_per_source or len(node_results) > max_results_per_source[source_id]:\n",
    "            max_results = {'source_id': source_id, 'data_node': data_node, 'num_results': len(node_results)}\n",
    "            max_results_per_source[source_id] = len(node_results)\n",
    "\n",
    "            # Append the max_results dictionary to the list\n",
    "            max_results_list.append(max_results)\n",
    "        else:\n",
    "            print(\"this data_node has less results than the previous one\")\n",
    "            continue\n",
    "\n",
    "# Print the dictionary\n",
    "print(max_results_list)\n",
    "\n",
    "\n",
    "\n"
   ]
  },
  {
   "cell_type": "code",
   "execution_count": 22,
   "metadata": {},
   "outputs": [
    {
     "name": "stdout",
     "output_type": "stream",
     "text": [
      "trying to find valid nodes for model: IPSL-CM6A-LR\n",
      "{'latest': True, 'project': 'CMIP6', 'experiment_id': 'hist-GHG', 'variable_id': 'tas', 'activity_id': 'DAMIP', 'table_id': 'Amon', 'source_id': 'IPSL-CM6A-LR'}\n",
      "51\n",
      "{'vesg.ipsl.upmc.fr', 'esgf.ceda.ac.uk', 'esgf3.dkrz.de', 'aims3.llnl.gov', 'esgf.nci.org.au', 'esgf-data04.diasjp.net'}\n",
      "trying to find valid files for node: vesg.ipsl.upmc.fr\n",
      "10\n",
      "trying to find valid files for node: esgf.ceda.ac.uk\n",
      "10\n",
      "trying to find valid files for node: esgf3.dkrz.de\n",
      "10\n",
      "trying to find valid files for node: aims3.llnl.gov\n",
      "10\n",
      "trying to find valid files for node: esgf.nci.org.au\n",
      "10\n",
      "trying to find valid files for node: esgf-data04.diasjp.net\n",
      "1\n",
      "trying to find valid nodes for model: GFDL-ESM4\n",
      "{'latest': True, 'project': 'CMIP6', 'experiment_id': 'hist-GHG', 'variable_id': 'tas', 'activity_id': 'DAMIP', 'table_id': 'Amon', 'source_id': 'GFDL-ESM4'}\n",
      "6\n",
      "{'esgf.ceda.ac.uk', 'esgf3.dkrz.de', 'esgf-data1.llnl.gov', 'esgf.nci.org.au', 'esgf-data04.diasjp.net', 'esgdata.gfdl.noaa.gov'}\n",
      "trying to find valid files for node: esgf.ceda.ac.uk\n",
      "1\n",
      "trying to find valid files for node: esgf3.dkrz.de\n",
      "1\n",
      "trying to find valid files for node: esgf-data1.llnl.gov\n",
      "1\n",
      "trying to find valid files for node: esgf.nci.org.au\n",
      "1\n",
      "trying to find valid files for node: esgf-data04.diasjp.net\n",
      "1\n",
      "trying to find valid files for node: esgdata.gfdl.noaa.gov\n",
      "1\n",
      "trying to find valid nodes for model: E3SM-1-0\n",
      "{'latest': True, 'project': 'CMIP6', 'experiment_id': 'hist-GHG', 'variable_id': 'tas', 'activity_id': 'DAMIP', 'table_id': 'Amon', 'source_id': 'E3SM-1-0'}\n",
      "4\n",
      "{'esgf-data2.llnl.gov', 'esgf-data04.diasjp.net'}\n",
      "trying to find valid files for node: esgf-data2.llnl.gov\n",
      "3\n",
      "trying to find valid files for node: esgf-data04.diasjp.net\n",
      "1\n",
      "trying to find valid nodes for model: NorESM2-LM\n",
      "{'latest': True, 'project': 'CMIP6', 'experiment_id': 'hist-GHG', 'variable_id': 'tas', 'activity_id': 'DAMIP', 'table_id': 'Amon', 'source_id': 'NorESM2-LM'}\n",
      "16\n",
      "{'esgf.ceda.ac.uk', 'esgf3.dkrz.de', 'esgf-data1.llnl.gov', 'esgf.nci.org.au', 'esgf-data04.diasjp.net', 'noresg.nird.sigma2.no'}\n",
      "trying to find valid files for node: esgf.ceda.ac.uk\n",
      "3\n",
      "trying to find valid files for node: esgf3.dkrz.de\n",
      "3\n",
      "trying to find valid files for node: esgf-data1.llnl.gov\n",
      "3\n",
      "trying to find valid files for node: esgf.nci.org.au\n",
      "3\n",
      "trying to find valid files for node: esgf-data04.diasjp.net\n",
      "1\n",
      "trying to find valid files for node: noresg.nird.sigma2.no\n",
      "3\n",
      "trying to find valid nodes for model: GISS-E2-1-G\n",
      "{'latest': True, 'project': 'CMIP6', 'experiment_id': 'hist-GHG', 'variable_id': 'tas', 'activity_id': 'DAMIP', 'table_id': 'Amon', 'source_id': 'GISS-E2-1-G'}\n",
      "58\n",
      "{'esgf.ceda.ac.uk', 'esgf3.dkrz.de', 'esgf-data1.llnl.gov', 'aims3.llnl.gov', 'dpesgf03.nccs.nasa.gov', 'esgf.nci.org.au', 'esgf-data04.diasjp.net'}\n",
      "trying to find valid files for node: esgf.ceda.ac.uk\n",
      "6\n",
      "trying to find valid files for node: esgf3.dkrz.de\n",
      "10\n",
      "trying to find valid files for node: esgf-data1.llnl.gov\n",
      "5\n",
      "trying to find valid files for node: aims3.llnl.gov\n",
      "5\n",
      "trying to find valid files for node: dpesgf03.nccs.nasa.gov\n",
      "25\n",
      "trying to find valid files for node: esgf.nci.org.au\n",
      "5\n",
      "trying to find valid files for node: esgf-data04.diasjp.net\n",
      "2\n",
      "trying to find valid nodes for model: MIROC6\n",
      "{'latest': True, 'project': 'CMIP6', 'experiment_id': 'hist-GHG', 'variable_id': 'tas', 'activity_id': 'DAMIP', 'table_id': 'Amon', 'source_id': 'MIROC6'}\n",
      "88\n",
      "{'esgf.ceda.ac.uk', 'esgf3.dkrz.de', 'esgf-data1.llnl.gov', 'aims3.llnl.gov', 'esgf.nci.org.au', 'esgf-data02.diasjp.net'}\n",
      "trying to find valid files for node: esgf.ceda.ac.uk\n",
      "3\n",
      "trying to find valid files for node: esgf3.dkrz.de\n",
      "3\n",
      "trying to find valid files for node: esgf-data1.llnl.gov\n",
      "26\n",
      "trying to find valid files for node: aims3.llnl.gov\n",
      "3\n",
      "trying to find valid files for node: esgf.nci.org.au\n",
      "3\n",
      "trying to find valid files for node: esgf-data02.diasjp.net\n",
      "50\n",
      "trying to find valid nodes for model: E3SM-2-0\n",
      "{'latest': True, 'project': 'CMIP6', 'experiment_id': 'hist-GHG', 'variable_id': 'tas', 'activity_id': 'DAMIP', 'table_id': 'Amon', 'source_id': 'E3SM-2-0'}\n",
      "6\n",
      "{'esgf-data2.llnl.gov', 'esgf-data04.diasjp.net'}\n",
      "trying to find valid files for node: esgf-data2.llnl.gov\n",
      "5\n",
      "trying to find valid files for node: esgf-data04.diasjp.net\n",
      "1\n",
      "trying to find valid nodes for model: HadGEM3-GC31-LL\n",
      "{'latest': True, 'project': 'CMIP6', 'experiment_id': 'hist-GHG', 'variable_id': 'tas', 'activity_id': 'DAMIP', 'table_id': 'Amon', 'source_id': 'HadGEM3-GC31-LL'}\n",
      "69\n",
      "{'esgf.ceda.ac.uk', 'esgf3.dkrz.de', 'esgf-data1.llnl.gov', 'aims3.llnl.gov', 'esgf.nci.org.au', 'esgf-data04.diasjp.net'}\n",
      "trying to find valid files for node: esgf.ceda.ac.uk\n",
      "55\n",
      "trying to find valid files for node: esgf3.dkrz.de\n",
      "4\n",
      "trying to find valid files for node: esgf-data1.llnl.gov\n",
      "1\n",
      "trying to find valid files for node: aims3.llnl.gov\n",
      "4\n",
      "trying to find valid files for node: esgf.nci.org.au\n",
      "4\n",
      "trying to find valid files for node: esgf-data04.diasjp.net\n",
      "1\n",
      "trying to find valid nodes for model: BCC-CSM2-MR\n",
      "{'latest': True, 'project': 'CMIP6', 'experiment_id': 'hist-GHG', 'variable_id': 'tas', 'activity_id': 'DAMIP', 'table_id': 'Amon', 'source_id': 'BCC-CSM2-MR'}\n",
      "13\n",
      "{'esgf.ceda.ac.uk', 'esgf3.dkrz.de', 'aims3.llnl.gov', 'esgf-data04.diasjp.net', 'cmip.bcc.cma.cn'}\n",
      "trying to find valid files for node: esgf.ceda.ac.uk\n",
      "3\n",
      "trying to find valid files for node: esgf3.dkrz.de\n",
      "3\n",
      "trying to find valid files for node: aims3.llnl.gov\n",
      "3\n",
      "trying to find valid files for node: esgf-data04.diasjp.net\n",
      "1\n",
      "trying to find valid files for node: cmip.bcc.cma.cn\n",
      "3\n",
      "trying to find valid nodes for model: CESM2\n",
      "{'latest': True, 'project': 'CMIP6', 'experiment_id': 'hist-GHG', 'variable_id': 'tas', 'activity_id': 'DAMIP', 'table_id': 'Amon', 'source_id': 'CESM2'}\n",
      "14\n",
      "{'esgf.ceda.ac.uk', 'esgf3.dkrz.de', 'aims3.llnl.gov', 'esgf.nci.org.au', 'esgf-data04.diasjp.net', 'esgf-data.ucar.edu'}\n",
      "trying to find valid files for node: esgf.ceda.ac.uk\n",
      "3\n",
      "trying to find valid files for node: esgf3.dkrz.de\n",
      "3\n",
      "trying to find valid files for node: aims3.llnl.gov\n",
      "1\n",
      "trying to find valid files for node: esgf.nci.org.au\n",
      "3\n",
      "trying to find valid files for node: esgf-data04.diasjp.net\n",
      "1\n",
      "trying to find valid files for node: esgf-data.ucar.edu\n",
      "3\n",
      "trying to find valid nodes for model: FGOALS-g3\n",
      "{'latest': True, 'project': 'CMIP6', 'experiment_id': 'hist-GHG', 'variable_id': 'tas', 'activity_id': 'DAMIP', 'table_id': 'Amon', 'source_id': 'FGOALS-g3'}\n",
      "12\n",
      "{'esgf.ceda.ac.uk', 'esgf3.dkrz.de', 'esgf-data1.llnl.gov', 'esgf-data04.diasjp.net', 'esg.lasg.ac.cn'}\n",
      "trying to find valid files for node: esgf.ceda.ac.uk\n",
      "2\n",
      "trying to find valid files for node: esgf3.dkrz.de\n",
      "3\n",
      "trying to find valid files for node: esgf-data1.llnl.gov\n",
      "3\n",
      "trying to find valid files for node: esgf-data04.diasjp.net\n",
      "1\n",
      "trying to find valid files for node: esg.lasg.ac.cn\n",
      "3\n",
      "trying to find valid nodes for model: CNRM-CM6-1\n",
      "{'latest': True, 'project': 'CMIP6', 'experiment_id': 'hist-GHG', 'variable_id': 'tas', 'activity_id': 'DAMIP', 'table_id': 'Amon', 'source_id': 'CNRM-CM6-1'}\n",
      "49\n",
      "{'esgf.ceda.ac.uk', 'esgf3.dkrz.de', 'esgf-data1.llnl.gov', 'aims3.llnl.gov', 'esgf.nci.org.au', 'esgf-data04.diasjp.net', 'esg1.umr-cnrm.fr'}\n",
      "trying to find valid files for node: esgf.ceda.ac.uk\n",
      "9\n",
      "trying to find valid files for node: esgf3.dkrz.de\n",
      "10\n",
      "trying to find valid files for node: esgf-data1.llnl.gov\n",
      "1\n",
      "trying to find valid files for node: aims3.llnl.gov\n",
      "9\n",
      "trying to find valid files for node: esgf.nci.org.au\n",
      "9\n",
      "trying to find valid files for node: esgf-data04.diasjp.net\n",
      "1\n",
      "trying to find valid files for node: esg1.umr-cnrm.fr\n",
      "10\n",
      "trying to find valid nodes for model: ACCESS-CM2\n",
      "{'latest': True, 'project': 'CMIP6', 'experiment_id': 'hist-GHG', 'variable_id': 'tas', 'activity_id': 'DAMIP', 'table_id': 'Amon', 'source_id': 'ACCESS-CM2'}\n",
      "8\n",
      "{'esgf-data1.llnl.gov', 'esgf.ceda.ac.uk', 'esgf.nci.org.au', 'esgf-data04.diasjp.net'}\n",
      "trying to find valid files for node: esgf-data1.llnl.gov\n",
      "3\n",
      "trying to find valid files for node: esgf.ceda.ac.uk\n",
      "1\n",
      "trying to find valid files for node: esgf.nci.org.au\n",
      "3\n",
      "trying to find valid files for node: esgf-data04.diasjp.net\n",
      "1\n",
      "trying to find valid nodes for model: MRI-ESM2-0\n",
      "{'latest': True, 'project': 'CMIP6', 'experiment_id': 'hist-GHG', 'variable_id': 'tas', 'activity_id': 'DAMIP', 'table_id': 'Amon', 'source_id': 'MRI-ESM2-0'}\n",
      "24\n",
      "{'esgf.ceda.ac.uk', 'esgf3.dkrz.de', 'esgf-data1.llnl.gov', 'aims3.llnl.gov', 'esgf.nci.org.au', 'esgf-data03.diasjp.net'}\n",
      "trying to find valid files for node: esgf.ceda.ac.uk\n",
      "4\n",
      "trying to find valid files for node: esgf3.dkrz.de\n",
      "5\n",
      "trying to find valid files for node: esgf-data1.llnl.gov\n",
      "2\n",
      "trying to find valid files for node: aims3.llnl.gov\n",
      "3\n",
      "trying to find valid files for node: esgf.nci.org.au\n",
      "5\n",
      "trying to find valid files for node: esgf-data03.diasjp.net\n",
      "5\n",
      "trying to find valid nodes for model: CanESM5\n",
      "{'latest': True, 'project': 'CMIP6', 'experiment_id': 'hist-GHG', 'variable_id': 'tas', 'activity_id': 'DAMIP', 'table_id': 'Amon', 'source_id': 'CanESM5'}\n",
      "166\n",
      "{'esgf.ceda.ac.uk', 'esgf3.dkrz.de', 'esgf-data1.llnl.gov', 'aims3.llnl.gov', 'esgf.nci.org.au', 'esgf-data04.diasjp.net', 'crd-esgf-drc.ec.gc.ca'}\n",
      "trying to find valid files for node: esgf.ceda.ac.uk\n",
      "13\n",
      "trying to find valid files for node: esgf3.dkrz.de\n",
      "50\n",
      "trying to find valid files for node: esgf-data1.llnl.gov\n",
      "46\n",
      "trying to find valid files for node: aims3.llnl.gov\n",
      "4\n",
      "trying to find valid files for node: esgf.nci.org.au\n",
      "2\n",
      "trying to find valid files for node: esgf-data04.diasjp.net\n",
      "1\n",
      "trying to find valid files for node: crd-esgf-drc.ec.gc.ca\n",
      "50\n",
      "trying to find valid nodes for model: ACCESS-ESM1-5\n",
      "{'latest': True, 'project': 'CMIP6', 'experiment_id': 'hist-GHG', 'variable_id': 'tas', 'activity_id': 'DAMIP', 'table_id': 'Amon', 'source_id': 'ACCESS-ESM1-5'}\n",
      "13\n",
      "{'esgf.ceda.ac.uk', 'esgf3.dkrz.de', 'esgf-data1.llnl.gov', 'esgf.nci.org.au', 'esgf-data04.diasjp.net'}\n",
      "trying to find valid files for node: esgf.ceda.ac.uk\n",
      "3\n",
      "trying to find valid files for node: esgf3.dkrz.de\n",
      "3\n",
      "trying to find valid files for node: esgf-data1.llnl.gov\n",
      "3\n",
      "trying to find valid files for node: esgf.nci.org.au\n",
      "3\n",
      "trying to find valid files for node: esgf-data04.diasjp.net\n",
      "1\n",
      "[{'source_id': 'IPSL-CM6A-LR', 'data_node': 'vesg.ipsl.upmc.fr', 'num_results': 10}, {'source_id': 'GFDL-ESM4', 'data_node': 'esgf.ceda.ac.uk', 'num_results': 1}, {'source_id': 'E3SM-1-0', 'data_node': 'esgf-data2.llnl.gov', 'num_results': 3}, {'source_id': 'NorESM2-LM', 'data_node': 'esgf.ceda.ac.uk', 'num_results': 3}, {'source_id': 'GISS-E2-1-G', 'data_node': 'dpesgf03.nccs.nasa.gov', 'num_results': 25}, {'source_id': 'MIROC6', 'data_node': 'esgf-data02.diasjp.net', 'num_results': 50}, {'source_id': 'E3SM-2-0', 'data_node': 'esgf-data2.llnl.gov', 'num_results': 5}, {'source_id': 'HadGEM3-GC31-LL', 'data_node': 'esgf.ceda.ac.uk', 'num_results': 55}, {'source_id': 'BCC-CSM2-MR', 'data_node': 'esgf.ceda.ac.uk', 'num_results': 3}, {'source_id': 'CESM2', 'data_node': 'esgf.ceda.ac.uk', 'num_results': 3}, {'source_id': 'FGOALS-g3', 'data_node': 'esgf3.dkrz.de', 'num_results': 3}, {'source_id': 'CNRM-CM6-1', 'data_node': 'esgf3.dkrz.de', 'num_results': 10}, {'source_id': 'ACCESS-CM2', 'data_node': 'esgf-data1.llnl.gov', 'num_results': 3}, {'source_id': 'MRI-ESM2-0', 'data_node': 'esgf3.dkrz.de', 'num_results': 5}, {'source_id': 'CanESM5', 'data_node': 'esgf3.dkrz.de', 'num_results': 50}, {'source_id': 'ACCESS-ESM1-5', 'data_node': 'esgf.ceda.ac.uk', 'num_results': 3}]\n"
     ]
    }
   ],
   "source": [
    "# Test the function for finding the valid nodes\n",
    "max_results_list = find_valid_nodes(params=params, \n",
    "                                    models_list=models_list,\n",
    "                                    conn=conn)"
   ]
  },
  {
   "cell_type": "code",
   "execution_count": 20,
   "metadata": {},
   "outputs": [
    {
     "name": "stdout",
     "output_type": "stream",
     "text": [
      "['HadGEM3-GC31-MM', 'BCC-CSM2-MR', 'NorCPM1']\n",
      "source_id: HadGEM3-GC31-MM\n",
      "source_id: BCC-CSM2-MR\n",
      "source_id: NorCPM1\n"
     ]
    }
   ],
   "source": [
    "# Clean the max_results_list to remove duplicate source_id entries\n",
    "# Keep the entry with the highest number of results (num_results)\n",
    "# Initialize an empty list to store the unique source_id entries\n",
    "unique_source_id_list = []\n",
    "\n",
    "# Loop through the max_results_list and append the unique source_id entries\n",
    "for result in max_results_list:\n",
    "    if result['source_id'] not in unique_source_id_list:\n",
    "        unique_source_id_list.append(result['source_id'])\n",
    "\n",
    "# Print the list\n",
    "print(unique_source_id_list)\n",
    "\n",
    "# Initialize an empty list to store the unique max_results_list entries\n",
    "unique_max_results_list = []\n",
    "\n",
    "# Loop through the unique_source_id_list and only\n",
    "# Append the max_results_list entries which match the source_id and have the highest num_results\n",
    "for source_id in unique_source_id_list:\n",
    "    print(\"source_id: {}\".format(source_id))\n",
    "    # Initialize an empty list to store the num_results\n",
    "    num_results_list = []\n",
    "    # Loop through the max_results_list and append the num_results to the list\n",
    "    for result in max_results_list:\n",
    "        if result['source_id'] == source_id:\n",
    "            num_results_list.append(result['num_results'])\n",
    "    # Get the max num_results\n",
    "    max_num_results = max(num_results_list)\n",
    "    # Loop through the max_results_list and append the entries which match the source_id and max_num_results\n",
    "    for result in max_results_list:\n",
    "        if result['source_id'] == source_id and result['num_results'] == max_num_results:\n",
    "            unique_max_results_list.append(result)"
   ]
  },
  {
   "cell_type": "code",
   "execution_count": 9,
   "metadata": {},
   "outputs": [],
   "source": [
    "# Convert the unique_max_results_list to a dataframe\n",
    "unique_max_results_df = pd.DataFrame.from_dict(unique_max_results_list)\n",
    "\n",
    "# Print the dataframe\n",
    "unique_max_results_df\n",
    "\n",
    "# save the dataframe\n",
    "# save in current directory + save_data + filename\n",
    "save_dir = os.path.join(os.getcwd(), 'save_data')\n",
    "save_filename = 'unique_max_results_df_{}_{}_{}_{}_{}.csv'.format(experiment_id, variable_id, project, table_id, activity_id)\n",
    "\n",
    "# Form the save path\n",
    "save_path = os.path.join(save_dir, save_filename)\n",
    "\n",
    "# Check if the save directory exists\n",
    "if not os.path.exists(save_dir):\n",
    "    # Make the directory\n",
    "    os.makedirs(save_dir)\n",
    "\n",
    "# Save the dataframe\n",
    "unique_max_results_df.to_csv(save_path)"
   ]
  },
  {
   "cell_type": "code",
   "execution_count": 7,
   "metadata": {},
   "outputs": [],
   "source": [
    "save_dir = os.path.join(os.getcwd(), 'save_data')\n",
    "save_filename = 'unique_max_results_df_{}_{}_{}_{}_{}.csv'.format(experiment_id, variable_id, project, table_id, activity_id)\n",
    "\n",
    "# Form the save path\n",
    "save_path = os.path.join(save_dir, save_filename)"
   ]
  },
  {
   "cell_type": "code",
   "execution_count": 24,
   "metadata": {},
   "outputs": [
    {
     "name": "stdout",
     "output_type": "stream",
     "text": [
      "<class 'list'>\n",
      "[{'source_id': 'HadGEM3-GC31-MM', 'data_node': 'esgf.ceda.ac.uk', 'num_results': 10}, {'source_id': 'BCC-CSM2-MR', 'data_node': 'cmip.bcc.cma.cn', 'num_results': 8}, {'source_id': 'NorCPM1', 'data_node': 'noresg.nird.sigma2.no', 'num_results': 20}]\n"
     ]
    },
    {
     "data": {
      "text/html": [
       "<div>\n",
       "<style scoped>\n",
       "    .dataframe tbody tr th:only-of-type {\n",
       "        vertical-align: middle;\n",
       "    }\n",
       "\n",
       "    .dataframe tbody tr th {\n",
       "        vertical-align: top;\n",
       "    }\n",
       "\n",
       "    .dataframe thead th {\n",
       "        text-align: right;\n",
       "    }\n",
       "</style>\n",
       "<table border=\"1\" class=\"dataframe\">\n",
       "  <thead>\n",
       "    <tr style=\"text-align: right;\">\n",
       "      <th></th>\n",
       "      <th>source_id</th>\n",
       "      <th>data_node</th>\n",
       "      <th>num_results</th>\n",
       "    </tr>\n",
       "  </thead>\n",
       "  <tbody>\n",
       "    <tr>\n",
       "      <th>0</th>\n",
       "      <td>HadGEM3-GC31-MM</td>\n",
       "      <td>esgf.ceda.ac.uk</td>\n",
       "      <td>10</td>\n",
       "    </tr>\n",
       "    <tr>\n",
       "      <th>1</th>\n",
       "      <td>BCC-CSM2-MR</td>\n",
       "      <td>cmip.bcc.cma.cn</td>\n",
       "      <td>8</td>\n",
       "    </tr>\n",
       "    <tr>\n",
       "      <th>2</th>\n",
       "      <td>NorCPM1</td>\n",
       "      <td>noresg.nird.sigma2.no</td>\n",
       "      <td>20</td>\n",
       "    </tr>\n",
       "  </tbody>\n",
       "</table>\n",
       "</div>"
      ],
      "text/plain": [
       "         source_id              data_node  num_results\n",
       "0  HadGEM3-GC31-MM        esgf.ceda.ac.uk           10\n",
       "1      BCC-CSM2-MR        cmip.bcc.cma.cn            8\n",
       "2          NorCPM1  noresg.nird.sigma2.no           20"
      ]
     },
     "execution_count": 24,
     "metadata": {},
     "output_type": "execute_result"
    }
   ],
   "source": [
    "print(type(unique_max_results_list))\n",
    "\n",
    "print(unique_max_results_list)\n",
    "\n",
    "# Convert the unique_max_results_list to a dataframe\n",
    "unique_max_results_df = pd.DataFrame.from_dict(unique_max_results_list)\n",
    "\n",
    "# Print the dataframe\n",
    "unique_max_results_df"
   ]
  },
  {
   "cell_type": "code",
   "execution_count": 26,
   "metadata": {},
   "outputs": [
    {
     "name": "stdout",
     "output_type": "stream",
     "text": [
      "source_id: HadGEM3-GC31-MM, data_node: esgf.ceda.ac.uk\n",
      "experiment_id: dcppA-hindcast, variable_id: rsds, activity_id: DCPP, data_node: esgf.ceda.ac.uk\n",
      "10\n",
      "source_id: BCC-CSM2-MR, data_node: cmip.bcc.cma.cn\n",
      "experiment_id: dcppA-hindcast, variable_id: rsds, activity_id: DCPP, data_node: cmip.bcc.cma.cn\n",
      "8\n",
      "source_id: NorCPM1, data_node: noresg.nird.sigma2.no\n",
      "experiment_id: dcppA-hindcast, variable_id: rsds, activity_id: DCPP, data_node: noresg.nird.sigma2.no\n",
      "20\n",
      "[<pyesgf.search.results.ResultSet object at 0x7f67ae021420>, <pyesgf.search.results.ResultSet object at 0x7f683466f400>, <pyesgf.search.results.ResultSet object at 0x7f67ad5205b0>]\n"
     ]
    }
   ],
   "source": [
    "# Open the save_path as a dataframe\n",
    "# unique_max_results_df = pd.read_csv(save_path)\n",
    "\n",
    "# # Convert unique_max_results to a dataframe\n",
    "# unique_max_results_df = pd.DataFrame.from_dict(unique_max_results_list)\n",
    "\n",
    "results_list = []\n",
    "\n",
    "# Loop over the dataframe to create a list of result sets\n",
    "for i in range(len(unique_max_results_df)):\n",
    "    \n",
    "    # Get the source_id and data_node\n",
    "    source_id = unique_max_results_df.loc[i, 'source_id']\n",
    "    data_node = unique_max_results_df.loc[i, 'data_node']\n",
    "\n",
    "    # Print the source_id and data_node\n",
    "    print(\"source_id: {}, data_node: {}\".format(source_id, data_node))\n",
    "\n",
    "    # Print the experiment_id, variable_id, activity_id, and data_node\n",
    "    print(\"experiment_id: {}, variable_id: {}, activity_id: {}, data_node: {}\".format(experiment_id, variable_id, activity_id, data_node))\n",
    "\n",
    "    results = query_data_esgf(conn,\n",
    "                            source_id = source_id,\n",
    "                            experiment_id = experiment_id,\n",
    "                            variable_id = variable_id,\n",
    "                            table_id = table_id,\n",
    "                            project=project,\n",
    "                            activity_id = activity_id,\n",
    "                            data_node = data_node,\n",
    "                            sub_experiment_id=sub_experiment_id\n",
    "    )\n",
    "\n",
    "    print(len(results))\n",
    "\n",
    "    # Append the results to the results_list\n",
    "    results_list.append(results)\n",
    "\n",
    "# Print the results_list\n",
    "print(results_list)"
   ]
  },
  {
   "cell_type": "code",
   "execution_count": 33,
   "metadata": {},
   "outputs": [
    {
     "name": "stdout",
     "output_type": "stream",
     "text": [
      "10\n",
      "Extracting file context for 10 datasets...\n"
     ]
    },
    {
     "name": "stderr",
     "output_type": "stream",
     "text": [
      " 10%|█         | 1/10 [00:08<01:18,  8.75s/it]"
     ]
    },
    {
     "name": "stdout",
     "output_type": "stream",
     "text": [
      "Processed 1 out of 10 results.\n"
     ]
    },
    {
     "name": "stderr",
     "output_type": "stream",
     "text": [
      " 20%|██        | 2/10 [00:17<01:09,  8.68s/it]"
     ]
    },
    {
     "name": "stdout",
     "output_type": "stream",
     "text": [
      "Processed 2 out of 10 results.\n"
     ]
    },
    {
     "name": "stderr",
     "output_type": "stream",
     "text": [
      " 30%|███       | 3/10 [00:25<00:59,  8.56s/it]"
     ]
    },
    {
     "name": "stdout",
     "output_type": "stream",
     "text": [
      "Processed 3 out of 10 results.\n"
     ]
    },
    {
     "name": "stderr",
     "output_type": "stream",
     "text": [
      " 40%|████      | 4/10 [00:34<00:50,  8.46s/it]"
     ]
    },
    {
     "name": "stdout",
     "output_type": "stream",
     "text": [
      "Processed 4 out of 10 results.\n"
     ]
    },
    {
     "name": "stderr",
     "output_type": "stream",
     "text": [
      " 50%|█████     | 5/10 [00:42<00:42,  8.42s/it]"
     ]
    },
    {
     "name": "stdout",
     "output_type": "stream",
     "text": [
      "Processed 5 out of 10 results.\n"
     ]
    },
    {
     "name": "stderr",
     "output_type": "stream",
     "text": [
      " 60%|██████    | 6/10 [00:50<00:33,  8.39s/it]"
     ]
    },
    {
     "name": "stdout",
     "output_type": "stream",
     "text": [
      "Processed 6 out of 10 results.\n"
     ]
    },
    {
     "name": "stderr",
     "output_type": "stream",
     "text": [
      " 70%|███████   | 7/10 [00:59<00:25,  8.37s/it]"
     ]
    },
    {
     "name": "stdout",
     "output_type": "stream",
     "text": [
      "Processed 7 out of 10 results.\n"
     ]
    },
    {
     "name": "stderr",
     "output_type": "stream",
     "text": [
      " 80%|████████  | 8/10 [01:07<00:16,  8.41s/it]"
     ]
    },
    {
     "name": "stdout",
     "output_type": "stream",
     "text": [
      "Processed 8 out of 10 results.\n"
     ]
    },
    {
     "name": "stderr",
     "output_type": "stream",
     "text": [
      " 90%|█████████ | 9/10 [01:15<00:08,  8.38s/it]"
     ]
    },
    {
     "name": "stdout",
     "output_type": "stream",
     "text": [
      "Processed 9 out of 10 results.\n"
     ]
    },
    {
     "name": "stderr",
     "output_type": "stream",
     "text": [
      "100%|██████████| 10/10 [01:24<00:00,  8.42s/it]\n"
     ]
    },
    {
     "name": "stdout",
     "output_type": "stream",
     "text": [
      "Processed 10 out of 10 results.\n",
      "8\n",
      "Extracting file context for 8 datasets...\n"
     ]
    },
    {
     "name": "stderr",
     "output_type": "stream",
     "text": [
      " 12%|█▎        | 1/8 [00:01<00:13,  1.92s/it]"
     ]
    },
    {
     "name": "stdout",
     "output_type": "stream",
     "text": [
      "Processed 1 out of 8 results.\n"
     ]
    },
    {
     "name": "stderr",
     "output_type": "stream",
     "text": [
      " 25%|██▌       | 2/8 [00:03<00:09,  1.51s/it]"
     ]
    },
    {
     "name": "stdout",
     "output_type": "stream",
     "text": [
      "Processed 2 out of 8 results.\n"
     ]
    },
    {
     "name": "stderr",
     "output_type": "stream",
     "text": [
      " 38%|███▊      | 3/8 [00:04<00:06,  1.38s/it]"
     ]
    },
    {
     "name": "stdout",
     "output_type": "stream",
     "text": [
      "Processed 3 out of 8 results.\n"
     ]
    },
    {
     "name": "stderr",
     "output_type": "stream",
     "text": [
      " 50%|█████     | 4/8 [00:05<00:05,  1.31s/it]"
     ]
    },
    {
     "name": "stdout",
     "output_type": "stream",
     "text": [
      "Processed 4 out of 8 results.\n"
     ]
    },
    {
     "name": "stderr",
     "output_type": "stream",
     "text": [
      " 62%|██████▎   | 5/8 [00:06<00:03,  1.28s/it]"
     ]
    },
    {
     "name": "stdout",
     "output_type": "stream",
     "text": [
      "Processed 5 out of 8 results.\n"
     ]
    },
    {
     "name": "stderr",
     "output_type": "stream",
     "text": [
      " 75%|███████▌  | 6/8 [00:08<00:02,  1.26s/it]"
     ]
    },
    {
     "name": "stdout",
     "output_type": "stream",
     "text": [
      "Processed 6 out of 8 results.\n"
     ]
    },
    {
     "name": "stderr",
     "output_type": "stream",
     "text": [
      " 88%|████████▊ | 7/8 [00:09<00:01,  1.26s/it]"
     ]
    },
    {
     "name": "stdout",
     "output_type": "stream",
     "text": [
      "Processed 7 out of 8 results.\n"
     ]
    },
    {
     "name": "stderr",
     "output_type": "stream",
     "text": [
      "100%|██████████| 8/8 [00:10<00:00,  1.31s/it]\n"
     ]
    },
    {
     "name": "stdout",
     "output_type": "stream",
     "text": [
      "Processed 8 out of 8 results.\n",
      "20\n",
      "Extracting file context for 20 datasets...\n"
     ]
    },
    {
     "name": "stderr",
     "output_type": "stream",
     "text": [
      "  5%|▌         | 1/20 [00:10<03:15, 10.31s/it]"
     ]
    },
    {
     "name": "stdout",
     "output_type": "stream",
     "text": [
      "Processed 1 out of 20 results.\n"
     ]
    },
    {
     "name": "stderr",
     "output_type": "stream",
     "text": [
      " 10%|█         | 2/20 [00:20<03:04, 10.24s/it]"
     ]
    },
    {
     "name": "stdout",
     "output_type": "stream",
     "text": [
      "Processed 2 out of 20 results.\n"
     ]
    },
    {
     "name": "stderr",
     "output_type": "stream",
     "text": [
      " 15%|█▌        | 3/20 [00:31<02:57, 10.47s/it]"
     ]
    },
    {
     "name": "stdout",
     "output_type": "stream",
     "text": [
      "Processed 3 out of 20 results.\n"
     ]
    },
    {
     "name": "stderr",
     "output_type": "stream",
     "text": [
      " 20%|██        | 4/20 [00:41<02:46, 10.42s/it]"
     ]
    },
    {
     "name": "stdout",
     "output_type": "stream",
     "text": [
      "Processed 4 out of 20 results.\n"
     ]
    },
    {
     "name": "stderr",
     "output_type": "stream",
     "text": [
      " 25%|██▌       | 5/20 [00:51<02:35, 10.34s/it]"
     ]
    },
    {
     "name": "stdout",
     "output_type": "stream",
     "text": [
      "Processed 5 out of 20 results.\n"
     ]
    },
    {
     "name": "stderr",
     "output_type": "stream",
     "text": [
      " 30%|███       | 6/20 [01:02<02:24, 10.31s/it]"
     ]
    },
    {
     "name": "stdout",
     "output_type": "stream",
     "text": [
      "Processed 6 out of 20 results.\n"
     ]
    },
    {
     "name": "stderr",
     "output_type": "stream",
     "text": [
      " 35%|███▌      | 7/20 [01:12<02:14, 10.38s/it]"
     ]
    },
    {
     "name": "stdout",
     "output_type": "stream",
     "text": [
      "Processed 7 out of 20 results.\n"
     ]
    },
    {
     "name": "stderr",
     "output_type": "stream",
     "text": [
      " 40%|████      | 8/20 [01:23<02:05, 10.43s/it]"
     ]
    },
    {
     "name": "stdout",
     "output_type": "stream",
     "text": [
      "Processed 8 out of 20 results.\n"
     ]
    },
    {
     "name": "stderr",
     "output_type": "stream",
     "text": [
      " 45%|████▌     | 9/20 [01:33<01:54, 10.43s/it]"
     ]
    },
    {
     "name": "stdout",
     "output_type": "stream",
     "text": [
      "Processed 9 out of 20 results.\n"
     ]
    },
    {
     "name": "stderr",
     "output_type": "stream",
     "text": [
      " 50%|█████     | 10/20 [01:43<01:43, 10.38s/it]"
     ]
    },
    {
     "name": "stdout",
     "output_type": "stream",
     "text": [
      "Processed 10 out of 20 results.\n"
     ]
    },
    {
     "name": "stderr",
     "output_type": "stream",
     "text": [
      " 55%|█████▌    | 11/20 [01:53<01:32, 10.31s/it]"
     ]
    },
    {
     "name": "stdout",
     "output_type": "stream",
     "text": [
      "Processed 11 out of 20 results.\n"
     ]
    },
    {
     "name": "stderr",
     "output_type": "stream",
     "text": [
      " 60%|██████    | 12/20 [02:04<01:22, 10.33s/it]"
     ]
    },
    {
     "name": "stdout",
     "output_type": "stream",
     "text": [
      "Processed 12 out of 20 results.\n"
     ]
    },
    {
     "name": "stderr",
     "output_type": "stream",
     "text": [
      " 65%|██████▌   | 13/20 [02:14<01:12, 10.42s/it]"
     ]
    },
    {
     "name": "stdout",
     "output_type": "stream",
     "text": [
      "Processed 13 out of 20 results.\n"
     ]
    },
    {
     "name": "stderr",
     "output_type": "stream",
     "text": [
      " 70%|███████   | 14/20 [02:25<01:02, 10.50s/it]"
     ]
    },
    {
     "name": "stdout",
     "output_type": "stream",
     "text": [
      "Processed 14 out of 20 results.\n"
     ]
    },
    {
     "name": "stderr",
     "output_type": "stream",
     "text": [
      " 75%|███████▌  | 15/20 [02:35<00:52, 10.44s/it]"
     ]
    },
    {
     "name": "stdout",
     "output_type": "stream",
     "text": [
      "Processed 15 out of 20 results.\n"
     ]
    },
    {
     "name": "stderr",
     "output_type": "stream",
     "text": [
      " 80%|████████  | 16/20 [02:46<00:41, 10.49s/it]"
     ]
    },
    {
     "name": "stdout",
     "output_type": "stream",
     "text": [
      "Processed 16 out of 20 results.\n"
     ]
    },
    {
     "name": "stderr",
     "output_type": "stream",
     "text": [
      " 85%|████████▌ | 17/20 [02:56<00:31, 10.48s/it]"
     ]
    },
    {
     "name": "stdout",
     "output_type": "stream",
     "text": [
      "Processed 17 out of 20 results.\n"
     ]
    },
    {
     "name": "stderr",
     "output_type": "stream",
     "text": [
      " 90%|█████████ | 18/20 [03:07<00:20, 10.46s/it]"
     ]
    },
    {
     "name": "stdout",
     "output_type": "stream",
     "text": [
      "Processed 18 out of 20 results.\n"
     ]
    },
    {
     "name": "stderr",
     "output_type": "stream",
     "text": [
      " 95%|█████████▌| 19/20 [03:17<00:10, 10.45s/it]"
     ]
    },
    {
     "name": "stdout",
     "output_type": "stream",
     "text": [
      "Processed 19 out of 20 results.\n"
     ]
    },
    {
     "name": "stderr",
     "output_type": "stream",
     "text": [
      "100%|██████████| 20/20 [03:28<00:00, 10.40s/it]"
     ]
    },
    {
     "name": "stdout",
     "output_type": "stream",
     "text": [
      "Processed 20 out of 20 results.\n",
      "[[{'filename': 'rsds_Amon_HadGEM3-GC31-MM_dcppA-hindcast_s1961-r10i1p1f2_gn_196111-196112.nc', 'url': 'https://esgf.ceda.ac.uk/thredds/fileServer/esg_cmip6/CMIP6/DCPP/MOHC/HadGEM3-GC31-MM/dcppA-hindcast/s1961-r10i1p1f2/Amon/rsds/gn/v20200417/rsds_Amon_HadGEM3-GC31-MM_dcppA-hindcast_s1961-r10i1p1f2_gn_196111-196112.nc'}, {'filename': 'rsds_Amon_HadGEM3-GC31-MM_dcppA-hindcast_s1961-r10i1p1f2_gn_196201-196212.nc', 'url': 'https://esgf.ceda.ac.uk/thredds/fileServer/esg_cmip6/CMIP6/DCPP/MOHC/HadGEM3-GC31-MM/dcppA-hindcast/s1961-r10i1p1f2/Amon/rsds/gn/v20200417/rsds_Amon_HadGEM3-GC31-MM_dcppA-hindcast_s1961-r10i1p1f2_gn_196201-196212.nc'}, {'filename': 'rsds_Amon_HadGEM3-GC31-MM_dcppA-hindcast_s1961-r10i1p1f2_gn_196301-196312.nc', 'url': 'https://esgf.ceda.ac.uk/thredds/fileServer/esg_cmip6/CMIP6/DCPP/MOHC/HadGEM3-GC31-MM/dcppA-hindcast/s1961-r10i1p1f2/Amon/rsds/gn/v20200417/rsds_Amon_HadGEM3-GC31-MM_dcppA-hindcast_s1961-r10i1p1f2_gn_196301-196312.nc'}, {'filename': 'rsds_Amon_HadGEM3-GC31-MM_dcppA-hindcast_s1961-r10i1p1f2_gn_196401-196412.nc', 'url': 'https://esgf.ceda.ac.uk/thredds/fileServer/esg_cmip6/CMIP6/DCPP/MOHC/HadGEM3-GC31-MM/dcppA-hindcast/s1961-r10i1p1f2/Amon/rsds/gn/v20200417/rsds_Amon_HadGEM3-GC31-MM_dcppA-hindcast_s1961-r10i1p1f2_gn_196401-196412.nc'}, {'filename': 'rsds_Amon_HadGEM3-GC31-MM_dcppA-hindcast_s1961-r10i1p1f2_gn_196501-196512.nc', 'url': 'https://esgf.ceda.ac.uk/thredds/fileServer/esg_cmip6/CMIP6/DCPP/MOHC/HadGEM3-GC31-MM/dcppA-hindcast/s1961-r10i1p1f2/Amon/rsds/gn/v20200417/rsds_Amon_HadGEM3-GC31-MM_dcppA-hindcast_s1961-r10i1p1f2_gn_196501-196512.nc'}, {'filename': 'rsds_Amon_HadGEM3-GC31-MM_dcppA-hindcast_s1961-r10i1p1f2_gn_196601-196612.nc', 'url': 'https://esgf.ceda.ac.uk/thredds/fileServer/esg_cmip6/CMIP6/DCPP/MOHC/HadGEM3-GC31-MM/dcppA-hindcast/s1961-r10i1p1f2/Amon/rsds/gn/v20200417/rsds_Amon_HadGEM3-GC31-MM_dcppA-hindcast_s1961-r10i1p1f2_gn_196601-196612.nc'}, {'filename': 'rsds_Amon_HadGEM3-GC31-MM_dcppA-hindcast_s1961-r10i1p1f2_gn_196701-196712.nc', 'url': 'https://esgf.ceda.ac.uk/thredds/fileServer/esg_cmip6/CMIP6/DCPP/MOHC/HadGEM3-GC31-MM/dcppA-hindcast/s1961-r10i1p1f2/Amon/rsds/gn/v20200417/rsds_Amon_HadGEM3-GC31-MM_dcppA-hindcast_s1961-r10i1p1f2_gn_196701-196712.nc'}, {'filename': 'rsds_Amon_HadGEM3-GC31-MM_dcppA-hindcast_s1961-r10i1p1f2_gn_196801-196812.nc', 'url': 'https://esgf.ceda.ac.uk/thredds/fileServer/esg_cmip6/CMIP6/DCPP/MOHC/HadGEM3-GC31-MM/dcppA-hindcast/s1961-r10i1p1f2/Amon/rsds/gn/v20200417/rsds_Amon_HadGEM3-GC31-MM_dcppA-hindcast_s1961-r10i1p1f2_gn_196801-196812.nc'}, {'filename': 'rsds_Amon_HadGEM3-GC31-MM_dcppA-hindcast_s1961-r10i1p1f2_gn_196901-196912.nc', 'url': 'https://esgf.ceda.ac.uk/thredds/fileServer/esg_cmip6/CMIP6/DCPP/MOHC/HadGEM3-GC31-MM/dcppA-hindcast/s1961-r10i1p1f2/Amon/rsds/gn/v20200417/rsds_Amon_HadGEM3-GC31-MM_dcppA-hindcast_s1961-r10i1p1f2_gn_196901-196912.nc'}, {'filename': 'rsds_Amon_HadGEM3-GC31-MM_dcppA-hindcast_s1961-r10i1p1f2_gn_197001-197012.nc', 'url': 'https://esgf.ceda.ac.uk/thredds/fileServer/esg_cmip6/CMIP6/DCPP/MOHC/HadGEM3-GC31-MM/dcppA-hindcast/s1961-r10i1p1f2/Amon/rsds/gn/v20200417/rsds_Amon_HadGEM3-GC31-MM_dcppA-hindcast_s1961-r10i1p1f2_gn_197001-197012.nc'}, {'filename': 'rsds_Amon_HadGEM3-GC31-MM_dcppA-hindcast_s1961-r10i1p1f2_gn_197101-197112.nc', 'url': 'https://esgf.ceda.ac.uk/thredds/fileServer/esg_cmip6/CMIP6/DCPP/MOHC/HadGEM3-GC31-MM/dcppA-hindcast/s1961-r10i1p1f2/Amon/rsds/gn/v20200417/rsds_Amon_HadGEM3-GC31-MM_dcppA-hindcast_s1961-r10i1p1f2_gn_197101-197112.nc'}, {'filename': 'rsds_Amon_HadGEM3-GC31-MM_dcppA-hindcast_s1961-r10i1p1f2_gn_197201-197203.nc', 'url': 'https://esgf.ceda.ac.uk/thredds/fileServer/esg_cmip6/CMIP6/DCPP/MOHC/HadGEM3-GC31-MM/dcppA-hindcast/s1961-r10i1p1f2/Amon/rsds/gn/v20200417/rsds_Amon_HadGEM3-GC31-MM_dcppA-hindcast_s1961-r10i1p1f2_gn_197201-197203.nc'}, {'filename': 'rsds_Amon_HadGEM3-GC31-MM_dcppA-hindcast_s1961-r1i1p1f2_gn_196111-196112.nc', 'url': 'https://esgf.ceda.ac.uk/thredds/fileServer/esg_cmip6/CMIP6/DCPP/MOHC/HadGEM3-GC31-MM/dcppA-hindcast/s1961-r1i1p1f2/Amon/rsds/gn/v20200417/rsds_Amon_HadGEM3-GC31-MM_dcppA-hindcast_s1961-r1i1p1f2_gn_196111-196112.nc'}, {'filename': 'rsds_Amon_HadGEM3-GC31-MM_dcppA-hindcast_s1961-r1i1p1f2_gn_196201-196212.nc', 'url': 'https://esgf.ceda.ac.uk/thredds/fileServer/esg_cmip6/CMIP6/DCPP/MOHC/HadGEM3-GC31-MM/dcppA-hindcast/s1961-r1i1p1f2/Amon/rsds/gn/v20200417/rsds_Amon_HadGEM3-GC31-MM_dcppA-hindcast_s1961-r1i1p1f2_gn_196201-196212.nc'}, {'filename': 'rsds_Amon_HadGEM3-GC31-MM_dcppA-hindcast_s1961-r1i1p1f2_gn_196301-196312.nc', 'url': 'https://esgf.ceda.ac.uk/thredds/fileServer/esg_cmip6/CMIP6/DCPP/MOHC/HadGEM3-GC31-MM/dcppA-hindcast/s1961-r1i1p1f2/Amon/rsds/gn/v20200417/rsds_Amon_HadGEM3-GC31-MM_dcppA-hindcast_s1961-r1i1p1f2_gn_196301-196312.nc'}, {'filename': 'rsds_Amon_HadGEM3-GC31-MM_dcppA-hindcast_s1961-r1i1p1f2_gn_196401-196412.nc', 'url': 'https://esgf.ceda.ac.uk/thredds/fileServer/esg_cmip6/CMIP6/DCPP/MOHC/HadGEM3-GC31-MM/dcppA-hindcast/s1961-r1i1p1f2/Amon/rsds/gn/v20200417/rsds_Amon_HadGEM3-GC31-MM_dcppA-hindcast_s1961-r1i1p1f2_gn_196401-196412.nc'}, {'filename': 'rsds_Amon_HadGEM3-GC31-MM_dcppA-hindcast_s1961-r1i1p1f2_gn_196501-196512.nc', 'url': 'https://esgf.ceda.ac.uk/thredds/fileServer/esg_cmip6/CMIP6/DCPP/MOHC/HadGEM3-GC31-MM/dcppA-hindcast/s1961-r1i1p1f2/Amon/rsds/gn/v20200417/rsds_Amon_HadGEM3-GC31-MM_dcppA-hindcast_s1961-r1i1p1f2_gn_196501-196512.nc'}, {'filename': 'rsds_Amon_HadGEM3-GC31-MM_dcppA-hindcast_s1961-r1i1p1f2_gn_196601-196612.nc', 'url': 'https://esgf.ceda.ac.uk/thredds/fileServer/esg_cmip6/CMIP6/DCPP/MOHC/HadGEM3-GC31-MM/dcppA-hindcast/s1961-r1i1p1f2/Amon/rsds/gn/v20200417/rsds_Amon_HadGEM3-GC31-MM_dcppA-hindcast_s1961-r1i1p1f2_gn_196601-196612.nc'}, {'filename': 'rsds_Amon_HadGEM3-GC31-MM_dcppA-hindcast_s1961-r1i1p1f2_gn_196701-196712.nc', 'url': 'https://esgf.ceda.ac.uk/thredds/fileServer/esg_cmip6/CMIP6/DCPP/MOHC/HadGEM3-GC31-MM/dcppA-hindcast/s1961-r1i1p1f2/Amon/rsds/gn/v20200417/rsds_Amon_HadGEM3-GC31-MM_dcppA-hindcast_s1961-r1i1p1f2_gn_196701-196712.nc'}, {'filename': 'rsds_Amon_HadGEM3-GC31-MM_dcppA-hindcast_s1961-r1i1p1f2_gn_196801-196812.nc', 'url': 'https://esgf.ceda.ac.uk/thredds/fileServer/esg_cmip6/CMIP6/DCPP/MOHC/HadGEM3-GC31-MM/dcppA-hindcast/s1961-r1i1p1f2/Amon/rsds/gn/v20200417/rsds_Amon_HadGEM3-GC31-MM_dcppA-hindcast_s1961-r1i1p1f2_gn_196801-196812.nc'}, {'filename': 'rsds_Amon_HadGEM3-GC31-MM_dcppA-hindcast_s1961-r1i1p1f2_gn_196901-196912.nc', 'url': 'https://esgf.ceda.ac.uk/thredds/fileServer/esg_cmip6/CMIP6/DCPP/MOHC/HadGEM3-GC31-MM/dcppA-hindcast/s1961-r1i1p1f2/Amon/rsds/gn/v20200417/rsds_Amon_HadGEM3-GC31-MM_dcppA-hindcast_s1961-r1i1p1f2_gn_196901-196912.nc'}, {'filename': 'rsds_Amon_HadGEM3-GC31-MM_dcppA-hindcast_s1961-r1i1p1f2_gn_197001-197012.nc', 'url': 'https://esgf.ceda.ac.uk/thredds/fileServer/esg_cmip6/CMIP6/DCPP/MOHC/HadGEM3-GC31-MM/dcppA-hindcast/s1961-r1i1p1f2/Amon/rsds/gn/v20200417/rsds_Amon_HadGEM3-GC31-MM_dcppA-hindcast_s1961-r1i1p1f2_gn_197001-197012.nc'}, {'filename': 'rsds_Amon_HadGEM3-GC31-MM_dcppA-hindcast_s1961-r1i1p1f2_gn_197101-197112.nc', 'url': 'https://esgf.ceda.ac.uk/thredds/fileServer/esg_cmip6/CMIP6/DCPP/MOHC/HadGEM3-GC31-MM/dcppA-hindcast/s1961-r1i1p1f2/Amon/rsds/gn/v20200417/rsds_Amon_HadGEM3-GC31-MM_dcppA-hindcast_s1961-r1i1p1f2_gn_197101-197112.nc'}, {'filename': 'rsds_Amon_HadGEM3-GC31-MM_dcppA-hindcast_s1961-r1i1p1f2_gn_197201-197203.nc', 'url': 'https://esgf.ceda.ac.uk/thredds/fileServer/esg_cmip6/CMIP6/DCPP/MOHC/HadGEM3-GC31-MM/dcppA-hindcast/s1961-r1i1p1f2/Amon/rsds/gn/v20200417/rsds_Amon_HadGEM3-GC31-MM_dcppA-hindcast_s1961-r1i1p1f2_gn_197201-197203.nc'}, {'filename': 'rsds_Amon_HadGEM3-GC31-MM_dcppA-hindcast_s1961-r2i1p1f2_gn_196111-196112.nc', 'url': 'https://esgf.ceda.ac.uk/thredds/fileServer/esg_cmip6/CMIP6/DCPP/MOHC/HadGEM3-GC31-MM/dcppA-hindcast/s1961-r2i1p1f2/Amon/rsds/gn/v20200417/rsds_Amon_HadGEM3-GC31-MM_dcppA-hindcast_s1961-r2i1p1f2_gn_196111-196112.nc'}, {'filename': 'rsds_Amon_HadGEM3-GC31-MM_dcppA-hindcast_s1961-r2i1p1f2_gn_196201-196212.nc', 'url': 'https://esgf.ceda.ac.uk/thredds/fileServer/esg_cmip6/CMIP6/DCPP/MOHC/HadGEM3-GC31-MM/dcppA-hindcast/s1961-r2i1p1f2/Amon/rsds/gn/v20200417/rsds_Amon_HadGEM3-GC31-MM_dcppA-hindcast_s1961-r2i1p1f2_gn_196201-196212.nc'}, {'filename': 'rsds_Amon_HadGEM3-GC31-MM_dcppA-hindcast_s1961-r2i1p1f2_gn_196301-196312.nc', 'url': 'https://esgf.ceda.ac.uk/thredds/fileServer/esg_cmip6/CMIP6/DCPP/MOHC/HadGEM3-GC31-MM/dcppA-hindcast/s1961-r2i1p1f2/Amon/rsds/gn/v20200417/rsds_Amon_HadGEM3-GC31-MM_dcppA-hindcast_s1961-r2i1p1f2_gn_196301-196312.nc'}, {'filename': 'rsds_Amon_HadGEM3-GC31-MM_dcppA-hindcast_s1961-r2i1p1f2_gn_196401-196412.nc', 'url': 'https://esgf.ceda.ac.uk/thredds/fileServer/esg_cmip6/CMIP6/DCPP/MOHC/HadGEM3-GC31-MM/dcppA-hindcast/s1961-r2i1p1f2/Amon/rsds/gn/v20200417/rsds_Amon_HadGEM3-GC31-MM_dcppA-hindcast_s1961-r2i1p1f2_gn_196401-196412.nc'}, {'filename': 'rsds_Amon_HadGEM3-GC31-MM_dcppA-hindcast_s1961-r2i1p1f2_gn_196501-196512.nc', 'url': 'https://esgf.ceda.ac.uk/thredds/fileServer/esg_cmip6/CMIP6/DCPP/MOHC/HadGEM3-GC31-MM/dcppA-hindcast/s1961-r2i1p1f2/Amon/rsds/gn/v20200417/rsds_Amon_HadGEM3-GC31-MM_dcppA-hindcast_s1961-r2i1p1f2_gn_196501-196512.nc'}, {'filename': 'rsds_Amon_HadGEM3-GC31-MM_dcppA-hindcast_s1961-r2i1p1f2_gn_196601-196612.nc', 'url': 'https://esgf.ceda.ac.uk/thredds/fileServer/esg_cmip6/CMIP6/DCPP/MOHC/HadGEM3-GC31-MM/dcppA-hindcast/s1961-r2i1p1f2/Amon/rsds/gn/v20200417/rsds_Amon_HadGEM3-GC31-MM_dcppA-hindcast_s1961-r2i1p1f2_gn_196601-196612.nc'}, {'filename': 'rsds_Amon_HadGEM3-GC31-MM_dcppA-hindcast_s1961-r2i1p1f2_gn_196701-196712.nc', 'url': 'https://esgf.ceda.ac.uk/thredds/fileServer/esg_cmip6/CMIP6/DCPP/MOHC/HadGEM3-GC31-MM/dcppA-hindcast/s1961-r2i1p1f2/Amon/rsds/gn/v20200417/rsds_Amon_HadGEM3-GC31-MM_dcppA-hindcast_s1961-r2i1p1f2_gn_196701-196712.nc'}, {'filename': 'rsds_Amon_HadGEM3-GC31-MM_dcppA-hindcast_s1961-r2i1p1f2_gn_196801-196812.nc', 'url': 'https://esgf.ceda.ac.uk/thredds/fileServer/esg_cmip6/CMIP6/DCPP/MOHC/HadGEM3-GC31-MM/dcppA-hindcast/s1961-r2i1p1f2/Amon/rsds/gn/v20200417/rsds_Amon_HadGEM3-GC31-MM_dcppA-hindcast_s1961-r2i1p1f2_gn_196801-196812.nc'}, {'filename': 'rsds_Amon_HadGEM3-GC31-MM_dcppA-hindcast_s1961-r2i1p1f2_gn_196901-196912.nc', 'url': 'https://esgf.ceda.ac.uk/thredds/fileServer/esg_cmip6/CMIP6/DCPP/MOHC/HadGEM3-GC31-MM/dcppA-hindcast/s1961-r2i1p1f2/Amon/rsds/gn/v20200417/rsds_Amon_HadGEM3-GC31-MM_dcppA-hindcast_s1961-r2i1p1f2_gn_196901-196912.nc'}, {'filename': 'rsds_Amon_HadGEM3-GC31-MM_dcppA-hindcast_s1961-r2i1p1f2_gn_197001-197012.nc', 'url': 'https://esgf.ceda.ac.uk/thredds/fileServer/esg_cmip6/CMIP6/DCPP/MOHC/HadGEM3-GC31-MM/dcppA-hindcast/s1961-r2i1p1f2/Amon/rsds/gn/v20200417/rsds_Amon_HadGEM3-GC31-MM_dcppA-hindcast_s1961-r2i1p1f2_gn_197001-197012.nc'}, {'filename': 'rsds_Amon_HadGEM3-GC31-MM_dcppA-hindcast_s1961-r2i1p1f2_gn_197101-197112.nc', 'url': 'https://esgf.ceda.ac.uk/thredds/fileServer/esg_cmip6/CMIP6/DCPP/MOHC/HadGEM3-GC31-MM/dcppA-hindcast/s1961-r2i1p1f2/Amon/rsds/gn/v20200417/rsds_Amon_HadGEM3-GC31-MM_dcppA-hindcast_s1961-r2i1p1f2_gn_197101-197112.nc'}, {'filename': 'rsds_Amon_HadGEM3-GC31-MM_dcppA-hindcast_s1961-r2i1p1f2_gn_197201-197203.nc', 'url': 'https://esgf.ceda.ac.uk/thredds/fileServer/esg_cmip6/CMIP6/DCPP/MOHC/HadGEM3-GC31-MM/dcppA-hindcast/s1961-r2i1p1f2/Amon/rsds/gn/v20200417/rsds_Amon_HadGEM3-GC31-MM_dcppA-hindcast_s1961-r2i1p1f2_gn_197201-197203.nc'}, {'filename': 'rsds_Amon_HadGEM3-GC31-MM_dcppA-hindcast_s1961-r3i1p1f2_gn_196111-196112.nc', 'url': 'https://esgf.ceda.ac.uk/thredds/fileServer/esg_cmip6/CMIP6/DCPP/MOHC/HadGEM3-GC31-MM/dcppA-hindcast/s1961-r3i1p1f2/Amon/rsds/gn/v20200417/rsds_Amon_HadGEM3-GC31-MM_dcppA-hindcast_s1961-r3i1p1f2_gn_196111-196112.nc'}, {'filename': 'rsds_Amon_HadGEM3-GC31-MM_dcppA-hindcast_s1961-r3i1p1f2_gn_196201-196212.nc', 'url': 'https://esgf.ceda.ac.uk/thredds/fileServer/esg_cmip6/CMIP6/DCPP/MOHC/HadGEM3-GC31-MM/dcppA-hindcast/s1961-r3i1p1f2/Amon/rsds/gn/v20200417/rsds_Amon_HadGEM3-GC31-MM_dcppA-hindcast_s1961-r3i1p1f2_gn_196201-196212.nc'}, {'filename': 'rsds_Amon_HadGEM3-GC31-MM_dcppA-hindcast_s1961-r3i1p1f2_gn_196301-196312.nc', 'url': 'https://esgf.ceda.ac.uk/thredds/fileServer/esg_cmip6/CMIP6/DCPP/MOHC/HadGEM3-GC31-MM/dcppA-hindcast/s1961-r3i1p1f2/Amon/rsds/gn/v20200417/rsds_Amon_HadGEM3-GC31-MM_dcppA-hindcast_s1961-r3i1p1f2_gn_196301-196312.nc'}, {'filename': 'rsds_Amon_HadGEM3-GC31-MM_dcppA-hindcast_s1961-r3i1p1f2_gn_196401-196412.nc', 'url': 'https://esgf.ceda.ac.uk/thredds/fileServer/esg_cmip6/CMIP6/DCPP/MOHC/HadGEM3-GC31-MM/dcppA-hindcast/s1961-r3i1p1f2/Amon/rsds/gn/v20200417/rsds_Amon_HadGEM3-GC31-MM_dcppA-hindcast_s1961-r3i1p1f2_gn_196401-196412.nc'}, {'filename': 'rsds_Amon_HadGEM3-GC31-MM_dcppA-hindcast_s1961-r3i1p1f2_gn_196501-196512.nc', 'url': 'https://esgf.ceda.ac.uk/thredds/fileServer/esg_cmip6/CMIP6/DCPP/MOHC/HadGEM3-GC31-MM/dcppA-hindcast/s1961-r3i1p1f2/Amon/rsds/gn/v20200417/rsds_Amon_HadGEM3-GC31-MM_dcppA-hindcast_s1961-r3i1p1f2_gn_196501-196512.nc'}, {'filename': 'rsds_Amon_HadGEM3-GC31-MM_dcppA-hindcast_s1961-r3i1p1f2_gn_196601-196612.nc', 'url': 'https://esgf.ceda.ac.uk/thredds/fileServer/esg_cmip6/CMIP6/DCPP/MOHC/HadGEM3-GC31-MM/dcppA-hindcast/s1961-r3i1p1f2/Amon/rsds/gn/v20200417/rsds_Amon_HadGEM3-GC31-MM_dcppA-hindcast_s1961-r3i1p1f2_gn_196601-196612.nc'}, {'filename': 'rsds_Amon_HadGEM3-GC31-MM_dcppA-hindcast_s1961-r3i1p1f2_gn_196701-196712.nc', 'url': 'https://esgf.ceda.ac.uk/thredds/fileServer/esg_cmip6/CMIP6/DCPP/MOHC/HadGEM3-GC31-MM/dcppA-hindcast/s1961-r3i1p1f2/Amon/rsds/gn/v20200417/rsds_Amon_HadGEM3-GC31-MM_dcppA-hindcast_s1961-r3i1p1f2_gn_196701-196712.nc'}, {'filename': 'rsds_Amon_HadGEM3-GC31-MM_dcppA-hindcast_s1961-r3i1p1f2_gn_196801-196812.nc', 'url': 'https://esgf.ceda.ac.uk/thredds/fileServer/esg_cmip6/CMIP6/DCPP/MOHC/HadGEM3-GC31-MM/dcppA-hindcast/s1961-r3i1p1f2/Amon/rsds/gn/v20200417/rsds_Amon_HadGEM3-GC31-MM_dcppA-hindcast_s1961-r3i1p1f2_gn_196801-196812.nc'}, {'filename': 'rsds_Amon_HadGEM3-GC31-MM_dcppA-hindcast_s1961-r3i1p1f2_gn_196901-196912.nc', 'url': 'https://esgf.ceda.ac.uk/thredds/fileServer/esg_cmip6/CMIP6/DCPP/MOHC/HadGEM3-GC31-MM/dcppA-hindcast/s1961-r3i1p1f2/Amon/rsds/gn/v20200417/rsds_Amon_HadGEM3-GC31-MM_dcppA-hindcast_s1961-r3i1p1f2_gn_196901-196912.nc'}, {'filename': 'rsds_Amon_HadGEM3-GC31-MM_dcppA-hindcast_s1961-r3i1p1f2_gn_197001-197012.nc', 'url': 'https://esgf.ceda.ac.uk/thredds/fileServer/esg_cmip6/CMIP6/DCPP/MOHC/HadGEM3-GC31-MM/dcppA-hindcast/s1961-r3i1p1f2/Amon/rsds/gn/v20200417/rsds_Amon_HadGEM3-GC31-MM_dcppA-hindcast_s1961-r3i1p1f2_gn_197001-197012.nc'}, {'filename': 'rsds_Amon_HadGEM3-GC31-MM_dcppA-hindcast_s1961-r3i1p1f2_gn_197101-197112.nc', 'url': 'https://esgf.ceda.ac.uk/thredds/fileServer/esg_cmip6/CMIP6/DCPP/MOHC/HadGEM3-GC31-MM/dcppA-hindcast/s1961-r3i1p1f2/Amon/rsds/gn/v20200417/rsds_Amon_HadGEM3-GC31-MM_dcppA-hindcast_s1961-r3i1p1f2_gn_197101-197112.nc'}, {'filename': 'rsds_Amon_HadGEM3-GC31-MM_dcppA-hindcast_s1961-r3i1p1f2_gn_197201-197203.nc', 'url': 'https://esgf.ceda.ac.uk/thredds/fileServer/esg_cmip6/CMIP6/DCPP/MOHC/HadGEM3-GC31-MM/dcppA-hindcast/s1961-r3i1p1f2/Amon/rsds/gn/v20200417/rsds_Amon_HadGEM3-GC31-MM_dcppA-hindcast_s1961-r3i1p1f2_gn_197201-197203.nc'}, {'filename': 'rsds_Amon_HadGEM3-GC31-MM_dcppA-hindcast_s1961-r4i1p1f2_gn_196111-196112.nc', 'url': 'https://esgf.ceda.ac.uk/thredds/fileServer/esg_cmip6/CMIP6/DCPP/MOHC/HadGEM3-GC31-MM/dcppA-hindcast/s1961-r4i1p1f2/Amon/rsds/gn/v20200417/rsds_Amon_HadGEM3-GC31-MM_dcppA-hindcast_s1961-r4i1p1f2_gn_196111-196112.nc'}, {'filename': 'rsds_Amon_HadGEM3-GC31-MM_dcppA-hindcast_s1961-r4i1p1f2_gn_196201-196212.nc', 'url': 'https://esgf.ceda.ac.uk/thredds/fileServer/esg_cmip6/CMIP6/DCPP/MOHC/HadGEM3-GC31-MM/dcppA-hindcast/s1961-r4i1p1f2/Amon/rsds/gn/v20200417/rsds_Amon_HadGEM3-GC31-MM_dcppA-hindcast_s1961-r4i1p1f2_gn_196201-196212.nc'}, {'filename': 'rsds_Amon_HadGEM3-GC31-MM_dcppA-hindcast_s1961-r4i1p1f2_gn_196301-196312.nc', 'url': 'https://esgf.ceda.ac.uk/thredds/fileServer/esg_cmip6/CMIP6/DCPP/MOHC/HadGEM3-GC31-MM/dcppA-hindcast/s1961-r4i1p1f2/Amon/rsds/gn/v20200417/rsds_Amon_HadGEM3-GC31-MM_dcppA-hindcast_s1961-r4i1p1f2_gn_196301-196312.nc'}, {'filename': 'rsds_Amon_HadGEM3-GC31-MM_dcppA-hindcast_s1961-r4i1p1f2_gn_196401-196412.nc', 'url': 'https://esgf.ceda.ac.uk/thredds/fileServer/esg_cmip6/CMIP6/DCPP/MOHC/HadGEM3-GC31-MM/dcppA-hindcast/s1961-r4i1p1f2/Amon/rsds/gn/v20200417/rsds_Amon_HadGEM3-GC31-MM_dcppA-hindcast_s1961-r4i1p1f2_gn_196401-196412.nc'}, {'filename': 'rsds_Amon_HadGEM3-GC31-MM_dcppA-hindcast_s1961-r4i1p1f2_gn_196501-196512.nc', 'url': 'https://esgf.ceda.ac.uk/thredds/fileServer/esg_cmip6/CMIP6/DCPP/MOHC/HadGEM3-GC31-MM/dcppA-hindcast/s1961-r4i1p1f2/Amon/rsds/gn/v20200417/rsds_Amon_HadGEM3-GC31-MM_dcppA-hindcast_s1961-r4i1p1f2_gn_196501-196512.nc'}, {'filename': 'rsds_Amon_HadGEM3-GC31-MM_dcppA-hindcast_s1961-r4i1p1f2_gn_196601-196612.nc', 'url': 'https://esgf.ceda.ac.uk/thredds/fileServer/esg_cmip6/CMIP6/DCPP/MOHC/HadGEM3-GC31-MM/dcppA-hindcast/s1961-r4i1p1f2/Amon/rsds/gn/v20200417/rsds_Amon_HadGEM3-GC31-MM_dcppA-hindcast_s1961-r4i1p1f2_gn_196601-196612.nc'}, {'filename': 'rsds_Amon_HadGEM3-GC31-MM_dcppA-hindcast_s1961-r4i1p1f2_gn_196701-196712.nc', 'url': 'https://esgf.ceda.ac.uk/thredds/fileServer/esg_cmip6/CMIP6/DCPP/MOHC/HadGEM3-GC31-MM/dcppA-hindcast/s1961-r4i1p1f2/Amon/rsds/gn/v20200417/rsds_Amon_HadGEM3-GC31-MM_dcppA-hindcast_s1961-r4i1p1f2_gn_196701-196712.nc'}, {'filename': 'rsds_Amon_HadGEM3-GC31-MM_dcppA-hindcast_s1961-r4i1p1f2_gn_196801-196812.nc', 'url': 'https://esgf.ceda.ac.uk/thredds/fileServer/esg_cmip6/CMIP6/DCPP/MOHC/HadGEM3-GC31-MM/dcppA-hindcast/s1961-r4i1p1f2/Amon/rsds/gn/v20200417/rsds_Amon_HadGEM3-GC31-MM_dcppA-hindcast_s1961-r4i1p1f2_gn_196801-196812.nc'}, {'filename': 'rsds_Amon_HadGEM3-GC31-MM_dcppA-hindcast_s1961-r4i1p1f2_gn_196901-196912.nc', 'url': 'https://esgf.ceda.ac.uk/thredds/fileServer/esg_cmip6/CMIP6/DCPP/MOHC/HadGEM3-GC31-MM/dcppA-hindcast/s1961-r4i1p1f2/Amon/rsds/gn/v20200417/rsds_Amon_HadGEM3-GC31-MM_dcppA-hindcast_s1961-r4i1p1f2_gn_196901-196912.nc'}, {'filename': 'rsds_Amon_HadGEM3-GC31-MM_dcppA-hindcast_s1961-r4i1p1f2_gn_197001-197012.nc', 'url': 'https://esgf.ceda.ac.uk/thredds/fileServer/esg_cmip6/CMIP6/DCPP/MOHC/HadGEM3-GC31-MM/dcppA-hindcast/s1961-r4i1p1f2/Amon/rsds/gn/v20200417/rsds_Amon_HadGEM3-GC31-MM_dcppA-hindcast_s1961-r4i1p1f2_gn_197001-197012.nc'}, {'filename': 'rsds_Amon_HadGEM3-GC31-MM_dcppA-hindcast_s1961-r4i1p1f2_gn_197101-197112.nc', 'url': 'https://esgf.ceda.ac.uk/thredds/fileServer/esg_cmip6/CMIP6/DCPP/MOHC/HadGEM3-GC31-MM/dcppA-hindcast/s1961-r4i1p1f2/Amon/rsds/gn/v20200417/rsds_Amon_HadGEM3-GC31-MM_dcppA-hindcast_s1961-r4i1p1f2_gn_197101-197112.nc'}, {'filename': 'rsds_Amon_HadGEM3-GC31-MM_dcppA-hindcast_s1961-r4i1p1f2_gn_197201-197203.nc', 'url': 'https://esgf.ceda.ac.uk/thredds/fileServer/esg_cmip6/CMIP6/DCPP/MOHC/HadGEM3-GC31-MM/dcppA-hindcast/s1961-r4i1p1f2/Amon/rsds/gn/v20200417/rsds_Amon_HadGEM3-GC31-MM_dcppA-hindcast_s1961-r4i1p1f2_gn_197201-197203.nc'}, {'filename': 'rsds_Amon_HadGEM3-GC31-MM_dcppA-hindcast_s1961-r5i1p1f2_gn_196111-196112.nc', 'url': 'https://esgf.ceda.ac.uk/thredds/fileServer/esg_cmip6/CMIP6/DCPP/MOHC/HadGEM3-GC31-MM/dcppA-hindcast/s1961-r5i1p1f2/Amon/rsds/gn/v20200417/rsds_Amon_HadGEM3-GC31-MM_dcppA-hindcast_s1961-r5i1p1f2_gn_196111-196112.nc'}, {'filename': 'rsds_Amon_HadGEM3-GC31-MM_dcppA-hindcast_s1961-r5i1p1f2_gn_196201-196212.nc', 'url': 'https://esgf.ceda.ac.uk/thredds/fileServer/esg_cmip6/CMIP6/DCPP/MOHC/HadGEM3-GC31-MM/dcppA-hindcast/s1961-r5i1p1f2/Amon/rsds/gn/v20200417/rsds_Amon_HadGEM3-GC31-MM_dcppA-hindcast_s1961-r5i1p1f2_gn_196201-196212.nc'}, {'filename': 'rsds_Amon_HadGEM3-GC31-MM_dcppA-hindcast_s1961-r5i1p1f2_gn_196301-196312.nc', 'url': 'https://esgf.ceda.ac.uk/thredds/fileServer/esg_cmip6/CMIP6/DCPP/MOHC/HadGEM3-GC31-MM/dcppA-hindcast/s1961-r5i1p1f2/Amon/rsds/gn/v20200417/rsds_Amon_HadGEM3-GC31-MM_dcppA-hindcast_s1961-r5i1p1f2_gn_196301-196312.nc'}, {'filename': 'rsds_Amon_HadGEM3-GC31-MM_dcppA-hindcast_s1961-r5i1p1f2_gn_196401-196412.nc', 'url': 'https://esgf.ceda.ac.uk/thredds/fileServer/esg_cmip6/CMIP6/DCPP/MOHC/HadGEM3-GC31-MM/dcppA-hindcast/s1961-r5i1p1f2/Amon/rsds/gn/v20200417/rsds_Amon_HadGEM3-GC31-MM_dcppA-hindcast_s1961-r5i1p1f2_gn_196401-196412.nc'}, {'filename': 'rsds_Amon_HadGEM3-GC31-MM_dcppA-hindcast_s1961-r5i1p1f2_gn_196501-196512.nc', 'url': 'https://esgf.ceda.ac.uk/thredds/fileServer/esg_cmip6/CMIP6/DCPP/MOHC/HadGEM3-GC31-MM/dcppA-hindcast/s1961-r5i1p1f2/Amon/rsds/gn/v20200417/rsds_Amon_HadGEM3-GC31-MM_dcppA-hindcast_s1961-r5i1p1f2_gn_196501-196512.nc'}, {'filename': 'rsds_Amon_HadGEM3-GC31-MM_dcppA-hindcast_s1961-r5i1p1f2_gn_196601-196612.nc', 'url': 'https://esgf.ceda.ac.uk/thredds/fileServer/esg_cmip6/CMIP6/DCPP/MOHC/HadGEM3-GC31-MM/dcppA-hindcast/s1961-r5i1p1f2/Amon/rsds/gn/v20200417/rsds_Amon_HadGEM3-GC31-MM_dcppA-hindcast_s1961-r5i1p1f2_gn_196601-196612.nc'}, {'filename': 'rsds_Amon_HadGEM3-GC31-MM_dcppA-hindcast_s1961-r5i1p1f2_gn_196701-196712.nc', 'url': 'https://esgf.ceda.ac.uk/thredds/fileServer/esg_cmip6/CMIP6/DCPP/MOHC/HadGEM3-GC31-MM/dcppA-hindcast/s1961-r5i1p1f2/Amon/rsds/gn/v20200417/rsds_Amon_HadGEM3-GC31-MM_dcppA-hindcast_s1961-r5i1p1f2_gn_196701-196712.nc'}, {'filename': 'rsds_Amon_HadGEM3-GC31-MM_dcppA-hindcast_s1961-r5i1p1f2_gn_196801-196812.nc', 'url': 'https://esgf.ceda.ac.uk/thredds/fileServer/esg_cmip6/CMIP6/DCPP/MOHC/HadGEM3-GC31-MM/dcppA-hindcast/s1961-r5i1p1f2/Amon/rsds/gn/v20200417/rsds_Amon_HadGEM3-GC31-MM_dcppA-hindcast_s1961-r5i1p1f2_gn_196801-196812.nc'}, {'filename': 'rsds_Amon_HadGEM3-GC31-MM_dcppA-hindcast_s1961-r5i1p1f2_gn_196901-196912.nc', 'url': 'https://esgf.ceda.ac.uk/thredds/fileServer/esg_cmip6/CMIP6/DCPP/MOHC/HadGEM3-GC31-MM/dcppA-hindcast/s1961-r5i1p1f2/Amon/rsds/gn/v20200417/rsds_Amon_HadGEM3-GC31-MM_dcppA-hindcast_s1961-r5i1p1f2_gn_196901-196912.nc'}, {'filename': 'rsds_Amon_HadGEM3-GC31-MM_dcppA-hindcast_s1961-r5i1p1f2_gn_197001-197012.nc', 'url': 'https://esgf.ceda.ac.uk/thredds/fileServer/esg_cmip6/CMIP6/DCPP/MOHC/HadGEM3-GC31-MM/dcppA-hindcast/s1961-r5i1p1f2/Amon/rsds/gn/v20200417/rsds_Amon_HadGEM3-GC31-MM_dcppA-hindcast_s1961-r5i1p1f2_gn_197001-197012.nc'}, {'filename': 'rsds_Amon_HadGEM3-GC31-MM_dcppA-hindcast_s1961-r5i1p1f2_gn_197101-197112.nc', 'url': 'https://esgf.ceda.ac.uk/thredds/fileServer/esg_cmip6/CMIP6/DCPP/MOHC/HadGEM3-GC31-MM/dcppA-hindcast/s1961-r5i1p1f2/Amon/rsds/gn/v20200417/rsds_Amon_HadGEM3-GC31-MM_dcppA-hindcast_s1961-r5i1p1f2_gn_197101-197112.nc'}, {'filename': 'rsds_Amon_HadGEM3-GC31-MM_dcppA-hindcast_s1961-r5i1p1f2_gn_197201-197203.nc', 'url': 'https://esgf.ceda.ac.uk/thredds/fileServer/esg_cmip6/CMIP6/DCPP/MOHC/HadGEM3-GC31-MM/dcppA-hindcast/s1961-r5i1p1f2/Amon/rsds/gn/v20200417/rsds_Amon_HadGEM3-GC31-MM_dcppA-hindcast_s1961-r5i1p1f2_gn_197201-197203.nc'}, {'filename': 'rsds_Amon_HadGEM3-GC31-MM_dcppA-hindcast_s1961-r6i1p1f2_gn_196111-196112.nc', 'url': 'https://esgf.ceda.ac.uk/thredds/fileServer/esg_cmip6/CMIP6/DCPP/MOHC/HadGEM3-GC31-MM/dcppA-hindcast/s1961-r6i1p1f2/Amon/rsds/gn/v20200417/rsds_Amon_HadGEM3-GC31-MM_dcppA-hindcast_s1961-r6i1p1f2_gn_196111-196112.nc'}, {'filename': 'rsds_Amon_HadGEM3-GC31-MM_dcppA-hindcast_s1961-r6i1p1f2_gn_196201-196212.nc', 'url': 'https://esgf.ceda.ac.uk/thredds/fileServer/esg_cmip6/CMIP6/DCPP/MOHC/HadGEM3-GC31-MM/dcppA-hindcast/s1961-r6i1p1f2/Amon/rsds/gn/v20200417/rsds_Amon_HadGEM3-GC31-MM_dcppA-hindcast_s1961-r6i1p1f2_gn_196201-196212.nc'}, {'filename': 'rsds_Amon_HadGEM3-GC31-MM_dcppA-hindcast_s1961-r6i1p1f2_gn_196301-196312.nc', 'url': 'https://esgf.ceda.ac.uk/thredds/fileServer/esg_cmip6/CMIP6/DCPP/MOHC/HadGEM3-GC31-MM/dcppA-hindcast/s1961-r6i1p1f2/Amon/rsds/gn/v20200417/rsds_Amon_HadGEM3-GC31-MM_dcppA-hindcast_s1961-r6i1p1f2_gn_196301-196312.nc'}, {'filename': 'rsds_Amon_HadGEM3-GC31-MM_dcppA-hindcast_s1961-r6i1p1f2_gn_196401-196412.nc', 'url': 'https://esgf.ceda.ac.uk/thredds/fileServer/esg_cmip6/CMIP6/DCPP/MOHC/HadGEM3-GC31-MM/dcppA-hindcast/s1961-r6i1p1f2/Amon/rsds/gn/v20200417/rsds_Amon_HadGEM3-GC31-MM_dcppA-hindcast_s1961-r6i1p1f2_gn_196401-196412.nc'}, {'filename': 'rsds_Amon_HadGEM3-GC31-MM_dcppA-hindcast_s1961-r6i1p1f2_gn_196501-196512.nc', 'url': 'https://esgf.ceda.ac.uk/thredds/fileServer/esg_cmip6/CMIP6/DCPP/MOHC/HadGEM3-GC31-MM/dcppA-hindcast/s1961-r6i1p1f2/Amon/rsds/gn/v20200417/rsds_Amon_HadGEM3-GC31-MM_dcppA-hindcast_s1961-r6i1p1f2_gn_196501-196512.nc'}, {'filename': 'rsds_Amon_HadGEM3-GC31-MM_dcppA-hindcast_s1961-r6i1p1f2_gn_196601-196612.nc', 'url': 'https://esgf.ceda.ac.uk/thredds/fileServer/esg_cmip6/CMIP6/DCPP/MOHC/HadGEM3-GC31-MM/dcppA-hindcast/s1961-r6i1p1f2/Amon/rsds/gn/v20200417/rsds_Amon_HadGEM3-GC31-MM_dcppA-hindcast_s1961-r6i1p1f2_gn_196601-196612.nc'}, {'filename': 'rsds_Amon_HadGEM3-GC31-MM_dcppA-hindcast_s1961-r6i1p1f2_gn_196701-196712.nc', 'url': 'https://esgf.ceda.ac.uk/thredds/fileServer/esg_cmip6/CMIP6/DCPP/MOHC/HadGEM3-GC31-MM/dcppA-hindcast/s1961-r6i1p1f2/Amon/rsds/gn/v20200417/rsds_Amon_HadGEM3-GC31-MM_dcppA-hindcast_s1961-r6i1p1f2_gn_196701-196712.nc'}, {'filename': 'rsds_Amon_HadGEM3-GC31-MM_dcppA-hindcast_s1961-r6i1p1f2_gn_196801-196812.nc', 'url': 'https://esgf.ceda.ac.uk/thredds/fileServer/esg_cmip6/CMIP6/DCPP/MOHC/HadGEM3-GC31-MM/dcppA-hindcast/s1961-r6i1p1f2/Amon/rsds/gn/v20200417/rsds_Amon_HadGEM3-GC31-MM_dcppA-hindcast_s1961-r6i1p1f2_gn_196801-196812.nc'}, {'filename': 'rsds_Amon_HadGEM3-GC31-MM_dcppA-hindcast_s1961-r6i1p1f2_gn_196901-196912.nc', 'url': 'https://esgf.ceda.ac.uk/thredds/fileServer/esg_cmip6/CMIP6/DCPP/MOHC/HadGEM3-GC31-MM/dcppA-hindcast/s1961-r6i1p1f2/Amon/rsds/gn/v20200417/rsds_Amon_HadGEM3-GC31-MM_dcppA-hindcast_s1961-r6i1p1f2_gn_196901-196912.nc'}, {'filename': 'rsds_Amon_HadGEM3-GC31-MM_dcppA-hindcast_s1961-r6i1p1f2_gn_197001-197012.nc', 'url': 'https://esgf.ceda.ac.uk/thredds/fileServer/esg_cmip6/CMIP6/DCPP/MOHC/HadGEM3-GC31-MM/dcppA-hindcast/s1961-r6i1p1f2/Amon/rsds/gn/v20200417/rsds_Amon_HadGEM3-GC31-MM_dcppA-hindcast_s1961-r6i1p1f2_gn_197001-197012.nc'}, {'filename': 'rsds_Amon_HadGEM3-GC31-MM_dcppA-hindcast_s1961-r6i1p1f2_gn_197101-197112.nc', 'url': 'https://esgf.ceda.ac.uk/thredds/fileServer/esg_cmip6/CMIP6/DCPP/MOHC/HadGEM3-GC31-MM/dcppA-hindcast/s1961-r6i1p1f2/Amon/rsds/gn/v20200417/rsds_Amon_HadGEM3-GC31-MM_dcppA-hindcast_s1961-r6i1p1f2_gn_197101-197112.nc'}, {'filename': 'rsds_Amon_HadGEM3-GC31-MM_dcppA-hindcast_s1961-r6i1p1f2_gn_197201-197203.nc', 'url': 'https://esgf.ceda.ac.uk/thredds/fileServer/esg_cmip6/CMIP6/DCPP/MOHC/HadGEM3-GC31-MM/dcppA-hindcast/s1961-r6i1p1f2/Amon/rsds/gn/v20200417/rsds_Amon_HadGEM3-GC31-MM_dcppA-hindcast_s1961-r6i1p1f2_gn_197201-197203.nc'}, {'filename': 'rsds_Amon_HadGEM3-GC31-MM_dcppA-hindcast_s1961-r7i1p1f2_gn_196111-196112.nc', 'url': 'https://esgf.ceda.ac.uk/thredds/fileServer/esg_cmip6/CMIP6/DCPP/MOHC/HadGEM3-GC31-MM/dcppA-hindcast/s1961-r7i1p1f2/Amon/rsds/gn/v20200417/rsds_Amon_HadGEM3-GC31-MM_dcppA-hindcast_s1961-r7i1p1f2_gn_196111-196112.nc'}, {'filename': 'rsds_Amon_HadGEM3-GC31-MM_dcppA-hindcast_s1961-r7i1p1f2_gn_196201-196212.nc', 'url': 'https://esgf.ceda.ac.uk/thredds/fileServer/esg_cmip6/CMIP6/DCPP/MOHC/HadGEM3-GC31-MM/dcppA-hindcast/s1961-r7i1p1f2/Amon/rsds/gn/v20200417/rsds_Amon_HadGEM3-GC31-MM_dcppA-hindcast_s1961-r7i1p1f2_gn_196201-196212.nc'}, {'filename': 'rsds_Amon_HadGEM3-GC31-MM_dcppA-hindcast_s1961-r7i1p1f2_gn_196301-196312.nc', 'url': 'https://esgf.ceda.ac.uk/thredds/fileServer/esg_cmip6/CMIP6/DCPP/MOHC/HadGEM3-GC31-MM/dcppA-hindcast/s1961-r7i1p1f2/Amon/rsds/gn/v20200417/rsds_Amon_HadGEM3-GC31-MM_dcppA-hindcast_s1961-r7i1p1f2_gn_196301-196312.nc'}, {'filename': 'rsds_Amon_HadGEM3-GC31-MM_dcppA-hindcast_s1961-r7i1p1f2_gn_196401-196412.nc', 'url': 'https://esgf.ceda.ac.uk/thredds/fileServer/esg_cmip6/CMIP6/DCPP/MOHC/HadGEM3-GC31-MM/dcppA-hindcast/s1961-r7i1p1f2/Amon/rsds/gn/v20200417/rsds_Amon_HadGEM3-GC31-MM_dcppA-hindcast_s1961-r7i1p1f2_gn_196401-196412.nc'}, {'filename': 'rsds_Amon_HadGEM3-GC31-MM_dcppA-hindcast_s1961-r7i1p1f2_gn_196501-196512.nc', 'url': 'https://esgf.ceda.ac.uk/thredds/fileServer/esg_cmip6/CMIP6/DCPP/MOHC/HadGEM3-GC31-MM/dcppA-hindcast/s1961-r7i1p1f2/Amon/rsds/gn/v20200417/rsds_Amon_HadGEM3-GC31-MM_dcppA-hindcast_s1961-r7i1p1f2_gn_196501-196512.nc'}, {'filename': 'rsds_Amon_HadGEM3-GC31-MM_dcppA-hindcast_s1961-r7i1p1f2_gn_196601-196612.nc', 'url': 'https://esgf.ceda.ac.uk/thredds/fileServer/esg_cmip6/CMIP6/DCPP/MOHC/HadGEM3-GC31-MM/dcppA-hindcast/s1961-r7i1p1f2/Amon/rsds/gn/v20200417/rsds_Amon_HadGEM3-GC31-MM_dcppA-hindcast_s1961-r7i1p1f2_gn_196601-196612.nc'}, {'filename': 'rsds_Amon_HadGEM3-GC31-MM_dcppA-hindcast_s1961-r7i1p1f2_gn_196701-196712.nc', 'url': 'https://esgf.ceda.ac.uk/thredds/fileServer/esg_cmip6/CMIP6/DCPP/MOHC/HadGEM3-GC31-MM/dcppA-hindcast/s1961-r7i1p1f2/Amon/rsds/gn/v20200417/rsds_Amon_HadGEM3-GC31-MM_dcppA-hindcast_s1961-r7i1p1f2_gn_196701-196712.nc'}, {'filename': 'rsds_Amon_HadGEM3-GC31-MM_dcppA-hindcast_s1961-r7i1p1f2_gn_196801-196812.nc', 'url': 'https://esgf.ceda.ac.uk/thredds/fileServer/esg_cmip6/CMIP6/DCPP/MOHC/HadGEM3-GC31-MM/dcppA-hindcast/s1961-r7i1p1f2/Amon/rsds/gn/v20200417/rsds_Amon_HadGEM3-GC31-MM_dcppA-hindcast_s1961-r7i1p1f2_gn_196801-196812.nc'}, {'filename': 'rsds_Amon_HadGEM3-GC31-MM_dcppA-hindcast_s1961-r7i1p1f2_gn_196901-196912.nc', 'url': 'https://esgf.ceda.ac.uk/thredds/fileServer/esg_cmip6/CMIP6/DCPP/MOHC/HadGEM3-GC31-MM/dcppA-hindcast/s1961-r7i1p1f2/Amon/rsds/gn/v20200417/rsds_Amon_HadGEM3-GC31-MM_dcppA-hindcast_s1961-r7i1p1f2_gn_196901-196912.nc'}, {'filename': 'rsds_Amon_HadGEM3-GC31-MM_dcppA-hindcast_s1961-r7i1p1f2_gn_197001-197012.nc', 'url': 'https://esgf.ceda.ac.uk/thredds/fileServer/esg_cmip6/CMIP6/DCPP/MOHC/HadGEM3-GC31-MM/dcppA-hindcast/s1961-r7i1p1f2/Amon/rsds/gn/v20200417/rsds_Amon_HadGEM3-GC31-MM_dcppA-hindcast_s1961-r7i1p1f2_gn_197001-197012.nc'}, {'filename': 'rsds_Amon_HadGEM3-GC31-MM_dcppA-hindcast_s1961-r7i1p1f2_gn_197101-197112.nc', 'url': 'https://esgf.ceda.ac.uk/thredds/fileServer/esg_cmip6/CMIP6/DCPP/MOHC/HadGEM3-GC31-MM/dcppA-hindcast/s1961-r7i1p1f2/Amon/rsds/gn/v20200417/rsds_Amon_HadGEM3-GC31-MM_dcppA-hindcast_s1961-r7i1p1f2_gn_197101-197112.nc'}, {'filename': 'rsds_Amon_HadGEM3-GC31-MM_dcppA-hindcast_s1961-r7i1p1f2_gn_197201-197203.nc', 'url': 'https://esgf.ceda.ac.uk/thredds/fileServer/esg_cmip6/CMIP6/DCPP/MOHC/HadGEM3-GC31-MM/dcppA-hindcast/s1961-r7i1p1f2/Amon/rsds/gn/v20200417/rsds_Amon_HadGEM3-GC31-MM_dcppA-hindcast_s1961-r7i1p1f2_gn_197201-197203.nc'}, {'filename': 'rsds_Amon_HadGEM3-GC31-MM_dcppA-hindcast_s1961-r8i1p1f2_gn_196111-196112.nc', 'url': 'https://esgf.ceda.ac.uk/thredds/fileServer/esg_cmip6/CMIP6/DCPP/MOHC/HadGEM3-GC31-MM/dcppA-hindcast/s1961-r8i1p1f2/Amon/rsds/gn/v20200417/rsds_Amon_HadGEM3-GC31-MM_dcppA-hindcast_s1961-r8i1p1f2_gn_196111-196112.nc'}, {'filename': 'rsds_Amon_HadGEM3-GC31-MM_dcppA-hindcast_s1961-r8i1p1f2_gn_196201-196212.nc', 'url': 'https://esgf.ceda.ac.uk/thredds/fileServer/esg_cmip6/CMIP6/DCPP/MOHC/HadGEM3-GC31-MM/dcppA-hindcast/s1961-r8i1p1f2/Amon/rsds/gn/v20200417/rsds_Amon_HadGEM3-GC31-MM_dcppA-hindcast_s1961-r8i1p1f2_gn_196201-196212.nc'}, {'filename': 'rsds_Amon_HadGEM3-GC31-MM_dcppA-hindcast_s1961-r8i1p1f2_gn_196301-196312.nc', 'url': 'https://esgf.ceda.ac.uk/thredds/fileServer/esg_cmip6/CMIP6/DCPP/MOHC/HadGEM3-GC31-MM/dcppA-hindcast/s1961-r8i1p1f2/Amon/rsds/gn/v20200417/rsds_Amon_HadGEM3-GC31-MM_dcppA-hindcast_s1961-r8i1p1f2_gn_196301-196312.nc'}, {'filename': 'rsds_Amon_HadGEM3-GC31-MM_dcppA-hindcast_s1961-r8i1p1f2_gn_196401-196412.nc', 'url': 'https://esgf.ceda.ac.uk/thredds/fileServer/esg_cmip6/CMIP6/DCPP/MOHC/HadGEM3-GC31-MM/dcppA-hindcast/s1961-r8i1p1f2/Amon/rsds/gn/v20200417/rsds_Amon_HadGEM3-GC31-MM_dcppA-hindcast_s1961-r8i1p1f2_gn_196401-196412.nc'}, {'filename': 'rsds_Amon_HadGEM3-GC31-MM_dcppA-hindcast_s1961-r8i1p1f2_gn_196501-196512.nc', 'url': 'https://esgf.ceda.ac.uk/thredds/fileServer/esg_cmip6/CMIP6/DCPP/MOHC/HadGEM3-GC31-MM/dcppA-hindcast/s1961-r8i1p1f2/Amon/rsds/gn/v20200417/rsds_Amon_HadGEM3-GC31-MM_dcppA-hindcast_s1961-r8i1p1f2_gn_196501-196512.nc'}, {'filename': 'rsds_Amon_HadGEM3-GC31-MM_dcppA-hindcast_s1961-r8i1p1f2_gn_196601-196612.nc', 'url': 'https://esgf.ceda.ac.uk/thredds/fileServer/esg_cmip6/CMIP6/DCPP/MOHC/HadGEM3-GC31-MM/dcppA-hindcast/s1961-r8i1p1f2/Amon/rsds/gn/v20200417/rsds_Amon_HadGEM3-GC31-MM_dcppA-hindcast_s1961-r8i1p1f2_gn_196601-196612.nc'}, {'filename': 'rsds_Amon_HadGEM3-GC31-MM_dcppA-hindcast_s1961-r8i1p1f2_gn_196701-196712.nc', 'url': 'https://esgf.ceda.ac.uk/thredds/fileServer/esg_cmip6/CMIP6/DCPP/MOHC/HadGEM3-GC31-MM/dcppA-hindcast/s1961-r8i1p1f2/Amon/rsds/gn/v20200417/rsds_Amon_HadGEM3-GC31-MM_dcppA-hindcast_s1961-r8i1p1f2_gn_196701-196712.nc'}, {'filename': 'rsds_Amon_HadGEM3-GC31-MM_dcppA-hindcast_s1961-r8i1p1f2_gn_196801-196812.nc', 'url': 'https://esgf.ceda.ac.uk/thredds/fileServer/esg_cmip6/CMIP6/DCPP/MOHC/HadGEM3-GC31-MM/dcppA-hindcast/s1961-r8i1p1f2/Amon/rsds/gn/v20200417/rsds_Amon_HadGEM3-GC31-MM_dcppA-hindcast_s1961-r8i1p1f2_gn_196801-196812.nc'}, {'filename': 'rsds_Amon_HadGEM3-GC31-MM_dcppA-hindcast_s1961-r8i1p1f2_gn_196901-196912.nc', 'url': 'https://esgf.ceda.ac.uk/thredds/fileServer/esg_cmip6/CMIP6/DCPP/MOHC/HadGEM3-GC31-MM/dcppA-hindcast/s1961-r8i1p1f2/Amon/rsds/gn/v20200417/rsds_Amon_HadGEM3-GC31-MM_dcppA-hindcast_s1961-r8i1p1f2_gn_196901-196912.nc'}, {'filename': 'rsds_Amon_HadGEM3-GC31-MM_dcppA-hindcast_s1961-r8i1p1f2_gn_197001-197012.nc', 'url': 'https://esgf.ceda.ac.uk/thredds/fileServer/esg_cmip6/CMIP6/DCPP/MOHC/HadGEM3-GC31-MM/dcppA-hindcast/s1961-r8i1p1f2/Amon/rsds/gn/v20200417/rsds_Amon_HadGEM3-GC31-MM_dcppA-hindcast_s1961-r8i1p1f2_gn_197001-197012.nc'}, {'filename': 'rsds_Amon_HadGEM3-GC31-MM_dcppA-hindcast_s1961-r8i1p1f2_gn_197101-197112.nc', 'url': 'https://esgf.ceda.ac.uk/thredds/fileServer/esg_cmip6/CMIP6/DCPP/MOHC/HadGEM3-GC31-MM/dcppA-hindcast/s1961-r8i1p1f2/Amon/rsds/gn/v20200417/rsds_Amon_HadGEM3-GC31-MM_dcppA-hindcast_s1961-r8i1p1f2_gn_197101-197112.nc'}, {'filename': 'rsds_Amon_HadGEM3-GC31-MM_dcppA-hindcast_s1961-r8i1p1f2_gn_197201-197203.nc', 'url': 'https://esgf.ceda.ac.uk/thredds/fileServer/esg_cmip6/CMIP6/DCPP/MOHC/HadGEM3-GC31-MM/dcppA-hindcast/s1961-r8i1p1f2/Amon/rsds/gn/v20200417/rsds_Amon_HadGEM3-GC31-MM_dcppA-hindcast_s1961-r8i1p1f2_gn_197201-197203.nc'}, {'filename': 'rsds_Amon_HadGEM3-GC31-MM_dcppA-hindcast_s1961-r9i1p1f2_gn_196111-196112.nc', 'url': 'https://esgf.ceda.ac.uk/thredds/fileServer/esg_cmip6/CMIP6/DCPP/MOHC/HadGEM3-GC31-MM/dcppA-hindcast/s1961-r9i1p1f2/Amon/rsds/gn/v20200417/rsds_Amon_HadGEM3-GC31-MM_dcppA-hindcast_s1961-r9i1p1f2_gn_196111-196112.nc'}, {'filename': 'rsds_Amon_HadGEM3-GC31-MM_dcppA-hindcast_s1961-r9i1p1f2_gn_196201-196212.nc', 'url': 'https://esgf.ceda.ac.uk/thredds/fileServer/esg_cmip6/CMIP6/DCPP/MOHC/HadGEM3-GC31-MM/dcppA-hindcast/s1961-r9i1p1f2/Amon/rsds/gn/v20200417/rsds_Amon_HadGEM3-GC31-MM_dcppA-hindcast_s1961-r9i1p1f2_gn_196201-196212.nc'}, {'filename': 'rsds_Amon_HadGEM3-GC31-MM_dcppA-hindcast_s1961-r9i1p1f2_gn_196301-196312.nc', 'url': 'https://esgf.ceda.ac.uk/thredds/fileServer/esg_cmip6/CMIP6/DCPP/MOHC/HadGEM3-GC31-MM/dcppA-hindcast/s1961-r9i1p1f2/Amon/rsds/gn/v20200417/rsds_Amon_HadGEM3-GC31-MM_dcppA-hindcast_s1961-r9i1p1f2_gn_196301-196312.nc'}, {'filename': 'rsds_Amon_HadGEM3-GC31-MM_dcppA-hindcast_s1961-r9i1p1f2_gn_196401-196412.nc', 'url': 'https://esgf.ceda.ac.uk/thredds/fileServer/esg_cmip6/CMIP6/DCPP/MOHC/HadGEM3-GC31-MM/dcppA-hindcast/s1961-r9i1p1f2/Amon/rsds/gn/v20200417/rsds_Amon_HadGEM3-GC31-MM_dcppA-hindcast_s1961-r9i1p1f2_gn_196401-196412.nc'}, {'filename': 'rsds_Amon_HadGEM3-GC31-MM_dcppA-hindcast_s1961-r9i1p1f2_gn_196501-196512.nc', 'url': 'https://esgf.ceda.ac.uk/thredds/fileServer/esg_cmip6/CMIP6/DCPP/MOHC/HadGEM3-GC31-MM/dcppA-hindcast/s1961-r9i1p1f2/Amon/rsds/gn/v20200417/rsds_Amon_HadGEM3-GC31-MM_dcppA-hindcast_s1961-r9i1p1f2_gn_196501-196512.nc'}, {'filename': 'rsds_Amon_HadGEM3-GC31-MM_dcppA-hindcast_s1961-r9i1p1f2_gn_196601-196612.nc', 'url': 'https://esgf.ceda.ac.uk/thredds/fileServer/esg_cmip6/CMIP6/DCPP/MOHC/HadGEM3-GC31-MM/dcppA-hindcast/s1961-r9i1p1f2/Amon/rsds/gn/v20200417/rsds_Amon_HadGEM3-GC31-MM_dcppA-hindcast_s1961-r9i1p1f2_gn_196601-196612.nc'}, {'filename': 'rsds_Amon_HadGEM3-GC31-MM_dcppA-hindcast_s1961-r9i1p1f2_gn_196701-196712.nc', 'url': 'https://esgf.ceda.ac.uk/thredds/fileServer/esg_cmip6/CMIP6/DCPP/MOHC/HadGEM3-GC31-MM/dcppA-hindcast/s1961-r9i1p1f2/Amon/rsds/gn/v20200417/rsds_Amon_HadGEM3-GC31-MM_dcppA-hindcast_s1961-r9i1p1f2_gn_196701-196712.nc'}, {'filename': 'rsds_Amon_HadGEM3-GC31-MM_dcppA-hindcast_s1961-r9i1p1f2_gn_196801-196812.nc', 'url': 'https://esgf.ceda.ac.uk/thredds/fileServer/esg_cmip6/CMIP6/DCPP/MOHC/HadGEM3-GC31-MM/dcppA-hindcast/s1961-r9i1p1f2/Amon/rsds/gn/v20200417/rsds_Amon_HadGEM3-GC31-MM_dcppA-hindcast_s1961-r9i1p1f2_gn_196801-196812.nc'}, {'filename': 'rsds_Amon_HadGEM3-GC31-MM_dcppA-hindcast_s1961-r9i1p1f2_gn_196901-196912.nc', 'url': 'https://esgf.ceda.ac.uk/thredds/fileServer/esg_cmip6/CMIP6/DCPP/MOHC/HadGEM3-GC31-MM/dcppA-hindcast/s1961-r9i1p1f2/Amon/rsds/gn/v20200417/rsds_Amon_HadGEM3-GC31-MM_dcppA-hindcast_s1961-r9i1p1f2_gn_196901-196912.nc'}, {'filename': 'rsds_Amon_HadGEM3-GC31-MM_dcppA-hindcast_s1961-r9i1p1f2_gn_197001-197012.nc', 'url': 'https://esgf.ceda.ac.uk/thredds/fileServer/esg_cmip6/CMIP6/DCPP/MOHC/HadGEM3-GC31-MM/dcppA-hindcast/s1961-r9i1p1f2/Amon/rsds/gn/v20200417/rsds_Amon_HadGEM3-GC31-MM_dcppA-hindcast_s1961-r9i1p1f2_gn_197001-197012.nc'}, {'filename': 'rsds_Amon_HadGEM3-GC31-MM_dcppA-hindcast_s1961-r9i1p1f2_gn_197101-197112.nc', 'url': 'https://esgf.ceda.ac.uk/thredds/fileServer/esg_cmip6/CMIP6/DCPP/MOHC/HadGEM3-GC31-MM/dcppA-hindcast/s1961-r9i1p1f2/Amon/rsds/gn/v20200417/rsds_Amon_HadGEM3-GC31-MM_dcppA-hindcast_s1961-r9i1p1f2_gn_197101-197112.nc'}, {'filename': 'rsds_Amon_HadGEM3-GC31-MM_dcppA-hindcast_s1961-r9i1p1f2_gn_197201-197203.nc', 'url': 'https://esgf.ceda.ac.uk/thredds/fileServer/esg_cmip6/CMIP6/DCPP/MOHC/HadGEM3-GC31-MM/dcppA-hindcast/s1961-r9i1p1f2/Amon/rsds/gn/v20200417/rsds_Amon_HadGEM3-GC31-MM_dcppA-hindcast_s1961-r9i1p1f2_gn_197201-197203.nc'}], [{'filename': 'rsds_Amon_BCC-CSM2-MR_dcppA-hindcast_s1961-r1i1p1f1_gn_196101-197012.nc', 'url': 'http://cmip.bcc.cma.cn/thredds/fileServer/cmip6_data/DCPP/BCC/BCC-CSM2-MR/dcppA-hindcast/s1961-r1i1p1f1/Amon/rsds/gn/v20191126/rsds_Amon_BCC-CSM2-MR_dcppA-hindcast_s1961-r1i1p1f1_gn_196101-197012.nc'}, {'filename': 'rsds_Amon_BCC-CSM2-MR_dcppA-hindcast_s1961-r8i1p1f1_gn_196101-197012.nc', 'url': 'http://cmip.bcc.cma.cn/thredds/fileServer/cmip6_data/DCPP/BCC/BCC-CSM2-MR/dcppA-hindcast/s1961-r8i1p1f1/Amon/rsds/gn/v20191204/rsds_Amon_BCC-CSM2-MR_dcppA-hindcast_s1961-r8i1p1f1_gn_196101-197012.nc'}, {'filename': 'rsds_Amon_BCC-CSM2-MR_dcppA-hindcast_s1961-r4i1p1f1_gn_196101-197012.nc', 'url': 'http://cmip.bcc.cma.cn/thredds/fileServer/cmip6_data/DCPP/BCC/BCC-CSM2-MR/dcppA-hindcast/s1961-r4i1p1f1/Amon/rsds/gn/v20191204/rsds_Amon_BCC-CSM2-MR_dcppA-hindcast_s1961-r4i1p1f1_gn_196101-197012.nc'}, {'filename': 'rsds_Amon_BCC-CSM2-MR_dcppA-hindcast_s1961-r7i1p1f1_gn_196101-197012.nc', 'url': 'http://cmip.bcc.cma.cn/thredds/fileServer/cmip6_data/DCPP/BCC/BCC-CSM2-MR/dcppA-hindcast/s1961-r7i1p1f1/Amon/rsds/gn/v20191204/rsds_Amon_BCC-CSM2-MR_dcppA-hindcast_s1961-r7i1p1f1_gn_196101-197012.nc'}, {'filename': 'rsds_Amon_BCC-CSM2-MR_dcppA-hindcast_s1961-r5i1p1f1_gn_196101-197012.nc', 'url': 'http://cmip.bcc.cma.cn/thredds/fileServer/cmip6_data/DCPP/BCC/BCC-CSM2-MR/dcppA-hindcast/s1961-r5i1p1f1/Amon/rsds/gn/v20191204/rsds_Amon_BCC-CSM2-MR_dcppA-hindcast_s1961-r5i1p1f1_gn_196101-197012.nc'}, {'filename': 'rsds_Amon_BCC-CSM2-MR_dcppA-hindcast_s1961-r3i1p1f1_gn_196101-197012.nc', 'url': 'http://cmip.bcc.cma.cn/thredds/fileServer/cmip6_data/DCPP/BCC/BCC-CSM2-MR/dcppA-hindcast/s1961-r3i1p1f1/Amon/rsds/gn/v20191204/rsds_Amon_BCC-CSM2-MR_dcppA-hindcast_s1961-r3i1p1f1_gn_196101-197012.nc'}, {'filename': 'rsds_Amon_BCC-CSM2-MR_dcppA-hindcast_s1961-r6i1p1f1_gn_196101-197012.nc', 'url': 'http://cmip.bcc.cma.cn/thredds/fileServer/cmip6_data/DCPP/BCC/BCC-CSM2-MR/dcppA-hindcast/s1961-r6i1p1f1/Amon/rsds/gn/v20191204/rsds_Amon_BCC-CSM2-MR_dcppA-hindcast_s1961-r6i1p1f1_gn_196101-197012.nc'}, {'filename': 'rsds_Amon_BCC-CSM2-MR_dcppA-hindcast_s1961-r2i1p1f1_gn_196101-197012.nc', 'url': 'http://cmip.bcc.cma.cn/thredds/fileServer/cmip6_data/DCPP/BCC/BCC-CSM2-MR/dcppA-hindcast/s1961-r2i1p1f1/Amon/rsds/gn/v20191204/rsds_Amon_BCC-CSM2-MR_dcppA-hindcast_s1961-r2i1p1f1_gn_196101-197012.nc'}], [{'filename': 'rsds_Amon_NorCPM1_dcppA-hindcast_s1961-r6i1p1f1_gn_196110-197112.nc', 'url': 'http://noresg.nird.sigma2.no/thredds/fileServer/esg_dataroot/cmor/CMIP6/DCPP/NCC/NorCPM1/dcppA-hindcast/s1961-r6i1p1f1/Amon/rsds/gn/v20190914/rsds_Amon_NorCPM1_dcppA-hindcast_s1961-r6i1p1f1_gn_196110-197112.nc'}, {'filename': 'rsds_Amon_NorCPM1_dcppA-hindcast_s1961-r6i2p1f1_gn_196110-197112.nc', 'url': 'http://noresg.nird.sigma2.no/thredds/fileServer/esg_dataroot/cmor/CMIP6/DCPP/NCC/NorCPM1/dcppA-hindcast/s1961-r6i2p1f1/Amon/rsds/gn/v20190914/rsds_Amon_NorCPM1_dcppA-hindcast_s1961-r6i2p1f1_gn_196110-197112.nc'}, {'filename': 'rsds_Amon_NorCPM1_dcppA-hindcast_s1961-r1i2p1f1_gn_196110-197112.nc', 'url': 'http://noresg.nird.sigma2.no/thredds/fileServer/esg_dataroot/cmor/CMIP6/DCPP/NCC/NorCPM1/dcppA-hindcast/s1961-r1i2p1f1/Amon/rsds/gn/v20190914/rsds_Amon_NorCPM1_dcppA-hindcast_s1961-r1i2p1f1_gn_196110-197112.nc'}, {'filename': 'rsds_Amon_NorCPM1_dcppA-hindcast_s1961-r2i1p1f1_gn_196110-197112.nc', 'url': 'http://noresg.nird.sigma2.no/thredds/fileServer/esg_dataroot/cmor/CMIP6/DCPP/NCC/NorCPM1/dcppA-hindcast/s1961-r2i1p1f1/Amon/rsds/gn/v20190914/rsds_Amon_NorCPM1_dcppA-hindcast_s1961-r2i1p1f1_gn_196110-197112.nc'}, {'filename': 'rsds_Amon_NorCPM1_dcppA-hindcast_s1961-r8i2p1f1_gn_196110-197112.nc', 'url': 'http://noresg.nird.sigma2.no/thredds/fileServer/esg_dataroot/cmor/CMIP6/DCPP/NCC/NorCPM1/dcppA-hindcast/s1961-r8i2p1f1/Amon/rsds/gn/v20190914/rsds_Amon_NorCPM1_dcppA-hindcast_s1961-r8i2p1f1_gn_196110-197112.nc'}, {'filename': 'rsds_Amon_NorCPM1_dcppA-hindcast_s1961-r7i1p1f1_gn_196110-197112.nc', 'url': 'http://noresg.nird.sigma2.no/thredds/fileServer/esg_dataroot/cmor/CMIP6/DCPP/NCC/NorCPM1/dcppA-hindcast/s1961-r7i1p1f1/Amon/rsds/gn/v20190914/rsds_Amon_NorCPM1_dcppA-hindcast_s1961-r7i1p1f1_gn_196110-197112.nc'}, {'filename': 'rsds_Amon_NorCPM1_dcppA-hindcast_s1961-r5i2p1f1_gn_196110-197112.nc', 'url': 'http://noresg.nird.sigma2.no/thredds/fileServer/esg_dataroot/cmor/CMIP6/DCPP/NCC/NorCPM1/dcppA-hindcast/s1961-r5i2p1f1/Amon/rsds/gn/v20190914/rsds_Amon_NorCPM1_dcppA-hindcast_s1961-r5i2p1f1_gn_196110-197112.nc'}, {'filename': 'rsds_Amon_NorCPM1_dcppA-hindcast_s1961-r1i1p1f1_gn_196110-197112.nc', 'url': 'http://noresg.nird.sigma2.no/thredds/fileServer/esg_dataroot/cmor/CMIP6/DCPP/NCC/NorCPM1/dcppA-hindcast/s1961-r1i1p1f1/Amon/rsds/gn/v20190914/rsds_Amon_NorCPM1_dcppA-hindcast_s1961-r1i1p1f1_gn_196110-197112.nc'}, {'filename': 'rsds_Amon_NorCPM1_dcppA-hindcast_s1961-r10i1p1f1_gn_196110-197112.nc', 'url': 'http://noresg.nird.sigma2.no/thredds/fileServer/esg_dataroot/cmor/CMIP6/DCPP/NCC/NorCPM1/dcppA-hindcast/s1961-r10i1p1f1/Amon/rsds/gn/v20190914/rsds_Amon_NorCPM1_dcppA-hindcast_s1961-r10i1p1f1_gn_196110-197112.nc'}, {'filename': 'rsds_Amon_NorCPM1_dcppA-hindcast_s1961-r7i2p1f1_gn_196110-197112.nc', 'url': 'http://noresg.nird.sigma2.no/thredds/fileServer/esg_dataroot/cmor/CMIP6/DCPP/NCC/NorCPM1/dcppA-hindcast/s1961-r7i2p1f1/Amon/rsds/gn/v20190914/rsds_Amon_NorCPM1_dcppA-hindcast_s1961-r7i2p1f1_gn_196110-197112.nc'}, {'filename': 'rsds_Amon_NorCPM1_dcppA-hindcast_s1961-r8i1p1f1_gn_196110-197112.nc', 'url': 'http://noresg.nird.sigma2.no/thredds/fileServer/esg_dataroot/cmor/CMIP6/DCPP/NCC/NorCPM1/dcppA-hindcast/s1961-r8i1p1f1/Amon/rsds/gn/v20190914/rsds_Amon_NorCPM1_dcppA-hindcast_s1961-r8i1p1f1_gn_196110-197112.nc'}, {'filename': 'rsds_Amon_NorCPM1_dcppA-hindcast_s1961-r9i1p1f1_gn_196110-197112.nc', 'url': 'http://noresg.nird.sigma2.no/thredds/fileServer/esg_dataroot/cmor/CMIP6/DCPP/NCC/NorCPM1/dcppA-hindcast/s1961-r9i1p1f1/Amon/rsds/gn/v20190914/rsds_Amon_NorCPM1_dcppA-hindcast_s1961-r9i1p1f1_gn_196110-197112.nc'}, {'filename': 'rsds_Amon_NorCPM1_dcppA-hindcast_s1961-r9i2p1f1_gn_196110-197112.nc', 'url': 'http://noresg.nird.sigma2.no/thredds/fileServer/esg_dataroot/cmor/CMIP6/DCPP/NCC/NorCPM1/dcppA-hindcast/s1961-r9i2p1f1/Amon/rsds/gn/v20190914/rsds_Amon_NorCPM1_dcppA-hindcast_s1961-r9i2p1f1_gn_196110-197112.nc'}, {'filename': 'rsds_Amon_NorCPM1_dcppA-hindcast_s1961-r3i1p1f1_gn_196110-197112.nc', 'url': 'http://noresg.nird.sigma2.no/thredds/fileServer/esg_dataroot/cmor/CMIP6/DCPP/NCC/NorCPM1/dcppA-hindcast/s1961-r3i1p1f1/Amon/rsds/gn/v20190914/rsds_Amon_NorCPM1_dcppA-hindcast_s1961-r3i1p1f1_gn_196110-197112.nc'}, {'filename': 'rsds_Amon_NorCPM1_dcppA-hindcast_s1961-r3i2p1f1_gn_196110-197112.nc', 'url': 'http://noresg.nird.sigma2.no/thredds/fileServer/esg_dataroot/cmor/CMIP6/DCPP/NCC/NorCPM1/dcppA-hindcast/s1961-r3i2p1f1/Amon/rsds/gn/v20190914/rsds_Amon_NorCPM1_dcppA-hindcast_s1961-r3i2p1f1_gn_196110-197112.nc'}, {'filename': 'rsds_Amon_NorCPM1_dcppA-hindcast_s1961-r10i2p1f1_gn_196110-197112.nc', 'url': 'http://noresg.nird.sigma2.no/thredds/fileServer/esg_dataroot/cmor/CMIP6/DCPP/NCC/NorCPM1/dcppA-hindcast/s1961-r10i2p1f1/Amon/rsds/gn/v20190914/rsds_Amon_NorCPM1_dcppA-hindcast_s1961-r10i2p1f1_gn_196110-197112.nc'}, {'filename': 'rsds_Amon_NorCPM1_dcppA-hindcast_s1961-r4i2p1f1_gn_196110-197112.nc', 'url': 'http://noresg.nird.sigma2.no/thredds/fileServer/esg_dataroot/cmor/CMIP6/DCPP/NCC/NorCPM1/dcppA-hindcast/s1961-r4i2p1f1/Amon/rsds/gn/v20190914/rsds_Amon_NorCPM1_dcppA-hindcast_s1961-r4i2p1f1_gn_196110-197112.nc'}, {'filename': 'rsds_Amon_NorCPM1_dcppA-hindcast_s1961-r5i1p1f1_gn_196110-197112.nc', 'url': 'http://noresg.nird.sigma2.no/thredds/fileServer/esg_dataroot/cmor/CMIP6/DCPP/NCC/NorCPM1/dcppA-hindcast/s1961-r5i1p1f1/Amon/rsds/gn/v20190914/rsds_Amon_NorCPM1_dcppA-hindcast_s1961-r5i1p1f1_gn_196110-197112.nc'}, {'filename': 'rsds_Amon_NorCPM1_dcppA-hindcast_s1961-r2i2p1f1_gn_196110-197112.nc', 'url': 'http://noresg.nird.sigma2.no/thredds/fileServer/esg_dataroot/cmor/CMIP6/DCPP/NCC/NorCPM1/dcppA-hindcast/s1961-r2i2p1f1/Amon/rsds/gn/v20190914/rsds_Amon_NorCPM1_dcppA-hindcast_s1961-r2i2p1f1_gn_196110-197112.nc'}, {'filename': 'rsds_Amon_NorCPM1_dcppA-hindcast_s1961-r4i1p1f1_gn_196110-197112.nc', 'url': 'http://noresg.nird.sigma2.no/thredds/fileServer/esg_dataroot/cmor/CMIP6/DCPP/NCC/NorCPM1/dcppA-hindcast/s1961-r4i1p1f1/Amon/rsds/gn/v20190914/rsds_Amon_NorCPM1_dcppA-hindcast_s1961-r4i1p1f1_gn_196110-197112.nc'}]]\n",
      "[[], [], []]\n"
     ]
    },
    {
     "name": "stderr",
     "output_type": "stream",
     "text": [
      "\n"
     ]
    }
   ],
   "source": [
    "# Set up a list for the file context\n",
    "file_context_list = []\n",
    "failed_results_list = []\n",
    "\n",
    "# Constrain results_list to the first 3 results\n",
    "results_list = results_list[0:3]\n",
    "\n",
    "# Loop through the results_list and print ther number of results\n",
    "for results in results_list:\n",
    "    print(len(results))\n",
    "\n",
    "    # Extract the file context from the results\n",
    "    file_context, failed_results = extract_file_context(results)\n",
    "\n",
    "    # Append the file_context to the file_context_list\n",
    "    file_context_list.append(file_context)\n",
    "\n",
    "    # Append the failed_results to the failed_results_list\n",
    "    failed_results_list.append(failed_results)\n",
    "\n",
    "\n",
    "# Print the file_context_list\n",
    "print(file_context_list)\n",
    "\n",
    "# Print the failed_results_list\n",
    "print(failed_results_list)"
   ]
  },
  {
   "cell_type": "code",
   "execution_count": 34,
   "metadata": {},
   "outputs": [
    {
     "name": "stdout",
     "output_type": "stream",
     "text": [
      "3\n",
      "<class 'list'>\n",
      "[[{'filename': 'rsds_Amon_HadGEM3-GC31-MM_dcppA-hindcast_s1961-r10i1p1f2_gn_196111-196112.nc', 'url': 'https://esgf.ceda.ac.uk/thredds/fileServer/esg_cmip6/CMIP6/DCPP/MOHC/HadGEM3-GC31-MM/dcppA-hindcast/s1961-r10i1p1f2/Amon/rsds/gn/v20200417/rsds_Amon_HadGEM3-GC31-MM_dcppA-hindcast_s1961-r10i1p1f2_gn_196111-196112.nc'}, {'filename': 'rsds_Amon_HadGEM3-GC31-MM_dcppA-hindcast_s1961-r10i1p1f2_gn_196201-196212.nc', 'url': 'https://esgf.ceda.ac.uk/thredds/fileServer/esg_cmip6/CMIP6/DCPP/MOHC/HadGEM3-GC31-MM/dcppA-hindcast/s1961-r10i1p1f2/Amon/rsds/gn/v20200417/rsds_Amon_HadGEM3-GC31-MM_dcppA-hindcast_s1961-r10i1p1f2_gn_196201-196212.nc'}, {'filename': 'rsds_Amon_HadGEM3-GC31-MM_dcppA-hindcast_s1961-r10i1p1f2_gn_196301-196312.nc', 'url': 'https://esgf.ceda.ac.uk/thredds/fileServer/esg_cmip6/CMIP6/DCPP/MOHC/HadGEM3-GC31-MM/dcppA-hindcast/s1961-r10i1p1f2/Amon/rsds/gn/v20200417/rsds_Amon_HadGEM3-GC31-MM_dcppA-hindcast_s1961-r10i1p1f2_gn_196301-196312.nc'}, {'filename': 'rsds_Amon_HadGEM3-GC31-MM_dcppA-hindcast_s1961-r10i1p1f2_gn_196401-196412.nc', 'url': 'https://esgf.ceda.ac.uk/thredds/fileServer/esg_cmip6/CMIP6/DCPP/MOHC/HadGEM3-GC31-MM/dcppA-hindcast/s1961-r10i1p1f2/Amon/rsds/gn/v20200417/rsds_Amon_HadGEM3-GC31-MM_dcppA-hindcast_s1961-r10i1p1f2_gn_196401-196412.nc'}, {'filename': 'rsds_Amon_HadGEM3-GC31-MM_dcppA-hindcast_s1961-r10i1p1f2_gn_196501-196512.nc', 'url': 'https://esgf.ceda.ac.uk/thredds/fileServer/esg_cmip6/CMIP6/DCPP/MOHC/HadGEM3-GC31-MM/dcppA-hindcast/s1961-r10i1p1f2/Amon/rsds/gn/v20200417/rsds_Amon_HadGEM3-GC31-MM_dcppA-hindcast_s1961-r10i1p1f2_gn_196501-196512.nc'}, {'filename': 'rsds_Amon_HadGEM3-GC31-MM_dcppA-hindcast_s1961-r10i1p1f2_gn_196601-196612.nc', 'url': 'https://esgf.ceda.ac.uk/thredds/fileServer/esg_cmip6/CMIP6/DCPP/MOHC/HadGEM3-GC31-MM/dcppA-hindcast/s1961-r10i1p1f2/Amon/rsds/gn/v20200417/rsds_Amon_HadGEM3-GC31-MM_dcppA-hindcast_s1961-r10i1p1f2_gn_196601-196612.nc'}, {'filename': 'rsds_Amon_HadGEM3-GC31-MM_dcppA-hindcast_s1961-r10i1p1f2_gn_196701-196712.nc', 'url': 'https://esgf.ceda.ac.uk/thredds/fileServer/esg_cmip6/CMIP6/DCPP/MOHC/HadGEM3-GC31-MM/dcppA-hindcast/s1961-r10i1p1f2/Amon/rsds/gn/v20200417/rsds_Amon_HadGEM3-GC31-MM_dcppA-hindcast_s1961-r10i1p1f2_gn_196701-196712.nc'}, {'filename': 'rsds_Amon_HadGEM3-GC31-MM_dcppA-hindcast_s1961-r10i1p1f2_gn_196801-196812.nc', 'url': 'https://esgf.ceda.ac.uk/thredds/fileServer/esg_cmip6/CMIP6/DCPP/MOHC/HadGEM3-GC31-MM/dcppA-hindcast/s1961-r10i1p1f2/Amon/rsds/gn/v20200417/rsds_Amon_HadGEM3-GC31-MM_dcppA-hindcast_s1961-r10i1p1f2_gn_196801-196812.nc'}, {'filename': 'rsds_Amon_HadGEM3-GC31-MM_dcppA-hindcast_s1961-r10i1p1f2_gn_196901-196912.nc', 'url': 'https://esgf.ceda.ac.uk/thredds/fileServer/esg_cmip6/CMIP6/DCPP/MOHC/HadGEM3-GC31-MM/dcppA-hindcast/s1961-r10i1p1f2/Amon/rsds/gn/v20200417/rsds_Amon_HadGEM3-GC31-MM_dcppA-hindcast_s1961-r10i1p1f2_gn_196901-196912.nc'}, {'filename': 'rsds_Amon_HadGEM3-GC31-MM_dcppA-hindcast_s1961-r10i1p1f2_gn_197001-197012.nc', 'url': 'https://esgf.ceda.ac.uk/thredds/fileServer/esg_cmip6/CMIP6/DCPP/MOHC/HadGEM3-GC31-MM/dcppA-hindcast/s1961-r10i1p1f2/Amon/rsds/gn/v20200417/rsds_Amon_HadGEM3-GC31-MM_dcppA-hindcast_s1961-r10i1p1f2_gn_197001-197012.nc'}, {'filename': 'rsds_Amon_HadGEM3-GC31-MM_dcppA-hindcast_s1961-r10i1p1f2_gn_197101-197112.nc', 'url': 'https://esgf.ceda.ac.uk/thredds/fileServer/esg_cmip6/CMIP6/DCPP/MOHC/HadGEM3-GC31-MM/dcppA-hindcast/s1961-r10i1p1f2/Amon/rsds/gn/v20200417/rsds_Amon_HadGEM3-GC31-MM_dcppA-hindcast_s1961-r10i1p1f2_gn_197101-197112.nc'}, {'filename': 'rsds_Amon_HadGEM3-GC31-MM_dcppA-hindcast_s1961-r10i1p1f2_gn_197201-197203.nc', 'url': 'https://esgf.ceda.ac.uk/thredds/fileServer/esg_cmip6/CMIP6/DCPP/MOHC/HadGEM3-GC31-MM/dcppA-hindcast/s1961-r10i1p1f2/Amon/rsds/gn/v20200417/rsds_Amon_HadGEM3-GC31-MM_dcppA-hindcast_s1961-r10i1p1f2_gn_197201-197203.nc'}, {'filename': 'rsds_Amon_HadGEM3-GC31-MM_dcppA-hindcast_s1961-r1i1p1f2_gn_196111-196112.nc', 'url': 'https://esgf.ceda.ac.uk/thredds/fileServer/esg_cmip6/CMIP6/DCPP/MOHC/HadGEM3-GC31-MM/dcppA-hindcast/s1961-r1i1p1f2/Amon/rsds/gn/v20200417/rsds_Amon_HadGEM3-GC31-MM_dcppA-hindcast_s1961-r1i1p1f2_gn_196111-196112.nc'}, {'filename': 'rsds_Amon_HadGEM3-GC31-MM_dcppA-hindcast_s1961-r1i1p1f2_gn_196201-196212.nc', 'url': 'https://esgf.ceda.ac.uk/thredds/fileServer/esg_cmip6/CMIP6/DCPP/MOHC/HadGEM3-GC31-MM/dcppA-hindcast/s1961-r1i1p1f2/Amon/rsds/gn/v20200417/rsds_Amon_HadGEM3-GC31-MM_dcppA-hindcast_s1961-r1i1p1f2_gn_196201-196212.nc'}, {'filename': 'rsds_Amon_HadGEM3-GC31-MM_dcppA-hindcast_s1961-r1i1p1f2_gn_196301-196312.nc', 'url': 'https://esgf.ceda.ac.uk/thredds/fileServer/esg_cmip6/CMIP6/DCPP/MOHC/HadGEM3-GC31-MM/dcppA-hindcast/s1961-r1i1p1f2/Amon/rsds/gn/v20200417/rsds_Amon_HadGEM3-GC31-MM_dcppA-hindcast_s1961-r1i1p1f2_gn_196301-196312.nc'}, {'filename': 'rsds_Amon_HadGEM3-GC31-MM_dcppA-hindcast_s1961-r1i1p1f2_gn_196401-196412.nc', 'url': 'https://esgf.ceda.ac.uk/thredds/fileServer/esg_cmip6/CMIP6/DCPP/MOHC/HadGEM3-GC31-MM/dcppA-hindcast/s1961-r1i1p1f2/Amon/rsds/gn/v20200417/rsds_Amon_HadGEM3-GC31-MM_dcppA-hindcast_s1961-r1i1p1f2_gn_196401-196412.nc'}, {'filename': 'rsds_Amon_HadGEM3-GC31-MM_dcppA-hindcast_s1961-r1i1p1f2_gn_196501-196512.nc', 'url': 'https://esgf.ceda.ac.uk/thredds/fileServer/esg_cmip6/CMIP6/DCPP/MOHC/HadGEM3-GC31-MM/dcppA-hindcast/s1961-r1i1p1f2/Amon/rsds/gn/v20200417/rsds_Amon_HadGEM3-GC31-MM_dcppA-hindcast_s1961-r1i1p1f2_gn_196501-196512.nc'}, {'filename': 'rsds_Amon_HadGEM3-GC31-MM_dcppA-hindcast_s1961-r1i1p1f2_gn_196601-196612.nc', 'url': 'https://esgf.ceda.ac.uk/thredds/fileServer/esg_cmip6/CMIP6/DCPP/MOHC/HadGEM3-GC31-MM/dcppA-hindcast/s1961-r1i1p1f2/Amon/rsds/gn/v20200417/rsds_Amon_HadGEM3-GC31-MM_dcppA-hindcast_s1961-r1i1p1f2_gn_196601-196612.nc'}, {'filename': 'rsds_Amon_HadGEM3-GC31-MM_dcppA-hindcast_s1961-r1i1p1f2_gn_196701-196712.nc', 'url': 'https://esgf.ceda.ac.uk/thredds/fileServer/esg_cmip6/CMIP6/DCPP/MOHC/HadGEM3-GC31-MM/dcppA-hindcast/s1961-r1i1p1f2/Amon/rsds/gn/v20200417/rsds_Amon_HadGEM3-GC31-MM_dcppA-hindcast_s1961-r1i1p1f2_gn_196701-196712.nc'}, {'filename': 'rsds_Amon_HadGEM3-GC31-MM_dcppA-hindcast_s1961-r1i1p1f2_gn_196801-196812.nc', 'url': 'https://esgf.ceda.ac.uk/thredds/fileServer/esg_cmip6/CMIP6/DCPP/MOHC/HadGEM3-GC31-MM/dcppA-hindcast/s1961-r1i1p1f2/Amon/rsds/gn/v20200417/rsds_Amon_HadGEM3-GC31-MM_dcppA-hindcast_s1961-r1i1p1f2_gn_196801-196812.nc'}, {'filename': 'rsds_Amon_HadGEM3-GC31-MM_dcppA-hindcast_s1961-r1i1p1f2_gn_196901-196912.nc', 'url': 'https://esgf.ceda.ac.uk/thredds/fileServer/esg_cmip6/CMIP6/DCPP/MOHC/HadGEM3-GC31-MM/dcppA-hindcast/s1961-r1i1p1f2/Amon/rsds/gn/v20200417/rsds_Amon_HadGEM3-GC31-MM_dcppA-hindcast_s1961-r1i1p1f2_gn_196901-196912.nc'}, {'filename': 'rsds_Amon_HadGEM3-GC31-MM_dcppA-hindcast_s1961-r1i1p1f2_gn_197001-197012.nc', 'url': 'https://esgf.ceda.ac.uk/thredds/fileServer/esg_cmip6/CMIP6/DCPP/MOHC/HadGEM3-GC31-MM/dcppA-hindcast/s1961-r1i1p1f2/Amon/rsds/gn/v20200417/rsds_Amon_HadGEM3-GC31-MM_dcppA-hindcast_s1961-r1i1p1f2_gn_197001-197012.nc'}, {'filename': 'rsds_Amon_HadGEM3-GC31-MM_dcppA-hindcast_s1961-r1i1p1f2_gn_197101-197112.nc', 'url': 'https://esgf.ceda.ac.uk/thredds/fileServer/esg_cmip6/CMIP6/DCPP/MOHC/HadGEM3-GC31-MM/dcppA-hindcast/s1961-r1i1p1f2/Amon/rsds/gn/v20200417/rsds_Amon_HadGEM3-GC31-MM_dcppA-hindcast_s1961-r1i1p1f2_gn_197101-197112.nc'}, {'filename': 'rsds_Amon_HadGEM3-GC31-MM_dcppA-hindcast_s1961-r1i1p1f2_gn_197201-197203.nc', 'url': 'https://esgf.ceda.ac.uk/thredds/fileServer/esg_cmip6/CMIP6/DCPP/MOHC/HadGEM3-GC31-MM/dcppA-hindcast/s1961-r1i1p1f2/Amon/rsds/gn/v20200417/rsds_Amon_HadGEM3-GC31-MM_dcppA-hindcast_s1961-r1i1p1f2_gn_197201-197203.nc'}, {'filename': 'rsds_Amon_HadGEM3-GC31-MM_dcppA-hindcast_s1961-r2i1p1f2_gn_196111-196112.nc', 'url': 'https://esgf.ceda.ac.uk/thredds/fileServer/esg_cmip6/CMIP6/DCPP/MOHC/HadGEM3-GC31-MM/dcppA-hindcast/s1961-r2i1p1f2/Amon/rsds/gn/v20200417/rsds_Amon_HadGEM3-GC31-MM_dcppA-hindcast_s1961-r2i1p1f2_gn_196111-196112.nc'}, {'filename': 'rsds_Amon_HadGEM3-GC31-MM_dcppA-hindcast_s1961-r2i1p1f2_gn_196201-196212.nc', 'url': 'https://esgf.ceda.ac.uk/thredds/fileServer/esg_cmip6/CMIP6/DCPP/MOHC/HadGEM3-GC31-MM/dcppA-hindcast/s1961-r2i1p1f2/Amon/rsds/gn/v20200417/rsds_Amon_HadGEM3-GC31-MM_dcppA-hindcast_s1961-r2i1p1f2_gn_196201-196212.nc'}, {'filename': 'rsds_Amon_HadGEM3-GC31-MM_dcppA-hindcast_s1961-r2i1p1f2_gn_196301-196312.nc', 'url': 'https://esgf.ceda.ac.uk/thredds/fileServer/esg_cmip6/CMIP6/DCPP/MOHC/HadGEM3-GC31-MM/dcppA-hindcast/s1961-r2i1p1f2/Amon/rsds/gn/v20200417/rsds_Amon_HadGEM3-GC31-MM_dcppA-hindcast_s1961-r2i1p1f2_gn_196301-196312.nc'}, {'filename': 'rsds_Amon_HadGEM3-GC31-MM_dcppA-hindcast_s1961-r2i1p1f2_gn_196401-196412.nc', 'url': 'https://esgf.ceda.ac.uk/thredds/fileServer/esg_cmip6/CMIP6/DCPP/MOHC/HadGEM3-GC31-MM/dcppA-hindcast/s1961-r2i1p1f2/Amon/rsds/gn/v20200417/rsds_Amon_HadGEM3-GC31-MM_dcppA-hindcast_s1961-r2i1p1f2_gn_196401-196412.nc'}, {'filename': 'rsds_Amon_HadGEM3-GC31-MM_dcppA-hindcast_s1961-r2i1p1f2_gn_196501-196512.nc', 'url': 'https://esgf.ceda.ac.uk/thredds/fileServer/esg_cmip6/CMIP6/DCPP/MOHC/HadGEM3-GC31-MM/dcppA-hindcast/s1961-r2i1p1f2/Amon/rsds/gn/v20200417/rsds_Amon_HadGEM3-GC31-MM_dcppA-hindcast_s1961-r2i1p1f2_gn_196501-196512.nc'}, {'filename': 'rsds_Amon_HadGEM3-GC31-MM_dcppA-hindcast_s1961-r2i1p1f2_gn_196601-196612.nc', 'url': 'https://esgf.ceda.ac.uk/thredds/fileServer/esg_cmip6/CMIP6/DCPP/MOHC/HadGEM3-GC31-MM/dcppA-hindcast/s1961-r2i1p1f2/Amon/rsds/gn/v20200417/rsds_Amon_HadGEM3-GC31-MM_dcppA-hindcast_s1961-r2i1p1f2_gn_196601-196612.nc'}, {'filename': 'rsds_Amon_HadGEM3-GC31-MM_dcppA-hindcast_s1961-r2i1p1f2_gn_196701-196712.nc', 'url': 'https://esgf.ceda.ac.uk/thredds/fileServer/esg_cmip6/CMIP6/DCPP/MOHC/HadGEM3-GC31-MM/dcppA-hindcast/s1961-r2i1p1f2/Amon/rsds/gn/v20200417/rsds_Amon_HadGEM3-GC31-MM_dcppA-hindcast_s1961-r2i1p1f2_gn_196701-196712.nc'}, {'filename': 'rsds_Amon_HadGEM3-GC31-MM_dcppA-hindcast_s1961-r2i1p1f2_gn_196801-196812.nc', 'url': 'https://esgf.ceda.ac.uk/thredds/fileServer/esg_cmip6/CMIP6/DCPP/MOHC/HadGEM3-GC31-MM/dcppA-hindcast/s1961-r2i1p1f2/Amon/rsds/gn/v20200417/rsds_Amon_HadGEM3-GC31-MM_dcppA-hindcast_s1961-r2i1p1f2_gn_196801-196812.nc'}, {'filename': 'rsds_Amon_HadGEM3-GC31-MM_dcppA-hindcast_s1961-r2i1p1f2_gn_196901-196912.nc', 'url': 'https://esgf.ceda.ac.uk/thredds/fileServer/esg_cmip6/CMIP6/DCPP/MOHC/HadGEM3-GC31-MM/dcppA-hindcast/s1961-r2i1p1f2/Amon/rsds/gn/v20200417/rsds_Amon_HadGEM3-GC31-MM_dcppA-hindcast_s1961-r2i1p1f2_gn_196901-196912.nc'}, {'filename': 'rsds_Amon_HadGEM3-GC31-MM_dcppA-hindcast_s1961-r2i1p1f2_gn_197001-197012.nc', 'url': 'https://esgf.ceda.ac.uk/thredds/fileServer/esg_cmip6/CMIP6/DCPP/MOHC/HadGEM3-GC31-MM/dcppA-hindcast/s1961-r2i1p1f2/Amon/rsds/gn/v20200417/rsds_Amon_HadGEM3-GC31-MM_dcppA-hindcast_s1961-r2i1p1f2_gn_197001-197012.nc'}, {'filename': 'rsds_Amon_HadGEM3-GC31-MM_dcppA-hindcast_s1961-r2i1p1f2_gn_197101-197112.nc', 'url': 'https://esgf.ceda.ac.uk/thredds/fileServer/esg_cmip6/CMIP6/DCPP/MOHC/HadGEM3-GC31-MM/dcppA-hindcast/s1961-r2i1p1f2/Amon/rsds/gn/v20200417/rsds_Amon_HadGEM3-GC31-MM_dcppA-hindcast_s1961-r2i1p1f2_gn_197101-197112.nc'}, {'filename': 'rsds_Amon_HadGEM3-GC31-MM_dcppA-hindcast_s1961-r2i1p1f2_gn_197201-197203.nc', 'url': 'https://esgf.ceda.ac.uk/thredds/fileServer/esg_cmip6/CMIP6/DCPP/MOHC/HadGEM3-GC31-MM/dcppA-hindcast/s1961-r2i1p1f2/Amon/rsds/gn/v20200417/rsds_Amon_HadGEM3-GC31-MM_dcppA-hindcast_s1961-r2i1p1f2_gn_197201-197203.nc'}, {'filename': 'rsds_Amon_HadGEM3-GC31-MM_dcppA-hindcast_s1961-r3i1p1f2_gn_196111-196112.nc', 'url': 'https://esgf.ceda.ac.uk/thredds/fileServer/esg_cmip6/CMIP6/DCPP/MOHC/HadGEM3-GC31-MM/dcppA-hindcast/s1961-r3i1p1f2/Amon/rsds/gn/v20200417/rsds_Amon_HadGEM3-GC31-MM_dcppA-hindcast_s1961-r3i1p1f2_gn_196111-196112.nc'}, {'filename': 'rsds_Amon_HadGEM3-GC31-MM_dcppA-hindcast_s1961-r3i1p1f2_gn_196201-196212.nc', 'url': 'https://esgf.ceda.ac.uk/thredds/fileServer/esg_cmip6/CMIP6/DCPP/MOHC/HadGEM3-GC31-MM/dcppA-hindcast/s1961-r3i1p1f2/Amon/rsds/gn/v20200417/rsds_Amon_HadGEM3-GC31-MM_dcppA-hindcast_s1961-r3i1p1f2_gn_196201-196212.nc'}, {'filename': 'rsds_Amon_HadGEM3-GC31-MM_dcppA-hindcast_s1961-r3i1p1f2_gn_196301-196312.nc', 'url': 'https://esgf.ceda.ac.uk/thredds/fileServer/esg_cmip6/CMIP6/DCPP/MOHC/HadGEM3-GC31-MM/dcppA-hindcast/s1961-r3i1p1f2/Amon/rsds/gn/v20200417/rsds_Amon_HadGEM3-GC31-MM_dcppA-hindcast_s1961-r3i1p1f2_gn_196301-196312.nc'}, {'filename': 'rsds_Amon_HadGEM3-GC31-MM_dcppA-hindcast_s1961-r3i1p1f2_gn_196401-196412.nc', 'url': 'https://esgf.ceda.ac.uk/thredds/fileServer/esg_cmip6/CMIP6/DCPP/MOHC/HadGEM3-GC31-MM/dcppA-hindcast/s1961-r3i1p1f2/Amon/rsds/gn/v20200417/rsds_Amon_HadGEM3-GC31-MM_dcppA-hindcast_s1961-r3i1p1f2_gn_196401-196412.nc'}, {'filename': 'rsds_Amon_HadGEM3-GC31-MM_dcppA-hindcast_s1961-r3i1p1f2_gn_196501-196512.nc', 'url': 'https://esgf.ceda.ac.uk/thredds/fileServer/esg_cmip6/CMIP6/DCPP/MOHC/HadGEM3-GC31-MM/dcppA-hindcast/s1961-r3i1p1f2/Amon/rsds/gn/v20200417/rsds_Amon_HadGEM3-GC31-MM_dcppA-hindcast_s1961-r3i1p1f2_gn_196501-196512.nc'}, {'filename': 'rsds_Amon_HadGEM3-GC31-MM_dcppA-hindcast_s1961-r3i1p1f2_gn_196601-196612.nc', 'url': 'https://esgf.ceda.ac.uk/thredds/fileServer/esg_cmip6/CMIP6/DCPP/MOHC/HadGEM3-GC31-MM/dcppA-hindcast/s1961-r3i1p1f2/Amon/rsds/gn/v20200417/rsds_Amon_HadGEM3-GC31-MM_dcppA-hindcast_s1961-r3i1p1f2_gn_196601-196612.nc'}, {'filename': 'rsds_Amon_HadGEM3-GC31-MM_dcppA-hindcast_s1961-r3i1p1f2_gn_196701-196712.nc', 'url': 'https://esgf.ceda.ac.uk/thredds/fileServer/esg_cmip6/CMIP6/DCPP/MOHC/HadGEM3-GC31-MM/dcppA-hindcast/s1961-r3i1p1f2/Amon/rsds/gn/v20200417/rsds_Amon_HadGEM3-GC31-MM_dcppA-hindcast_s1961-r3i1p1f2_gn_196701-196712.nc'}, {'filename': 'rsds_Amon_HadGEM3-GC31-MM_dcppA-hindcast_s1961-r3i1p1f2_gn_196801-196812.nc', 'url': 'https://esgf.ceda.ac.uk/thredds/fileServer/esg_cmip6/CMIP6/DCPP/MOHC/HadGEM3-GC31-MM/dcppA-hindcast/s1961-r3i1p1f2/Amon/rsds/gn/v20200417/rsds_Amon_HadGEM3-GC31-MM_dcppA-hindcast_s1961-r3i1p1f2_gn_196801-196812.nc'}, {'filename': 'rsds_Amon_HadGEM3-GC31-MM_dcppA-hindcast_s1961-r3i1p1f2_gn_196901-196912.nc', 'url': 'https://esgf.ceda.ac.uk/thredds/fileServer/esg_cmip6/CMIP6/DCPP/MOHC/HadGEM3-GC31-MM/dcppA-hindcast/s1961-r3i1p1f2/Amon/rsds/gn/v20200417/rsds_Amon_HadGEM3-GC31-MM_dcppA-hindcast_s1961-r3i1p1f2_gn_196901-196912.nc'}, {'filename': 'rsds_Amon_HadGEM3-GC31-MM_dcppA-hindcast_s1961-r3i1p1f2_gn_197001-197012.nc', 'url': 'https://esgf.ceda.ac.uk/thredds/fileServer/esg_cmip6/CMIP6/DCPP/MOHC/HadGEM3-GC31-MM/dcppA-hindcast/s1961-r3i1p1f2/Amon/rsds/gn/v20200417/rsds_Amon_HadGEM3-GC31-MM_dcppA-hindcast_s1961-r3i1p1f2_gn_197001-197012.nc'}, {'filename': 'rsds_Amon_HadGEM3-GC31-MM_dcppA-hindcast_s1961-r3i1p1f2_gn_197101-197112.nc', 'url': 'https://esgf.ceda.ac.uk/thredds/fileServer/esg_cmip6/CMIP6/DCPP/MOHC/HadGEM3-GC31-MM/dcppA-hindcast/s1961-r3i1p1f2/Amon/rsds/gn/v20200417/rsds_Amon_HadGEM3-GC31-MM_dcppA-hindcast_s1961-r3i1p1f2_gn_197101-197112.nc'}, {'filename': 'rsds_Amon_HadGEM3-GC31-MM_dcppA-hindcast_s1961-r3i1p1f2_gn_197201-197203.nc', 'url': 'https://esgf.ceda.ac.uk/thredds/fileServer/esg_cmip6/CMIP6/DCPP/MOHC/HadGEM3-GC31-MM/dcppA-hindcast/s1961-r3i1p1f2/Amon/rsds/gn/v20200417/rsds_Amon_HadGEM3-GC31-MM_dcppA-hindcast_s1961-r3i1p1f2_gn_197201-197203.nc'}, {'filename': 'rsds_Amon_HadGEM3-GC31-MM_dcppA-hindcast_s1961-r4i1p1f2_gn_196111-196112.nc', 'url': 'https://esgf.ceda.ac.uk/thredds/fileServer/esg_cmip6/CMIP6/DCPP/MOHC/HadGEM3-GC31-MM/dcppA-hindcast/s1961-r4i1p1f2/Amon/rsds/gn/v20200417/rsds_Amon_HadGEM3-GC31-MM_dcppA-hindcast_s1961-r4i1p1f2_gn_196111-196112.nc'}, {'filename': 'rsds_Amon_HadGEM3-GC31-MM_dcppA-hindcast_s1961-r4i1p1f2_gn_196201-196212.nc', 'url': 'https://esgf.ceda.ac.uk/thredds/fileServer/esg_cmip6/CMIP6/DCPP/MOHC/HadGEM3-GC31-MM/dcppA-hindcast/s1961-r4i1p1f2/Amon/rsds/gn/v20200417/rsds_Amon_HadGEM3-GC31-MM_dcppA-hindcast_s1961-r4i1p1f2_gn_196201-196212.nc'}, {'filename': 'rsds_Amon_HadGEM3-GC31-MM_dcppA-hindcast_s1961-r4i1p1f2_gn_196301-196312.nc', 'url': 'https://esgf.ceda.ac.uk/thredds/fileServer/esg_cmip6/CMIP6/DCPP/MOHC/HadGEM3-GC31-MM/dcppA-hindcast/s1961-r4i1p1f2/Amon/rsds/gn/v20200417/rsds_Amon_HadGEM3-GC31-MM_dcppA-hindcast_s1961-r4i1p1f2_gn_196301-196312.nc'}, {'filename': 'rsds_Amon_HadGEM3-GC31-MM_dcppA-hindcast_s1961-r4i1p1f2_gn_196401-196412.nc', 'url': 'https://esgf.ceda.ac.uk/thredds/fileServer/esg_cmip6/CMIP6/DCPP/MOHC/HadGEM3-GC31-MM/dcppA-hindcast/s1961-r4i1p1f2/Amon/rsds/gn/v20200417/rsds_Amon_HadGEM3-GC31-MM_dcppA-hindcast_s1961-r4i1p1f2_gn_196401-196412.nc'}, {'filename': 'rsds_Amon_HadGEM3-GC31-MM_dcppA-hindcast_s1961-r4i1p1f2_gn_196501-196512.nc', 'url': 'https://esgf.ceda.ac.uk/thredds/fileServer/esg_cmip6/CMIP6/DCPP/MOHC/HadGEM3-GC31-MM/dcppA-hindcast/s1961-r4i1p1f2/Amon/rsds/gn/v20200417/rsds_Amon_HadGEM3-GC31-MM_dcppA-hindcast_s1961-r4i1p1f2_gn_196501-196512.nc'}, {'filename': 'rsds_Amon_HadGEM3-GC31-MM_dcppA-hindcast_s1961-r4i1p1f2_gn_196601-196612.nc', 'url': 'https://esgf.ceda.ac.uk/thredds/fileServer/esg_cmip6/CMIP6/DCPP/MOHC/HadGEM3-GC31-MM/dcppA-hindcast/s1961-r4i1p1f2/Amon/rsds/gn/v20200417/rsds_Amon_HadGEM3-GC31-MM_dcppA-hindcast_s1961-r4i1p1f2_gn_196601-196612.nc'}, {'filename': 'rsds_Amon_HadGEM3-GC31-MM_dcppA-hindcast_s1961-r4i1p1f2_gn_196701-196712.nc', 'url': 'https://esgf.ceda.ac.uk/thredds/fileServer/esg_cmip6/CMIP6/DCPP/MOHC/HadGEM3-GC31-MM/dcppA-hindcast/s1961-r4i1p1f2/Amon/rsds/gn/v20200417/rsds_Amon_HadGEM3-GC31-MM_dcppA-hindcast_s1961-r4i1p1f2_gn_196701-196712.nc'}, {'filename': 'rsds_Amon_HadGEM3-GC31-MM_dcppA-hindcast_s1961-r4i1p1f2_gn_196801-196812.nc', 'url': 'https://esgf.ceda.ac.uk/thredds/fileServer/esg_cmip6/CMIP6/DCPP/MOHC/HadGEM3-GC31-MM/dcppA-hindcast/s1961-r4i1p1f2/Amon/rsds/gn/v20200417/rsds_Amon_HadGEM3-GC31-MM_dcppA-hindcast_s1961-r4i1p1f2_gn_196801-196812.nc'}, {'filename': 'rsds_Amon_HadGEM3-GC31-MM_dcppA-hindcast_s1961-r4i1p1f2_gn_196901-196912.nc', 'url': 'https://esgf.ceda.ac.uk/thredds/fileServer/esg_cmip6/CMIP6/DCPP/MOHC/HadGEM3-GC31-MM/dcppA-hindcast/s1961-r4i1p1f2/Amon/rsds/gn/v20200417/rsds_Amon_HadGEM3-GC31-MM_dcppA-hindcast_s1961-r4i1p1f2_gn_196901-196912.nc'}, {'filename': 'rsds_Amon_HadGEM3-GC31-MM_dcppA-hindcast_s1961-r4i1p1f2_gn_197001-197012.nc', 'url': 'https://esgf.ceda.ac.uk/thredds/fileServer/esg_cmip6/CMIP6/DCPP/MOHC/HadGEM3-GC31-MM/dcppA-hindcast/s1961-r4i1p1f2/Amon/rsds/gn/v20200417/rsds_Amon_HadGEM3-GC31-MM_dcppA-hindcast_s1961-r4i1p1f2_gn_197001-197012.nc'}, {'filename': 'rsds_Amon_HadGEM3-GC31-MM_dcppA-hindcast_s1961-r4i1p1f2_gn_197101-197112.nc', 'url': 'https://esgf.ceda.ac.uk/thredds/fileServer/esg_cmip6/CMIP6/DCPP/MOHC/HadGEM3-GC31-MM/dcppA-hindcast/s1961-r4i1p1f2/Amon/rsds/gn/v20200417/rsds_Amon_HadGEM3-GC31-MM_dcppA-hindcast_s1961-r4i1p1f2_gn_197101-197112.nc'}, {'filename': 'rsds_Amon_HadGEM3-GC31-MM_dcppA-hindcast_s1961-r4i1p1f2_gn_197201-197203.nc', 'url': 'https://esgf.ceda.ac.uk/thredds/fileServer/esg_cmip6/CMIP6/DCPP/MOHC/HadGEM3-GC31-MM/dcppA-hindcast/s1961-r4i1p1f2/Amon/rsds/gn/v20200417/rsds_Amon_HadGEM3-GC31-MM_dcppA-hindcast_s1961-r4i1p1f2_gn_197201-197203.nc'}, {'filename': 'rsds_Amon_HadGEM3-GC31-MM_dcppA-hindcast_s1961-r5i1p1f2_gn_196111-196112.nc', 'url': 'https://esgf.ceda.ac.uk/thredds/fileServer/esg_cmip6/CMIP6/DCPP/MOHC/HadGEM3-GC31-MM/dcppA-hindcast/s1961-r5i1p1f2/Amon/rsds/gn/v20200417/rsds_Amon_HadGEM3-GC31-MM_dcppA-hindcast_s1961-r5i1p1f2_gn_196111-196112.nc'}, {'filename': 'rsds_Amon_HadGEM3-GC31-MM_dcppA-hindcast_s1961-r5i1p1f2_gn_196201-196212.nc', 'url': 'https://esgf.ceda.ac.uk/thredds/fileServer/esg_cmip6/CMIP6/DCPP/MOHC/HadGEM3-GC31-MM/dcppA-hindcast/s1961-r5i1p1f2/Amon/rsds/gn/v20200417/rsds_Amon_HadGEM3-GC31-MM_dcppA-hindcast_s1961-r5i1p1f2_gn_196201-196212.nc'}, {'filename': 'rsds_Amon_HadGEM3-GC31-MM_dcppA-hindcast_s1961-r5i1p1f2_gn_196301-196312.nc', 'url': 'https://esgf.ceda.ac.uk/thredds/fileServer/esg_cmip6/CMIP6/DCPP/MOHC/HadGEM3-GC31-MM/dcppA-hindcast/s1961-r5i1p1f2/Amon/rsds/gn/v20200417/rsds_Amon_HadGEM3-GC31-MM_dcppA-hindcast_s1961-r5i1p1f2_gn_196301-196312.nc'}, {'filename': 'rsds_Amon_HadGEM3-GC31-MM_dcppA-hindcast_s1961-r5i1p1f2_gn_196401-196412.nc', 'url': 'https://esgf.ceda.ac.uk/thredds/fileServer/esg_cmip6/CMIP6/DCPP/MOHC/HadGEM3-GC31-MM/dcppA-hindcast/s1961-r5i1p1f2/Amon/rsds/gn/v20200417/rsds_Amon_HadGEM3-GC31-MM_dcppA-hindcast_s1961-r5i1p1f2_gn_196401-196412.nc'}, {'filename': 'rsds_Amon_HadGEM3-GC31-MM_dcppA-hindcast_s1961-r5i1p1f2_gn_196501-196512.nc', 'url': 'https://esgf.ceda.ac.uk/thredds/fileServer/esg_cmip6/CMIP6/DCPP/MOHC/HadGEM3-GC31-MM/dcppA-hindcast/s1961-r5i1p1f2/Amon/rsds/gn/v20200417/rsds_Amon_HadGEM3-GC31-MM_dcppA-hindcast_s1961-r5i1p1f2_gn_196501-196512.nc'}, {'filename': 'rsds_Amon_HadGEM3-GC31-MM_dcppA-hindcast_s1961-r5i1p1f2_gn_196601-196612.nc', 'url': 'https://esgf.ceda.ac.uk/thredds/fileServer/esg_cmip6/CMIP6/DCPP/MOHC/HadGEM3-GC31-MM/dcppA-hindcast/s1961-r5i1p1f2/Amon/rsds/gn/v20200417/rsds_Amon_HadGEM3-GC31-MM_dcppA-hindcast_s1961-r5i1p1f2_gn_196601-196612.nc'}, {'filename': 'rsds_Amon_HadGEM3-GC31-MM_dcppA-hindcast_s1961-r5i1p1f2_gn_196701-196712.nc', 'url': 'https://esgf.ceda.ac.uk/thredds/fileServer/esg_cmip6/CMIP6/DCPP/MOHC/HadGEM3-GC31-MM/dcppA-hindcast/s1961-r5i1p1f2/Amon/rsds/gn/v20200417/rsds_Amon_HadGEM3-GC31-MM_dcppA-hindcast_s1961-r5i1p1f2_gn_196701-196712.nc'}, {'filename': 'rsds_Amon_HadGEM3-GC31-MM_dcppA-hindcast_s1961-r5i1p1f2_gn_196801-196812.nc', 'url': 'https://esgf.ceda.ac.uk/thredds/fileServer/esg_cmip6/CMIP6/DCPP/MOHC/HadGEM3-GC31-MM/dcppA-hindcast/s1961-r5i1p1f2/Amon/rsds/gn/v20200417/rsds_Amon_HadGEM3-GC31-MM_dcppA-hindcast_s1961-r5i1p1f2_gn_196801-196812.nc'}, {'filename': 'rsds_Amon_HadGEM3-GC31-MM_dcppA-hindcast_s1961-r5i1p1f2_gn_196901-196912.nc', 'url': 'https://esgf.ceda.ac.uk/thredds/fileServer/esg_cmip6/CMIP6/DCPP/MOHC/HadGEM3-GC31-MM/dcppA-hindcast/s1961-r5i1p1f2/Amon/rsds/gn/v20200417/rsds_Amon_HadGEM3-GC31-MM_dcppA-hindcast_s1961-r5i1p1f2_gn_196901-196912.nc'}, {'filename': 'rsds_Amon_HadGEM3-GC31-MM_dcppA-hindcast_s1961-r5i1p1f2_gn_197001-197012.nc', 'url': 'https://esgf.ceda.ac.uk/thredds/fileServer/esg_cmip6/CMIP6/DCPP/MOHC/HadGEM3-GC31-MM/dcppA-hindcast/s1961-r5i1p1f2/Amon/rsds/gn/v20200417/rsds_Amon_HadGEM3-GC31-MM_dcppA-hindcast_s1961-r5i1p1f2_gn_197001-197012.nc'}, {'filename': 'rsds_Amon_HadGEM3-GC31-MM_dcppA-hindcast_s1961-r5i1p1f2_gn_197101-197112.nc', 'url': 'https://esgf.ceda.ac.uk/thredds/fileServer/esg_cmip6/CMIP6/DCPP/MOHC/HadGEM3-GC31-MM/dcppA-hindcast/s1961-r5i1p1f2/Amon/rsds/gn/v20200417/rsds_Amon_HadGEM3-GC31-MM_dcppA-hindcast_s1961-r5i1p1f2_gn_197101-197112.nc'}, {'filename': 'rsds_Amon_HadGEM3-GC31-MM_dcppA-hindcast_s1961-r5i1p1f2_gn_197201-197203.nc', 'url': 'https://esgf.ceda.ac.uk/thredds/fileServer/esg_cmip6/CMIP6/DCPP/MOHC/HadGEM3-GC31-MM/dcppA-hindcast/s1961-r5i1p1f2/Amon/rsds/gn/v20200417/rsds_Amon_HadGEM3-GC31-MM_dcppA-hindcast_s1961-r5i1p1f2_gn_197201-197203.nc'}, {'filename': 'rsds_Amon_HadGEM3-GC31-MM_dcppA-hindcast_s1961-r6i1p1f2_gn_196111-196112.nc', 'url': 'https://esgf.ceda.ac.uk/thredds/fileServer/esg_cmip6/CMIP6/DCPP/MOHC/HadGEM3-GC31-MM/dcppA-hindcast/s1961-r6i1p1f2/Amon/rsds/gn/v20200417/rsds_Amon_HadGEM3-GC31-MM_dcppA-hindcast_s1961-r6i1p1f2_gn_196111-196112.nc'}, {'filename': 'rsds_Amon_HadGEM3-GC31-MM_dcppA-hindcast_s1961-r6i1p1f2_gn_196201-196212.nc', 'url': 'https://esgf.ceda.ac.uk/thredds/fileServer/esg_cmip6/CMIP6/DCPP/MOHC/HadGEM3-GC31-MM/dcppA-hindcast/s1961-r6i1p1f2/Amon/rsds/gn/v20200417/rsds_Amon_HadGEM3-GC31-MM_dcppA-hindcast_s1961-r6i1p1f2_gn_196201-196212.nc'}, {'filename': 'rsds_Amon_HadGEM3-GC31-MM_dcppA-hindcast_s1961-r6i1p1f2_gn_196301-196312.nc', 'url': 'https://esgf.ceda.ac.uk/thredds/fileServer/esg_cmip6/CMIP6/DCPP/MOHC/HadGEM3-GC31-MM/dcppA-hindcast/s1961-r6i1p1f2/Amon/rsds/gn/v20200417/rsds_Amon_HadGEM3-GC31-MM_dcppA-hindcast_s1961-r6i1p1f2_gn_196301-196312.nc'}, {'filename': 'rsds_Amon_HadGEM3-GC31-MM_dcppA-hindcast_s1961-r6i1p1f2_gn_196401-196412.nc', 'url': 'https://esgf.ceda.ac.uk/thredds/fileServer/esg_cmip6/CMIP6/DCPP/MOHC/HadGEM3-GC31-MM/dcppA-hindcast/s1961-r6i1p1f2/Amon/rsds/gn/v20200417/rsds_Amon_HadGEM3-GC31-MM_dcppA-hindcast_s1961-r6i1p1f2_gn_196401-196412.nc'}, {'filename': 'rsds_Amon_HadGEM3-GC31-MM_dcppA-hindcast_s1961-r6i1p1f2_gn_196501-196512.nc', 'url': 'https://esgf.ceda.ac.uk/thredds/fileServer/esg_cmip6/CMIP6/DCPP/MOHC/HadGEM3-GC31-MM/dcppA-hindcast/s1961-r6i1p1f2/Amon/rsds/gn/v20200417/rsds_Amon_HadGEM3-GC31-MM_dcppA-hindcast_s1961-r6i1p1f2_gn_196501-196512.nc'}, {'filename': 'rsds_Amon_HadGEM3-GC31-MM_dcppA-hindcast_s1961-r6i1p1f2_gn_196601-196612.nc', 'url': 'https://esgf.ceda.ac.uk/thredds/fileServer/esg_cmip6/CMIP6/DCPP/MOHC/HadGEM3-GC31-MM/dcppA-hindcast/s1961-r6i1p1f2/Amon/rsds/gn/v20200417/rsds_Amon_HadGEM3-GC31-MM_dcppA-hindcast_s1961-r6i1p1f2_gn_196601-196612.nc'}, {'filename': 'rsds_Amon_HadGEM3-GC31-MM_dcppA-hindcast_s1961-r6i1p1f2_gn_196701-196712.nc', 'url': 'https://esgf.ceda.ac.uk/thredds/fileServer/esg_cmip6/CMIP6/DCPP/MOHC/HadGEM3-GC31-MM/dcppA-hindcast/s1961-r6i1p1f2/Amon/rsds/gn/v20200417/rsds_Amon_HadGEM3-GC31-MM_dcppA-hindcast_s1961-r6i1p1f2_gn_196701-196712.nc'}, {'filename': 'rsds_Amon_HadGEM3-GC31-MM_dcppA-hindcast_s1961-r6i1p1f2_gn_196801-196812.nc', 'url': 'https://esgf.ceda.ac.uk/thredds/fileServer/esg_cmip6/CMIP6/DCPP/MOHC/HadGEM3-GC31-MM/dcppA-hindcast/s1961-r6i1p1f2/Amon/rsds/gn/v20200417/rsds_Amon_HadGEM3-GC31-MM_dcppA-hindcast_s1961-r6i1p1f2_gn_196801-196812.nc'}, {'filename': 'rsds_Amon_HadGEM3-GC31-MM_dcppA-hindcast_s1961-r6i1p1f2_gn_196901-196912.nc', 'url': 'https://esgf.ceda.ac.uk/thredds/fileServer/esg_cmip6/CMIP6/DCPP/MOHC/HadGEM3-GC31-MM/dcppA-hindcast/s1961-r6i1p1f2/Amon/rsds/gn/v20200417/rsds_Amon_HadGEM3-GC31-MM_dcppA-hindcast_s1961-r6i1p1f2_gn_196901-196912.nc'}, {'filename': 'rsds_Amon_HadGEM3-GC31-MM_dcppA-hindcast_s1961-r6i1p1f2_gn_197001-197012.nc', 'url': 'https://esgf.ceda.ac.uk/thredds/fileServer/esg_cmip6/CMIP6/DCPP/MOHC/HadGEM3-GC31-MM/dcppA-hindcast/s1961-r6i1p1f2/Amon/rsds/gn/v20200417/rsds_Amon_HadGEM3-GC31-MM_dcppA-hindcast_s1961-r6i1p1f2_gn_197001-197012.nc'}, {'filename': 'rsds_Amon_HadGEM3-GC31-MM_dcppA-hindcast_s1961-r6i1p1f2_gn_197101-197112.nc', 'url': 'https://esgf.ceda.ac.uk/thredds/fileServer/esg_cmip6/CMIP6/DCPP/MOHC/HadGEM3-GC31-MM/dcppA-hindcast/s1961-r6i1p1f2/Amon/rsds/gn/v20200417/rsds_Amon_HadGEM3-GC31-MM_dcppA-hindcast_s1961-r6i1p1f2_gn_197101-197112.nc'}, {'filename': 'rsds_Amon_HadGEM3-GC31-MM_dcppA-hindcast_s1961-r6i1p1f2_gn_197201-197203.nc', 'url': 'https://esgf.ceda.ac.uk/thredds/fileServer/esg_cmip6/CMIP6/DCPP/MOHC/HadGEM3-GC31-MM/dcppA-hindcast/s1961-r6i1p1f2/Amon/rsds/gn/v20200417/rsds_Amon_HadGEM3-GC31-MM_dcppA-hindcast_s1961-r6i1p1f2_gn_197201-197203.nc'}, {'filename': 'rsds_Amon_HadGEM3-GC31-MM_dcppA-hindcast_s1961-r7i1p1f2_gn_196111-196112.nc', 'url': 'https://esgf.ceda.ac.uk/thredds/fileServer/esg_cmip6/CMIP6/DCPP/MOHC/HadGEM3-GC31-MM/dcppA-hindcast/s1961-r7i1p1f2/Amon/rsds/gn/v20200417/rsds_Amon_HadGEM3-GC31-MM_dcppA-hindcast_s1961-r7i1p1f2_gn_196111-196112.nc'}, {'filename': 'rsds_Amon_HadGEM3-GC31-MM_dcppA-hindcast_s1961-r7i1p1f2_gn_196201-196212.nc', 'url': 'https://esgf.ceda.ac.uk/thredds/fileServer/esg_cmip6/CMIP6/DCPP/MOHC/HadGEM3-GC31-MM/dcppA-hindcast/s1961-r7i1p1f2/Amon/rsds/gn/v20200417/rsds_Amon_HadGEM3-GC31-MM_dcppA-hindcast_s1961-r7i1p1f2_gn_196201-196212.nc'}, {'filename': 'rsds_Amon_HadGEM3-GC31-MM_dcppA-hindcast_s1961-r7i1p1f2_gn_196301-196312.nc', 'url': 'https://esgf.ceda.ac.uk/thredds/fileServer/esg_cmip6/CMIP6/DCPP/MOHC/HadGEM3-GC31-MM/dcppA-hindcast/s1961-r7i1p1f2/Amon/rsds/gn/v20200417/rsds_Amon_HadGEM3-GC31-MM_dcppA-hindcast_s1961-r7i1p1f2_gn_196301-196312.nc'}, {'filename': 'rsds_Amon_HadGEM3-GC31-MM_dcppA-hindcast_s1961-r7i1p1f2_gn_196401-196412.nc', 'url': 'https://esgf.ceda.ac.uk/thredds/fileServer/esg_cmip6/CMIP6/DCPP/MOHC/HadGEM3-GC31-MM/dcppA-hindcast/s1961-r7i1p1f2/Amon/rsds/gn/v20200417/rsds_Amon_HadGEM3-GC31-MM_dcppA-hindcast_s1961-r7i1p1f2_gn_196401-196412.nc'}, {'filename': 'rsds_Amon_HadGEM3-GC31-MM_dcppA-hindcast_s1961-r7i1p1f2_gn_196501-196512.nc', 'url': 'https://esgf.ceda.ac.uk/thredds/fileServer/esg_cmip6/CMIP6/DCPP/MOHC/HadGEM3-GC31-MM/dcppA-hindcast/s1961-r7i1p1f2/Amon/rsds/gn/v20200417/rsds_Amon_HadGEM3-GC31-MM_dcppA-hindcast_s1961-r7i1p1f2_gn_196501-196512.nc'}, {'filename': 'rsds_Amon_HadGEM3-GC31-MM_dcppA-hindcast_s1961-r7i1p1f2_gn_196601-196612.nc', 'url': 'https://esgf.ceda.ac.uk/thredds/fileServer/esg_cmip6/CMIP6/DCPP/MOHC/HadGEM3-GC31-MM/dcppA-hindcast/s1961-r7i1p1f2/Amon/rsds/gn/v20200417/rsds_Amon_HadGEM3-GC31-MM_dcppA-hindcast_s1961-r7i1p1f2_gn_196601-196612.nc'}, {'filename': 'rsds_Amon_HadGEM3-GC31-MM_dcppA-hindcast_s1961-r7i1p1f2_gn_196701-196712.nc', 'url': 'https://esgf.ceda.ac.uk/thredds/fileServer/esg_cmip6/CMIP6/DCPP/MOHC/HadGEM3-GC31-MM/dcppA-hindcast/s1961-r7i1p1f2/Amon/rsds/gn/v20200417/rsds_Amon_HadGEM3-GC31-MM_dcppA-hindcast_s1961-r7i1p1f2_gn_196701-196712.nc'}, {'filename': 'rsds_Amon_HadGEM3-GC31-MM_dcppA-hindcast_s1961-r7i1p1f2_gn_196801-196812.nc', 'url': 'https://esgf.ceda.ac.uk/thredds/fileServer/esg_cmip6/CMIP6/DCPP/MOHC/HadGEM3-GC31-MM/dcppA-hindcast/s1961-r7i1p1f2/Amon/rsds/gn/v20200417/rsds_Amon_HadGEM3-GC31-MM_dcppA-hindcast_s1961-r7i1p1f2_gn_196801-196812.nc'}, {'filename': 'rsds_Amon_HadGEM3-GC31-MM_dcppA-hindcast_s1961-r7i1p1f2_gn_196901-196912.nc', 'url': 'https://esgf.ceda.ac.uk/thredds/fileServer/esg_cmip6/CMIP6/DCPP/MOHC/HadGEM3-GC31-MM/dcppA-hindcast/s1961-r7i1p1f2/Amon/rsds/gn/v20200417/rsds_Amon_HadGEM3-GC31-MM_dcppA-hindcast_s1961-r7i1p1f2_gn_196901-196912.nc'}, {'filename': 'rsds_Amon_HadGEM3-GC31-MM_dcppA-hindcast_s1961-r7i1p1f2_gn_197001-197012.nc', 'url': 'https://esgf.ceda.ac.uk/thredds/fileServer/esg_cmip6/CMIP6/DCPP/MOHC/HadGEM3-GC31-MM/dcppA-hindcast/s1961-r7i1p1f2/Amon/rsds/gn/v20200417/rsds_Amon_HadGEM3-GC31-MM_dcppA-hindcast_s1961-r7i1p1f2_gn_197001-197012.nc'}, {'filename': 'rsds_Amon_HadGEM3-GC31-MM_dcppA-hindcast_s1961-r7i1p1f2_gn_197101-197112.nc', 'url': 'https://esgf.ceda.ac.uk/thredds/fileServer/esg_cmip6/CMIP6/DCPP/MOHC/HadGEM3-GC31-MM/dcppA-hindcast/s1961-r7i1p1f2/Amon/rsds/gn/v20200417/rsds_Amon_HadGEM3-GC31-MM_dcppA-hindcast_s1961-r7i1p1f2_gn_197101-197112.nc'}, {'filename': 'rsds_Amon_HadGEM3-GC31-MM_dcppA-hindcast_s1961-r7i1p1f2_gn_197201-197203.nc', 'url': 'https://esgf.ceda.ac.uk/thredds/fileServer/esg_cmip6/CMIP6/DCPP/MOHC/HadGEM3-GC31-MM/dcppA-hindcast/s1961-r7i1p1f2/Amon/rsds/gn/v20200417/rsds_Amon_HadGEM3-GC31-MM_dcppA-hindcast_s1961-r7i1p1f2_gn_197201-197203.nc'}, {'filename': 'rsds_Amon_HadGEM3-GC31-MM_dcppA-hindcast_s1961-r8i1p1f2_gn_196111-196112.nc', 'url': 'https://esgf.ceda.ac.uk/thredds/fileServer/esg_cmip6/CMIP6/DCPP/MOHC/HadGEM3-GC31-MM/dcppA-hindcast/s1961-r8i1p1f2/Amon/rsds/gn/v20200417/rsds_Amon_HadGEM3-GC31-MM_dcppA-hindcast_s1961-r8i1p1f2_gn_196111-196112.nc'}, {'filename': 'rsds_Amon_HadGEM3-GC31-MM_dcppA-hindcast_s1961-r8i1p1f2_gn_196201-196212.nc', 'url': 'https://esgf.ceda.ac.uk/thredds/fileServer/esg_cmip6/CMIP6/DCPP/MOHC/HadGEM3-GC31-MM/dcppA-hindcast/s1961-r8i1p1f2/Amon/rsds/gn/v20200417/rsds_Amon_HadGEM3-GC31-MM_dcppA-hindcast_s1961-r8i1p1f2_gn_196201-196212.nc'}, {'filename': 'rsds_Amon_HadGEM3-GC31-MM_dcppA-hindcast_s1961-r8i1p1f2_gn_196301-196312.nc', 'url': 'https://esgf.ceda.ac.uk/thredds/fileServer/esg_cmip6/CMIP6/DCPP/MOHC/HadGEM3-GC31-MM/dcppA-hindcast/s1961-r8i1p1f2/Amon/rsds/gn/v20200417/rsds_Amon_HadGEM3-GC31-MM_dcppA-hindcast_s1961-r8i1p1f2_gn_196301-196312.nc'}, {'filename': 'rsds_Amon_HadGEM3-GC31-MM_dcppA-hindcast_s1961-r8i1p1f2_gn_196401-196412.nc', 'url': 'https://esgf.ceda.ac.uk/thredds/fileServer/esg_cmip6/CMIP6/DCPP/MOHC/HadGEM3-GC31-MM/dcppA-hindcast/s1961-r8i1p1f2/Amon/rsds/gn/v20200417/rsds_Amon_HadGEM3-GC31-MM_dcppA-hindcast_s1961-r8i1p1f2_gn_196401-196412.nc'}, {'filename': 'rsds_Amon_HadGEM3-GC31-MM_dcppA-hindcast_s1961-r8i1p1f2_gn_196501-196512.nc', 'url': 'https://esgf.ceda.ac.uk/thredds/fileServer/esg_cmip6/CMIP6/DCPP/MOHC/HadGEM3-GC31-MM/dcppA-hindcast/s1961-r8i1p1f2/Amon/rsds/gn/v20200417/rsds_Amon_HadGEM3-GC31-MM_dcppA-hindcast_s1961-r8i1p1f2_gn_196501-196512.nc'}, {'filename': 'rsds_Amon_HadGEM3-GC31-MM_dcppA-hindcast_s1961-r8i1p1f2_gn_196601-196612.nc', 'url': 'https://esgf.ceda.ac.uk/thredds/fileServer/esg_cmip6/CMIP6/DCPP/MOHC/HadGEM3-GC31-MM/dcppA-hindcast/s1961-r8i1p1f2/Amon/rsds/gn/v20200417/rsds_Amon_HadGEM3-GC31-MM_dcppA-hindcast_s1961-r8i1p1f2_gn_196601-196612.nc'}, {'filename': 'rsds_Amon_HadGEM3-GC31-MM_dcppA-hindcast_s1961-r8i1p1f2_gn_196701-196712.nc', 'url': 'https://esgf.ceda.ac.uk/thredds/fileServer/esg_cmip6/CMIP6/DCPP/MOHC/HadGEM3-GC31-MM/dcppA-hindcast/s1961-r8i1p1f2/Amon/rsds/gn/v20200417/rsds_Amon_HadGEM3-GC31-MM_dcppA-hindcast_s1961-r8i1p1f2_gn_196701-196712.nc'}, {'filename': 'rsds_Amon_HadGEM3-GC31-MM_dcppA-hindcast_s1961-r8i1p1f2_gn_196801-196812.nc', 'url': 'https://esgf.ceda.ac.uk/thredds/fileServer/esg_cmip6/CMIP6/DCPP/MOHC/HadGEM3-GC31-MM/dcppA-hindcast/s1961-r8i1p1f2/Amon/rsds/gn/v20200417/rsds_Amon_HadGEM3-GC31-MM_dcppA-hindcast_s1961-r8i1p1f2_gn_196801-196812.nc'}, {'filename': 'rsds_Amon_HadGEM3-GC31-MM_dcppA-hindcast_s1961-r8i1p1f2_gn_196901-196912.nc', 'url': 'https://esgf.ceda.ac.uk/thredds/fileServer/esg_cmip6/CMIP6/DCPP/MOHC/HadGEM3-GC31-MM/dcppA-hindcast/s1961-r8i1p1f2/Amon/rsds/gn/v20200417/rsds_Amon_HadGEM3-GC31-MM_dcppA-hindcast_s1961-r8i1p1f2_gn_196901-196912.nc'}, {'filename': 'rsds_Amon_HadGEM3-GC31-MM_dcppA-hindcast_s1961-r8i1p1f2_gn_197001-197012.nc', 'url': 'https://esgf.ceda.ac.uk/thredds/fileServer/esg_cmip6/CMIP6/DCPP/MOHC/HadGEM3-GC31-MM/dcppA-hindcast/s1961-r8i1p1f2/Amon/rsds/gn/v20200417/rsds_Amon_HadGEM3-GC31-MM_dcppA-hindcast_s1961-r8i1p1f2_gn_197001-197012.nc'}, {'filename': 'rsds_Amon_HadGEM3-GC31-MM_dcppA-hindcast_s1961-r8i1p1f2_gn_197101-197112.nc', 'url': 'https://esgf.ceda.ac.uk/thredds/fileServer/esg_cmip6/CMIP6/DCPP/MOHC/HadGEM3-GC31-MM/dcppA-hindcast/s1961-r8i1p1f2/Amon/rsds/gn/v20200417/rsds_Amon_HadGEM3-GC31-MM_dcppA-hindcast_s1961-r8i1p1f2_gn_197101-197112.nc'}, {'filename': 'rsds_Amon_HadGEM3-GC31-MM_dcppA-hindcast_s1961-r8i1p1f2_gn_197201-197203.nc', 'url': 'https://esgf.ceda.ac.uk/thredds/fileServer/esg_cmip6/CMIP6/DCPP/MOHC/HadGEM3-GC31-MM/dcppA-hindcast/s1961-r8i1p1f2/Amon/rsds/gn/v20200417/rsds_Amon_HadGEM3-GC31-MM_dcppA-hindcast_s1961-r8i1p1f2_gn_197201-197203.nc'}, {'filename': 'rsds_Amon_HadGEM3-GC31-MM_dcppA-hindcast_s1961-r9i1p1f2_gn_196111-196112.nc', 'url': 'https://esgf.ceda.ac.uk/thredds/fileServer/esg_cmip6/CMIP6/DCPP/MOHC/HadGEM3-GC31-MM/dcppA-hindcast/s1961-r9i1p1f2/Amon/rsds/gn/v20200417/rsds_Amon_HadGEM3-GC31-MM_dcppA-hindcast_s1961-r9i1p1f2_gn_196111-196112.nc'}, {'filename': 'rsds_Amon_HadGEM3-GC31-MM_dcppA-hindcast_s1961-r9i1p1f2_gn_196201-196212.nc', 'url': 'https://esgf.ceda.ac.uk/thredds/fileServer/esg_cmip6/CMIP6/DCPP/MOHC/HadGEM3-GC31-MM/dcppA-hindcast/s1961-r9i1p1f2/Amon/rsds/gn/v20200417/rsds_Amon_HadGEM3-GC31-MM_dcppA-hindcast_s1961-r9i1p1f2_gn_196201-196212.nc'}, {'filename': 'rsds_Amon_HadGEM3-GC31-MM_dcppA-hindcast_s1961-r9i1p1f2_gn_196301-196312.nc', 'url': 'https://esgf.ceda.ac.uk/thredds/fileServer/esg_cmip6/CMIP6/DCPP/MOHC/HadGEM3-GC31-MM/dcppA-hindcast/s1961-r9i1p1f2/Amon/rsds/gn/v20200417/rsds_Amon_HadGEM3-GC31-MM_dcppA-hindcast_s1961-r9i1p1f2_gn_196301-196312.nc'}, {'filename': 'rsds_Amon_HadGEM3-GC31-MM_dcppA-hindcast_s1961-r9i1p1f2_gn_196401-196412.nc', 'url': 'https://esgf.ceda.ac.uk/thredds/fileServer/esg_cmip6/CMIP6/DCPP/MOHC/HadGEM3-GC31-MM/dcppA-hindcast/s1961-r9i1p1f2/Amon/rsds/gn/v20200417/rsds_Amon_HadGEM3-GC31-MM_dcppA-hindcast_s1961-r9i1p1f2_gn_196401-196412.nc'}, {'filename': 'rsds_Amon_HadGEM3-GC31-MM_dcppA-hindcast_s1961-r9i1p1f2_gn_196501-196512.nc', 'url': 'https://esgf.ceda.ac.uk/thredds/fileServer/esg_cmip6/CMIP6/DCPP/MOHC/HadGEM3-GC31-MM/dcppA-hindcast/s1961-r9i1p1f2/Amon/rsds/gn/v20200417/rsds_Amon_HadGEM3-GC31-MM_dcppA-hindcast_s1961-r9i1p1f2_gn_196501-196512.nc'}, {'filename': 'rsds_Amon_HadGEM3-GC31-MM_dcppA-hindcast_s1961-r9i1p1f2_gn_196601-196612.nc', 'url': 'https://esgf.ceda.ac.uk/thredds/fileServer/esg_cmip6/CMIP6/DCPP/MOHC/HadGEM3-GC31-MM/dcppA-hindcast/s1961-r9i1p1f2/Amon/rsds/gn/v20200417/rsds_Amon_HadGEM3-GC31-MM_dcppA-hindcast_s1961-r9i1p1f2_gn_196601-196612.nc'}, {'filename': 'rsds_Amon_HadGEM3-GC31-MM_dcppA-hindcast_s1961-r9i1p1f2_gn_196701-196712.nc', 'url': 'https://esgf.ceda.ac.uk/thredds/fileServer/esg_cmip6/CMIP6/DCPP/MOHC/HadGEM3-GC31-MM/dcppA-hindcast/s1961-r9i1p1f2/Amon/rsds/gn/v20200417/rsds_Amon_HadGEM3-GC31-MM_dcppA-hindcast_s1961-r9i1p1f2_gn_196701-196712.nc'}, {'filename': 'rsds_Amon_HadGEM3-GC31-MM_dcppA-hindcast_s1961-r9i1p1f2_gn_196801-196812.nc', 'url': 'https://esgf.ceda.ac.uk/thredds/fileServer/esg_cmip6/CMIP6/DCPP/MOHC/HadGEM3-GC31-MM/dcppA-hindcast/s1961-r9i1p1f2/Amon/rsds/gn/v20200417/rsds_Amon_HadGEM3-GC31-MM_dcppA-hindcast_s1961-r9i1p1f2_gn_196801-196812.nc'}, {'filename': 'rsds_Amon_HadGEM3-GC31-MM_dcppA-hindcast_s1961-r9i1p1f2_gn_196901-196912.nc', 'url': 'https://esgf.ceda.ac.uk/thredds/fileServer/esg_cmip6/CMIP6/DCPP/MOHC/HadGEM3-GC31-MM/dcppA-hindcast/s1961-r9i1p1f2/Amon/rsds/gn/v20200417/rsds_Amon_HadGEM3-GC31-MM_dcppA-hindcast_s1961-r9i1p1f2_gn_196901-196912.nc'}, {'filename': 'rsds_Amon_HadGEM3-GC31-MM_dcppA-hindcast_s1961-r9i1p1f2_gn_197001-197012.nc', 'url': 'https://esgf.ceda.ac.uk/thredds/fileServer/esg_cmip6/CMIP6/DCPP/MOHC/HadGEM3-GC31-MM/dcppA-hindcast/s1961-r9i1p1f2/Amon/rsds/gn/v20200417/rsds_Amon_HadGEM3-GC31-MM_dcppA-hindcast_s1961-r9i1p1f2_gn_197001-197012.nc'}, {'filename': 'rsds_Amon_HadGEM3-GC31-MM_dcppA-hindcast_s1961-r9i1p1f2_gn_197101-197112.nc', 'url': 'https://esgf.ceda.ac.uk/thredds/fileServer/esg_cmip6/CMIP6/DCPP/MOHC/HadGEM3-GC31-MM/dcppA-hindcast/s1961-r9i1p1f2/Amon/rsds/gn/v20200417/rsds_Amon_HadGEM3-GC31-MM_dcppA-hindcast_s1961-r9i1p1f2_gn_197101-197112.nc'}, {'filename': 'rsds_Amon_HadGEM3-GC31-MM_dcppA-hindcast_s1961-r9i1p1f2_gn_197201-197203.nc', 'url': 'https://esgf.ceda.ac.uk/thredds/fileServer/esg_cmip6/CMIP6/DCPP/MOHC/HadGEM3-GC31-MM/dcppA-hindcast/s1961-r9i1p1f2/Amon/rsds/gn/v20200417/rsds_Amon_HadGEM3-GC31-MM_dcppA-hindcast_s1961-r9i1p1f2_gn_197201-197203.nc'}], [{'filename': 'rsds_Amon_BCC-CSM2-MR_dcppA-hindcast_s1961-r1i1p1f1_gn_196101-197012.nc', 'url': 'http://cmip.bcc.cma.cn/thredds/fileServer/cmip6_data/DCPP/BCC/BCC-CSM2-MR/dcppA-hindcast/s1961-r1i1p1f1/Amon/rsds/gn/v20191126/rsds_Amon_BCC-CSM2-MR_dcppA-hindcast_s1961-r1i1p1f1_gn_196101-197012.nc'}, {'filename': 'rsds_Amon_BCC-CSM2-MR_dcppA-hindcast_s1961-r8i1p1f1_gn_196101-197012.nc', 'url': 'http://cmip.bcc.cma.cn/thredds/fileServer/cmip6_data/DCPP/BCC/BCC-CSM2-MR/dcppA-hindcast/s1961-r8i1p1f1/Amon/rsds/gn/v20191204/rsds_Amon_BCC-CSM2-MR_dcppA-hindcast_s1961-r8i1p1f1_gn_196101-197012.nc'}, {'filename': 'rsds_Amon_BCC-CSM2-MR_dcppA-hindcast_s1961-r4i1p1f1_gn_196101-197012.nc', 'url': 'http://cmip.bcc.cma.cn/thredds/fileServer/cmip6_data/DCPP/BCC/BCC-CSM2-MR/dcppA-hindcast/s1961-r4i1p1f1/Amon/rsds/gn/v20191204/rsds_Amon_BCC-CSM2-MR_dcppA-hindcast_s1961-r4i1p1f1_gn_196101-197012.nc'}, {'filename': 'rsds_Amon_BCC-CSM2-MR_dcppA-hindcast_s1961-r7i1p1f1_gn_196101-197012.nc', 'url': 'http://cmip.bcc.cma.cn/thredds/fileServer/cmip6_data/DCPP/BCC/BCC-CSM2-MR/dcppA-hindcast/s1961-r7i1p1f1/Amon/rsds/gn/v20191204/rsds_Amon_BCC-CSM2-MR_dcppA-hindcast_s1961-r7i1p1f1_gn_196101-197012.nc'}, {'filename': 'rsds_Amon_BCC-CSM2-MR_dcppA-hindcast_s1961-r5i1p1f1_gn_196101-197012.nc', 'url': 'http://cmip.bcc.cma.cn/thredds/fileServer/cmip6_data/DCPP/BCC/BCC-CSM2-MR/dcppA-hindcast/s1961-r5i1p1f1/Amon/rsds/gn/v20191204/rsds_Amon_BCC-CSM2-MR_dcppA-hindcast_s1961-r5i1p1f1_gn_196101-197012.nc'}, {'filename': 'rsds_Amon_BCC-CSM2-MR_dcppA-hindcast_s1961-r3i1p1f1_gn_196101-197012.nc', 'url': 'http://cmip.bcc.cma.cn/thredds/fileServer/cmip6_data/DCPP/BCC/BCC-CSM2-MR/dcppA-hindcast/s1961-r3i1p1f1/Amon/rsds/gn/v20191204/rsds_Amon_BCC-CSM2-MR_dcppA-hindcast_s1961-r3i1p1f1_gn_196101-197012.nc'}, {'filename': 'rsds_Amon_BCC-CSM2-MR_dcppA-hindcast_s1961-r6i1p1f1_gn_196101-197012.nc', 'url': 'http://cmip.bcc.cma.cn/thredds/fileServer/cmip6_data/DCPP/BCC/BCC-CSM2-MR/dcppA-hindcast/s1961-r6i1p1f1/Amon/rsds/gn/v20191204/rsds_Amon_BCC-CSM2-MR_dcppA-hindcast_s1961-r6i1p1f1_gn_196101-197012.nc'}, {'filename': 'rsds_Amon_BCC-CSM2-MR_dcppA-hindcast_s1961-r2i1p1f1_gn_196101-197012.nc', 'url': 'http://cmip.bcc.cma.cn/thredds/fileServer/cmip6_data/DCPP/BCC/BCC-CSM2-MR/dcppA-hindcast/s1961-r2i1p1f1/Amon/rsds/gn/v20191204/rsds_Amon_BCC-CSM2-MR_dcppA-hindcast_s1961-r2i1p1f1_gn_196101-197012.nc'}], [{'filename': 'rsds_Amon_NorCPM1_dcppA-hindcast_s1961-r6i1p1f1_gn_196110-197112.nc', 'url': 'http://noresg.nird.sigma2.no/thredds/fileServer/esg_dataroot/cmor/CMIP6/DCPP/NCC/NorCPM1/dcppA-hindcast/s1961-r6i1p1f1/Amon/rsds/gn/v20190914/rsds_Amon_NorCPM1_dcppA-hindcast_s1961-r6i1p1f1_gn_196110-197112.nc'}, {'filename': 'rsds_Amon_NorCPM1_dcppA-hindcast_s1961-r6i2p1f1_gn_196110-197112.nc', 'url': 'http://noresg.nird.sigma2.no/thredds/fileServer/esg_dataroot/cmor/CMIP6/DCPP/NCC/NorCPM1/dcppA-hindcast/s1961-r6i2p1f1/Amon/rsds/gn/v20190914/rsds_Amon_NorCPM1_dcppA-hindcast_s1961-r6i2p1f1_gn_196110-197112.nc'}, {'filename': 'rsds_Amon_NorCPM1_dcppA-hindcast_s1961-r1i2p1f1_gn_196110-197112.nc', 'url': 'http://noresg.nird.sigma2.no/thredds/fileServer/esg_dataroot/cmor/CMIP6/DCPP/NCC/NorCPM1/dcppA-hindcast/s1961-r1i2p1f1/Amon/rsds/gn/v20190914/rsds_Amon_NorCPM1_dcppA-hindcast_s1961-r1i2p1f1_gn_196110-197112.nc'}, {'filename': 'rsds_Amon_NorCPM1_dcppA-hindcast_s1961-r2i1p1f1_gn_196110-197112.nc', 'url': 'http://noresg.nird.sigma2.no/thredds/fileServer/esg_dataroot/cmor/CMIP6/DCPP/NCC/NorCPM1/dcppA-hindcast/s1961-r2i1p1f1/Amon/rsds/gn/v20190914/rsds_Amon_NorCPM1_dcppA-hindcast_s1961-r2i1p1f1_gn_196110-197112.nc'}, {'filename': 'rsds_Amon_NorCPM1_dcppA-hindcast_s1961-r8i2p1f1_gn_196110-197112.nc', 'url': 'http://noresg.nird.sigma2.no/thredds/fileServer/esg_dataroot/cmor/CMIP6/DCPP/NCC/NorCPM1/dcppA-hindcast/s1961-r8i2p1f1/Amon/rsds/gn/v20190914/rsds_Amon_NorCPM1_dcppA-hindcast_s1961-r8i2p1f1_gn_196110-197112.nc'}, {'filename': 'rsds_Amon_NorCPM1_dcppA-hindcast_s1961-r7i1p1f1_gn_196110-197112.nc', 'url': 'http://noresg.nird.sigma2.no/thredds/fileServer/esg_dataroot/cmor/CMIP6/DCPP/NCC/NorCPM1/dcppA-hindcast/s1961-r7i1p1f1/Amon/rsds/gn/v20190914/rsds_Amon_NorCPM1_dcppA-hindcast_s1961-r7i1p1f1_gn_196110-197112.nc'}, {'filename': 'rsds_Amon_NorCPM1_dcppA-hindcast_s1961-r5i2p1f1_gn_196110-197112.nc', 'url': 'http://noresg.nird.sigma2.no/thredds/fileServer/esg_dataroot/cmor/CMIP6/DCPP/NCC/NorCPM1/dcppA-hindcast/s1961-r5i2p1f1/Amon/rsds/gn/v20190914/rsds_Amon_NorCPM1_dcppA-hindcast_s1961-r5i2p1f1_gn_196110-197112.nc'}, {'filename': 'rsds_Amon_NorCPM1_dcppA-hindcast_s1961-r1i1p1f1_gn_196110-197112.nc', 'url': 'http://noresg.nird.sigma2.no/thredds/fileServer/esg_dataroot/cmor/CMIP6/DCPP/NCC/NorCPM1/dcppA-hindcast/s1961-r1i1p1f1/Amon/rsds/gn/v20190914/rsds_Amon_NorCPM1_dcppA-hindcast_s1961-r1i1p1f1_gn_196110-197112.nc'}, {'filename': 'rsds_Amon_NorCPM1_dcppA-hindcast_s1961-r10i1p1f1_gn_196110-197112.nc', 'url': 'http://noresg.nird.sigma2.no/thredds/fileServer/esg_dataroot/cmor/CMIP6/DCPP/NCC/NorCPM1/dcppA-hindcast/s1961-r10i1p1f1/Amon/rsds/gn/v20190914/rsds_Amon_NorCPM1_dcppA-hindcast_s1961-r10i1p1f1_gn_196110-197112.nc'}, {'filename': 'rsds_Amon_NorCPM1_dcppA-hindcast_s1961-r7i2p1f1_gn_196110-197112.nc', 'url': 'http://noresg.nird.sigma2.no/thredds/fileServer/esg_dataroot/cmor/CMIP6/DCPP/NCC/NorCPM1/dcppA-hindcast/s1961-r7i2p1f1/Amon/rsds/gn/v20190914/rsds_Amon_NorCPM1_dcppA-hindcast_s1961-r7i2p1f1_gn_196110-197112.nc'}, {'filename': 'rsds_Amon_NorCPM1_dcppA-hindcast_s1961-r8i1p1f1_gn_196110-197112.nc', 'url': 'http://noresg.nird.sigma2.no/thredds/fileServer/esg_dataroot/cmor/CMIP6/DCPP/NCC/NorCPM1/dcppA-hindcast/s1961-r8i1p1f1/Amon/rsds/gn/v20190914/rsds_Amon_NorCPM1_dcppA-hindcast_s1961-r8i1p1f1_gn_196110-197112.nc'}, {'filename': 'rsds_Amon_NorCPM1_dcppA-hindcast_s1961-r9i1p1f1_gn_196110-197112.nc', 'url': 'http://noresg.nird.sigma2.no/thredds/fileServer/esg_dataroot/cmor/CMIP6/DCPP/NCC/NorCPM1/dcppA-hindcast/s1961-r9i1p1f1/Amon/rsds/gn/v20190914/rsds_Amon_NorCPM1_dcppA-hindcast_s1961-r9i1p1f1_gn_196110-197112.nc'}, {'filename': 'rsds_Amon_NorCPM1_dcppA-hindcast_s1961-r9i2p1f1_gn_196110-197112.nc', 'url': 'http://noresg.nird.sigma2.no/thredds/fileServer/esg_dataroot/cmor/CMIP6/DCPP/NCC/NorCPM1/dcppA-hindcast/s1961-r9i2p1f1/Amon/rsds/gn/v20190914/rsds_Amon_NorCPM1_dcppA-hindcast_s1961-r9i2p1f1_gn_196110-197112.nc'}, {'filename': 'rsds_Amon_NorCPM1_dcppA-hindcast_s1961-r3i1p1f1_gn_196110-197112.nc', 'url': 'http://noresg.nird.sigma2.no/thredds/fileServer/esg_dataroot/cmor/CMIP6/DCPP/NCC/NorCPM1/dcppA-hindcast/s1961-r3i1p1f1/Amon/rsds/gn/v20190914/rsds_Amon_NorCPM1_dcppA-hindcast_s1961-r3i1p1f1_gn_196110-197112.nc'}, {'filename': 'rsds_Amon_NorCPM1_dcppA-hindcast_s1961-r3i2p1f1_gn_196110-197112.nc', 'url': 'http://noresg.nird.sigma2.no/thredds/fileServer/esg_dataroot/cmor/CMIP6/DCPP/NCC/NorCPM1/dcppA-hindcast/s1961-r3i2p1f1/Amon/rsds/gn/v20190914/rsds_Amon_NorCPM1_dcppA-hindcast_s1961-r3i2p1f1_gn_196110-197112.nc'}, {'filename': 'rsds_Amon_NorCPM1_dcppA-hindcast_s1961-r10i2p1f1_gn_196110-197112.nc', 'url': 'http://noresg.nird.sigma2.no/thredds/fileServer/esg_dataroot/cmor/CMIP6/DCPP/NCC/NorCPM1/dcppA-hindcast/s1961-r10i2p1f1/Amon/rsds/gn/v20190914/rsds_Amon_NorCPM1_dcppA-hindcast_s1961-r10i2p1f1_gn_196110-197112.nc'}, {'filename': 'rsds_Amon_NorCPM1_dcppA-hindcast_s1961-r4i2p1f1_gn_196110-197112.nc', 'url': 'http://noresg.nird.sigma2.no/thredds/fileServer/esg_dataroot/cmor/CMIP6/DCPP/NCC/NorCPM1/dcppA-hindcast/s1961-r4i2p1f1/Amon/rsds/gn/v20190914/rsds_Amon_NorCPM1_dcppA-hindcast_s1961-r4i2p1f1_gn_196110-197112.nc'}, {'filename': 'rsds_Amon_NorCPM1_dcppA-hindcast_s1961-r5i1p1f1_gn_196110-197112.nc', 'url': 'http://noresg.nird.sigma2.no/thredds/fileServer/esg_dataroot/cmor/CMIP6/DCPP/NCC/NorCPM1/dcppA-hindcast/s1961-r5i1p1f1/Amon/rsds/gn/v20190914/rsds_Amon_NorCPM1_dcppA-hindcast_s1961-r5i1p1f1_gn_196110-197112.nc'}, {'filename': 'rsds_Amon_NorCPM1_dcppA-hindcast_s1961-r2i2p1f1_gn_196110-197112.nc', 'url': 'http://noresg.nird.sigma2.no/thredds/fileServer/esg_dataroot/cmor/CMIP6/DCPP/NCC/NorCPM1/dcppA-hindcast/s1961-r2i2p1f1/Amon/rsds/gn/v20190914/rsds_Amon_NorCPM1_dcppA-hindcast_s1961-r2i2p1f1_gn_196110-197112.nc'}, {'filename': 'rsds_Amon_NorCPM1_dcppA-hindcast_s1961-r4i1p1f1_gn_196110-197112.nc', 'url': 'http://noresg.nird.sigma2.no/thredds/fileServer/esg_dataroot/cmor/CMIP6/DCPP/NCC/NorCPM1/dcppA-hindcast/s1961-r4i1p1f1/Amon/rsds/gn/v20190914/rsds_Amon_NorCPM1_dcppA-hindcast_s1961-r4i1p1f1_gn_196110-197112.nc'}]]\n",
      "<class 'list'>\n",
      "[{'filename': 'rsds_Amon_HadGEM3-GC31-MM_dcppA-hindcast_s1961-r10i1p1f2_gn_196111-196112.nc', 'url': 'https://esgf.ceda.ac.uk/thredds/fileServer/esg_cmip6/CMIP6/DCPP/MOHC/HadGEM3-GC31-MM/dcppA-hindcast/s1961-r10i1p1f2/Amon/rsds/gn/v20200417/rsds_Amon_HadGEM3-GC31-MM_dcppA-hindcast_s1961-r10i1p1f2_gn_196111-196112.nc'}, {'filename': 'rsds_Amon_HadGEM3-GC31-MM_dcppA-hindcast_s1961-r10i1p1f2_gn_196201-196212.nc', 'url': 'https://esgf.ceda.ac.uk/thredds/fileServer/esg_cmip6/CMIP6/DCPP/MOHC/HadGEM3-GC31-MM/dcppA-hindcast/s1961-r10i1p1f2/Amon/rsds/gn/v20200417/rsds_Amon_HadGEM3-GC31-MM_dcppA-hindcast_s1961-r10i1p1f2_gn_196201-196212.nc'}, {'filename': 'rsds_Amon_HadGEM3-GC31-MM_dcppA-hindcast_s1961-r10i1p1f2_gn_196301-196312.nc', 'url': 'https://esgf.ceda.ac.uk/thredds/fileServer/esg_cmip6/CMIP6/DCPP/MOHC/HadGEM3-GC31-MM/dcppA-hindcast/s1961-r10i1p1f2/Amon/rsds/gn/v20200417/rsds_Amon_HadGEM3-GC31-MM_dcppA-hindcast_s1961-r10i1p1f2_gn_196301-196312.nc'}, {'filename': 'rsds_Amon_HadGEM3-GC31-MM_dcppA-hindcast_s1961-r10i1p1f2_gn_196401-196412.nc', 'url': 'https://esgf.ceda.ac.uk/thredds/fileServer/esg_cmip6/CMIP6/DCPP/MOHC/HadGEM3-GC31-MM/dcppA-hindcast/s1961-r10i1p1f2/Amon/rsds/gn/v20200417/rsds_Amon_HadGEM3-GC31-MM_dcppA-hindcast_s1961-r10i1p1f2_gn_196401-196412.nc'}, {'filename': 'rsds_Amon_HadGEM3-GC31-MM_dcppA-hindcast_s1961-r10i1p1f2_gn_196501-196512.nc', 'url': 'https://esgf.ceda.ac.uk/thredds/fileServer/esg_cmip6/CMIP6/DCPP/MOHC/HadGEM3-GC31-MM/dcppA-hindcast/s1961-r10i1p1f2/Amon/rsds/gn/v20200417/rsds_Amon_HadGEM3-GC31-MM_dcppA-hindcast_s1961-r10i1p1f2_gn_196501-196512.nc'}, {'filename': 'rsds_Amon_HadGEM3-GC31-MM_dcppA-hindcast_s1961-r10i1p1f2_gn_196601-196612.nc', 'url': 'https://esgf.ceda.ac.uk/thredds/fileServer/esg_cmip6/CMIP6/DCPP/MOHC/HadGEM3-GC31-MM/dcppA-hindcast/s1961-r10i1p1f2/Amon/rsds/gn/v20200417/rsds_Amon_HadGEM3-GC31-MM_dcppA-hindcast_s1961-r10i1p1f2_gn_196601-196612.nc'}, {'filename': 'rsds_Amon_HadGEM3-GC31-MM_dcppA-hindcast_s1961-r10i1p1f2_gn_196701-196712.nc', 'url': 'https://esgf.ceda.ac.uk/thredds/fileServer/esg_cmip6/CMIP6/DCPP/MOHC/HadGEM3-GC31-MM/dcppA-hindcast/s1961-r10i1p1f2/Amon/rsds/gn/v20200417/rsds_Amon_HadGEM3-GC31-MM_dcppA-hindcast_s1961-r10i1p1f2_gn_196701-196712.nc'}, {'filename': 'rsds_Amon_HadGEM3-GC31-MM_dcppA-hindcast_s1961-r10i1p1f2_gn_196801-196812.nc', 'url': 'https://esgf.ceda.ac.uk/thredds/fileServer/esg_cmip6/CMIP6/DCPP/MOHC/HadGEM3-GC31-MM/dcppA-hindcast/s1961-r10i1p1f2/Amon/rsds/gn/v20200417/rsds_Amon_HadGEM3-GC31-MM_dcppA-hindcast_s1961-r10i1p1f2_gn_196801-196812.nc'}, {'filename': 'rsds_Amon_HadGEM3-GC31-MM_dcppA-hindcast_s1961-r10i1p1f2_gn_196901-196912.nc', 'url': 'https://esgf.ceda.ac.uk/thredds/fileServer/esg_cmip6/CMIP6/DCPP/MOHC/HadGEM3-GC31-MM/dcppA-hindcast/s1961-r10i1p1f2/Amon/rsds/gn/v20200417/rsds_Amon_HadGEM3-GC31-MM_dcppA-hindcast_s1961-r10i1p1f2_gn_196901-196912.nc'}, {'filename': 'rsds_Amon_HadGEM3-GC31-MM_dcppA-hindcast_s1961-r10i1p1f2_gn_197001-197012.nc', 'url': 'https://esgf.ceda.ac.uk/thredds/fileServer/esg_cmip6/CMIP6/DCPP/MOHC/HadGEM3-GC31-MM/dcppA-hindcast/s1961-r10i1p1f2/Amon/rsds/gn/v20200417/rsds_Amon_HadGEM3-GC31-MM_dcppA-hindcast_s1961-r10i1p1f2_gn_197001-197012.nc'}, {'filename': 'rsds_Amon_HadGEM3-GC31-MM_dcppA-hindcast_s1961-r10i1p1f2_gn_197101-197112.nc', 'url': 'https://esgf.ceda.ac.uk/thredds/fileServer/esg_cmip6/CMIP6/DCPP/MOHC/HadGEM3-GC31-MM/dcppA-hindcast/s1961-r10i1p1f2/Amon/rsds/gn/v20200417/rsds_Amon_HadGEM3-GC31-MM_dcppA-hindcast_s1961-r10i1p1f2_gn_197101-197112.nc'}, {'filename': 'rsds_Amon_HadGEM3-GC31-MM_dcppA-hindcast_s1961-r10i1p1f2_gn_197201-197203.nc', 'url': 'https://esgf.ceda.ac.uk/thredds/fileServer/esg_cmip6/CMIP6/DCPP/MOHC/HadGEM3-GC31-MM/dcppA-hindcast/s1961-r10i1p1f2/Amon/rsds/gn/v20200417/rsds_Amon_HadGEM3-GC31-MM_dcppA-hindcast_s1961-r10i1p1f2_gn_197201-197203.nc'}, {'filename': 'rsds_Amon_HadGEM3-GC31-MM_dcppA-hindcast_s1961-r1i1p1f2_gn_196111-196112.nc', 'url': 'https://esgf.ceda.ac.uk/thredds/fileServer/esg_cmip6/CMIP6/DCPP/MOHC/HadGEM3-GC31-MM/dcppA-hindcast/s1961-r1i1p1f2/Amon/rsds/gn/v20200417/rsds_Amon_HadGEM3-GC31-MM_dcppA-hindcast_s1961-r1i1p1f2_gn_196111-196112.nc'}, {'filename': 'rsds_Amon_HadGEM3-GC31-MM_dcppA-hindcast_s1961-r1i1p1f2_gn_196201-196212.nc', 'url': 'https://esgf.ceda.ac.uk/thredds/fileServer/esg_cmip6/CMIP6/DCPP/MOHC/HadGEM3-GC31-MM/dcppA-hindcast/s1961-r1i1p1f2/Amon/rsds/gn/v20200417/rsds_Amon_HadGEM3-GC31-MM_dcppA-hindcast_s1961-r1i1p1f2_gn_196201-196212.nc'}, {'filename': 'rsds_Amon_HadGEM3-GC31-MM_dcppA-hindcast_s1961-r1i1p1f2_gn_196301-196312.nc', 'url': 'https://esgf.ceda.ac.uk/thredds/fileServer/esg_cmip6/CMIP6/DCPP/MOHC/HadGEM3-GC31-MM/dcppA-hindcast/s1961-r1i1p1f2/Amon/rsds/gn/v20200417/rsds_Amon_HadGEM3-GC31-MM_dcppA-hindcast_s1961-r1i1p1f2_gn_196301-196312.nc'}, {'filename': 'rsds_Amon_HadGEM3-GC31-MM_dcppA-hindcast_s1961-r1i1p1f2_gn_196401-196412.nc', 'url': 'https://esgf.ceda.ac.uk/thredds/fileServer/esg_cmip6/CMIP6/DCPP/MOHC/HadGEM3-GC31-MM/dcppA-hindcast/s1961-r1i1p1f2/Amon/rsds/gn/v20200417/rsds_Amon_HadGEM3-GC31-MM_dcppA-hindcast_s1961-r1i1p1f2_gn_196401-196412.nc'}, {'filename': 'rsds_Amon_HadGEM3-GC31-MM_dcppA-hindcast_s1961-r1i1p1f2_gn_196501-196512.nc', 'url': 'https://esgf.ceda.ac.uk/thredds/fileServer/esg_cmip6/CMIP6/DCPP/MOHC/HadGEM3-GC31-MM/dcppA-hindcast/s1961-r1i1p1f2/Amon/rsds/gn/v20200417/rsds_Amon_HadGEM3-GC31-MM_dcppA-hindcast_s1961-r1i1p1f2_gn_196501-196512.nc'}, {'filename': 'rsds_Amon_HadGEM3-GC31-MM_dcppA-hindcast_s1961-r1i1p1f2_gn_196601-196612.nc', 'url': 'https://esgf.ceda.ac.uk/thredds/fileServer/esg_cmip6/CMIP6/DCPP/MOHC/HadGEM3-GC31-MM/dcppA-hindcast/s1961-r1i1p1f2/Amon/rsds/gn/v20200417/rsds_Amon_HadGEM3-GC31-MM_dcppA-hindcast_s1961-r1i1p1f2_gn_196601-196612.nc'}, {'filename': 'rsds_Amon_HadGEM3-GC31-MM_dcppA-hindcast_s1961-r1i1p1f2_gn_196701-196712.nc', 'url': 'https://esgf.ceda.ac.uk/thredds/fileServer/esg_cmip6/CMIP6/DCPP/MOHC/HadGEM3-GC31-MM/dcppA-hindcast/s1961-r1i1p1f2/Amon/rsds/gn/v20200417/rsds_Amon_HadGEM3-GC31-MM_dcppA-hindcast_s1961-r1i1p1f2_gn_196701-196712.nc'}, {'filename': 'rsds_Amon_HadGEM3-GC31-MM_dcppA-hindcast_s1961-r1i1p1f2_gn_196801-196812.nc', 'url': 'https://esgf.ceda.ac.uk/thredds/fileServer/esg_cmip6/CMIP6/DCPP/MOHC/HadGEM3-GC31-MM/dcppA-hindcast/s1961-r1i1p1f2/Amon/rsds/gn/v20200417/rsds_Amon_HadGEM3-GC31-MM_dcppA-hindcast_s1961-r1i1p1f2_gn_196801-196812.nc'}, {'filename': 'rsds_Amon_HadGEM3-GC31-MM_dcppA-hindcast_s1961-r1i1p1f2_gn_196901-196912.nc', 'url': 'https://esgf.ceda.ac.uk/thredds/fileServer/esg_cmip6/CMIP6/DCPP/MOHC/HadGEM3-GC31-MM/dcppA-hindcast/s1961-r1i1p1f2/Amon/rsds/gn/v20200417/rsds_Amon_HadGEM3-GC31-MM_dcppA-hindcast_s1961-r1i1p1f2_gn_196901-196912.nc'}, {'filename': 'rsds_Amon_HadGEM3-GC31-MM_dcppA-hindcast_s1961-r1i1p1f2_gn_197001-197012.nc', 'url': 'https://esgf.ceda.ac.uk/thredds/fileServer/esg_cmip6/CMIP6/DCPP/MOHC/HadGEM3-GC31-MM/dcppA-hindcast/s1961-r1i1p1f2/Amon/rsds/gn/v20200417/rsds_Amon_HadGEM3-GC31-MM_dcppA-hindcast_s1961-r1i1p1f2_gn_197001-197012.nc'}, {'filename': 'rsds_Amon_HadGEM3-GC31-MM_dcppA-hindcast_s1961-r1i1p1f2_gn_197101-197112.nc', 'url': 'https://esgf.ceda.ac.uk/thredds/fileServer/esg_cmip6/CMIP6/DCPP/MOHC/HadGEM3-GC31-MM/dcppA-hindcast/s1961-r1i1p1f2/Amon/rsds/gn/v20200417/rsds_Amon_HadGEM3-GC31-MM_dcppA-hindcast_s1961-r1i1p1f2_gn_197101-197112.nc'}, {'filename': 'rsds_Amon_HadGEM3-GC31-MM_dcppA-hindcast_s1961-r1i1p1f2_gn_197201-197203.nc', 'url': 'https://esgf.ceda.ac.uk/thredds/fileServer/esg_cmip6/CMIP6/DCPP/MOHC/HadGEM3-GC31-MM/dcppA-hindcast/s1961-r1i1p1f2/Amon/rsds/gn/v20200417/rsds_Amon_HadGEM3-GC31-MM_dcppA-hindcast_s1961-r1i1p1f2_gn_197201-197203.nc'}, {'filename': 'rsds_Amon_HadGEM3-GC31-MM_dcppA-hindcast_s1961-r2i1p1f2_gn_196111-196112.nc', 'url': 'https://esgf.ceda.ac.uk/thredds/fileServer/esg_cmip6/CMIP6/DCPP/MOHC/HadGEM3-GC31-MM/dcppA-hindcast/s1961-r2i1p1f2/Amon/rsds/gn/v20200417/rsds_Amon_HadGEM3-GC31-MM_dcppA-hindcast_s1961-r2i1p1f2_gn_196111-196112.nc'}, {'filename': 'rsds_Amon_HadGEM3-GC31-MM_dcppA-hindcast_s1961-r2i1p1f2_gn_196201-196212.nc', 'url': 'https://esgf.ceda.ac.uk/thredds/fileServer/esg_cmip6/CMIP6/DCPP/MOHC/HadGEM3-GC31-MM/dcppA-hindcast/s1961-r2i1p1f2/Amon/rsds/gn/v20200417/rsds_Amon_HadGEM3-GC31-MM_dcppA-hindcast_s1961-r2i1p1f2_gn_196201-196212.nc'}, {'filename': 'rsds_Amon_HadGEM3-GC31-MM_dcppA-hindcast_s1961-r2i1p1f2_gn_196301-196312.nc', 'url': 'https://esgf.ceda.ac.uk/thredds/fileServer/esg_cmip6/CMIP6/DCPP/MOHC/HadGEM3-GC31-MM/dcppA-hindcast/s1961-r2i1p1f2/Amon/rsds/gn/v20200417/rsds_Amon_HadGEM3-GC31-MM_dcppA-hindcast_s1961-r2i1p1f2_gn_196301-196312.nc'}, {'filename': 'rsds_Amon_HadGEM3-GC31-MM_dcppA-hindcast_s1961-r2i1p1f2_gn_196401-196412.nc', 'url': 'https://esgf.ceda.ac.uk/thredds/fileServer/esg_cmip6/CMIP6/DCPP/MOHC/HadGEM3-GC31-MM/dcppA-hindcast/s1961-r2i1p1f2/Amon/rsds/gn/v20200417/rsds_Amon_HadGEM3-GC31-MM_dcppA-hindcast_s1961-r2i1p1f2_gn_196401-196412.nc'}, {'filename': 'rsds_Amon_HadGEM3-GC31-MM_dcppA-hindcast_s1961-r2i1p1f2_gn_196501-196512.nc', 'url': 'https://esgf.ceda.ac.uk/thredds/fileServer/esg_cmip6/CMIP6/DCPP/MOHC/HadGEM3-GC31-MM/dcppA-hindcast/s1961-r2i1p1f2/Amon/rsds/gn/v20200417/rsds_Amon_HadGEM3-GC31-MM_dcppA-hindcast_s1961-r2i1p1f2_gn_196501-196512.nc'}, {'filename': 'rsds_Amon_HadGEM3-GC31-MM_dcppA-hindcast_s1961-r2i1p1f2_gn_196601-196612.nc', 'url': 'https://esgf.ceda.ac.uk/thredds/fileServer/esg_cmip6/CMIP6/DCPP/MOHC/HadGEM3-GC31-MM/dcppA-hindcast/s1961-r2i1p1f2/Amon/rsds/gn/v20200417/rsds_Amon_HadGEM3-GC31-MM_dcppA-hindcast_s1961-r2i1p1f2_gn_196601-196612.nc'}, {'filename': 'rsds_Amon_HadGEM3-GC31-MM_dcppA-hindcast_s1961-r2i1p1f2_gn_196701-196712.nc', 'url': 'https://esgf.ceda.ac.uk/thredds/fileServer/esg_cmip6/CMIP6/DCPP/MOHC/HadGEM3-GC31-MM/dcppA-hindcast/s1961-r2i1p1f2/Amon/rsds/gn/v20200417/rsds_Amon_HadGEM3-GC31-MM_dcppA-hindcast_s1961-r2i1p1f2_gn_196701-196712.nc'}, {'filename': 'rsds_Amon_HadGEM3-GC31-MM_dcppA-hindcast_s1961-r2i1p1f2_gn_196801-196812.nc', 'url': 'https://esgf.ceda.ac.uk/thredds/fileServer/esg_cmip6/CMIP6/DCPP/MOHC/HadGEM3-GC31-MM/dcppA-hindcast/s1961-r2i1p1f2/Amon/rsds/gn/v20200417/rsds_Amon_HadGEM3-GC31-MM_dcppA-hindcast_s1961-r2i1p1f2_gn_196801-196812.nc'}, {'filename': 'rsds_Amon_HadGEM3-GC31-MM_dcppA-hindcast_s1961-r2i1p1f2_gn_196901-196912.nc', 'url': 'https://esgf.ceda.ac.uk/thredds/fileServer/esg_cmip6/CMIP6/DCPP/MOHC/HadGEM3-GC31-MM/dcppA-hindcast/s1961-r2i1p1f2/Amon/rsds/gn/v20200417/rsds_Amon_HadGEM3-GC31-MM_dcppA-hindcast_s1961-r2i1p1f2_gn_196901-196912.nc'}, {'filename': 'rsds_Amon_HadGEM3-GC31-MM_dcppA-hindcast_s1961-r2i1p1f2_gn_197001-197012.nc', 'url': 'https://esgf.ceda.ac.uk/thredds/fileServer/esg_cmip6/CMIP6/DCPP/MOHC/HadGEM3-GC31-MM/dcppA-hindcast/s1961-r2i1p1f2/Amon/rsds/gn/v20200417/rsds_Amon_HadGEM3-GC31-MM_dcppA-hindcast_s1961-r2i1p1f2_gn_197001-197012.nc'}, {'filename': 'rsds_Amon_HadGEM3-GC31-MM_dcppA-hindcast_s1961-r2i1p1f2_gn_197101-197112.nc', 'url': 'https://esgf.ceda.ac.uk/thredds/fileServer/esg_cmip6/CMIP6/DCPP/MOHC/HadGEM3-GC31-MM/dcppA-hindcast/s1961-r2i1p1f2/Amon/rsds/gn/v20200417/rsds_Amon_HadGEM3-GC31-MM_dcppA-hindcast_s1961-r2i1p1f2_gn_197101-197112.nc'}, {'filename': 'rsds_Amon_HadGEM3-GC31-MM_dcppA-hindcast_s1961-r2i1p1f2_gn_197201-197203.nc', 'url': 'https://esgf.ceda.ac.uk/thredds/fileServer/esg_cmip6/CMIP6/DCPP/MOHC/HadGEM3-GC31-MM/dcppA-hindcast/s1961-r2i1p1f2/Amon/rsds/gn/v20200417/rsds_Amon_HadGEM3-GC31-MM_dcppA-hindcast_s1961-r2i1p1f2_gn_197201-197203.nc'}, {'filename': 'rsds_Amon_HadGEM3-GC31-MM_dcppA-hindcast_s1961-r3i1p1f2_gn_196111-196112.nc', 'url': 'https://esgf.ceda.ac.uk/thredds/fileServer/esg_cmip6/CMIP6/DCPP/MOHC/HadGEM3-GC31-MM/dcppA-hindcast/s1961-r3i1p1f2/Amon/rsds/gn/v20200417/rsds_Amon_HadGEM3-GC31-MM_dcppA-hindcast_s1961-r3i1p1f2_gn_196111-196112.nc'}, {'filename': 'rsds_Amon_HadGEM3-GC31-MM_dcppA-hindcast_s1961-r3i1p1f2_gn_196201-196212.nc', 'url': 'https://esgf.ceda.ac.uk/thredds/fileServer/esg_cmip6/CMIP6/DCPP/MOHC/HadGEM3-GC31-MM/dcppA-hindcast/s1961-r3i1p1f2/Amon/rsds/gn/v20200417/rsds_Amon_HadGEM3-GC31-MM_dcppA-hindcast_s1961-r3i1p1f2_gn_196201-196212.nc'}, {'filename': 'rsds_Amon_HadGEM3-GC31-MM_dcppA-hindcast_s1961-r3i1p1f2_gn_196301-196312.nc', 'url': 'https://esgf.ceda.ac.uk/thredds/fileServer/esg_cmip6/CMIP6/DCPP/MOHC/HadGEM3-GC31-MM/dcppA-hindcast/s1961-r3i1p1f2/Amon/rsds/gn/v20200417/rsds_Amon_HadGEM3-GC31-MM_dcppA-hindcast_s1961-r3i1p1f2_gn_196301-196312.nc'}, {'filename': 'rsds_Amon_HadGEM3-GC31-MM_dcppA-hindcast_s1961-r3i1p1f2_gn_196401-196412.nc', 'url': 'https://esgf.ceda.ac.uk/thredds/fileServer/esg_cmip6/CMIP6/DCPP/MOHC/HadGEM3-GC31-MM/dcppA-hindcast/s1961-r3i1p1f2/Amon/rsds/gn/v20200417/rsds_Amon_HadGEM3-GC31-MM_dcppA-hindcast_s1961-r3i1p1f2_gn_196401-196412.nc'}, {'filename': 'rsds_Amon_HadGEM3-GC31-MM_dcppA-hindcast_s1961-r3i1p1f2_gn_196501-196512.nc', 'url': 'https://esgf.ceda.ac.uk/thredds/fileServer/esg_cmip6/CMIP6/DCPP/MOHC/HadGEM3-GC31-MM/dcppA-hindcast/s1961-r3i1p1f2/Amon/rsds/gn/v20200417/rsds_Amon_HadGEM3-GC31-MM_dcppA-hindcast_s1961-r3i1p1f2_gn_196501-196512.nc'}, {'filename': 'rsds_Amon_HadGEM3-GC31-MM_dcppA-hindcast_s1961-r3i1p1f2_gn_196601-196612.nc', 'url': 'https://esgf.ceda.ac.uk/thredds/fileServer/esg_cmip6/CMIP6/DCPP/MOHC/HadGEM3-GC31-MM/dcppA-hindcast/s1961-r3i1p1f2/Amon/rsds/gn/v20200417/rsds_Amon_HadGEM3-GC31-MM_dcppA-hindcast_s1961-r3i1p1f2_gn_196601-196612.nc'}, {'filename': 'rsds_Amon_HadGEM3-GC31-MM_dcppA-hindcast_s1961-r3i1p1f2_gn_196701-196712.nc', 'url': 'https://esgf.ceda.ac.uk/thredds/fileServer/esg_cmip6/CMIP6/DCPP/MOHC/HadGEM3-GC31-MM/dcppA-hindcast/s1961-r3i1p1f2/Amon/rsds/gn/v20200417/rsds_Amon_HadGEM3-GC31-MM_dcppA-hindcast_s1961-r3i1p1f2_gn_196701-196712.nc'}, {'filename': 'rsds_Amon_HadGEM3-GC31-MM_dcppA-hindcast_s1961-r3i1p1f2_gn_196801-196812.nc', 'url': 'https://esgf.ceda.ac.uk/thredds/fileServer/esg_cmip6/CMIP6/DCPP/MOHC/HadGEM3-GC31-MM/dcppA-hindcast/s1961-r3i1p1f2/Amon/rsds/gn/v20200417/rsds_Amon_HadGEM3-GC31-MM_dcppA-hindcast_s1961-r3i1p1f2_gn_196801-196812.nc'}, {'filename': 'rsds_Amon_HadGEM3-GC31-MM_dcppA-hindcast_s1961-r3i1p1f2_gn_196901-196912.nc', 'url': 'https://esgf.ceda.ac.uk/thredds/fileServer/esg_cmip6/CMIP6/DCPP/MOHC/HadGEM3-GC31-MM/dcppA-hindcast/s1961-r3i1p1f2/Amon/rsds/gn/v20200417/rsds_Amon_HadGEM3-GC31-MM_dcppA-hindcast_s1961-r3i1p1f2_gn_196901-196912.nc'}, {'filename': 'rsds_Amon_HadGEM3-GC31-MM_dcppA-hindcast_s1961-r3i1p1f2_gn_197001-197012.nc', 'url': 'https://esgf.ceda.ac.uk/thredds/fileServer/esg_cmip6/CMIP6/DCPP/MOHC/HadGEM3-GC31-MM/dcppA-hindcast/s1961-r3i1p1f2/Amon/rsds/gn/v20200417/rsds_Amon_HadGEM3-GC31-MM_dcppA-hindcast_s1961-r3i1p1f2_gn_197001-197012.nc'}, {'filename': 'rsds_Amon_HadGEM3-GC31-MM_dcppA-hindcast_s1961-r3i1p1f2_gn_197101-197112.nc', 'url': 'https://esgf.ceda.ac.uk/thredds/fileServer/esg_cmip6/CMIP6/DCPP/MOHC/HadGEM3-GC31-MM/dcppA-hindcast/s1961-r3i1p1f2/Amon/rsds/gn/v20200417/rsds_Amon_HadGEM3-GC31-MM_dcppA-hindcast_s1961-r3i1p1f2_gn_197101-197112.nc'}, {'filename': 'rsds_Amon_HadGEM3-GC31-MM_dcppA-hindcast_s1961-r3i1p1f2_gn_197201-197203.nc', 'url': 'https://esgf.ceda.ac.uk/thredds/fileServer/esg_cmip6/CMIP6/DCPP/MOHC/HadGEM3-GC31-MM/dcppA-hindcast/s1961-r3i1p1f2/Amon/rsds/gn/v20200417/rsds_Amon_HadGEM3-GC31-MM_dcppA-hindcast_s1961-r3i1p1f2_gn_197201-197203.nc'}, {'filename': 'rsds_Amon_HadGEM3-GC31-MM_dcppA-hindcast_s1961-r4i1p1f2_gn_196111-196112.nc', 'url': 'https://esgf.ceda.ac.uk/thredds/fileServer/esg_cmip6/CMIP6/DCPP/MOHC/HadGEM3-GC31-MM/dcppA-hindcast/s1961-r4i1p1f2/Amon/rsds/gn/v20200417/rsds_Amon_HadGEM3-GC31-MM_dcppA-hindcast_s1961-r4i1p1f2_gn_196111-196112.nc'}, {'filename': 'rsds_Amon_HadGEM3-GC31-MM_dcppA-hindcast_s1961-r4i1p1f2_gn_196201-196212.nc', 'url': 'https://esgf.ceda.ac.uk/thredds/fileServer/esg_cmip6/CMIP6/DCPP/MOHC/HadGEM3-GC31-MM/dcppA-hindcast/s1961-r4i1p1f2/Amon/rsds/gn/v20200417/rsds_Amon_HadGEM3-GC31-MM_dcppA-hindcast_s1961-r4i1p1f2_gn_196201-196212.nc'}, {'filename': 'rsds_Amon_HadGEM3-GC31-MM_dcppA-hindcast_s1961-r4i1p1f2_gn_196301-196312.nc', 'url': 'https://esgf.ceda.ac.uk/thredds/fileServer/esg_cmip6/CMIP6/DCPP/MOHC/HadGEM3-GC31-MM/dcppA-hindcast/s1961-r4i1p1f2/Amon/rsds/gn/v20200417/rsds_Amon_HadGEM3-GC31-MM_dcppA-hindcast_s1961-r4i1p1f2_gn_196301-196312.nc'}, {'filename': 'rsds_Amon_HadGEM3-GC31-MM_dcppA-hindcast_s1961-r4i1p1f2_gn_196401-196412.nc', 'url': 'https://esgf.ceda.ac.uk/thredds/fileServer/esg_cmip6/CMIP6/DCPP/MOHC/HadGEM3-GC31-MM/dcppA-hindcast/s1961-r4i1p1f2/Amon/rsds/gn/v20200417/rsds_Amon_HadGEM3-GC31-MM_dcppA-hindcast_s1961-r4i1p1f2_gn_196401-196412.nc'}, {'filename': 'rsds_Amon_HadGEM3-GC31-MM_dcppA-hindcast_s1961-r4i1p1f2_gn_196501-196512.nc', 'url': 'https://esgf.ceda.ac.uk/thredds/fileServer/esg_cmip6/CMIP6/DCPP/MOHC/HadGEM3-GC31-MM/dcppA-hindcast/s1961-r4i1p1f2/Amon/rsds/gn/v20200417/rsds_Amon_HadGEM3-GC31-MM_dcppA-hindcast_s1961-r4i1p1f2_gn_196501-196512.nc'}, {'filename': 'rsds_Amon_HadGEM3-GC31-MM_dcppA-hindcast_s1961-r4i1p1f2_gn_196601-196612.nc', 'url': 'https://esgf.ceda.ac.uk/thredds/fileServer/esg_cmip6/CMIP6/DCPP/MOHC/HadGEM3-GC31-MM/dcppA-hindcast/s1961-r4i1p1f2/Amon/rsds/gn/v20200417/rsds_Amon_HadGEM3-GC31-MM_dcppA-hindcast_s1961-r4i1p1f2_gn_196601-196612.nc'}, {'filename': 'rsds_Amon_HadGEM3-GC31-MM_dcppA-hindcast_s1961-r4i1p1f2_gn_196701-196712.nc', 'url': 'https://esgf.ceda.ac.uk/thredds/fileServer/esg_cmip6/CMIP6/DCPP/MOHC/HadGEM3-GC31-MM/dcppA-hindcast/s1961-r4i1p1f2/Amon/rsds/gn/v20200417/rsds_Amon_HadGEM3-GC31-MM_dcppA-hindcast_s1961-r4i1p1f2_gn_196701-196712.nc'}, {'filename': 'rsds_Amon_HadGEM3-GC31-MM_dcppA-hindcast_s1961-r4i1p1f2_gn_196801-196812.nc', 'url': 'https://esgf.ceda.ac.uk/thredds/fileServer/esg_cmip6/CMIP6/DCPP/MOHC/HadGEM3-GC31-MM/dcppA-hindcast/s1961-r4i1p1f2/Amon/rsds/gn/v20200417/rsds_Amon_HadGEM3-GC31-MM_dcppA-hindcast_s1961-r4i1p1f2_gn_196801-196812.nc'}, {'filename': 'rsds_Amon_HadGEM3-GC31-MM_dcppA-hindcast_s1961-r4i1p1f2_gn_196901-196912.nc', 'url': 'https://esgf.ceda.ac.uk/thredds/fileServer/esg_cmip6/CMIP6/DCPP/MOHC/HadGEM3-GC31-MM/dcppA-hindcast/s1961-r4i1p1f2/Amon/rsds/gn/v20200417/rsds_Amon_HadGEM3-GC31-MM_dcppA-hindcast_s1961-r4i1p1f2_gn_196901-196912.nc'}, {'filename': 'rsds_Amon_HadGEM3-GC31-MM_dcppA-hindcast_s1961-r4i1p1f2_gn_197001-197012.nc', 'url': 'https://esgf.ceda.ac.uk/thredds/fileServer/esg_cmip6/CMIP6/DCPP/MOHC/HadGEM3-GC31-MM/dcppA-hindcast/s1961-r4i1p1f2/Amon/rsds/gn/v20200417/rsds_Amon_HadGEM3-GC31-MM_dcppA-hindcast_s1961-r4i1p1f2_gn_197001-197012.nc'}, {'filename': 'rsds_Amon_HadGEM3-GC31-MM_dcppA-hindcast_s1961-r4i1p1f2_gn_197101-197112.nc', 'url': 'https://esgf.ceda.ac.uk/thredds/fileServer/esg_cmip6/CMIP6/DCPP/MOHC/HadGEM3-GC31-MM/dcppA-hindcast/s1961-r4i1p1f2/Amon/rsds/gn/v20200417/rsds_Amon_HadGEM3-GC31-MM_dcppA-hindcast_s1961-r4i1p1f2_gn_197101-197112.nc'}, {'filename': 'rsds_Amon_HadGEM3-GC31-MM_dcppA-hindcast_s1961-r4i1p1f2_gn_197201-197203.nc', 'url': 'https://esgf.ceda.ac.uk/thredds/fileServer/esg_cmip6/CMIP6/DCPP/MOHC/HadGEM3-GC31-MM/dcppA-hindcast/s1961-r4i1p1f2/Amon/rsds/gn/v20200417/rsds_Amon_HadGEM3-GC31-MM_dcppA-hindcast_s1961-r4i1p1f2_gn_197201-197203.nc'}, {'filename': 'rsds_Amon_HadGEM3-GC31-MM_dcppA-hindcast_s1961-r5i1p1f2_gn_196111-196112.nc', 'url': 'https://esgf.ceda.ac.uk/thredds/fileServer/esg_cmip6/CMIP6/DCPP/MOHC/HadGEM3-GC31-MM/dcppA-hindcast/s1961-r5i1p1f2/Amon/rsds/gn/v20200417/rsds_Amon_HadGEM3-GC31-MM_dcppA-hindcast_s1961-r5i1p1f2_gn_196111-196112.nc'}, {'filename': 'rsds_Amon_HadGEM3-GC31-MM_dcppA-hindcast_s1961-r5i1p1f2_gn_196201-196212.nc', 'url': 'https://esgf.ceda.ac.uk/thredds/fileServer/esg_cmip6/CMIP6/DCPP/MOHC/HadGEM3-GC31-MM/dcppA-hindcast/s1961-r5i1p1f2/Amon/rsds/gn/v20200417/rsds_Amon_HadGEM3-GC31-MM_dcppA-hindcast_s1961-r5i1p1f2_gn_196201-196212.nc'}, {'filename': 'rsds_Amon_HadGEM3-GC31-MM_dcppA-hindcast_s1961-r5i1p1f2_gn_196301-196312.nc', 'url': 'https://esgf.ceda.ac.uk/thredds/fileServer/esg_cmip6/CMIP6/DCPP/MOHC/HadGEM3-GC31-MM/dcppA-hindcast/s1961-r5i1p1f2/Amon/rsds/gn/v20200417/rsds_Amon_HadGEM3-GC31-MM_dcppA-hindcast_s1961-r5i1p1f2_gn_196301-196312.nc'}, {'filename': 'rsds_Amon_HadGEM3-GC31-MM_dcppA-hindcast_s1961-r5i1p1f2_gn_196401-196412.nc', 'url': 'https://esgf.ceda.ac.uk/thredds/fileServer/esg_cmip6/CMIP6/DCPP/MOHC/HadGEM3-GC31-MM/dcppA-hindcast/s1961-r5i1p1f2/Amon/rsds/gn/v20200417/rsds_Amon_HadGEM3-GC31-MM_dcppA-hindcast_s1961-r5i1p1f2_gn_196401-196412.nc'}, {'filename': 'rsds_Amon_HadGEM3-GC31-MM_dcppA-hindcast_s1961-r5i1p1f2_gn_196501-196512.nc', 'url': 'https://esgf.ceda.ac.uk/thredds/fileServer/esg_cmip6/CMIP6/DCPP/MOHC/HadGEM3-GC31-MM/dcppA-hindcast/s1961-r5i1p1f2/Amon/rsds/gn/v20200417/rsds_Amon_HadGEM3-GC31-MM_dcppA-hindcast_s1961-r5i1p1f2_gn_196501-196512.nc'}, {'filename': 'rsds_Amon_HadGEM3-GC31-MM_dcppA-hindcast_s1961-r5i1p1f2_gn_196601-196612.nc', 'url': 'https://esgf.ceda.ac.uk/thredds/fileServer/esg_cmip6/CMIP6/DCPP/MOHC/HadGEM3-GC31-MM/dcppA-hindcast/s1961-r5i1p1f2/Amon/rsds/gn/v20200417/rsds_Amon_HadGEM3-GC31-MM_dcppA-hindcast_s1961-r5i1p1f2_gn_196601-196612.nc'}, {'filename': 'rsds_Amon_HadGEM3-GC31-MM_dcppA-hindcast_s1961-r5i1p1f2_gn_196701-196712.nc', 'url': 'https://esgf.ceda.ac.uk/thredds/fileServer/esg_cmip6/CMIP6/DCPP/MOHC/HadGEM3-GC31-MM/dcppA-hindcast/s1961-r5i1p1f2/Amon/rsds/gn/v20200417/rsds_Amon_HadGEM3-GC31-MM_dcppA-hindcast_s1961-r5i1p1f2_gn_196701-196712.nc'}, {'filename': 'rsds_Amon_HadGEM3-GC31-MM_dcppA-hindcast_s1961-r5i1p1f2_gn_196801-196812.nc', 'url': 'https://esgf.ceda.ac.uk/thredds/fileServer/esg_cmip6/CMIP6/DCPP/MOHC/HadGEM3-GC31-MM/dcppA-hindcast/s1961-r5i1p1f2/Amon/rsds/gn/v20200417/rsds_Amon_HadGEM3-GC31-MM_dcppA-hindcast_s1961-r5i1p1f2_gn_196801-196812.nc'}, {'filename': 'rsds_Amon_HadGEM3-GC31-MM_dcppA-hindcast_s1961-r5i1p1f2_gn_196901-196912.nc', 'url': 'https://esgf.ceda.ac.uk/thredds/fileServer/esg_cmip6/CMIP6/DCPP/MOHC/HadGEM3-GC31-MM/dcppA-hindcast/s1961-r5i1p1f2/Amon/rsds/gn/v20200417/rsds_Amon_HadGEM3-GC31-MM_dcppA-hindcast_s1961-r5i1p1f2_gn_196901-196912.nc'}, {'filename': 'rsds_Amon_HadGEM3-GC31-MM_dcppA-hindcast_s1961-r5i1p1f2_gn_197001-197012.nc', 'url': 'https://esgf.ceda.ac.uk/thredds/fileServer/esg_cmip6/CMIP6/DCPP/MOHC/HadGEM3-GC31-MM/dcppA-hindcast/s1961-r5i1p1f2/Amon/rsds/gn/v20200417/rsds_Amon_HadGEM3-GC31-MM_dcppA-hindcast_s1961-r5i1p1f2_gn_197001-197012.nc'}, {'filename': 'rsds_Amon_HadGEM3-GC31-MM_dcppA-hindcast_s1961-r5i1p1f2_gn_197101-197112.nc', 'url': 'https://esgf.ceda.ac.uk/thredds/fileServer/esg_cmip6/CMIP6/DCPP/MOHC/HadGEM3-GC31-MM/dcppA-hindcast/s1961-r5i1p1f2/Amon/rsds/gn/v20200417/rsds_Amon_HadGEM3-GC31-MM_dcppA-hindcast_s1961-r5i1p1f2_gn_197101-197112.nc'}, {'filename': 'rsds_Amon_HadGEM3-GC31-MM_dcppA-hindcast_s1961-r5i1p1f2_gn_197201-197203.nc', 'url': 'https://esgf.ceda.ac.uk/thredds/fileServer/esg_cmip6/CMIP6/DCPP/MOHC/HadGEM3-GC31-MM/dcppA-hindcast/s1961-r5i1p1f2/Amon/rsds/gn/v20200417/rsds_Amon_HadGEM3-GC31-MM_dcppA-hindcast_s1961-r5i1p1f2_gn_197201-197203.nc'}, {'filename': 'rsds_Amon_HadGEM3-GC31-MM_dcppA-hindcast_s1961-r6i1p1f2_gn_196111-196112.nc', 'url': 'https://esgf.ceda.ac.uk/thredds/fileServer/esg_cmip6/CMIP6/DCPP/MOHC/HadGEM3-GC31-MM/dcppA-hindcast/s1961-r6i1p1f2/Amon/rsds/gn/v20200417/rsds_Amon_HadGEM3-GC31-MM_dcppA-hindcast_s1961-r6i1p1f2_gn_196111-196112.nc'}, {'filename': 'rsds_Amon_HadGEM3-GC31-MM_dcppA-hindcast_s1961-r6i1p1f2_gn_196201-196212.nc', 'url': 'https://esgf.ceda.ac.uk/thredds/fileServer/esg_cmip6/CMIP6/DCPP/MOHC/HadGEM3-GC31-MM/dcppA-hindcast/s1961-r6i1p1f2/Amon/rsds/gn/v20200417/rsds_Amon_HadGEM3-GC31-MM_dcppA-hindcast_s1961-r6i1p1f2_gn_196201-196212.nc'}, {'filename': 'rsds_Amon_HadGEM3-GC31-MM_dcppA-hindcast_s1961-r6i1p1f2_gn_196301-196312.nc', 'url': 'https://esgf.ceda.ac.uk/thredds/fileServer/esg_cmip6/CMIP6/DCPP/MOHC/HadGEM3-GC31-MM/dcppA-hindcast/s1961-r6i1p1f2/Amon/rsds/gn/v20200417/rsds_Amon_HadGEM3-GC31-MM_dcppA-hindcast_s1961-r6i1p1f2_gn_196301-196312.nc'}, {'filename': 'rsds_Amon_HadGEM3-GC31-MM_dcppA-hindcast_s1961-r6i1p1f2_gn_196401-196412.nc', 'url': 'https://esgf.ceda.ac.uk/thredds/fileServer/esg_cmip6/CMIP6/DCPP/MOHC/HadGEM3-GC31-MM/dcppA-hindcast/s1961-r6i1p1f2/Amon/rsds/gn/v20200417/rsds_Amon_HadGEM3-GC31-MM_dcppA-hindcast_s1961-r6i1p1f2_gn_196401-196412.nc'}, {'filename': 'rsds_Amon_HadGEM3-GC31-MM_dcppA-hindcast_s1961-r6i1p1f2_gn_196501-196512.nc', 'url': 'https://esgf.ceda.ac.uk/thredds/fileServer/esg_cmip6/CMIP6/DCPP/MOHC/HadGEM3-GC31-MM/dcppA-hindcast/s1961-r6i1p1f2/Amon/rsds/gn/v20200417/rsds_Amon_HadGEM3-GC31-MM_dcppA-hindcast_s1961-r6i1p1f2_gn_196501-196512.nc'}, {'filename': 'rsds_Amon_HadGEM3-GC31-MM_dcppA-hindcast_s1961-r6i1p1f2_gn_196601-196612.nc', 'url': 'https://esgf.ceda.ac.uk/thredds/fileServer/esg_cmip6/CMIP6/DCPP/MOHC/HadGEM3-GC31-MM/dcppA-hindcast/s1961-r6i1p1f2/Amon/rsds/gn/v20200417/rsds_Amon_HadGEM3-GC31-MM_dcppA-hindcast_s1961-r6i1p1f2_gn_196601-196612.nc'}, {'filename': 'rsds_Amon_HadGEM3-GC31-MM_dcppA-hindcast_s1961-r6i1p1f2_gn_196701-196712.nc', 'url': 'https://esgf.ceda.ac.uk/thredds/fileServer/esg_cmip6/CMIP6/DCPP/MOHC/HadGEM3-GC31-MM/dcppA-hindcast/s1961-r6i1p1f2/Amon/rsds/gn/v20200417/rsds_Amon_HadGEM3-GC31-MM_dcppA-hindcast_s1961-r6i1p1f2_gn_196701-196712.nc'}, {'filename': 'rsds_Amon_HadGEM3-GC31-MM_dcppA-hindcast_s1961-r6i1p1f2_gn_196801-196812.nc', 'url': 'https://esgf.ceda.ac.uk/thredds/fileServer/esg_cmip6/CMIP6/DCPP/MOHC/HadGEM3-GC31-MM/dcppA-hindcast/s1961-r6i1p1f2/Amon/rsds/gn/v20200417/rsds_Amon_HadGEM3-GC31-MM_dcppA-hindcast_s1961-r6i1p1f2_gn_196801-196812.nc'}, {'filename': 'rsds_Amon_HadGEM3-GC31-MM_dcppA-hindcast_s1961-r6i1p1f2_gn_196901-196912.nc', 'url': 'https://esgf.ceda.ac.uk/thredds/fileServer/esg_cmip6/CMIP6/DCPP/MOHC/HadGEM3-GC31-MM/dcppA-hindcast/s1961-r6i1p1f2/Amon/rsds/gn/v20200417/rsds_Amon_HadGEM3-GC31-MM_dcppA-hindcast_s1961-r6i1p1f2_gn_196901-196912.nc'}, {'filename': 'rsds_Amon_HadGEM3-GC31-MM_dcppA-hindcast_s1961-r6i1p1f2_gn_197001-197012.nc', 'url': 'https://esgf.ceda.ac.uk/thredds/fileServer/esg_cmip6/CMIP6/DCPP/MOHC/HadGEM3-GC31-MM/dcppA-hindcast/s1961-r6i1p1f2/Amon/rsds/gn/v20200417/rsds_Amon_HadGEM3-GC31-MM_dcppA-hindcast_s1961-r6i1p1f2_gn_197001-197012.nc'}, {'filename': 'rsds_Amon_HadGEM3-GC31-MM_dcppA-hindcast_s1961-r6i1p1f2_gn_197101-197112.nc', 'url': 'https://esgf.ceda.ac.uk/thredds/fileServer/esg_cmip6/CMIP6/DCPP/MOHC/HadGEM3-GC31-MM/dcppA-hindcast/s1961-r6i1p1f2/Amon/rsds/gn/v20200417/rsds_Amon_HadGEM3-GC31-MM_dcppA-hindcast_s1961-r6i1p1f2_gn_197101-197112.nc'}, {'filename': 'rsds_Amon_HadGEM3-GC31-MM_dcppA-hindcast_s1961-r6i1p1f2_gn_197201-197203.nc', 'url': 'https://esgf.ceda.ac.uk/thredds/fileServer/esg_cmip6/CMIP6/DCPP/MOHC/HadGEM3-GC31-MM/dcppA-hindcast/s1961-r6i1p1f2/Amon/rsds/gn/v20200417/rsds_Amon_HadGEM3-GC31-MM_dcppA-hindcast_s1961-r6i1p1f2_gn_197201-197203.nc'}, {'filename': 'rsds_Amon_HadGEM3-GC31-MM_dcppA-hindcast_s1961-r7i1p1f2_gn_196111-196112.nc', 'url': 'https://esgf.ceda.ac.uk/thredds/fileServer/esg_cmip6/CMIP6/DCPP/MOHC/HadGEM3-GC31-MM/dcppA-hindcast/s1961-r7i1p1f2/Amon/rsds/gn/v20200417/rsds_Amon_HadGEM3-GC31-MM_dcppA-hindcast_s1961-r7i1p1f2_gn_196111-196112.nc'}, {'filename': 'rsds_Amon_HadGEM3-GC31-MM_dcppA-hindcast_s1961-r7i1p1f2_gn_196201-196212.nc', 'url': 'https://esgf.ceda.ac.uk/thredds/fileServer/esg_cmip6/CMIP6/DCPP/MOHC/HadGEM3-GC31-MM/dcppA-hindcast/s1961-r7i1p1f2/Amon/rsds/gn/v20200417/rsds_Amon_HadGEM3-GC31-MM_dcppA-hindcast_s1961-r7i1p1f2_gn_196201-196212.nc'}, {'filename': 'rsds_Amon_HadGEM3-GC31-MM_dcppA-hindcast_s1961-r7i1p1f2_gn_196301-196312.nc', 'url': 'https://esgf.ceda.ac.uk/thredds/fileServer/esg_cmip6/CMIP6/DCPP/MOHC/HadGEM3-GC31-MM/dcppA-hindcast/s1961-r7i1p1f2/Amon/rsds/gn/v20200417/rsds_Amon_HadGEM3-GC31-MM_dcppA-hindcast_s1961-r7i1p1f2_gn_196301-196312.nc'}, {'filename': 'rsds_Amon_HadGEM3-GC31-MM_dcppA-hindcast_s1961-r7i1p1f2_gn_196401-196412.nc', 'url': 'https://esgf.ceda.ac.uk/thredds/fileServer/esg_cmip6/CMIP6/DCPP/MOHC/HadGEM3-GC31-MM/dcppA-hindcast/s1961-r7i1p1f2/Amon/rsds/gn/v20200417/rsds_Amon_HadGEM3-GC31-MM_dcppA-hindcast_s1961-r7i1p1f2_gn_196401-196412.nc'}, {'filename': 'rsds_Amon_HadGEM3-GC31-MM_dcppA-hindcast_s1961-r7i1p1f2_gn_196501-196512.nc', 'url': 'https://esgf.ceda.ac.uk/thredds/fileServer/esg_cmip6/CMIP6/DCPP/MOHC/HadGEM3-GC31-MM/dcppA-hindcast/s1961-r7i1p1f2/Amon/rsds/gn/v20200417/rsds_Amon_HadGEM3-GC31-MM_dcppA-hindcast_s1961-r7i1p1f2_gn_196501-196512.nc'}, {'filename': 'rsds_Amon_HadGEM3-GC31-MM_dcppA-hindcast_s1961-r7i1p1f2_gn_196601-196612.nc', 'url': 'https://esgf.ceda.ac.uk/thredds/fileServer/esg_cmip6/CMIP6/DCPP/MOHC/HadGEM3-GC31-MM/dcppA-hindcast/s1961-r7i1p1f2/Amon/rsds/gn/v20200417/rsds_Amon_HadGEM3-GC31-MM_dcppA-hindcast_s1961-r7i1p1f2_gn_196601-196612.nc'}, {'filename': 'rsds_Amon_HadGEM3-GC31-MM_dcppA-hindcast_s1961-r7i1p1f2_gn_196701-196712.nc', 'url': 'https://esgf.ceda.ac.uk/thredds/fileServer/esg_cmip6/CMIP6/DCPP/MOHC/HadGEM3-GC31-MM/dcppA-hindcast/s1961-r7i1p1f2/Amon/rsds/gn/v20200417/rsds_Amon_HadGEM3-GC31-MM_dcppA-hindcast_s1961-r7i1p1f2_gn_196701-196712.nc'}, {'filename': 'rsds_Amon_HadGEM3-GC31-MM_dcppA-hindcast_s1961-r7i1p1f2_gn_196801-196812.nc', 'url': 'https://esgf.ceda.ac.uk/thredds/fileServer/esg_cmip6/CMIP6/DCPP/MOHC/HadGEM3-GC31-MM/dcppA-hindcast/s1961-r7i1p1f2/Amon/rsds/gn/v20200417/rsds_Amon_HadGEM3-GC31-MM_dcppA-hindcast_s1961-r7i1p1f2_gn_196801-196812.nc'}, {'filename': 'rsds_Amon_HadGEM3-GC31-MM_dcppA-hindcast_s1961-r7i1p1f2_gn_196901-196912.nc', 'url': 'https://esgf.ceda.ac.uk/thredds/fileServer/esg_cmip6/CMIP6/DCPP/MOHC/HadGEM3-GC31-MM/dcppA-hindcast/s1961-r7i1p1f2/Amon/rsds/gn/v20200417/rsds_Amon_HadGEM3-GC31-MM_dcppA-hindcast_s1961-r7i1p1f2_gn_196901-196912.nc'}, {'filename': 'rsds_Amon_HadGEM3-GC31-MM_dcppA-hindcast_s1961-r7i1p1f2_gn_197001-197012.nc', 'url': 'https://esgf.ceda.ac.uk/thredds/fileServer/esg_cmip6/CMIP6/DCPP/MOHC/HadGEM3-GC31-MM/dcppA-hindcast/s1961-r7i1p1f2/Amon/rsds/gn/v20200417/rsds_Amon_HadGEM3-GC31-MM_dcppA-hindcast_s1961-r7i1p1f2_gn_197001-197012.nc'}, {'filename': 'rsds_Amon_HadGEM3-GC31-MM_dcppA-hindcast_s1961-r7i1p1f2_gn_197101-197112.nc', 'url': 'https://esgf.ceda.ac.uk/thredds/fileServer/esg_cmip6/CMIP6/DCPP/MOHC/HadGEM3-GC31-MM/dcppA-hindcast/s1961-r7i1p1f2/Amon/rsds/gn/v20200417/rsds_Amon_HadGEM3-GC31-MM_dcppA-hindcast_s1961-r7i1p1f2_gn_197101-197112.nc'}, {'filename': 'rsds_Amon_HadGEM3-GC31-MM_dcppA-hindcast_s1961-r7i1p1f2_gn_197201-197203.nc', 'url': 'https://esgf.ceda.ac.uk/thredds/fileServer/esg_cmip6/CMIP6/DCPP/MOHC/HadGEM3-GC31-MM/dcppA-hindcast/s1961-r7i1p1f2/Amon/rsds/gn/v20200417/rsds_Amon_HadGEM3-GC31-MM_dcppA-hindcast_s1961-r7i1p1f2_gn_197201-197203.nc'}, {'filename': 'rsds_Amon_HadGEM3-GC31-MM_dcppA-hindcast_s1961-r8i1p1f2_gn_196111-196112.nc', 'url': 'https://esgf.ceda.ac.uk/thredds/fileServer/esg_cmip6/CMIP6/DCPP/MOHC/HadGEM3-GC31-MM/dcppA-hindcast/s1961-r8i1p1f2/Amon/rsds/gn/v20200417/rsds_Amon_HadGEM3-GC31-MM_dcppA-hindcast_s1961-r8i1p1f2_gn_196111-196112.nc'}, {'filename': 'rsds_Amon_HadGEM3-GC31-MM_dcppA-hindcast_s1961-r8i1p1f2_gn_196201-196212.nc', 'url': 'https://esgf.ceda.ac.uk/thredds/fileServer/esg_cmip6/CMIP6/DCPP/MOHC/HadGEM3-GC31-MM/dcppA-hindcast/s1961-r8i1p1f2/Amon/rsds/gn/v20200417/rsds_Amon_HadGEM3-GC31-MM_dcppA-hindcast_s1961-r8i1p1f2_gn_196201-196212.nc'}, {'filename': 'rsds_Amon_HadGEM3-GC31-MM_dcppA-hindcast_s1961-r8i1p1f2_gn_196301-196312.nc', 'url': 'https://esgf.ceda.ac.uk/thredds/fileServer/esg_cmip6/CMIP6/DCPP/MOHC/HadGEM3-GC31-MM/dcppA-hindcast/s1961-r8i1p1f2/Amon/rsds/gn/v20200417/rsds_Amon_HadGEM3-GC31-MM_dcppA-hindcast_s1961-r8i1p1f2_gn_196301-196312.nc'}, {'filename': 'rsds_Amon_HadGEM3-GC31-MM_dcppA-hindcast_s1961-r8i1p1f2_gn_196401-196412.nc', 'url': 'https://esgf.ceda.ac.uk/thredds/fileServer/esg_cmip6/CMIP6/DCPP/MOHC/HadGEM3-GC31-MM/dcppA-hindcast/s1961-r8i1p1f2/Amon/rsds/gn/v20200417/rsds_Amon_HadGEM3-GC31-MM_dcppA-hindcast_s1961-r8i1p1f2_gn_196401-196412.nc'}, {'filename': 'rsds_Amon_HadGEM3-GC31-MM_dcppA-hindcast_s1961-r8i1p1f2_gn_196501-196512.nc', 'url': 'https://esgf.ceda.ac.uk/thredds/fileServer/esg_cmip6/CMIP6/DCPP/MOHC/HadGEM3-GC31-MM/dcppA-hindcast/s1961-r8i1p1f2/Amon/rsds/gn/v20200417/rsds_Amon_HadGEM3-GC31-MM_dcppA-hindcast_s1961-r8i1p1f2_gn_196501-196512.nc'}, {'filename': 'rsds_Amon_HadGEM3-GC31-MM_dcppA-hindcast_s1961-r8i1p1f2_gn_196601-196612.nc', 'url': 'https://esgf.ceda.ac.uk/thredds/fileServer/esg_cmip6/CMIP6/DCPP/MOHC/HadGEM3-GC31-MM/dcppA-hindcast/s1961-r8i1p1f2/Amon/rsds/gn/v20200417/rsds_Amon_HadGEM3-GC31-MM_dcppA-hindcast_s1961-r8i1p1f2_gn_196601-196612.nc'}, {'filename': 'rsds_Amon_HadGEM3-GC31-MM_dcppA-hindcast_s1961-r8i1p1f2_gn_196701-196712.nc', 'url': 'https://esgf.ceda.ac.uk/thredds/fileServer/esg_cmip6/CMIP6/DCPP/MOHC/HadGEM3-GC31-MM/dcppA-hindcast/s1961-r8i1p1f2/Amon/rsds/gn/v20200417/rsds_Amon_HadGEM3-GC31-MM_dcppA-hindcast_s1961-r8i1p1f2_gn_196701-196712.nc'}, {'filename': 'rsds_Amon_HadGEM3-GC31-MM_dcppA-hindcast_s1961-r8i1p1f2_gn_196801-196812.nc', 'url': 'https://esgf.ceda.ac.uk/thredds/fileServer/esg_cmip6/CMIP6/DCPP/MOHC/HadGEM3-GC31-MM/dcppA-hindcast/s1961-r8i1p1f2/Amon/rsds/gn/v20200417/rsds_Amon_HadGEM3-GC31-MM_dcppA-hindcast_s1961-r8i1p1f2_gn_196801-196812.nc'}, {'filename': 'rsds_Amon_HadGEM3-GC31-MM_dcppA-hindcast_s1961-r8i1p1f2_gn_196901-196912.nc', 'url': 'https://esgf.ceda.ac.uk/thredds/fileServer/esg_cmip6/CMIP6/DCPP/MOHC/HadGEM3-GC31-MM/dcppA-hindcast/s1961-r8i1p1f2/Amon/rsds/gn/v20200417/rsds_Amon_HadGEM3-GC31-MM_dcppA-hindcast_s1961-r8i1p1f2_gn_196901-196912.nc'}, {'filename': 'rsds_Amon_HadGEM3-GC31-MM_dcppA-hindcast_s1961-r8i1p1f2_gn_197001-197012.nc', 'url': 'https://esgf.ceda.ac.uk/thredds/fileServer/esg_cmip6/CMIP6/DCPP/MOHC/HadGEM3-GC31-MM/dcppA-hindcast/s1961-r8i1p1f2/Amon/rsds/gn/v20200417/rsds_Amon_HadGEM3-GC31-MM_dcppA-hindcast_s1961-r8i1p1f2_gn_197001-197012.nc'}, {'filename': 'rsds_Amon_HadGEM3-GC31-MM_dcppA-hindcast_s1961-r8i1p1f2_gn_197101-197112.nc', 'url': 'https://esgf.ceda.ac.uk/thredds/fileServer/esg_cmip6/CMIP6/DCPP/MOHC/HadGEM3-GC31-MM/dcppA-hindcast/s1961-r8i1p1f2/Amon/rsds/gn/v20200417/rsds_Amon_HadGEM3-GC31-MM_dcppA-hindcast_s1961-r8i1p1f2_gn_197101-197112.nc'}, {'filename': 'rsds_Amon_HadGEM3-GC31-MM_dcppA-hindcast_s1961-r8i1p1f2_gn_197201-197203.nc', 'url': 'https://esgf.ceda.ac.uk/thredds/fileServer/esg_cmip6/CMIP6/DCPP/MOHC/HadGEM3-GC31-MM/dcppA-hindcast/s1961-r8i1p1f2/Amon/rsds/gn/v20200417/rsds_Amon_HadGEM3-GC31-MM_dcppA-hindcast_s1961-r8i1p1f2_gn_197201-197203.nc'}, {'filename': 'rsds_Amon_HadGEM3-GC31-MM_dcppA-hindcast_s1961-r9i1p1f2_gn_196111-196112.nc', 'url': 'https://esgf.ceda.ac.uk/thredds/fileServer/esg_cmip6/CMIP6/DCPP/MOHC/HadGEM3-GC31-MM/dcppA-hindcast/s1961-r9i1p1f2/Amon/rsds/gn/v20200417/rsds_Amon_HadGEM3-GC31-MM_dcppA-hindcast_s1961-r9i1p1f2_gn_196111-196112.nc'}, {'filename': 'rsds_Amon_HadGEM3-GC31-MM_dcppA-hindcast_s1961-r9i1p1f2_gn_196201-196212.nc', 'url': 'https://esgf.ceda.ac.uk/thredds/fileServer/esg_cmip6/CMIP6/DCPP/MOHC/HadGEM3-GC31-MM/dcppA-hindcast/s1961-r9i1p1f2/Amon/rsds/gn/v20200417/rsds_Amon_HadGEM3-GC31-MM_dcppA-hindcast_s1961-r9i1p1f2_gn_196201-196212.nc'}, {'filename': 'rsds_Amon_HadGEM3-GC31-MM_dcppA-hindcast_s1961-r9i1p1f2_gn_196301-196312.nc', 'url': 'https://esgf.ceda.ac.uk/thredds/fileServer/esg_cmip6/CMIP6/DCPP/MOHC/HadGEM3-GC31-MM/dcppA-hindcast/s1961-r9i1p1f2/Amon/rsds/gn/v20200417/rsds_Amon_HadGEM3-GC31-MM_dcppA-hindcast_s1961-r9i1p1f2_gn_196301-196312.nc'}, {'filename': 'rsds_Amon_HadGEM3-GC31-MM_dcppA-hindcast_s1961-r9i1p1f2_gn_196401-196412.nc', 'url': 'https://esgf.ceda.ac.uk/thredds/fileServer/esg_cmip6/CMIP6/DCPP/MOHC/HadGEM3-GC31-MM/dcppA-hindcast/s1961-r9i1p1f2/Amon/rsds/gn/v20200417/rsds_Amon_HadGEM3-GC31-MM_dcppA-hindcast_s1961-r9i1p1f2_gn_196401-196412.nc'}, {'filename': 'rsds_Amon_HadGEM3-GC31-MM_dcppA-hindcast_s1961-r9i1p1f2_gn_196501-196512.nc', 'url': 'https://esgf.ceda.ac.uk/thredds/fileServer/esg_cmip6/CMIP6/DCPP/MOHC/HadGEM3-GC31-MM/dcppA-hindcast/s1961-r9i1p1f2/Amon/rsds/gn/v20200417/rsds_Amon_HadGEM3-GC31-MM_dcppA-hindcast_s1961-r9i1p1f2_gn_196501-196512.nc'}, {'filename': 'rsds_Amon_HadGEM3-GC31-MM_dcppA-hindcast_s1961-r9i1p1f2_gn_196601-196612.nc', 'url': 'https://esgf.ceda.ac.uk/thredds/fileServer/esg_cmip6/CMIP6/DCPP/MOHC/HadGEM3-GC31-MM/dcppA-hindcast/s1961-r9i1p1f2/Amon/rsds/gn/v20200417/rsds_Amon_HadGEM3-GC31-MM_dcppA-hindcast_s1961-r9i1p1f2_gn_196601-196612.nc'}, {'filename': 'rsds_Amon_HadGEM3-GC31-MM_dcppA-hindcast_s1961-r9i1p1f2_gn_196701-196712.nc', 'url': 'https://esgf.ceda.ac.uk/thredds/fileServer/esg_cmip6/CMIP6/DCPP/MOHC/HadGEM3-GC31-MM/dcppA-hindcast/s1961-r9i1p1f2/Amon/rsds/gn/v20200417/rsds_Amon_HadGEM3-GC31-MM_dcppA-hindcast_s1961-r9i1p1f2_gn_196701-196712.nc'}, {'filename': 'rsds_Amon_HadGEM3-GC31-MM_dcppA-hindcast_s1961-r9i1p1f2_gn_196801-196812.nc', 'url': 'https://esgf.ceda.ac.uk/thredds/fileServer/esg_cmip6/CMIP6/DCPP/MOHC/HadGEM3-GC31-MM/dcppA-hindcast/s1961-r9i1p1f2/Amon/rsds/gn/v20200417/rsds_Amon_HadGEM3-GC31-MM_dcppA-hindcast_s1961-r9i1p1f2_gn_196801-196812.nc'}, {'filename': 'rsds_Amon_HadGEM3-GC31-MM_dcppA-hindcast_s1961-r9i1p1f2_gn_196901-196912.nc', 'url': 'https://esgf.ceda.ac.uk/thredds/fileServer/esg_cmip6/CMIP6/DCPP/MOHC/HadGEM3-GC31-MM/dcppA-hindcast/s1961-r9i1p1f2/Amon/rsds/gn/v20200417/rsds_Amon_HadGEM3-GC31-MM_dcppA-hindcast_s1961-r9i1p1f2_gn_196901-196912.nc'}, {'filename': 'rsds_Amon_HadGEM3-GC31-MM_dcppA-hindcast_s1961-r9i1p1f2_gn_197001-197012.nc', 'url': 'https://esgf.ceda.ac.uk/thredds/fileServer/esg_cmip6/CMIP6/DCPP/MOHC/HadGEM3-GC31-MM/dcppA-hindcast/s1961-r9i1p1f2/Amon/rsds/gn/v20200417/rsds_Amon_HadGEM3-GC31-MM_dcppA-hindcast_s1961-r9i1p1f2_gn_197001-197012.nc'}, {'filename': 'rsds_Amon_HadGEM3-GC31-MM_dcppA-hindcast_s1961-r9i1p1f2_gn_197101-197112.nc', 'url': 'https://esgf.ceda.ac.uk/thredds/fileServer/esg_cmip6/CMIP6/DCPP/MOHC/HadGEM3-GC31-MM/dcppA-hindcast/s1961-r9i1p1f2/Amon/rsds/gn/v20200417/rsds_Amon_HadGEM3-GC31-MM_dcppA-hindcast_s1961-r9i1p1f2_gn_197101-197112.nc'}, {'filename': 'rsds_Amon_HadGEM3-GC31-MM_dcppA-hindcast_s1961-r9i1p1f2_gn_197201-197203.nc', 'url': 'https://esgf.ceda.ac.uk/thredds/fileServer/esg_cmip6/CMIP6/DCPP/MOHC/HadGEM3-GC31-MM/dcppA-hindcast/s1961-r9i1p1f2/Amon/rsds/gn/v20200417/rsds_Amon_HadGEM3-GC31-MM_dcppA-hindcast_s1961-r9i1p1f2_gn_197201-197203.nc'}]\n",
      "<class 'list'>\n",
      "[{'filename': 'rsds_Amon_BCC-CSM2-MR_dcppA-hindcast_s1961-r1i1p1f1_gn_196101-197012.nc', 'url': 'http://cmip.bcc.cma.cn/thredds/fileServer/cmip6_data/DCPP/BCC/BCC-CSM2-MR/dcppA-hindcast/s1961-r1i1p1f1/Amon/rsds/gn/v20191126/rsds_Amon_BCC-CSM2-MR_dcppA-hindcast_s1961-r1i1p1f1_gn_196101-197012.nc'}, {'filename': 'rsds_Amon_BCC-CSM2-MR_dcppA-hindcast_s1961-r8i1p1f1_gn_196101-197012.nc', 'url': 'http://cmip.bcc.cma.cn/thredds/fileServer/cmip6_data/DCPP/BCC/BCC-CSM2-MR/dcppA-hindcast/s1961-r8i1p1f1/Amon/rsds/gn/v20191204/rsds_Amon_BCC-CSM2-MR_dcppA-hindcast_s1961-r8i1p1f1_gn_196101-197012.nc'}, {'filename': 'rsds_Amon_BCC-CSM2-MR_dcppA-hindcast_s1961-r4i1p1f1_gn_196101-197012.nc', 'url': 'http://cmip.bcc.cma.cn/thredds/fileServer/cmip6_data/DCPP/BCC/BCC-CSM2-MR/dcppA-hindcast/s1961-r4i1p1f1/Amon/rsds/gn/v20191204/rsds_Amon_BCC-CSM2-MR_dcppA-hindcast_s1961-r4i1p1f1_gn_196101-197012.nc'}, {'filename': 'rsds_Amon_BCC-CSM2-MR_dcppA-hindcast_s1961-r7i1p1f1_gn_196101-197012.nc', 'url': 'http://cmip.bcc.cma.cn/thredds/fileServer/cmip6_data/DCPP/BCC/BCC-CSM2-MR/dcppA-hindcast/s1961-r7i1p1f1/Amon/rsds/gn/v20191204/rsds_Amon_BCC-CSM2-MR_dcppA-hindcast_s1961-r7i1p1f1_gn_196101-197012.nc'}, {'filename': 'rsds_Amon_BCC-CSM2-MR_dcppA-hindcast_s1961-r5i1p1f1_gn_196101-197012.nc', 'url': 'http://cmip.bcc.cma.cn/thredds/fileServer/cmip6_data/DCPP/BCC/BCC-CSM2-MR/dcppA-hindcast/s1961-r5i1p1f1/Amon/rsds/gn/v20191204/rsds_Amon_BCC-CSM2-MR_dcppA-hindcast_s1961-r5i1p1f1_gn_196101-197012.nc'}, {'filename': 'rsds_Amon_BCC-CSM2-MR_dcppA-hindcast_s1961-r3i1p1f1_gn_196101-197012.nc', 'url': 'http://cmip.bcc.cma.cn/thredds/fileServer/cmip6_data/DCPP/BCC/BCC-CSM2-MR/dcppA-hindcast/s1961-r3i1p1f1/Amon/rsds/gn/v20191204/rsds_Amon_BCC-CSM2-MR_dcppA-hindcast_s1961-r3i1p1f1_gn_196101-197012.nc'}, {'filename': 'rsds_Amon_BCC-CSM2-MR_dcppA-hindcast_s1961-r6i1p1f1_gn_196101-197012.nc', 'url': 'http://cmip.bcc.cma.cn/thredds/fileServer/cmip6_data/DCPP/BCC/BCC-CSM2-MR/dcppA-hindcast/s1961-r6i1p1f1/Amon/rsds/gn/v20191204/rsds_Amon_BCC-CSM2-MR_dcppA-hindcast_s1961-r6i1p1f1_gn_196101-197012.nc'}, {'filename': 'rsds_Amon_BCC-CSM2-MR_dcppA-hindcast_s1961-r2i1p1f1_gn_196101-197012.nc', 'url': 'http://cmip.bcc.cma.cn/thredds/fileServer/cmip6_data/DCPP/BCC/BCC-CSM2-MR/dcppA-hindcast/s1961-r2i1p1f1/Amon/rsds/gn/v20191204/rsds_Amon_BCC-CSM2-MR_dcppA-hindcast_s1961-r2i1p1f1_gn_196101-197012.nc'}]\n",
      "<class 'list'>\n",
      "[{'filename': 'rsds_Amon_NorCPM1_dcppA-hindcast_s1961-r6i1p1f1_gn_196110-197112.nc', 'url': 'http://noresg.nird.sigma2.no/thredds/fileServer/esg_dataroot/cmor/CMIP6/DCPP/NCC/NorCPM1/dcppA-hindcast/s1961-r6i1p1f1/Amon/rsds/gn/v20190914/rsds_Amon_NorCPM1_dcppA-hindcast_s1961-r6i1p1f1_gn_196110-197112.nc'}, {'filename': 'rsds_Amon_NorCPM1_dcppA-hindcast_s1961-r6i2p1f1_gn_196110-197112.nc', 'url': 'http://noresg.nird.sigma2.no/thredds/fileServer/esg_dataroot/cmor/CMIP6/DCPP/NCC/NorCPM1/dcppA-hindcast/s1961-r6i2p1f1/Amon/rsds/gn/v20190914/rsds_Amon_NorCPM1_dcppA-hindcast_s1961-r6i2p1f1_gn_196110-197112.nc'}, {'filename': 'rsds_Amon_NorCPM1_dcppA-hindcast_s1961-r1i2p1f1_gn_196110-197112.nc', 'url': 'http://noresg.nird.sigma2.no/thredds/fileServer/esg_dataroot/cmor/CMIP6/DCPP/NCC/NorCPM1/dcppA-hindcast/s1961-r1i2p1f1/Amon/rsds/gn/v20190914/rsds_Amon_NorCPM1_dcppA-hindcast_s1961-r1i2p1f1_gn_196110-197112.nc'}, {'filename': 'rsds_Amon_NorCPM1_dcppA-hindcast_s1961-r2i1p1f1_gn_196110-197112.nc', 'url': 'http://noresg.nird.sigma2.no/thredds/fileServer/esg_dataroot/cmor/CMIP6/DCPP/NCC/NorCPM1/dcppA-hindcast/s1961-r2i1p1f1/Amon/rsds/gn/v20190914/rsds_Amon_NorCPM1_dcppA-hindcast_s1961-r2i1p1f1_gn_196110-197112.nc'}, {'filename': 'rsds_Amon_NorCPM1_dcppA-hindcast_s1961-r8i2p1f1_gn_196110-197112.nc', 'url': 'http://noresg.nird.sigma2.no/thredds/fileServer/esg_dataroot/cmor/CMIP6/DCPP/NCC/NorCPM1/dcppA-hindcast/s1961-r8i2p1f1/Amon/rsds/gn/v20190914/rsds_Amon_NorCPM1_dcppA-hindcast_s1961-r8i2p1f1_gn_196110-197112.nc'}, {'filename': 'rsds_Amon_NorCPM1_dcppA-hindcast_s1961-r7i1p1f1_gn_196110-197112.nc', 'url': 'http://noresg.nird.sigma2.no/thredds/fileServer/esg_dataroot/cmor/CMIP6/DCPP/NCC/NorCPM1/dcppA-hindcast/s1961-r7i1p1f1/Amon/rsds/gn/v20190914/rsds_Amon_NorCPM1_dcppA-hindcast_s1961-r7i1p1f1_gn_196110-197112.nc'}, {'filename': 'rsds_Amon_NorCPM1_dcppA-hindcast_s1961-r5i2p1f1_gn_196110-197112.nc', 'url': 'http://noresg.nird.sigma2.no/thredds/fileServer/esg_dataroot/cmor/CMIP6/DCPP/NCC/NorCPM1/dcppA-hindcast/s1961-r5i2p1f1/Amon/rsds/gn/v20190914/rsds_Amon_NorCPM1_dcppA-hindcast_s1961-r5i2p1f1_gn_196110-197112.nc'}, {'filename': 'rsds_Amon_NorCPM1_dcppA-hindcast_s1961-r1i1p1f1_gn_196110-197112.nc', 'url': 'http://noresg.nird.sigma2.no/thredds/fileServer/esg_dataroot/cmor/CMIP6/DCPP/NCC/NorCPM1/dcppA-hindcast/s1961-r1i1p1f1/Amon/rsds/gn/v20190914/rsds_Amon_NorCPM1_dcppA-hindcast_s1961-r1i1p1f1_gn_196110-197112.nc'}, {'filename': 'rsds_Amon_NorCPM1_dcppA-hindcast_s1961-r10i1p1f1_gn_196110-197112.nc', 'url': 'http://noresg.nird.sigma2.no/thredds/fileServer/esg_dataroot/cmor/CMIP6/DCPP/NCC/NorCPM1/dcppA-hindcast/s1961-r10i1p1f1/Amon/rsds/gn/v20190914/rsds_Amon_NorCPM1_dcppA-hindcast_s1961-r10i1p1f1_gn_196110-197112.nc'}, {'filename': 'rsds_Amon_NorCPM1_dcppA-hindcast_s1961-r7i2p1f1_gn_196110-197112.nc', 'url': 'http://noresg.nird.sigma2.no/thredds/fileServer/esg_dataroot/cmor/CMIP6/DCPP/NCC/NorCPM1/dcppA-hindcast/s1961-r7i2p1f1/Amon/rsds/gn/v20190914/rsds_Amon_NorCPM1_dcppA-hindcast_s1961-r7i2p1f1_gn_196110-197112.nc'}, {'filename': 'rsds_Amon_NorCPM1_dcppA-hindcast_s1961-r8i1p1f1_gn_196110-197112.nc', 'url': 'http://noresg.nird.sigma2.no/thredds/fileServer/esg_dataroot/cmor/CMIP6/DCPP/NCC/NorCPM1/dcppA-hindcast/s1961-r8i1p1f1/Amon/rsds/gn/v20190914/rsds_Amon_NorCPM1_dcppA-hindcast_s1961-r8i1p1f1_gn_196110-197112.nc'}, {'filename': 'rsds_Amon_NorCPM1_dcppA-hindcast_s1961-r9i1p1f1_gn_196110-197112.nc', 'url': 'http://noresg.nird.sigma2.no/thredds/fileServer/esg_dataroot/cmor/CMIP6/DCPP/NCC/NorCPM1/dcppA-hindcast/s1961-r9i1p1f1/Amon/rsds/gn/v20190914/rsds_Amon_NorCPM1_dcppA-hindcast_s1961-r9i1p1f1_gn_196110-197112.nc'}, {'filename': 'rsds_Amon_NorCPM1_dcppA-hindcast_s1961-r9i2p1f1_gn_196110-197112.nc', 'url': 'http://noresg.nird.sigma2.no/thredds/fileServer/esg_dataroot/cmor/CMIP6/DCPP/NCC/NorCPM1/dcppA-hindcast/s1961-r9i2p1f1/Amon/rsds/gn/v20190914/rsds_Amon_NorCPM1_dcppA-hindcast_s1961-r9i2p1f1_gn_196110-197112.nc'}, {'filename': 'rsds_Amon_NorCPM1_dcppA-hindcast_s1961-r3i1p1f1_gn_196110-197112.nc', 'url': 'http://noresg.nird.sigma2.no/thredds/fileServer/esg_dataroot/cmor/CMIP6/DCPP/NCC/NorCPM1/dcppA-hindcast/s1961-r3i1p1f1/Amon/rsds/gn/v20190914/rsds_Amon_NorCPM1_dcppA-hindcast_s1961-r3i1p1f1_gn_196110-197112.nc'}, {'filename': 'rsds_Amon_NorCPM1_dcppA-hindcast_s1961-r3i2p1f1_gn_196110-197112.nc', 'url': 'http://noresg.nird.sigma2.no/thredds/fileServer/esg_dataroot/cmor/CMIP6/DCPP/NCC/NorCPM1/dcppA-hindcast/s1961-r3i2p1f1/Amon/rsds/gn/v20190914/rsds_Amon_NorCPM1_dcppA-hindcast_s1961-r3i2p1f1_gn_196110-197112.nc'}, {'filename': 'rsds_Amon_NorCPM1_dcppA-hindcast_s1961-r10i2p1f1_gn_196110-197112.nc', 'url': 'http://noresg.nird.sigma2.no/thredds/fileServer/esg_dataroot/cmor/CMIP6/DCPP/NCC/NorCPM1/dcppA-hindcast/s1961-r10i2p1f1/Amon/rsds/gn/v20190914/rsds_Amon_NorCPM1_dcppA-hindcast_s1961-r10i2p1f1_gn_196110-197112.nc'}, {'filename': 'rsds_Amon_NorCPM1_dcppA-hindcast_s1961-r4i2p1f1_gn_196110-197112.nc', 'url': 'http://noresg.nird.sigma2.no/thredds/fileServer/esg_dataroot/cmor/CMIP6/DCPP/NCC/NorCPM1/dcppA-hindcast/s1961-r4i2p1f1/Amon/rsds/gn/v20190914/rsds_Amon_NorCPM1_dcppA-hindcast_s1961-r4i2p1f1_gn_196110-197112.nc'}, {'filename': 'rsds_Amon_NorCPM1_dcppA-hindcast_s1961-r5i1p1f1_gn_196110-197112.nc', 'url': 'http://noresg.nird.sigma2.no/thredds/fileServer/esg_dataroot/cmor/CMIP6/DCPP/NCC/NorCPM1/dcppA-hindcast/s1961-r5i1p1f1/Amon/rsds/gn/v20190914/rsds_Amon_NorCPM1_dcppA-hindcast_s1961-r5i1p1f1_gn_196110-197112.nc'}, {'filename': 'rsds_Amon_NorCPM1_dcppA-hindcast_s1961-r2i2p1f1_gn_196110-197112.nc', 'url': 'http://noresg.nird.sigma2.no/thredds/fileServer/esg_dataroot/cmor/CMIP6/DCPP/NCC/NorCPM1/dcppA-hindcast/s1961-r2i2p1f1/Amon/rsds/gn/v20190914/rsds_Amon_NorCPM1_dcppA-hindcast_s1961-r2i2p1f1_gn_196110-197112.nc'}, {'filename': 'rsds_Amon_NorCPM1_dcppA-hindcast_s1961-r4i1p1f1_gn_196110-197112.nc', 'url': 'http://noresg.nird.sigma2.no/thredds/fileServer/esg_dataroot/cmor/CMIP6/DCPP/NCC/NorCPM1/dcppA-hindcast/s1961-r4i1p1f1/Amon/rsds/gn/v20190914/rsds_Amon_NorCPM1_dcppA-hindcast_s1961-r4i1p1f1_gn_196110-197112.nc'}]\n"
     ]
    }
   ],
   "source": [
    "print(len(file_context_list))\n",
    "print(type(file_context_list))\n",
    "print(file_context_list)\n",
    "\n",
    "for file_context in file_context_list:\n",
    "    print(type(file_context))\n",
    "    print(file_context)"
   ]
  },
  {
   "cell_type": "code",
   "execution_count": 35,
   "metadata": {},
   "outputs": [
    {
     "data": {
      "text/html": [
       "<div>\n",
       "<style scoped>\n",
       "    .dataframe tbody tr th:only-of-type {\n",
       "        vertical-align: middle;\n",
       "    }\n",
       "\n",
       "    .dataframe tbody tr th {\n",
       "        vertical-align: top;\n",
       "    }\n",
       "\n",
       "    .dataframe thead th {\n",
       "        text-align: right;\n",
       "    }\n",
       "</style>\n",
       "<table border=\"1\" class=\"dataframe\">\n",
       "  <thead>\n",
       "    <tr style=\"text-align: right;\">\n",
       "      <th></th>\n",
       "      <th>filename</th>\n",
       "      <th>url</th>\n",
       "    </tr>\n",
       "  </thead>\n",
       "  <tbody>\n",
       "    <tr>\n",
       "      <th>0</th>\n",
       "      <td>rsds_Amon_HadGEM3-GC31-MM_dcppA-hindcast_s1961...</td>\n",
       "      <td>https://esgf.ceda.ac.uk/thredds/fileServer/esg...</td>\n",
       "    </tr>\n",
       "    <tr>\n",
       "      <th>1</th>\n",
       "      <td>rsds_Amon_HadGEM3-GC31-MM_dcppA-hindcast_s1961...</td>\n",
       "      <td>https://esgf.ceda.ac.uk/thredds/fileServer/esg...</td>\n",
       "    </tr>\n",
       "    <tr>\n",
       "      <th>2</th>\n",
       "      <td>rsds_Amon_HadGEM3-GC31-MM_dcppA-hindcast_s1961...</td>\n",
       "      <td>https://esgf.ceda.ac.uk/thredds/fileServer/esg...</td>\n",
       "    </tr>\n",
       "    <tr>\n",
       "      <th>3</th>\n",
       "      <td>rsds_Amon_HadGEM3-GC31-MM_dcppA-hindcast_s1961...</td>\n",
       "      <td>https://esgf.ceda.ac.uk/thredds/fileServer/esg...</td>\n",
       "    </tr>\n",
       "    <tr>\n",
       "      <th>4</th>\n",
       "      <td>rsds_Amon_HadGEM3-GC31-MM_dcppA-hindcast_s1961...</td>\n",
       "      <td>https://esgf.ceda.ac.uk/thredds/fileServer/esg...</td>\n",
       "    </tr>\n",
       "    <tr>\n",
       "      <th>...</th>\n",
       "      <td>...</td>\n",
       "      <td>...</td>\n",
       "    </tr>\n",
       "    <tr>\n",
       "      <th>143</th>\n",
       "      <td>rsds_Amon_NorCPM1_dcppA-hindcast_s1961-r10i2p1...</td>\n",
       "      <td>http://noresg.nird.sigma2.no/thredds/fileServe...</td>\n",
       "    </tr>\n",
       "    <tr>\n",
       "      <th>144</th>\n",
       "      <td>rsds_Amon_NorCPM1_dcppA-hindcast_s1961-r4i2p1f...</td>\n",
       "      <td>http://noresg.nird.sigma2.no/thredds/fileServe...</td>\n",
       "    </tr>\n",
       "    <tr>\n",
       "      <th>145</th>\n",
       "      <td>rsds_Amon_NorCPM1_dcppA-hindcast_s1961-r5i1p1f...</td>\n",
       "      <td>http://noresg.nird.sigma2.no/thredds/fileServe...</td>\n",
       "    </tr>\n",
       "    <tr>\n",
       "      <th>146</th>\n",
       "      <td>rsds_Amon_NorCPM1_dcppA-hindcast_s1961-r2i2p1f...</td>\n",
       "      <td>http://noresg.nird.sigma2.no/thredds/fileServe...</td>\n",
       "    </tr>\n",
       "    <tr>\n",
       "      <th>147</th>\n",
       "      <td>rsds_Amon_NorCPM1_dcppA-hindcast_s1961-r4i1p1f...</td>\n",
       "      <td>http://noresg.nird.sigma2.no/thredds/fileServe...</td>\n",
       "    </tr>\n",
       "  </tbody>\n",
       "</table>\n",
       "<p>148 rows × 2 columns</p>\n",
       "</div>"
      ],
      "text/plain": [
       "                                              filename  \\\n",
       "0    rsds_Amon_HadGEM3-GC31-MM_dcppA-hindcast_s1961...   \n",
       "1    rsds_Amon_HadGEM3-GC31-MM_dcppA-hindcast_s1961...   \n",
       "2    rsds_Amon_HadGEM3-GC31-MM_dcppA-hindcast_s1961...   \n",
       "3    rsds_Amon_HadGEM3-GC31-MM_dcppA-hindcast_s1961...   \n",
       "4    rsds_Amon_HadGEM3-GC31-MM_dcppA-hindcast_s1961...   \n",
       "..                                                 ...   \n",
       "143  rsds_Amon_NorCPM1_dcppA-hindcast_s1961-r10i2p1...   \n",
       "144  rsds_Amon_NorCPM1_dcppA-hindcast_s1961-r4i2p1f...   \n",
       "145  rsds_Amon_NorCPM1_dcppA-hindcast_s1961-r5i1p1f...   \n",
       "146  rsds_Amon_NorCPM1_dcppA-hindcast_s1961-r2i2p1f...   \n",
       "147  rsds_Amon_NorCPM1_dcppA-hindcast_s1961-r4i1p1f...   \n",
       "\n",
       "                                                   url  \n",
       "0    https://esgf.ceda.ac.uk/thredds/fileServer/esg...  \n",
       "1    https://esgf.ceda.ac.uk/thredds/fileServer/esg...  \n",
       "2    https://esgf.ceda.ac.uk/thredds/fileServer/esg...  \n",
       "3    https://esgf.ceda.ac.uk/thredds/fileServer/esg...  \n",
       "4    https://esgf.ceda.ac.uk/thredds/fileServer/esg...  \n",
       "..                                                 ...  \n",
       "143  http://noresg.nird.sigma2.no/thredds/fileServe...  \n",
       "144  http://noresg.nird.sigma2.no/thredds/fileServe...  \n",
       "145  http://noresg.nird.sigma2.no/thredds/fileServe...  \n",
       "146  http://noresg.nird.sigma2.no/thredds/fileServe...  \n",
       "147  http://noresg.nird.sigma2.no/thredds/fileServe...  \n",
       "\n",
       "[148 rows x 2 columns]"
      ]
     },
     "execution_count": 35,
     "metadata": {},
     "output_type": "execute_result"
    }
   ],
   "source": [
    "# Create an empty DataFrame\n",
    "df = pd.DataFrame()\n",
    "\n",
    "# Loop through the file_context_list\n",
    "for file_context in file_context_list:\n",
    "    # Convert the dictionary to a DataFrame\n",
    "    temp_df = pd.DataFrame(file_context)\n",
    "\n",
    "    # Append the temp_df to the main df\n",
    "    df = pd.concat([df, temp_df], ignore_index=True)\n",
    "\n",
    "# Print the df\n",
    "df"
   ]
  },
  {
   "cell_type": "code",
   "execution_count": null,
   "metadata": {},
   "outputs": [],
   "source": [
    "# Python\n",
    "# Create an empty DataFrame\n",
    "df = pd.DataFrame()\n",
    "\n",
    "# Loop through the file_context_list\n",
    "for file_context in file_context_list:\n",
    "    # Convert the dictionary to a DataFrame\n",
    "    temp_df = pd.DataFrame.from_dict(file_context)\n",
    "\n",
    "    # Append the temp_df to the main df\n",
    "    df = pd.concat([df, temp_df], ignore_index=True)"
   ]
  },
  {
   "cell_type": "code",
   "execution_count": 40,
   "metadata": {},
   "outputs": [],
   "source": [
    "# reload for modules\n",
    "import importlib\n",
    "import sys\n",
    "\n",
    "# import the functions\n",
    "_ = importlib.reload(sys.modules['testing_download_functions'])\n",
    "\n",
    "from testing_download_functions import query_data_esgf, extract_file_context, \\\n",
    "                                        download_file, extract_file_context_multithread, \\\n",
    "                                        check_file_exists_jasmin"
   ]
  },
  {
   "cell_type": "code",
   "execution_count": 41,
   "metadata": {},
   "outputs": [
    {
     "name": "stdout",
     "output_type": "stream",
     "text": [
      "MOHC\n",
      "badc\n",
      "File exists for rsds_Amon_HadGEM3-GC31-MM_dcppA-hindcast_s1961-r10i1p1f2_gn_196111-196112.nc\n",
      "MOHC\n",
      "badc\n",
      "File exists for rsds_Amon_HadGEM3-GC31-MM_dcppA-hindcast_s1961-r10i1p1f2_gn_196201-196212.nc\n",
      "MOHC\n",
      "badc\n",
      "File exists for rsds_Amon_HadGEM3-GC31-MM_dcppA-hindcast_s1961-r10i1p1f2_gn_196301-196312.nc\n",
      "MOHC\n",
      "badc\n",
      "File exists for rsds_Amon_HadGEM3-GC31-MM_dcppA-hindcast_s1961-r10i1p1f2_gn_196401-196412.nc\n",
      "MOHC\n",
      "badc\n",
      "File exists for rsds_Amon_HadGEM3-GC31-MM_dcppA-hindcast_s1961-r10i1p1f2_gn_196501-196512.nc\n",
      "MOHC\n",
      "badc\n",
      "File exists for rsds_Amon_HadGEM3-GC31-MM_dcppA-hindcast_s1961-r10i1p1f2_gn_196601-196612.nc\n",
      "MOHC\n",
      "badc\n",
      "File exists for rsds_Amon_HadGEM3-GC31-MM_dcppA-hindcast_s1961-r10i1p1f2_gn_196701-196712.nc\n",
      "MOHC\n",
      "badc\n",
      "File exists for rsds_Amon_HadGEM3-GC31-MM_dcppA-hindcast_s1961-r10i1p1f2_gn_196801-196812.nc\n",
      "MOHC\n",
      "badc\n",
      "File exists for rsds_Amon_HadGEM3-GC31-MM_dcppA-hindcast_s1961-r10i1p1f2_gn_196901-196912.nc\n",
      "MOHC\n",
      "badc\n",
      "File exists for rsds_Amon_HadGEM3-GC31-MM_dcppA-hindcast_s1961-r10i1p1f2_gn_197001-197012.nc\n",
      "MOHC\n",
      "badc\n",
      "File exists for rsds_Amon_HadGEM3-GC31-MM_dcppA-hindcast_s1961-r10i1p1f2_gn_197101-197112.nc\n",
      "MOHC\n",
      "badc\n",
      "File exists for rsds_Amon_HadGEM3-GC31-MM_dcppA-hindcast_s1961-r10i1p1f2_gn_197201-197203.nc\n",
      "MOHC\n",
      "badc\n",
      "File exists for rsds_Amon_HadGEM3-GC31-MM_dcppA-hindcast_s1961-r1i1p1f2_gn_196111-196112.nc\n",
      "MOHC\n",
      "badc\n",
      "File exists for rsds_Amon_HadGEM3-GC31-MM_dcppA-hindcast_s1961-r1i1p1f2_gn_196201-196212.nc\n",
      "MOHC\n",
      "badc\n",
      "File exists for rsds_Amon_HadGEM3-GC31-MM_dcppA-hindcast_s1961-r1i1p1f2_gn_196301-196312.nc\n",
      "MOHC\n",
      "badc\n",
      "File exists for rsds_Amon_HadGEM3-GC31-MM_dcppA-hindcast_s1961-r1i1p1f2_gn_196401-196412.nc\n",
      "MOHC\n",
      "badc\n",
      "File exists for rsds_Amon_HadGEM3-GC31-MM_dcppA-hindcast_s1961-r1i1p1f2_gn_196501-196512.nc\n",
      "MOHC\n",
      "badc\n",
      "File exists for rsds_Amon_HadGEM3-GC31-MM_dcppA-hindcast_s1961-r1i1p1f2_gn_196601-196612.nc\n",
      "MOHC\n",
      "badc\n",
      "File exists for rsds_Amon_HadGEM3-GC31-MM_dcppA-hindcast_s1961-r1i1p1f2_gn_196701-196712.nc\n",
      "MOHC\n",
      "badc\n",
      "File exists for rsds_Amon_HadGEM3-GC31-MM_dcppA-hindcast_s1961-r1i1p1f2_gn_196801-196812.nc\n",
      "MOHC\n",
      "badc\n",
      "File exists for rsds_Amon_HadGEM3-GC31-MM_dcppA-hindcast_s1961-r1i1p1f2_gn_196901-196912.nc\n",
      "MOHC\n",
      "badc\n",
      "File exists for rsds_Amon_HadGEM3-GC31-MM_dcppA-hindcast_s1961-r1i1p1f2_gn_197001-197012.nc\n",
      "MOHC\n",
      "badc\n",
      "File exists for rsds_Amon_HadGEM3-GC31-MM_dcppA-hindcast_s1961-r1i1p1f2_gn_197101-197112.nc\n",
      "MOHC\n",
      "badc\n",
      "File exists for rsds_Amon_HadGEM3-GC31-MM_dcppA-hindcast_s1961-r1i1p1f2_gn_197201-197203.nc\n",
      "MOHC\n",
      "badc\n",
      "File exists for rsds_Amon_HadGEM3-GC31-MM_dcppA-hindcast_s1961-r2i1p1f2_gn_196111-196112.nc\n",
      "MOHC\n",
      "badc\n",
      "File exists for rsds_Amon_HadGEM3-GC31-MM_dcppA-hindcast_s1961-r2i1p1f2_gn_196201-196212.nc\n",
      "MOHC\n",
      "badc\n",
      "File exists for rsds_Amon_HadGEM3-GC31-MM_dcppA-hindcast_s1961-r2i1p1f2_gn_196301-196312.nc\n",
      "MOHC\n",
      "badc\n",
      "File exists for rsds_Amon_HadGEM3-GC31-MM_dcppA-hindcast_s1961-r2i1p1f2_gn_196401-196412.nc\n",
      "MOHC\n",
      "badc\n",
      "File exists for rsds_Amon_HadGEM3-GC31-MM_dcppA-hindcast_s1961-r2i1p1f2_gn_196501-196512.nc\n",
      "MOHC\n",
      "badc\n",
      "File exists for rsds_Amon_HadGEM3-GC31-MM_dcppA-hindcast_s1961-r2i1p1f2_gn_196601-196612.nc\n",
      "MOHC\n",
      "badc\n",
      "File exists for rsds_Amon_HadGEM3-GC31-MM_dcppA-hindcast_s1961-r2i1p1f2_gn_196701-196712.nc\n",
      "MOHC\n",
      "badc\n",
      "File exists for rsds_Amon_HadGEM3-GC31-MM_dcppA-hindcast_s1961-r2i1p1f2_gn_196801-196812.nc\n",
      "MOHC\n",
      "badc\n",
      "File exists for rsds_Amon_HadGEM3-GC31-MM_dcppA-hindcast_s1961-r2i1p1f2_gn_196901-196912.nc\n",
      "MOHC\n",
      "badc\n",
      "File exists for rsds_Amon_HadGEM3-GC31-MM_dcppA-hindcast_s1961-r2i1p1f2_gn_197001-197012.nc\n",
      "MOHC\n",
      "badc\n",
      "File exists for rsds_Amon_HadGEM3-GC31-MM_dcppA-hindcast_s1961-r2i1p1f2_gn_197101-197112.nc\n",
      "MOHC\n",
      "badc\n",
      "File exists for rsds_Amon_HadGEM3-GC31-MM_dcppA-hindcast_s1961-r2i1p1f2_gn_197201-197203.nc\n",
      "MOHC\n",
      "badc\n",
      "File exists for rsds_Amon_HadGEM3-GC31-MM_dcppA-hindcast_s1961-r3i1p1f2_gn_196111-196112.nc\n",
      "MOHC\n",
      "badc\n",
      "File exists for rsds_Amon_HadGEM3-GC31-MM_dcppA-hindcast_s1961-r3i1p1f2_gn_196201-196212.nc\n",
      "MOHC\n",
      "badc\n",
      "File exists for rsds_Amon_HadGEM3-GC31-MM_dcppA-hindcast_s1961-r3i1p1f2_gn_196301-196312.nc\n",
      "MOHC\n",
      "badc\n",
      "File exists for rsds_Amon_HadGEM3-GC31-MM_dcppA-hindcast_s1961-r3i1p1f2_gn_196401-196412.nc\n",
      "MOHC\n",
      "badc\n",
      "File exists for rsds_Amon_HadGEM3-GC31-MM_dcppA-hindcast_s1961-r3i1p1f2_gn_196501-196512.nc\n",
      "MOHC\n",
      "badc\n",
      "File exists for rsds_Amon_HadGEM3-GC31-MM_dcppA-hindcast_s1961-r3i1p1f2_gn_196601-196612.nc\n",
      "MOHC\n",
      "badc\n",
      "File exists for rsds_Amon_HadGEM3-GC31-MM_dcppA-hindcast_s1961-r3i1p1f2_gn_196701-196712.nc\n",
      "MOHC\n",
      "badc\n",
      "File exists for rsds_Amon_HadGEM3-GC31-MM_dcppA-hindcast_s1961-r3i1p1f2_gn_196801-196812.nc\n",
      "MOHC\n",
      "badc\n",
      "File exists for rsds_Amon_HadGEM3-GC31-MM_dcppA-hindcast_s1961-r3i1p1f2_gn_196901-196912.nc\n",
      "MOHC\n",
      "badc\n",
      "File exists for rsds_Amon_HadGEM3-GC31-MM_dcppA-hindcast_s1961-r3i1p1f2_gn_197001-197012.nc\n",
      "MOHC\n",
      "badc\n",
      "File exists for rsds_Amon_HadGEM3-GC31-MM_dcppA-hindcast_s1961-r3i1p1f2_gn_197101-197112.nc\n",
      "MOHC\n",
      "badc\n",
      "File exists for rsds_Amon_HadGEM3-GC31-MM_dcppA-hindcast_s1961-r3i1p1f2_gn_197201-197203.nc\n",
      "MOHC\n",
      "badc\n",
      "File exists for rsds_Amon_HadGEM3-GC31-MM_dcppA-hindcast_s1961-r4i1p1f2_gn_196111-196112.nc\n",
      "MOHC\n",
      "badc\n",
      "File exists for rsds_Amon_HadGEM3-GC31-MM_dcppA-hindcast_s1961-r4i1p1f2_gn_196201-196212.nc\n",
      "MOHC\n",
      "badc\n",
      "File exists for rsds_Amon_HadGEM3-GC31-MM_dcppA-hindcast_s1961-r4i1p1f2_gn_196301-196312.nc\n",
      "MOHC\n",
      "badc\n",
      "File exists for rsds_Amon_HadGEM3-GC31-MM_dcppA-hindcast_s1961-r4i1p1f2_gn_196401-196412.nc\n",
      "MOHC\n",
      "badc\n",
      "File exists for rsds_Amon_HadGEM3-GC31-MM_dcppA-hindcast_s1961-r4i1p1f2_gn_196501-196512.nc\n",
      "MOHC\n",
      "badc\n",
      "File exists for rsds_Amon_HadGEM3-GC31-MM_dcppA-hindcast_s1961-r4i1p1f2_gn_196601-196612.nc\n",
      "MOHC\n",
      "badc\n",
      "File exists for rsds_Amon_HadGEM3-GC31-MM_dcppA-hindcast_s1961-r4i1p1f2_gn_196701-196712.nc\n",
      "MOHC\n",
      "badc\n",
      "File exists for rsds_Amon_HadGEM3-GC31-MM_dcppA-hindcast_s1961-r4i1p1f2_gn_196801-196812.nc\n",
      "MOHC\n",
      "badc\n",
      "File exists for rsds_Amon_HadGEM3-GC31-MM_dcppA-hindcast_s1961-r4i1p1f2_gn_196901-196912.nc\n",
      "MOHC\n",
      "badc\n",
      "File exists for rsds_Amon_HadGEM3-GC31-MM_dcppA-hindcast_s1961-r4i1p1f2_gn_197001-197012.nc\n",
      "MOHC\n",
      "badc\n",
      "File exists for rsds_Amon_HadGEM3-GC31-MM_dcppA-hindcast_s1961-r4i1p1f2_gn_197101-197112.nc\n",
      "MOHC\n",
      "badc\n",
      "File exists for rsds_Amon_HadGEM3-GC31-MM_dcppA-hindcast_s1961-r4i1p1f2_gn_197201-197203.nc\n",
      "MOHC\n",
      "badc\n",
      "File exists for rsds_Amon_HadGEM3-GC31-MM_dcppA-hindcast_s1961-r5i1p1f2_gn_196111-196112.nc\n",
      "MOHC\n",
      "badc\n",
      "File exists for rsds_Amon_HadGEM3-GC31-MM_dcppA-hindcast_s1961-r5i1p1f2_gn_196201-196212.nc\n",
      "MOHC\n",
      "badc\n",
      "File exists for rsds_Amon_HadGEM3-GC31-MM_dcppA-hindcast_s1961-r5i1p1f2_gn_196301-196312.nc\n",
      "MOHC\n",
      "badc\n",
      "File exists for rsds_Amon_HadGEM3-GC31-MM_dcppA-hindcast_s1961-r5i1p1f2_gn_196401-196412.nc\n",
      "MOHC\n",
      "badc\n",
      "File exists for rsds_Amon_HadGEM3-GC31-MM_dcppA-hindcast_s1961-r5i1p1f2_gn_196501-196512.nc\n",
      "MOHC\n",
      "badc\n",
      "File exists for rsds_Amon_HadGEM3-GC31-MM_dcppA-hindcast_s1961-r5i1p1f2_gn_196601-196612.nc\n",
      "MOHC\n",
      "badc\n",
      "File exists for rsds_Amon_HadGEM3-GC31-MM_dcppA-hindcast_s1961-r5i1p1f2_gn_196701-196712.nc\n",
      "MOHC\n",
      "badc\n",
      "File exists for rsds_Amon_HadGEM3-GC31-MM_dcppA-hindcast_s1961-r5i1p1f2_gn_196801-196812.nc\n",
      "MOHC\n",
      "badc\n",
      "File exists for rsds_Amon_HadGEM3-GC31-MM_dcppA-hindcast_s1961-r5i1p1f2_gn_196901-196912.nc\n",
      "MOHC\n",
      "badc\n",
      "File exists for rsds_Amon_HadGEM3-GC31-MM_dcppA-hindcast_s1961-r5i1p1f2_gn_197001-197012.nc\n",
      "MOHC\n",
      "badc\n",
      "File exists for rsds_Amon_HadGEM3-GC31-MM_dcppA-hindcast_s1961-r5i1p1f2_gn_197101-197112.nc\n",
      "MOHC\n",
      "badc\n",
      "File exists for rsds_Amon_HadGEM3-GC31-MM_dcppA-hindcast_s1961-r5i1p1f2_gn_197201-197203.nc\n",
      "MOHC\n",
      "badc\n",
      "File exists for rsds_Amon_HadGEM3-GC31-MM_dcppA-hindcast_s1961-r6i1p1f2_gn_196111-196112.nc\n",
      "MOHC\n",
      "badc\n",
      "File exists for rsds_Amon_HadGEM3-GC31-MM_dcppA-hindcast_s1961-r6i1p1f2_gn_196201-196212.nc\n",
      "MOHC\n",
      "badc\n",
      "File exists for rsds_Amon_HadGEM3-GC31-MM_dcppA-hindcast_s1961-r6i1p1f2_gn_196301-196312.nc\n",
      "MOHC\n",
      "badc\n",
      "File exists for rsds_Amon_HadGEM3-GC31-MM_dcppA-hindcast_s1961-r6i1p1f2_gn_196401-196412.nc\n",
      "MOHC\n",
      "badc\n",
      "File exists for rsds_Amon_HadGEM3-GC31-MM_dcppA-hindcast_s1961-r6i1p1f2_gn_196501-196512.nc\n",
      "MOHC\n",
      "badc\n",
      "File exists for rsds_Amon_HadGEM3-GC31-MM_dcppA-hindcast_s1961-r6i1p1f2_gn_196601-196612.nc\n",
      "MOHC\n",
      "badc\n",
      "File exists for rsds_Amon_HadGEM3-GC31-MM_dcppA-hindcast_s1961-r6i1p1f2_gn_196701-196712.nc\n",
      "MOHC\n",
      "badc\n",
      "File exists for rsds_Amon_HadGEM3-GC31-MM_dcppA-hindcast_s1961-r6i1p1f2_gn_196801-196812.nc\n",
      "MOHC\n",
      "badc\n",
      "File exists for rsds_Amon_HadGEM3-GC31-MM_dcppA-hindcast_s1961-r6i1p1f2_gn_196901-196912.nc\n",
      "MOHC\n",
      "badc\n",
      "File exists for rsds_Amon_HadGEM3-GC31-MM_dcppA-hindcast_s1961-r6i1p1f2_gn_197001-197012.nc\n",
      "MOHC\n",
      "badc\n",
      "File exists for rsds_Amon_HadGEM3-GC31-MM_dcppA-hindcast_s1961-r6i1p1f2_gn_197101-197112.nc\n",
      "MOHC\n",
      "badc\n",
      "File exists for rsds_Amon_HadGEM3-GC31-MM_dcppA-hindcast_s1961-r6i1p1f2_gn_197201-197203.nc\n",
      "MOHC\n",
      "badc\n",
      "File exists for rsds_Amon_HadGEM3-GC31-MM_dcppA-hindcast_s1961-r7i1p1f2_gn_196111-196112.nc\n",
      "MOHC\n",
      "badc\n",
      "File exists for rsds_Amon_HadGEM3-GC31-MM_dcppA-hindcast_s1961-r7i1p1f2_gn_196201-196212.nc\n",
      "MOHC\n",
      "badc\n",
      "File exists for rsds_Amon_HadGEM3-GC31-MM_dcppA-hindcast_s1961-r7i1p1f2_gn_196301-196312.nc\n",
      "MOHC\n",
      "badc\n",
      "File exists for rsds_Amon_HadGEM3-GC31-MM_dcppA-hindcast_s1961-r7i1p1f2_gn_196401-196412.nc\n",
      "MOHC\n",
      "badc\n",
      "File exists for rsds_Amon_HadGEM3-GC31-MM_dcppA-hindcast_s1961-r7i1p1f2_gn_196501-196512.nc\n",
      "MOHC\n",
      "badc\n",
      "File exists for rsds_Amon_HadGEM3-GC31-MM_dcppA-hindcast_s1961-r7i1p1f2_gn_196601-196612.nc\n",
      "MOHC\n",
      "badc\n",
      "File exists for rsds_Amon_HadGEM3-GC31-MM_dcppA-hindcast_s1961-r7i1p1f2_gn_196701-196712.nc\n",
      "MOHC\n",
      "badc\n",
      "File exists for rsds_Amon_HadGEM3-GC31-MM_dcppA-hindcast_s1961-r7i1p1f2_gn_196801-196812.nc\n",
      "MOHC\n",
      "badc\n",
      "File exists for rsds_Amon_HadGEM3-GC31-MM_dcppA-hindcast_s1961-r7i1p1f2_gn_196901-196912.nc\n",
      "MOHC\n",
      "badc\n",
      "File exists for rsds_Amon_HadGEM3-GC31-MM_dcppA-hindcast_s1961-r7i1p1f2_gn_197001-197012.nc\n",
      "MOHC\n",
      "badc\n",
      "File exists for rsds_Amon_HadGEM3-GC31-MM_dcppA-hindcast_s1961-r7i1p1f2_gn_197101-197112.nc\n",
      "MOHC\n",
      "badc\n",
      "File exists for rsds_Amon_HadGEM3-GC31-MM_dcppA-hindcast_s1961-r7i1p1f2_gn_197201-197203.nc\n",
      "MOHC\n",
      "badc\n",
      "File exists for rsds_Amon_HadGEM3-GC31-MM_dcppA-hindcast_s1961-r8i1p1f2_gn_196111-196112.nc\n",
      "MOHC\n",
      "badc\n",
      "File exists for rsds_Amon_HadGEM3-GC31-MM_dcppA-hindcast_s1961-r8i1p1f2_gn_196201-196212.nc\n",
      "MOHC\n",
      "badc\n",
      "File exists for rsds_Amon_HadGEM3-GC31-MM_dcppA-hindcast_s1961-r8i1p1f2_gn_196301-196312.nc\n",
      "MOHC\n",
      "badc\n",
      "File exists for rsds_Amon_HadGEM3-GC31-MM_dcppA-hindcast_s1961-r8i1p1f2_gn_196401-196412.nc\n",
      "MOHC\n",
      "badc\n",
      "File exists for rsds_Amon_HadGEM3-GC31-MM_dcppA-hindcast_s1961-r8i1p1f2_gn_196501-196512.nc\n",
      "MOHC\n",
      "badc\n",
      "File exists for rsds_Amon_HadGEM3-GC31-MM_dcppA-hindcast_s1961-r8i1p1f2_gn_196601-196612.nc\n",
      "MOHC\n",
      "badc\n",
      "File exists for rsds_Amon_HadGEM3-GC31-MM_dcppA-hindcast_s1961-r8i1p1f2_gn_196701-196712.nc\n",
      "MOHC\n",
      "badc\n",
      "File exists for rsds_Amon_HadGEM3-GC31-MM_dcppA-hindcast_s1961-r8i1p1f2_gn_196801-196812.nc\n",
      "MOHC\n",
      "badc\n",
      "File exists for rsds_Amon_HadGEM3-GC31-MM_dcppA-hindcast_s1961-r8i1p1f2_gn_196901-196912.nc\n",
      "MOHC\n",
      "badc\n",
      "File exists for rsds_Amon_HadGEM3-GC31-MM_dcppA-hindcast_s1961-r8i1p1f2_gn_197001-197012.nc\n",
      "MOHC\n",
      "badc\n",
      "File exists for rsds_Amon_HadGEM3-GC31-MM_dcppA-hindcast_s1961-r8i1p1f2_gn_197101-197112.nc\n",
      "MOHC\n",
      "badc\n",
      "File exists for rsds_Amon_HadGEM3-GC31-MM_dcppA-hindcast_s1961-r8i1p1f2_gn_197201-197203.nc\n",
      "MOHC\n",
      "badc\n",
      "File exists for rsds_Amon_HadGEM3-GC31-MM_dcppA-hindcast_s1961-r9i1p1f2_gn_196111-196112.nc\n",
      "MOHC\n",
      "badc\n",
      "File exists for rsds_Amon_HadGEM3-GC31-MM_dcppA-hindcast_s1961-r9i1p1f2_gn_196201-196212.nc\n",
      "MOHC\n",
      "badc\n",
      "File exists for rsds_Amon_HadGEM3-GC31-MM_dcppA-hindcast_s1961-r9i1p1f2_gn_196301-196312.nc\n",
      "MOHC\n",
      "badc\n",
      "File exists for rsds_Amon_HadGEM3-GC31-MM_dcppA-hindcast_s1961-r9i1p1f2_gn_196401-196412.nc\n",
      "MOHC\n",
      "badc\n",
      "File exists for rsds_Amon_HadGEM3-GC31-MM_dcppA-hindcast_s1961-r9i1p1f2_gn_196501-196512.nc\n",
      "MOHC\n",
      "badc\n",
      "File exists for rsds_Amon_HadGEM3-GC31-MM_dcppA-hindcast_s1961-r9i1p1f2_gn_196601-196612.nc\n",
      "MOHC\n",
      "badc\n",
      "File exists for rsds_Amon_HadGEM3-GC31-MM_dcppA-hindcast_s1961-r9i1p1f2_gn_196701-196712.nc\n",
      "MOHC\n",
      "badc\n",
      "File exists for rsds_Amon_HadGEM3-GC31-MM_dcppA-hindcast_s1961-r9i1p1f2_gn_196801-196812.nc\n",
      "MOHC\n",
      "badc\n",
      "File exists for rsds_Amon_HadGEM3-GC31-MM_dcppA-hindcast_s1961-r9i1p1f2_gn_196901-196912.nc\n",
      "MOHC\n",
      "badc\n",
      "File exists for rsds_Amon_HadGEM3-GC31-MM_dcppA-hindcast_s1961-r9i1p1f2_gn_197001-197012.nc\n",
      "MOHC\n",
      "badc\n",
      "File exists for rsds_Amon_HadGEM3-GC31-MM_dcppA-hindcast_s1961-r9i1p1f2_gn_197101-197112.nc\n",
      "MOHC\n",
      "badc\n",
      "File exists for rsds_Amon_HadGEM3-GC31-MM_dcppA-hindcast_s1961-r9i1p1f2_gn_197201-197203.nc\n",
      "BCC\n",
      "badc\n",
      "File exists for rsds_Amon_BCC-CSM2-MR_dcppA-hindcast_s1961-r1i1p1f1_gn_196101-197012.nc\n",
      "BCC\n",
      "badc\n",
      "File exists for rsds_Amon_BCC-CSM2-MR_dcppA-hindcast_s1961-r8i1p1f1_gn_196101-197012.nc\n",
      "BCC\n",
      "badc\n",
      "File exists for rsds_Amon_BCC-CSM2-MR_dcppA-hindcast_s1961-r4i1p1f1_gn_196101-197012.nc\n",
      "BCC\n",
      "badc\n",
      "File exists for rsds_Amon_BCC-CSM2-MR_dcppA-hindcast_s1961-r7i1p1f1_gn_196101-197012.nc\n",
      "BCC\n",
      "badc\n",
      "File exists for rsds_Amon_BCC-CSM2-MR_dcppA-hindcast_s1961-r5i1p1f1_gn_196101-197012.nc\n",
      "BCC\n",
      "badc\n",
      "File exists for rsds_Amon_BCC-CSM2-MR_dcppA-hindcast_s1961-r3i1p1f1_gn_196101-197012.nc\n",
      "BCC\n",
      "badc\n",
      "File exists for rsds_Amon_BCC-CSM2-MR_dcppA-hindcast_s1961-r6i1p1f1_gn_196101-197012.nc\n",
      "BCC\n",
      "badc\n",
      "File exists for rsds_Amon_BCC-CSM2-MR_dcppA-hindcast_s1961-r2i1p1f1_gn_196101-197012.nc\n",
      "NCC\n",
      "badc\n",
      "File exists for rsds_Amon_NorCPM1_dcppA-hindcast_s1961-r6i1p1f1_gn_196110-197112.nc\n",
      "NCC\n",
      "badc\n",
      "File exists for rsds_Amon_NorCPM1_dcppA-hindcast_s1961-r6i2p1f1_gn_196110-197112.nc\n",
      "NCC\n",
      "badc\n",
      "File exists for rsds_Amon_NorCPM1_dcppA-hindcast_s1961-r1i2p1f1_gn_196110-197112.nc\n",
      "NCC\n",
      "badc\n",
      "File exists for rsds_Amon_NorCPM1_dcppA-hindcast_s1961-r2i1p1f1_gn_196110-197112.nc\n",
      "NCC\n",
      "badc\n",
      "File exists for rsds_Amon_NorCPM1_dcppA-hindcast_s1961-r8i2p1f1_gn_196110-197112.nc\n",
      "NCC\n",
      "badc\n",
      "File exists for rsds_Amon_NorCPM1_dcppA-hindcast_s1961-r7i1p1f1_gn_196110-197112.nc\n",
      "NCC\n",
      "badc\n",
      "File exists for rsds_Amon_NorCPM1_dcppA-hindcast_s1961-r5i2p1f1_gn_196110-197112.nc\n",
      "NCC\n",
      "badc\n",
      "File exists for rsds_Amon_NorCPM1_dcppA-hindcast_s1961-r1i1p1f1_gn_196110-197112.nc\n",
      "NCC\n",
      "badc\n",
      "File exists for rsds_Amon_NorCPM1_dcppA-hindcast_s1961-r10i1p1f1_gn_196110-197112.nc\n",
      "NCC\n",
      "badc\n",
      "File exists for rsds_Amon_NorCPM1_dcppA-hindcast_s1961-r7i2p1f1_gn_196110-197112.nc\n",
      "NCC\n",
      "badc\n",
      "File exists for rsds_Amon_NorCPM1_dcppA-hindcast_s1961-r8i1p1f1_gn_196110-197112.nc\n",
      "NCC\n",
      "badc\n",
      "File exists for rsds_Amon_NorCPM1_dcppA-hindcast_s1961-r9i1p1f1_gn_196110-197112.nc\n",
      "NCC\n",
      "badc\n",
      "File exists for rsds_Amon_NorCPM1_dcppA-hindcast_s1961-r9i2p1f1_gn_196110-197112.nc\n",
      "NCC\n",
      "badc\n",
      "File exists for rsds_Amon_NorCPM1_dcppA-hindcast_s1961-r3i1p1f1_gn_196110-197112.nc\n",
      "NCC\n",
      "badc\n",
      "File exists for rsds_Amon_NorCPM1_dcppA-hindcast_s1961-r3i2p1f1_gn_196110-197112.nc\n",
      "NCC\n",
      "badc\n",
      "File exists for rsds_Amon_NorCPM1_dcppA-hindcast_s1961-r10i2p1f1_gn_196110-197112.nc\n",
      "NCC\n",
      "badc\n",
      "File exists for rsds_Amon_NorCPM1_dcppA-hindcast_s1961-r4i2p1f1_gn_196110-197112.nc\n",
      "NCC\n",
      "badc\n",
      "File exists for rsds_Amon_NorCPM1_dcppA-hindcast_s1961-r5i1p1f1_gn_196110-197112.nc\n",
      "NCC\n",
      "badc\n",
      "File exists for rsds_Amon_NorCPM1_dcppA-hindcast_s1961-r2i2p1f1_gn_196110-197112.nc\n",
      "NCC\n",
      "badc\n",
      "File exists for rsds_Amon_NorCPM1_dcppA-hindcast_s1961-r4i1p1f1_gn_196110-197112.nc\n"
     ]
    },
    {
     "data": {
      "text/html": [
       "<div>\n",
       "<style scoped>\n",
       "    .dataframe tbody tr th:only-of-type {\n",
       "        vertical-align: middle;\n",
       "    }\n",
       "\n",
       "    .dataframe tbody tr th {\n",
       "        vertical-align: top;\n",
       "    }\n",
       "\n",
       "    .dataframe thead th {\n",
       "        text-align: right;\n",
       "    }\n",
       "</style>\n",
       "<table border=\"1\" class=\"dataframe\">\n",
       "  <thead>\n",
       "    <tr style=\"text-align: right;\">\n",
       "      <th></th>\n",
       "      <th>filename</th>\n",
       "      <th>url</th>\n",
       "      <th>file_exists</th>\n",
       "      <th>filepath</th>\n",
       "    </tr>\n",
       "  </thead>\n",
       "  <tbody>\n",
       "    <tr>\n",
       "      <th>0</th>\n",
       "      <td>rsds_Amon_HadGEM3-GC31-MM_dcppA-hindcast_s1961...</td>\n",
       "      <td>https://esgf.ceda.ac.uk/thredds/fileServer/esg...</td>\n",
       "      <td>True</td>\n",
       "      <td>/badc/cmip6/data/CMIP6/DCPP/MOHC/HadGEM3-GC31-...</td>\n",
       "    </tr>\n",
       "    <tr>\n",
       "      <th>1</th>\n",
       "      <td>rsds_Amon_HadGEM3-GC31-MM_dcppA-hindcast_s1961...</td>\n",
       "      <td>https://esgf.ceda.ac.uk/thredds/fileServer/esg...</td>\n",
       "      <td>True</td>\n",
       "      <td>/badc/cmip6/data/CMIP6/DCPP/MOHC/HadGEM3-GC31-...</td>\n",
       "    </tr>\n",
       "    <tr>\n",
       "      <th>2</th>\n",
       "      <td>rsds_Amon_HadGEM3-GC31-MM_dcppA-hindcast_s1961...</td>\n",
       "      <td>https://esgf.ceda.ac.uk/thredds/fileServer/esg...</td>\n",
       "      <td>True</td>\n",
       "      <td>/badc/cmip6/data/CMIP6/DCPP/MOHC/HadGEM3-GC31-...</td>\n",
       "    </tr>\n",
       "    <tr>\n",
       "      <th>3</th>\n",
       "      <td>rsds_Amon_HadGEM3-GC31-MM_dcppA-hindcast_s1961...</td>\n",
       "      <td>https://esgf.ceda.ac.uk/thredds/fileServer/esg...</td>\n",
       "      <td>True</td>\n",
       "      <td>/badc/cmip6/data/CMIP6/DCPP/MOHC/HadGEM3-GC31-...</td>\n",
       "    </tr>\n",
       "    <tr>\n",
       "      <th>4</th>\n",
       "      <td>rsds_Amon_HadGEM3-GC31-MM_dcppA-hindcast_s1961...</td>\n",
       "      <td>https://esgf.ceda.ac.uk/thredds/fileServer/esg...</td>\n",
       "      <td>True</td>\n",
       "      <td>/badc/cmip6/data/CMIP6/DCPP/MOHC/HadGEM3-GC31-...</td>\n",
       "    </tr>\n",
       "    <tr>\n",
       "      <th>...</th>\n",
       "      <td>...</td>\n",
       "      <td>...</td>\n",
       "      <td>...</td>\n",
       "      <td>...</td>\n",
       "    </tr>\n",
       "    <tr>\n",
       "      <th>143</th>\n",
       "      <td>rsds_Amon_NorCPM1_dcppA-hindcast_s1961-r10i2p1...</td>\n",
       "      <td>http://noresg.nird.sigma2.no/thredds/fileServe...</td>\n",
       "      <td>True</td>\n",
       "      <td>/badc/cmip6/data/CMIP6/DCPP/NCC/NorCPM1/dcppA-...</td>\n",
       "    </tr>\n",
       "    <tr>\n",
       "      <th>144</th>\n",
       "      <td>rsds_Amon_NorCPM1_dcppA-hindcast_s1961-r4i2p1f...</td>\n",
       "      <td>http://noresg.nird.sigma2.no/thredds/fileServe...</td>\n",
       "      <td>True</td>\n",
       "      <td>/badc/cmip6/data/CMIP6/DCPP/NCC/NorCPM1/dcppA-...</td>\n",
       "    </tr>\n",
       "    <tr>\n",
       "      <th>145</th>\n",
       "      <td>rsds_Amon_NorCPM1_dcppA-hindcast_s1961-r5i1p1f...</td>\n",
       "      <td>http://noresg.nird.sigma2.no/thredds/fileServe...</td>\n",
       "      <td>True</td>\n",
       "      <td>/badc/cmip6/data/CMIP6/DCPP/NCC/NorCPM1/dcppA-...</td>\n",
       "    </tr>\n",
       "    <tr>\n",
       "      <th>146</th>\n",
       "      <td>rsds_Amon_NorCPM1_dcppA-hindcast_s1961-r2i2p1f...</td>\n",
       "      <td>http://noresg.nird.sigma2.no/thredds/fileServe...</td>\n",
       "      <td>True</td>\n",
       "      <td>/badc/cmip6/data/CMIP6/DCPP/NCC/NorCPM1/dcppA-...</td>\n",
       "    </tr>\n",
       "    <tr>\n",
       "      <th>147</th>\n",
       "      <td>rsds_Amon_NorCPM1_dcppA-hindcast_s1961-r4i1p1f...</td>\n",
       "      <td>http://noresg.nird.sigma2.no/thredds/fileServe...</td>\n",
       "      <td>True</td>\n",
       "      <td>/badc/cmip6/data/CMIP6/DCPP/NCC/NorCPM1/dcppA-...</td>\n",
       "    </tr>\n",
       "  </tbody>\n",
       "</table>\n",
       "<p>148 rows × 4 columns</p>\n",
       "</div>"
      ],
      "text/plain": [
       "                                              filename  \\\n",
       "0    rsds_Amon_HadGEM3-GC31-MM_dcppA-hindcast_s1961...   \n",
       "1    rsds_Amon_HadGEM3-GC31-MM_dcppA-hindcast_s1961...   \n",
       "2    rsds_Amon_HadGEM3-GC31-MM_dcppA-hindcast_s1961...   \n",
       "3    rsds_Amon_HadGEM3-GC31-MM_dcppA-hindcast_s1961...   \n",
       "4    rsds_Amon_HadGEM3-GC31-MM_dcppA-hindcast_s1961...   \n",
       "..                                                 ...   \n",
       "143  rsds_Amon_NorCPM1_dcppA-hindcast_s1961-r10i2p1...   \n",
       "144  rsds_Amon_NorCPM1_dcppA-hindcast_s1961-r4i2p1f...   \n",
       "145  rsds_Amon_NorCPM1_dcppA-hindcast_s1961-r5i1p1f...   \n",
       "146  rsds_Amon_NorCPM1_dcppA-hindcast_s1961-r2i2p1f...   \n",
       "147  rsds_Amon_NorCPM1_dcppA-hindcast_s1961-r4i1p1f...   \n",
       "\n",
       "                                                   url  file_exists  \\\n",
       "0    https://esgf.ceda.ac.uk/thredds/fileServer/esg...         True   \n",
       "1    https://esgf.ceda.ac.uk/thredds/fileServer/esg...         True   \n",
       "2    https://esgf.ceda.ac.uk/thredds/fileServer/esg...         True   \n",
       "3    https://esgf.ceda.ac.uk/thredds/fileServer/esg...         True   \n",
       "4    https://esgf.ceda.ac.uk/thredds/fileServer/esg...         True   \n",
       "..                                                 ...          ...   \n",
       "143  http://noresg.nird.sigma2.no/thredds/fileServe...         True   \n",
       "144  http://noresg.nird.sigma2.no/thredds/fileServe...         True   \n",
       "145  http://noresg.nird.sigma2.no/thredds/fileServe...         True   \n",
       "146  http://noresg.nird.sigma2.no/thredds/fileServe...         True   \n",
       "147  http://noresg.nird.sigma2.no/thredds/fileServe...         True   \n",
       "\n",
       "                                              filepath  \n",
       "0    /badc/cmip6/data/CMIP6/DCPP/MOHC/HadGEM3-GC31-...  \n",
       "1    /badc/cmip6/data/CMIP6/DCPP/MOHC/HadGEM3-GC31-...  \n",
       "2    /badc/cmip6/data/CMIP6/DCPP/MOHC/HadGEM3-GC31-...  \n",
       "3    /badc/cmip6/data/CMIP6/DCPP/MOHC/HadGEM3-GC31-...  \n",
       "4    /badc/cmip6/data/CMIP6/DCPP/MOHC/HadGEM3-GC31-...  \n",
       "..                                                 ...  \n",
       "143  /badc/cmip6/data/CMIP6/DCPP/NCC/NorCPM1/dcppA-...  \n",
       "144  /badc/cmip6/data/CMIP6/DCPP/NCC/NorCPM1/dcppA-...  \n",
       "145  /badc/cmip6/data/CMIP6/DCPP/NCC/NorCPM1/dcppA-...  \n",
       "146  /badc/cmip6/data/CMIP6/DCPP/NCC/NorCPM1/dcppA-...  \n",
       "147  /badc/cmip6/data/CMIP6/DCPP/NCC/NorCPM1/dcppA-...  \n",
       "\n",
       "[148 rows x 4 columns]"
      ]
     },
     "execution_count": 41,
     "metadata": {},
     "output_type": "execute_result"
    }
   ],
   "source": [
    "# Check whether the files exist on JASMIN\n",
    "import glob\n",
    "\n",
    "# Set up the file_context_df\n",
    "file_context_df = df.copy()\n",
    "\n",
    "# We want to verify whether these files exist on JASMIN\n",
    "damip_dir = \"/badc/cmip6/data/CMIP6/DCPP/\"\n",
    "\n",
    "# Test the function\n",
    "# TODO\n",
    "files_df = check_file_exists_jasmin(file_context_df, damip_dir)\n",
    "\n",
    "files_df"
   ]
  },
  {
   "cell_type": "code",
   "execution_count": 42,
   "metadata": {},
   "outputs": [
    {
     "name": "stdout",
     "output_type": "stream",
     "text": [
      "MOHC\n",
      "gws\n",
      "File does not exist for rsds_Amon_HadGEM3-GC31-MM_dcppA-hindcast_s1961-r10i1p1f2_gn_196111-196112.nc\n",
      "MOHC\n",
      "gws\n",
      "File does not exist for rsds_Amon_HadGEM3-GC31-MM_dcppA-hindcast_s1961-r10i1p1f2_gn_196201-196212.nc\n",
      "MOHC\n",
      "gws\n",
      "File does not exist for rsds_Amon_HadGEM3-GC31-MM_dcppA-hindcast_s1961-r10i1p1f2_gn_196301-196312.nc\n",
      "MOHC\n",
      "gws\n",
      "File does not exist for rsds_Amon_HadGEM3-GC31-MM_dcppA-hindcast_s1961-r10i1p1f2_gn_196401-196412.nc\n",
      "MOHC\n",
      "gws\n",
      "File does not exist for rsds_Amon_HadGEM3-GC31-MM_dcppA-hindcast_s1961-r10i1p1f2_gn_196501-196512.nc\n",
      "MOHC\n",
      "gws\n",
      "File does not exist for rsds_Amon_HadGEM3-GC31-MM_dcppA-hindcast_s1961-r10i1p1f2_gn_196601-196612.nc\n",
      "MOHC\n",
      "gws\n",
      "File does not exist for rsds_Amon_HadGEM3-GC31-MM_dcppA-hindcast_s1961-r10i1p1f2_gn_196701-196712.nc\n",
      "MOHC\n",
      "gws\n",
      "File does not exist for rsds_Amon_HadGEM3-GC31-MM_dcppA-hindcast_s1961-r10i1p1f2_gn_196801-196812.nc\n",
      "MOHC\n",
      "gws\n",
      "File does not exist for rsds_Amon_HadGEM3-GC31-MM_dcppA-hindcast_s1961-r10i1p1f2_gn_196901-196912.nc\n",
      "MOHC\n",
      "gws\n",
      "File does not exist for rsds_Amon_HadGEM3-GC31-MM_dcppA-hindcast_s1961-r10i1p1f2_gn_197001-197012.nc\n",
      "MOHC\n",
      "gws\n",
      "File does not exist for rsds_Amon_HadGEM3-GC31-MM_dcppA-hindcast_s1961-r10i1p1f2_gn_197101-197112.nc\n",
      "MOHC\n",
      "gws\n",
      "File does not exist for rsds_Amon_HadGEM3-GC31-MM_dcppA-hindcast_s1961-r10i1p1f2_gn_197201-197203.nc\n",
      "MOHC\n",
      "gws\n",
      "File does not exist for rsds_Amon_HadGEM3-GC31-MM_dcppA-hindcast_s1961-r1i1p1f2_gn_196111-196112.nc\n",
      "MOHC\n",
      "gws\n",
      "File does not exist for rsds_Amon_HadGEM3-GC31-MM_dcppA-hindcast_s1961-r1i1p1f2_gn_196201-196212.nc\n",
      "MOHC\n",
      "gws\n",
      "File does not exist for rsds_Amon_HadGEM3-GC31-MM_dcppA-hindcast_s1961-r1i1p1f2_gn_196301-196312.nc\n",
      "MOHC\n",
      "gws\n",
      "File does not exist for rsds_Amon_HadGEM3-GC31-MM_dcppA-hindcast_s1961-r1i1p1f2_gn_196401-196412.nc\n",
      "MOHC\n",
      "gws\n",
      "File does not exist for rsds_Amon_HadGEM3-GC31-MM_dcppA-hindcast_s1961-r1i1p1f2_gn_196501-196512.nc\n",
      "MOHC\n",
      "gws\n",
      "File does not exist for rsds_Amon_HadGEM3-GC31-MM_dcppA-hindcast_s1961-r1i1p1f2_gn_196601-196612.nc\n",
      "MOHC\n",
      "gws\n",
      "File does not exist for rsds_Amon_HadGEM3-GC31-MM_dcppA-hindcast_s1961-r1i1p1f2_gn_196701-196712.nc\n",
      "MOHC\n",
      "gws\n",
      "File does not exist for rsds_Amon_HadGEM3-GC31-MM_dcppA-hindcast_s1961-r1i1p1f2_gn_196801-196812.nc\n",
      "MOHC\n",
      "gws\n",
      "File does not exist for rsds_Amon_HadGEM3-GC31-MM_dcppA-hindcast_s1961-r1i1p1f2_gn_196901-196912.nc\n",
      "MOHC\n",
      "gws\n",
      "File does not exist for rsds_Amon_HadGEM3-GC31-MM_dcppA-hindcast_s1961-r1i1p1f2_gn_197001-197012.nc\n",
      "MOHC\n",
      "gws\n",
      "File does not exist for rsds_Amon_HadGEM3-GC31-MM_dcppA-hindcast_s1961-r1i1p1f2_gn_197101-197112.nc\n",
      "MOHC\n",
      "gws\n",
      "File does not exist for rsds_Amon_HadGEM3-GC31-MM_dcppA-hindcast_s1961-r1i1p1f2_gn_197201-197203.nc\n",
      "MOHC\n",
      "gws\n",
      "File does not exist for rsds_Amon_HadGEM3-GC31-MM_dcppA-hindcast_s1961-r2i1p1f2_gn_196111-196112.nc\n",
      "MOHC\n",
      "gws\n",
      "File does not exist for rsds_Amon_HadGEM3-GC31-MM_dcppA-hindcast_s1961-r2i1p1f2_gn_196201-196212.nc\n",
      "MOHC\n",
      "gws\n",
      "File does not exist for rsds_Amon_HadGEM3-GC31-MM_dcppA-hindcast_s1961-r2i1p1f2_gn_196301-196312.nc\n",
      "MOHC\n",
      "gws\n",
      "File does not exist for rsds_Amon_HadGEM3-GC31-MM_dcppA-hindcast_s1961-r2i1p1f2_gn_196401-196412.nc\n",
      "MOHC\n",
      "gws\n",
      "File does not exist for rsds_Amon_HadGEM3-GC31-MM_dcppA-hindcast_s1961-r2i1p1f2_gn_196501-196512.nc\n",
      "MOHC\n",
      "gws\n",
      "File does not exist for rsds_Amon_HadGEM3-GC31-MM_dcppA-hindcast_s1961-r2i1p1f2_gn_196601-196612.nc\n",
      "MOHC\n",
      "gws\n",
      "File does not exist for rsds_Amon_HadGEM3-GC31-MM_dcppA-hindcast_s1961-r2i1p1f2_gn_196701-196712.nc\n",
      "MOHC\n",
      "gws\n",
      "File does not exist for rsds_Amon_HadGEM3-GC31-MM_dcppA-hindcast_s1961-r2i1p1f2_gn_196801-196812.nc\n",
      "MOHC\n",
      "gws\n",
      "File does not exist for rsds_Amon_HadGEM3-GC31-MM_dcppA-hindcast_s1961-r2i1p1f2_gn_196901-196912.nc\n",
      "MOHC\n",
      "gws\n",
      "File does not exist for rsds_Amon_HadGEM3-GC31-MM_dcppA-hindcast_s1961-r2i1p1f2_gn_197001-197012.nc\n",
      "MOHC\n",
      "gws\n",
      "File does not exist for rsds_Amon_HadGEM3-GC31-MM_dcppA-hindcast_s1961-r2i1p1f2_gn_197101-197112.nc\n",
      "MOHC\n",
      "gws\n",
      "File does not exist for rsds_Amon_HadGEM3-GC31-MM_dcppA-hindcast_s1961-r2i1p1f2_gn_197201-197203.nc\n",
      "MOHC\n",
      "gws\n",
      "File does not exist for rsds_Amon_HadGEM3-GC31-MM_dcppA-hindcast_s1961-r3i1p1f2_gn_196111-196112.nc\n",
      "MOHC\n",
      "gws\n",
      "File does not exist for rsds_Amon_HadGEM3-GC31-MM_dcppA-hindcast_s1961-r3i1p1f2_gn_196201-196212.nc\n",
      "MOHC\n",
      "gws\n",
      "File does not exist for rsds_Amon_HadGEM3-GC31-MM_dcppA-hindcast_s1961-r3i1p1f2_gn_196301-196312.nc\n",
      "MOHC\n",
      "gws\n",
      "File does not exist for rsds_Amon_HadGEM3-GC31-MM_dcppA-hindcast_s1961-r3i1p1f2_gn_196401-196412.nc\n",
      "MOHC\n",
      "gws\n",
      "File does not exist for rsds_Amon_HadGEM3-GC31-MM_dcppA-hindcast_s1961-r3i1p1f2_gn_196501-196512.nc\n",
      "MOHC\n",
      "gws\n",
      "File does not exist for rsds_Amon_HadGEM3-GC31-MM_dcppA-hindcast_s1961-r3i1p1f2_gn_196601-196612.nc\n",
      "MOHC\n",
      "gws\n",
      "File does not exist for rsds_Amon_HadGEM3-GC31-MM_dcppA-hindcast_s1961-r3i1p1f2_gn_196701-196712.nc\n",
      "MOHC\n",
      "gws\n",
      "File does not exist for rsds_Amon_HadGEM3-GC31-MM_dcppA-hindcast_s1961-r3i1p1f2_gn_196801-196812.nc\n",
      "MOHC\n",
      "gws\n",
      "File does not exist for rsds_Amon_HadGEM3-GC31-MM_dcppA-hindcast_s1961-r3i1p1f2_gn_196901-196912.nc\n",
      "MOHC\n",
      "gws\n",
      "File does not exist for rsds_Amon_HadGEM3-GC31-MM_dcppA-hindcast_s1961-r3i1p1f2_gn_197001-197012.nc\n",
      "MOHC\n",
      "gws\n",
      "File does not exist for rsds_Amon_HadGEM3-GC31-MM_dcppA-hindcast_s1961-r3i1p1f2_gn_197101-197112.nc\n",
      "MOHC\n",
      "gws\n",
      "File does not exist for rsds_Amon_HadGEM3-GC31-MM_dcppA-hindcast_s1961-r3i1p1f2_gn_197201-197203.nc\n",
      "MOHC\n",
      "gws\n",
      "File does not exist for rsds_Amon_HadGEM3-GC31-MM_dcppA-hindcast_s1961-r4i1p1f2_gn_196111-196112.nc\n",
      "MOHC\n",
      "gws\n",
      "File does not exist for rsds_Amon_HadGEM3-GC31-MM_dcppA-hindcast_s1961-r4i1p1f2_gn_196201-196212.nc\n",
      "MOHC\n",
      "gws\n",
      "File does not exist for rsds_Amon_HadGEM3-GC31-MM_dcppA-hindcast_s1961-r4i1p1f2_gn_196301-196312.nc\n",
      "MOHC\n",
      "gws\n",
      "File does not exist for rsds_Amon_HadGEM3-GC31-MM_dcppA-hindcast_s1961-r4i1p1f2_gn_196401-196412.nc\n",
      "MOHC\n",
      "gws\n",
      "File does not exist for rsds_Amon_HadGEM3-GC31-MM_dcppA-hindcast_s1961-r4i1p1f2_gn_196501-196512.nc\n",
      "MOHC\n",
      "gws\n",
      "File does not exist for rsds_Amon_HadGEM3-GC31-MM_dcppA-hindcast_s1961-r4i1p1f2_gn_196601-196612.nc\n",
      "MOHC\n",
      "gws\n",
      "File does not exist for rsds_Amon_HadGEM3-GC31-MM_dcppA-hindcast_s1961-r4i1p1f2_gn_196701-196712.nc\n",
      "MOHC\n",
      "gws\n",
      "File does not exist for rsds_Amon_HadGEM3-GC31-MM_dcppA-hindcast_s1961-r4i1p1f2_gn_196801-196812.nc\n",
      "MOHC\n",
      "gws\n",
      "File does not exist for rsds_Amon_HadGEM3-GC31-MM_dcppA-hindcast_s1961-r4i1p1f2_gn_196901-196912.nc\n",
      "MOHC\n",
      "gws\n",
      "File does not exist for rsds_Amon_HadGEM3-GC31-MM_dcppA-hindcast_s1961-r4i1p1f2_gn_197001-197012.nc\n",
      "MOHC\n",
      "gws\n",
      "File does not exist for rsds_Amon_HadGEM3-GC31-MM_dcppA-hindcast_s1961-r4i1p1f2_gn_197101-197112.nc\n",
      "MOHC\n",
      "gws\n",
      "File does not exist for rsds_Amon_HadGEM3-GC31-MM_dcppA-hindcast_s1961-r4i1p1f2_gn_197201-197203.nc\n",
      "MOHC\n",
      "gws\n",
      "File does not exist for rsds_Amon_HadGEM3-GC31-MM_dcppA-hindcast_s1961-r5i1p1f2_gn_196111-196112.nc\n",
      "MOHC\n",
      "gws\n",
      "File does not exist for rsds_Amon_HadGEM3-GC31-MM_dcppA-hindcast_s1961-r5i1p1f2_gn_196201-196212.nc\n",
      "MOHC\n",
      "gws\n",
      "File does not exist for rsds_Amon_HadGEM3-GC31-MM_dcppA-hindcast_s1961-r5i1p1f2_gn_196301-196312.nc\n",
      "MOHC\n",
      "gws\n",
      "File does not exist for rsds_Amon_HadGEM3-GC31-MM_dcppA-hindcast_s1961-r5i1p1f2_gn_196401-196412.nc\n",
      "MOHC\n",
      "gws\n",
      "File does not exist for rsds_Amon_HadGEM3-GC31-MM_dcppA-hindcast_s1961-r5i1p1f2_gn_196501-196512.nc\n",
      "MOHC\n",
      "gws\n",
      "File does not exist for rsds_Amon_HadGEM3-GC31-MM_dcppA-hindcast_s1961-r5i1p1f2_gn_196601-196612.nc\n",
      "MOHC\n",
      "gws\n",
      "File does not exist for rsds_Amon_HadGEM3-GC31-MM_dcppA-hindcast_s1961-r5i1p1f2_gn_196701-196712.nc\n",
      "MOHC\n",
      "gws\n",
      "File does not exist for rsds_Amon_HadGEM3-GC31-MM_dcppA-hindcast_s1961-r5i1p1f2_gn_196801-196812.nc\n",
      "MOHC\n",
      "gws\n",
      "File does not exist for rsds_Amon_HadGEM3-GC31-MM_dcppA-hindcast_s1961-r5i1p1f2_gn_196901-196912.nc\n",
      "MOHC\n",
      "gws\n",
      "File does not exist for rsds_Amon_HadGEM3-GC31-MM_dcppA-hindcast_s1961-r5i1p1f2_gn_197001-197012.nc\n",
      "MOHC\n",
      "gws\n",
      "File does not exist for rsds_Amon_HadGEM3-GC31-MM_dcppA-hindcast_s1961-r5i1p1f2_gn_197101-197112.nc\n",
      "MOHC\n",
      "gws\n",
      "File does not exist for rsds_Amon_HadGEM3-GC31-MM_dcppA-hindcast_s1961-r5i1p1f2_gn_197201-197203.nc\n",
      "MOHC\n",
      "gws\n",
      "File does not exist for rsds_Amon_HadGEM3-GC31-MM_dcppA-hindcast_s1961-r6i1p1f2_gn_196111-196112.nc\n",
      "MOHC\n",
      "gws\n",
      "File does not exist for rsds_Amon_HadGEM3-GC31-MM_dcppA-hindcast_s1961-r6i1p1f2_gn_196201-196212.nc\n",
      "MOHC\n",
      "gws\n",
      "File does not exist for rsds_Amon_HadGEM3-GC31-MM_dcppA-hindcast_s1961-r6i1p1f2_gn_196301-196312.nc\n",
      "MOHC\n",
      "gws\n",
      "File does not exist for rsds_Amon_HadGEM3-GC31-MM_dcppA-hindcast_s1961-r6i1p1f2_gn_196401-196412.nc\n",
      "MOHC\n",
      "gws\n",
      "File does not exist for rsds_Amon_HadGEM3-GC31-MM_dcppA-hindcast_s1961-r6i1p1f2_gn_196501-196512.nc\n",
      "MOHC\n",
      "gws\n",
      "File does not exist for rsds_Amon_HadGEM3-GC31-MM_dcppA-hindcast_s1961-r6i1p1f2_gn_196601-196612.nc\n",
      "MOHC\n",
      "gws\n",
      "File does not exist for rsds_Amon_HadGEM3-GC31-MM_dcppA-hindcast_s1961-r6i1p1f2_gn_196701-196712.nc\n",
      "MOHC\n",
      "gws\n",
      "File does not exist for rsds_Amon_HadGEM3-GC31-MM_dcppA-hindcast_s1961-r6i1p1f2_gn_196801-196812.nc\n",
      "MOHC\n",
      "gws\n",
      "File does not exist for rsds_Amon_HadGEM3-GC31-MM_dcppA-hindcast_s1961-r6i1p1f2_gn_196901-196912.nc\n",
      "MOHC\n",
      "gws\n",
      "File does not exist for rsds_Amon_HadGEM3-GC31-MM_dcppA-hindcast_s1961-r6i1p1f2_gn_197001-197012.nc\n",
      "MOHC\n",
      "gws\n",
      "File does not exist for rsds_Amon_HadGEM3-GC31-MM_dcppA-hindcast_s1961-r6i1p1f2_gn_197101-197112.nc\n",
      "MOHC\n",
      "gws\n",
      "File does not exist for rsds_Amon_HadGEM3-GC31-MM_dcppA-hindcast_s1961-r6i1p1f2_gn_197201-197203.nc\n",
      "MOHC\n",
      "gws\n",
      "File does not exist for rsds_Amon_HadGEM3-GC31-MM_dcppA-hindcast_s1961-r7i1p1f2_gn_196111-196112.nc\n",
      "MOHC\n",
      "gws\n",
      "File does not exist for rsds_Amon_HadGEM3-GC31-MM_dcppA-hindcast_s1961-r7i1p1f2_gn_196201-196212.nc\n",
      "MOHC\n",
      "gws\n",
      "File does not exist for rsds_Amon_HadGEM3-GC31-MM_dcppA-hindcast_s1961-r7i1p1f2_gn_196301-196312.nc\n",
      "MOHC\n",
      "gws\n",
      "File does not exist for rsds_Amon_HadGEM3-GC31-MM_dcppA-hindcast_s1961-r7i1p1f2_gn_196401-196412.nc\n",
      "MOHC\n",
      "gws\n",
      "File does not exist for rsds_Amon_HadGEM3-GC31-MM_dcppA-hindcast_s1961-r7i1p1f2_gn_196501-196512.nc\n",
      "MOHC\n",
      "gws\n",
      "File does not exist for rsds_Amon_HadGEM3-GC31-MM_dcppA-hindcast_s1961-r7i1p1f2_gn_196601-196612.nc\n",
      "MOHC\n",
      "gws\n",
      "File does not exist for rsds_Amon_HadGEM3-GC31-MM_dcppA-hindcast_s1961-r7i1p1f2_gn_196701-196712.nc\n",
      "MOHC\n",
      "gws\n",
      "File does not exist for rsds_Amon_HadGEM3-GC31-MM_dcppA-hindcast_s1961-r7i1p1f2_gn_196801-196812.nc\n",
      "MOHC\n",
      "gws\n",
      "File does not exist for rsds_Amon_HadGEM3-GC31-MM_dcppA-hindcast_s1961-r7i1p1f2_gn_196901-196912.nc\n",
      "MOHC\n",
      "gws\n",
      "File does not exist for rsds_Amon_HadGEM3-GC31-MM_dcppA-hindcast_s1961-r7i1p1f2_gn_197001-197012.nc\n",
      "MOHC\n",
      "gws\n",
      "File does not exist for rsds_Amon_HadGEM3-GC31-MM_dcppA-hindcast_s1961-r7i1p1f2_gn_197101-197112.nc\n",
      "MOHC\n",
      "gws\n",
      "File does not exist for rsds_Amon_HadGEM3-GC31-MM_dcppA-hindcast_s1961-r7i1p1f2_gn_197201-197203.nc\n",
      "MOHC\n",
      "gws\n",
      "File does not exist for rsds_Amon_HadGEM3-GC31-MM_dcppA-hindcast_s1961-r8i1p1f2_gn_196111-196112.nc\n",
      "MOHC\n",
      "gws\n",
      "File does not exist for rsds_Amon_HadGEM3-GC31-MM_dcppA-hindcast_s1961-r8i1p1f2_gn_196201-196212.nc\n",
      "MOHC\n",
      "gws\n",
      "File does not exist for rsds_Amon_HadGEM3-GC31-MM_dcppA-hindcast_s1961-r8i1p1f2_gn_196301-196312.nc\n",
      "MOHC\n",
      "gws\n",
      "File does not exist for rsds_Amon_HadGEM3-GC31-MM_dcppA-hindcast_s1961-r8i1p1f2_gn_196401-196412.nc\n",
      "MOHC\n",
      "gws\n",
      "File does not exist for rsds_Amon_HadGEM3-GC31-MM_dcppA-hindcast_s1961-r8i1p1f2_gn_196501-196512.nc\n",
      "MOHC\n",
      "gws\n",
      "File does not exist for rsds_Amon_HadGEM3-GC31-MM_dcppA-hindcast_s1961-r8i1p1f2_gn_196601-196612.nc\n",
      "MOHC\n",
      "gws\n",
      "File does not exist for rsds_Amon_HadGEM3-GC31-MM_dcppA-hindcast_s1961-r8i1p1f2_gn_196701-196712.nc\n",
      "MOHC\n",
      "gws\n",
      "File does not exist for rsds_Amon_HadGEM3-GC31-MM_dcppA-hindcast_s1961-r8i1p1f2_gn_196801-196812.nc\n",
      "MOHC\n",
      "gws\n",
      "File does not exist for rsds_Amon_HadGEM3-GC31-MM_dcppA-hindcast_s1961-r8i1p1f2_gn_196901-196912.nc\n",
      "MOHC\n",
      "gws\n",
      "File does not exist for rsds_Amon_HadGEM3-GC31-MM_dcppA-hindcast_s1961-r8i1p1f2_gn_197001-197012.nc\n",
      "MOHC\n",
      "gws\n",
      "File does not exist for rsds_Amon_HadGEM3-GC31-MM_dcppA-hindcast_s1961-r8i1p1f2_gn_197101-197112.nc\n",
      "MOHC\n",
      "gws\n",
      "File does not exist for rsds_Amon_HadGEM3-GC31-MM_dcppA-hindcast_s1961-r8i1p1f2_gn_197201-197203.nc\n",
      "MOHC\n",
      "gws\n",
      "File does not exist for rsds_Amon_HadGEM3-GC31-MM_dcppA-hindcast_s1961-r9i1p1f2_gn_196111-196112.nc\n",
      "MOHC\n",
      "gws\n",
      "File does not exist for rsds_Amon_HadGEM3-GC31-MM_dcppA-hindcast_s1961-r9i1p1f2_gn_196201-196212.nc\n",
      "MOHC\n",
      "gws\n",
      "File does not exist for rsds_Amon_HadGEM3-GC31-MM_dcppA-hindcast_s1961-r9i1p1f2_gn_196301-196312.nc\n",
      "MOHC\n",
      "gws\n",
      "File does not exist for rsds_Amon_HadGEM3-GC31-MM_dcppA-hindcast_s1961-r9i1p1f2_gn_196401-196412.nc\n",
      "MOHC\n",
      "gws\n",
      "File does not exist for rsds_Amon_HadGEM3-GC31-MM_dcppA-hindcast_s1961-r9i1p1f2_gn_196501-196512.nc\n",
      "MOHC\n",
      "gws\n",
      "File does not exist for rsds_Amon_HadGEM3-GC31-MM_dcppA-hindcast_s1961-r9i1p1f2_gn_196601-196612.nc\n",
      "MOHC\n",
      "gws\n",
      "File does not exist for rsds_Amon_HadGEM3-GC31-MM_dcppA-hindcast_s1961-r9i1p1f2_gn_196701-196712.nc\n",
      "MOHC\n",
      "gws\n",
      "File does not exist for rsds_Amon_HadGEM3-GC31-MM_dcppA-hindcast_s1961-r9i1p1f2_gn_196801-196812.nc\n",
      "MOHC\n",
      "gws\n",
      "File does not exist for rsds_Amon_HadGEM3-GC31-MM_dcppA-hindcast_s1961-r9i1p1f2_gn_196901-196912.nc\n",
      "MOHC\n",
      "gws\n",
      "File does not exist for rsds_Amon_HadGEM3-GC31-MM_dcppA-hindcast_s1961-r9i1p1f2_gn_197001-197012.nc\n",
      "MOHC\n",
      "gws\n",
      "File does not exist for rsds_Amon_HadGEM3-GC31-MM_dcppA-hindcast_s1961-r9i1p1f2_gn_197101-197112.nc\n",
      "MOHC\n",
      "gws\n",
      "File does not exist for rsds_Amon_HadGEM3-GC31-MM_dcppA-hindcast_s1961-r9i1p1f2_gn_197201-197203.nc\n",
      "BCC\n",
      "gws\n",
      "File exists for rsds_Amon_BCC-CSM2-MR_dcppA-hindcast_s1961-r1i1p1f1_gn_196101-197012.nc\n",
      "File already exists for rsds_Amon_BCC-CSM2-MR_dcppA-hindcast_s1961-r1i1p1f1_gn_196101-197012.nc\n",
      "BCC\n",
      "gws\n",
      "File exists for rsds_Amon_BCC-CSM2-MR_dcppA-hindcast_s1961-r8i1p1f1_gn_196101-197012.nc\n",
      "File already exists for rsds_Amon_BCC-CSM2-MR_dcppA-hindcast_s1961-r8i1p1f1_gn_196101-197012.nc\n",
      "BCC\n",
      "gws\n",
      "File exists for rsds_Amon_BCC-CSM2-MR_dcppA-hindcast_s1961-r4i1p1f1_gn_196101-197012.nc\n",
      "File already exists for rsds_Amon_BCC-CSM2-MR_dcppA-hindcast_s1961-r4i1p1f1_gn_196101-197012.nc\n",
      "BCC\n",
      "gws\n",
      "File exists for rsds_Amon_BCC-CSM2-MR_dcppA-hindcast_s1961-r7i1p1f1_gn_196101-197012.nc\n",
      "File already exists for rsds_Amon_BCC-CSM2-MR_dcppA-hindcast_s1961-r7i1p1f1_gn_196101-197012.nc\n",
      "BCC\n",
      "gws\n",
      "File exists for rsds_Amon_BCC-CSM2-MR_dcppA-hindcast_s1961-r5i1p1f1_gn_196101-197012.nc\n",
      "File already exists for rsds_Amon_BCC-CSM2-MR_dcppA-hindcast_s1961-r5i1p1f1_gn_196101-197012.nc\n",
      "BCC\n",
      "gws\n",
      "File exists for rsds_Amon_BCC-CSM2-MR_dcppA-hindcast_s1961-r3i1p1f1_gn_196101-197012.nc\n",
      "File already exists for rsds_Amon_BCC-CSM2-MR_dcppA-hindcast_s1961-r3i1p1f1_gn_196101-197012.nc\n",
      "BCC\n",
      "gws\n",
      "File exists for rsds_Amon_BCC-CSM2-MR_dcppA-hindcast_s1961-r6i1p1f1_gn_196101-197012.nc\n",
      "File already exists for rsds_Amon_BCC-CSM2-MR_dcppA-hindcast_s1961-r6i1p1f1_gn_196101-197012.nc\n",
      "BCC\n",
      "gws\n",
      "File exists for rsds_Amon_BCC-CSM2-MR_dcppA-hindcast_s1961-r2i1p1f1_gn_196101-197012.nc\n",
      "File already exists for rsds_Amon_BCC-CSM2-MR_dcppA-hindcast_s1961-r2i1p1f1_gn_196101-197012.nc\n",
      "NCC\n",
      "gws\n",
      "File does not exist for rsds_Amon_NorCPM1_dcppA-hindcast_s1961-r6i1p1f1_gn_196110-197112.nc\n",
      "NCC\n",
      "gws\n",
      "File does not exist for rsds_Amon_NorCPM1_dcppA-hindcast_s1961-r6i2p1f1_gn_196110-197112.nc\n",
      "NCC\n",
      "gws\n",
      "File does not exist for rsds_Amon_NorCPM1_dcppA-hindcast_s1961-r1i2p1f1_gn_196110-197112.nc\n",
      "NCC\n",
      "gws\n",
      "File does not exist for rsds_Amon_NorCPM1_dcppA-hindcast_s1961-r2i1p1f1_gn_196110-197112.nc\n",
      "NCC\n",
      "gws\n",
      "File does not exist for rsds_Amon_NorCPM1_dcppA-hindcast_s1961-r8i2p1f1_gn_196110-197112.nc\n",
      "NCC\n",
      "gws\n",
      "File does not exist for rsds_Amon_NorCPM1_dcppA-hindcast_s1961-r7i1p1f1_gn_196110-197112.nc\n",
      "NCC\n",
      "gws\n",
      "File does not exist for rsds_Amon_NorCPM1_dcppA-hindcast_s1961-r5i2p1f1_gn_196110-197112.nc\n",
      "NCC\n",
      "gws\n",
      "File does not exist for rsds_Amon_NorCPM1_dcppA-hindcast_s1961-r1i1p1f1_gn_196110-197112.nc\n",
      "NCC\n",
      "gws\n",
      "File does not exist for rsds_Amon_NorCPM1_dcppA-hindcast_s1961-r10i1p1f1_gn_196110-197112.nc\n",
      "NCC\n",
      "gws\n",
      "File does not exist for rsds_Amon_NorCPM1_dcppA-hindcast_s1961-r7i2p1f1_gn_196110-197112.nc\n",
      "NCC\n",
      "gws\n",
      "File does not exist for rsds_Amon_NorCPM1_dcppA-hindcast_s1961-r8i1p1f1_gn_196110-197112.nc\n",
      "NCC\n",
      "gws\n",
      "File does not exist for rsds_Amon_NorCPM1_dcppA-hindcast_s1961-r9i1p1f1_gn_196110-197112.nc\n",
      "NCC\n",
      "gws\n",
      "File does not exist for rsds_Amon_NorCPM1_dcppA-hindcast_s1961-r9i2p1f1_gn_196110-197112.nc\n",
      "NCC\n",
      "gws\n",
      "File does not exist for rsds_Amon_NorCPM1_dcppA-hindcast_s1961-r3i1p1f1_gn_196110-197112.nc\n",
      "NCC\n",
      "gws\n",
      "File does not exist for rsds_Amon_NorCPM1_dcppA-hindcast_s1961-r3i2p1f1_gn_196110-197112.nc\n",
      "NCC\n",
      "gws\n",
      "File does not exist for rsds_Amon_NorCPM1_dcppA-hindcast_s1961-r10i2p1f1_gn_196110-197112.nc\n",
      "NCC\n",
      "gws\n",
      "File does not exist for rsds_Amon_NorCPM1_dcppA-hindcast_s1961-r4i2p1f1_gn_196110-197112.nc\n",
      "NCC\n",
      "gws\n",
      "File does not exist for rsds_Amon_NorCPM1_dcppA-hindcast_s1961-r5i1p1f1_gn_196110-197112.nc\n",
      "NCC\n",
      "gws\n",
      "File does not exist for rsds_Amon_NorCPM1_dcppA-hindcast_s1961-r2i2p1f1_gn_196110-197112.nc\n",
      "NCC\n",
      "gws\n",
      "File does not exist for rsds_Amon_NorCPM1_dcppA-hindcast_s1961-r4i1p1f1_gn_196110-197112.nc\n"
     ]
    }
   ],
   "source": [
    "# We only want to download the files which don't already exist on JASMIN\n",
    "dcpp_dir_gws = \"/gws/nopw/j04/canari/users/benhutch/\"\n",
    "\n",
    "\n",
    "# Now we want to check whether the files exist on JASMIN\n",
    "files_df = check_file_exists_jasmin(files_df, dcpp_dir_gws)"
   ]
  },
  {
   "cell_type": "code",
   "execution_count": 23,
   "metadata": {},
   "outputs": [
    {
     "name": "stderr",
     "output_type": "stream",
     "text": [
      "  0%|          | 0/266 [00:00<?, ?it/s]"
     ]
    },
    {
     "name": "stderr",
     "output_type": "stream",
     "text": [
      "145kKiB [00:16, 8.91kKiB/s]                         \n"
     ]
    },
    {
     "name": "stdout",
     "output_type": "stream",
     "text": [
      "File is not empty\n",
      "Download complete - file saved to /gws/nopw/j04/scenario/users/benhutch/hist-GHG/tas/CNRM-CM6-1/tas_Amon_CNRM-CM6-1_hist-GHG_r3i1p1f2_gr_185001-202012.nc\n"
     ]
    },
    {
     "name": "stderr",
     "output_type": "stream",
     "text": [
      "228kKiB [01:26, 2.62kKiB/s]                       \n",
      "  1%|          | 2/266 [01:48<4:25:58, 60.45s/it]"
     ]
    },
    {
     "name": "stdout",
     "output_type": "stream",
     "text": [
      "File is not empty\n",
      "Download complete - file saved to /gws/nopw/j04/scenario/users/benhutch/hist-GHG/tas/MRI-ESM2-0/tas_Amon_MRI-ESM2-0_hist-GHG_r4i1p1f1_gn_185001-202012.nc\n"
     ]
    },
    {
     "name": "stderr",
     "output_type": "stream",
     "text": [
      "53.1kKiB [00:07, 7.56kKiB/s]                          \n",
      "  1%|          | 3/266 [01:58<2:43:40, 37.34s/it]"
     ]
    },
    {
     "name": "stdout",
     "output_type": "stream",
     "text": [
      "File is not empty\n",
      "Download complete - file saved to /gws/nopw/j04/scenario/users/benhutch/hist-GHG/tas/CanESM5/tas_Amon_CanESM5_hist-GHG_r10i1p2f1_gn_185001-202012.nc\n"
     ]
    },
    {
     "name": "stderr",
     "output_type": "stream",
     "text": [
      "53.1kKiB [00:07, 7.16kKiB/s]                          \n"
     ]
    },
    {
     "name": "stdout",
     "output_type": "stream",
     "text": [
      "File is not empty\n",
      "Download complete - file saved to /gws/nopw/j04/scenario/users/benhutch/hist-GHG/tas/CanESM5/tas_Amon_CanESM5_hist-GHG_r11i1p2f1_gn_185001-202012.nc\n"
     ]
    },
    {
     "name": "stderr",
     "output_type": "stream",
     "text": [
      "53.1kKiB [00:02, 26.1kKiB/s]                          \n",
      "  2%|▏         | 5/266 [02:16<1:23:51, 19.28s/it]"
     ]
    },
    {
     "name": "stdout",
     "output_type": "stream",
     "text": [
      "File is not empty\n",
      "Download complete - file saved to /gws/nopw/j04/scenario/users/benhutch/hist-GHG/tas/CanESM5/tas_Amon_CanESM5_hist-GHG_r12i1p1f1_gn_185001-202012.nc\n"
     ]
    },
    {
     "name": "stderr",
     "output_type": "stream",
     "text": [
      "53.1kKiB [00:02, 26.4kKiB/s]                          \n",
      "  2%|▏         | 6/266 [02:19<59:19, 13.69s/it]  "
     ]
    },
    {
     "name": "stdout",
     "output_type": "stream",
     "text": [
      "File is not empty\n",
      "Download complete - file saved to /gws/nopw/j04/scenario/users/benhutch/hist-GHG/tas/CanESM5/tas_Amon_CanESM5_hist-GHG_r13i1p1f1_gn_185001-202012.nc\n"
     ]
    },
    {
     "name": "stderr",
     "output_type": "stream",
     "text": [
      "53.1kKiB [00:05, 9.84kKiB/s]                          \n",
      "  3%|▎         | 7/266 [02:25<48:30, 11.24s/it]"
     ]
    },
    {
     "name": "stdout",
     "output_type": "stream",
     "text": [
      "File is not empty\n",
      "Download complete - file saved to /gws/nopw/j04/scenario/users/benhutch/hist-GHG/tas/CanESM5/tas_Amon_CanESM5_hist-GHG_r11i1p1f1_gn_185001-202012.nc\n"
     ]
    },
    {
     "name": "stderr",
     "output_type": "stream",
     "text": [
      "53.1kKiB [00:13, 4.01kKiB/s]                          \n"
     ]
    },
    {
     "name": "stdout",
     "output_type": "stream",
     "text": [
      "File is not empty\n",
      "Download complete - file saved to /gws/nopw/j04/scenario/users/benhutch/hist-GHG/tas/CanESM5/tas_Amon_CanESM5_hist-GHG_r12i1p2f1_gn_185001-202012.nc\n"
     ]
    },
    {
     "name": "stderr",
     "output_type": "stream",
     "text": [
      "53.1kKiB [00:06, 8.36kKiB/s]                          \n"
     ]
    },
    {
     "name": "stdout",
     "output_type": "stream",
     "text": [
      "File is not empty\n",
      "Download complete - file saved to /gws/nopw/j04/scenario/users/benhutch/hist-GHG/tas/CanESM5/tas_Amon_CanESM5_hist-GHG_r13i1p2f1_gn_185001-202012.nc\n"
     ]
    },
    {
     "name": "stderr",
     "output_type": "stream",
     "text": [
      "53.1kKiB [00:04, 12.0kKiB/s]                          \n",
      "  4%|▍         | 10/266 [02:52<38:42,  9.07s/it]"
     ]
    },
    {
     "name": "stdout",
     "output_type": "stream",
     "text": [
      "File is not empty\n",
      "Download complete - file saved to /gws/nopw/j04/scenario/users/benhutch/hist-GHG/tas/CanESM5/tas_Amon_CanESM5_hist-GHG_r14i1p1f1_gn_185001-202012.nc\n"
     ]
    },
    {
     "name": "stderr",
     "output_type": "stream",
     "text": [
      "53.1kKiB [00:08, 6.24kKiB/s]                          \n",
      "  4%|▍         | 11/266 [03:01<38:41,  9.11s/it]"
     ]
    },
    {
     "name": "stdout",
     "output_type": "stream",
     "text": [
      "File is not empty\n",
      "Download complete - file saved to /gws/nopw/j04/scenario/users/benhutch/hist-GHG/tas/CanESM5/tas_Amon_CanESM5_hist-GHG_r16i1p1f1_gn_185001-202012.nc\n"
     ]
    },
    {
     "name": "stderr",
     "output_type": "stream",
     "text": [
      "53.1kKiB [00:14, 3.70kKiB/s]                          \n"
     ]
    },
    {
     "name": "stdout",
     "output_type": "stream",
     "text": [
      "File is not empty\n",
      "Download complete - file saved to /gws/nopw/j04/scenario/users/benhutch/hist-GHG/tas/CanESM5/tas_Amon_CanESM5_hist-GHG_r14i1p2f1_gn_185001-202012.nc\n"
     ]
    },
    {
     "name": "stderr",
     "output_type": "stream",
     "text": [
      "53.1kKiB [00:03, 15.2kKiB/s]                          \n",
      "  5%|▍         | 13/266 [03:21<37:39,  8.93s/it]"
     ]
    },
    {
     "name": "stdout",
     "output_type": "stream",
     "text": [
      "File is not empty\n",
      "Download complete - file saved to /gws/nopw/j04/scenario/users/benhutch/hist-GHG/tas/CanESM5/tas_Amon_CanESM5_hist-GHG_r15i1p1f1_gn_185001-202012.nc\n"
     ]
    },
    {
     "name": "stderr",
     "output_type": "stream",
     "text": [
      "53.1kKiB [00:15, 3.38kKiB/s]                          \n",
      "  5%|▌         | 14/266 [03:37<47:07, 11.22s/it]"
     ]
    },
    {
     "name": "stdout",
     "output_type": "stream",
     "text": [
      "File is not empty\n",
      "Download complete - file saved to /gws/nopw/j04/scenario/users/benhutch/hist-GHG/tas/CanESM5/tas_Amon_CanESM5_hist-GHG_r15i1p2f1_gn_185001-202012.nc\n"
     ]
    },
    {
     "name": "stderr",
     "output_type": "stream",
     "text": [
      "53.1kKiB [00:07, 7.37kKiB/s]                          \n",
      "  6%|▌         | 15/266 [03:45<42:53, 10.25s/it]"
     ]
    },
    {
     "name": "stdout",
     "output_type": "stream",
     "text": [
      "File is not empty\n",
      "Download complete - file saved to /gws/nopw/j04/scenario/users/benhutch/hist-GHG/tas/CanESM5/tas_Amon_CanESM5_hist-GHG_r16i1p2f1_gn_185001-202012.nc\n"
     ]
    },
    {
     "name": "stderr",
     "output_type": "stream",
     "text": [
      "53.1kKiB [00:14, 3.78kKiB/s]                          \n"
     ]
    },
    {
     "name": "stdout",
     "output_type": "stream",
     "text": [
      "File is not empty\n",
      "Download complete - file saved to /gws/nopw/j04/scenario/users/benhutch/hist-GHG/tas/CanESM5/tas_Amon_CanESM5_hist-GHG_r17i1p1f1_gn_185001-202012.nc\n"
     ]
    },
    {
     "name": "stderr",
     "output_type": "stream",
     "text": [
      "53.1kKiB [00:05, 10.5kKiB/s]                          \n",
      "  6%|▋         | 17/266 [04:07<41:49, 10.08s/it]"
     ]
    },
    {
     "name": "stdout",
     "output_type": "stream",
     "text": [
      "File is not empty\n",
      "Download complete - file saved to /gws/nopw/j04/scenario/users/benhutch/hist-GHG/tas/CanESM5/tas_Amon_CanESM5_hist-GHG_r17i1p2f1_gn_185001-202012.nc\n"
     ]
    },
    {
     "name": "stderr",
     "output_type": "stream",
     "text": [
      "53.1kKiB [00:02, 25.1kKiB/s]                          \n",
      "  7%|▋         | 18/266 [04:10<32:41,  7.91s/it]"
     ]
    },
    {
     "name": "stdout",
     "output_type": "stream",
     "text": [
      "File is not empty\n",
      "Download complete - file saved to /gws/nopw/j04/scenario/users/benhutch/hist-GHG/tas/CanESM5/tas_Amon_CanESM5_hist-GHG_r18i1p1f1_gn_185001-202012.nc\n"
     ]
    },
    {
     "name": "stderr",
     "output_type": "stream",
     "text": [
      "53.1kKiB [00:29, 1.81kKiB/s]                          \n",
      "  7%|▋         | 19/266 [04:40<1:00:00, 14.58s/it]"
     ]
    },
    {
     "name": "stdout",
     "output_type": "stream",
     "text": [
      "File is not empty\n",
      "Download complete - file saved to /gws/nopw/j04/scenario/users/benhutch/hist-GHG/tas/CanESM5/tas_Amon_CanESM5_hist-GHG_r18i1p2f1_gn_185001-202012.nc\n"
     ]
    },
    {
     "name": "stderr",
     "output_type": "stream",
     "text": [
      "53.1kKiB [00:16, 3.32kKiB/s]                          \n",
      "  8%|▊         | 20/266 [04:56<1:02:20, 15.21s/it]"
     ]
    },
    {
     "name": "stdout",
     "output_type": "stream",
     "text": [
      "File is not empty\n",
      "Download complete - file saved to /gws/nopw/j04/scenario/users/benhutch/hist-GHG/tas/CanESM5/tas_Amon_CanESM5_hist-GHG_r19i1p1f1_gn_185001-202012.nc\n"
     ]
    },
    {
     "name": "stderr",
     "output_type": "stream",
     "text": [
      "53.1kKiB [00:07, 7.43kKiB/s]                          \n",
      "  8%|▊         | 21/266 [05:04<53:01, 12.99s/it]  "
     ]
    },
    {
     "name": "stdout",
     "output_type": "stream",
     "text": [
      "File is not empty\n",
      "Download complete - file saved to /gws/nopw/j04/scenario/users/benhutch/hist-GHG/tas/CanESM5/tas_Amon_CanESM5_hist-GHG_r19i1p2f1_gn_185001-202012.nc\n"
     ]
    },
    {
     "name": "stderr",
     "output_type": "stream",
     "text": [
      "53.1kKiB [00:06, 8.74kKiB/s]                          \n",
      "  8%|▊         | 22/266 [05:11<45:19, 11.15s/it]"
     ]
    },
    {
     "name": "stdout",
     "output_type": "stream",
     "text": [
      "File is not empty\n",
      "Download complete - file saved to /gws/nopw/j04/scenario/users/benhutch/hist-GHG/tas/CanESM5/tas_Amon_CanESM5_hist-GHG_r21i1p2f1_gn_185001-202012.nc\n"
     ]
    },
    {
     "name": "stderr",
     "output_type": "stream",
     "text": [
      "53.1kKiB [00:20, 2.55kKiB/s]                          \n"
     ]
    },
    {
     "name": "stdout",
     "output_type": "stream",
     "text": [
      "File is not empty\n",
      "Download complete - file saved to /gws/nopw/j04/scenario/users/benhutch/hist-GHG/tas/CanESM5/tas_Amon_CanESM5_hist-GHG_r23i1p1f1_gn_185001-202012.nc\n"
     ]
    },
    {
     "name": "stderr",
     "output_type": "stream",
     "text": [
      "53.1kKiB [00:09, 5.43kKiB/s]                          \n",
      "  9%|▉         | 24/266 [05:44<53:37, 13.30s/it]"
     ]
    },
    {
     "name": "stdout",
     "output_type": "stream",
     "text": [
      "File is not empty\n",
      "Download complete - file saved to /gws/nopw/j04/scenario/users/benhutch/hist-GHG/tas/CanESM5/tas_Amon_CanESM5_hist-GHG_r9i1p2f1_gn_185001-202012.nc\n"
     ]
    },
    {
     "name": "stderr",
     "output_type": "stream",
     "text": [
      "53.1kKiB [00:26, 2.00kKiB/s]                          \n",
      "  9%|▉         | 25/266 [06:11<1:10:23, 17.53s/it]"
     ]
    },
    {
     "name": "stdout",
     "output_type": "stream",
     "text": [
      "File is not empty\n",
      "Download complete - file saved to /gws/nopw/j04/scenario/users/benhutch/hist-GHG/tas/CanESM5/tas_Amon_CanESM5_hist-GHG_r22i1p1f1_gn_185001-202012.nc\n"
     ]
    },
    {
     "name": "stderr",
     "output_type": "stream",
     "text": [
      "53.1kKiB [00:02, 18.9kKiB/s]                          \n"
     ]
    },
    {
     "name": "stdout",
     "output_type": "stream",
     "text": [
      "File is not empty\n",
      "Download complete - file saved to /gws/nopw/j04/scenario/users/benhutch/hist-GHG/tas/CanESM5/tas_Amon_CanESM5_hist-GHG_r24i1p1f1_gn_185001-202012.nc\n"
     ]
    },
    {
     "name": "stderr",
     "output_type": "stream",
     "text": [
      "53.1kKiB [00:02, 26.3kKiB/s]                          \n",
      " 10%|█         | 27/266 [06:18<40:34, 10.19s/it]"
     ]
    },
    {
     "name": "stdout",
     "output_type": "stream",
     "text": [
      "File is not empty\n",
      "Download complete - file saved to /gws/nopw/j04/scenario/users/benhutch/hist-GHG/tas/CanESM5/tas_Amon_CanESM5_hist-GHG_r25i1p2f1_gn_185001-202012.nc\n"
     ]
    },
    {
     "name": "stderr",
     "output_type": "stream",
     "text": [
      "53.1kKiB [00:02, 25.8kKiB/s]                          \n",
      " 11%|█         | 28/266 [06:20<31:32,  7.95s/it]"
     ]
    },
    {
     "name": "stdout",
     "output_type": "stream",
     "text": [
      "File is not empty\n",
      "Download complete - file saved to /gws/nopw/j04/scenario/users/benhutch/hist-GHG/tas/CanESM5/tas_Amon_CanESM5_hist-GHG_r20i1p1f1_gn_185001-202012.nc\n"
     ]
    },
    {
     "name": "stderr",
     "output_type": "stream",
     "text": [
      "53.1kKiB [00:17, 3.02kKiB/s]                          \n",
      " 11%|█         | 29/266 [06:39<43:47, 11.09s/it]"
     ]
    },
    {
     "name": "stdout",
     "output_type": "stream",
     "text": [
      "File is not empty\n",
      "Download complete - file saved to /gws/nopw/j04/scenario/users/benhutch/hist-GHG/tas/CanESM5/tas_Amon_CanESM5_hist-GHG_r22i1p2f1_gn_185001-202012.nc\n"
     ]
    },
    {
     "name": "stderr",
     "output_type": "stream",
     "text": [
      "53.1kKiB [00:07, 7.22kKiB/s]                          \n"
     ]
    },
    {
     "name": "stdout",
     "output_type": "stream",
     "text": [
      "File is not empty\n",
      "Download complete - file saved to /gws/nopw/j04/scenario/users/benhutch/hist-GHG/tas/CanESM5/tas_Amon_CanESM5_hist-GHG_r5i1p2f1_gn_185001-202012.nc\n"
     ]
    },
    {
     "name": "stderr",
     "output_type": "stream",
     "text": [
      "53.1kKiB [00:24, 2.17kKiB/s]                          \n"
     ]
    },
    {
     "name": "stdout",
     "output_type": "stream",
     "text": [
      "File is not empty\n",
      "Download complete - file saved to /gws/nopw/j04/scenario/users/benhutch/hist-GHG/tas/CanESM5/tas_Amon_CanESM5_hist-GHG_r7i1p2f1_gn_185001-202012.nc\n"
     ]
    },
    {
     "name": "stderr",
     "output_type": "stream",
     "text": [
      "53.1kKiB [00:13, 4.05kKiB/s]                          \n",
      " 12%|█▏        | 32/266 [07:27<57:16, 14.69s/it]"
     ]
    },
    {
     "name": "stdout",
     "output_type": "stream",
     "text": [
      "File is not empty\n",
      "Download complete - file saved to /gws/nopw/j04/scenario/users/benhutch/hist-GHG/tas/CanESM5/tas_Amon_CanESM5_hist-GHG_r20i1p2f1_gn_185001-202012.nc\n"
     ]
    },
    {
     "name": "stderr",
     "output_type": "stream",
     "text": [
      "53.1kKiB [00:02, 24.9kKiB/s]                          \n"
     ]
    },
    {
     "name": "stdout",
     "output_type": "stream",
     "text": [
      "File is not empty\n",
      "Download complete - file saved to /gws/nopw/j04/scenario/users/benhutch/hist-GHG/tas/CanESM5/tas_Amon_CanESM5_hist-GHG_r24i1p2f1_gn_185001-202012.nc\n"
     ]
    },
    {
     "name": "stderr",
     "output_type": "stream",
     "text": [
      "53.1kKiB [00:22, 2.37kKiB/s]                          \n"
     ]
    },
    {
     "name": "stdout",
     "output_type": "stream",
     "text": [
      "File is not empty\n",
      "Download complete - file saved to /gws/nopw/j04/scenario/users/benhutch/hist-GHG/tas/CanESM5/tas_Amon_CanESM5_hist-GHG_r25i1p1f1_gn_185001-202012.nc\n"
     ]
    },
    {
     "name": "stderr",
     "output_type": "stream",
     "text": [
      "53.1kKiB [00:06, 8.57kKiB/s]54<57:27, 14.86s/it]\n",
      " 13%|█▎        | 35/266 [08:01<47:56, 12.45s/it]"
     ]
    },
    {
     "name": "stdout",
     "output_type": "stream",
     "text": [
      "File is not empty\n",
      "Download complete - file saved to /gws/nopw/j04/scenario/users/benhutch/hist-GHG/tas/CanESM5/tas_Amon_CanESM5_hist-GHG_r23i1p2f1_gn_185001-202012.nc\n"
     ]
    },
    {
     "name": "stderr",
     "output_type": "stream",
     "text": [
      "53.1kKiB [00:04, 12.6kKiB/s]                          \n",
      " 14%|█▎        | 36/266 [08:06<39:10, 10.22s/it]"
     ]
    },
    {
     "name": "stdout",
     "output_type": "stream",
     "text": [
      "File is not empty\n",
      "Download complete - file saved to /gws/nopw/j04/scenario/users/benhutch/hist-GHG/tas/CanESM5/tas_Amon_CanESM5_hist-GHG_r4i1p2f1_gn_185001-202012.nc\n"
     ]
    },
    {
     "name": "stderr",
     "output_type": "stream",
     "text": [
      "53.1kKiB [00:06, 8.01kKiB/s]                          \n",
      " 14%|█▍        | 37/266 [08:13<35:46,  9.37s/it]"
     ]
    },
    {
     "name": "stdout",
     "output_type": "stream",
     "text": [
      "File is not empty\n",
      "Download complete - file saved to /gws/nopw/j04/scenario/users/benhutch/hist-GHG/tas/CanESM5/tas_Amon_CanESM5_hist-GHG_r8i1p2f1_gn_185001-202012.nc\n"
     ]
    },
    {
     "name": "stderr",
     "output_type": "stream",
     "text": [
      "53.1kKiB [00:05, 9.80kKiB/s]                          \n",
      " 14%|█▍        | 38/266 [08:19<31:56,  8.41s/it]"
     ]
    },
    {
     "name": "stdout",
     "output_type": "stream",
     "text": [
      "File is not empty\n",
      "Download complete - file saved to /gws/nopw/j04/scenario/users/benhutch/hist-GHG/tas/CanESM5/tas_Amon_CanESM5_hist-GHG_r21i1p1f1_gn_185001-202012.nc\n"
     ]
    },
    {
     "name": "stderr",
     "output_type": "stream",
     "text": [
      "53.1kKiB [00:04, 13.2kKiB/s]                          \n",
      " 15%|█▍        | 39/266 [08:24<27:44,  7.33s/it]"
     ]
    },
    {
     "name": "stdout",
     "output_type": "stream",
     "text": [
      "File is not empty\n",
      "Download complete - file saved to /gws/nopw/j04/scenario/users/benhutch/hist-GHG/tas/CanESM5/tas_Amon_CanESM5_hist-GHG_r6i1p2f1_gn_185001-202012.nc\n"
     ]
    },
    {
     "name": "stderr",
     "output_type": "stream",
     "text": [
      "108kKiB [00:11, 9.62kKiB/s]                         \n",
      " 15%|█▌        | 40/266 [08:36<33:30,  8.90s/it]"
     ]
    },
    {
     "name": "stdout",
     "output_type": "stream",
     "text": [
      "File is not empty\n",
      "Download complete - file saved to /gws/nopw/j04/scenario/users/benhutch/hist-GHG/tas/E3SM-2-0/tas_Amon_E3SM-2-0_hist-GHG_r1i1p1f1_gr_185001-189912.nc\n"
     ]
    },
    {
     "name": "stderr",
     "output_type": "stream",
     "text": [
      "108kKiB [00:10, 10.3kKiB/s]                         \n"
     ]
    },
    {
     "name": "stdout",
     "output_type": "stream",
     "text": [
      "File is not empty\n",
      "Download complete - file saved to /gws/nopw/j04/scenario/users/benhutch/hist-GHG/tas/E3SM-2-0/tas_Amon_E3SM-2-0_hist-GHG_r1i1p1f1_gr_190001-194912.nc\n"
     ]
    },
    {
     "name": "stderr",
     "output_type": "stream",
     "text": [
      "108kKiB [00:17, 6.23kKiB/s]                         \n",
      " 16%|█▌        | 42/266 [09:10<48:12, 12.91s/it]"
     ]
    },
    {
     "name": "stdout",
     "output_type": "stream",
     "text": [
      "File is not empty\n",
      "Download complete - file saved to /gws/nopw/j04/scenario/users/benhutch/hist-GHG/tas/E3SM-2-0/tas_Amon_E3SM-2-0_hist-GHG_r1i1p1f1_gr_195001-199912.nc\n"
     ]
    },
    {
     "name": "stderr",
     "output_type": "stream",
     "text": [
      "32.5kKiB [00:10, 3.12kKiB/s]                          \n",
      " 16%|█▌        | 43/266 [09:21<45:55, 12.36s/it]"
     ]
    },
    {
     "name": "stdout",
     "output_type": "stream",
     "text": [
      "File is not empty\n",
      "Download complete - file saved to /gws/nopw/j04/scenario/users/benhutch/hist-GHG/tas/E3SM-2-0/tas_Amon_E3SM-2-0_hist-GHG_r1i1p1f1_gr_200001-201412.nc\n"
     ]
    },
    {
     "name": "stderr",
     "output_type": "stream",
     "text": [
      "108kKiB [00:13, 8.26kKiB/s]                         \n",
      " 17%|█▋        | 44/266 [09:34<47:12, 12.76s/it]"
     ]
    },
    {
     "name": "stdout",
     "output_type": "stream",
     "text": [
      "File is not empty\n",
      "Download complete - file saved to /gws/nopw/j04/scenario/users/benhutch/hist-GHG/tas/E3SM-2-0/tas_Amon_E3SM-2-0_hist-GHG_r2i1p1f1_gr_185001-189912.nc\n"
     ]
    },
    {
     "name": "stderr",
     "output_type": "stream",
     "text": [
      "108kKiB [00:11, 9.38kKiB/s]                         \n",
      " 17%|█▋        | 45/266 [09:46<46:14, 12.56s/it]"
     ]
    },
    {
     "name": "stdout",
     "output_type": "stream",
     "text": [
      "File is not empty\n",
      "Download complete - file saved to /gws/nopw/j04/scenario/users/benhutch/hist-GHG/tas/E3SM-2-0/tas_Amon_E3SM-2-0_hist-GHG_r2i1p1f1_gr_190001-194912.nc\n"
     ]
    },
    {
     "name": "stderr",
     "output_type": "stream",
     "text": [
      "108kKiB [00:39, 2.74kKiB/s]                         \n"
     ]
    },
    {
     "name": "stdout",
     "output_type": "stream",
     "text": [
      "File is not empty\n",
      "Download complete - file saved to /gws/nopw/j04/scenario/users/benhutch/hist-GHG/tas/E3SM-2-0/tas_Amon_E3SM-2-0_hist-GHG_r2i1p1f1_gr_195001-199912.nc\n"
     ]
    },
    {
     "name": "stderr",
     "output_type": "stream",
     "text": [
      "32.5kKiB [00:03, 9.46kKiB/s]                          \n",
      " 18%|█▊        | 47/266 [10:33<59:09, 16.21s/it]  "
     ]
    },
    {
     "name": "stdout",
     "output_type": "stream",
     "text": [
      "File is not empty\n",
      "Download complete - file saved to /gws/nopw/j04/scenario/users/benhutch/hist-GHG/tas/E3SM-2-0/tas_Amon_E3SM-2-0_hist-GHG_r2i1p1f1_gr_200001-201412.nc\n"
     ]
    },
    {
     "name": "stderr",
     "output_type": "stream",
     "text": [
      "108kKiB [00:19, 5.52kKiB/s]                         \n",
      " 18%|█▊        | 48/266 [10:53<1:03:19, 17.43s/it]"
     ]
    },
    {
     "name": "stdout",
     "output_type": "stream",
     "text": [
      "File is not empty\n",
      "Download complete - file saved to /gws/nopw/j04/scenario/users/benhutch/hist-GHG/tas/E3SM-2-0/tas_Amon_E3SM-2-0_hist-GHG_r5i1p1f1_gr_185001-189912.nc\n"
     ]
    },
    {
     "name": "stderr",
     "output_type": "stream",
     "text": [
      "108kKiB [00:11, 9.49kKiB/s]                         \n",
      " 18%|█▊        | 49/266 [11:05<57:05, 15.79s/it]  "
     ]
    },
    {
     "name": "stdout",
     "output_type": "stream",
     "text": [
      "File is not empty\n",
      "Download complete - file saved to /gws/nopw/j04/scenario/users/benhutch/hist-GHG/tas/E3SM-2-0/tas_Amon_E3SM-2-0_hist-GHG_r5i1p1f1_gr_190001-194912.nc\n"
     ]
    },
    {
     "name": "stderr",
     "output_type": "stream",
     "text": [
      "108kKiB [00:17, 6.07kKiB/s]                         \n",
      " 19%|█▉        | 50/266 [11:23<59:36, 16.56s/it]"
     ]
    },
    {
     "name": "stdout",
     "output_type": "stream",
     "text": [
      "File is not empty\n",
      "Download complete - file saved to /gws/nopw/j04/scenario/users/benhutch/hist-GHG/tas/E3SM-2-0/tas_Amon_E3SM-2-0_hist-GHG_r5i1p1f1_gr_195001-199912.nc\n"
     ]
    },
    {
     "name": "stderr",
     "output_type": "stream",
     "text": [
      "32.4kKiB [00:03, 10.8kKiB/s]                          \n",
      " 19%|█▉        | 51/266 [11:27<45:31, 12.70s/it]"
     ]
    },
    {
     "name": "stdout",
     "output_type": "stream",
     "text": [
      "File is not empty\n",
      "Download complete - file saved to /gws/nopw/j04/scenario/users/benhutch/hist-GHG/tas/E3SM-2-0/tas_Amon_E3SM-2-0_hist-GHG_r5i1p1f1_gr_200001-201412.nc\n"
     ]
    },
    {
     "name": "stderr",
     "output_type": "stream",
     "text": [
      "108kKiB [00:10, 10.8kKiB/s]                         \n",
      " 20%|█▉        | 52/266 [11:37<43:06, 12.09s/it]"
     ]
    },
    {
     "name": "stdout",
     "output_type": "stream",
     "text": [
      "File is not empty\n",
      "Download complete - file saved to /gws/nopw/j04/scenario/users/benhutch/hist-GHG/tas/E3SM-2-0/tas_Amon_E3SM-2-0_hist-GHG_r3i1p1f1_gr_185001-189912.nc\n"
     ]
    },
    {
     "name": "stderr",
     "output_type": "stream",
     "text": [
      "108kKiB [00:15, 7.20kKiB/s]                         \n"
     ]
    },
    {
     "name": "stdout",
     "output_type": "stream",
     "text": [
      "File is not empty\n",
      "Download complete - file saved to /gws/nopw/j04/scenario/users/benhutch/hist-GHG/tas/E3SM-2-0/tas_Amon_E3SM-2-0_hist-GHG_r3i1p1f1_gr_190001-194912.nc\n"
     ]
    },
    {
     "name": "stderr",
     "output_type": "stream",
     "text": [
      "108kKiB [00:14, 7.44kKiB/s]                         \n",
      " 20%|██        | 54/266 [12:09<49:06, 13.90s/it]"
     ]
    },
    {
     "name": "stdout",
     "output_type": "stream",
     "text": [
      "File is not empty\n",
      "Download complete - file saved to /gws/nopw/j04/scenario/users/benhutch/hist-GHG/tas/E3SM-2-0/tas_Amon_E3SM-2-0_hist-GHG_r3i1p1f1_gr_195001-199912.nc\n"
     ]
    },
    {
     "name": "stderr",
     "output_type": "stream",
     "text": [
      "32.5kKiB [00:02, 14.7kKiB/s]                          \n",
      " 21%|██        | 55/266 [12:12<37:11, 10.58s/it]"
     ]
    },
    {
     "name": "stdout",
     "output_type": "stream",
     "text": [
      "File is not empty\n",
      "Download complete - file saved to /gws/nopw/j04/scenario/users/benhutch/hist-GHG/tas/E3SM-2-0/tas_Amon_E3SM-2-0_hist-GHG_r3i1p1f1_gr_200001-201412.nc\n"
     ]
    },
    {
     "name": "stderr",
     "output_type": "stream",
     "text": [
      "108kKiB [00:09, 11.6kKiB/s]                         \n",
      " 21%|██        | 56/266 [12:22<36:18, 10.38s/it]"
     ]
    },
    {
     "name": "stdout",
     "output_type": "stream",
     "text": [
      "File is not empty\n",
      "Download complete - file saved to /gws/nopw/j04/scenario/users/benhutch/hist-GHG/tas/E3SM-2-0/tas_Amon_E3SM-2-0_hist-GHG_r4i1p1f1_gr_185001-189912.nc\n"
     ]
    },
    {
     "name": "stderr",
     "output_type": "stream",
     "text": [
      "108kKiB [00:27, 3.87kKiB/s]                         \n",
      " 21%|██▏       | 57/266 [12:50<55:06, 15.82s/it]"
     ]
    },
    {
     "name": "stdout",
     "output_type": "stream",
     "text": [
      "File is not empty\n",
      "Download complete - file saved to /gws/nopw/j04/scenario/users/benhutch/hist-GHG/tas/E3SM-2-0/tas_Amon_E3SM-2-0_hist-GHG_r4i1p1f1_gr_190001-194912.nc\n"
     ]
    },
    {
     "name": "stderr",
     "output_type": "stream",
     "text": [
      "108kKiB [00:17, 6.07kKiB/s]                         \n",
      " 22%|██▏       | 58/266 [13:09<57:29, 16.59s/it]"
     ]
    },
    {
     "name": "stdout",
     "output_type": "stream",
     "text": [
      "File is not empty\n",
      "Download complete - file saved to /gws/nopw/j04/scenario/users/benhutch/hist-GHG/tas/E3SM-2-0/tas_Amon_E3SM-2-0_hist-GHG_r4i1p1f1_gr_195001-199912.nc\n"
     ]
    },
    {
     "name": "stderr",
     "output_type": "stream",
     "text": [
      "32.5kKiB [00:05, 6.37kKiB/s]                          \n",
      " 22%|██▏       | 59/266 [13:14<46:05, 13.36s/it]"
     ]
    },
    {
     "name": "stdout",
     "output_type": "stream",
     "text": [
      "File is not empty\n",
      "Download complete - file saved to /gws/nopw/j04/scenario/users/benhutch/hist-GHG/tas/E3SM-2-0/tas_Amon_E3SM-2-0_hist-GHG_r4i1p1f1_gr_200001-201412.nc\n"
     ]
    },
    {
     "name": "stderr",
     "output_type": "stream",
     "text": [
      "6.77kKiB [01:59, 56.8KiB/s]                          \n",
      " 23%|██▎       | 60/266 [15:17<2:38:13, 46.08s/it]"
     ]
    },
    {
     "name": "stdout",
     "output_type": "stream",
     "text": [
      "File is not empty\n",
      "Download complete - file saved to /gws/nopw/j04/scenario/users/benhutch/hist-GHG/tas/FGOALS-g3/tas_Amon_FGOALS-g3_hist-GHG_r1i1p1f1_gn_188001-188912.nc\n"
     ]
    },
    {
     "name": "stderr",
     "output_type": "stream",
     "text": [
      "6.77kKiB [01:49, 61.7KiB/s]                          \n",
      " 23%|██▎       | 61/266 [17:07<3:43:25, 65.39s/it]"
     ]
    },
    {
     "name": "stdout",
     "output_type": "stream",
     "text": [
      "File is not empty\n",
      "Download complete - file saved to /gws/nopw/j04/scenario/users/benhutch/hist-GHG/tas/FGOALS-g3/tas_Amon_FGOALS-g3_hist-GHG_r1i1p1f1_gn_196001-196912.nc\n"
     ]
    },
    {
     "name": "stderr",
     "output_type": "stream",
     "text": [
      "6.77kKiB [00:58, 115KiB/s]                           \n",
      " 23%|██▎       | 62/266 [18:07<3:36:12, 63.59s/it]"
     ]
    },
    {
     "name": "stdout",
     "output_type": "stream",
     "text": [
      "File is not empty\n",
      "Download complete - file saved to /gws/nopw/j04/scenario/users/benhutch/hist-GHG/tas/FGOALS-g3/tas_Amon_FGOALS-g3_hist-GHG_r1i1p1f1_gn_197001-197912.nc\n"
     ]
    },
    {
     "name": "stderr",
     "output_type": "stream",
     "text": [
      "7.45kKiB [01:07, 110KiB/s]                          \n",
      " 24%|██▎       | 63/266 [19:15<3:40:23, 65.14s/it]"
     ]
    },
    {
     "name": "stdout",
     "output_type": "stream",
     "text": [
      "File is not empty\n",
      "Download complete - file saved to /gws/nopw/j04/scenario/users/benhutch/hist-GHG/tas/FGOALS-g3/tas_Amon_FGOALS-g3_hist-GHG_r1i1p1f1_gn_201001-202012.nc\n"
     ]
    },
    {
     "name": "stderr",
     "output_type": "stream",
     "text": [
      "6.77kKiB [00:50, 135KiB/s]                           \n",
      " 24%|██▍       | 64/266 [20:07<3:25:09, 60.94s/it]"
     ]
    },
    {
     "name": "stdout",
     "output_type": "stream",
     "text": [
      "File is not empty\n",
      "Download complete - file saved to /gws/nopw/j04/scenario/users/benhutch/hist-GHG/tas/FGOALS-g3/tas_Amon_FGOALS-g3_hist-GHG_r2i1p1f1_gn_193001-193912.nc\n"
     ]
    },
    {
     "name": "stderr",
     "output_type": "stream",
     "text": [
      "6.77kKiB [01:17, 87.8KiB/s]                          \n",
      " 24%|██▍       | 65/266 [21:25<3:41:20, 66.07s/it]"
     ]
    },
    {
     "name": "stdout",
     "output_type": "stream",
     "text": [
      "File is not empty\n",
      "Download complete - file saved to /gws/nopw/j04/scenario/users/benhutch/hist-GHG/tas/FGOALS-g3/tas_Amon_FGOALS-g3_hist-GHG_r2i1p1f1_gn_198001-198912.nc\n"
     ]
    },
    {
     "name": "stderr",
     "output_type": "stream",
     "text": [
      " 70%|███████   | 4.75k/6.77k [01:10<00:29, 67.4KiB/s]\n",
      " 24%|██▍       | 65/266 [22:36<1:09:54, 20.87s/it]\n"
     ]
    },
    {
     "ename": "KeyboardInterrupt",
     "evalue": "",
     "output_type": "error",
     "traceback": [
      "\u001b[0;31m---------------------------------------------------------------------------\u001b[0m",
      "\u001b[0;31mKeyboardInterrupt\u001b[0m                         Traceback (most recent call last)",
      "\u001b[1;32m/home/users/benhutch/downloading-data/DAMIP/testing-download.ipynb Cell 15\u001b[0m line \u001b[0;36m<cell line: 13>\u001b[0;34m()\u001b[0m\n\u001b[1;32m     <a href='vscode-notebook-cell://ssh-remote%2Bsci3/home/users/benhutch/downloading-data/DAMIP/testing-download.ipynb#X15sdnNjb2RlLXJlbW90ZQ%3D%3D?line=51'>52</a>\u001b[0m \u001b[39m# Download the file\u001b[39;00m\n\u001b[1;32m     <a href='vscode-notebook-cell://ssh-remote%2Bsci3/home/users/benhutch/downloading-data/DAMIP/testing-download.ipynb#X15sdnNjb2RlLXJlbW90ZQ%3D%3D?line=52'>53</a>\u001b[0m \u001b[39mwith\u001b[39;00m \u001b[39mopen\u001b[39m(download_path, \u001b[39m'\u001b[39m\u001b[39mwb\u001b[39m\u001b[39m'\u001b[39m) \u001b[39mas\u001b[39;00m f:\n\u001b[0;32m---> <a href='vscode-notebook-cell://ssh-remote%2Bsci3/home/users/benhutch/downloading-data/DAMIP/testing-download.ipynb#X15sdnNjb2RlLXJlbW90ZQ%3D%3D?line=53'>54</a>\u001b[0m     \u001b[39mfor\u001b[39;00m data \u001b[39min\u001b[39;00m tqdm(r\u001b[39m.\u001b[39miter_content(block_size), \n\u001b[1;32m     <a href='vscode-notebook-cell://ssh-remote%2Bsci3/home/users/benhutch/downloading-data/DAMIP/testing-download.ipynb#X15sdnNjb2RlLXJlbW90ZQ%3D%3D?line=54'>55</a>\u001b[0m                     total \u001b[39m=\u001b[39m total_size\u001b[39m/\u001b[39m\u001b[39m/\u001b[39mblock_size, \n\u001b[1;32m     <a href='vscode-notebook-cell://ssh-remote%2Bsci3/home/users/benhutch/downloading-data/DAMIP/testing-download.ipynb#X15sdnNjb2RlLXJlbW90ZQ%3D%3D?line=55'>56</a>\u001b[0m                     unit \u001b[39m=\u001b[39m \u001b[39m'\u001b[39m\u001b[39mKiB\u001b[39m\u001b[39m'\u001b[39m, \n\u001b[1;32m     <a href='vscode-notebook-cell://ssh-remote%2Bsci3/home/users/benhutch/downloading-data/DAMIP/testing-download.ipynb#X15sdnNjb2RlLXJlbW90ZQ%3D%3D?line=56'>57</a>\u001b[0m                     unit_scale \u001b[39m=\u001b[39m \u001b[39mTrue\u001b[39;00m):\n\u001b[1;32m     <a href='vscode-notebook-cell://ssh-remote%2Bsci3/home/users/benhutch/downloading-data/DAMIP/testing-download.ipynb#X15sdnNjb2RlLXJlbW90ZQ%3D%3D?line=57'>58</a>\u001b[0m         f\u001b[39m.\u001b[39mwrite(data)\n\u001b[1;32m     <a href='vscode-notebook-cell://ssh-remote%2Bsci3/home/users/benhutch/downloading-data/DAMIP/testing-download.ipynb#X15sdnNjb2RlLXJlbW90ZQ%3D%3D?line=59'>60</a>\u001b[0m     \u001b[39m# If the total size is no 0\u001b[39;00m\n",
      "File \u001b[0;32m/apps/jasmin/jaspy/miniconda_envs/jaspy3.10/m3-4.9.2/envs/jaspy3.10-m3-4.9.2-r20220721/lib/python3.10/site-packages/tqdm/std.py:1195\u001b[0m, in \u001b[0;36mtqdm.__iter__\u001b[0;34m(self)\u001b[0m\n\u001b[1;32m   1192\u001b[0m time \u001b[39m=\u001b[39m \u001b[39mself\u001b[39m\u001b[39m.\u001b[39m_time\n\u001b[1;32m   1194\u001b[0m \u001b[39mtry\u001b[39;00m:\n\u001b[0;32m-> 1195\u001b[0m     \u001b[39mfor\u001b[39;00m obj \u001b[39min\u001b[39;00m iterable:\n\u001b[1;32m   1196\u001b[0m         \u001b[39myield\u001b[39;00m obj\n\u001b[1;32m   1197\u001b[0m         \u001b[39m# Update and possibly print the progressbar.\u001b[39;00m\n\u001b[1;32m   1198\u001b[0m         \u001b[39m# Note: does not call self.update(1) for speed optimisation.\u001b[39;00m\n",
      "File \u001b[0;32m/apps/jasmin/jaspy/miniconda_envs/jaspy3.10/m3-4.9.2/envs/jaspy3.10-m3-4.9.2-r20220721/lib/python3.10/site-packages/requests/models.py:816\u001b[0m, in \u001b[0;36mResponse.iter_content.<locals>.generate\u001b[0;34m()\u001b[0m\n\u001b[1;32m    814\u001b[0m \u001b[39mif\u001b[39;00m \u001b[39mhasattr\u001b[39m(\u001b[39mself\u001b[39m\u001b[39m.\u001b[39mraw, \u001b[39m\"\u001b[39m\u001b[39mstream\u001b[39m\u001b[39m\"\u001b[39m):\n\u001b[1;32m    815\u001b[0m     \u001b[39mtry\u001b[39;00m:\n\u001b[0;32m--> 816\u001b[0m         \u001b[39myield from\u001b[39;00m \u001b[39mself\u001b[39m\u001b[39m.\u001b[39mraw\u001b[39m.\u001b[39mstream(chunk_size, decode_content\u001b[39m=\u001b[39m\u001b[39mTrue\u001b[39;00m)\n\u001b[1;32m    817\u001b[0m     \u001b[39mexcept\u001b[39;00m ProtocolError \u001b[39mas\u001b[39;00m e:\n\u001b[1;32m    818\u001b[0m         \u001b[39mraise\u001b[39;00m ChunkedEncodingError(e)\n",
      "File \u001b[0;32m/apps/jasmin/jaspy/miniconda_envs/jaspy3.10/m3-4.9.2/envs/jaspy3.10-m3-4.9.2-r20220721/lib/python3.10/site-packages/urllib3/response.py:579\u001b[0m, in \u001b[0;36mHTTPResponse.stream\u001b[0;34m(self, amt, decode_content)\u001b[0m\n\u001b[1;32m    577\u001b[0m \u001b[39melse\u001b[39;00m:\n\u001b[1;32m    578\u001b[0m     \u001b[39mwhile\u001b[39;00m \u001b[39mnot\u001b[39;00m is_fp_closed(\u001b[39mself\u001b[39m\u001b[39m.\u001b[39m_fp):\n\u001b[0;32m--> 579\u001b[0m         data \u001b[39m=\u001b[39m \u001b[39mself\u001b[39;49m\u001b[39m.\u001b[39;49mread(amt\u001b[39m=\u001b[39;49mamt, decode_content\u001b[39m=\u001b[39;49mdecode_content)\n\u001b[1;32m    581\u001b[0m         \u001b[39mif\u001b[39;00m data:\n\u001b[1;32m    582\u001b[0m             \u001b[39myield\u001b[39;00m data\n",
      "File \u001b[0;32m/apps/jasmin/jaspy/miniconda_envs/jaspy3.10/m3-4.9.2/envs/jaspy3.10-m3-4.9.2-r20220721/lib/python3.10/site-packages/urllib3/response.py:522\u001b[0m, in \u001b[0;36mHTTPResponse.read\u001b[0;34m(self, amt, decode_content, cache_content)\u001b[0m\n\u001b[1;32m    520\u001b[0m \u001b[39melse\u001b[39;00m:\n\u001b[1;32m    521\u001b[0m     cache_content \u001b[39m=\u001b[39m \u001b[39mFalse\u001b[39;00m\n\u001b[0;32m--> 522\u001b[0m     data \u001b[39m=\u001b[39m \u001b[39mself\u001b[39;49m\u001b[39m.\u001b[39;49m_fp\u001b[39m.\u001b[39;49mread(amt) \u001b[39mif\u001b[39;00m \u001b[39mnot\u001b[39;00m fp_closed \u001b[39melse\u001b[39;00m \u001b[39mb\u001b[39m\u001b[39m\"\u001b[39m\u001b[39m\"\u001b[39m\n\u001b[1;32m    523\u001b[0m     \u001b[39mif\u001b[39;00m (\n\u001b[1;32m    524\u001b[0m         amt \u001b[39m!=\u001b[39m \u001b[39m0\u001b[39m \u001b[39mand\u001b[39;00m \u001b[39mnot\u001b[39;00m data\n\u001b[1;32m    525\u001b[0m     ):  \u001b[39m# Platform-specific: Buggy versions of Python.\u001b[39;00m\n\u001b[0;32m   (...)\u001b[0m\n\u001b[1;32m    531\u001b[0m         \u001b[39m# not properly close the connection in all cases. There is\u001b[39;00m\n\u001b[1;32m    532\u001b[0m         \u001b[39m# no harm in redundantly calling close.\u001b[39;00m\n\u001b[1;32m    533\u001b[0m         \u001b[39mself\u001b[39m\u001b[39m.\u001b[39m_fp\u001b[39m.\u001b[39mclose()\n",
      "File \u001b[0;32m/apps/jasmin/jaspy/miniconda_envs/jaspy3.10/m3-4.9.2/envs/jaspy3.10-m3-4.9.2-r20220721/lib/python3.10/http/client.py:465\u001b[0m, in \u001b[0;36mHTTPResponse.read\u001b[0;34m(self, amt)\u001b[0m\n\u001b[1;32m    462\u001b[0m \u001b[39mif\u001b[39;00m \u001b[39mself\u001b[39m\u001b[39m.\u001b[39mlength \u001b[39mis\u001b[39;00m \u001b[39mnot\u001b[39;00m \u001b[39mNone\u001b[39;00m \u001b[39mand\u001b[39;00m amt \u001b[39m>\u001b[39m \u001b[39mself\u001b[39m\u001b[39m.\u001b[39mlength:\n\u001b[1;32m    463\u001b[0m     \u001b[39m# clip the read to the \"end of response\"\u001b[39;00m\n\u001b[1;32m    464\u001b[0m     amt \u001b[39m=\u001b[39m \u001b[39mself\u001b[39m\u001b[39m.\u001b[39mlength\n\u001b[0;32m--> 465\u001b[0m s \u001b[39m=\u001b[39m \u001b[39mself\u001b[39;49m\u001b[39m.\u001b[39;49mfp\u001b[39m.\u001b[39;49mread(amt)\n\u001b[1;32m    466\u001b[0m \u001b[39mif\u001b[39;00m \u001b[39mnot\u001b[39;00m s \u001b[39mand\u001b[39;00m amt:\n\u001b[1;32m    467\u001b[0m     \u001b[39m# Ideally, we would raise IncompleteRead if the content-length\u001b[39;00m\n\u001b[1;32m    468\u001b[0m     \u001b[39m# wasn't satisfied, but it might break compatibility.\u001b[39;00m\n\u001b[1;32m    469\u001b[0m     \u001b[39mself\u001b[39m\u001b[39m.\u001b[39m_close_conn()\n",
      "File \u001b[0;32m/apps/jasmin/jaspy/miniconda_envs/jaspy3.10/m3-4.9.2/envs/jaspy3.10-m3-4.9.2-r20220721/lib/python3.10/socket.py:705\u001b[0m, in \u001b[0;36mSocketIO.readinto\u001b[0;34m(self, b)\u001b[0m\n\u001b[1;32m    703\u001b[0m \u001b[39mwhile\u001b[39;00m \u001b[39mTrue\u001b[39;00m:\n\u001b[1;32m    704\u001b[0m     \u001b[39mtry\u001b[39;00m:\n\u001b[0;32m--> 705\u001b[0m         \u001b[39mreturn\u001b[39;00m \u001b[39mself\u001b[39;49m\u001b[39m.\u001b[39;49m_sock\u001b[39m.\u001b[39;49mrecv_into(b)\n\u001b[1;32m    706\u001b[0m     \u001b[39mexcept\u001b[39;00m timeout:\n\u001b[1;32m    707\u001b[0m         \u001b[39mself\u001b[39m\u001b[39m.\u001b[39m_timeout_occurred \u001b[39m=\u001b[39m \u001b[39mTrue\u001b[39;00m\n",
      "\u001b[0;31mKeyboardInterrupt\u001b[0m: "
     ]
    }
   ],
   "source": [
    "# We only want to download the files which don't already exist on JASMIN\n",
    "# Set up the download directory\n",
    "download_dir = \"/gws/nopw/j04/scenario/users/benhutch/\"\n",
    "\n",
    "# Loop through files_df and download the files\n",
    "# First constrain the dataframe to only the files which don't already exist on JASMIN\n",
    "files_df = files_df[files_df['file_exists'] == False]\n",
    "\n",
    "# Reset the index\n",
    "files_df.reset_index(drop=True, inplace=True)\n",
    "\n",
    "# Loop through the files_df and download the files\n",
    "for i in tqdm(range(len(files_df))):\n",
    "    # Get the file_url\n",
    "    file_url = files_df.loc[i, 'url']\n",
    "\n",
    "    # Get the filename\n",
    "    filename = files_df.loc[i, 'filename']\n",
    "\n",
    "    # Split the filename and extract the variable name\n",
    "    variable = filename.split('_')[0]\n",
    "\n",
    "    # Split the filename to get the experiment name\n",
    "    experiment = filename.split('_')[3]\n",
    "\n",
    "    # Set up the model\n",
    "    model = filename.split('_')[2]\n",
    "\n",
    "    # Set up the download directory\n",
    "    download_dir_loop = os.path.join(download_dir, experiment, variable, model)\n",
    "\n",
    "    # If the download directory doesn't exist, make it\n",
    "    if not os.path.exists(download_dir_loop):\n",
    "        os.makedirs(download_dir_loop)\n",
    "\n",
    "    # Set up the download path\n",
    "    download_path = os.path.join(download_dir_loop, filename)\n",
    "\n",
    "    # In the filepath column of the dataframe\n",
    "    # replace the current file path with the download path\n",
    "    files_df.loc[i, 'filepath'] = download_path\n",
    "\n",
    "    # Set up the request\n",
    "    r = requests.get(file_url, stream=True)\n",
    "\n",
    "    # Set up the total size\n",
    "    total_size = int(r.headers.get('content-length', 0))\n",
    "    \n",
    "    # Set up the block size\n",
    "    block_size = 1024\n",
    "\n",
    "    # Download the file\n",
    "    with open(download_path, 'wb') as f:\n",
    "        for data in tqdm(r.iter_content(block_size), \n",
    "                        total = total_size//block_size, \n",
    "                        unit = 'KiB', \n",
    "                        unit_scale = True):\n",
    "            f.write(data)\n",
    "\n",
    "        # If the total size is no 0\n",
    "        if total_size != 0:\n",
    "            print(\"File is not empty\")\n",
    "            print(\"Download complete - file saved to {}\".format(download_path))\n"
   ]
  },
  {
   "cell_type": "code",
   "execution_count": 14,
   "metadata": {},
   "outputs": [
    {
     "name": "stderr",
     "output_type": "stream",
     "text": [
      "/tmp/ipykernel_1622/1028569091.py:11: FutureWarning: The frame.append method is deprecated and will be removed from pandas in a future version. Use pandas.concat instead.\n",
      "  file_context_df = file_context_df.append(file_context, ignore_index=True)\n",
      "/tmp/ipykernel_1622/1028569091.py:11: FutureWarning: The frame.append method is deprecated and will be removed from pandas in a future version. Use pandas.concat instead.\n",
      "  file_context_df = file_context_df.append(file_context, ignore_index=True)\n",
      "/tmp/ipykernel_1622/1028569091.py:11: FutureWarning: The frame.append method is deprecated and will be removed from pandas in a future version. Use pandas.concat instead.\n",
      "  file_context_df = file_context_df.append(file_context, ignore_index=True)\n",
      "/tmp/ipykernel_1622/1028569091.py:11: FutureWarning: The frame.append method is deprecated and will be removed from pandas in a future version. Use pandas.concat instead.\n",
      "  file_context_df = file_context_df.append(file_context, ignore_index=True)\n",
      "/tmp/ipykernel_1622/1028569091.py:11: FutureWarning: The frame.append method is deprecated and will be removed from pandas in a future version. Use pandas.concat instead.\n",
      "  file_context_df = file_context_df.append(file_context, ignore_index=True)\n",
      "/tmp/ipykernel_1622/1028569091.py:11: FutureWarning: The frame.append method is deprecated and will be removed from pandas in a future version. Use pandas.concat instead.\n",
      "  file_context_df = file_context_df.append(file_context, ignore_index=True)\n",
      "/tmp/ipykernel_1622/1028569091.py:11: FutureWarning: The frame.append method is deprecated and will be removed from pandas in a future version. Use pandas.concat instead.\n",
      "  file_context_df = file_context_df.append(file_context, ignore_index=True)\n",
      "/tmp/ipykernel_1622/1028569091.py:11: FutureWarning: The frame.append method is deprecated and will be removed from pandas in a future version. Use pandas.concat instead.\n",
      "  file_context_df = file_context_df.append(file_context, ignore_index=True)\n",
      "/tmp/ipykernel_1622/1028569091.py:11: FutureWarning: The frame.append method is deprecated and will be removed from pandas in a future version. Use pandas.concat instead.\n",
      "  file_context_df = file_context_df.append(file_context, ignore_index=True)\n",
      "/tmp/ipykernel_1622/1028569091.py:11: FutureWarning: The frame.append method is deprecated and will be removed from pandas in a future version. Use pandas.concat instead.\n",
      "  file_context_df = file_context_df.append(file_context, ignore_index=True)\n",
      "/tmp/ipykernel_1622/1028569091.py:11: FutureWarning: The frame.append method is deprecated and will be removed from pandas in a future version. Use pandas.concat instead.\n",
      "  file_context_df = file_context_df.append(file_context, ignore_index=True)\n",
      "/tmp/ipykernel_1622/1028569091.py:11: FutureWarning: The frame.append method is deprecated and will be removed from pandas in a future version. Use pandas.concat instead.\n",
      "  file_context_df = file_context_df.append(file_context, ignore_index=True)\n",
      "/tmp/ipykernel_1622/1028569091.py:11: FutureWarning: The frame.append method is deprecated and will be removed from pandas in a future version. Use pandas.concat instead.\n",
      "  file_context_df = file_context_df.append(file_context, ignore_index=True)\n",
      "/tmp/ipykernel_1622/1028569091.py:11: FutureWarning: The frame.append method is deprecated and will be removed from pandas in a future version. Use pandas.concat instead.\n",
      "  file_context_df = file_context_df.append(file_context, ignore_index=True)\n",
      "/tmp/ipykernel_1622/1028569091.py:11: FutureWarning: The frame.append method is deprecated and will be removed from pandas in a future version. Use pandas.concat instead.\n",
      "  file_context_df = file_context_df.append(file_context, ignore_index=True)\n"
     ]
    }
   ],
   "source": [
    "# Extract all of the file_context into dictionaries\n",
    "# and then append them to a dataframe\n",
    "# Initialize an empty list to store the dictionaries\n",
    "# Create an empty dataframe\n",
    "file_context_df = pd.DataFrame()\n",
    "\n",
    "\n",
    "# For each file_context\n",
    "for file_context in file_context_list:\n",
    "    # Append the file_context to the dataframe\n",
    "    file_context_df = file_context_df.append(file_context, ignore_index=True)"
   ]
  },
  {
   "cell_type": "code",
   "execution_count": null,
   "metadata": {},
   "outputs": [],
   "source": [
    "# Python\n",
    "# Form a list of the unique 'source_id' values from the results\n",
    "source_id_list = list(set([result.json['source_id'] for result in results]))\n",
    "\n",
    "# Print the list\n",
    "print(source_id_list)"
   ]
  },
  {
   "cell_type": "code",
   "execution_count": 5,
   "metadata": {},
   "outputs": [
    {
     "name": "stdout",
     "output_type": "stream",
     "text": [
      "5\n",
      "<class 'pyesgf.search.results.ResultSet'>\n",
      "<pyesgf.search.results.ResultSet object at 0x7f87bf91f130>\n"
     ]
    }
   ],
   "source": [
    "# test the function for querying the database\n",
    "results = query_data_esgf(conn,\n",
    "                        source_id='E3SM-2-0',\n",
    "                        experiment_id='hist-aer',\n",
    "                        variable_id='tas',\n",
    "                        table_id='Amon',\n",
    "                        data_node='esgf-data2.llnl.gov',)\n",
    "\n",
    "# print the len of the results\n",
    "print(len(results))\n",
    "\n",
    "# print the type of the results\n",
    "print(type(results))\n",
    "\n",
    "# print the results\n",
    "print(results)"
   ]
  },
  {
   "cell_type": "code",
   "execution_count": 6,
   "metadata": {},
   "outputs": [
    {
     "name": "stdout",
     "output_type": "stream",
     "text": [
      "CMIP6.DAMIP.E3SM-Project.E3SM-2-0.hist-aer.r2i1p1f1.Amon.tas.gr.v20220906|esgf-data2.llnl.gov\n"
     ]
    }
   ],
   "source": [
    "# Print the details of the first result\n",
    "print(results[0].json['id'])"
   ]
  },
  {
   "cell_type": "code",
   "execution_count": 7,
   "metadata": {},
   "outputs": [],
   "source": [
    "# Extract the file context\n",
    "# files_list = extract_file_context(results)\n",
    "\n",
    "# # # Turn the list into a dataframe\n",
    "# # files_df = pd.DataFrame.from_dict(files_list)\n",
    "\n",
    "# # files_df"
   ]
  },
  {
   "cell_type": "code",
   "execution_count": 8,
   "metadata": {},
   "outputs": [
    {
     "name": "stdout",
     "output_type": "stream",
     "text": [
      "Extracting file context for 5 datasets...\n"
     ]
    },
    {
     "data": {
      "text/plain": [
       "[{'filename': 'tas_Amon_E3SM-2-0_hist-aer_r2i1p1f1_gr_185001-189912.nc',\n",
       "  'url': 'https://esgf-data2.llnl.gov/thredds/fileServer/user_pub_work/CMIP6/DAMIP/E3SM-Project/E3SM-2-0/hist-aer/r2i1p1f1/Amon/tas/gr/v20220906/tas_Amon_E3SM-2-0_hist-aer_r2i1p1f1_gr_185001-189912.nc'},\n",
       " {'filename': 'tas_Amon_E3SM-2-0_hist-aer_r2i1p1f1_gr_190001-194912.nc',\n",
       "  'url': 'https://esgf-data2.llnl.gov/thredds/fileServer/user_pub_work/CMIP6/DAMIP/E3SM-Project/E3SM-2-0/hist-aer/r2i1p1f1/Amon/tas/gr/v20220906/tas_Amon_E3SM-2-0_hist-aer_r2i1p1f1_gr_190001-194912.nc'},\n",
       " {'filename': 'tas_Amon_E3SM-2-0_hist-aer_r2i1p1f1_gr_195001-199912.nc',\n",
       "  'url': 'https://esgf-data2.llnl.gov/thredds/fileServer/user_pub_work/CMIP6/DAMIP/E3SM-Project/E3SM-2-0/hist-aer/r2i1p1f1/Amon/tas/gr/v20220906/tas_Amon_E3SM-2-0_hist-aer_r2i1p1f1_gr_195001-199912.nc'},\n",
       " {'filename': 'tas_Amon_E3SM-2-0_hist-aer_r2i1p1f1_gr_200001-201412.nc',\n",
       "  'url': 'https://esgf-data2.llnl.gov/thredds/fileServer/user_pub_work/CMIP6/DAMIP/E3SM-Project/E3SM-2-0/hist-aer/r2i1p1f1/Amon/tas/gr/v20220906/tas_Amon_E3SM-2-0_hist-aer_r2i1p1f1_gr_200001-201412.nc'},\n",
       " {'filename': 'tas_Amon_E3SM-2-0_hist-aer_r1i1p1f1_gr_185001-189912.nc',\n",
       "  'url': 'https://esgf-data2.llnl.gov/thredds/fileServer/user_pub_work/CMIP6/DAMIP/E3SM-Project/E3SM-2-0/hist-aer/r1i1p1f1/Amon/tas/gr/v20220905/tas_Amon_E3SM-2-0_hist-aer_r1i1p1f1_gr_185001-189912.nc'},\n",
       " {'filename': 'tas_Amon_E3SM-2-0_hist-aer_r1i1p1f1_gr_190001-194912.nc',\n",
       "  'url': 'https://esgf-data2.llnl.gov/thredds/fileServer/user_pub_work/CMIP6/DAMIP/E3SM-Project/E3SM-2-0/hist-aer/r1i1p1f1/Amon/tas/gr/v20220905/tas_Amon_E3SM-2-0_hist-aer_r1i1p1f1_gr_190001-194912.nc'},\n",
       " {'filename': 'tas_Amon_E3SM-2-0_hist-aer_r1i1p1f1_gr_195001-199912.nc',\n",
       "  'url': 'https://esgf-data2.llnl.gov/thredds/fileServer/user_pub_work/CMIP6/DAMIP/E3SM-Project/E3SM-2-0/hist-aer/r1i1p1f1/Amon/tas/gr/v20220905/tas_Amon_E3SM-2-0_hist-aer_r1i1p1f1_gr_195001-199912.nc'},\n",
       " {'filename': 'tas_Amon_E3SM-2-0_hist-aer_r1i1p1f1_gr_200001-201412.nc',\n",
       "  'url': 'https://esgf-data2.llnl.gov/thredds/fileServer/user_pub_work/CMIP6/DAMIP/E3SM-Project/E3SM-2-0/hist-aer/r1i1p1f1/Amon/tas/gr/v20220905/tas_Amon_E3SM-2-0_hist-aer_r1i1p1f1_gr_200001-201412.nc'},\n",
       " {'filename': 'tas_Amon_E3SM-2-0_hist-aer_r3i1p1f1_gr_185001-189912.nc',\n",
       "  'url': 'https://esgf-data2.llnl.gov/thredds/fileServer/user_pub_work/CMIP6/DAMIP/E3SM-Project/E3SM-2-0/hist-aer/r3i1p1f1/Amon/tas/gr/v20220906/tas_Amon_E3SM-2-0_hist-aer_r3i1p1f1_gr_185001-189912.nc'},\n",
       " {'filename': 'tas_Amon_E3SM-2-0_hist-aer_r3i1p1f1_gr_190001-194912.nc',\n",
       "  'url': 'https://esgf-data2.llnl.gov/thredds/fileServer/user_pub_work/CMIP6/DAMIP/E3SM-Project/E3SM-2-0/hist-aer/r3i1p1f1/Amon/tas/gr/v20220906/tas_Amon_E3SM-2-0_hist-aer_r3i1p1f1_gr_190001-194912.nc'},\n",
       " {'filename': 'tas_Amon_E3SM-2-0_hist-aer_r3i1p1f1_gr_195001-199912.nc',\n",
       "  'url': 'https://esgf-data2.llnl.gov/thredds/fileServer/user_pub_work/CMIP6/DAMIP/E3SM-Project/E3SM-2-0/hist-aer/r3i1p1f1/Amon/tas/gr/v20220906/tas_Amon_E3SM-2-0_hist-aer_r3i1p1f1_gr_195001-199912.nc'},\n",
       " {'filename': 'tas_Amon_E3SM-2-0_hist-aer_r3i1p1f1_gr_200001-201412.nc',\n",
       "  'url': 'https://esgf-data2.llnl.gov/thredds/fileServer/user_pub_work/CMIP6/DAMIP/E3SM-Project/E3SM-2-0/hist-aer/r3i1p1f1/Amon/tas/gr/v20220906/tas_Amon_E3SM-2-0_hist-aer_r3i1p1f1_gr_200001-201412.nc'},\n",
       " {'filename': 'tas_Amon_E3SM-2-0_hist-aer_r4i1p1f1_gr_185001-189912.nc',\n",
       "  'url': 'https://esgf-data2.llnl.gov/thredds/fileServer/user_pub_work/CMIP6/DAMIP/E3SM-Project/E3SM-2-0/hist-aer/r4i1p1f1/Amon/tas/gr/v20220907/tas_Amon_E3SM-2-0_hist-aer_r4i1p1f1_gr_185001-189912.nc'},\n",
       " {'filename': 'tas_Amon_E3SM-2-0_hist-aer_r4i1p1f1_gr_190001-194912.nc',\n",
       "  'url': 'https://esgf-data2.llnl.gov/thredds/fileServer/user_pub_work/CMIP6/DAMIP/E3SM-Project/E3SM-2-0/hist-aer/r4i1p1f1/Amon/tas/gr/v20220907/tas_Amon_E3SM-2-0_hist-aer_r4i1p1f1_gr_190001-194912.nc'},\n",
       " {'filename': 'tas_Amon_E3SM-2-0_hist-aer_r4i1p1f1_gr_195001-199912.nc',\n",
       "  'url': 'https://esgf-data2.llnl.gov/thredds/fileServer/user_pub_work/CMIP6/DAMIP/E3SM-Project/E3SM-2-0/hist-aer/r4i1p1f1/Amon/tas/gr/v20220907/tas_Amon_E3SM-2-0_hist-aer_r4i1p1f1_gr_195001-199912.nc'},\n",
       " {'filename': 'tas_Amon_E3SM-2-0_hist-aer_r4i1p1f1_gr_200001-201412.nc',\n",
       "  'url': 'https://esgf-data2.llnl.gov/thredds/fileServer/user_pub_work/CMIP6/DAMIP/E3SM-Project/E3SM-2-0/hist-aer/r4i1p1f1/Amon/tas/gr/v20220907/tas_Amon_E3SM-2-0_hist-aer_r4i1p1f1_gr_200001-201412.nc'},\n",
       " {'filename': 'tas_Amon_E3SM-2-0_hist-aer_r5i1p1f1_gr_185001-189912.nc',\n",
       "  'url': 'https://esgf-data2.llnl.gov/thredds/fileServer/user_pub_work/CMIP6/DAMIP/E3SM-Project/E3SM-2-0/hist-aer/r5i1p1f1/Amon/tas/gr/v20220907/tas_Amon_E3SM-2-0_hist-aer_r5i1p1f1_gr_185001-189912.nc'},\n",
       " {'filename': 'tas_Amon_E3SM-2-0_hist-aer_r5i1p1f1_gr_190001-194912.nc',\n",
       "  'url': 'https://esgf-data2.llnl.gov/thredds/fileServer/user_pub_work/CMIP6/DAMIP/E3SM-Project/E3SM-2-0/hist-aer/r5i1p1f1/Amon/tas/gr/v20220907/tas_Amon_E3SM-2-0_hist-aer_r5i1p1f1_gr_190001-194912.nc'},\n",
       " {'filename': 'tas_Amon_E3SM-2-0_hist-aer_r5i1p1f1_gr_195001-199912.nc',\n",
       "  'url': 'https://esgf-data2.llnl.gov/thredds/fileServer/user_pub_work/CMIP6/DAMIP/E3SM-Project/E3SM-2-0/hist-aer/r5i1p1f1/Amon/tas/gr/v20220907/tas_Amon_E3SM-2-0_hist-aer_r5i1p1f1_gr_195001-199912.nc'},\n",
       " {'filename': 'tas_Amon_E3SM-2-0_hist-aer_r5i1p1f1_gr_200001-201412.nc',\n",
       "  'url': 'https://esgf-data2.llnl.gov/thredds/fileServer/user_pub_work/CMIP6/DAMIP/E3SM-Project/E3SM-2-0/hist-aer/r5i1p1f1/Amon/tas/gr/v20220907/tas_Amon_E3SM-2-0_hist-aer_r5i1p1f1_gr_200001-201412.nc'}]"
      ]
     },
     "execution_count": 8,
     "metadata": {},
     "output_type": "execute_result"
    }
   ],
   "source": [
    "files_list_mt = extract_file_context_multithread(results)\n",
    "\n",
    "files_list_mt"
   ]
  },
  {
   "cell_type": "code",
   "execution_count": 9,
   "metadata": {},
   "outputs": [],
   "source": [
    "files_list = files_list_mt"
   ]
  },
  {
   "cell_type": "code",
   "execution_count": 11,
   "metadata": {},
   "outputs": [
    {
     "name": "stdout",
     "output_type": "stream",
     "text": [
      "<class 'list'>\n"
     ]
    },
    {
     "data": {
      "text/html": [
       "<div>\n",
       "<style scoped>\n",
       "    .dataframe tbody tr th:only-of-type {\n",
       "        vertical-align: middle;\n",
       "    }\n",
       "\n",
       "    .dataframe tbody tr th {\n",
       "        vertical-align: top;\n",
       "    }\n",
       "\n",
       "    .dataframe thead th {\n",
       "        text-align: right;\n",
       "    }\n",
       "</style>\n",
       "<table border=\"1\" class=\"dataframe\">\n",
       "  <thead>\n",
       "    <tr style=\"text-align: right;\">\n",
       "      <th></th>\n",
       "      <th>filename</th>\n",
       "      <th>url</th>\n",
       "    </tr>\n",
       "  </thead>\n",
       "  <tbody>\n",
       "    <tr>\n",
       "      <th>0</th>\n",
       "      <td>tas_Amon_E3SM-2-0_hist-aer_r2i1p1f1_gr_185001-...</td>\n",
       "      <td>https://esgf-data2.llnl.gov/thredds/fileServer...</td>\n",
       "    </tr>\n",
       "    <tr>\n",
       "      <th>1</th>\n",
       "      <td>tas_Amon_E3SM-2-0_hist-aer_r2i1p1f1_gr_190001-...</td>\n",
       "      <td>https://esgf-data2.llnl.gov/thredds/fileServer...</td>\n",
       "    </tr>\n",
       "    <tr>\n",
       "      <th>2</th>\n",
       "      <td>tas_Amon_E3SM-2-0_hist-aer_r2i1p1f1_gr_195001-...</td>\n",
       "      <td>https://esgf-data2.llnl.gov/thredds/fileServer...</td>\n",
       "    </tr>\n",
       "    <tr>\n",
       "      <th>3</th>\n",
       "      <td>tas_Amon_E3SM-2-0_hist-aer_r2i1p1f1_gr_200001-...</td>\n",
       "      <td>https://esgf-data2.llnl.gov/thredds/fileServer...</td>\n",
       "    </tr>\n",
       "    <tr>\n",
       "      <th>4</th>\n",
       "      <td>tas_Amon_E3SM-2-0_hist-aer_r1i1p1f1_gr_185001-...</td>\n",
       "      <td>https://esgf-data2.llnl.gov/thredds/fileServer...</td>\n",
       "    </tr>\n",
       "    <tr>\n",
       "      <th>5</th>\n",
       "      <td>tas_Amon_E3SM-2-0_hist-aer_r1i1p1f1_gr_190001-...</td>\n",
       "      <td>https://esgf-data2.llnl.gov/thredds/fileServer...</td>\n",
       "    </tr>\n",
       "    <tr>\n",
       "      <th>6</th>\n",
       "      <td>tas_Amon_E3SM-2-0_hist-aer_r1i1p1f1_gr_195001-...</td>\n",
       "      <td>https://esgf-data2.llnl.gov/thredds/fileServer...</td>\n",
       "    </tr>\n",
       "    <tr>\n",
       "      <th>7</th>\n",
       "      <td>tas_Amon_E3SM-2-0_hist-aer_r1i1p1f1_gr_200001-...</td>\n",
       "      <td>https://esgf-data2.llnl.gov/thredds/fileServer...</td>\n",
       "    </tr>\n",
       "    <tr>\n",
       "      <th>8</th>\n",
       "      <td>tas_Amon_E3SM-2-0_hist-aer_r3i1p1f1_gr_185001-...</td>\n",
       "      <td>https://esgf-data2.llnl.gov/thredds/fileServer...</td>\n",
       "    </tr>\n",
       "    <tr>\n",
       "      <th>9</th>\n",
       "      <td>tas_Amon_E3SM-2-0_hist-aer_r3i1p1f1_gr_190001-...</td>\n",
       "      <td>https://esgf-data2.llnl.gov/thredds/fileServer...</td>\n",
       "    </tr>\n",
       "    <tr>\n",
       "      <th>10</th>\n",
       "      <td>tas_Amon_E3SM-2-0_hist-aer_r3i1p1f1_gr_195001-...</td>\n",
       "      <td>https://esgf-data2.llnl.gov/thredds/fileServer...</td>\n",
       "    </tr>\n",
       "    <tr>\n",
       "      <th>11</th>\n",
       "      <td>tas_Amon_E3SM-2-0_hist-aer_r3i1p1f1_gr_200001-...</td>\n",
       "      <td>https://esgf-data2.llnl.gov/thredds/fileServer...</td>\n",
       "    </tr>\n",
       "    <tr>\n",
       "      <th>12</th>\n",
       "      <td>tas_Amon_E3SM-2-0_hist-aer_r4i1p1f1_gr_185001-...</td>\n",
       "      <td>https://esgf-data2.llnl.gov/thredds/fileServer...</td>\n",
       "    </tr>\n",
       "    <tr>\n",
       "      <th>13</th>\n",
       "      <td>tas_Amon_E3SM-2-0_hist-aer_r4i1p1f1_gr_190001-...</td>\n",
       "      <td>https://esgf-data2.llnl.gov/thredds/fileServer...</td>\n",
       "    </tr>\n",
       "    <tr>\n",
       "      <th>14</th>\n",
       "      <td>tas_Amon_E3SM-2-0_hist-aer_r4i1p1f1_gr_195001-...</td>\n",
       "      <td>https://esgf-data2.llnl.gov/thredds/fileServer...</td>\n",
       "    </tr>\n",
       "    <tr>\n",
       "      <th>15</th>\n",
       "      <td>tas_Amon_E3SM-2-0_hist-aer_r4i1p1f1_gr_200001-...</td>\n",
       "      <td>https://esgf-data2.llnl.gov/thredds/fileServer...</td>\n",
       "    </tr>\n",
       "    <tr>\n",
       "      <th>16</th>\n",
       "      <td>tas_Amon_E3SM-2-0_hist-aer_r5i1p1f1_gr_185001-...</td>\n",
       "      <td>https://esgf-data2.llnl.gov/thredds/fileServer...</td>\n",
       "    </tr>\n",
       "    <tr>\n",
       "      <th>17</th>\n",
       "      <td>tas_Amon_E3SM-2-0_hist-aer_r5i1p1f1_gr_190001-...</td>\n",
       "      <td>https://esgf-data2.llnl.gov/thredds/fileServer...</td>\n",
       "    </tr>\n",
       "    <tr>\n",
       "      <th>18</th>\n",
       "      <td>tas_Amon_E3SM-2-0_hist-aer_r5i1p1f1_gr_195001-...</td>\n",
       "      <td>https://esgf-data2.llnl.gov/thredds/fileServer...</td>\n",
       "    </tr>\n",
       "    <tr>\n",
       "      <th>19</th>\n",
       "      <td>tas_Amon_E3SM-2-0_hist-aer_r5i1p1f1_gr_200001-...</td>\n",
       "      <td>https://esgf-data2.llnl.gov/thredds/fileServer...</td>\n",
       "    </tr>\n",
       "  </tbody>\n",
       "</table>\n",
       "</div>"
      ],
      "text/plain": [
       "                                             filename  \\\n",
       "0   tas_Amon_E3SM-2-0_hist-aer_r2i1p1f1_gr_185001-...   \n",
       "1   tas_Amon_E3SM-2-0_hist-aer_r2i1p1f1_gr_190001-...   \n",
       "2   tas_Amon_E3SM-2-0_hist-aer_r2i1p1f1_gr_195001-...   \n",
       "3   tas_Amon_E3SM-2-0_hist-aer_r2i1p1f1_gr_200001-...   \n",
       "4   tas_Amon_E3SM-2-0_hist-aer_r1i1p1f1_gr_185001-...   \n",
       "5   tas_Amon_E3SM-2-0_hist-aer_r1i1p1f1_gr_190001-...   \n",
       "6   tas_Amon_E3SM-2-0_hist-aer_r1i1p1f1_gr_195001-...   \n",
       "7   tas_Amon_E3SM-2-0_hist-aer_r1i1p1f1_gr_200001-...   \n",
       "8   tas_Amon_E3SM-2-0_hist-aer_r3i1p1f1_gr_185001-...   \n",
       "9   tas_Amon_E3SM-2-0_hist-aer_r3i1p1f1_gr_190001-...   \n",
       "10  tas_Amon_E3SM-2-0_hist-aer_r3i1p1f1_gr_195001-...   \n",
       "11  tas_Amon_E3SM-2-0_hist-aer_r3i1p1f1_gr_200001-...   \n",
       "12  tas_Amon_E3SM-2-0_hist-aer_r4i1p1f1_gr_185001-...   \n",
       "13  tas_Amon_E3SM-2-0_hist-aer_r4i1p1f1_gr_190001-...   \n",
       "14  tas_Amon_E3SM-2-0_hist-aer_r4i1p1f1_gr_195001-...   \n",
       "15  tas_Amon_E3SM-2-0_hist-aer_r4i1p1f1_gr_200001-...   \n",
       "16  tas_Amon_E3SM-2-0_hist-aer_r5i1p1f1_gr_185001-...   \n",
       "17  tas_Amon_E3SM-2-0_hist-aer_r5i1p1f1_gr_190001-...   \n",
       "18  tas_Amon_E3SM-2-0_hist-aer_r5i1p1f1_gr_195001-...   \n",
       "19  tas_Amon_E3SM-2-0_hist-aer_r5i1p1f1_gr_200001-...   \n",
       "\n",
       "                                                  url  \n",
       "0   https://esgf-data2.llnl.gov/thredds/fileServer...  \n",
       "1   https://esgf-data2.llnl.gov/thredds/fileServer...  \n",
       "2   https://esgf-data2.llnl.gov/thredds/fileServer...  \n",
       "3   https://esgf-data2.llnl.gov/thredds/fileServer...  \n",
       "4   https://esgf-data2.llnl.gov/thredds/fileServer...  \n",
       "5   https://esgf-data2.llnl.gov/thredds/fileServer...  \n",
       "6   https://esgf-data2.llnl.gov/thredds/fileServer...  \n",
       "7   https://esgf-data2.llnl.gov/thredds/fileServer...  \n",
       "8   https://esgf-data2.llnl.gov/thredds/fileServer...  \n",
       "9   https://esgf-data2.llnl.gov/thredds/fileServer...  \n",
       "10  https://esgf-data2.llnl.gov/thredds/fileServer...  \n",
       "11  https://esgf-data2.llnl.gov/thredds/fileServer...  \n",
       "12  https://esgf-data2.llnl.gov/thredds/fileServer...  \n",
       "13  https://esgf-data2.llnl.gov/thredds/fileServer...  \n",
       "14  https://esgf-data2.llnl.gov/thredds/fileServer...  \n",
       "15  https://esgf-data2.llnl.gov/thredds/fileServer...  \n",
       "16  https://esgf-data2.llnl.gov/thredds/fileServer...  \n",
       "17  https://esgf-data2.llnl.gov/thredds/fileServer...  \n",
       "18  https://esgf-data2.llnl.gov/thredds/fileServer...  \n",
       "19  https://esgf-data2.llnl.gov/thredds/fileServer...  "
      ]
     },
     "execution_count": 11,
     "metadata": {},
     "output_type": "execute_result"
    }
   ],
   "source": [
    "# Print the type of the files list\n",
    "print(type(files_list))\n",
    "\n",
    "# Extract this into a dataframe\n",
    "files_df = pd.DataFrame.from_dict(files_list)\n",
    "files_df\n",
    "\n",
    "# Assert that all filenames contrain the string \"185001\" and \"202012\"\n",
    "# assert all(files_df['filename'].str.contains('185001')), \"Not all filenames contain the string 185001\"\n",
    "# assert all(files_df['filename'].str.contains('202012')), \"Not all filenames contain the string 202012\"\n",
    "\n",
    "files_df"
   ]
  },
  {
   "cell_type": "code",
   "execution_count": 12,
   "metadata": {},
   "outputs": [
    {
     "name": "stdout",
     "output_type": "stream",
     "text": [
      "E3SM-Project\n",
      "File does not exist for tas_Amon_E3SM-2-0_hist-aer_r2i1p1f1_gr_185001-189912.nc\n",
      "E3SM-Project\n",
      "File does not exist for tas_Amon_E3SM-2-0_hist-aer_r2i1p1f1_gr_190001-194912.nc\n",
      "E3SM-Project\n",
      "File does not exist for tas_Amon_E3SM-2-0_hist-aer_r2i1p1f1_gr_195001-199912.nc\n",
      "E3SM-Project\n",
      "File does not exist for tas_Amon_E3SM-2-0_hist-aer_r2i1p1f1_gr_200001-201412.nc\n",
      "E3SM-Project\n",
      "File does not exist for tas_Amon_E3SM-2-0_hist-aer_r1i1p1f1_gr_185001-189912.nc\n",
      "E3SM-Project\n",
      "File does not exist for tas_Amon_E3SM-2-0_hist-aer_r1i1p1f1_gr_190001-194912.nc\n",
      "E3SM-Project\n",
      "File does not exist for tas_Amon_E3SM-2-0_hist-aer_r1i1p1f1_gr_195001-199912.nc\n",
      "E3SM-Project\n",
      "File does not exist for tas_Amon_E3SM-2-0_hist-aer_r1i1p1f1_gr_200001-201412.nc\n",
      "E3SM-Project\n",
      "File does not exist for tas_Amon_E3SM-2-0_hist-aer_r3i1p1f1_gr_185001-189912.nc\n",
      "E3SM-Project\n",
      "File does not exist for tas_Amon_E3SM-2-0_hist-aer_r3i1p1f1_gr_190001-194912.nc\n",
      "E3SM-Project\n",
      "File does not exist for tas_Amon_E3SM-2-0_hist-aer_r3i1p1f1_gr_195001-199912.nc\n",
      "E3SM-Project\n",
      "File does not exist for tas_Amon_E3SM-2-0_hist-aer_r3i1p1f1_gr_200001-201412.nc\n",
      "E3SM-Project\n",
      "File does not exist for tas_Amon_E3SM-2-0_hist-aer_r4i1p1f1_gr_185001-189912.nc\n",
      "E3SM-Project\n",
      "File does not exist for tas_Amon_E3SM-2-0_hist-aer_r4i1p1f1_gr_190001-194912.nc\n",
      "E3SM-Project\n",
      "File does not exist for tas_Amon_E3SM-2-0_hist-aer_r4i1p1f1_gr_195001-199912.nc\n",
      "E3SM-Project\n",
      "File does not exist for tas_Amon_E3SM-2-0_hist-aer_r4i1p1f1_gr_200001-201412.nc\n",
      "E3SM-Project\n",
      "File does not exist for tas_Amon_E3SM-2-0_hist-aer_r5i1p1f1_gr_185001-189912.nc\n",
      "E3SM-Project\n",
      "File does not exist for tas_Amon_E3SM-2-0_hist-aer_r5i1p1f1_gr_190001-194912.nc\n",
      "E3SM-Project\n",
      "File does not exist for tas_Amon_E3SM-2-0_hist-aer_r5i1p1f1_gr_195001-199912.nc\n",
      "E3SM-Project\n",
      "File does not exist for tas_Amon_E3SM-2-0_hist-aer_r5i1p1f1_gr_200001-201412.nc\n"
     ]
    },
    {
     "data": {
      "text/html": [
       "<div>\n",
       "<style scoped>\n",
       "    .dataframe tbody tr th:only-of-type {\n",
       "        vertical-align: middle;\n",
       "    }\n",
       "\n",
       "    .dataframe tbody tr th {\n",
       "        vertical-align: top;\n",
       "    }\n",
       "\n",
       "    .dataframe thead th {\n",
       "        text-align: right;\n",
       "    }\n",
       "</style>\n",
       "<table border=\"1\" class=\"dataframe\">\n",
       "  <thead>\n",
       "    <tr style=\"text-align: right;\">\n",
       "      <th></th>\n",
       "      <th>filename</th>\n",
       "      <th>url</th>\n",
       "      <th>file_exists</th>\n",
       "    </tr>\n",
       "  </thead>\n",
       "  <tbody>\n",
       "    <tr>\n",
       "      <th>0</th>\n",
       "      <td>tas_Amon_E3SM-2-0_hist-aer_r2i1p1f1_gr_185001-...</td>\n",
       "      <td>https://esgf-data2.llnl.gov/thredds/fileServer...</td>\n",
       "      <td>False</td>\n",
       "    </tr>\n",
       "    <tr>\n",
       "      <th>1</th>\n",
       "      <td>tas_Amon_E3SM-2-0_hist-aer_r2i1p1f1_gr_190001-...</td>\n",
       "      <td>https://esgf-data2.llnl.gov/thredds/fileServer...</td>\n",
       "      <td>False</td>\n",
       "    </tr>\n",
       "    <tr>\n",
       "      <th>2</th>\n",
       "      <td>tas_Amon_E3SM-2-0_hist-aer_r2i1p1f1_gr_195001-...</td>\n",
       "      <td>https://esgf-data2.llnl.gov/thredds/fileServer...</td>\n",
       "      <td>False</td>\n",
       "    </tr>\n",
       "    <tr>\n",
       "      <th>3</th>\n",
       "      <td>tas_Amon_E3SM-2-0_hist-aer_r2i1p1f1_gr_200001-...</td>\n",
       "      <td>https://esgf-data2.llnl.gov/thredds/fileServer...</td>\n",
       "      <td>False</td>\n",
       "    </tr>\n",
       "    <tr>\n",
       "      <th>4</th>\n",
       "      <td>tas_Amon_E3SM-2-0_hist-aer_r1i1p1f1_gr_185001-...</td>\n",
       "      <td>https://esgf-data2.llnl.gov/thredds/fileServer...</td>\n",
       "      <td>False</td>\n",
       "    </tr>\n",
       "    <tr>\n",
       "      <th>5</th>\n",
       "      <td>tas_Amon_E3SM-2-0_hist-aer_r1i1p1f1_gr_190001-...</td>\n",
       "      <td>https://esgf-data2.llnl.gov/thredds/fileServer...</td>\n",
       "      <td>False</td>\n",
       "    </tr>\n",
       "    <tr>\n",
       "      <th>6</th>\n",
       "      <td>tas_Amon_E3SM-2-0_hist-aer_r1i1p1f1_gr_195001-...</td>\n",
       "      <td>https://esgf-data2.llnl.gov/thredds/fileServer...</td>\n",
       "      <td>False</td>\n",
       "    </tr>\n",
       "    <tr>\n",
       "      <th>7</th>\n",
       "      <td>tas_Amon_E3SM-2-0_hist-aer_r1i1p1f1_gr_200001-...</td>\n",
       "      <td>https://esgf-data2.llnl.gov/thredds/fileServer...</td>\n",
       "      <td>False</td>\n",
       "    </tr>\n",
       "    <tr>\n",
       "      <th>8</th>\n",
       "      <td>tas_Amon_E3SM-2-0_hist-aer_r3i1p1f1_gr_185001-...</td>\n",
       "      <td>https://esgf-data2.llnl.gov/thredds/fileServer...</td>\n",
       "      <td>False</td>\n",
       "    </tr>\n",
       "    <tr>\n",
       "      <th>9</th>\n",
       "      <td>tas_Amon_E3SM-2-0_hist-aer_r3i1p1f1_gr_190001-...</td>\n",
       "      <td>https://esgf-data2.llnl.gov/thredds/fileServer...</td>\n",
       "      <td>False</td>\n",
       "    </tr>\n",
       "    <tr>\n",
       "      <th>10</th>\n",
       "      <td>tas_Amon_E3SM-2-0_hist-aer_r3i1p1f1_gr_195001-...</td>\n",
       "      <td>https://esgf-data2.llnl.gov/thredds/fileServer...</td>\n",
       "      <td>False</td>\n",
       "    </tr>\n",
       "    <tr>\n",
       "      <th>11</th>\n",
       "      <td>tas_Amon_E3SM-2-0_hist-aer_r3i1p1f1_gr_200001-...</td>\n",
       "      <td>https://esgf-data2.llnl.gov/thredds/fileServer...</td>\n",
       "      <td>False</td>\n",
       "    </tr>\n",
       "    <tr>\n",
       "      <th>12</th>\n",
       "      <td>tas_Amon_E3SM-2-0_hist-aer_r4i1p1f1_gr_185001-...</td>\n",
       "      <td>https://esgf-data2.llnl.gov/thredds/fileServer...</td>\n",
       "      <td>False</td>\n",
       "    </tr>\n",
       "    <tr>\n",
       "      <th>13</th>\n",
       "      <td>tas_Amon_E3SM-2-0_hist-aer_r4i1p1f1_gr_190001-...</td>\n",
       "      <td>https://esgf-data2.llnl.gov/thredds/fileServer...</td>\n",
       "      <td>False</td>\n",
       "    </tr>\n",
       "    <tr>\n",
       "      <th>14</th>\n",
       "      <td>tas_Amon_E3SM-2-0_hist-aer_r4i1p1f1_gr_195001-...</td>\n",
       "      <td>https://esgf-data2.llnl.gov/thredds/fileServer...</td>\n",
       "      <td>False</td>\n",
       "    </tr>\n",
       "    <tr>\n",
       "      <th>15</th>\n",
       "      <td>tas_Amon_E3SM-2-0_hist-aer_r4i1p1f1_gr_200001-...</td>\n",
       "      <td>https://esgf-data2.llnl.gov/thredds/fileServer...</td>\n",
       "      <td>False</td>\n",
       "    </tr>\n",
       "    <tr>\n",
       "      <th>16</th>\n",
       "      <td>tas_Amon_E3SM-2-0_hist-aer_r5i1p1f1_gr_185001-...</td>\n",
       "      <td>https://esgf-data2.llnl.gov/thredds/fileServer...</td>\n",
       "      <td>False</td>\n",
       "    </tr>\n",
       "    <tr>\n",
       "      <th>17</th>\n",
       "      <td>tas_Amon_E3SM-2-0_hist-aer_r5i1p1f1_gr_190001-...</td>\n",
       "      <td>https://esgf-data2.llnl.gov/thredds/fileServer...</td>\n",
       "      <td>False</td>\n",
       "    </tr>\n",
       "    <tr>\n",
       "      <th>18</th>\n",
       "      <td>tas_Amon_E3SM-2-0_hist-aer_r5i1p1f1_gr_195001-...</td>\n",
       "      <td>https://esgf-data2.llnl.gov/thredds/fileServer...</td>\n",
       "      <td>False</td>\n",
       "    </tr>\n",
       "    <tr>\n",
       "      <th>19</th>\n",
       "      <td>tas_Amon_E3SM-2-0_hist-aer_r5i1p1f1_gr_200001-...</td>\n",
       "      <td>https://esgf-data2.llnl.gov/thredds/fileServer...</td>\n",
       "      <td>False</td>\n",
       "    </tr>\n",
       "  </tbody>\n",
       "</table>\n",
       "</div>"
      ],
      "text/plain": [
       "                                             filename  \\\n",
       "0   tas_Amon_E3SM-2-0_hist-aer_r2i1p1f1_gr_185001-...   \n",
       "1   tas_Amon_E3SM-2-0_hist-aer_r2i1p1f1_gr_190001-...   \n",
       "2   tas_Amon_E3SM-2-0_hist-aer_r2i1p1f1_gr_195001-...   \n",
       "3   tas_Amon_E3SM-2-0_hist-aer_r2i1p1f1_gr_200001-...   \n",
       "4   tas_Amon_E3SM-2-0_hist-aer_r1i1p1f1_gr_185001-...   \n",
       "5   tas_Amon_E3SM-2-0_hist-aer_r1i1p1f1_gr_190001-...   \n",
       "6   tas_Amon_E3SM-2-0_hist-aer_r1i1p1f1_gr_195001-...   \n",
       "7   tas_Amon_E3SM-2-0_hist-aer_r1i1p1f1_gr_200001-...   \n",
       "8   tas_Amon_E3SM-2-0_hist-aer_r3i1p1f1_gr_185001-...   \n",
       "9   tas_Amon_E3SM-2-0_hist-aer_r3i1p1f1_gr_190001-...   \n",
       "10  tas_Amon_E3SM-2-0_hist-aer_r3i1p1f1_gr_195001-...   \n",
       "11  tas_Amon_E3SM-2-0_hist-aer_r3i1p1f1_gr_200001-...   \n",
       "12  tas_Amon_E3SM-2-0_hist-aer_r4i1p1f1_gr_185001-...   \n",
       "13  tas_Amon_E3SM-2-0_hist-aer_r4i1p1f1_gr_190001-...   \n",
       "14  tas_Amon_E3SM-2-0_hist-aer_r4i1p1f1_gr_195001-...   \n",
       "15  tas_Amon_E3SM-2-0_hist-aer_r4i1p1f1_gr_200001-...   \n",
       "16  tas_Amon_E3SM-2-0_hist-aer_r5i1p1f1_gr_185001-...   \n",
       "17  tas_Amon_E3SM-2-0_hist-aer_r5i1p1f1_gr_190001-...   \n",
       "18  tas_Amon_E3SM-2-0_hist-aer_r5i1p1f1_gr_195001-...   \n",
       "19  tas_Amon_E3SM-2-0_hist-aer_r5i1p1f1_gr_200001-...   \n",
       "\n",
       "                                                  url  file_exists  \n",
       "0   https://esgf-data2.llnl.gov/thredds/fileServer...        False  \n",
       "1   https://esgf-data2.llnl.gov/thredds/fileServer...        False  \n",
       "2   https://esgf-data2.llnl.gov/thredds/fileServer...        False  \n",
       "3   https://esgf-data2.llnl.gov/thredds/fileServer...        False  \n",
       "4   https://esgf-data2.llnl.gov/thredds/fileServer...        False  \n",
       "5   https://esgf-data2.llnl.gov/thredds/fileServer...        False  \n",
       "6   https://esgf-data2.llnl.gov/thredds/fileServer...        False  \n",
       "7   https://esgf-data2.llnl.gov/thredds/fileServer...        False  \n",
       "8   https://esgf-data2.llnl.gov/thredds/fileServer...        False  \n",
       "9   https://esgf-data2.llnl.gov/thredds/fileServer...        False  \n",
       "10  https://esgf-data2.llnl.gov/thredds/fileServer...        False  \n",
       "11  https://esgf-data2.llnl.gov/thredds/fileServer...        False  \n",
       "12  https://esgf-data2.llnl.gov/thredds/fileServer...        False  \n",
       "13  https://esgf-data2.llnl.gov/thredds/fileServer...        False  \n",
       "14  https://esgf-data2.llnl.gov/thredds/fileServer...        False  \n",
       "15  https://esgf-data2.llnl.gov/thredds/fileServer...        False  \n",
       "16  https://esgf-data2.llnl.gov/thredds/fileServer...        False  \n",
       "17  https://esgf-data2.llnl.gov/thredds/fileServer...        False  \n",
       "18  https://esgf-data2.llnl.gov/thredds/fileServer...        False  \n",
       "19  https://esgf-data2.llnl.gov/thredds/fileServer...        False  "
      ]
     },
     "execution_count": 12,
     "metadata": {},
     "output_type": "execute_result"
    }
   ],
   "source": [
    "import glob\n",
    "\n",
    "# We want to verify whether these files exist on JASMIN\n",
    "damip_dir = \"/badc/cmip6/data/CMIP6/DAMIP/\"\n",
    "\n",
    "# Test the function\n",
    "files_df = check_file_exists_jasmin(files_df, damip_dir)\n",
    "\n",
    "files_df"
   ]
  },
  {
   "cell_type": "code",
   "execution_count": 10,
   "metadata": {},
   "outputs": [
    {
     "name": "stdout",
     "output_type": "stream",
     "text": [
      "/gws/nopw/j04/scenario/users/benhutch/DAMIP/hist-aer/tas/CanESM5\n",
      "Downloading tas_Amon_CanESM5_hist-aer_r1i1p1f1_gn_185001-202012.nc from http://crd-esgf-drc.ec.gc.ca/thredds/fileServer/esgE_dataroot/AR6/CMIP6/DAMIP/CCCma/CanESM5/hist-aer/r1i1p1f1/Amon/tas/gn/v20190429/tas_Amon_CanESM5_hist-aer_r1i1p1f1_gn_185001-202012.nc\n",
      "Saving to /gws/nopw/j04/scenario/users/benhutch/DAMIP/hist-aer/tas/CanESM5tas_Amon_CanESM5_hist-aer_r1i1p1f1_gn_185001-202012.nc\n"
     ]
    },
    {
     "name": "stderr",
     "output_type": "stream",
     "text": [
      "53.1kKiB [00:46, 1.13kKiB/s]                          \n"
     ]
    },
    {
     "name": "stdout",
     "output_type": "stream",
     "text": [
      "Downloaded size does not match expected size!\n",
      " FYI, the status code was  200\n"
     ]
    }
   ],
   "source": [
    "# Set up the directory to download to\n",
    "download_dir = \"/gws/nopw/j04/scenario/users/benhutch/DAMIP\"\n",
    "\n",
    "# Set up the variable\n",
    "variable = 'tas'\n",
    "\n",
    "# Set up the experiment id\n",
    "experiment_id = 'hist-aer'\n",
    "\n",
    "# Set up the model\n",
    "model = 'CanESM5'\n",
    "\n",
    "# Set up the directory\n",
    "download_path = os.path.join(download_dir, experiment_id, \n",
    "                             variable, model)\n",
    "\n",
    "# Print the download path\n",
    "print(download_path)\n",
    "\n",
    "# Use the download function to download a single file\n",
    "download_file(files_df['url'][0], \n",
    "              files_df['filename'][0], download_path)"
   ]
  },
  {
   "cell_type": "code",
   "execution_count": 11,
   "metadata": {},
   "outputs": [
    {
     "name": "stderr",
     "output_type": "stream",
     "text": [
      "  0%|          | 0/5 [00:00<?, ?it/s]"
     ]
    },
    {
     "name": "stdout",
     "output_type": "stream",
     "text": [
      "Downloading tas_Amon_CanESM5_hist-aer_r1i1p1f1_gn_185001-202012.nc from http://crd-esgf-drc.ec.gc.ca/thredds/fileServer/esgE_dataroot/AR6/CMIP6/DAMIP/CCCma/CanESM5/hist-aer/r1i1p1f1/Amon/tas/gn/v20190429/tas_Amon_CanESM5_hist-aer_r1i1p1f1_gn_185001-202012.nc\n",
      "Saving to /gws/nopw/j04/scenario/users/benhutch/DAMIP/hist-aer/tas/CanESM5tas_Amon_CanESM5_hist-aer_r1i1p1f1_gn_185001-202012.nc\n"
     ]
    },
    {
     "name": "stderr",
     "output_type": "stream",
     "text": [
      "53.1kKiB [00:05, 10.5kKiB/s]                          \n",
      " 20%|██        | 1/5 [00:05<00:23,  5.86s/it]"
     ]
    },
    {
     "name": "stdout",
     "output_type": "stream",
     "text": [
      "Downloaded size does not match expected size!\n",
      " FYI, the status code was  200\n",
      "Downloading tas_Amon_CanESM5_hist-aer_r4i1p1f1_gn_185001-202012.nc from http://crd-esgf-drc.ec.gc.ca/thredds/fileServer/esgE_dataroot/AR6/CMIP6/DAMIP/CCCma/CanESM5/hist-aer/r4i1p1f1/Amon/tas/gn/v20190429/tas_Amon_CanESM5_hist-aer_r4i1p1f1_gn_185001-202012.nc\n",
      "Saving to /gws/nopw/j04/scenario/users/benhutch/DAMIP/hist-aer/tas/CanESM5tas_Amon_CanESM5_hist-aer_r4i1p1f1_gn_185001-202012.nc\n"
     ]
    },
    {
     "name": "stderr",
     "output_type": "stream",
     "text": [
      "53.1kKiB [00:02, 22.6kKiB/s]                          \n",
      " 40%|████      | 2/5 [00:08<00:12,  4.25s/it]"
     ]
    },
    {
     "name": "stdout",
     "output_type": "stream",
     "text": [
      "Downloaded size does not match expected size!\n",
      " FYI, the status code was  200\n",
      "Downloading tas_Amon_CanESM5_hist-aer_r2i1p1f1_gn_185001-202012.nc from http://crd-esgf-drc.ec.gc.ca/thredds/fileServer/esgE_dataroot/AR6/CMIP6/DAMIP/CCCma/CanESM5/hist-aer/r2i1p1f1/Amon/tas/gn/v20190429/tas_Amon_CanESM5_hist-aer_r2i1p1f1_gn_185001-202012.nc\n",
      "Saving to /gws/nopw/j04/scenario/users/benhutch/DAMIP/hist-aer/tas/CanESM5tas_Amon_CanESM5_hist-aer_r2i1p1f1_gn_185001-202012.nc\n"
     ]
    },
    {
     "name": "stderr",
     "output_type": "stream",
     "text": [
      "53.1kKiB [00:19, 2.73kKiB/s]                          \n"
     ]
    },
    {
     "name": "stdout",
     "output_type": "stream",
     "text": [
      "Downloaded size does not match expected size!\n",
      " FYI, the status code was  200\n"
     ]
    },
    {
     "name": "stderr",
     "output_type": "stream",
     "text": [
      " 60%|██████    | 3/5 [00:29<00:23, 11.58s/it]"
     ]
    },
    {
     "name": "stdout",
     "output_type": "stream",
     "text": [
      "Downloading tas_Amon_CanESM5_hist-aer_r5i1p1f1_gn_185001-202012.nc from http://crd-esgf-drc.ec.gc.ca/thredds/fileServer/esgE_dataroot/AR6/CMIP6/DAMIP/CCCma/CanESM5/hist-aer/r5i1p1f1/Amon/tas/gn/v20190429/tas_Amon_CanESM5_hist-aer_r5i1p1f1_gn_185001-202012.nc\n",
      "Saving to /gws/nopw/j04/scenario/users/benhutch/DAMIP/hist-aer/tas/CanESM5tas_Amon_CanESM5_hist-aer_r5i1p1f1_gn_185001-202012.nc\n"
     ]
    },
    {
     "name": "stderr",
     "output_type": "stream",
     "text": [
      "53.1kKiB [00:02, 23.0kKiB/s]                          \n",
      " 80%|████████  | 4/5 [00:32<00:08,  8.18s/it]"
     ]
    },
    {
     "name": "stdout",
     "output_type": "stream",
     "text": [
      "Downloaded size does not match expected size!\n",
      " FYI, the status code was  200\n",
      "Downloading tas_Amon_CanESM5_hist-aer_r3i1p1f1_gn_185001-202012.nc from http://crd-esgf-drc.ec.gc.ca/thredds/fileServer/esgE_dataroot/AR6/CMIP6/DAMIP/CCCma/CanESM5/hist-aer/r3i1p1f1/Amon/tas/gn/v20190429/tas_Amon_CanESM5_hist-aer_r3i1p1f1_gn_185001-202012.nc\n",
      "Saving to /gws/nopw/j04/scenario/users/benhutch/DAMIP/hist-aer/tas/CanESM5tas_Amon_CanESM5_hist-aer_r3i1p1f1_gn_185001-202012.nc\n"
     ]
    },
    {
     "name": "stderr",
     "output_type": "stream",
     "text": [
      "53.1kKiB [00:13, 3.82kKiB/s]                          \n",
      "100%|██████████| 5/5 [00:46<00:00,  9.39s/it]"
     ]
    },
    {
     "name": "stdout",
     "output_type": "stream",
     "text": [
      "Downloaded size does not match expected size!\n",
      " FYI, the status code was  200\n"
     ]
    },
    {
     "name": "stderr",
     "output_type": "stream",
     "text": [
      "\n"
     ]
    }
   ],
   "source": [
    "# Download all the files\n",
    "for i in tqdm(range(len(files_df))):\n",
    "    download_file(files_df['url'][i], \n",
    "                  files_df['filename'][i], download_path)"
   ]
  }
 ],
 "metadata": {
  "kernelspec": {
   "display_name": "Python 3",
   "language": "python",
   "name": "python3"
  },
  "language_info": {
   "codemirror_mode": {
    "name": "ipython",
    "version": 3
   },
   "file_extension": ".py",
   "mimetype": "text/x-python",
   "name": "python",
   "nbconvert_exporter": "python",
   "pygments_lexer": "ipython3",
   "version": "3.10.5"
  }
 },
 "nbformat": 4,
 "nbformat_minor": 2
}
