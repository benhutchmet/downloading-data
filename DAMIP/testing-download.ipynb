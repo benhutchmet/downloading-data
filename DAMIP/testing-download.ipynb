{
 "cells": [
  {
   "cell_type": "code",
   "execution_count": 19,
   "metadata": {},
   "outputs": [],
   "source": [
    "# Testing the downloading data method from:\n",
    "# https://claut.gitlab.io/man_ccia/lab2.html\n",
    "# Import the required modules\n",
    "from pyesgf.search import SearchConnection\n",
    "import os\n",
    "import sys\n",
    "import importlib\n",
    "import pandas as pd\n",
    "import requests\n",
    "from tqdm import tqdm\n",
    "\n",
    "# Set the os environment to on\n",
    "os.environ['ESGF_PYCLIENT_NO_FACETS_STAR_WARNING'] = \"on\""
   ]
  },
  {
   "cell_type": "code",
   "execution_count": 20,
   "metadata": {},
   "outputs": [],
   "source": [
    "# Import the functions\n",
    "from testing_download_functions import query_data_esgf, extract_file_context, \\\n",
    "                                        download_file, extract_file_context_multithread, \\\n",
    "                                        check_file_exists_jasmin, query_models_esgf"
   ]
  },
  {
   "cell_type": "code",
   "execution_count": 21,
   "metadata": {},
   "outputs": [],
   "source": [
    "# Import the functions again\n",
    "# import the functions\n",
    "_ = importlib.reload(sys.modules['testing_download_functions'])\n",
    "\n",
    "# Import the functions\n",
    "from testing_download_functions import query_data_esgf, extract_file_context, \\\n",
    "                                        download_file, extract_file_context_multithread, \\\n",
    "                                        check_file_exists_jasmin, query_models_esgf, find_valid_nodes"
   ]
  },
  {
   "cell_type": "code",
   "execution_count": 22,
   "metadata": {},
   "outputs": [],
   "source": [
    "# set the search connection\n",
    "# to the LLNL search node\n",
    "conn = SearchConnection('https://esgf-node.llnl.gov/esg-search', distrib=True)"
   ]
  },
  {
   "cell_type": "code",
   "execution_count": 23,
   "metadata": {},
   "outputs": [],
   "source": [
    "# Find the models which have data on the esgf node for the following constraints\n",
    "# The constraints are:\n",
    "experiment_id = 'dcppA-hindcast'\n",
    "latest = True\n",
    "variable_id = 'sfcWind'\n",
    "project = 'CMIP6'\n",
    "table_id = 'Amon'\n",
    "activity_id = 'DCPP'\n",
    "sub_experiment_id = 's1962,s1963'"
   ]
  },
  {
   "cell_type": "code",
   "execution_count": 24,
   "metadata": {},
   "outputs": [
    {
     "ename": "KeyboardInterrupt",
     "evalue": "",
     "output_type": "error",
     "traceback": [
      "\u001b[0;31m---------------------------------------------------------------------------\u001b[0m",
      "\u001b[0;31mKeyboardInterrupt\u001b[0m                         Traceback (most recent call last)",
      "Input \u001b[0;32mIn [24]\u001b[0m, in \u001b[0;36m<cell line: 2>\u001b[0;34m()\u001b[0m\n\u001b[1;32m      1\u001b[0m \u001b[38;5;66;03m# Test the function which does the same as below\u001b[39;00m\n\u001b[0;32m----> 2\u001b[0m models_list \u001b[38;5;241m=\u001b[39m \u001b[43mquery_models_esgf\u001b[49m\u001b[43m(\u001b[49m\u001b[43mexperiment_id\u001b[49m\u001b[38;5;241;43m=\u001b[39;49m\u001b[43mexperiment_id\u001b[49m\u001b[43m,\u001b[49m\n\u001b[1;32m      3\u001b[0m \u001b[43m                                \u001b[49m\u001b[43mvariable_id\u001b[49m\u001b[38;5;241;43m=\u001b[39;49m\u001b[43mvariable_id\u001b[49m\u001b[43m,\u001b[49m\n\u001b[1;32m      4\u001b[0m \u001b[43m                                \u001b[49m\u001b[43mtable_id\u001b[49m\u001b[38;5;241;43m=\u001b[39;49m\u001b[43mtable_id\u001b[49m\u001b[43m,\u001b[49m\n\u001b[1;32m      5\u001b[0m \u001b[43m                                \u001b[49m\u001b[43mactivity_id\u001b[49m\u001b[38;5;241;43m=\u001b[39;49m\u001b[43mactivity_id\u001b[49m\u001b[43m,\u001b[49m\n\u001b[1;32m      6\u001b[0m \u001b[43m                                \u001b[49m\u001b[43mconnection\u001b[49m\u001b[38;5;241;43m=\u001b[39;49m\u001b[43mconn\u001b[49m\u001b[43m,\u001b[49m\n\u001b[1;32m      7\u001b[0m \u001b[43m                                \u001b[49m\u001b[43mlatest\u001b[49m\u001b[38;5;241;43m=\u001b[39;49m\u001b[43mlatest\u001b[49m\u001b[43m,\u001b[49m\n\u001b[1;32m      8\u001b[0m \u001b[43m                                \u001b[49m\u001b[43mproject\u001b[49m\u001b[38;5;241;43m=\u001b[39;49m\u001b[43mproject\u001b[49m\u001b[43m,\u001b[49m\n\u001b[1;32m      9\u001b[0m \u001b[43m                                \u001b[49m\u001b[43msub_experiment_id\u001b[49m\u001b[38;5;241;43m=\u001b[39;49m\u001b[43msub_experiment_id\u001b[49m\u001b[43m)\u001b[49m\n\u001b[1;32m     11\u001b[0m \u001b[38;5;66;03m# Print the models list\u001b[39;00m\n\u001b[1;32m     12\u001b[0m \u001b[38;5;28mprint\u001b[39m(models_list)\n",
      "File \u001b[0;32m~/downloading-data/DAMIP/testing_download_functions.py:54\u001b[0m, in \u001b[0;36mquery_models_esgf\u001b[0;34m(experiment_id, variable_id, table_id, activity_id, connection, latest, project, sub_experiment_id)\u001b[0m\n\u001b[1;32m     51\u001b[0m query \u001b[38;5;241m=\u001b[39m connection\u001b[38;5;241m.\u001b[39mnew_context(\u001b[38;5;241m*\u001b[39m\u001b[38;5;241m*\u001b[39mparams)\n\u001b[1;32m     53\u001b[0m \u001b[38;5;66;03m# Get the results\u001b[39;00m\n\u001b[0;32m---> 54\u001b[0m results \u001b[38;5;241m=\u001b[39m \u001b[43mquery\u001b[49m\u001b[38;5;241;43m.\u001b[39;49m\u001b[43msearch\u001b[49m\u001b[43m(\u001b[49m\u001b[43m)\u001b[49m\n\u001b[1;32m     56\u001b[0m \u001b[38;5;28mprint\u001b[39m(\u001b[38;5;124m\"\u001b[39m\u001b[38;5;124mFound \u001b[39m\u001b[38;5;124m\"\u001b[39m \u001b[38;5;241m+\u001b[39m \u001b[38;5;28mstr\u001b[39m(\u001b[38;5;28mlen\u001b[39m(results)) \u001b[38;5;241m+\u001b[39m \u001b[38;5;124m\"\u001b[39m\u001b[38;5;124m results.\u001b[39m\u001b[38;5;124m\"\u001b[39m)\n\u001b[1;32m     58\u001b[0m \u001b[38;5;66;03m# Form a set of the unique 'source_id' values from the results\u001b[39;00m\n",
      "File \u001b[0;32m/apps/jasmin/jaspy/miniconda_envs/jaspy3.10/m3-4.9.2/envs/jaspy3.10-m3-4.9.2-r20220721/lib/python3.10/site-packages/pyesgf/search/context.py:141\u001b[0m, in \u001b[0;36mSearchContext.search\u001b[0;34m(self, batch_size, ignore_facet_check, **constraints)\u001b[0m\n\u001b[1;32m    138\u001b[0m \u001b[38;5;28;01mif\u001b[39;00m \u001b[38;5;129;01mnot\u001b[39;00m ignore_facet_check:\n\u001b[1;32m    139\u001b[0m     sc\u001b[38;5;241m.\u001b[39m__update_counts()\n\u001b[0;32m--> 141\u001b[0m \u001b[38;5;28;01mreturn\u001b[39;00m \u001b[43mResultSet\u001b[49m\u001b[43m(\u001b[49m\u001b[43msc\u001b[49m\u001b[43m,\u001b[49m\u001b[43m \u001b[49m\u001b[43mbatch_size\u001b[49m\u001b[38;5;241;43m=\u001b[39;49m\u001b[43mbatch_size\u001b[49m\u001b[43m)\u001b[49m\n",
      "File \u001b[0;32m/apps/jasmin/jaspy/miniconda_envs/jaspy3.10/m3-4.9.2/envs/jaspy3.10-m3-4.9.2-r20220721/lib/python3.10/site-packages/pyesgf/search/results.py:42\u001b[0m, in \u001b[0;36mResultSet.__init__\u001b[0;34m(self, context, batch_size, eager)\u001b[0m\n\u001b[1;32m     40\u001b[0m \u001b[38;5;28mself\u001b[39m\u001b[38;5;241m.\u001b[39m__len_cache \u001b[38;5;241m=\u001b[39m \u001b[38;5;28;01mNone\u001b[39;00m\n\u001b[1;32m     41\u001b[0m \u001b[38;5;28;01mif\u001b[39;00m eager:\n\u001b[0;32m---> 42\u001b[0m     \u001b[38;5;28;43mself\u001b[39;49m\u001b[38;5;241;43m.\u001b[39;49m\u001b[43m__get_batch\u001b[49m\u001b[43m(\u001b[49m\u001b[38;5;241;43m0\u001b[39;49m\u001b[43m)\u001b[49m\n",
      "File \u001b[0;32m/apps/jasmin/jaspy/miniconda_envs/jaspy3.10/m3-4.9.2/envs/jaspy3.10-m3-4.9.2-r20220721/lib/python3.10/site-packages/pyesgf/search/results.py:82\u001b[0m, in \u001b[0;36mResultSet.__get_batch\u001b[0;34m(self, batch_i)\u001b[0m\n\u001b[1;32m     79\u001b[0m limit \u001b[38;5;241m=\u001b[39m \u001b[38;5;28mself\u001b[39m\u001b[38;5;241m.\u001b[39mbatch_size\n\u001b[1;32m     81\u001b[0m query_dict \u001b[38;5;241m=\u001b[39m \u001b[38;5;28mself\u001b[39m\u001b[38;5;241m.\u001b[39mcontext\u001b[38;5;241m.\u001b[39m_build_query()\n\u001b[0;32m---> 82\u001b[0m response \u001b[38;5;241m=\u001b[39m (\u001b[38;5;28;43mself\u001b[39;49m\u001b[38;5;241;43m.\u001b[39;49m\u001b[43mcontext\u001b[49m\u001b[38;5;241;43m.\u001b[39;49m\u001b[43mconnection\u001b[49m\n\u001b[1;32m     83\u001b[0m \u001b[43m            \u001b[49m\u001b[38;5;241;43m.\u001b[39;49m\u001b[43msend_search\u001b[49m\u001b[43m(\u001b[49m\u001b[43mquery_dict\u001b[49m\u001b[43m,\u001b[49m\u001b[43m \u001b[49m\u001b[43mlimit\u001b[49m\u001b[38;5;241;43m=\u001b[39;49m\u001b[43mlimit\u001b[49m\u001b[43m,\u001b[49m\u001b[43m \u001b[49m\u001b[43moffset\u001b[49m\u001b[38;5;241;43m=\u001b[39;49m\u001b[43moffset\u001b[49m\u001b[43m,\u001b[49m\n\u001b[1;32m     84\u001b[0m \u001b[43m                         \u001b[49m\u001b[43mshards\u001b[49m\u001b[38;5;241;43m=\u001b[39;49m\u001b[38;5;28;43mself\u001b[39;49m\u001b[38;5;241;43m.\u001b[39;49m\u001b[43mcontext\u001b[49m\u001b[38;5;241;43m.\u001b[39;49m\u001b[43mshards\u001b[49m\u001b[43m)\u001b[49m)\n\u001b[1;32m     86\u001b[0m \u001b[38;5;28;01mif\u001b[39;00m \u001b[38;5;28mself\u001b[39m\u001b[38;5;241m.\u001b[39m__len_cache \u001b[38;5;129;01mis\u001b[39;00m \u001b[38;5;28;01mNone\u001b[39;00m:\n\u001b[1;32m     87\u001b[0m     \u001b[38;5;28mself\u001b[39m\u001b[38;5;241m.\u001b[39m__len_cache \u001b[38;5;241m=\u001b[39m response[\u001b[38;5;124m'\u001b[39m\u001b[38;5;124mresponse\u001b[39m\u001b[38;5;124m'\u001b[39m][\u001b[38;5;124m'\u001b[39m\u001b[38;5;124mnumFound\u001b[39m\u001b[38;5;124m'\u001b[39m]\n",
      "File \u001b[0;32m/apps/jasmin/jaspy/miniconda_envs/jaspy3.10/m3-4.9.2/envs/jaspy3.10-m3-4.9.2-r20220721/lib/python3.10/site-packages/pyesgf/search/connection.py:159\u001b[0m, in \u001b[0;36mSearchConnection.send_search\u001b[0;34m(self, query_dict, limit, offset, shards)\u001b[0m\n\u001b[1;32m    157\u001b[0m \u001b[38;5;28;01mif\u001b[39;00m \u001b[38;5;129;01mnot\u001b[39;00m \u001b[38;5;28mself\u001b[39m\u001b[38;5;241m.\u001b[39m_isopen:\n\u001b[1;32m    158\u001b[0m     \u001b[38;5;28mself\u001b[39m\u001b[38;5;241m.\u001b[39mopen()\n\u001b[0;32m--> 159\u001b[0m response \u001b[38;5;241m=\u001b[39m \u001b[38;5;28;43mself\u001b[39;49m\u001b[38;5;241;43m.\u001b[39;49m\u001b[43m_send_query\u001b[49m\u001b[43m(\u001b[49m\u001b[38;5;124;43m'\u001b[39;49m\u001b[38;5;124;43msearch\u001b[39;49m\u001b[38;5;124;43m'\u001b[39;49m\u001b[43m,\u001b[49m\u001b[43m \u001b[49m\u001b[43mfull_query\u001b[49m\u001b[43m)\u001b[49m\n\u001b[1;32m    160\u001b[0m ret \u001b[38;5;241m=\u001b[39m response\u001b[38;5;241m.\u001b[39mjson()\n\u001b[1;32m    161\u001b[0m response\u001b[38;5;241m.\u001b[39mclose()\n",
      "File \u001b[0;32m/apps/jasmin/jaspy/miniconda_envs/jaspy3.10/m3-4.9.2/envs/jaspy3.10-m3-4.9.2-r20220721/lib/python3.10/site-packages/pyesgf/search/connection.py:203\u001b[0m, in \u001b[0;36mSearchConnection._send_query\u001b[0;34m(self, endpoint, full_query)\u001b[0m\n\u001b[1;32m    200\u001b[0m query_url \u001b[38;5;241m=\u001b[39m \u001b[38;5;124m'\u001b[39m\u001b[38;5;132;01m%s\u001b[39;00m\u001b[38;5;124m/\u001b[39m\u001b[38;5;132;01m%s\u001b[39;00m\u001b[38;5;124m?\u001b[39m\u001b[38;5;132;01m%s\u001b[39;00m\u001b[38;5;124m'\u001b[39m \u001b[38;5;241m%\u001b[39m (\u001b[38;5;28mself\u001b[39m\u001b[38;5;241m.\u001b[39murl, endpoint, urlencode(full_query))\n\u001b[1;32m    201\u001b[0m log\u001b[38;5;241m.\u001b[39mdebug(\u001b[38;5;124m'\u001b[39m\u001b[38;5;124mQuery request is \u001b[39m\u001b[38;5;132;01m%s\u001b[39;00m\u001b[38;5;124m'\u001b[39m \u001b[38;5;241m%\u001b[39m query_url)\n\u001b[0;32m--> 203\u001b[0m response \u001b[38;5;241m=\u001b[39m \u001b[38;5;28;43mself\u001b[39;49m\u001b[38;5;241;43m.\u001b[39;49m\u001b[43msession\u001b[49m\u001b[38;5;241;43m.\u001b[39;49m\u001b[43mget\u001b[49m\u001b[43m(\u001b[49m\u001b[43mquery_url\u001b[49m\u001b[43m,\u001b[49m\u001b[43m \u001b[49m\u001b[43mverify\u001b[49m\u001b[38;5;241;43m=\u001b[39;49m\u001b[38;5;28;43mself\u001b[39;49m\u001b[38;5;241;43m.\u001b[39;49m\u001b[43mverify\u001b[49m\u001b[43m,\u001b[49m\n\u001b[1;32m    204\u001b[0m \u001b[43m                            \u001b[49m\u001b[43mtimeout\u001b[49m\u001b[38;5;241;43m=\u001b[39;49m\u001b[38;5;28;43mself\u001b[39;49m\u001b[38;5;241;43m.\u001b[39;49m\u001b[43mtimeout\u001b[49m\u001b[43m)\u001b[49m\n\u001b[1;32m    205\u001b[0m \u001b[38;5;28;01mif\u001b[39;00m response\u001b[38;5;241m.\u001b[39mstatus_code \u001b[38;5;241m==\u001b[39m \u001b[38;5;241m400\u001b[39m:\n\u001b[1;32m    206\u001b[0m     \u001b[38;5;66;03m# If error code 400, use urllib to find the errors:\u001b[39;00m\n\u001b[1;32m    207\u001b[0m     errors \u001b[38;5;241m=\u001b[39m \u001b[38;5;28mset\u001b[39m(re\u001b[38;5;241m.\u001b[39mfindall(\u001b[38;5;124mr\u001b[39m\u001b[38;5;124m\"\u001b[39m\u001b[38;5;124mInvalid HTTP query parameter=(\u001b[39m\u001b[38;5;124m\\\u001b[39m\u001b[38;5;124mw+)\u001b[39m\u001b[38;5;124m\"\u001b[39m,\n\u001b[1;32m    208\u001b[0m                  response\u001b[38;5;241m.\u001b[39mtext))\n",
      "File \u001b[0;32m/apps/jasmin/jaspy/miniconda_envs/jaspy3.10/m3-4.9.2/envs/jaspy3.10-m3-4.9.2-r20220721/lib/python3.10/site-packages/requests/sessions.py:600\u001b[0m, in \u001b[0;36mSession.get\u001b[0;34m(self, url, **kwargs)\u001b[0m\n\u001b[1;32m    592\u001b[0m \u001b[38;5;124mr\u001b[39m\u001b[38;5;124;03m\"\"\"Sends a GET request. Returns :class:`Response` object.\u001b[39;00m\n\u001b[1;32m    593\u001b[0m \n\u001b[1;32m    594\u001b[0m \u001b[38;5;124;03m:param url: URL for the new :class:`Request` object.\u001b[39;00m\n\u001b[1;32m    595\u001b[0m \u001b[38;5;124;03m:param \\*\\*kwargs: Optional arguments that ``request`` takes.\u001b[39;00m\n\u001b[1;32m    596\u001b[0m \u001b[38;5;124;03m:rtype: requests.Response\u001b[39;00m\n\u001b[1;32m    597\u001b[0m \u001b[38;5;124;03m\"\"\"\u001b[39;00m\n\u001b[1;32m    599\u001b[0m kwargs\u001b[38;5;241m.\u001b[39msetdefault(\u001b[38;5;124m\"\u001b[39m\u001b[38;5;124mallow_redirects\u001b[39m\u001b[38;5;124m\"\u001b[39m, \u001b[38;5;28;01mTrue\u001b[39;00m)\n\u001b[0;32m--> 600\u001b[0m \u001b[38;5;28;01mreturn\u001b[39;00m \u001b[38;5;28;43mself\u001b[39;49m\u001b[38;5;241;43m.\u001b[39;49m\u001b[43mrequest\u001b[49m\u001b[43m(\u001b[49m\u001b[38;5;124;43m\"\u001b[39;49m\u001b[38;5;124;43mGET\u001b[39;49m\u001b[38;5;124;43m\"\u001b[39;49m\u001b[43m,\u001b[49m\u001b[43m \u001b[49m\u001b[43murl\u001b[49m\u001b[43m,\u001b[49m\u001b[43m \u001b[49m\u001b[38;5;241;43m*\u001b[39;49m\u001b[38;5;241;43m*\u001b[39;49m\u001b[43mkwargs\u001b[49m\u001b[43m)\u001b[49m\n",
      "File \u001b[0;32m/apps/jasmin/jaspy/miniconda_envs/jaspy3.10/m3-4.9.2/envs/jaspy3.10-m3-4.9.2-r20220721/lib/python3.10/site-packages/requests/sessions.py:587\u001b[0m, in \u001b[0;36mSession.request\u001b[0;34m(self, method, url, params, data, headers, cookies, files, auth, timeout, allow_redirects, proxies, hooks, stream, verify, cert, json)\u001b[0m\n\u001b[1;32m    582\u001b[0m send_kwargs \u001b[38;5;241m=\u001b[39m {\n\u001b[1;32m    583\u001b[0m     \u001b[38;5;124m\"\u001b[39m\u001b[38;5;124mtimeout\u001b[39m\u001b[38;5;124m\"\u001b[39m: timeout,\n\u001b[1;32m    584\u001b[0m     \u001b[38;5;124m\"\u001b[39m\u001b[38;5;124mallow_redirects\u001b[39m\u001b[38;5;124m\"\u001b[39m: allow_redirects,\n\u001b[1;32m    585\u001b[0m }\n\u001b[1;32m    586\u001b[0m send_kwargs\u001b[38;5;241m.\u001b[39mupdate(settings)\n\u001b[0;32m--> 587\u001b[0m resp \u001b[38;5;241m=\u001b[39m \u001b[38;5;28;43mself\u001b[39;49m\u001b[38;5;241;43m.\u001b[39;49m\u001b[43msend\u001b[49m\u001b[43m(\u001b[49m\u001b[43mprep\u001b[49m\u001b[43m,\u001b[49m\u001b[43m \u001b[49m\u001b[38;5;241;43m*\u001b[39;49m\u001b[38;5;241;43m*\u001b[39;49m\u001b[43msend_kwargs\u001b[49m\u001b[43m)\u001b[49m\n\u001b[1;32m    589\u001b[0m \u001b[38;5;28;01mreturn\u001b[39;00m resp\n",
      "File \u001b[0;32m/apps/jasmin/jaspy/miniconda_envs/jaspy3.10/m3-4.9.2/envs/jaspy3.10-m3-4.9.2-r20220721/lib/python3.10/site-packages/requests/sessions.py:745\u001b[0m, in \u001b[0;36mSession.send\u001b[0;34m(self, request, **kwargs)\u001b[0m\n\u001b[1;32m    742\u001b[0m         \u001b[38;5;28;01mpass\u001b[39;00m\n\u001b[1;32m    744\u001b[0m \u001b[38;5;28;01mif\u001b[39;00m \u001b[38;5;129;01mnot\u001b[39;00m stream:\n\u001b[0;32m--> 745\u001b[0m     \u001b[43mr\u001b[49m\u001b[38;5;241;43m.\u001b[39;49m\u001b[43mcontent\u001b[49m\n\u001b[1;32m    747\u001b[0m \u001b[38;5;28;01mreturn\u001b[39;00m r\n",
      "File \u001b[0;32m/apps/jasmin/jaspy/miniconda_envs/jaspy3.10/m3-4.9.2/envs/jaspy3.10-m3-4.9.2-r20220721/lib/python3.10/site-packages/requests/models.py:899\u001b[0m, in \u001b[0;36mResponse.content\u001b[0;34m(self)\u001b[0m\n\u001b[1;32m    897\u001b[0m         \u001b[38;5;28mself\u001b[39m\u001b[38;5;241m.\u001b[39m_content \u001b[38;5;241m=\u001b[39m \u001b[38;5;28;01mNone\u001b[39;00m\n\u001b[1;32m    898\u001b[0m     \u001b[38;5;28;01melse\u001b[39;00m:\n\u001b[0;32m--> 899\u001b[0m         \u001b[38;5;28mself\u001b[39m\u001b[38;5;241m.\u001b[39m_content \u001b[38;5;241m=\u001b[39m \u001b[38;5;124;43mb\u001b[39;49m\u001b[38;5;124;43m\"\u001b[39;49m\u001b[38;5;124;43m\"\u001b[39;49m\u001b[38;5;241;43m.\u001b[39;49m\u001b[43mjoin\u001b[49m\u001b[43m(\u001b[49m\u001b[38;5;28;43mself\u001b[39;49m\u001b[38;5;241;43m.\u001b[39;49m\u001b[43miter_content\u001b[49m\u001b[43m(\u001b[49m\u001b[43mCONTENT_CHUNK_SIZE\u001b[49m\u001b[43m)\u001b[49m\u001b[43m)\u001b[49m \u001b[38;5;129;01mor\u001b[39;00m \u001b[38;5;124mb\u001b[39m\u001b[38;5;124m\"\u001b[39m\u001b[38;5;124m\"\u001b[39m\n\u001b[1;32m    901\u001b[0m \u001b[38;5;28mself\u001b[39m\u001b[38;5;241m.\u001b[39m_content_consumed \u001b[38;5;241m=\u001b[39m \u001b[38;5;28;01mTrue\u001b[39;00m\n\u001b[1;32m    902\u001b[0m \u001b[38;5;66;03m# don't need to release the connection; that's been handled by urllib3\u001b[39;00m\n\u001b[1;32m    903\u001b[0m \u001b[38;5;66;03m# since we exhausted the data.\u001b[39;00m\n",
      "File \u001b[0;32m/apps/jasmin/jaspy/miniconda_envs/jaspy3.10/m3-4.9.2/envs/jaspy3.10-m3-4.9.2-r20220721/lib/python3.10/site-packages/requests/models.py:816\u001b[0m, in \u001b[0;36mResponse.iter_content.<locals>.generate\u001b[0;34m()\u001b[0m\n\u001b[1;32m    814\u001b[0m \u001b[38;5;28;01mif\u001b[39;00m \u001b[38;5;28mhasattr\u001b[39m(\u001b[38;5;28mself\u001b[39m\u001b[38;5;241m.\u001b[39mraw, \u001b[38;5;124m\"\u001b[39m\u001b[38;5;124mstream\u001b[39m\u001b[38;5;124m\"\u001b[39m):\n\u001b[1;32m    815\u001b[0m     \u001b[38;5;28;01mtry\u001b[39;00m:\n\u001b[0;32m--> 816\u001b[0m         \u001b[38;5;28;01myield from\u001b[39;00m \u001b[38;5;28mself\u001b[39m\u001b[38;5;241m.\u001b[39mraw\u001b[38;5;241m.\u001b[39mstream(chunk_size, decode_content\u001b[38;5;241m=\u001b[39m\u001b[38;5;28;01mTrue\u001b[39;00m)\n\u001b[1;32m    817\u001b[0m     \u001b[38;5;28;01mexcept\u001b[39;00m ProtocolError \u001b[38;5;28;01mas\u001b[39;00m e:\n\u001b[1;32m    818\u001b[0m         \u001b[38;5;28;01mraise\u001b[39;00m ChunkedEncodingError(e)\n",
      "File \u001b[0;32m/apps/jasmin/jaspy/miniconda_envs/jaspy3.10/m3-4.9.2/envs/jaspy3.10-m3-4.9.2-r20220721/lib/python3.10/site-packages/urllib3/response.py:575\u001b[0m, in \u001b[0;36mHTTPResponse.stream\u001b[0;34m(self, amt, decode_content)\u001b[0m\n\u001b[1;32m    559\u001b[0m \u001b[38;5;124;03m\"\"\"\u001b[39;00m\n\u001b[1;32m    560\u001b[0m \u001b[38;5;124;03mA generator wrapper for the read() method. A call will block until\u001b[39;00m\n\u001b[1;32m    561\u001b[0m \u001b[38;5;124;03m``amt`` bytes have been read from the connection or until the\u001b[39;00m\n\u001b[0;32m   (...)\u001b[0m\n\u001b[1;32m    572\u001b[0m \u001b[38;5;124;03m    'content-encoding' header.\u001b[39;00m\n\u001b[1;32m    573\u001b[0m \u001b[38;5;124;03m\"\"\"\u001b[39;00m\n\u001b[1;32m    574\u001b[0m \u001b[38;5;28;01mif\u001b[39;00m \u001b[38;5;28mself\u001b[39m\u001b[38;5;241m.\u001b[39mchunked \u001b[38;5;129;01mand\u001b[39;00m \u001b[38;5;28mself\u001b[39m\u001b[38;5;241m.\u001b[39msupports_chunked_reads():\n\u001b[0;32m--> 575\u001b[0m     \u001b[38;5;28;01mfor\u001b[39;00m line \u001b[38;5;129;01min\u001b[39;00m \u001b[38;5;28mself\u001b[39m\u001b[38;5;241m.\u001b[39mread_chunked(amt, decode_content\u001b[38;5;241m=\u001b[39mdecode_content):\n\u001b[1;32m    576\u001b[0m         \u001b[38;5;28;01myield\u001b[39;00m line\n\u001b[1;32m    577\u001b[0m \u001b[38;5;28;01melse\u001b[39;00m:\n",
      "File \u001b[0;32m/apps/jasmin/jaspy/miniconda_envs/jaspy3.10/m3-4.9.2/envs/jaspy3.10-m3-4.9.2-r20220721/lib/python3.10/site-packages/urllib3/response.py:770\u001b[0m, in \u001b[0;36mHTTPResponse.read_chunked\u001b[0;34m(self, amt, decode_content)\u001b[0m\n\u001b[1;32m    768\u001b[0m \u001b[38;5;28;01mif\u001b[39;00m \u001b[38;5;28mself\u001b[39m\u001b[38;5;241m.\u001b[39mchunk_left \u001b[38;5;241m==\u001b[39m \u001b[38;5;241m0\u001b[39m:\n\u001b[1;32m    769\u001b[0m     \u001b[38;5;28;01mbreak\u001b[39;00m\n\u001b[0;32m--> 770\u001b[0m chunk \u001b[38;5;241m=\u001b[39m \u001b[38;5;28;43mself\u001b[39;49m\u001b[38;5;241;43m.\u001b[39;49m\u001b[43m_handle_chunk\u001b[49m\u001b[43m(\u001b[49m\u001b[43mamt\u001b[49m\u001b[43m)\u001b[49m\n\u001b[1;32m    771\u001b[0m decoded \u001b[38;5;241m=\u001b[39m \u001b[38;5;28mself\u001b[39m\u001b[38;5;241m.\u001b[39m_decode(\n\u001b[1;32m    772\u001b[0m     chunk, decode_content\u001b[38;5;241m=\u001b[39mdecode_content, flush_decoder\u001b[38;5;241m=\u001b[39m\u001b[38;5;28;01mFalse\u001b[39;00m\n\u001b[1;32m    773\u001b[0m )\n\u001b[1;32m    774\u001b[0m \u001b[38;5;28;01mif\u001b[39;00m decoded:\n",
      "File \u001b[0;32m/apps/jasmin/jaspy/miniconda_envs/jaspy3.10/m3-4.9.2/envs/jaspy3.10-m3-4.9.2-r20220721/lib/python3.10/site-packages/urllib3/response.py:723\u001b[0m, in \u001b[0;36mHTTPResponse._handle_chunk\u001b[0;34m(self, amt)\u001b[0m\n\u001b[1;32m    721\u001b[0m     returned_chunk \u001b[38;5;241m=\u001b[39m value\n\u001b[1;32m    722\u001b[0m \u001b[38;5;28;01melse\u001b[39;00m:  \u001b[38;5;66;03m# amt > self.chunk_left\u001b[39;00m\n\u001b[0;32m--> 723\u001b[0m     returned_chunk \u001b[38;5;241m=\u001b[39m \u001b[38;5;28;43mself\u001b[39;49m\u001b[38;5;241;43m.\u001b[39;49m\u001b[43m_fp\u001b[49m\u001b[38;5;241;43m.\u001b[39;49m\u001b[43m_safe_read\u001b[49m\u001b[43m(\u001b[49m\u001b[38;5;28;43mself\u001b[39;49m\u001b[38;5;241;43m.\u001b[39;49m\u001b[43mchunk_left\u001b[49m\u001b[43m)\u001b[49m\n\u001b[1;32m    724\u001b[0m     \u001b[38;5;28mself\u001b[39m\u001b[38;5;241m.\u001b[39m_fp\u001b[38;5;241m.\u001b[39m_safe_read(\u001b[38;5;241m2\u001b[39m)  \u001b[38;5;66;03m# Toss the CRLF at the end of the chunk.\u001b[39;00m\n\u001b[1;32m    725\u001b[0m     \u001b[38;5;28mself\u001b[39m\u001b[38;5;241m.\u001b[39mchunk_left \u001b[38;5;241m=\u001b[39m \u001b[38;5;28;01mNone\u001b[39;00m\n",
      "File \u001b[0;32m/apps/jasmin/jaspy/miniconda_envs/jaspy3.10/m3-4.9.2/envs/jaspy3.10-m3-4.9.2-r20220721/lib/python3.10/http/client.py:630\u001b[0m, in \u001b[0;36mHTTPResponse._safe_read\u001b[0;34m(self, amt)\u001b[0m\n\u001b[1;32m    623\u001b[0m \u001b[38;5;28;01mdef\u001b[39;00m \u001b[38;5;21m_safe_read\u001b[39m(\u001b[38;5;28mself\u001b[39m, amt):\n\u001b[1;32m    624\u001b[0m     \u001b[38;5;124;03m\"\"\"Read the number of bytes requested.\u001b[39;00m\n\u001b[1;32m    625\u001b[0m \n\u001b[1;32m    626\u001b[0m \u001b[38;5;124;03m    This function should be used when <amt> bytes \"should\" be present for\u001b[39;00m\n\u001b[1;32m    627\u001b[0m \u001b[38;5;124;03m    reading. If the bytes are truly not available (due to EOF), then the\u001b[39;00m\n\u001b[1;32m    628\u001b[0m \u001b[38;5;124;03m    IncompleteRead exception can be used to detect the problem.\u001b[39;00m\n\u001b[1;32m    629\u001b[0m \u001b[38;5;124;03m    \"\"\"\u001b[39;00m\n\u001b[0;32m--> 630\u001b[0m     data \u001b[38;5;241m=\u001b[39m \u001b[38;5;28;43mself\u001b[39;49m\u001b[38;5;241;43m.\u001b[39;49m\u001b[43mfp\u001b[49m\u001b[38;5;241;43m.\u001b[39;49m\u001b[43mread\u001b[49m\u001b[43m(\u001b[49m\u001b[43mamt\u001b[49m\u001b[43m)\u001b[49m\n\u001b[1;32m    631\u001b[0m     \u001b[38;5;28;01mif\u001b[39;00m \u001b[38;5;28mlen\u001b[39m(data) \u001b[38;5;241m<\u001b[39m amt:\n\u001b[1;32m    632\u001b[0m         \u001b[38;5;28;01mraise\u001b[39;00m IncompleteRead(data, amt\u001b[38;5;241m-\u001b[39m\u001b[38;5;28mlen\u001b[39m(data))\n",
      "File \u001b[0;32m/apps/jasmin/jaspy/miniconda_envs/jaspy3.10/m3-4.9.2/envs/jaspy3.10-m3-4.9.2-r20220721/lib/python3.10/socket.py:705\u001b[0m, in \u001b[0;36mSocketIO.readinto\u001b[0;34m(self, b)\u001b[0m\n\u001b[1;32m    703\u001b[0m \u001b[38;5;28;01mwhile\u001b[39;00m \u001b[38;5;28;01mTrue\u001b[39;00m:\n\u001b[1;32m    704\u001b[0m     \u001b[38;5;28;01mtry\u001b[39;00m:\n\u001b[0;32m--> 705\u001b[0m         \u001b[38;5;28;01mreturn\u001b[39;00m \u001b[38;5;28;43mself\u001b[39;49m\u001b[38;5;241;43m.\u001b[39;49m\u001b[43m_sock\u001b[49m\u001b[38;5;241;43m.\u001b[39;49m\u001b[43mrecv_into\u001b[49m\u001b[43m(\u001b[49m\u001b[43mb\u001b[49m\u001b[43m)\u001b[49m\n\u001b[1;32m    706\u001b[0m     \u001b[38;5;28;01mexcept\u001b[39;00m timeout:\n\u001b[1;32m    707\u001b[0m         \u001b[38;5;28mself\u001b[39m\u001b[38;5;241m.\u001b[39m_timeout_occurred \u001b[38;5;241m=\u001b[39m \u001b[38;5;28;01mTrue\u001b[39;00m\n",
      "File \u001b[0;32m/apps/jasmin/jaspy/miniconda_envs/jaspy3.10/m3-4.9.2/envs/jaspy3.10-m3-4.9.2-r20220721/lib/python3.10/ssl.py:1274\u001b[0m, in \u001b[0;36mSSLSocket.recv_into\u001b[0;34m(self, buffer, nbytes, flags)\u001b[0m\n\u001b[1;32m   1270\u001b[0m     \u001b[38;5;28;01mif\u001b[39;00m flags \u001b[38;5;241m!=\u001b[39m \u001b[38;5;241m0\u001b[39m:\n\u001b[1;32m   1271\u001b[0m         \u001b[38;5;28;01mraise\u001b[39;00m \u001b[38;5;167;01mValueError\u001b[39;00m(\n\u001b[1;32m   1272\u001b[0m           \u001b[38;5;124m\"\u001b[39m\u001b[38;5;124mnon-zero flags not allowed in calls to recv_into() on \u001b[39m\u001b[38;5;132;01m%s\u001b[39;00m\u001b[38;5;124m\"\u001b[39m \u001b[38;5;241m%\u001b[39m\n\u001b[1;32m   1273\u001b[0m           \u001b[38;5;28mself\u001b[39m\u001b[38;5;241m.\u001b[39m\u001b[38;5;18m__class__\u001b[39m)\n\u001b[0;32m-> 1274\u001b[0m     \u001b[38;5;28;01mreturn\u001b[39;00m \u001b[38;5;28;43mself\u001b[39;49m\u001b[38;5;241;43m.\u001b[39;49m\u001b[43mread\u001b[49m\u001b[43m(\u001b[49m\u001b[43mnbytes\u001b[49m\u001b[43m,\u001b[49m\u001b[43m \u001b[49m\u001b[43mbuffer\u001b[49m\u001b[43m)\u001b[49m\n\u001b[1;32m   1275\u001b[0m \u001b[38;5;28;01melse\u001b[39;00m:\n\u001b[1;32m   1276\u001b[0m     \u001b[38;5;28;01mreturn\u001b[39;00m \u001b[38;5;28msuper\u001b[39m()\u001b[38;5;241m.\u001b[39mrecv_into(buffer, nbytes, flags)\n",
      "File \u001b[0;32m/apps/jasmin/jaspy/miniconda_envs/jaspy3.10/m3-4.9.2/envs/jaspy3.10-m3-4.9.2-r20220721/lib/python3.10/ssl.py:1130\u001b[0m, in \u001b[0;36mSSLSocket.read\u001b[0;34m(self, len, buffer)\u001b[0m\n\u001b[1;32m   1128\u001b[0m \u001b[38;5;28;01mtry\u001b[39;00m:\n\u001b[1;32m   1129\u001b[0m     \u001b[38;5;28;01mif\u001b[39;00m buffer \u001b[38;5;129;01mis\u001b[39;00m \u001b[38;5;129;01mnot\u001b[39;00m \u001b[38;5;28;01mNone\u001b[39;00m:\n\u001b[0;32m-> 1130\u001b[0m         \u001b[38;5;28;01mreturn\u001b[39;00m \u001b[38;5;28;43mself\u001b[39;49m\u001b[38;5;241;43m.\u001b[39;49m\u001b[43m_sslobj\u001b[49m\u001b[38;5;241;43m.\u001b[39;49m\u001b[43mread\u001b[49m\u001b[43m(\u001b[49m\u001b[38;5;28;43mlen\u001b[39;49m\u001b[43m,\u001b[49m\u001b[43m \u001b[49m\u001b[43mbuffer\u001b[49m\u001b[43m)\u001b[49m\n\u001b[1;32m   1131\u001b[0m     \u001b[38;5;28;01melse\u001b[39;00m:\n\u001b[1;32m   1132\u001b[0m         \u001b[38;5;28;01mreturn\u001b[39;00m \u001b[38;5;28mself\u001b[39m\u001b[38;5;241m.\u001b[39m_sslobj\u001b[38;5;241m.\u001b[39mread(\u001b[38;5;28mlen\u001b[39m)\n",
      "\u001b[0;31mKeyboardInterrupt\u001b[0m: "
     ]
    }
   ],
   "source": [
    "# Test the function which does the same as below\n",
    "models_list = query_models_esgf(experiment_id=experiment_id,\n",
    "                                variable_id=variable_id,\n",
    "                                table_id=table_id,\n",
    "                                activity_id=activity_id,\n",
    "                                connection=conn,\n",
    "                                latest=latest,\n",
    "                                project=project,\n",
    "                                sub_experiment_id=sub_experiment_id)\n",
    "\n",
    "# Print the models list\n",
    "print(models_list)"
   ]
  },
  {
   "cell_type": "code",
   "execution_count": 7,
   "metadata": {},
   "outputs": [],
   "source": [
    "# # Set up the params for the query\n",
    "# params = {\n",
    "#     \"latest\": latest,\n",
    "#     \"project\": project,\n",
    "#     \"experiment_id\": experiment_id,\n",
    "#     \"variable_id\": variable_id,\n",
    "#     \"activity_id\": activity_id,\n",
    "#     \"table_id\": table_id\n",
    "# }\n",
    "\n",
    "# # Query the database\n",
    "# query = conn.new_context(**params)\n",
    "\n",
    "# # Get the results\n",
    "# results = query.search()\n",
    "\n",
    "# print(len(results))\n",
    "\n",
    "# # Python\n",
    "# # Form a list of the unique 'source_id' values from the results\n",
    "# # Python\n",
    "# # Form a set of the unique 'source_id' values from the results\n",
    "# source_id_set = set(id for result in results for id in result.json['source_id'])\n",
    "\n",
    "# # Print the set\n",
    "# print(source_id_set)"
   ]
  },
  {
   "cell_type": "code",
   "execution_count": 25,
   "metadata": {},
   "outputs": [],
   "source": [
    "# print(type(models_list))\n",
    "\n",
    "# # # Convert the set to a list\n",
    "# source_id_list = list(models_list)\n",
    "\n",
    "# # Constrain to the model HadGEM3-GC31-LL and the model following it\n",
    "# # find the index of the model\n",
    "# index = source_id_list.index('HadGEM3-GC31-MM')\n",
    "\n",
    "# source_id_list = [\"BCC-CSM2-MR\", \"HadGEM3-GC31-MM\"]\n",
    "source_id_list = [\"CESM1-1-CAM5-CMIP5\"]\n",
    "\n",
    "source_id_set = source_id_list"
   ]
  },
  {
   "cell_type": "code",
   "execution_count": 26,
   "metadata": {},
   "outputs": [],
   "source": [
    "# Set the params for the query\n",
    "params = {\n",
    "    \"latest\": latest,\n",
    "    \"project\": project,\n",
    "    \"experiment_id\": experiment_id,\n",
    "    \"variable_id\": variable_id,\n",
    "    \"activity_id\": activity_id,\n",
    "    \"table_id\": table_id,\n",
    "    \"sub_experiment_id\": sub_experiment_id\n",
    "}"
   ]
  },
  {
   "cell_type": "code",
   "execution_count": 27,
   "metadata": {},
   "outputs": [
    {
     "name": "stdout",
     "output_type": "stream",
     "text": [
      "trying to find valid nodes for model: CESM1-1-CAM5-CMIP5\n",
      "{'latest': True, 'project': 'CMIP6', 'experiment_id': 'dcppA-hindcast', 'variable_id': 'sfcWind', 'activity_id': 'DCPP', 'table_id': 'Amon', 'sub_experiment_id': 's1962,s1963', 'source_id': 'CESM1-1-CAM5-CMIP5'}\n",
      "160\n",
      "CMIP6.DCPP.NCAR.CESM1-1-CAM5-CMIP5.dcppA-hindcast.s1963-r8i1p1f1.Amon.sfcWind.gn.v20191007|esgf-data.ucar.edu\n",
      "{'esgf-data.ucar.edu', 'esgf-data1.llnl.gov'}\n",
      "trying to find valid files for node: esgf-data.ucar.edu\n",
      "80\n",
      "trying to find valid files for node: esgf-data1.llnl.gov\n",
      "80\n",
      "this data_node has less results than the previous one\n",
      "[{'source_id': 'CESM1-1-CAM5-CMIP5', 'data_node': 'esgf-data.ucar.edu', 'num_results': 80}]\n"
     ]
    }
   ],
   "source": [
    "# # Constrain the source_id_set to the first 1 model\n",
    "# source_id_set = list(source_id_set)[0:1]\n",
    "\n",
    "# # Print the set\n",
    "# print(source_id_set)\n",
    "\n",
    "# Initialize an empty dictionary to store the results\n",
    "max_results = {'source_id': None, 'data_node': None, 'num_results': 0}\n",
    "\n",
    "# Create a list for the max_results dictionaries\n",
    "max_results_list = []\n",
    "\n",
    "# Set up the max results per source dictionary\n",
    "max_results_per_source = {}\n",
    "\n",
    "# Loop through the source_id_set and query which nodes have data for each model\n",
    "for source_id in source_id_set:\n",
    "    print(\"trying to find valid nodes for model: {}\".format(source_id))\n",
    "    # Set the source_id constraint\n",
    "    params['source_id'] = source_id\n",
    "    print(params)\n",
    "    # Query the database\n",
    "    model_query = conn.new_context(**params)\n",
    "    # Get the results\n",
    "    model_results = model_query.search()\n",
    "    # Print the number of results\n",
    "    print(len(model_results))\n",
    "\n",
    "    # if the len of the model results is not 0\n",
    "    if len(model_results) != 0:\n",
    "        # Print the first result\n",
    "        print(model_results[0].json['id'])\n",
    "\n",
    "    # Identify the unique nodes (data_node) which have data for the model\n",
    "    data_node_set = set(result.json['data_node'] for result in model_results)\n",
    "\n",
    "    # Print the set\n",
    "    print(data_node_set)\n",
    "\n",
    "    # Loop through the data_node_set and query how many files are available for each \n",
    "    # node\n",
    "    for data_node in data_node_set:\n",
    "        print(\"trying to find valid files for node: {}\".format(data_node))\n",
    "        \n",
    "        # Set up the params for the query\n",
    "        params_node = params.copy()\n",
    "        \n",
    "        # Set the data_node constraint\n",
    "        params_node['data_node'] = data_node\n",
    "        # Query the database\n",
    "        node_query = conn.new_context(**params_node)\n",
    "        # Get the results\n",
    "        node_results = node_query.search()\n",
    "        # Print the number of results\n",
    "        print(len(node_results))\n",
    "\n",
    "        # If this source_id is not in max_results_per_source or this data_node has more results, update the dictionary\n",
    "        if source_id not in max_results_per_source or len(node_results) > max_results_per_source[source_id]:\n",
    "            max_results = {'source_id': source_id, 'data_node': data_node, 'num_results': len(node_results)}\n",
    "            max_results_per_source[source_id] = len(node_results)\n",
    "\n",
    "            # Append the max_results dictionary to the list\n",
    "            max_results_list.append(max_results)\n",
    "        else:\n",
    "            print(\"this data_node has less results than the previous one\")\n",
    "            continue\n",
    "\n",
    "# Print the dictionary\n",
    "print(max_results_list)\n",
    "\n",
    "\n",
    "\n"
   ]
  },
  {
   "cell_type": "code",
   "execution_count": 11,
   "metadata": {},
   "outputs": [],
   "source": [
    "# # Test the function for finding the valid nodes\n",
    "# max_results_list = find_valid_nodes(params=params, \n",
    "#                                     models_list=models_list,\n",
    "#                                     conn=conn)"
   ]
  },
  {
   "cell_type": "code",
   "execution_count": 28,
   "metadata": {},
   "outputs": [
    {
     "name": "stdout",
     "output_type": "stream",
     "text": [
      "['CESM1-1-CAM5-CMIP5']\n",
      "source_id: CESM1-1-CAM5-CMIP5\n"
     ]
    }
   ],
   "source": [
    "# Clean the max_results_list to remove duplicate source_id entries\n",
    "# Keep the entry with the highest number of results (num_results)\n",
    "# Initialize an empty list to store the unique source_id entries\n",
    "unique_source_id_list = []\n",
    "\n",
    "# Loop through the max_results_list and append the unique source_id entries\n",
    "for result in max_results_list:\n",
    "    if result['source_id'] not in unique_source_id_list:\n",
    "        unique_source_id_list.append(result['source_id'])\n",
    "\n",
    "# Print the list\n",
    "print(unique_source_id_list)\n",
    "\n",
    "# Initialize an empty list to store the unique max_results_list entries\n",
    "unique_max_results_list = []\n",
    "\n",
    "# Loop through the unique_source_id_list and only\n",
    "# Append the max_results_list entries which match the source_id and have the highest num_results\n",
    "for source_id in unique_source_id_list:\n",
    "    print(\"source_id: {}\".format(source_id))\n",
    "    # Initialize an empty list to store the num_results\n",
    "    num_results_list = []\n",
    "    # Loop through the max_results_list and append the num_results to the list\n",
    "    for result in max_results_list:\n",
    "        if result['source_id'] == source_id:\n",
    "            num_results_list.append(result['num_results'])\n",
    "    # Get the max num_results\n",
    "    max_num_results = max(num_results_list)\n",
    "    # Loop through the max_results_list and append the entries which match the source_id and max_num_results\n",
    "    for result in max_results_list:\n",
    "        if result['source_id'] == source_id and result['num_results'] == max_num_results:\n",
    "            unique_max_results_list.append(result)"
   ]
  },
  {
   "cell_type": "code",
   "execution_count": 13,
   "metadata": {},
   "outputs": [],
   "source": [
    "# # Convert the unique_max_results_list to a dataframe\n",
    "# unique_max_results_df = pd.DataFrame.from_dict(unique_max_results_list)\n",
    "\n",
    "# # Print the dataframe\n",
    "# unique_max_results_df\n",
    "\n",
    "# # save the dataframe\n",
    "# # save in current directory + save_data + filename\n",
    "# save_dir = os.path.join(os.getcwd(), 'save_data')\n",
    "# save_filename = 'unique_max_results_df_{}_{}_{}_{}_{}.csv'.format(experiment_id, variable_id, project, table_id, activity_id)\n",
    "\n",
    "# # Form the save path\n",
    "# save_path = os.path.join(save_dir, save_filename)\n",
    "\n",
    "# # Check if the save directory exists\n",
    "# if not os.path.exists(save_dir):\n",
    "#     # Make the directory\n",
    "#     os.makedirs(save_dir)\n",
    "\n",
    "# # Save the dataframe\n",
    "# unique_max_results_df.to_csv(save_path)"
   ]
  },
  {
   "cell_type": "code",
   "execution_count": 14,
   "metadata": {},
   "outputs": [],
   "source": [
    "# save_dir = os.path.join(os.getcwd(), 'save_data')\n",
    "# save_filename = 'unique_max_results_df_{}_{}_{}_{}_{}.csv'.format(experiment_id, variable_id, project, table_id, activity_id)\n",
    "\n",
    "# # Form the save path\n",
    "# save_path = os.path.join(save_dir, save_filename)"
   ]
  },
  {
   "cell_type": "code",
   "execution_count": 29,
   "metadata": {},
   "outputs": [
    {
     "name": "stdout",
     "output_type": "stream",
     "text": [
      "<class 'list'>\n",
      "[{'source_id': 'CESM1-1-CAM5-CMIP5', 'data_node': 'esgf-data.ucar.edu', 'num_results': 80}]\n"
     ]
    },
    {
     "data": {
      "text/html": [
       "<div>\n",
       "<style scoped>\n",
       "    .dataframe tbody tr th:only-of-type {\n",
       "        vertical-align: middle;\n",
       "    }\n",
       "\n",
       "    .dataframe tbody tr th {\n",
       "        vertical-align: top;\n",
       "    }\n",
       "\n",
       "    .dataframe thead th {\n",
       "        text-align: right;\n",
       "    }\n",
       "</style>\n",
       "<table border=\"1\" class=\"dataframe\">\n",
       "  <thead>\n",
       "    <tr style=\"text-align: right;\">\n",
       "      <th></th>\n",
       "      <th>source_id</th>\n",
       "      <th>data_node</th>\n",
       "      <th>num_results</th>\n",
       "    </tr>\n",
       "  </thead>\n",
       "  <tbody>\n",
       "    <tr>\n",
       "      <th>0</th>\n",
       "      <td>CESM1-1-CAM5-CMIP5</td>\n",
       "      <td>esgf-data.ucar.edu</td>\n",
       "      <td>80</td>\n",
       "    </tr>\n",
       "  </tbody>\n",
       "</table>\n",
       "</div>"
      ],
      "text/plain": [
       "            source_id           data_node  num_results\n",
       "0  CESM1-1-CAM5-CMIP5  esgf-data.ucar.edu           80"
      ]
     },
     "execution_count": 29,
     "metadata": {},
     "output_type": "execute_result"
    }
   ],
   "source": [
    "print(type(unique_max_results_list))\n",
    "\n",
    "print(unique_max_results_list)\n",
    "\n",
    "# Convert the unique_max_results_list to a dataframe\n",
    "unique_max_results_df = pd.DataFrame.from_dict(unique_max_results_list)\n",
    "\n",
    "# Print the dataframe\n",
    "unique_max_results_df"
   ]
  },
  {
   "cell_type": "code",
   "execution_count": 30,
   "metadata": {},
   "outputs": [
    {
     "name": "stdout",
     "output_type": "stream",
     "text": [
      "source_id: CESM1-1-CAM5-CMIP5, data_node: esgf-data.ucar.edu\n",
      "experiment_id: dcppA-hindcast, variable_id: sfcWind, activity_id: DCPP, data_node: esgf-data.ucar.edu\n",
      "80\n",
      "[<pyesgf.search.results.ResultSet object at 0x7f78264ff790>]\n"
     ]
    }
   ],
   "source": [
    "# Open the save_path as a dataframe\n",
    "# unique_max_results_df = pd.read_csv(save_path)\n",
    "\n",
    "# # Convert unique_max_results to a dataframe\n",
    "# unique_max_results_df = pd.DataFrame.from_dict(unique_max_results_list)\n",
    "\n",
    "results_list = []\n",
    "\n",
    "# Loop over the dataframe to create a list of result sets\n",
    "for i in range(len(unique_max_results_df)):\n",
    "    \n",
    "    # Get the source_id and data_node\n",
    "    source_id = unique_max_results_df.loc[i, 'source_id']\n",
    "    data_node = unique_max_results_df.loc[i, 'data_node']\n",
    "\n",
    "    # Print the source_id and data_node\n",
    "    print(\"source_id: {}, data_node: {}\".format(source_id, data_node))\n",
    "\n",
    "    # Print the experiment_id, variable_id, activity_id, and data_node\n",
    "    print(\"experiment_id: {}, variable_id: {}, activity_id: {}, data_node: {}\".format(experiment_id, variable_id, activity_id, data_node))\n",
    "\n",
    "    results = query_data_esgf(conn,\n",
    "                            source_id = source_id,\n",
    "                            experiment_id = experiment_id,\n",
    "                            variable_id = variable_id,\n",
    "                            table_id = table_id,\n",
    "                            project=project,\n",
    "                            activity_id = activity_id,\n",
    "                            data_node = data_node,\n",
    "                            sub_experiment_id=sub_experiment_id\n",
    "    )\n",
    "\n",
    "    print(len(results))\n",
    "\n",
    "    # Append the results to the results_list\n",
    "    results_list.append(results)\n",
    "\n",
    "# Print the results_list\n",
    "print(results_list)"
   ]
  },
  {
   "cell_type": "code",
   "execution_count": 31,
   "metadata": {},
   "outputs": [
    {
     "name": "stdout",
     "output_type": "stream",
     "text": [
      "80\n",
      "Extracting file context for 80 datasets...\n"
     ]
    },
    {
     "name": "stderr",
     "output_type": "stream",
     "text": [
      "  1%|▏         | 1/80 [00:02<03:43,  2.83s/it]"
     ]
    },
    {
     "name": "stdout",
     "output_type": "stream",
     "text": [
      "Processed 1 out of 80 results.\n"
     ]
    },
    {
     "name": "stderr",
     "output_type": "stream",
     "text": [
      "  2%|▎         | 2/80 [00:04<03:07,  2.40s/it]"
     ]
    },
    {
     "name": "stdout",
     "output_type": "stream",
     "text": [
      "Processed 2 out of 80 results.\n"
     ]
    },
    {
     "name": "stderr",
     "output_type": "stream",
     "text": [
      "  4%|▍         | 3/80 [00:06<02:39,  2.08s/it]"
     ]
    },
    {
     "name": "stdout",
     "output_type": "stream",
     "text": [
      "Processed 3 out of 80 results.\n"
     ]
    },
    {
     "name": "stderr",
     "output_type": "stream",
     "text": [
      "  5%|▌         | 4/80 [00:07<02:11,  1.73s/it]"
     ]
    },
    {
     "name": "stdout",
     "output_type": "stream",
     "text": [
      "Processed 4 out of 80 results.\n"
     ]
    },
    {
     "name": "stderr",
     "output_type": "stream",
     "text": [
      "  6%|▋         | 5/80 [00:08<01:54,  1.53s/it]"
     ]
    },
    {
     "name": "stdout",
     "output_type": "stream",
     "text": [
      "Processed 5 out of 80 results.\n"
     ]
    },
    {
     "name": "stderr",
     "output_type": "stream",
     "text": [
      "  8%|▊         | 6/80 [00:10<01:44,  1.41s/it]"
     ]
    },
    {
     "name": "stdout",
     "output_type": "stream",
     "text": [
      "Processed 6 out of 80 results.\n"
     ]
    },
    {
     "name": "stderr",
     "output_type": "stream",
     "text": [
      "  9%|▉         | 7/80 [00:11<01:38,  1.35s/it]"
     ]
    },
    {
     "name": "stdout",
     "output_type": "stream",
     "text": [
      "Processed 7 out of 80 results.\n"
     ]
    },
    {
     "name": "stderr",
     "output_type": "stream",
     "text": [
      " 10%|█         | 8/80 [00:13<01:53,  1.58s/it]"
     ]
    },
    {
     "name": "stdout",
     "output_type": "stream",
     "text": [
      "Processed 8 out of 80 results.\n"
     ]
    },
    {
     "name": "stderr",
     "output_type": "stream",
     "text": [
      " 11%|█▏        | 9/80 [00:15<01:58,  1.67s/it]"
     ]
    },
    {
     "name": "stdout",
     "output_type": "stream",
     "text": [
      "Processed 9 out of 80 results.\n"
     ]
    },
    {
     "name": "stderr",
     "output_type": "stream",
     "text": [
      " 12%|█▎        | 10/80 [00:17<02:02,  1.75s/it]"
     ]
    },
    {
     "name": "stdout",
     "output_type": "stream",
     "text": [
      "Processed 10 out of 80 results.\n"
     ]
    },
    {
     "name": "stderr",
     "output_type": "stream",
     "text": [
      " 14%|█▍        | 11/80 [00:19<02:04,  1.80s/it]"
     ]
    },
    {
     "name": "stdout",
     "output_type": "stream",
     "text": [
      "Processed 11 out of 80 results.\n"
     ]
    },
    {
     "name": "stderr",
     "output_type": "stream",
     "text": [
      " 15%|█▌        | 12/80 [00:20<01:49,  1.61s/it]"
     ]
    },
    {
     "name": "stdout",
     "output_type": "stream",
     "text": [
      "Processed 12 out of 80 results.\n"
     ]
    },
    {
     "name": "stderr",
     "output_type": "stream",
     "text": [
      " 16%|█▋        | 13/80 [00:21<01:39,  1.49s/it]"
     ]
    },
    {
     "name": "stdout",
     "output_type": "stream",
     "text": [
      "Processed 13 out of 80 results.\n"
     ]
    },
    {
     "name": "stderr",
     "output_type": "stream",
     "text": [
      " 18%|█▊        | 14/80 [00:22<01:32,  1.40s/it]"
     ]
    },
    {
     "name": "stdout",
     "output_type": "stream",
     "text": [
      "Processed 14 out of 80 results.\n"
     ]
    },
    {
     "name": "stderr",
     "output_type": "stream",
     "text": [
      " 19%|█▉        | 15/80 [00:23<01:26,  1.34s/it]"
     ]
    },
    {
     "name": "stdout",
     "output_type": "stream",
     "text": [
      "Processed 15 out of 80 results.\n"
     ]
    },
    {
     "name": "stderr",
     "output_type": "stream",
     "text": [
      " 20%|██        | 16/80 [00:25<01:37,  1.53s/it]"
     ]
    },
    {
     "name": "stdout",
     "output_type": "stream",
     "text": [
      "Processed 16 out of 80 results.\n"
     ]
    },
    {
     "name": "stderr",
     "output_type": "stream",
     "text": [
      " 21%|██▏       | 17/80 [00:27<01:42,  1.62s/it]"
     ]
    },
    {
     "name": "stdout",
     "output_type": "stream",
     "text": [
      "Processed 17 out of 80 results.\n"
     ]
    },
    {
     "name": "stderr",
     "output_type": "stream",
     "text": [
      " 22%|██▎       | 18/80 [00:29<01:46,  1.71s/it]"
     ]
    },
    {
     "name": "stdout",
     "output_type": "stream",
     "text": [
      "Processed 18 out of 80 results.\n"
     ]
    },
    {
     "name": "stderr",
     "output_type": "stream",
     "text": [
      " 24%|██▍       | 19/80 [00:31<01:48,  1.77s/it]"
     ]
    },
    {
     "name": "stdout",
     "output_type": "stream",
     "text": [
      "Processed 19 out of 80 results.\n"
     ]
    },
    {
     "name": "stderr",
     "output_type": "stream",
     "text": [
      " 25%|██▌       | 20/80 [00:32<01:35,  1.59s/it]"
     ]
    },
    {
     "name": "stdout",
     "output_type": "stream",
     "text": [
      "Processed 20 out of 80 results.\n"
     ]
    },
    {
     "name": "stderr",
     "output_type": "stream",
     "text": [
      " 26%|██▋       | 21/80 [00:33<01:26,  1.47s/it]"
     ]
    },
    {
     "name": "stdout",
     "output_type": "stream",
     "text": [
      "Processed 21 out of 80 results.\n"
     ]
    },
    {
     "name": "stderr",
     "output_type": "stream",
     "text": [
      " 28%|██▊       | 22/80 [00:35<01:20,  1.39s/it]"
     ]
    },
    {
     "name": "stdout",
     "output_type": "stream",
     "text": [
      "Processed 22 out of 80 results.\n"
     ]
    },
    {
     "name": "stderr",
     "output_type": "stream",
     "text": [
      " 29%|██▉       | 23/80 [00:36<01:15,  1.32s/it]"
     ]
    },
    {
     "name": "stdout",
     "output_type": "stream",
     "text": [
      "Processed 23 out of 80 results.\n"
     ]
    },
    {
     "name": "stderr",
     "output_type": "stream",
     "text": [
      " 30%|███       | 24/80 [00:37<01:14,  1.33s/it]"
     ]
    },
    {
     "name": "stdout",
     "output_type": "stream",
     "text": [
      "Processed 24 out of 80 results.\n"
     ]
    },
    {
     "name": "stderr",
     "output_type": "stream",
     "text": [
      " 31%|███▏      | 25/80 [00:39<01:22,  1.50s/it]"
     ]
    },
    {
     "name": "stdout",
     "output_type": "stream",
     "text": [
      "Processed 25 out of 80 results.\n"
     ]
    },
    {
     "name": "stderr",
     "output_type": "stream",
     "text": [
      " 32%|███▎      | 26/80 [00:41<01:29,  1.66s/it]"
     ]
    },
    {
     "name": "stdout",
     "output_type": "stream",
     "text": [
      "Processed 26 out of 80 results.\n"
     ]
    },
    {
     "name": "stderr",
     "output_type": "stream",
     "text": [
      " 34%|███▍      | 27/80 [00:43<01:35,  1.80s/it]"
     ]
    },
    {
     "name": "stdout",
     "output_type": "stream",
     "text": [
      "Processed 27 out of 80 results.\n"
     ]
    },
    {
     "name": "stderr",
     "output_type": "stream",
     "text": [
      " 35%|███▌      | 28/80 [00:45<01:29,  1.72s/it]"
     ]
    },
    {
     "name": "stdout",
     "output_type": "stream",
     "text": [
      "Processed 28 out of 80 results.\n"
     ]
    },
    {
     "name": "stderr",
     "output_type": "stream",
     "text": [
      " 36%|███▋      | 29/80 [00:46<01:19,  1.56s/it]"
     ]
    },
    {
     "name": "stdout",
     "output_type": "stream",
     "text": [
      "Processed 29 out of 80 results.\n"
     ]
    },
    {
     "name": "stderr",
     "output_type": "stream",
     "text": [
      " 38%|███▊      | 30/80 [00:47<01:15,  1.51s/it]"
     ]
    },
    {
     "name": "stdout",
     "output_type": "stream",
     "text": [
      "Processed 30 out of 80 results.\n"
     ]
    },
    {
     "name": "stderr",
     "output_type": "stream",
     "text": [
      " 39%|███▉      | 31/80 [00:49<01:09,  1.42s/it]"
     ]
    },
    {
     "name": "stdout",
     "output_type": "stream",
     "text": [
      "Processed 31 out of 80 results.\n"
     ]
    },
    {
     "name": "stderr",
     "output_type": "stream",
     "text": [
      " 40%|████      | 32/80 [00:50<01:07,  1.40s/it]"
     ]
    },
    {
     "name": "stdout",
     "output_type": "stream",
     "text": [
      "Processed 32 out of 80 results.\n"
     ]
    },
    {
     "name": "stderr",
     "output_type": "stream",
     "text": [
      " 41%|████▏     | 33/80 [00:52<01:15,  1.60s/it]"
     ]
    },
    {
     "name": "stdout",
     "output_type": "stream",
     "text": [
      "Processed 33 out of 80 results.\n"
     ]
    },
    {
     "name": "stderr",
     "output_type": "stream",
     "text": [
      " 42%|████▎     | 34/80 [00:54<01:15,  1.64s/it]"
     ]
    },
    {
     "name": "stdout",
     "output_type": "stream",
     "text": [
      "Processed 34 out of 80 results.\n"
     ]
    },
    {
     "name": "stderr",
     "output_type": "stream",
     "text": [
      " 44%|████▍     | 35/80 [00:56<01:19,  1.76s/it]"
     ]
    },
    {
     "name": "stdout",
     "output_type": "stream",
     "text": [
      "Processed 35 out of 80 results.\n"
     ]
    },
    {
     "name": "stderr",
     "output_type": "stream",
     "text": [
      " 45%|████▌     | 36/80 [00:57<01:15,  1.71s/it]"
     ]
    },
    {
     "name": "stdout",
     "output_type": "stream",
     "text": [
      "Processed 36 out of 80 results.\n"
     ]
    },
    {
     "name": "stderr",
     "output_type": "stream",
     "text": [
      " 46%|████▋     | 37/80 [00:59<01:06,  1.55s/it]"
     ]
    },
    {
     "name": "stdout",
     "output_type": "stream",
     "text": [
      "Processed 37 out of 80 results.\n"
     ]
    },
    {
     "name": "stderr",
     "output_type": "stream",
     "text": [
      " 48%|████▊     | 38/80 [01:00<01:00,  1.44s/it]"
     ]
    },
    {
     "name": "stdout",
     "output_type": "stream",
     "text": [
      "Processed 38 out of 80 results.\n"
     ]
    },
    {
     "name": "stderr",
     "output_type": "stream",
     "text": [
      " 49%|████▉     | 39/80 [01:01<00:56,  1.37s/it]"
     ]
    },
    {
     "name": "stdout",
     "output_type": "stream",
     "text": [
      "Processed 39 out of 80 results.\n"
     ]
    },
    {
     "name": "stderr",
     "output_type": "stream",
     "text": [
      " 50%|█████     | 40/80 [01:02<00:54,  1.36s/it]"
     ]
    },
    {
     "name": "stdout",
     "output_type": "stream",
     "text": [
      "Processed 40 out of 80 results.\n"
     ]
    },
    {
     "name": "stderr",
     "output_type": "stream",
     "text": [
      " 51%|█████▏    | 41/80 [01:04<01:01,  1.57s/it]"
     ]
    },
    {
     "name": "stdout",
     "output_type": "stream",
     "text": [
      "Processed 41 out of 80 results.\n"
     ]
    },
    {
     "name": "stderr",
     "output_type": "stream",
     "text": [
      " 52%|█████▎    | 42/80 [01:06<01:00,  1.60s/it]"
     ]
    },
    {
     "name": "stdout",
     "output_type": "stream",
     "text": [
      "Processed 42 out of 80 results.\n"
     ]
    },
    {
     "name": "stderr",
     "output_type": "stream",
     "text": [
      " 54%|█████▍    | 43/80 [01:08<01:04,  1.75s/it]"
     ]
    },
    {
     "name": "stdout",
     "output_type": "stream",
     "text": [
      "Processed 43 out of 80 results.\n"
     ]
    },
    {
     "name": "stderr",
     "output_type": "stream",
     "text": [
      " 55%|█████▌    | 44/80 [01:10<01:00,  1.67s/it]"
     ]
    },
    {
     "name": "stdout",
     "output_type": "stream",
     "text": [
      "Processed 44 out of 80 results.\n"
     ]
    },
    {
     "name": "stderr",
     "output_type": "stream",
     "text": [
      " 56%|█████▋    | 45/80 [01:11<00:53,  1.52s/it]"
     ]
    },
    {
     "name": "stdout",
     "output_type": "stream",
     "text": [
      "Processed 45 out of 80 results.\n"
     ]
    },
    {
     "name": "stderr",
     "output_type": "stream",
     "text": [
      " 57%|█████▊    | 46/80 [01:12<00:48,  1.42s/it]"
     ]
    },
    {
     "name": "stdout",
     "output_type": "stream",
     "text": [
      "Processed 46 out of 80 results.\n"
     ]
    },
    {
     "name": "stderr",
     "output_type": "stream",
     "text": [
      " 59%|█████▉    | 47/80 [01:13<00:44,  1.36s/it]"
     ]
    },
    {
     "name": "stdout",
     "output_type": "stream",
     "text": [
      "Processed 47 out of 80 results.\n"
     ]
    },
    {
     "name": "stderr",
     "output_type": "stream",
     "text": [
      " 60%|██████    | 48/80 [01:14<00:41,  1.31s/it]"
     ]
    },
    {
     "name": "stdout",
     "output_type": "stream",
     "text": [
      "Processed 48 out of 80 results.\n"
     ]
    },
    {
     "name": "stderr",
     "output_type": "stream",
     "text": [
      " 61%|██████▏   | 49/80 [01:16<00:47,  1.53s/it]"
     ]
    },
    {
     "name": "stdout",
     "output_type": "stream",
     "text": [
      "Processed 49 out of 80 results.\n"
     ]
    },
    {
     "name": "stderr",
     "output_type": "stream",
     "text": [
      " 62%|██████▎   | 50/80 [01:18<00:49,  1.65s/it]"
     ]
    },
    {
     "name": "stdout",
     "output_type": "stream",
     "text": [
      "Processed 50 out of 80 results.\n"
     ]
    },
    {
     "name": "stderr",
     "output_type": "stream",
     "text": [
      " 64%|██████▍   | 51/80 [01:21<00:58,  2.00s/it]"
     ]
    },
    {
     "name": "stdout",
     "output_type": "stream",
     "text": [
      "Processed 51 out of 80 results.\n"
     ]
    },
    {
     "name": "stderr",
     "output_type": "stream",
     "text": [
      " 65%|██████▌   | 52/80 [01:22<00:49,  1.76s/it]"
     ]
    },
    {
     "name": "stdout",
     "output_type": "stream",
     "text": [
      "Processed 52 out of 80 results.\n"
     ]
    },
    {
     "name": "stderr",
     "output_type": "stream",
     "text": [
      " 66%|██████▋   | 53/80 [01:24<00:42,  1.59s/it]"
     ]
    },
    {
     "name": "stdout",
     "output_type": "stream",
     "text": [
      "Processed 53 out of 80 results.\n"
     ]
    },
    {
     "name": "stderr",
     "output_type": "stream",
     "text": [
      " 68%|██████▊   | 54/80 [01:25<00:38,  1.47s/it]"
     ]
    },
    {
     "name": "stdout",
     "output_type": "stream",
     "text": [
      "Processed 54 out of 80 results.\n"
     ]
    },
    {
     "name": "stderr",
     "output_type": "stream",
     "text": [
      " 69%|██████▉   | 55/80 [01:26<00:34,  1.38s/it]"
     ]
    },
    {
     "name": "stdout",
     "output_type": "stream",
     "text": [
      "Processed 55 out of 80 results.\n"
     ]
    },
    {
     "name": "stderr",
     "output_type": "stream",
     "text": [
      " 70%|███████   | 56/80 [01:27<00:31,  1.32s/it]"
     ]
    },
    {
     "name": "stdout",
     "output_type": "stream",
     "text": [
      "Processed 56 out of 80 results.\n"
     ]
    },
    {
     "name": "stderr",
     "output_type": "stream",
     "text": [
      " 71%|███████▏  | 57/80 [01:28<00:29,  1.28s/it]"
     ]
    },
    {
     "name": "stdout",
     "output_type": "stream",
     "text": [
      "Processed 57 out of 80 results.\n"
     ]
    },
    {
     "name": "stderr",
     "output_type": "stream",
     "text": [
      " 72%|███████▎  | 58/80 [01:29<00:27,  1.25s/it]"
     ]
    },
    {
     "name": "stdout",
     "output_type": "stream",
     "text": [
      "Processed 58 out of 80 results.\n"
     ]
    },
    {
     "name": "stderr",
     "output_type": "stream",
     "text": [
      " 74%|███████▍  | 59/80 [01:31<00:25,  1.23s/it]"
     ]
    },
    {
     "name": "stdout",
     "output_type": "stream",
     "text": [
      "Processed 59 out of 80 results.\n"
     ]
    },
    {
     "name": "stderr",
     "output_type": "stream",
     "text": [
      " 75%|███████▌  | 60/80 [01:32<00:24,  1.22s/it]"
     ]
    },
    {
     "name": "stdout",
     "output_type": "stream",
     "text": [
      "Processed 60 out of 80 results.\n"
     ]
    },
    {
     "name": "stderr",
     "output_type": "stream",
     "text": [
      " 76%|███████▋  | 61/80 [01:33<00:23,  1.26s/it]"
     ]
    },
    {
     "name": "stdout",
     "output_type": "stream",
     "text": [
      "Processed 61 out of 80 results.\n"
     ]
    },
    {
     "name": "stderr",
     "output_type": "stream",
     "text": [
      " 78%|███████▊  | 62/80 [01:35<00:27,  1.51s/it]"
     ]
    },
    {
     "name": "stdout",
     "output_type": "stream",
     "text": [
      "Processed 62 out of 80 results.\n"
     ]
    },
    {
     "name": "stderr",
     "output_type": "stream",
     "text": [
      " 79%|███████▉  | 63/80 [01:37<00:27,  1.63s/it]"
     ]
    },
    {
     "name": "stdout",
     "output_type": "stream",
     "text": [
      "Processed 63 out of 80 results.\n"
     ]
    },
    {
     "name": "stderr",
     "output_type": "stream",
     "text": [
      " 80%|████████  | 64/80 [01:39<00:28,  1.77s/it]"
     ]
    },
    {
     "name": "stdout",
     "output_type": "stream",
     "text": [
      "Processed 64 out of 80 results.\n"
     ]
    },
    {
     "name": "stderr",
     "output_type": "stream",
     "text": [
      " 81%|████████▏ | 65/80 [01:41<00:26,  1.75s/it]"
     ]
    },
    {
     "name": "stdout",
     "output_type": "stream",
     "text": [
      "Processed 65 out of 80 results.\n"
     ]
    },
    {
     "name": "stderr",
     "output_type": "stream",
     "text": [
      " 82%|████████▎ | 66/80 [01:42<00:22,  1.58s/it]"
     ]
    },
    {
     "name": "stdout",
     "output_type": "stream",
     "text": [
      "Processed 66 out of 80 results.\n"
     ]
    },
    {
     "name": "stderr",
     "output_type": "stream",
     "text": [
      " 84%|████████▍ | 67/80 [01:43<00:19,  1.46s/it]"
     ]
    },
    {
     "name": "stdout",
     "output_type": "stream",
     "text": [
      "Processed 67 out of 80 results.\n"
     ]
    },
    {
     "name": "stderr",
     "output_type": "stream",
     "text": [
      " 85%|████████▌ | 68/80 [01:45<00:16,  1.38s/it]"
     ]
    },
    {
     "name": "stdout",
     "output_type": "stream",
     "text": [
      "Processed 68 out of 80 results.\n"
     ]
    },
    {
     "name": "stderr",
     "output_type": "stream",
     "text": [
      " 86%|████████▋ | 69/80 [01:47<00:17,  1.58s/it]"
     ]
    },
    {
     "name": "stdout",
     "output_type": "stream",
     "text": [
      "Processed 69 out of 80 results.\n"
     ]
    },
    {
     "name": "stderr",
     "output_type": "stream",
     "text": [
      " 88%|████████▊ | 70/80 [01:48<00:16,  1.64s/it]"
     ]
    },
    {
     "name": "stdout",
     "output_type": "stream",
     "text": [
      "Processed 70 out of 80 results.\n"
     ]
    },
    {
     "name": "stderr",
     "output_type": "stream",
     "text": [
      " 89%|████████▉ | 71/80 [01:51<00:16,  1.80s/it]"
     ]
    },
    {
     "name": "stdout",
     "output_type": "stream",
     "text": [
      "Processed 71 out of 80 results.\n"
     ]
    },
    {
     "name": "stderr",
     "output_type": "stream",
     "text": [
      " 90%|█████████ | 72/80 [01:52<00:14,  1.77s/it]"
     ]
    },
    {
     "name": "stdout",
     "output_type": "stream",
     "text": [
      "Processed 72 out of 80 results.\n"
     ]
    },
    {
     "name": "stderr",
     "output_type": "stream",
     "text": [
      " 91%|█████████▏| 73/80 [01:53<00:11,  1.60s/it]"
     ]
    },
    {
     "name": "stdout",
     "output_type": "stream",
     "text": [
      "Processed 73 out of 80 results.\n"
     ]
    },
    {
     "name": "stderr",
     "output_type": "stream",
     "text": [
      " 92%|█████████▎| 74/80 [01:55<00:08,  1.48s/it]"
     ]
    },
    {
     "name": "stdout",
     "output_type": "stream",
     "text": [
      "Processed 74 out of 80 results.\n"
     ]
    },
    {
     "name": "stderr",
     "output_type": "stream",
     "text": [
      " 94%|█████████▍| 75/80 [01:56<00:06,  1.39s/it]"
     ]
    },
    {
     "name": "stdout",
     "output_type": "stream",
     "text": [
      "Processed 75 out of 80 results.\n"
     ]
    },
    {
     "name": "stderr",
     "output_type": "stream",
     "text": [
      " 95%|█████████▌| 76/80 [01:57<00:05,  1.33s/it]"
     ]
    },
    {
     "name": "stdout",
     "output_type": "stream",
     "text": [
      "Processed 76 out of 80 results.\n"
     ]
    },
    {
     "name": "stderr",
     "output_type": "stream",
     "text": [
      " 96%|█████████▋| 77/80 [01:59<00:04,  1.54s/it]"
     ]
    },
    {
     "name": "stdout",
     "output_type": "stream",
     "text": [
      "Processed 77 out of 80 results.\n"
     ]
    },
    {
     "name": "stderr",
     "output_type": "stream",
     "text": [
      " 98%|█████████▊| 78/80 [02:01<00:03,  1.64s/it]"
     ]
    },
    {
     "name": "stdout",
     "output_type": "stream",
     "text": [
      "Processed 78 out of 80 results.\n"
     ]
    },
    {
     "name": "stderr",
     "output_type": "stream",
     "text": [
      " 99%|█████████▉| 79/80 [02:03<00:01,  1.74s/it]"
     ]
    },
    {
     "name": "stdout",
     "output_type": "stream",
     "text": [
      "Processed 79 out of 80 results.\n"
     ]
    },
    {
     "name": "stderr",
     "output_type": "stream",
     "text": [
      "100%|██████████| 80/80 [02:05<00:00,  1.57s/it]"
     ]
    },
    {
     "name": "stdout",
     "output_type": "stream",
     "text": [
      "Processed 80 out of 80 results.\n",
      "[[{'filename': 'sfcWind_Amon_CESM1-1-CAM5-CMIP5_dcppA-hindcast_s1963-r8i1p1f1_gn_196311-197312.nc', 'url': 'http://esgf-data.ucar.edu/thredds/fileServer/esg_dataroot/CMIP6/DCPP/NCAR/CESM1-1-CAM5-CMIP5/dcppA-hindcast/s1963-r8i1p1f1/Amon/sfcWind/gn/v20191007/sfcWind_Amon_CESM1-1-CAM5-CMIP5_dcppA-hindcast_s1963-r8i1p1f1_gn_196311-197312.nc'}, {'filename': 'sfcWind_Amon_CESM1-1-CAM5-CMIP5_dcppA-hindcast_s1963-r9i1p1f1_gn_196311-197312.nc', 'url': 'http://esgf-data.ucar.edu/thredds/fileServer/esg_dataroot/CMIP6/DCPP/NCAR/CESM1-1-CAM5-CMIP5/dcppA-hindcast/s1963-r9i1p1f1/Amon/sfcWind/gn/v20191007/sfcWind_Amon_CESM1-1-CAM5-CMIP5_dcppA-hindcast_s1963-r9i1p1f1_gn_196311-197312.nc'}, {'filename': 'sfcWind_Amon_CESM1-1-CAM5-CMIP5_dcppA-hindcast_s1963-r40i1p1f1_gn_196311-197312.nc', 'url': 'http://esgf-data.ucar.edu/thredds/fileServer/esg_dataroot/CMIP6/DCPP/NCAR/CESM1-1-CAM5-CMIP5/dcppA-hindcast/s1963-r40i1p1f1/Amon/sfcWind/gn/v20191007/sfcWind_Amon_CESM1-1-CAM5-CMIP5_dcppA-hindcast_s1963-r40i1p1f1_gn_196311-197312.nc'}, {'filename': 'sfcWind_Amon_CESM1-1-CAM5-CMIP5_dcppA-hindcast_s1963-r4i1p1f1_gn_196311-197312.nc', 'url': 'http://esgf-data.ucar.edu/thredds/fileServer/esg_dataroot/CMIP6/DCPP/NCAR/CESM1-1-CAM5-CMIP5/dcppA-hindcast/s1963-r4i1p1f1/Amon/sfcWind/gn/v20191007/sfcWind_Amon_CESM1-1-CAM5-CMIP5_dcppA-hindcast_s1963-r4i1p1f1_gn_196311-197312.nc'}, {'filename': 'sfcWind_Amon_CESM1-1-CAM5-CMIP5_dcppA-hindcast_s1963-r5i1p1f1_gn_196311-197312.nc', 'url': 'http://esgf-data.ucar.edu/thredds/fileServer/esg_dataroot/CMIP6/DCPP/NCAR/CESM1-1-CAM5-CMIP5/dcppA-hindcast/s1963-r5i1p1f1/Amon/sfcWind/gn/v20191007/sfcWind_Amon_CESM1-1-CAM5-CMIP5_dcppA-hindcast_s1963-r5i1p1f1_gn_196311-197312.nc'}, {'filename': 'sfcWind_Amon_CESM1-1-CAM5-CMIP5_dcppA-hindcast_s1963-r6i1p1f1_gn_196311-197312.nc', 'url': 'http://esgf-data.ucar.edu/thredds/fileServer/esg_dataroot/CMIP6/DCPP/NCAR/CESM1-1-CAM5-CMIP5/dcppA-hindcast/s1963-r6i1p1f1/Amon/sfcWind/gn/v20191007/sfcWind_Amon_CESM1-1-CAM5-CMIP5_dcppA-hindcast_s1963-r6i1p1f1_gn_196311-197312.nc'}, {'filename': 'sfcWind_Amon_CESM1-1-CAM5-CMIP5_dcppA-hindcast_s1963-r7i1p1f1_gn_196311-197312.nc', 'url': 'http://esgf-data.ucar.edu/thredds/fileServer/esg_dataroot/CMIP6/DCPP/NCAR/CESM1-1-CAM5-CMIP5/dcppA-hindcast/s1963-r7i1p1f1/Amon/sfcWind/gn/v20191007/sfcWind_Amon_CESM1-1-CAM5-CMIP5_dcppA-hindcast_s1963-r7i1p1f1_gn_196311-197312.nc'}, {'filename': 'sfcWind_Amon_CESM1-1-CAM5-CMIP5_dcppA-hindcast_s1963-r33i1p1f1_gn_196311-197312.nc', 'url': 'http://esgf-data.ucar.edu/thredds/fileServer/esg_dataroot/CMIP6/DCPP/NCAR/CESM1-1-CAM5-CMIP5/dcppA-hindcast/s1963-r33i1p1f1/Amon/sfcWind/gn/v20191007/sfcWind_Amon_CESM1-1-CAM5-CMIP5_dcppA-hindcast_s1963-r33i1p1f1_gn_196311-197312.nc'}, {'filename': 'sfcWind_Amon_CESM1-1-CAM5-CMIP5_dcppA-hindcast_s1963-r34i1p1f1_gn_196311-197312.nc', 'url': 'http://esgf-data.ucar.edu/thredds/fileServer/esg_dataroot/CMIP6/DCPP/NCAR/CESM1-1-CAM5-CMIP5/dcppA-hindcast/s1963-r34i1p1f1/Amon/sfcWind/gn/v20191007/sfcWind_Amon_CESM1-1-CAM5-CMIP5_dcppA-hindcast_s1963-r34i1p1f1_gn_196311-197312.nc'}, {'filename': 'sfcWind_Amon_CESM1-1-CAM5-CMIP5_dcppA-hindcast_s1963-r3i1p1f1_gn_196311-197312.nc', 'url': 'http://esgf-data.ucar.edu/thredds/fileServer/esg_dataroot/CMIP6/DCPP/NCAR/CESM1-1-CAM5-CMIP5/dcppA-hindcast/s1963-r3i1p1f1/Amon/sfcWind/gn/v20191007/sfcWind_Amon_CESM1-1-CAM5-CMIP5_dcppA-hindcast_s1963-r3i1p1f1_gn_196311-197312.nc'}, {'filename': 'sfcWind_Amon_CESM1-1-CAM5-CMIP5_dcppA-hindcast_s1963-r39i1p1f1_gn_196311-197312.nc', 'url': 'http://esgf-data.ucar.edu/thredds/fileServer/esg_dataroot/CMIP6/DCPP/NCAR/CESM1-1-CAM5-CMIP5/dcppA-hindcast/s1963-r39i1p1f1/Amon/sfcWind/gn/v20191007/sfcWind_Amon_CESM1-1-CAM5-CMIP5_dcppA-hindcast_s1963-r39i1p1f1_gn_196311-197312.nc'}, {'filename': 'sfcWind_Amon_CESM1-1-CAM5-CMIP5_dcppA-hindcast_s1963-r19i1p1f1_gn_196311-197312.nc', 'url': 'http://esgf-data.ucar.edu/thredds/fileServer/esg_dataroot/CMIP6/DCPP/NCAR/CESM1-1-CAM5-CMIP5/dcppA-hindcast/s1963-r19i1p1f1/Amon/sfcWind/gn/v20191007/sfcWind_Amon_CESM1-1-CAM5-CMIP5_dcppA-hindcast_s1963-r19i1p1f1_gn_196311-197312.nc'}, {'filename': 'sfcWind_Amon_CESM1-1-CAM5-CMIP5_dcppA-hindcast_s1963-r1i1p1f1_gn_196311-197312.nc', 'url': 'http://esgf-data.ucar.edu/thredds/fileServer/esg_dataroot/CMIP6/DCPP/NCAR/CESM1-1-CAM5-CMIP5/dcppA-hindcast/s1963-r1i1p1f1/Amon/sfcWind/gn/v20191007/sfcWind_Amon_CESM1-1-CAM5-CMIP5_dcppA-hindcast_s1963-r1i1p1f1_gn_196311-197312.nc'}, {'filename': 'sfcWind_Amon_CESM1-1-CAM5-CMIP5_dcppA-hindcast_s1963-r27i1p1f1_gn_196311-197312.nc', 'url': 'http://esgf-data.ucar.edu/thredds/fileServer/esg_dataroot/CMIP6/DCPP/NCAR/CESM1-1-CAM5-CMIP5/dcppA-hindcast/s1963-r27i1p1f1/Amon/sfcWind/gn/v20191007/sfcWind_Amon_CESM1-1-CAM5-CMIP5_dcppA-hindcast_s1963-r27i1p1f1_gn_196311-197312.nc'}, {'filename': 'sfcWind_Amon_CESM1-1-CAM5-CMIP5_dcppA-hindcast_s1963-r28i1p1f1_gn_196311-197312.nc', 'url': 'http://esgf-data.ucar.edu/thredds/fileServer/esg_dataroot/CMIP6/DCPP/NCAR/CESM1-1-CAM5-CMIP5/dcppA-hindcast/s1963-r28i1p1f1/Amon/sfcWind/gn/v20191007/sfcWind_Amon_CESM1-1-CAM5-CMIP5_dcppA-hindcast_s1963-r28i1p1f1_gn_196311-197312.nc'}, {'filename': 'sfcWind_Amon_CESM1-1-CAM5-CMIP5_dcppA-hindcast_s1963-r22i1p1f1_gn_196311-197312.nc', 'url': 'http://esgf-data.ucar.edu/thredds/fileServer/esg_dataroot/CMIP6/DCPP/NCAR/CESM1-1-CAM5-CMIP5/dcppA-hindcast/s1963-r22i1p1f1/Amon/sfcWind/gn/v20191007/sfcWind_Amon_CESM1-1-CAM5-CMIP5_dcppA-hindcast_s1963-r22i1p1f1_gn_196311-197312.nc'}, {'filename': 'sfcWind_Amon_CESM1-1-CAM5-CMIP5_dcppA-hindcast_s1963-r23i1p1f1_gn_196311-197312.nc', 'url': 'http://esgf-data.ucar.edu/thredds/fileServer/esg_dataroot/CMIP6/DCPP/NCAR/CESM1-1-CAM5-CMIP5/dcppA-hindcast/s1963-r23i1p1f1/Amon/sfcWind/gn/v20191007/sfcWind_Amon_CESM1-1-CAM5-CMIP5_dcppA-hindcast_s1963-r23i1p1f1_gn_196311-197312.nc'}, {'filename': 'sfcWind_Amon_CESM1-1-CAM5-CMIP5_dcppA-hindcast_s1963-r24i1p1f1_gn_196311-197312.nc', 'url': 'http://esgf-data.ucar.edu/thredds/fileServer/esg_dataroot/CMIP6/DCPP/NCAR/CESM1-1-CAM5-CMIP5/dcppA-hindcast/s1963-r24i1p1f1/Amon/sfcWind/gn/v20191007/sfcWind_Amon_CESM1-1-CAM5-CMIP5_dcppA-hindcast_s1963-r24i1p1f1_gn_196311-197312.nc'}, {'filename': 'sfcWind_Amon_CESM1-1-CAM5-CMIP5_dcppA-hindcast_s1963-r20i1p1f1_gn_196311-197312.nc', 'url': 'http://esgf-data.ucar.edu/thredds/fileServer/esg_dataroot/CMIP6/DCPP/NCAR/CESM1-1-CAM5-CMIP5/dcppA-hindcast/s1963-r20i1p1f1/Amon/sfcWind/gn/v20191007/sfcWind_Amon_CESM1-1-CAM5-CMIP5_dcppA-hindcast_s1963-r20i1p1f1_gn_196311-197312.nc'}, {'filename': 'sfcWind_Amon_CESM1-1-CAM5-CMIP5_dcppA-hindcast_s1963-r21i1p1f1_gn_196311-197312.nc', 'url': 'http://esgf-data.ucar.edu/thredds/fileServer/esg_dataroot/CMIP6/DCPP/NCAR/CESM1-1-CAM5-CMIP5/dcppA-hindcast/s1963-r21i1p1f1/Amon/sfcWind/gn/v20191007/sfcWind_Amon_CESM1-1-CAM5-CMIP5_dcppA-hindcast_s1963-r21i1p1f1_gn_196311-197312.nc'}, {'filename': 'sfcWind_Amon_CESM1-1-CAM5-CMIP5_dcppA-hindcast_s1963-r17i1p1f1_gn_196311-197312.nc', 'url': 'http://esgf-data.ucar.edu/thredds/fileServer/esg_dataroot/CMIP6/DCPP/NCAR/CESM1-1-CAM5-CMIP5/dcppA-hindcast/s1963-r17i1p1f1/Amon/sfcWind/gn/v20191007/sfcWind_Amon_CESM1-1-CAM5-CMIP5_dcppA-hindcast_s1963-r17i1p1f1_gn_196311-197312.nc'}, {'filename': 'sfcWind_Amon_CESM1-1-CAM5-CMIP5_dcppA-hindcast_s1963-r18i1p1f1_gn_196311-197312.nc', 'url': 'http://esgf-data.ucar.edu/thredds/fileServer/esg_dataroot/CMIP6/DCPP/NCAR/CESM1-1-CAM5-CMIP5/dcppA-hindcast/s1963-r18i1p1f1/Amon/sfcWind/gn/v20191007/sfcWind_Amon_CESM1-1-CAM5-CMIP5_dcppA-hindcast_s1963-r18i1p1f1_gn_196311-197312.nc'}, {'filename': 'sfcWind_Amon_CESM1-1-CAM5-CMIP5_dcppA-hindcast_s1963-r25i1p1f1_gn_196311-197312.nc', 'url': 'http://esgf-data.ucar.edu/thredds/fileServer/esg_dataroot/CMIP6/DCPP/NCAR/CESM1-1-CAM5-CMIP5/dcppA-hindcast/s1963-r25i1p1f1/Amon/sfcWind/gn/v20191007/sfcWind_Amon_CESM1-1-CAM5-CMIP5_dcppA-hindcast_s1963-r25i1p1f1_gn_196311-197312.nc'}, {'filename': 'sfcWind_Amon_CESM1-1-CAM5-CMIP5_dcppA-hindcast_s1963-r26i1p1f1_gn_196311-197312.nc', 'url': 'http://esgf-data.ucar.edu/thredds/fileServer/esg_dataroot/CMIP6/DCPP/NCAR/CESM1-1-CAM5-CMIP5/dcppA-hindcast/s1963-r26i1p1f1/Amon/sfcWind/gn/v20191007/sfcWind_Amon_CESM1-1-CAM5-CMIP5_dcppA-hindcast_s1963-r26i1p1f1_gn_196311-197312.nc'}, {'filename': 'sfcWind_Amon_CESM1-1-CAM5-CMIP5_dcppA-hindcast_s1963-r29i1p1f1_gn_196311-197312.nc', 'url': 'http://esgf-data.ucar.edu/thredds/fileServer/esg_dataroot/CMIP6/DCPP/NCAR/CESM1-1-CAM5-CMIP5/dcppA-hindcast/s1963-r29i1p1f1/Amon/sfcWind/gn/v20191007/sfcWind_Amon_CESM1-1-CAM5-CMIP5_dcppA-hindcast_s1963-r29i1p1f1_gn_196311-197312.nc'}, {'filename': 'sfcWind_Amon_CESM1-1-CAM5-CMIP5_dcppA-hindcast_s1963-r2i1p1f1_gn_196311-197312.nc', 'url': 'http://esgf-data.ucar.edu/thredds/fileServer/esg_dataroot/CMIP6/DCPP/NCAR/CESM1-1-CAM5-CMIP5/dcppA-hindcast/s1963-r2i1p1f1/Amon/sfcWind/gn/v20191007/sfcWind_Amon_CESM1-1-CAM5-CMIP5_dcppA-hindcast_s1963-r2i1p1f1_gn_196311-197312.nc'}, {'filename': 'sfcWind_Amon_CESM1-1-CAM5-CMIP5_dcppA-hindcast_s1962-r5i1p1f1_gn_196211-197212.nc', 'url': 'http://esgf-data.ucar.edu/thredds/fileServer/esg_dataroot/CMIP6/DCPP/NCAR/CESM1-1-CAM5-CMIP5/dcppA-hindcast/s1962-r5i1p1f1/Amon/sfcWind/gn/v20191007/sfcWind_Amon_CESM1-1-CAM5-CMIP5_dcppA-hindcast_s1962-r5i1p1f1_gn_196211-197212.nc'}, {'filename': 'sfcWind_Amon_CESM1-1-CAM5-CMIP5_dcppA-hindcast_s1962-r6i1p1f1_gn_196211-197212.nc', 'url': 'http://esgf-data.ucar.edu/thredds/fileServer/esg_dataroot/CMIP6/DCPP/NCAR/CESM1-1-CAM5-CMIP5/dcppA-hindcast/s1962-r6i1p1f1/Amon/sfcWind/gn/v20191007/sfcWind_Amon_CESM1-1-CAM5-CMIP5_dcppA-hindcast_s1962-r6i1p1f1_gn_196211-197212.nc'}, {'filename': 'sfcWind_Amon_CESM1-1-CAM5-CMIP5_dcppA-hindcast_s1962-r7i1p1f1_gn_196211-197212.nc', 'url': 'http://esgf-data.ucar.edu/thredds/fileServer/esg_dataroot/CMIP6/DCPP/NCAR/CESM1-1-CAM5-CMIP5/dcppA-hindcast/s1962-r7i1p1f1/Amon/sfcWind/gn/v20191007/sfcWind_Amon_CESM1-1-CAM5-CMIP5_dcppA-hindcast_s1962-r7i1p1f1_gn_196211-197212.nc'}, {'filename': 'sfcWind_Amon_CESM1-1-CAM5-CMIP5_dcppA-hindcast_s1962-r8i1p1f1_gn_196211-197212.nc', 'url': 'http://esgf-data.ucar.edu/thredds/fileServer/esg_dataroot/CMIP6/DCPP/NCAR/CESM1-1-CAM5-CMIP5/dcppA-hindcast/s1962-r8i1p1f1/Amon/sfcWind/gn/v20191007/sfcWind_Amon_CESM1-1-CAM5-CMIP5_dcppA-hindcast_s1962-r8i1p1f1_gn_196211-197212.nc'}, {'filename': 'sfcWind_Amon_CESM1-1-CAM5-CMIP5_dcppA-hindcast_s1962-r9i1p1f1_gn_196211-197212.nc', 'url': 'http://esgf-data.ucar.edu/thredds/fileServer/esg_dataroot/CMIP6/DCPP/NCAR/CESM1-1-CAM5-CMIP5/dcppA-hindcast/s1962-r9i1p1f1/Amon/sfcWind/gn/v20191007/sfcWind_Amon_CESM1-1-CAM5-CMIP5_dcppA-hindcast_s1962-r9i1p1f1_gn_196211-197212.nc'}, {'filename': 'sfcWind_Amon_CESM1-1-CAM5-CMIP5_dcppA-hindcast_s1963-r10i1p1f1_gn_196311-197312.nc', 'url': 'http://esgf-data.ucar.edu/thredds/fileServer/esg_dataroot/CMIP6/DCPP/NCAR/CESM1-1-CAM5-CMIP5/dcppA-hindcast/s1963-r10i1p1f1/Amon/sfcWind/gn/v20191007/sfcWind_Amon_CESM1-1-CAM5-CMIP5_dcppA-hindcast_s1963-r10i1p1f1_gn_196311-197312.nc'}, {'filename': 'sfcWind_Amon_CESM1-1-CAM5-CMIP5_dcppA-hindcast_s1963-r11i1p1f1_gn_196311-197312.nc', 'url': 'http://esgf-data.ucar.edu/thredds/fileServer/esg_dataroot/CMIP6/DCPP/NCAR/CESM1-1-CAM5-CMIP5/dcppA-hindcast/s1963-r11i1p1f1/Amon/sfcWind/gn/v20191007/sfcWind_Amon_CESM1-1-CAM5-CMIP5_dcppA-hindcast_s1963-r11i1p1f1_gn_196311-197312.nc'}, {'filename': 'sfcWind_Amon_CESM1-1-CAM5-CMIP5_dcppA-hindcast_s1963-r12i1p1f1_gn_196311-197312.nc', 'url': 'http://esgf-data.ucar.edu/thredds/fileServer/esg_dataroot/CMIP6/DCPP/NCAR/CESM1-1-CAM5-CMIP5/dcppA-hindcast/s1963-r12i1p1f1/Amon/sfcWind/gn/v20191007/sfcWind_Amon_CESM1-1-CAM5-CMIP5_dcppA-hindcast_s1963-r12i1p1f1_gn_196311-197312.nc'}, {'filename': 'sfcWind_Amon_CESM1-1-CAM5-CMIP5_dcppA-hindcast_s1963-r13i1p1f1_gn_196311-197312.nc', 'url': 'http://esgf-data.ucar.edu/thredds/fileServer/esg_dataroot/CMIP6/DCPP/NCAR/CESM1-1-CAM5-CMIP5/dcppA-hindcast/s1963-r13i1p1f1/Amon/sfcWind/gn/v20191007/sfcWind_Amon_CESM1-1-CAM5-CMIP5_dcppA-hindcast_s1963-r13i1p1f1_gn_196311-197312.nc'}, {'filename': 'sfcWind_Amon_CESM1-1-CAM5-CMIP5_dcppA-hindcast_s1962-r39i1p1f1_gn_196211-197212.nc', 'url': 'http://esgf-data.ucar.edu/thredds/fileServer/esg_dataroot/CMIP6/DCPP/NCAR/CESM1-1-CAM5-CMIP5/dcppA-hindcast/s1962-r39i1p1f1/Amon/sfcWind/gn/v20191007/sfcWind_Amon_CESM1-1-CAM5-CMIP5_dcppA-hindcast_s1962-r39i1p1f1_gn_196211-197212.nc'}, {'filename': 'sfcWind_Amon_CESM1-1-CAM5-CMIP5_dcppA-hindcast_s1962-r3i1p1f1_gn_196211-197212.nc', 'url': 'http://esgf-data.ucar.edu/thredds/fileServer/esg_dataroot/CMIP6/DCPP/NCAR/CESM1-1-CAM5-CMIP5/dcppA-hindcast/s1962-r3i1p1f1/Amon/sfcWind/gn/v20191007/sfcWind_Amon_CESM1-1-CAM5-CMIP5_dcppA-hindcast_s1962-r3i1p1f1_gn_196211-197212.nc'}, {'filename': 'sfcWind_Amon_CESM1-1-CAM5-CMIP5_dcppA-hindcast_s1962-r40i1p1f1_gn_196211-197212.nc', 'url': 'http://esgf-data.ucar.edu/thredds/fileServer/esg_dataroot/CMIP6/DCPP/NCAR/CESM1-1-CAM5-CMIP5/dcppA-hindcast/s1962-r40i1p1f1/Amon/sfcWind/gn/v20191007/sfcWind_Amon_CESM1-1-CAM5-CMIP5_dcppA-hindcast_s1962-r40i1p1f1_gn_196211-197212.nc'}, {'filename': 'sfcWind_Amon_CESM1-1-CAM5-CMIP5_dcppA-hindcast_s1962-r4i1p1f1_gn_196211-197212.nc', 'url': 'http://esgf-data.ucar.edu/thredds/fileServer/esg_dataroot/CMIP6/DCPP/NCAR/CESM1-1-CAM5-CMIP5/dcppA-hindcast/s1962-r4i1p1f1/Amon/sfcWind/gn/v20191007/sfcWind_Amon_CESM1-1-CAM5-CMIP5_dcppA-hindcast_s1962-r4i1p1f1_gn_196211-197212.nc'}, {'filename': 'sfcWind_Amon_CESM1-1-CAM5-CMIP5_dcppA-hindcast_s1963-r14i1p1f1_gn_196311-197312.nc', 'url': 'http://esgf-data.ucar.edu/thredds/fileServer/esg_dataroot/CMIP6/DCPP/NCAR/CESM1-1-CAM5-CMIP5/dcppA-hindcast/s1963-r14i1p1f1/Amon/sfcWind/gn/v20191007/sfcWind_Amon_CESM1-1-CAM5-CMIP5_dcppA-hindcast_s1963-r14i1p1f1_gn_196311-197312.nc'}, {'filename': 'sfcWind_Amon_CESM1-1-CAM5-CMIP5_dcppA-hindcast_s1963-r15i1p1f1_gn_196311-197312.nc', 'url': 'http://esgf-data.ucar.edu/thredds/fileServer/esg_dataroot/CMIP6/DCPP/NCAR/CESM1-1-CAM5-CMIP5/dcppA-hindcast/s1963-r15i1p1f1/Amon/sfcWind/gn/v20191007/sfcWind_Amon_CESM1-1-CAM5-CMIP5_dcppA-hindcast_s1963-r15i1p1f1_gn_196311-197312.nc'}, {'filename': 'sfcWind_Amon_CESM1-1-CAM5-CMIP5_dcppA-hindcast_s1963-r16i1p1f1_gn_196311-197312.nc', 'url': 'http://esgf-data.ucar.edu/thredds/fileServer/esg_dataroot/CMIP6/DCPP/NCAR/CESM1-1-CAM5-CMIP5/dcppA-hindcast/s1963-r16i1p1f1/Amon/sfcWind/gn/v20191007/sfcWind_Amon_CESM1-1-CAM5-CMIP5_dcppA-hindcast_s1963-r16i1p1f1_gn_196311-197312.nc'}, {'filename': 'sfcWind_Amon_CESM1-1-CAM5-CMIP5_dcppA-hindcast_s1962-r37i1p1f1_gn_196211-197212.nc', 'url': 'http://esgf-data.ucar.edu/thredds/fileServer/esg_dataroot/CMIP6/DCPP/NCAR/CESM1-1-CAM5-CMIP5/dcppA-hindcast/s1962-r37i1p1f1/Amon/sfcWind/gn/v20191007/sfcWind_Amon_CESM1-1-CAM5-CMIP5_dcppA-hindcast_s1962-r37i1p1f1_gn_196211-197212.nc'}, {'filename': 'sfcWind_Amon_CESM1-1-CAM5-CMIP5_dcppA-hindcast_s1962-r38i1p1f1_gn_196211-197212.nc', 'url': 'http://esgf-data.ucar.edu/thredds/fileServer/esg_dataroot/CMIP6/DCPP/NCAR/CESM1-1-CAM5-CMIP5/dcppA-hindcast/s1962-r38i1p1f1/Amon/sfcWind/gn/v20191007/sfcWind_Amon_CESM1-1-CAM5-CMIP5_dcppA-hindcast_s1962-r38i1p1f1_gn_196211-197212.nc'}, {'filename': 'sfcWind_Amon_CESM1-1-CAM5-CMIP5_dcppA-hindcast_s1962-r12i1p1f1_gn_196211-197212.nc', 'url': 'http://esgf-data.ucar.edu/thredds/fileServer/esg_dataroot/CMIP6/DCPP/NCAR/CESM1-1-CAM5-CMIP5/dcppA-hindcast/s1962-r12i1p1f1/Amon/sfcWind/gn/v20191007/sfcWind_Amon_CESM1-1-CAM5-CMIP5_dcppA-hindcast_s1962-r12i1p1f1_gn_196211-197212.nc'}, {'filename': 'sfcWind_Amon_CESM1-1-CAM5-CMIP5_dcppA-hindcast_s1962-r13i1p1f1_gn_196211-197212.nc', 'url': 'http://esgf-data.ucar.edu/thredds/fileServer/esg_dataroot/CMIP6/DCPP/NCAR/CESM1-1-CAM5-CMIP5/dcppA-hindcast/s1962-r13i1p1f1/Amon/sfcWind/gn/v20191007/sfcWind_Amon_CESM1-1-CAM5-CMIP5_dcppA-hindcast_s1962-r13i1p1f1_gn_196211-197212.nc'}, {'filename': 'sfcWind_Amon_CESM1-1-CAM5-CMIP5_dcppA-hindcast_s1962-r14i1p1f1_gn_196211-197212.nc', 'url': 'http://esgf-data.ucar.edu/thredds/fileServer/esg_dataroot/CMIP6/DCPP/NCAR/CESM1-1-CAM5-CMIP5/dcppA-hindcast/s1962-r14i1p1f1/Amon/sfcWind/gn/v20191007/sfcWind_Amon_CESM1-1-CAM5-CMIP5_dcppA-hindcast_s1962-r14i1p1f1_gn_196211-197212.nc'}, {'filename': 'sfcWind_Amon_CESM1-1-CAM5-CMIP5_dcppA-hindcast_s1962-r10i1p1f1_gn_196211-197212.nc', 'url': 'http://esgf-data.ucar.edu/thredds/fileServer/esg_dataroot/CMIP6/DCPP/NCAR/CESM1-1-CAM5-CMIP5/dcppA-hindcast/s1962-r10i1p1f1/Amon/sfcWind/gn/v20191007/sfcWind_Amon_CESM1-1-CAM5-CMIP5_dcppA-hindcast_s1962-r10i1p1f1_gn_196211-197212.nc'}, {'filename': 'sfcWind_Amon_CESM1-1-CAM5-CMIP5_dcppA-hindcast_s1962-r11i1p1f1_gn_196211-197212.nc', 'url': 'http://esgf-data.ucar.edu/thredds/fileServer/esg_dataroot/CMIP6/DCPP/NCAR/CESM1-1-CAM5-CMIP5/dcppA-hindcast/s1962-r11i1p1f1/Amon/sfcWind/gn/v20191007/sfcWind_Amon_CESM1-1-CAM5-CMIP5_dcppA-hindcast_s1962-r11i1p1f1_gn_196211-197212.nc'}, {'filename': 'sfcWind_Amon_CESM1-1-CAM5-CMIP5_dcppA-hindcast_s1962-r15i1p1f1_gn_196211-197212.nc', 'url': 'http://esgf-data.ucar.edu/thredds/fileServer/esg_dataroot/CMIP6/DCPP/NCAR/CESM1-1-CAM5-CMIP5/dcppA-hindcast/s1962-r15i1p1f1/Amon/sfcWind/gn/v20191007/sfcWind_Amon_CESM1-1-CAM5-CMIP5_dcppA-hindcast_s1962-r15i1p1f1_gn_196211-197212.nc'}, {'filename': 'sfcWind_Amon_CESM1-1-CAM5-CMIP5_dcppA-hindcast_s1962-r16i1p1f1_gn_196211-197212.nc', 'url': 'http://esgf-data.ucar.edu/thredds/fileServer/esg_dataroot/CMIP6/DCPP/NCAR/CESM1-1-CAM5-CMIP5/dcppA-hindcast/s1962-r16i1p1f1/Amon/sfcWind/gn/v20191007/sfcWind_Amon_CESM1-1-CAM5-CMIP5_dcppA-hindcast_s1962-r16i1p1f1_gn_196211-197212.nc'}, {'filename': 'sfcWind_Amon_CESM1-1-CAM5-CMIP5_dcppA-hindcast_s1962-r17i1p1f1_gn_196211-197212.nc', 'url': 'http://esgf-data.ucar.edu/thredds/fileServer/esg_dataroot/CMIP6/DCPP/NCAR/CESM1-1-CAM5-CMIP5/dcppA-hindcast/s1962-r17i1p1f1/Amon/sfcWind/gn/v20191007/sfcWind_Amon_CESM1-1-CAM5-CMIP5_dcppA-hindcast_s1962-r17i1p1f1_gn_196211-197212.nc'}, {'filename': 'sfcWind_Amon_CESM1-1-CAM5-CMIP5_dcppA-hindcast_s1962-r18i1p1f1_gn_196211-197212.nc', 'url': 'http://esgf-data.ucar.edu/thredds/fileServer/esg_dataroot/CMIP6/DCPP/NCAR/CESM1-1-CAM5-CMIP5/dcppA-hindcast/s1962-r18i1p1f1/Amon/sfcWind/gn/v20191007/sfcWind_Amon_CESM1-1-CAM5-CMIP5_dcppA-hindcast_s1962-r18i1p1f1_gn_196211-197212.nc'}, {'filename': 'sfcWind_Amon_CESM1-1-CAM5-CMIP5_dcppA-hindcast_s1962-r30i1p1f1_gn_196211-197212.nc', 'url': 'http://esgf-data.ucar.edu/thredds/fileServer/esg_dataroot/CMIP6/DCPP/NCAR/CESM1-1-CAM5-CMIP5/dcppA-hindcast/s1962-r30i1p1f1/Amon/sfcWind/gn/v20191007/sfcWind_Amon_CESM1-1-CAM5-CMIP5_dcppA-hindcast_s1962-r30i1p1f1_gn_196211-197212.nc'}, {'filename': 'sfcWind_Amon_CESM1-1-CAM5-CMIP5_dcppA-hindcast_s1962-r31i1p1f1_gn_196211-197212.nc', 'url': 'http://esgf-data.ucar.edu/thredds/fileServer/esg_dataroot/CMIP6/DCPP/NCAR/CESM1-1-CAM5-CMIP5/dcppA-hindcast/s1962-r31i1p1f1/Amon/sfcWind/gn/v20191007/sfcWind_Amon_CESM1-1-CAM5-CMIP5_dcppA-hindcast_s1962-r31i1p1f1_gn_196211-197212.nc'}, {'filename': 'sfcWind_Amon_CESM1-1-CAM5-CMIP5_dcppA-hindcast_s1962-r27i1p1f1_gn_196211-197212.nc', 'url': 'http://esgf-data.ucar.edu/thredds/fileServer/esg_dataroot/CMIP6/DCPP/NCAR/CESM1-1-CAM5-CMIP5/dcppA-hindcast/s1962-r27i1p1f1/Amon/sfcWind/gn/v20191007/sfcWind_Amon_CESM1-1-CAM5-CMIP5_dcppA-hindcast_s1962-r27i1p1f1_gn_196211-197212.nc'}, {'filename': 'sfcWind_Amon_CESM1-1-CAM5-CMIP5_dcppA-hindcast_s1962-r28i1p1f1_gn_196211-197212.nc', 'url': 'http://esgf-data.ucar.edu/thredds/fileServer/esg_dataroot/CMIP6/DCPP/NCAR/CESM1-1-CAM5-CMIP5/dcppA-hindcast/s1962-r28i1p1f1/Amon/sfcWind/gn/v20191007/sfcWind_Amon_CESM1-1-CAM5-CMIP5_dcppA-hindcast_s1962-r28i1p1f1_gn_196211-197212.nc'}, {'filename': 'sfcWind_Amon_CESM1-1-CAM5-CMIP5_dcppA-hindcast_s1962-r32i1p1f1_gn_196211-197212.nc', 'url': 'http://esgf-data.ucar.edu/thredds/fileServer/esg_dataroot/CMIP6/DCPP/NCAR/CESM1-1-CAM5-CMIP5/dcppA-hindcast/s1962-r32i1p1f1/Amon/sfcWind/gn/v20191007/sfcWind_Amon_CESM1-1-CAM5-CMIP5_dcppA-hindcast_s1962-r32i1p1f1_gn_196211-197212.nc'}, {'filename': 'sfcWind_Amon_CESM1-1-CAM5-CMIP5_dcppA-hindcast_s1962-r33i1p1f1_gn_196211-197212.nc', 'url': 'http://esgf-data.ucar.edu/thredds/fileServer/esg_dataroot/CMIP6/DCPP/NCAR/CESM1-1-CAM5-CMIP5/dcppA-hindcast/s1962-r33i1p1f1/Amon/sfcWind/gn/v20191007/sfcWind_Amon_CESM1-1-CAM5-CMIP5_dcppA-hindcast_s1962-r33i1p1f1_gn_196211-197212.nc'}, {'filename': 'sfcWind_Amon_CESM1-1-CAM5-CMIP5_dcppA-hindcast_s1962-r25i1p1f1_gn_196211-197212.nc', 'url': 'http://esgf-data.ucar.edu/thredds/fileServer/esg_dataroot/CMIP6/DCPP/NCAR/CESM1-1-CAM5-CMIP5/dcppA-hindcast/s1962-r25i1p1f1/Amon/sfcWind/gn/v20191007/sfcWind_Amon_CESM1-1-CAM5-CMIP5_dcppA-hindcast_s1962-r25i1p1f1_gn_196211-197212.nc'}, {'filename': 'sfcWind_Amon_CESM1-1-CAM5-CMIP5_dcppA-hindcast_s1962-r26i1p1f1_gn_196211-197212.nc', 'url': 'http://esgf-data.ucar.edu/thredds/fileServer/esg_dataroot/CMIP6/DCPP/NCAR/CESM1-1-CAM5-CMIP5/dcppA-hindcast/s1962-r26i1p1f1/Amon/sfcWind/gn/v20191007/sfcWind_Amon_CESM1-1-CAM5-CMIP5_dcppA-hindcast_s1962-r26i1p1f1_gn_196211-197212.nc'}, {'filename': 'sfcWind_Amon_CESM1-1-CAM5-CMIP5_dcppA-hindcast_s1962-r22i1p1f1_gn_196211-197212.nc', 'url': 'http://esgf-data.ucar.edu/thredds/fileServer/esg_dataroot/CMIP6/DCPP/NCAR/CESM1-1-CAM5-CMIP5/dcppA-hindcast/s1962-r22i1p1f1/Amon/sfcWind/gn/v20191007/sfcWind_Amon_CESM1-1-CAM5-CMIP5_dcppA-hindcast_s1962-r22i1p1f1_gn_196211-197212.nc'}, {'filename': 'sfcWind_Amon_CESM1-1-CAM5-CMIP5_dcppA-hindcast_s1962-r23i1p1f1_gn_196211-197212.nc', 'url': 'http://esgf-data.ucar.edu/thredds/fileServer/esg_dataroot/CMIP6/DCPP/NCAR/CESM1-1-CAM5-CMIP5/dcppA-hindcast/s1962-r23i1p1f1/Amon/sfcWind/gn/v20191007/sfcWind_Amon_CESM1-1-CAM5-CMIP5_dcppA-hindcast_s1962-r23i1p1f1_gn_196211-197212.nc'}, {'filename': 'sfcWind_Amon_CESM1-1-CAM5-CMIP5_dcppA-hindcast_s1962-r24i1p1f1_gn_196211-197212.nc', 'url': 'http://esgf-data.ucar.edu/thredds/fileServer/esg_dataroot/CMIP6/DCPP/NCAR/CESM1-1-CAM5-CMIP5/dcppA-hindcast/s1962-r24i1p1f1/Amon/sfcWind/gn/v20191007/sfcWind_Amon_CESM1-1-CAM5-CMIP5_dcppA-hindcast_s1962-r24i1p1f1_gn_196211-197212.nc'}, {'filename': 'sfcWind_Amon_CESM1-1-CAM5-CMIP5_dcppA-hindcast_s1962-r29i1p1f1_gn_196211-197212.nc', 'url': 'http://esgf-data.ucar.edu/thredds/fileServer/esg_dataroot/CMIP6/DCPP/NCAR/CESM1-1-CAM5-CMIP5/dcppA-hindcast/s1962-r29i1p1f1/Amon/sfcWind/gn/v20191007/sfcWind_Amon_CESM1-1-CAM5-CMIP5_dcppA-hindcast_s1962-r29i1p1f1_gn_196211-197212.nc'}, {'filename': 'sfcWind_Amon_CESM1-1-CAM5-CMIP5_dcppA-hindcast_s1962-r2i1p1f1_gn_196211-197212.nc', 'url': 'http://esgf-data.ucar.edu/thredds/fileServer/esg_dataroot/CMIP6/DCPP/NCAR/CESM1-1-CAM5-CMIP5/dcppA-hindcast/s1962-r2i1p1f1/Amon/sfcWind/gn/v20191007/sfcWind_Amon_CESM1-1-CAM5-CMIP5_dcppA-hindcast_s1962-r2i1p1f1_gn_196211-197212.nc'}, {'filename': 'sfcWind_Amon_CESM1-1-CAM5-CMIP5_dcppA-hindcast_s1962-r34i1p1f1_gn_196211-197212.nc', 'url': 'http://esgf-data.ucar.edu/thredds/fileServer/esg_dataroot/CMIP6/DCPP/NCAR/CESM1-1-CAM5-CMIP5/dcppA-hindcast/s1962-r34i1p1f1/Amon/sfcWind/gn/v20191007/sfcWind_Amon_CESM1-1-CAM5-CMIP5_dcppA-hindcast_s1962-r34i1p1f1_gn_196211-197212.nc'}, {'filename': 'sfcWind_Amon_CESM1-1-CAM5-CMIP5_dcppA-hindcast_s1962-r35i1p1f1_gn_196211-197212.nc', 'url': 'http://esgf-data.ucar.edu/thredds/fileServer/esg_dataroot/CMIP6/DCPP/NCAR/CESM1-1-CAM5-CMIP5/dcppA-hindcast/s1962-r35i1p1f1/Amon/sfcWind/gn/v20191007/sfcWind_Amon_CESM1-1-CAM5-CMIP5_dcppA-hindcast_s1962-r35i1p1f1_gn_196211-197212.nc'}, {'filename': 'sfcWind_Amon_CESM1-1-CAM5-CMIP5_dcppA-hindcast_s1962-r36i1p1f1_gn_196211-197212.nc', 'url': 'http://esgf-data.ucar.edu/thredds/fileServer/esg_dataroot/CMIP6/DCPP/NCAR/CESM1-1-CAM5-CMIP5/dcppA-hindcast/s1962-r36i1p1f1/Amon/sfcWind/gn/v20191007/sfcWind_Amon_CESM1-1-CAM5-CMIP5_dcppA-hindcast_s1962-r36i1p1f1_gn_196211-197212.nc'}, {'filename': 'sfcWind_Amon_CESM1-1-CAM5-CMIP5_dcppA-hindcast_s1962-r20i1p1f1_gn_196211-197212.nc', 'url': 'http://esgf-data.ucar.edu/thredds/fileServer/esg_dataroot/CMIP6/DCPP/NCAR/CESM1-1-CAM5-CMIP5/dcppA-hindcast/s1962-r20i1p1f1/Amon/sfcWind/gn/v20191007/sfcWind_Amon_CESM1-1-CAM5-CMIP5_dcppA-hindcast_s1962-r20i1p1f1_gn_196211-197212.nc'}, {'filename': 'sfcWind_Amon_CESM1-1-CAM5-CMIP5_dcppA-hindcast_s1962-r21i1p1f1_gn_196211-197212.nc', 'url': 'http://esgf-data.ucar.edu/thredds/fileServer/esg_dataroot/CMIP6/DCPP/NCAR/CESM1-1-CAM5-CMIP5/dcppA-hindcast/s1962-r21i1p1f1/Amon/sfcWind/gn/v20191007/sfcWind_Amon_CESM1-1-CAM5-CMIP5_dcppA-hindcast_s1962-r21i1p1f1_gn_196211-197212.nc'}, {'filename': 'sfcWind_Amon_CESM1-1-CAM5-CMIP5_dcppA-hindcast_s1962-r19i1p1f1_gn_196211-197212.nc', 'url': 'http://esgf-data.ucar.edu/thredds/fileServer/esg_dataroot/CMIP6/DCPP/NCAR/CESM1-1-CAM5-CMIP5/dcppA-hindcast/s1962-r19i1p1f1/Amon/sfcWind/gn/v20191007/sfcWind_Amon_CESM1-1-CAM5-CMIP5_dcppA-hindcast_s1962-r19i1p1f1_gn_196211-197212.nc'}, {'filename': 'sfcWind_Amon_CESM1-1-CAM5-CMIP5_dcppA-hindcast_s1962-r1i1p1f1_gn_196211-197212.nc', 'url': 'http://esgf-data.ucar.edu/thredds/fileServer/esg_dataroot/CMIP6/DCPP/NCAR/CESM1-1-CAM5-CMIP5/dcppA-hindcast/s1962-r1i1p1f1/Amon/sfcWind/gn/v20191007/sfcWind_Amon_CESM1-1-CAM5-CMIP5_dcppA-hindcast_s1962-r1i1p1f1_gn_196211-197212.nc'}, {'filename': 'sfcWind_Amon_CESM1-1-CAM5-CMIP5_dcppA-hindcast_s1963-r37i1p1f1_gn_196311-197312.nc', 'url': 'http://esgf-data.ucar.edu/thredds/fileServer/esg_dataroot/CMIP6/DCPP/NCAR/CESM1-1-CAM5-CMIP5/dcppA-hindcast/s1963-r37i1p1f1/Amon/sfcWind/gn/v20191007/sfcWind_Amon_CESM1-1-CAM5-CMIP5_dcppA-hindcast_s1963-r37i1p1f1_gn_196311-197312.nc'}, {'filename': 'sfcWind_Amon_CESM1-1-CAM5-CMIP5_dcppA-hindcast_s1963-r38i1p1f1_gn_196311-197312.nc', 'url': 'http://esgf-data.ucar.edu/thredds/fileServer/esg_dataroot/CMIP6/DCPP/NCAR/CESM1-1-CAM5-CMIP5/dcppA-hindcast/s1963-r38i1p1f1/Amon/sfcWind/gn/v20191007/sfcWind_Amon_CESM1-1-CAM5-CMIP5_dcppA-hindcast_s1963-r38i1p1f1_gn_196311-197312.nc'}, {'filename': 'sfcWind_Amon_CESM1-1-CAM5-CMIP5_dcppA-hindcast_s1963-r35i1p1f1_gn_196311-197312.nc', 'url': 'http://esgf-data.ucar.edu/thredds/fileServer/esg_dataroot/CMIP6/DCPP/NCAR/CESM1-1-CAM5-CMIP5/dcppA-hindcast/s1963-r35i1p1f1/Amon/sfcWind/gn/v20191007/sfcWind_Amon_CESM1-1-CAM5-CMIP5_dcppA-hindcast_s1963-r35i1p1f1_gn_196311-197312.nc'}, {'filename': 'sfcWind_Amon_CESM1-1-CAM5-CMIP5_dcppA-hindcast_s1963-r36i1p1f1_gn_196311-197312.nc', 'url': 'http://esgf-data.ucar.edu/thredds/fileServer/esg_dataroot/CMIP6/DCPP/NCAR/CESM1-1-CAM5-CMIP5/dcppA-hindcast/s1963-r36i1p1f1/Amon/sfcWind/gn/v20191007/sfcWind_Amon_CESM1-1-CAM5-CMIP5_dcppA-hindcast_s1963-r36i1p1f1_gn_196311-197312.nc'}, {'filename': 'sfcWind_Amon_CESM1-1-CAM5-CMIP5_dcppA-hindcast_s1963-r30i1p1f1_gn_196311-197312.nc', 'url': 'http://esgf-data.ucar.edu/thredds/fileServer/esg_dataroot/CMIP6/DCPP/NCAR/CESM1-1-CAM5-CMIP5/dcppA-hindcast/s1963-r30i1p1f1/Amon/sfcWind/gn/v20191007/sfcWind_Amon_CESM1-1-CAM5-CMIP5_dcppA-hindcast_s1963-r30i1p1f1_gn_196311-197312.nc'}, {'filename': 'sfcWind_Amon_CESM1-1-CAM5-CMIP5_dcppA-hindcast_s1963-r31i1p1f1_gn_196311-197312.nc', 'url': 'http://esgf-data.ucar.edu/thredds/fileServer/esg_dataroot/CMIP6/DCPP/NCAR/CESM1-1-CAM5-CMIP5/dcppA-hindcast/s1963-r31i1p1f1/Amon/sfcWind/gn/v20191007/sfcWind_Amon_CESM1-1-CAM5-CMIP5_dcppA-hindcast_s1963-r31i1p1f1_gn_196311-197312.nc'}, {'filename': 'sfcWind_Amon_CESM1-1-CAM5-CMIP5_dcppA-hindcast_s1963-r32i1p1f1_gn_196311-197312.nc', 'url': 'http://esgf-data.ucar.edu/thredds/fileServer/esg_dataroot/CMIP6/DCPP/NCAR/CESM1-1-CAM5-CMIP5/dcppA-hindcast/s1963-r32i1p1f1/Amon/sfcWind/gn/v20191007/sfcWind_Amon_CESM1-1-CAM5-CMIP5_dcppA-hindcast_s1963-r32i1p1f1_gn_196311-197312.nc'}]]\n",
      "[[]]\n"
     ]
    },
    {
     "name": "stderr",
     "output_type": "stream",
     "text": [
      "\n"
     ]
    }
   ],
   "source": [
    "# Set up a list for the file context\n",
    "file_context_list = []\n",
    "failed_results_list = []\n",
    "\n",
    "# # Constrain results_list to the first 3 results\n",
    "# results_list = results_list[3:5]\n",
    "\n",
    "# Loop through the results_list and print ther number of results\n",
    "for results in results_list:\n",
    "    print(len(results))\n",
    "\n",
    "    # Extract the file context from the results\n",
    "    file_context, failed_results = extract_file_context(results)\n",
    "\n",
    "    # Append the file_context to the file_context_list\n",
    "    file_context_list.append(file_context)\n",
    "\n",
    "    # Append the failed_results to the failed_results_list\n",
    "    failed_results_list.append(failed_results)\n",
    "\n",
    "\n",
    "# Print the file_context_list\n",
    "print(file_context_list)\n",
    "\n",
    "# Print the failed_results_list\n",
    "print(failed_results_list)"
   ]
  },
  {
   "cell_type": "code",
   "execution_count": 32,
   "metadata": {},
   "outputs": [
    {
     "name": "stdout",
     "output_type": "stream",
     "text": [
      "1\n",
      "<class 'list'>\n",
      "[[{'filename': 'sfcWind_Amon_CESM1-1-CAM5-CMIP5_dcppA-hindcast_s1963-r8i1p1f1_gn_196311-197312.nc', 'url': 'http://esgf-data.ucar.edu/thredds/fileServer/esg_dataroot/CMIP6/DCPP/NCAR/CESM1-1-CAM5-CMIP5/dcppA-hindcast/s1963-r8i1p1f1/Amon/sfcWind/gn/v20191007/sfcWind_Amon_CESM1-1-CAM5-CMIP5_dcppA-hindcast_s1963-r8i1p1f1_gn_196311-197312.nc'}, {'filename': 'sfcWind_Amon_CESM1-1-CAM5-CMIP5_dcppA-hindcast_s1963-r9i1p1f1_gn_196311-197312.nc', 'url': 'http://esgf-data.ucar.edu/thredds/fileServer/esg_dataroot/CMIP6/DCPP/NCAR/CESM1-1-CAM5-CMIP5/dcppA-hindcast/s1963-r9i1p1f1/Amon/sfcWind/gn/v20191007/sfcWind_Amon_CESM1-1-CAM5-CMIP5_dcppA-hindcast_s1963-r9i1p1f1_gn_196311-197312.nc'}, {'filename': 'sfcWind_Amon_CESM1-1-CAM5-CMIP5_dcppA-hindcast_s1963-r40i1p1f1_gn_196311-197312.nc', 'url': 'http://esgf-data.ucar.edu/thredds/fileServer/esg_dataroot/CMIP6/DCPP/NCAR/CESM1-1-CAM5-CMIP5/dcppA-hindcast/s1963-r40i1p1f1/Amon/sfcWind/gn/v20191007/sfcWind_Amon_CESM1-1-CAM5-CMIP5_dcppA-hindcast_s1963-r40i1p1f1_gn_196311-197312.nc'}, {'filename': 'sfcWind_Amon_CESM1-1-CAM5-CMIP5_dcppA-hindcast_s1963-r4i1p1f1_gn_196311-197312.nc', 'url': 'http://esgf-data.ucar.edu/thredds/fileServer/esg_dataroot/CMIP6/DCPP/NCAR/CESM1-1-CAM5-CMIP5/dcppA-hindcast/s1963-r4i1p1f1/Amon/sfcWind/gn/v20191007/sfcWind_Amon_CESM1-1-CAM5-CMIP5_dcppA-hindcast_s1963-r4i1p1f1_gn_196311-197312.nc'}, {'filename': 'sfcWind_Amon_CESM1-1-CAM5-CMIP5_dcppA-hindcast_s1963-r5i1p1f1_gn_196311-197312.nc', 'url': 'http://esgf-data.ucar.edu/thredds/fileServer/esg_dataroot/CMIP6/DCPP/NCAR/CESM1-1-CAM5-CMIP5/dcppA-hindcast/s1963-r5i1p1f1/Amon/sfcWind/gn/v20191007/sfcWind_Amon_CESM1-1-CAM5-CMIP5_dcppA-hindcast_s1963-r5i1p1f1_gn_196311-197312.nc'}, {'filename': 'sfcWind_Amon_CESM1-1-CAM5-CMIP5_dcppA-hindcast_s1963-r6i1p1f1_gn_196311-197312.nc', 'url': 'http://esgf-data.ucar.edu/thredds/fileServer/esg_dataroot/CMIP6/DCPP/NCAR/CESM1-1-CAM5-CMIP5/dcppA-hindcast/s1963-r6i1p1f1/Amon/sfcWind/gn/v20191007/sfcWind_Amon_CESM1-1-CAM5-CMIP5_dcppA-hindcast_s1963-r6i1p1f1_gn_196311-197312.nc'}, {'filename': 'sfcWind_Amon_CESM1-1-CAM5-CMIP5_dcppA-hindcast_s1963-r7i1p1f1_gn_196311-197312.nc', 'url': 'http://esgf-data.ucar.edu/thredds/fileServer/esg_dataroot/CMIP6/DCPP/NCAR/CESM1-1-CAM5-CMIP5/dcppA-hindcast/s1963-r7i1p1f1/Amon/sfcWind/gn/v20191007/sfcWind_Amon_CESM1-1-CAM5-CMIP5_dcppA-hindcast_s1963-r7i1p1f1_gn_196311-197312.nc'}, {'filename': 'sfcWind_Amon_CESM1-1-CAM5-CMIP5_dcppA-hindcast_s1963-r33i1p1f1_gn_196311-197312.nc', 'url': 'http://esgf-data.ucar.edu/thredds/fileServer/esg_dataroot/CMIP6/DCPP/NCAR/CESM1-1-CAM5-CMIP5/dcppA-hindcast/s1963-r33i1p1f1/Amon/sfcWind/gn/v20191007/sfcWind_Amon_CESM1-1-CAM5-CMIP5_dcppA-hindcast_s1963-r33i1p1f1_gn_196311-197312.nc'}, {'filename': 'sfcWind_Amon_CESM1-1-CAM5-CMIP5_dcppA-hindcast_s1963-r34i1p1f1_gn_196311-197312.nc', 'url': 'http://esgf-data.ucar.edu/thredds/fileServer/esg_dataroot/CMIP6/DCPP/NCAR/CESM1-1-CAM5-CMIP5/dcppA-hindcast/s1963-r34i1p1f1/Amon/sfcWind/gn/v20191007/sfcWind_Amon_CESM1-1-CAM5-CMIP5_dcppA-hindcast_s1963-r34i1p1f1_gn_196311-197312.nc'}, {'filename': 'sfcWind_Amon_CESM1-1-CAM5-CMIP5_dcppA-hindcast_s1963-r3i1p1f1_gn_196311-197312.nc', 'url': 'http://esgf-data.ucar.edu/thredds/fileServer/esg_dataroot/CMIP6/DCPP/NCAR/CESM1-1-CAM5-CMIP5/dcppA-hindcast/s1963-r3i1p1f1/Amon/sfcWind/gn/v20191007/sfcWind_Amon_CESM1-1-CAM5-CMIP5_dcppA-hindcast_s1963-r3i1p1f1_gn_196311-197312.nc'}, {'filename': 'sfcWind_Amon_CESM1-1-CAM5-CMIP5_dcppA-hindcast_s1963-r39i1p1f1_gn_196311-197312.nc', 'url': 'http://esgf-data.ucar.edu/thredds/fileServer/esg_dataroot/CMIP6/DCPP/NCAR/CESM1-1-CAM5-CMIP5/dcppA-hindcast/s1963-r39i1p1f1/Amon/sfcWind/gn/v20191007/sfcWind_Amon_CESM1-1-CAM5-CMIP5_dcppA-hindcast_s1963-r39i1p1f1_gn_196311-197312.nc'}, {'filename': 'sfcWind_Amon_CESM1-1-CAM5-CMIP5_dcppA-hindcast_s1963-r19i1p1f1_gn_196311-197312.nc', 'url': 'http://esgf-data.ucar.edu/thredds/fileServer/esg_dataroot/CMIP6/DCPP/NCAR/CESM1-1-CAM5-CMIP5/dcppA-hindcast/s1963-r19i1p1f1/Amon/sfcWind/gn/v20191007/sfcWind_Amon_CESM1-1-CAM5-CMIP5_dcppA-hindcast_s1963-r19i1p1f1_gn_196311-197312.nc'}, {'filename': 'sfcWind_Amon_CESM1-1-CAM5-CMIP5_dcppA-hindcast_s1963-r1i1p1f1_gn_196311-197312.nc', 'url': 'http://esgf-data.ucar.edu/thredds/fileServer/esg_dataroot/CMIP6/DCPP/NCAR/CESM1-1-CAM5-CMIP5/dcppA-hindcast/s1963-r1i1p1f1/Amon/sfcWind/gn/v20191007/sfcWind_Amon_CESM1-1-CAM5-CMIP5_dcppA-hindcast_s1963-r1i1p1f1_gn_196311-197312.nc'}, {'filename': 'sfcWind_Amon_CESM1-1-CAM5-CMIP5_dcppA-hindcast_s1963-r27i1p1f1_gn_196311-197312.nc', 'url': 'http://esgf-data.ucar.edu/thredds/fileServer/esg_dataroot/CMIP6/DCPP/NCAR/CESM1-1-CAM5-CMIP5/dcppA-hindcast/s1963-r27i1p1f1/Amon/sfcWind/gn/v20191007/sfcWind_Amon_CESM1-1-CAM5-CMIP5_dcppA-hindcast_s1963-r27i1p1f1_gn_196311-197312.nc'}, {'filename': 'sfcWind_Amon_CESM1-1-CAM5-CMIP5_dcppA-hindcast_s1963-r28i1p1f1_gn_196311-197312.nc', 'url': 'http://esgf-data.ucar.edu/thredds/fileServer/esg_dataroot/CMIP6/DCPP/NCAR/CESM1-1-CAM5-CMIP5/dcppA-hindcast/s1963-r28i1p1f1/Amon/sfcWind/gn/v20191007/sfcWind_Amon_CESM1-1-CAM5-CMIP5_dcppA-hindcast_s1963-r28i1p1f1_gn_196311-197312.nc'}, {'filename': 'sfcWind_Amon_CESM1-1-CAM5-CMIP5_dcppA-hindcast_s1963-r22i1p1f1_gn_196311-197312.nc', 'url': 'http://esgf-data.ucar.edu/thredds/fileServer/esg_dataroot/CMIP6/DCPP/NCAR/CESM1-1-CAM5-CMIP5/dcppA-hindcast/s1963-r22i1p1f1/Amon/sfcWind/gn/v20191007/sfcWind_Amon_CESM1-1-CAM5-CMIP5_dcppA-hindcast_s1963-r22i1p1f1_gn_196311-197312.nc'}, {'filename': 'sfcWind_Amon_CESM1-1-CAM5-CMIP5_dcppA-hindcast_s1963-r23i1p1f1_gn_196311-197312.nc', 'url': 'http://esgf-data.ucar.edu/thredds/fileServer/esg_dataroot/CMIP6/DCPP/NCAR/CESM1-1-CAM5-CMIP5/dcppA-hindcast/s1963-r23i1p1f1/Amon/sfcWind/gn/v20191007/sfcWind_Amon_CESM1-1-CAM5-CMIP5_dcppA-hindcast_s1963-r23i1p1f1_gn_196311-197312.nc'}, {'filename': 'sfcWind_Amon_CESM1-1-CAM5-CMIP5_dcppA-hindcast_s1963-r24i1p1f1_gn_196311-197312.nc', 'url': 'http://esgf-data.ucar.edu/thredds/fileServer/esg_dataroot/CMIP6/DCPP/NCAR/CESM1-1-CAM5-CMIP5/dcppA-hindcast/s1963-r24i1p1f1/Amon/sfcWind/gn/v20191007/sfcWind_Amon_CESM1-1-CAM5-CMIP5_dcppA-hindcast_s1963-r24i1p1f1_gn_196311-197312.nc'}, {'filename': 'sfcWind_Amon_CESM1-1-CAM5-CMIP5_dcppA-hindcast_s1963-r20i1p1f1_gn_196311-197312.nc', 'url': 'http://esgf-data.ucar.edu/thredds/fileServer/esg_dataroot/CMIP6/DCPP/NCAR/CESM1-1-CAM5-CMIP5/dcppA-hindcast/s1963-r20i1p1f1/Amon/sfcWind/gn/v20191007/sfcWind_Amon_CESM1-1-CAM5-CMIP5_dcppA-hindcast_s1963-r20i1p1f1_gn_196311-197312.nc'}, {'filename': 'sfcWind_Amon_CESM1-1-CAM5-CMIP5_dcppA-hindcast_s1963-r21i1p1f1_gn_196311-197312.nc', 'url': 'http://esgf-data.ucar.edu/thredds/fileServer/esg_dataroot/CMIP6/DCPP/NCAR/CESM1-1-CAM5-CMIP5/dcppA-hindcast/s1963-r21i1p1f1/Amon/sfcWind/gn/v20191007/sfcWind_Amon_CESM1-1-CAM5-CMIP5_dcppA-hindcast_s1963-r21i1p1f1_gn_196311-197312.nc'}, {'filename': 'sfcWind_Amon_CESM1-1-CAM5-CMIP5_dcppA-hindcast_s1963-r17i1p1f1_gn_196311-197312.nc', 'url': 'http://esgf-data.ucar.edu/thredds/fileServer/esg_dataroot/CMIP6/DCPP/NCAR/CESM1-1-CAM5-CMIP5/dcppA-hindcast/s1963-r17i1p1f1/Amon/sfcWind/gn/v20191007/sfcWind_Amon_CESM1-1-CAM5-CMIP5_dcppA-hindcast_s1963-r17i1p1f1_gn_196311-197312.nc'}, {'filename': 'sfcWind_Amon_CESM1-1-CAM5-CMIP5_dcppA-hindcast_s1963-r18i1p1f1_gn_196311-197312.nc', 'url': 'http://esgf-data.ucar.edu/thredds/fileServer/esg_dataroot/CMIP6/DCPP/NCAR/CESM1-1-CAM5-CMIP5/dcppA-hindcast/s1963-r18i1p1f1/Amon/sfcWind/gn/v20191007/sfcWind_Amon_CESM1-1-CAM5-CMIP5_dcppA-hindcast_s1963-r18i1p1f1_gn_196311-197312.nc'}, {'filename': 'sfcWind_Amon_CESM1-1-CAM5-CMIP5_dcppA-hindcast_s1963-r25i1p1f1_gn_196311-197312.nc', 'url': 'http://esgf-data.ucar.edu/thredds/fileServer/esg_dataroot/CMIP6/DCPP/NCAR/CESM1-1-CAM5-CMIP5/dcppA-hindcast/s1963-r25i1p1f1/Amon/sfcWind/gn/v20191007/sfcWind_Amon_CESM1-1-CAM5-CMIP5_dcppA-hindcast_s1963-r25i1p1f1_gn_196311-197312.nc'}, {'filename': 'sfcWind_Amon_CESM1-1-CAM5-CMIP5_dcppA-hindcast_s1963-r26i1p1f1_gn_196311-197312.nc', 'url': 'http://esgf-data.ucar.edu/thredds/fileServer/esg_dataroot/CMIP6/DCPP/NCAR/CESM1-1-CAM5-CMIP5/dcppA-hindcast/s1963-r26i1p1f1/Amon/sfcWind/gn/v20191007/sfcWind_Amon_CESM1-1-CAM5-CMIP5_dcppA-hindcast_s1963-r26i1p1f1_gn_196311-197312.nc'}, {'filename': 'sfcWind_Amon_CESM1-1-CAM5-CMIP5_dcppA-hindcast_s1963-r29i1p1f1_gn_196311-197312.nc', 'url': 'http://esgf-data.ucar.edu/thredds/fileServer/esg_dataroot/CMIP6/DCPP/NCAR/CESM1-1-CAM5-CMIP5/dcppA-hindcast/s1963-r29i1p1f1/Amon/sfcWind/gn/v20191007/sfcWind_Amon_CESM1-1-CAM5-CMIP5_dcppA-hindcast_s1963-r29i1p1f1_gn_196311-197312.nc'}, {'filename': 'sfcWind_Amon_CESM1-1-CAM5-CMIP5_dcppA-hindcast_s1963-r2i1p1f1_gn_196311-197312.nc', 'url': 'http://esgf-data.ucar.edu/thredds/fileServer/esg_dataroot/CMIP6/DCPP/NCAR/CESM1-1-CAM5-CMIP5/dcppA-hindcast/s1963-r2i1p1f1/Amon/sfcWind/gn/v20191007/sfcWind_Amon_CESM1-1-CAM5-CMIP5_dcppA-hindcast_s1963-r2i1p1f1_gn_196311-197312.nc'}, {'filename': 'sfcWind_Amon_CESM1-1-CAM5-CMIP5_dcppA-hindcast_s1962-r5i1p1f1_gn_196211-197212.nc', 'url': 'http://esgf-data.ucar.edu/thredds/fileServer/esg_dataroot/CMIP6/DCPP/NCAR/CESM1-1-CAM5-CMIP5/dcppA-hindcast/s1962-r5i1p1f1/Amon/sfcWind/gn/v20191007/sfcWind_Amon_CESM1-1-CAM5-CMIP5_dcppA-hindcast_s1962-r5i1p1f1_gn_196211-197212.nc'}, {'filename': 'sfcWind_Amon_CESM1-1-CAM5-CMIP5_dcppA-hindcast_s1962-r6i1p1f1_gn_196211-197212.nc', 'url': 'http://esgf-data.ucar.edu/thredds/fileServer/esg_dataroot/CMIP6/DCPP/NCAR/CESM1-1-CAM5-CMIP5/dcppA-hindcast/s1962-r6i1p1f1/Amon/sfcWind/gn/v20191007/sfcWind_Amon_CESM1-1-CAM5-CMIP5_dcppA-hindcast_s1962-r6i1p1f1_gn_196211-197212.nc'}, {'filename': 'sfcWind_Amon_CESM1-1-CAM5-CMIP5_dcppA-hindcast_s1962-r7i1p1f1_gn_196211-197212.nc', 'url': 'http://esgf-data.ucar.edu/thredds/fileServer/esg_dataroot/CMIP6/DCPP/NCAR/CESM1-1-CAM5-CMIP5/dcppA-hindcast/s1962-r7i1p1f1/Amon/sfcWind/gn/v20191007/sfcWind_Amon_CESM1-1-CAM5-CMIP5_dcppA-hindcast_s1962-r7i1p1f1_gn_196211-197212.nc'}, {'filename': 'sfcWind_Amon_CESM1-1-CAM5-CMIP5_dcppA-hindcast_s1962-r8i1p1f1_gn_196211-197212.nc', 'url': 'http://esgf-data.ucar.edu/thredds/fileServer/esg_dataroot/CMIP6/DCPP/NCAR/CESM1-1-CAM5-CMIP5/dcppA-hindcast/s1962-r8i1p1f1/Amon/sfcWind/gn/v20191007/sfcWind_Amon_CESM1-1-CAM5-CMIP5_dcppA-hindcast_s1962-r8i1p1f1_gn_196211-197212.nc'}, {'filename': 'sfcWind_Amon_CESM1-1-CAM5-CMIP5_dcppA-hindcast_s1962-r9i1p1f1_gn_196211-197212.nc', 'url': 'http://esgf-data.ucar.edu/thredds/fileServer/esg_dataroot/CMIP6/DCPP/NCAR/CESM1-1-CAM5-CMIP5/dcppA-hindcast/s1962-r9i1p1f1/Amon/sfcWind/gn/v20191007/sfcWind_Amon_CESM1-1-CAM5-CMIP5_dcppA-hindcast_s1962-r9i1p1f1_gn_196211-197212.nc'}, {'filename': 'sfcWind_Amon_CESM1-1-CAM5-CMIP5_dcppA-hindcast_s1963-r10i1p1f1_gn_196311-197312.nc', 'url': 'http://esgf-data.ucar.edu/thredds/fileServer/esg_dataroot/CMIP6/DCPP/NCAR/CESM1-1-CAM5-CMIP5/dcppA-hindcast/s1963-r10i1p1f1/Amon/sfcWind/gn/v20191007/sfcWind_Amon_CESM1-1-CAM5-CMIP5_dcppA-hindcast_s1963-r10i1p1f1_gn_196311-197312.nc'}, {'filename': 'sfcWind_Amon_CESM1-1-CAM5-CMIP5_dcppA-hindcast_s1963-r11i1p1f1_gn_196311-197312.nc', 'url': 'http://esgf-data.ucar.edu/thredds/fileServer/esg_dataroot/CMIP6/DCPP/NCAR/CESM1-1-CAM5-CMIP5/dcppA-hindcast/s1963-r11i1p1f1/Amon/sfcWind/gn/v20191007/sfcWind_Amon_CESM1-1-CAM5-CMIP5_dcppA-hindcast_s1963-r11i1p1f1_gn_196311-197312.nc'}, {'filename': 'sfcWind_Amon_CESM1-1-CAM5-CMIP5_dcppA-hindcast_s1963-r12i1p1f1_gn_196311-197312.nc', 'url': 'http://esgf-data.ucar.edu/thredds/fileServer/esg_dataroot/CMIP6/DCPP/NCAR/CESM1-1-CAM5-CMIP5/dcppA-hindcast/s1963-r12i1p1f1/Amon/sfcWind/gn/v20191007/sfcWind_Amon_CESM1-1-CAM5-CMIP5_dcppA-hindcast_s1963-r12i1p1f1_gn_196311-197312.nc'}, {'filename': 'sfcWind_Amon_CESM1-1-CAM5-CMIP5_dcppA-hindcast_s1963-r13i1p1f1_gn_196311-197312.nc', 'url': 'http://esgf-data.ucar.edu/thredds/fileServer/esg_dataroot/CMIP6/DCPP/NCAR/CESM1-1-CAM5-CMIP5/dcppA-hindcast/s1963-r13i1p1f1/Amon/sfcWind/gn/v20191007/sfcWind_Amon_CESM1-1-CAM5-CMIP5_dcppA-hindcast_s1963-r13i1p1f1_gn_196311-197312.nc'}, {'filename': 'sfcWind_Amon_CESM1-1-CAM5-CMIP5_dcppA-hindcast_s1962-r39i1p1f1_gn_196211-197212.nc', 'url': 'http://esgf-data.ucar.edu/thredds/fileServer/esg_dataroot/CMIP6/DCPP/NCAR/CESM1-1-CAM5-CMIP5/dcppA-hindcast/s1962-r39i1p1f1/Amon/sfcWind/gn/v20191007/sfcWind_Amon_CESM1-1-CAM5-CMIP5_dcppA-hindcast_s1962-r39i1p1f1_gn_196211-197212.nc'}, {'filename': 'sfcWind_Amon_CESM1-1-CAM5-CMIP5_dcppA-hindcast_s1962-r3i1p1f1_gn_196211-197212.nc', 'url': 'http://esgf-data.ucar.edu/thredds/fileServer/esg_dataroot/CMIP6/DCPP/NCAR/CESM1-1-CAM5-CMIP5/dcppA-hindcast/s1962-r3i1p1f1/Amon/sfcWind/gn/v20191007/sfcWind_Amon_CESM1-1-CAM5-CMIP5_dcppA-hindcast_s1962-r3i1p1f1_gn_196211-197212.nc'}, {'filename': 'sfcWind_Amon_CESM1-1-CAM5-CMIP5_dcppA-hindcast_s1962-r40i1p1f1_gn_196211-197212.nc', 'url': 'http://esgf-data.ucar.edu/thredds/fileServer/esg_dataroot/CMIP6/DCPP/NCAR/CESM1-1-CAM5-CMIP5/dcppA-hindcast/s1962-r40i1p1f1/Amon/sfcWind/gn/v20191007/sfcWind_Amon_CESM1-1-CAM5-CMIP5_dcppA-hindcast_s1962-r40i1p1f1_gn_196211-197212.nc'}, {'filename': 'sfcWind_Amon_CESM1-1-CAM5-CMIP5_dcppA-hindcast_s1962-r4i1p1f1_gn_196211-197212.nc', 'url': 'http://esgf-data.ucar.edu/thredds/fileServer/esg_dataroot/CMIP6/DCPP/NCAR/CESM1-1-CAM5-CMIP5/dcppA-hindcast/s1962-r4i1p1f1/Amon/sfcWind/gn/v20191007/sfcWind_Amon_CESM1-1-CAM5-CMIP5_dcppA-hindcast_s1962-r4i1p1f1_gn_196211-197212.nc'}, {'filename': 'sfcWind_Amon_CESM1-1-CAM5-CMIP5_dcppA-hindcast_s1963-r14i1p1f1_gn_196311-197312.nc', 'url': 'http://esgf-data.ucar.edu/thredds/fileServer/esg_dataroot/CMIP6/DCPP/NCAR/CESM1-1-CAM5-CMIP5/dcppA-hindcast/s1963-r14i1p1f1/Amon/sfcWind/gn/v20191007/sfcWind_Amon_CESM1-1-CAM5-CMIP5_dcppA-hindcast_s1963-r14i1p1f1_gn_196311-197312.nc'}, {'filename': 'sfcWind_Amon_CESM1-1-CAM5-CMIP5_dcppA-hindcast_s1963-r15i1p1f1_gn_196311-197312.nc', 'url': 'http://esgf-data.ucar.edu/thredds/fileServer/esg_dataroot/CMIP6/DCPP/NCAR/CESM1-1-CAM5-CMIP5/dcppA-hindcast/s1963-r15i1p1f1/Amon/sfcWind/gn/v20191007/sfcWind_Amon_CESM1-1-CAM5-CMIP5_dcppA-hindcast_s1963-r15i1p1f1_gn_196311-197312.nc'}, {'filename': 'sfcWind_Amon_CESM1-1-CAM5-CMIP5_dcppA-hindcast_s1963-r16i1p1f1_gn_196311-197312.nc', 'url': 'http://esgf-data.ucar.edu/thredds/fileServer/esg_dataroot/CMIP6/DCPP/NCAR/CESM1-1-CAM5-CMIP5/dcppA-hindcast/s1963-r16i1p1f1/Amon/sfcWind/gn/v20191007/sfcWind_Amon_CESM1-1-CAM5-CMIP5_dcppA-hindcast_s1963-r16i1p1f1_gn_196311-197312.nc'}, {'filename': 'sfcWind_Amon_CESM1-1-CAM5-CMIP5_dcppA-hindcast_s1962-r37i1p1f1_gn_196211-197212.nc', 'url': 'http://esgf-data.ucar.edu/thredds/fileServer/esg_dataroot/CMIP6/DCPP/NCAR/CESM1-1-CAM5-CMIP5/dcppA-hindcast/s1962-r37i1p1f1/Amon/sfcWind/gn/v20191007/sfcWind_Amon_CESM1-1-CAM5-CMIP5_dcppA-hindcast_s1962-r37i1p1f1_gn_196211-197212.nc'}, {'filename': 'sfcWind_Amon_CESM1-1-CAM5-CMIP5_dcppA-hindcast_s1962-r38i1p1f1_gn_196211-197212.nc', 'url': 'http://esgf-data.ucar.edu/thredds/fileServer/esg_dataroot/CMIP6/DCPP/NCAR/CESM1-1-CAM5-CMIP5/dcppA-hindcast/s1962-r38i1p1f1/Amon/sfcWind/gn/v20191007/sfcWind_Amon_CESM1-1-CAM5-CMIP5_dcppA-hindcast_s1962-r38i1p1f1_gn_196211-197212.nc'}, {'filename': 'sfcWind_Amon_CESM1-1-CAM5-CMIP5_dcppA-hindcast_s1962-r12i1p1f1_gn_196211-197212.nc', 'url': 'http://esgf-data.ucar.edu/thredds/fileServer/esg_dataroot/CMIP6/DCPP/NCAR/CESM1-1-CAM5-CMIP5/dcppA-hindcast/s1962-r12i1p1f1/Amon/sfcWind/gn/v20191007/sfcWind_Amon_CESM1-1-CAM5-CMIP5_dcppA-hindcast_s1962-r12i1p1f1_gn_196211-197212.nc'}, {'filename': 'sfcWind_Amon_CESM1-1-CAM5-CMIP5_dcppA-hindcast_s1962-r13i1p1f1_gn_196211-197212.nc', 'url': 'http://esgf-data.ucar.edu/thredds/fileServer/esg_dataroot/CMIP6/DCPP/NCAR/CESM1-1-CAM5-CMIP5/dcppA-hindcast/s1962-r13i1p1f1/Amon/sfcWind/gn/v20191007/sfcWind_Amon_CESM1-1-CAM5-CMIP5_dcppA-hindcast_s1962-r13i1p1f1_gn_196211-197212.nc'}, {'filename': 'sfcWind_Amon_CESM1-1-CAM5-CMIP5_dcppA-hindcast_s1962-r14i1p1f1_gn_196211-197212.nc', 'url': 'http://esgf-data.ucar.edu/thredds/fileServer/esg_dataroot/CMIP6/DCPP/NCAR/CESM1-1-CAM5-CMIP5/dcppA-hindcast/s1962-r14i1p1f1/Amon/sfcWind/gn/v20191007/sfcWind_Amon_CESM1-1-CAM5-CMIP5_dcppA-hindcast_s1962-r14i1p1f1_gn_196211-197212.nc'}, {'filename': 'sfcWind_Amon_CESM1-1-CAM5-CMIP5_dcppA-hindcast_s1962-r10i1p1f1_gn_196211-197212.nc', 'url': 'http://esgf-data.ucar.edu/thredds/fileServer/esg_dataroot/CMIP6/DCPP/NCAR/CESM1-1-CAM5-CMIP5/dcppA-hindcast/s1962-r10i1p1f1/Amon/sfcWind/gn/v20191007/sfcWind_Amon_CESM1-1-CAM5-CMIP5_dcppA-hindcast_s1962-r10i1p1f1_gn_196211-197212.nc'}, {'filename': 'sfcWind_Amon_CESM1-1-CAM5-CMIP5_dcppA-hindcast_s1962-r11i1p1f1_gn_196211-197212.nc', 'url': 'http://esgf-data.ucar.edu/thredds/fileServer/esg_dataroot/CMIP6/DCPP/NCAR/CESM1-1-CAM5-CMIP5/dcppA-hindcast/s1962-r11i1p1f1/Amon/sfcWind/gn/v20191007/sfcWind_Amon_CESM1-1-CAM5-CMIP5_dcppA-hindcast_s1962-r11i1p1f1_gn_196211-197212.nc'}, {'filename': 'sfcWind_Amon_CESM1-1-CAM5-CMIP5_dcppA-hindcast_s1962-r15i1p1f1_gn_196211-197212.nc', 'url': 'http://esgf-data.ucar.edu/thredds/fileServer/esg_dataroot/CMIP6/DCPP/NCAR/CESM1-1-CAM5-CMIP5/dcppA-hindcast/s1962-r15i1p1f1/Amon/sfcWind/gn/v20191007/sfcWind_Amon_CESM1-1-CAM5-CMIP5_dcppA-hindcast_s1962-r15i1p1f1_gn_196211-197212.nc'}, {'filename': 'sfcWind_Amon_CESM1-1-CAM5-CMIP5_dcppA-hindcast_s1962-r16i1p1f1_gn_196211-197212.nc', 'url': 'http://esgf-data.ucar.edu/thredds/fileServer/esg_dataroot/CMIP6/DCPP/NCAR/CESM1-1-CAM5-CMIP5/dcppA-hindcast/s1962-r16i1p1f1/Amon/sfcWind/gn/v20191007/sfcWind_Amon_CESM1-1-CAM5-CMIP5_dcppA-hindcast_s1962-r16i1p1f1_gn_196211-197212.nc'}, {'filename': 'sfcWind_Amon_CESM1-1-CAM5-CMIP5_dcppA-hindcast_s1962-r17i1p1f1_gn_196211-197212.nc', 'url': 'http://esgf-data.ucar.edu/thredds/fileServer/esg_dataroot/CMIP6/DCPP/NCAR/CESM1-1-CAM5-CMIP5/dcppA-hindcast/s1962-r17i1p1f1/Amon/sfcWind/gn/v20191007/sfcWind_Amon_CESM1-1-CAM5-CMIP5_dcppA-hindcast_s1962-r17i1p1f1_gn_196211-197212.nc'}, {'filename': 'sfcWind_Amon_CESM1-1-CAM5-CMIP5_dcppA-hindcast_s1962-r18i1p1f1_gn_196211-197212.nc', 'url': 'http://esgf-data.ucar.edu/thredds/fileServer/esg_dataroot/CMIP6/DCPP/NCAR/CESM1-1-CAM5-CMIP5/dcppA-hindcast/s1962-r18i1p1f1/Amon/sfcWind/gn/v20191007/sfcWind_Amon_CESM1-1-CAM5-CMIP5_dcppA-hindcast_s1962-r18i1p1f1_gn_196211-197212.nc'}, {'filename': 'sfcWind_Amon_CESM1-1-CAM5-CMIP5_dcppA-hindcast_s1962-r30i1p1f1_gn_196211-197212.nc', 'url': 'http://esgf-data.ucar.edu/thredds/fileServer/esg_dataroot/CMIP6/DCPP/NCAR/CESM1-1-CAM5-CMIP5/dcppA-hindcast/s1962-r30i1p1f1/Amon/sfcWind/gn/v20191007/sfcWind_Amon_CESM1-1-CAM5-CMIP5_dcppA-hindcast_s1962-r30i1p1f1_gn_196211-197212.nc'}, {'filename': 'sfcWind_Amon_CESM1-1-CAM5-CMIP5_dcppA-hindcast_s1962-r31i1p1f1_gn_196211-197212.nc', 'url': 'http://esgf-data.ucar.edu/thredds/fileServer/esg_dataroot/CMIP6/DCPP/NCAR/CESM1-1-CAM5-CMIP5/dcppA-hindcast/s1962-r31i1p1f1/Amon/sfcWind/gn/v20191007/sfcWind_Amon_CESM1-1-CAM5-CMIP5_dcppA-hindcast_s1962-r31i1p1f1_gn_196211-197212.nc'}, {'filename': 'sfcWind_Amon_CESM1-1-CAM5-CMIP5_dcppA-hindcast_s1962-r27i1p1f1_gn_196211-197212.nc', 'url': 'http://esgf-data.ucar.edu/thredds/fileServer/esg_dataroot/CMIP6/DCPP/NCAR/CESM1-1-CAM5-CMIP5/dcppA-hindcast/s1962-r27i1p1f1/Amon/sfcWind/gn/v20191007/sfcWind_Amon_CESM1-1-CAM5-CMIP5_dcppA-hindcast_s1962-r27i1p1f1_gn_196211-197212.nc'}, {'filename': 'sfcWind_Amon_CESM1-1-CAM5-CMIP5_dcppA-hindcast_s1962-r28i1p1f1_gn_196211-197212.nc', 'url': 'http://esgf-data.ucar.edu/thredds/fileServer/esg_dataroot/CMIP6/DCPP/NCAR/CESM1-1-CAM5-CMIP5/dcppA-hindcast/s1962-r28i1p1f1/Amon/sfcWind/gn/v20191007/sfcWind_Amon_CESM1-1-CAM5-CMIP5_dcppA-hindcast_s1962-r28i1p1f1_gn_196211-197212.nc'}, {'filename': 'sfcWind_Amon_CESM1-1-CAM5-CMIP5_dcppA-hindcast_s1962-r32i1p1f1_gn_196211-197212.nc', 'url': 'http://esgf-data.ucar.edu/thredds/fileServer/esg_dataroot/CMIP6/DCPP/NCAR/CESM1-1-CAM5-CMIP5/dcppA-hindcast/s1962-r32i1p1f1/Amon/sfcWind/gn/v20191007/sfcWind_Amon_CESM1-1-CAM5-CMIP5_dcppA-hindcast_s1962-r32i1p1f1_gn_196211-197212.nc'}, {'filename': 'sfcWind_Amon_CESM1-1-CAM5-CMIP5_dcppA-hindcast_s1962-r33i1p1f1_gn_196211-197212.nc', 'url': 'http://esgf-data.ucar.edu/thredds/fileServer/esg_dataroot/CMIP6/DCPP/NCAR/CESM1-1-CAM5-CMIP5/dcppA-hindcast/s1962-r33i1p1f1/Amon/sfcWind/gn/v20191007/sfcWind_Amon_CESM1-1-CAM5-CMIP5_dcppA-hindcast_s1962-r33i1p1f1_gn_196211-197212.nc'}, {'filename': 'sfcWind_Amon_CESM1-1-CAM5-CMIP5_dcppA-hindcast_s1962-r25i1p1f1_gn_196211-197212.nc', 'url': 'http://esgf-data.ucar.edu/thredds/fileServer/esg_dataroot/CMIP6/DCPP/NCAR/CESM1-1-CAM5-CMIP5/dcppA-hindcast/s1962-r25i1p1f1/Amon/sfcWind/gn/v20191007/sfcWind_Amon_CESM1-1-CAM5-CMIP5_dcppA-hindcast_s1962-r25i1p1f1_gn_196211-197212.nc'}, {'filename': 'sfcWind_Amon_CESM1-1-CAM5-CMIP5_dcppA-hindcast_s1962-r26i1p1f1_gn_196211-197212.nc', 'url': 'http://esgf-data.ucar.edu/thredds/fileServer/esg_dataroot/CMIP6/DCPP/NCAR/CESM1-1-CAM5-CMIP5/dcppA-hindcast/s1962-r26i1p1f1/Amon/sfcWind/gn/v20191007/sfcWind_Amon_CESM1-1-CAM5-CMIP5_dcppA-hindcast_s1962-r26i1p1f1_gn_196211-197212.nc'}, {'filename': 'sfcWind_Amon_CESM1-1-CAM5-CMIP5_dcppA-hindcast_s1962-r22i1p1f1_gn_196211-197212.nc', 'url': 'http://esgf-data.ucar.edu/thredds/fileServer/esg_dataroot/CMIP6/DCPP/NCAR/CESM1-1-CAM5-CMIP5/dcppA-hindcast/s1962-r22i1p1f1/Amon/sfcWind/gn/v20191007/sfcWind_Amon_CESM1-1-CAM5-CMIP5_dcppA-hindcast_s1962-r22i1p1f1_gn_196211-197212.nc'}, {'filename': 'sfcWind_Amon_CESM1-1-CAM5-CMIP5_dcppA-hindcast_s1962-r23i1p1f1_gn_196211-197212.nc', 'url': 'http://esgf-data.ucar.edu/thredds/fileServer/esg_dataroot/CMIP6/DCPP/NCAR/CESM1-1-CAM5-CMIP5/dcppA-hindcast/s1962-r23i1p1f1/Amon/sfcWind/gn/v20191007/sfcWind_Amon_CESM1-1-CAM5-CMIP5_dcppA-hindcast_s1962-r23i1p1f1_gn_196211-197212.nc'}, {'filename': 'sfcWind_Amon_CESM1-1-CAM5-CMIP5_dcppA-hindcast_s1962-r24i1p1f1_gn_196211-197212.nc', 'url': 'http://esgf-data.ucar.edu/thredds/fileServer/esg_dataroot/CMIP6/DCPP/NCAR/CESM1-1-CAM5-CMIP5/dcppA-hindcast/s1962-r24i1p1f1/Amon/sfcWind/gn/v20191007/sfcWind_Amon_CESM1-1-CAM5-CMIP5_dcppA-hindcast_s1962-r24i1p1f1_gn_196211-197212.nc'}, {'filename': 'sfcWind_Amon_CESM1-1-CAM5-CMIP5_dcppA-hindcast_s1962-r29i1p1f1_gn_196211-197212.nc', 'url': 'http://esgf-data.ucar.edu/thredds/fileServer/esg_dataroot/CMIP6/DCPP/NCAR/CESM1-1-CAM5-CMIP5/dcppA-hindcast/s1962-r29i1p1f1/Amon/sfcWind/gn/v20191007/sfcWind_Amon_CESM1-1-CAM5-CMIP5_dcppA-hindcast_s1962-r29i1p1f1_gn_196211-197212.nc'}, {'filename': 'sfcWind_Amon_CESM1-1-CAM5-CMIP5_dcppA-hindcast_s1962-r2i1p1f1_gn_196211-197212.nc', 'url': 'http://esgf-data.ucar.edu/thredds/fileServer/esg_dataroot/CMIP6/DCPP/NCAR/CESM1-1-CAM5-CMIP5/dcppA-hindcast/s1962-r2i1p1f1/Amon/sfcWind/gn/v20191007/sfcWind_Amon_CESM1-1-CAM5-CMIP5_dcppA-hindcast_s1962-r2i1p1f1_gn_196211-197212.nc'}, {'filename': 'sfcWind_Amon_CESM1-1-CAM5-CMIP5_dcppA-hindcast_s1962-r34i1p1f1_gn_196211-197212.nc', 'url': 'http://esgf-data.ucar.edu/thredds/fileServer/esg_dataroot/CMIP6/DCPP/NCAR/CESM1-1-CAM5-CMIP5/dcppA-hindcast/s1962-r34i1p1f1/Amon/sfcWind/gn/v20191007/sfcWind_Amon_CESM1-1-CAM5-CMIP5_dcppA-hindcast_s1962-r34i1p1f1_gn_196211-197212.nc'}, {'filename': 'sfcWind_Amon_CESM1-1-CAM5-CMIP5_dcppA-hindcast_s1962-r35i1p1f1_gn_196211-197212.nc', 'url': 'http://esgf-data.ucar.edu/thredds/fileServer/esg_dataroot/CMIP6/DCPP/NCAR/CESM1-1-CAM5-CMIP5/dcppA-hindcast/s1962-r35i1p1f1/Amon/sfcWind/gn/v20191007/sfcWind_Amon_CESM1-1-CAM5-CMIP5_dcppA-hindcast_s1962-r35i1p1f1_gn_196211-197212.nc'}, {'filename': 'sfcWind_Amon_CESM1-1-CAM5-CMIP5_dcppA-hindcast_s1962-r36i1p1f1_gn_196211-197212.nc', 'url': 'http://esgf-data.ucar.edu/thredds/fileServer/esg_dataroot/CMIP6/DCPP/NCAR/CESM1-1-CAM5-CMIP5/dcppA-hindcast/s1962-r36i1p1f1/Amon/sfcWind/gn/v20191007/sfcWind_Amon_CESM1-1-CAM5-CMIP5_dcppA-hindcast_s1962-r36i1p1f1_gn_196211-197212.nc'}, {'filename': 'sfcWind_Amon_CESM1-1-CAM5-CMIP5_dcppA-hindcast_s1962-r20i1p1f1_gn_196211-197212.nc', 'url': 'http://esgf-data.ucar.edu/thredds/fileServer/esg_dataroot/CMIP6/DCPP/NCAR/CESM1-1-CAM5-CMIP5/dcppA-hindcast/s1962-r20i1p1f1/Amon/sfcWind/gn/v20191007/sfcWind_Amon_CESM1-1-CAM5-CMIP5_dcppA-hindcast_s1962-r20i1p1f1_gn_196211-197212.nc'}, {'filename': 'sfcWind_Amon_CESM1-1-CAM5-CMIP5_dcppA-hindcast_s1962-r21i1p1f1_gn_196211-197212.nc', 'url': 'http://esgf-data.ucar.edu/thredds/fileServer/esg_dataroot/CMIP6/DCPP/NCAR/CESM1-1-CAM5-CMIP5/dcppA-hindcast/s1962-r21i1p1f1/Amon/sfcWind/gn/v20191007/sfcWind_Amon_CESM1-1-CAM5-CMIP5_dcppA-hindcast_s1962-r21i1p1f1_gn_196211-197212.nc'}, {'filename': 'sfcWind_Amon_CESM1-1-CAM5-CMIP5_dcppA-hindcast_s1962-r19i1p1f1_gn_196211-197212.nc', 'url': 'http://esgf-data.ucar.edu/thredds/fileServer/esg_dataroot/CMIP6/DCPP/NCAR/CESM1-1-CAM5-CMIP5/dcppA-hindcast/s1962-r19i1p1f1/Amon/sfcWind/gn/v20191007/sfcWind_Amon_CESM1-1-CAM5-CMIP5_dcppA-hindcast_s1962-r19i1p1f1_gn_196211-197212.nc'}, {'filename': 'sfcWind_Amon_CESM1-1-CAM5-CMIP5_dcppA-hindcast_s1962-r1i1p1f1_gn_196211-197212.nc', 'url': 'http://esgf-data.ucar.edu/thredds/fileServer/esg_dataroot/CMIP6/DCPP/NCAR/CESM1-1-CAM5-CMIP5/dcppA-hindcast/s1962-r1i1p1f1/Amon/sfcWind/gn/v20191007/sfcWind_Amon_CESM1-1-CAM5-CMIP5_dcppA-hindcast_s1962-r1i1p1f1_gn_196211-197212.nc'}, {'filename': 'sfcWind_Amon_CESM1-1-CAM5-CMIP5_dcppA-hindcast_s1963-r37i1p1f1_gn_196311-197312.nc', 'url': 'http://esgf-data.ucar.edu/thredds/fileServer/esg_dataroot/CMIP6/DCPP/NCAR/CESM1-1-CAM5-CMIP5/dcppA-hindcast/s1963-r37i1p1f1/Amon/sfcWind/gn/v20191007/sfcWind_Amon_CESM1-1-CAM5-CMIP5_dcppA-hindcast_s1963-r37i1p1f1_gn_196311-197312.nc'}, {'filename': 'sfcWind_Amon_CESM1-1-CAM5-CMIP5_dcppA-hindcast_s1963-r38i1p1f1_gn_196311-197312.nc', 'url': 'http://esgf-data.ucar.edu/thredds/fileServer/esg_dataroot/CMIP6/DCPP/NCAR/CESM1-1-CAM5-CMIP5/dcppA-hindcast/s1963-r38i1p1f1/Amon/sfcWind/gn/v20191007/sfcWind_Amon_CESM1-1-CAM5-CMIP5_dcppA-hindcast_s1963-r38i1p1f1_gn_196311-197312.nc'}, {'filename': 'sfcWind_Amon_CESM1-1-CAM5-CMIP5_dcppA-hindcast_s1963-r35i1p1f1_gn_196311-197312.nc', 'url': 'http://esgf-data.ucar.edu/thredds/fileServer/esg_dataroot/CMIP6/DCPP/NCAR/CESM1-1-CAM5-CMIP5/dcppA-hindcast/s1963-r35i1p1f1/Amon/sfcWind/gn/v20191007/sfcWind_Amon_CESM1-1-CAM5-CMIP5_dcppA-hindcast_s1963-r35i1p1f1_gn_196311-197312.nc'}, {'filename': 'sfcWind_Amon_CESM1-1-CAM5-CMIP5_dcppA-hindcast_s1963-r36i1p1f1_gn_196311-197312.nc', 'url': 'http://esgf-data.ucar.edu/thredds/fileServer/esg_dataroot/CMIP6/DCPP/NCAR/CESM1-1-CAM5-CMIP5/dcppA-hindcast/s1963-r36i1p1f1/Amon/sfcWind/gn/v20191007/sfcWind_Amon_CESM1-1-CAM5-CMIP5_dcppA-hindcast_s1963-r36i1p1f1_gn_196311-197312.nc'}, {'filename': 'sfcWind_Amon_CESM1-1-CAM5-CMIP5_dcppA-hindcast_s1963-r30i1p1f1_gn_196311-197312.nc', 'url': 'http://esgf-data.ucar.edu/thredds/fileServer/esg_dataroot/CMIP6/DCPP/NCAR/CESM1-1-CAM5-CMIP5/dcppA-hindcast/s1963-r30i1p1f1/Amon/sfcWind/gn/v20191007/sfcWind_Amon_CESM1-1-CAM5-CMIP5_dcppA-hindcast_s1963-r30i1p1f1_gn_196311-197312.nc'}, {'filename': 'sfcWind_Amon_CESM1-1-CAM5-CMIP5_dcppA-hindcast_s1963-r31i1p1f1_gn_196311-197312.nc', 'url': 'http://esgf-data.ucar.edu/thredds/fileServer/esg_dataroot/CMIP6/DCPP/NCAR/CESM1-1-CAM5-CMIP5/dcppA-hindcast/s1963-r31i1p1f1/Amon/sfcWind/gn/v20191007/sfcWind_Amon_CESM1-1-CAM5-CMIP5_dcppA-hindcast_s1963-r31i1p1f1_gn_196311-197312.nc'}, {'filename': 'sfcWind_Amon_CESM1-1-CAM5-CMIP5_dcppA-hindcast_s1963-r32i1p1f1_gn_196311-197312.nc', 'url': 'http://esgf-data.ucar.edu/thredds/fileServer/esg_dataroot/CMIP6/DCPP/NCAR/CESM1-1-CAM5-CMIP5/dcppA-hindcast/s1963-r32i1p1f1/Amon/sfcWind/gn/v20191007/sfcWind_Amon_CESM1-1-CAM5-CMIP5_dcppA-hindcast_s1963-r32i1p1f1_gn_196311-197312.nc'}]]\n",
      "<class 'list'>\n",
      "[{'filename': 'sfcWind_Amon_CESM1-1-CAM5-CMIP5_dcppA-hindcast_s1963-r8i1p1f1_gn_196311-197312.nc', 'url': 'http://esgf-data.ucar.edu/thredds/fileServer/esg_dataroot/CMIP6/DCPP/NCAR/CESM1-1-CAM5-CMIP5/dcppA-hindcast/s1963-r8i1p1f1/Amon/sfcWind/gn/v20191007/sfcWind_Amon_CESM1-1-CAM5-CMIP5_dcppA-hindcast_s1963-r8i1p1f1_gn_196311-197312.nc'}, {'filename': 'sfcWind_Amon_CESM1-1-CAM5-CMIP5_dcppA-hindcast_s1963-r9i1p1f1_gn_196311-197312.nc', 'url': 'http://esgf-data.ucar.edu/thredds/fileServer/esg_dataroot/CMIP6/DCPP/NCAR/CESM1-1-CAM5-CMIP5/dcppA-hindcast/s1963-r9i1p1f1/Amon/sfcWind/gn/v20191007/sfcWind_Amon_CESM1-1-CAM5-CMIP5_dcppA-hindcast_s1963-r9i1p1f1_gn_196311-197312.nc'}, {'filename': 'sfcWind_Amon_CESM1-1-CAM5-CMIP5_dcppA-hindcast_s1963-r40i1p1f1_gn_196311-197312.nc', 'url': 'http://esgf-data.ucar.edu/thredds/fileServer/esg_dataroot/CMIP6/DCPP/NCAR/CESM1-1-CAM5-CMIP5/dcppA-hindcast/s1963-r40i1p1f1/Amon/sfcWind/gn/v20191007/sfcWind_Amon_CESM1-1-CAM5-CMIP5_dcppA-hindcast_s1963-r40i1p1f1_gn_196311-197312.nc'}, {'filename': 'sfcWind_Amon_CESM1-1-CAM5-CMIP5_dcppA-hindcast_s1963-r4i1p1f1_gn_196311-197312.nc', 'url': 'http://esgf-data.ucar.edu/thredds/fileServer/esg_dataroot/CMIP6/DCPP/NCAR/CESM1-1-CAM5-CMIP5/dcppA-hindcast/s1963-r4i1p1f1/Amon/sfcWind/gn/v20191007/sfcWind_Amon_CESM1-1-CAM5-CMIP5_dcppA-hindcast_s1963-r4i1p1f1_gn_196311-197312.nc'}, {'filename': 'sfcWind_Amon_CESM1-1-CAM5-CMIP5_dcppA-hindcast_s1963-r5i1p1f1_gn_196311-197312.nc', 'url': 'http://esgf-data.ucar.edu/thredds/fileServer/esg_dataroot/CMIP6/DCPP/NCAR/CESM1-1-CAM5-CMIP5/dcppA-hindcast/s1963-r5i1p1f1/Amon/sfcWind/gn/v20191007/sfcWind_Amon_CESM1-1-CAM5-CMIP5_dcppA-hindcast_s1963-r5i1p1f1_gn_196311-197312.nc'}, {'filename': 'sfcWind_Amon_CESM1-1-CAM5-CMIP5_dcppA-hindcast_s1963-r6i1p1f1_gn_196311-197312.nc', 'url': 'http://esgf-data.ucar.edu/thredds/fileServer/esg_dataroot/CMIP6/DCPP/NCAR/CESM1-1-CAM5-CMIP5/dcppA-hindcast/s1963-r6i1p1f1/Amon/sfcWind/gn/v20191007/sfcWind_Amon_CESM1-1-CAM5-CMIP5_dcppA-hindcast_s1963-r6i1p1f1_gn_196311-197312.nc'}, {'filename': 'sfcWind_Amon_CESM1-1-CAM5-CMIP5_dcppA-hindcast_s1963-r7i1p1f1_gn_196311-197312.nc', 'url': 'http://esgf-data.ucar.edu/thredds/fileServer/esg_dataroot/CMIP6/DCPP/NCAR/CESM1-1-CAM5-CMIP5/dcppA-hindcast/s1963-r7i1p1f1/Amon/sfcWind/gn/v20191007/sfcWind_Amon_CESM1-1-CAM5-CMIP5_dcppA-hindcast_s1963-r7i1p1f1_gn_196311-197312.nc'}, {'filename': 'sfcWind_Amon_CESM1-1-CAM5-CMIP5_dcppA-hindcast_s1963-r33i1p1f1_gn_196311-197312.nc', 'url': 'http://esgf-data.ucar.edu/thredds/fileServer/esg_dataroot/CMIP6/DCPP/NCAR/CESM1-1-CAM5-CMIP5/dcppA-hindcast/s1963-r33i1p1f1/Amon/sfcWind/gn/v20191007/sfcWind_Amon_CESM1-1-CAM5-CMIP5_dcppA-hindcast_s1963-r33i1p1f1_gn_196311-197312.nc'}, {'filename': 'sfcWind_Amon_CESM1-1-CAM5-CMIP5_dcppA-hindcast_s1963-r34i1p1f1_gn_196311-197312.nc', 'url': 'http://esgf-data.ucar.edu/thredds/fileServer/esg_dataroot/CMIP6/DCPP/NCAR/CESM1-1-CAM5-CMIP5/dcppA-hindcast/s1963-r34i1p1f1/Amon/sfcWind/gn/v20191007/sfcWind_Amon_CESM1-1-CAM5-CMIP5_dcppA-hindcast_s1963-r34i1p1f1_gn_196311-197312.nc'}, {'filename': 'sfcWind_Amon_CESM1-1-CAM5-CMIP5_dcppA-hindcast_s1963-r3i1p1f1_gn_196311-197312.nc', 'url': 'http://esgf-data.ucar.edu/thredds/fileServer/esg_dataroot/CMIP6/DCPP/NCAR/CESM1-1-CAM5-CMIP5/dcppA-hindcast/s1963-r3i1p1f1/Amon/sfcWind/gn/v20191007/sfcWind_Amon_CESM1-1-CAM5-CMIP5_dcppA-hindcast_s1963-r3i1p1f1_gn_196311-197312.nc'}, {'filename': 'sfcWind_Amon_CESM1-1-CAM5-CMIP5_dcppA-hindcast_s1963-r39i1p1f1_gn_196311-197312.nc', 'url': 'http://esgf-data.ucar.edu/thredds/fileServer/esg_dataroot/CMIP6/DCPP/NCAR/CESM1-1-CAM5-CMIP5/dcppA-hindcast/s1963-r39i1p1f1/Amon/sfcWind/gn/v20191007/sfcWind_Amon_CESM1-1-CAM5-CMIP5_dcppA-hindcast_s1963-r39i1p1f1_gn_196311-197312.nc'}, {'filename': 'sfcWind_Amon_CESM1-1-CAM5-CMIP5_dcppA-hindcast_s1963-r19i1p1f1_gn_196311-197312.nc', 'url': 'http://esgf-data.ucar.edu/thredds/fileServer/esg_dataroot/CMIP6/DCPP/NCAR/CESM1-1-CAM5-CMIP5/dcppA-hindcast/s1963-r19i1p1f1/Amon/sfcWind/gn/v20191007/sfcWind_Amon_CESM1-1-CAM5-CMIP5_dcppA-hindcast_s1963-r19i1p1f1_gn_196311-197312.nc'}, {'filename': 'sfcWind_Amon_CESM1-1-CAM5-CMIP5_dcppA-hindcast_s1963-r1i1p1f1_gn_196311-197312.nc', 'url': 'http://esgf-data.ucar.edu/thredds/fileServer/esg_dataroot/CMIP6/DCPP/NCAR/CESM1-1-CAM5-CMIP5/dcppA-hindcast/s1963-r1i1p1f1/Amon/sfcWind/gn/v20191007/sfcWind_Amon_CESM1-1-CAM5-CMIP5_dcppA-hindcast_s1963-r1i1p1f1_gn_196311-197312.nc'}, {'filename': 'sfcWind_Amon_CESM1-1-CAM5-CMIP5_dcppA-hindcast_s1963-r27i1p1f1_gn_196311-197312.nc', 'url': 'http://esgf-data.ucar.edu/thredds/fileServer/esg_dataroot/CMIP6/DCPP/NCAR/CESM1-1-CAM5-CMIP5/dcppA-hindcast/s1963-r27i1p1f1/Amon/sfcWind/gn/v20191007/sfcWind_Amon_CESM1-1-CAM5-CMIP5_dcppA-hindcast_s1963-r27i1p1f1_gn_196311-197312.nc'}, {'filename': 'sfcWind_Amon_CESM1-1-CAM5-CMIP5_dcppA-hindcast_s1963-r28i1p1f1_gn_196311-197312.nc', 'url': 'http://esgf-data.ucar.edu/thredds/fileServer/esg_dataroot/CMIP6/DCPP/NCAR/CESM1-1-CAM5-CMIP5/dcppA-hindcast/s1963-r28i1p1f1/Amon/sfcWind/gn/v20191007/sfcWind_Amon_CESM1-1-CAM5-CMIP5_dcppA-hindcast_s1963-r28i1p1f1_gn_196311-197312.nc'}, {'filename': 'sfcWind_Amon_CESM1-1-CAM5-CMIP5_dcppA-hindcast_s1963-r22i1p1f1_gn_196311-197312.nc', 'url': 'http://esgf-data.ucar.edu/thredds/fileServer/esg_dataroot/CMIP6/DCPP/NCAR/CESM1-1-CAM5-CMIP5/dcppA-hindcast/s1963-r22i1p1f1/Amon/sfcWind/gn/v20191007/sfcWind_Amon_CESM1-1-CAM5-CMIP5_dcppA-hindcast_s1963-r22i1p1f1_gn_196311-197312.nc'}, {'filename': 'sfcWind_Amon_CESM1-1-CAM5-CMIP5_dcppA-hindcast_s1963-r23i1p1f1_gn_196311-197312.nc', 'url': 'http://esgf-data.ucar.edu/thredds/fileServer/esg_dataroot/CMIP6/DCPP/NCAR/CESM1-1-CAM5-CMIP5/dcppA-hindcast/s1963-r23i1p1f1/Amon/sfcWind/gn/v20191007/sfcWind_Amon_CESM1-1-CAM5-CMIP5_dcppA-hindcast_s1963-r23i1p1f1_gn_196311-197312.nc'}, {'filename': 'sfcWind_Amon_CESM1-1-CAM5-CMIP5_dcppA-hindcast_s1963-r24i1p1f1_gn_196311-197312.nc', 'url': 'http://esgf-data.ucar.edu/thredds/fileServer/esg_dataroot/CMIP6/DCPP/NCAR/CESM1-1-CAM5-CMIP5/dcppA-hindcast/s1963-r24i1p1f1/Amon/sfcWind/gn/v20191007/sfcWind_Amon_CESM1-1-CAM5-CMIP5_dcppA-hindcast_s1963-r24i1p1f1_gn_196311-197312.nc'}, {'filename': 'sfcWind_Amon_CESM1-1-CAM5-CMIP5_dcppA-hindcast_s1963-r20i1p1f1_gn_196311-197312.nc', 'url': 'http://esgf-data.ucar.edu/thredds/fileServer/esg_dataroot/CMIP6/DCPP/NCAR/CESM1-1-CAM5-CMIP5/dcppA-hindcast/s1963-r20i1p1f1/Amon/sfcWind/gn/v20191007/sfcWind_Amon_CESM1-1-CAM5-CMIP5_dcppA-hindcast_s1963-r20i1p1f1_gn_196311-197312.nc'}, {'filename': 'sfcWind_Amon_CESM1-1-CAM5-CMIP5_dcppA-hindcast_s1963-r21i1p1f1_gn_196311-197312.nc', 'url': 'http://esgf-data.ucar.edu/thredds/fileServer/esg_dataroot/CMIP6/DCPP/NCAR/CESM1-1-CAM5-CMIP5/dcppA-hindcast/s1963-r21i1p1f1/Amon/sfcWind/gn/v20191007/sfcWind_Amon_CESM1-1-CAM5-CMIP5_dcppA-hindcast_s1963-r21i1p1f1_gn_196311-197312.nc'}, {'filename': 'sfcWind_Amon_CESM1-1-CAM5-CMIP5_dcppA-hindcast_s1963-r17i1p1f1_gn_196311-197312.nc', 'url': 'http://esgf-data.ucar.edu/thredds/fileServer/esg_dataroot/CMIP6/DCPP/NCAR/CESM1-1-CAM5-CMIP5/dcppA-hindcast/s1963-r17i1p1f1/Amon/sfcWind/gn/v20191007/sfcWind_Amon_CESM1-1-CAM5-CMIP5_dcppA-hindcast_s1963-r17i1p1f1_gn_196311-197312.nc'}, {'filename': 'sfcWind_Amon_CESM1-1-CAM5-CMIP5_dcppA-hindcast_s1963-r18i1p1f1_gn_196311-197312.nc', 'url': 'http://esgf-data.ucar.edu/thredds/fileServer/esg_dataroot/CMIP6/DCPP/NCAR/CESM1-1-CAM5-CMIP5/dcppA-hindcast/s1963-r18i1p1f1/Amon/sfcWind/gn/v20191007/sfcWind_Amon_CESM1-1-CAM5-CMIP5_dcppA-hindcast_s1963-r18i1p1f1_gn_196311-197312.nc'}, {'filename': 'sfcWind_Amon_CESM1-1-CAM5-CMIP5_dcppA-hindcast_s1963-r25i1p1f1_gn_196311-197312.nc', 'url': 'http://esgf-data.ucar.edu/thredds/fileServer/esg_dataroot/CMIP6/DCPP/NCAR/CESM1-1-CAM5-CMIP5/dcppA-hindcast/s1963-r25i1p1f1/Amon/sfcWind/gn/v20191007/sfcWind_Amon_CESM1-1-CAM5-CMIP5_dcppA-hindcast_s1963-r25i1p1f1_gn_196311-197312.nc'}, {'filename': 'sfcWind_Amon_CESM1-1-CAM5-CMIP5_dcppA-hindcast_s1963-r26i1p1f1_gn_196311-197312.nc', 'url': 'http://esgf-data.ucar.edu/thredds/fileServer/esg_dataroot/CMIP6/DCPP/NCAR/CESM1-1-CAM5-CMIP5/dcppA-hindcast/s1963-r26i1p1f1/Amon/sfcWind/gn/v20191007/sfcWind_Amon_CESM1-1-CAM5-CMIP5_dcppA-hindcast_s1963-r26i1p1f1_gn_196311-197312.nc'}, {'filename': 'sfcWind_Amon_CESM1-1-CAM5-CMIP5_dcppA-hindcast_s1963-r29i1p1f1_gn_196311-197312.nc', 'url': 'http://esgf-data.ucar.edu/thredds/fileServer/esg_dataroot/CMIP6/DCPP/NCAR/CESM1-1-CAM5-CMIP5/dcppA-hindcast/s1963-r29i1p1f1/Amon/sfcWind/gn/v20191007/sfcWind_Amon_CESM1-1-CAM5-CMIP5_dcppA-hindcast_s1963-r29i1p1f1_gn_196311-197312.nc'}, {'filename': 'sfcWind_Amon_CESM1-1-CAM5-CMIP5_dcppA-hindcast_s1963-r2i1p1f1_gn_196311-197312.nc', 'url': 'http://esgf-data.ucar.edu/thredds/fileServer/esg_dataroot/CMIP6/DCPP/NCAR/CESM1-1-CAM5-CMIP5/dcppA-hindcast/s1963-r2i1p1f1/Amon/sfcWind/gn/v20191007/sfcWind_Amon_CESM1-1-CAM5-CMIP5_dcppA-hindcast_s1963-r2i1p1f1_gn_196311-197312.nc'}, {'filename': 'sfcWind_Amon_CESM1-1-CAM5-CMIP5_dcppA-hindcast_s1962-r5i1p1f1_gn_196211-197212.nc', 'url': 'http://esgf-data.ucar.edu/thredds/fileServer/esg_dataroot/CMIP6/DCPP/NCAR/CESM1-1-CAM5-CMIP5/dcppA-hindcast/s1962-r5i1p1f1/Amon/sfcWind/gn/v20191007/sfcWind_Amon_CESM1-1-CAM5-CMIP5_dcppA-hindcast_s1962-r5i1p1f1_gn_196211-197212.nc'}, {'filename': 'sfcWind_Amon_CESM1-1-CAM5-CMIP5_dcppA-hindcast_s1962-r6i1p1f1_gn_196211-197212.nc', 'url': 'http://esgf-data.ucar.edu/thredds/fileServer/esg_dataroot/CMIP6/DCPP/NCAR/CESM1-1-CAM5-CMIP5/dcppA-hindcast/s1962-r6i1p1f1/Amon/sfcWind/gn/v20191007/sfcWind_Amon_CESM1-1-CAM5-CMIP5_dcppA-hindcast_s1962-r6i1p1f1_gn_196211-197212.nc'}, {'filename': 'sfcWind_Amon_CESM1-1-CAM5-CMIP5_dcppA-hindcast_s1962-r7i1p1f1_gn_196211-197212.nc', 'url': 'http://esgf-data.ucar.edu/thredds/fileServer/esg_dataroot/CMIP6/DCPP/NCAR/CESM1-1-CAM5-CMIP5/dcppA-hindcast/s1962-r7i1p1f1/Amon/sfcWind/gn/v20191007/sfcWind_Amon_CESM1-1-CAM5-CMIP5_dcppA-hindcast_s1962-r7i1p1f1_gn_196211-197212.nc'}, {'filename': 'sfcWind_Amon_CESM1-1-CAM5-CMIP5_dcppA-hindcast_s1962-r8i1p1f1_gn_196211-197212.nc', 'url': 'http://esgf-data.ucar.edu/thredds/fileServer/esg_dataroot/CMIP6/DCPP/NCAR/CESM1-1-CAM5-CMIP5/dcppA-hindcast/s1962-r8i1p1f1/Amon/sfcWind/gn/v20191007/sfcWind_Amon_CESM1-1-CAM5-CMIP5_dcppA-hindcast_s1962-r8i1p1f1_gn_196211-197212.nc'}, {'filename': 'sfcWind_Amon_CESM1-1-CAM5-CMIP5_dcppA-hindcast_s1962-r9i1p1f1_gn_196211-197212.nc', 'url': 'http://esgf-data.ucar.edu/thredds/fileServer/esg_dataroot/CMIP6/DCPP/NCAR/CESM1-1-CAM5-CMIP5/dcppA-hindcast/s1962-r9i1p1f1/Amon/sfcWind/gn/v20191007/sfcWind_Amon_CESM1-1-CAM5-CMIP5_dcppA-hindcast_s1962-r9i1p1f1_gn_196211-197212.nc'}, {'filename': 'sfcWind_Amon_CESM1-1-CAM5-CMIP5_dcppA-hindcast_s1963-r10i1p1f1_gn_196311-197312.nc', 'url': 'http://esgf-data.ucar.edu/thredds/fileServer/esg_dataroot/CMIP6/DCPP/NCAR/CESM1-1-CAM5-CMIP5/dcppA-hindcast/s1963-r10i1p1f1/Amon/sfcWind/gn/v20191007/sfcWind_Amon_CESM1-1-CAM5-CMIP5_dcppA-hindcast_s1963-r10i1p1f1_gn_196311-197312.nc'}, {'filename': 'sfcWind_Amon_CESM1-1-CAM5-CMIP5_dcppA-hindcast_s1963-r11i1p1f1_gn_196311-197312.nc', 'url': 'http://esgf-data.ucar.edu/thredds/fileServer/esg_dataroot/CMIP6/DCPP/NCAR/CESM1-1-CAM5-CMIP5/dcppA-hindcast/s1963-r11i1p1f1/Amon/sfcWind/gn/v20191007/sfcWind_Amon_CESM1-1-CAM5-CMIP5_dcppA-hindcast_s1963-r11i1p1f1_gn_196311-197312.nc'}, {'filename': 'sfcWind_Amon_CESM1-1-CAM5-CMIP5_dcppA-hindcast_s1963-r12i1p1f1_gn_196311-197312.nc', 'url': 'http://esgf-data.ucar.edu/thredds/fileServer/esg_dataroot/CMIP6/DCPP/NCAR/CESM1-1-CAM5-CMIP5/dcppA-hindcast/s1963-r12i1p1f1/Amon/sfcWind/gn/v20191007/sfcWind_Amon_CESM1-1-CAM5-CMIP5_dcppA-hindcast_s1963-r12i1p1f1_gn_196311-197312.nc'}, {'filename': 'sfcWind_Amon_CESM1-1-CAM5-CMIP5_dcppA-hindcast_s1963-r13i1p1f1_gn_196311-197312.nc', 'url': 'http://esgf-data.ucar.edu/thredds/fileServer/esg_dataroot/CMIP6/DCPP/NCAR/CESM1-1-CAM5-CMIP5/dcppA-hindcast/s1963-r13i1p1f1/Amon/sfcWind/gn/v20191007/sfcWind_Amon_CESM1-1-CAM5-CMIP5_dcppA-hindcast_s1963-r13i1p1f1_gn_196311-197312.nc'}, {'filename': 'sfcWind_Amon_CESM1-1-CAM5-CMIP5_dcppA-hindcast_s1962-r39i1p1f1_gn_196211-197212.nc', 'url': 'http://esgf-data.ucar.edu/thredds/fileServer/esg_dataroot/CMIP6/DCPP/NCAR/CESM1-1-CAM5-CMIP5/dcppA-hindcast/s1962-r39i1p1f1/Amon/sfcWind/gn/v20191007/sfcWind_Amon_CESM1-1-CAM5-CMIP5_dcppA-hindcast_s1962-r39i1p1f1_gn_196211-197212.nc'}, {'filename': 'sfcWind_Amon_CESM1-1-CAM5-CMIP5_dcppA-hindcast_s1962-r3i1p1f1_gn_196211-197212.nc', 'url': 'http://esgf-data.ucar.edu/thredds/fileServer/esg_dataroot/CMIP6/DCPP/NCAR/CESM1-1-CAM5-CMIP5/dcppA-hindcast/s1962-r3i1p1f1/Amon/sfcWind/gn/v20191007/sfcWind_Amon_CESM1-1-CAM5-CMIP5_dcppA-hindcast_s1962-r3i1p1f1_gn_196211-197212.nc'}, {'filename': 'sfcWind_Amon_CESM1-1-CAM5-CMIP5_dcppA-hindcast_s1962-r40i1p1f1_gn_196211-197212.nc', 'url': 'http://esgf-data.ucar.edu/thredds/fileServer/esg_dataroot/CMIP6/DCPP/NCAR/CESM1-1-CAM5-CMIP5/dcppA-hindcast/s1962-r40i1p1f1/Amon/sfcWind/gn/v20191007/sfcWind_Amon_CESM1-1-CAM5-CMIP5_dcppA-hindcast_s1962-r40i1p1f1_gn_196211-197212.nc'}, {'filename': 'sfcWind_Amon_CESM1-1-CAM5-CMIP5_dcppA-hindcast_s1962-r4i1p1f1_gn_196211-197212.nc', 'url': 'http://esgf-data.ucar.edu/thredds/fileServer/esg_dataroot/CMIP6/DCPP/NCAR/CESM1-1-CAM5-CMIP5/dcppA-hindcast/s1962-r4i1p1f1/Amon/sfcWind/gn/v20191007/sfcWind_Amon_CESM1-1-CAM5-CMIP5_dcppA-hindcast_s1962-r4i1p1f1_gn_196211-197212.nc'}, {'filename': 'sfcWind_Amon_CESM1-1-CAM5-CMIP5_dcppA-hindcast_s1963-r14i1p1f1_gn_196311-197312.nc', 'url': 'http://esgf-data.ucar.edu/thredds/fileServer/esg_dataroot/CMIP6/DCPP/NCAR/CESM1-1-CAM5-CMIP5/dcppA-hindcast/s1963-r14i1p1f1/Amon/sfcWind/gn/v20191007/sfcWind_Amon_CESM1-1-CAM5-CMIP5_dcppA-hindcast_s1963-r14i1p1f1_gn_196311-197312.nc'}, {'filename': 'sfcWind_Amon_CESM1-1-CAM5-CMIP5_dcppA-hindcast_s1963-r15i1p1f1_gn_196311-197312.nc', 'url': 'http://esgf-data.ucar.edu/thredds/fileServer/esg_dataroot/CMIP6/DCPP/NCAR/CESM1-1-CAM5-CMIP5/dcppA-hindcast/s1963-r15i1p1f1/Amon/sfcWind/gn/v20191007/sfcWind_Amon_CESM1-1-CAM5-CMIP5_dcppA-hindcast_s1963-r15i1p1f1_gn_196311-197312.nc'}, {'filename': 'sfcWind_Amon_CESM1-1-CAM5-CMIP5_dcppA-hindcast_s1963-r16i1p1f1_gn_196311-197312.nc', 'url': 'http://esgf-data.ucar.edu/thredds/fileServer/esg_dataroot/CMIP6/DCPP/NCAR/CESM1-1-CAM5-CMIP5/dcppA-hindcast/s1963-r16i1p1f1/Amon/sfcWind/gn/v20191007/sfcWind_Amon_CESM1-1-CAM5-CMIP5_dcppA-hindcast_s1963-r16i1p1f1_gn_196311-197312.nc'}, {'filename': 'sfcWind_Amon_CESM1-1-CAM5-CMIP5_dcppA-hindcast_s1962-r37i1p1f1_gn_196211-197212.nc', 'url': 'http://esgf-data.ucar.edu/thredds/fileServer/esg_dataroot/CMIP6/DCPP/NCAR/CESM1-1-CAM5-CMIP5/dcppA-hindcast/s1962-r37i1p1f1/Amon/sfcWind/gn/v20191007/sfcWind_Amon_CESM1-1-CAM5-CMIP5_dcppA-hindcast_s1962-r37i1p1f1_gn_196211-197212.nc'}, {'filename': 'sfcWind_Amon_CESM1-1-CAM5-CMIP5_dcppA-hindcast_s1962-r38i1p1f1_gn_196211-197212.nc', 'url': 'http://esgf-data.ucar.edu/thredds/fileServer/esg_dataroot/CMIP6/DCPP/NCAR/CESM1-1-CAM5-CMIP5/dcppA-hindcast/s1962-r38i1p1f1/Amon/sfcWind/gn/v20191007/sfcWind_Amon_CESM1-1-CAM5-CMIP5_dcppA-hindcast_s1962-r38i1p1f1_gn_196211-197212.nc'}, {'filename': 'sfcWind_Amon_CESM1-1-CAM5-CMIP5_dcppA-hindcast_s1962-r12i1p1f1_gn_196211-197212.nc', 'url': 'http://esgf-data.ucar.edu/thredds/fileServer/esg_dataroot/CMIP6/DCPP/NCAR/CESM1-1-CAM5-CMIP5/dcppA-hindcast/s1962-r12i1p1f1/Amon/sfcWind/gn/v20191007/sfcWind_Amon_CESM1-1-CAM5-CMIP5_dcppA-hindcast_s1962-r12i1p1f1_gn_196211-197212.nc'}, {'filename': 'sfcWind_Amon_CESM1-1-CAM5-CMIP5_dcppA-hindcast_s1962-r13i1p1f1_gn_196211-197212.nc', 'url': 'http://esgf-data.ucar.edu/thredds/fileServer/esg_dataroot/CMIP6/DCPP/NCAR/CESM1-1-CAM5-CMIP5/dcppA-hindcast/s1962-r13i1p1f1/Amon/sfcWind/gn/v20191007/sfcWind_Amon_CESM1-1-CAM5-CMIP5_dcppA-hindcast_s1962-r13i1p1f1_gn_196211-197212.nc'}, {'filename': 'sfcWind_Amon_CESM1-1-CAM5-CMIP5_dcppA-hindcast_s1962-r14i1p1f1_gn_196211-197212.nc', 'url': 'http://esgf-data.ucar.edu/thredds/fileServer/esg_dataroot/CMIP6/DCPP/NCAR/CESM1-1-CAM5-CMIP5/dcppA-hindcast/s1962-r14i1p1f1/Amon/sfcWind/gn/v20191007/sfcWind_Amon_CESM1-1-CAM5-CMIP5_dcppA-hindcast_s1962-r14i1p1f1_gn_196211-197212.nc'}, {'filename': 'sfcWind_Amon_CESM1-1-CAM5-CMIP5_dcppA-hindcast_s1962-r10i1p1f1_gn_196211-197212.nc', 'url': 'http://esgf-data.ucar.edu/thredds/fileServer/esg_dataroot/CMIP6/DCPP/NCAR/CESM1-1-CAM5-CMIP5/dcppA-hindcast/s1962-r10i1p1f1/Amon/sfcWind/gn/v20191007/sfcWind_Amon_CESM1-1-CAM5-CMIP5_dcppA-hindcast_s1962-r10i1p1f1_gn_196211-197212.nc'}, {'filename': 'sfcWind_Amon_CESM1-1-CAM5-CMIP5_dcppA-hindcast_s1962-r11i1p1f1_gn_196211-197212.nc', 'url': 'http://esgf-data.ucar.edu/thredds/fileServer/esg_dataroot/CMIP6/DCPP/NCAR/CESM1-1-CAM5-CMIP5/dcppA-hindcast/s1962-r11i1p1f1/Amon/sfcWind/gn/v20191007/sfcWind_Amon_CESM1-1-CAM5-CMIP5_dcppA-hindcast_s1962-r11i1p1f1_gn_196211-197212.nc'}, {'filename': 'sfcWind_Amon_CESM1-1-CAM5-CMIP5_dcppA-hindcast_s1962-r15i1p1f1_gn_196211-197212.nc', 'url': 'http://esgf-data.ucar.edu/thredds/fileServer/esg_dataroot/CMIP6/DCPP/NCAR/CESM1-1-CAM5-CMIP5/dcppA-hindcast/s1962-r15i1p1f1/Amon/sfcWind/gn/v20191007/sfcWind_Amon_CESM1-1-CAM5-CMIP5_dcppA-hindcast_s1962-r15i1p1f1_gn_196211-197212.nc'}, {'filename': 'sfcWind_Amon_CESM1-1-CAM5-CMIP5_dcppA-hindcast_s1962-r16i1p1f1_gn_196211-197212.nc', 'url': 'http://esgf-data.ucar.edu/thredds/fileServer/esg_dataroot/CMIP6/DCPP/NCAR/CESM1-1-CAM5-CMIP5/dcppA-hindcast/s1962-r16i1p1f1/Amon/sfcWind/gn/v20191007/sfcWind_Amon_CESM1-1-CAM5-CMIP5_dcppA-hindcast_s1962-r16i1p1f1_gn_196211-197212.nc'}, {'filename': 'sfcWind_Amon_CESM1-1-CAM5-CMIP5_dcppA-hindcast_s1962-r17i1p1f1_gn_196211-197212.nc', 'url': 'http://esgf-data.ucar.edu/thredds/fileServer/esg_dataroot/CMIP6/DCPP/NCAR/CESM1-1-CAM5-CMIP5/dcppA-hindcast/s1962-r17i1p1f1/Amon/sfcWind/gn/v20191007/sfcWind_Amon_CESM1-1-CAM5-CMIP5_dcppA-hindcast_s1962-r17i1p1f1_gn_196211-197212.nc'}, {'filename': 'sfcWind_Amon_CESM1-1-CAM5-CMIP5_dcppA-hindcast_s1962-r18i1p1f1_gn_196211-197212.nc', 'url': 'http://esgf-data.ucar.edu/thredds/fileServer/esg_dataroot/CMIP6/DCPP/NCAR/CESM1-1-CAM5-CMIP5/dcppA-hindcast/s1962-r18i1p1f1/Amon/sfcWind/gn/v20191007/sfcWind_Amon_CESM1-1-CAM5-CMIP5_dcppA-hindcast_s1962-r18i1p1f1_gn_196211-197212.nc'}, {'filename': 'sfcWind_Amon_CESM1-1-CAM5-CMIP5_dcppA-hindcast_s1962-r30i1p1f1_gn_196211-197212.nc', 'url': 'http://esgf-data.ucar.edu/thredds/fileServer/esg_dataroot/CMIP6/DCPP/NCAR/CESM1-1-CAM5-CMIP5/dcppA-hindcast/s1962-r30i1p1f1/Amon/sfcWind/gn/v20191007/sfcWind_Amon_CESM1-1-CAM5-CMIP5_dcppA-hindcast_s1962-r30i1p1f1_gn_196211-197212.nc'}, {'filename': 'sfcWind_Amon_CESM1-1-CAM5-CMIP5_dcppA-hindcast_s1962-r31i1p1f1_gn_196211-197212.nc', 'url': 'http://esgf-data.ucar.edu/thredds/fileServer/esg_dataroot/CMIP6/DCPP/NCAR/CESM1-1-CAM5-CMIP5/dcppA-hindcast/s1962-r31i1p1f1/Amon/sfcWind/gn/v20191007/sfcWind_Amon_CESM1-1-CAM5-CMIP5_dcppA-hindcast_s1962-r31i1p1f1_gn_196211-197212.nc'}, {'filename': 'sfcWind_Amon_CESM1-1-CAM5-CMIP5_dcppA-hindcast_s1962-r27i1p1f1_gn_196211-197212.nc', 'url': 'http://esgf-data.ucar.edu/thredds/fileServer/esg_dataroot/CMIP6/DCPP/NCAR/CESM1-1-CAM5-CMIP5/dcppA-hindcast/s1962-r27i1p1f1/Amon/sfcWind/gn/v20191007/sfcWind_Amon_CESM1-1-CAM5-CMIP5_dcppA-hindcast_s1962-r27i1p1f1_gn_196211-197212.nc'}, {'filename': 'sfcWind_Amon_CESM1-1-CAM5-CMIP5_dcppA-hindcast_s1962-r28i1p1f1_gn_196211-197212.nc', 'url': 'http://esgf-data.ucar.edu/thredds/fileServer/esg_dataroot/CMIP6/DCPP/NCAR/CESM1-1-CAM5-CMIP5/dcppA-hindcast/s1962-r28i1p1f1/Amon/sfcWind/gn/v20191007/sfcWind_Amon_CESM1-1-CAM5-CMIP5_dcppA-hindcast_s1962-r28i1p1f1_gn_196211-197212.nc'}, {'filename': 'sfcWind_Amon_CESM1-1-CAM5-CMIP5_dcppA-hindcast_s1962-r32i1p1f1_gn_196211-197212.nc', 'url': 'http://esgf-data.ucar.edu/thredds/fileServer/esg_dataroot/CMIP6/DCPP/NCAR/CESM1-1-CAM5-CMIP5/dcppA-hindcast/s1962-r32i1p1f1/Amon/sfcWind/gn/v20191007/sfcWind_Amon_CESM1-1-CAM5-CMIP5_dcppA-hindcast_s1962-r32i1p1f1_gn_196211-197212.nc'}, {'filename': 'sfcWind_Amon_CESM1-1-CAM5-CMIP5_dcppA-hindcast_s1962-r33i1p1f1_gn_196211-197212.nc', 'url': 'http://esgf-data.ucar.edu/thredds/fileServer/esg_dataroot/CMIP6/DCPP/NCAR/CESM1-1-CAM5-CMIP5/dcppA-hindcast/s1962-r33i1p1f1/Amon/sfcWind/gn/v20191007/sfcWind_Amon_CESM1-1-CAM5-CMIP5_dcppA-hindcast_s1962-r33i1p1f1_gn_196211-197212.nc'}, {'filename': 'sfcWind_Amon_CESM1-1-CAM5-CMIP5_dcppA-hindcast_s1962-r25i1p1f1_gn_196211-197212.nc', 'url': 'http://esgf-data.ucar.edu/thredds/fileServer/esg_dataroot/CMIP6/DCPP/NCAR/CESM1-1-CAM5-CMIP5/dcppA-hindcast/s1962-r25i1p1f1/Amon/sfcWind/gn/v20191007/sfcWind_Amon_CESM1-1-CAM5-CMIP5_dcppA-hindcast_s1962-r25i1p1f1_gn_196211-197212.nc'}, {'filename': 'sfcWind_Amon_CESM1-1-CAM5-CMIP5_dcppA-hindcast_s1962-r26i1p1f1_gn_196211-197212.nc', 'url': 'http://esgf-data.ucar.edu/thredds/fileServer/esg_dataroot/CMIP6/DCPP/NCAR/CESM1-1-CAM5-CMIP5/dcppA-hindcast/s1962-r26i1p1f1/Amon/sfcWind/gn/v20191007/sfcWind_Amon_CESM1-1-CAM5-CMIP5_dcppA-hindcast_s1962-r26i1p1f1_gn_196211-197212.nc'}, {'filename': 'sfcWind_Amon_CESM1-1-CAM5-CMIP5_dcppA-hindcast_s1962-r22i1p1f1_gn_196211-197212.nc', 'url': 'http://esgf-data.ucar.edu/thredds/fileServer/esg_dataroot/CMIP6/DCPP/NCAR/CESM1-1-CAM5-CMIP5/dcppA-hindcast/s1962-r22i1p1f1/Amon/sfcWind/gn/v20191007/sfcWind_Amon_CESM1-1-CAM5-CMIP5_dcppA-hindcast_s1962-r22i1p1f1_gn_196211-197212.nc'}, {'filename': 'sfcWind_Amon_CESM1-1-CAM5-CMIP5_dcppA-hindcast_s1962-r23i1p1f1_gn_196211-197212.nc', 'url': 'http://esgf-data.ucar.edu/thredds/fileServer/esg_dataroot/CMIP6/DCPP/NCAR/CESM1-1-CAM5-CMIP5/dcppA-hindcast/s1962-r23i1p1f1/Amon/sfcWind/gn/v20191007/sfcWind_Amon_CESM1-1-CAM5-CMIP5_dcppA-hindcast_s1962-r23i1p1f1_gn_196211-197212.nc'}, {'filename': 'sfcWind_Amon_CESM1-1-CAM5-CMIP5_dcppA-hindcast_s1962-r24i1p1f1_gn_196211-197212.nc', 'url': 'http://esgf-data.ucar.edu/thredds/fileServer/esg_dataroot/CMIP6/DCPP/NCAR/CESM1-1-CAM5-CMIP5/dcppA-hindcast/s1962-r24i1p1f1/Amon/sfcWind/gn/v20191007/sfcWind_Amon_CESM1-1-CAM5-CMIP5_dcppA-hindcast_s1962-r24i1p1f1_gn_196211-197212.nc'}, {'filename': 'sfcWind_Amon_CESM1-1-CAM5-CMIP5_dcppA-hindcast_s1962-r29i1p1f1_gn_196211-197212.nc', 'url': 'http://esgf-data.ucar.edu/thredds/fileServer/esg_dataroot/CMIP6/DCPP/NCAR/CESM1-1-CAM5-CMIP5/dcppA-hindcast/s1962-r29i1p1f1/Amon/sfcWind/gn/v20191007/sfcWind_Amon_CESM1-1-CAM5-CMIP5_dcppA-hindcast_s1962-r29i1p1f1_gn_196211-197212.nc'}, {'filename': 'sfcWind_Amon_CESM1-1-CAM5-CMIP5_dcppA-hindcast_s1962-r2i1p1f1_gn_196211-197212.nc', 'url': 'http://esgf-data.ucar.edu/thredds/fileServer/esg_dataroot/CMIP6/DCPP/NCAR/CESM1-1-CAM5-CMIP5/dcppA-hindcast/s1962-r2i1p1f1/Amon/sfcWind/gn/v20191007/sfcWind_Amon_CESM1-1-CAM5-CMIP5_dcppA-hindcast_s1962-r2i1p1f1_gn_196211-197212.nc'}, {'filename': 'sfcWind_Amon_CESM1-1-CAM5-CMIP5_dcppA-hindcast_s1962-r34i1p1f1_gn_196211-197212.nc', 'url': 'http://esgf-data.ucar.edu/thredds/fileServer/esg_dataroot/CMIP6/DCPP/NCAR/CESM1-1-CAM5-CMIP5/dcppA-hindcast/s1962-r34i1p1f1/Amon/sfcWind/gn/v20191007/sfcWind_Amon_CESM1-1-CAM5-CMIP5_dcppA-hindcast_s1962-r34i1p1f1_gn_196211-197212.nc'}, {'filename': 'sfcWind_Amon_CESM1-1-CAM5-CMIP5_dcppA-hindcast_s1962-r35i1p1f1_gn_196211-197212.nc', 'url': 'http://esgf-data.ucar.edu/thredds/fileServer/esg_dataroot/CMIP6/DCPP/NCAR/CESM1-1-CAM5-CMIP5/dcppA-hindcast/s1962-r35i1p1f1/Amon/sfcWind/gn/v20191007/sfcWind_Amon_CESM1-1-CAM5-CMIP5_dcppA-hindcast_s1962-r35i1p1f1_gn_196211-197212.nc'}, {'filename': 'sfcWind_Amon_CESM1-1-CAM5-CMIP5_dcppA-hindcast_s1962-r36i1p1f1_gn_196211-197212.nc', 'url': 'http://esgf-data.ucar.edu/thredds/fileServer/esg_dataroot/CMIP6/DCPP/NCAR/CESM1-1-CAM5-CMIP5/dcppA-hindcast/s1962-r36i1p1f1/Amon/sfcWind/gn/v20191007/sfcWind_Amon_CESM1-1-CAM5-CMIP5_dcppA-hindcast_s1962-r36i1p1f1_gn_196211-197212.nc'}, {'filename': 'sfcWind_Amon_CESM1-1-CAM5-CMIP5_dcppA-hindcast_s1962-r20i1p1f1_gn_196211-197212.nc', 'url': 'http://esgf-data.ucar.edu/thredds/fileServer/esg_dataroot/CMIP6/DCPP/NCAR/CESM1-1-CAM5-CMIP5/dcppA-hindcast/s1962-r20i1p1f1/Amon/sfcWind/gn/v20191007/sfcWind_Amon_CESM1-1-CAM5-CMIP5_dcppA-hindcast_s1962-r20i1p1f1_gn_196211-197212.nc'}, {'filename': 'sfcWind_Amon_CESM1-1-CAM5-CMIP5_dcppA-hindcast_s1962-r21i1p1f1_gn_196211-197212.nc', 'url': 'http://esgf-data.ucar.edu/thredds/fileServer/esg_dataroot/CMIP6/DCPP/NCAR/CESM1-1-CAM5-CMIP5/dcppA-hindcast/s1962-r21i1p1f1/Amon/sfcWind/gn/v20191007/sfcWind_Amon_CESM1-1-CAM5-CMIP5_dcppA-hindcast_s1962-r21i1p1f1_gn_196211-197212.nc'}, {'filename': 'sfcWind_Amon_CESM1-1-CAM5-CMIP5_dcppA-hindcast_s1962-r19i1p1f1_gn_196211-197212.nc', 'url': 'http://esgf-data.ucar.edu/thredds/fileServer/esg_dataroot/CMIP6/DCPP/NCAR/CESM1-1-CAM5-CMIP5/dcppA-hindcast/s1962-r19i1p1f1/Amon/sfcWind/gn/v20191007/sfcWind_Amon_CESM1-1-CAM5-CMIP5_dcppA-hindcast_s1962-r19i1p1f1_gn_196211-197212.nc'}, {'filename': 'sfcWind_Amon_CESM1-1-CAM5-CMIP5_dcppA-hindcast_s1962-r1i1p1f1_gn_196211-197212.nc', 'url': 'http://esgf-data.ucar.edu/thredds/fileServer/esg_dataroot/CMIP6/DCPP/NCAR/CESM1-1-CAM5-CMIP5/dcppA-hindcast/s1962-r1i1p1f1/Amon/sfcWind/gn/v20191007/sfcWind_Amon_CESM1-1-CAM5-CMIP5_dcppA-hindcast_s1962-r1i1p1f1_gn_196211-197212.nc'}, {'filename': 'sfcWind_Amon_CESM1-1-CAM5-CMIP5_dcppA-hindcast_s1963-r37i1p1f1_gn_196311-197312.nc', 'url': 'http://esgf-data.ucar.edu/thredds/fileServer/esg_dataroot/CMIP6/DCPP/NCAR/CESM1-1-CAM5-CMIP5/dcppA-hindcast/s1963-r37i1p1f1/Amon/sfcWind/gn/v20191007/sfcWind_Amon_CESM1-1-CAM5-CMIP5_dcppA-hindcast_s1963-r37i1p1f1_gn_196311-197312.nc'}, {'filename': 'sfcWind_Amon_CESM1-1-CAM5-CMIP5_dcppA-hindcast_s1963-r38i1p1f1_gn_196311-197312.nc', 'url': 'http://esgf-data.ucar.edu/thredds/fileServer/esg_dataroot/CMIP6/DCPP/NCAR/CESM1-1-CAM5-CMIP5/dcppA-hindcast/s1963-r38i1p1f1/Amon/sfcWind/gn/v20191007/sfcWind_Amon_CESM1-1-CAM5-CMIP5_dcppA-hindcast_s1963-r38i1p1f1_gn_196311-197312.nc'}, {'filename': 'sfcWind_Amon_CESM1-1-CAM5-CMIP5_dcppA-hindcast_s1963-r35i1p1f1_gn_196311-197312.nc', 'url': 'http://esgf-data.ucar.edu/thredds/fileServer/esg_dataroot/CMIP6/DCPP/NCAR/CESM1-1-CAM5-CMIP5/dcppA-hindcast/s1963-r35i1p1f1/Amon/sfcWind/gn/v20191007/sfcWind_Amon_CESM1-1-CAM5-CMIP5_dcppA-hindcast_s1963-r35i1p1f1_gn_196311-197312.nc'}, {'filename': 'sfcWind_Amon_CESM1-1-CAM5-CMIP5_dcppA-hindcast_s1963-r36i1p1f1_gn_196311-197312.nc', 'url': 'http://esgf-data.ucar.edu/thredds/fileServer/esg_dataroot/CMIP6/DCPP/NCAR/CESM1-1-CAM5-CMIP5/dcppA-hindcast/s1963-r36i1p1f1/Amon/sfcWind/gn/v20191007/sfcWind_Amon_CESM1-1-CAM5-CMIP5_dcppA-hindcast_s1963-r36i1p1f1_gn_196311-197312.nc'}, {'filename': 'sfcWind_Amon_CESM1-1-CAM5-CMIP5_dcppA-hindcast_s1963-r30i1p1f1_gn_196311-197312.nc', 'url': 'http://esgf-data.ucar.edu/thredds/fileServer/esg_dataroot/CMIP6/DCPP/NCAR/CESM1-1-CAM5-CMIP5/dcppA-hindcast/s1963-r30i1p1f1/Amon/sfcWind/gn/v20191007/sfcWind_Amon_CESM1-1-CAM5-CMIP5_dcppA-hindcast_s1963-r30i1p1f1_gn_196311-197312.nc'}, {'filename': 'sfcWind_Amon_CESM1-1-CAM5-CMIP5_dcppA-hindcast_s1963-r31i1p1f1_gn_196311-197312.nc', 'url': 'http://esgf-data.ucar.edu/thredds/fileServer/esg_dataroot/CMIP6/DCPP/NCAR/CESM1-1-CAM5-CMIP5/dcppA-hindcast/s1963-r31i1p1f1/Amon/sfcWind/gn/v20191007/sfcWind_Amon_CESM1-1-CAM5-CMIP5_dcppA-hindcast_s1963-r31i1p1f1_gn_196311-197312.nc'}, {'filename': 'sfcWind_Amon_CESM1-1-CAM5-CMIP5_dcppA-hindcast_s1963-r32i1p1f1_gn_196311-197312.nc', 'url': 'http://esgf-data.ucar.edu/thredds/fileServer/esg_dataroot/CMIP6/DCPP/NCAR/CESM1-1-CAM5-CMIP5/dcppA-hindcast/s1963-r32i1p1f1/Amon/sfcWind/gn/v20191007/sfcWind_Amon_CESM1-1-CAM5-CMIP5_dcppA-hindcast_s1963-r32i1p1f1_gn_196311-197312.nc'}]\n"
     ]
    }
   ],
   "source": [
    "print(len(file_context_list))\n",
    "print(type(file_context_list))\n",
    "print(file_context_list)\n",
    "\n",
    "for file_context in file_context_list:\n",
    "    print(type(file_context))\n",
    "    print(file_context)"
   ]
  },
  {
   "cell_type": "code",
   "execution_count": 33,
   "metadata": {},
   "outputs": [
    {
     "data": {
      "text/html": [
       "<div>\n",
       "<style scoped>\n",
       "    .dataframe tbody tr th:only-of-type {\n",
       "        vertical-align: middle;\n",
       "    }\n",
       "\n",
       "    .dataframe tbody tr th {\n",
       "        vertical-align: top;\n",
       "    }\n",
       "\n",
       "    .dataframe thead th {\n",
       "        text-align: right;\n",
       "    }\n",
       "</style>\n",
       "<table border=\"1\" class=\"dataframe\">\n",
       "  <thead>\n",
       "    <tr style=\"text-align: right;\">\n",
       "      <th></th>\n",
       "      <th>filename</th>\n",
       "      <th>url</th>\n",
       "    </tr>\n",
       "  </thead>\n",
       "  <tbody>\n",
       "    <tr>\n",
       "      <th>0</th>\n",
       "      <td>sfcWind_Amon_CESM1-1-CAM5-CMIP5_dcppA-hindcast...</td>\n",
       "      <td>http://esgf-data.ucar.edu/thredds/fileServer/e...</td>\n",
       "    </tr>\n",
       "    <tr>\n",
       "      <th>1</th>\n",
       "      <td>sfcWind_Amon_CESM1-1-CAM5-CMIP5_dcppA-hindcast...</td>\n",
       "      <td>http://esgf-data.ucar.edu/thredds/fileServer/e...</td>\n",
       "    </tr>\n",
       "    <tr>\n",
       "      <th>2</th>\n",
       "      <td>sfcWind_Amon_CESM1-1-CAM5-CMIP5_dcppA-hindcast...</td>\n",
       "      <td>http://esgf-data.ucar.edu/thredds/fileServer/e...</td>\n",
       "    </tr>\n",
       "    <tr>\n",
       "      <th>3</th>\n",
       "      <td>sfcWind_Amon_CESM1-1-CAM5-CMIP5_dcppA-hindcast...</td>\n",
       "      <td>http://esgf-data.ucar.edu/thredds/fileServer/e...</td>\n",
       "    </tr>\n",
       "    <tr>\n",
       "      <th>4</th>\n",
       "      <td>sfcWind_Amon_CESM1-1-CAM5-CMIP5_dcppA-hindcast...</td>\n",
       "      <td>http://esgf-data.ucar.edu/thredds/fileServer/e...</td>\n",
       "    </tr>\n",
       "    <tr>\n",
       "      <th>...</th>\n",
       "      <td>...</td>\n",
       "      <td>...</td>\n",
       "    </tr>\n",
       "    <tr>\n",
       "      <th>75</th>\n",
       "      <td>sfcWind_Amon_CESM1-1-CAM5-CMIP5_dcppA-hindcast...</td>\n",
       "      <td>http://esgf-data.ucar.edu/thredds/fileServer/e...</td>\n",
       "    </tr>\n",
       "    <tr>\n",
       "      <th>76</th>\n",
       "      <td>sfcWind_Amon_CESM1-1-CAM5-CMIP5_dcppA-hindcast...</td>\n",
       "      <td>http://esgf-data.ucar.edu/thredds/fileServer/e...</td>\n",
       "    </tr>\n",
       "    <tr>\n",
       "      <th>77</th>\n",
       "      <td>sfcWind_Amon_CESM1-1-CAM5-CMIP5_dcppA-hindcast...</td>\n",
       "      <td>http://esgf-data.ucar.edu/thredds/fileServer/e...</td>\n",
       "    </tr>\n",
       "    <tr>\n",
       "      <th>78</th>\n",
       "      <td>sfcWind_Amon_CESM1-1-CAM5-CMIP5_dcppA-hindcast...</td>\n",
       "      <td>http://esgf-data.ucar.edu/thredds/fileServer/e...</td>\n",
       "    </tr>\n",
       "    <tr>\n",
       "      <th>79</th>\n",
       "      <td>sfcWind_Amon_CESM1-1-CAM5-CMIP5_dcppA-hindcast...</td>\n",
       "      <td>http://esgf-data.ucar.edu/thredds/fileServer/e...</td>\n",
       "    </tr>\n",
       "  </tbody>\n",
       "</table>\n",
       "<p>80 rows × 2 columns</p>\n",
       "</div>"
      ],
      "text/plain": [
       "                                             filename  \\\n",
       "0   sfcWind_Amon_CESM1-1-CAM5-CMIP5_dcppA-hindcast...   \n",
       "1   sfcWind_Amon_CESM1-1-CAM5-CMIP5_dcppA-hindcast...   \n",
       "2   sfcWind_Amon_CESM1-1-CAM5-CMIP5_dcppA-hindcast...   \n",
       "3   sfcWind_Amon_CESM1-1-CAM5-CMIP5_dcppA-hindcast...   \n",
       "4   sfcWind_Amon_CESM1-1-CAM5-CMIP5_dcppA-hindcast...   \n",
       "..                                                ...   \n",
       "75  sfcWind_Amon_CESM1-1-CAM5-CMIP5_dcppA-hindcast...   \n",
       "76  sfcWind_Amon_CESM1-1-CAM5-CMIP5_dcppA-hindcast...   \n",
       "77  sfcWind_Amon_CESM1-1-CAM5-CMIP5_dcppA-hindcast...   \n",
       "78  sfcWind_Amon_CESM1-1-CAM5-CMIP5_dcppA-hindcast...   \n",
       "79  sfcWind_Amon_CESM1-1-CAM5-CMIP5_dcppA-hindcast...   \n",
       "\n",
       "                                                  url  \n",
       "0   http://esgf-data.ucar.edu/thredds/fileServer/e...  \n",
       "1   http://esgf-data.ucar.edu/thredds/fileServer/e...  \n",
       "2   http://esgf-data.ucar.edu/thredds/fileServer/e...  \n",
       "3   http://esgf-data.ucar.edu/thredds/fileServer/e...  \n",
       "4   http://esgf-data.ucar.edu/thredds/fileServer/e...  \n",
       "..                                                ...  \n",
       "75  http://esgf-data.ucar.edu/thredds/fileServer/e...  \n",
       "76  http://esgf-data.ucar.edu/thredds/fileServer/e...  \n",
       "77  http://esgf-data.ucar.edu/thredds/fileServer/e...  \n",
       "78  http://esgf-data.ucar.edu/thredds/fileServer/e...  \n",
       "79  http://esgf-data.ucar.edu/thredds/fileServer/e...  \n",
       "\n",
       "[80 rows x 2 columns]"
      ]
     },
     "execution_count": 33,
     "metadata": {},
     "output_type": "execute_result"
    }
   ],
   "source": [
    "# Create an empty DataFrame\n",
    "df = pd.DataFrame()\n",
    "\n",
    "# Loop through the file_context_list\n",
    "for file_context in file_context_list:\n",
    "    # Convert the dictionary to a DataFrame\n",
    "    temp_df = pd.DataFrame(file_context)\n",
    "\n",
    "    # Append the temp_df to the main df\n",
    "    df = pd.concat([df, temp_df], ignore_index=True)\n",
    "\n",
    "# Print the df\n",
    "df"
   ]
  },
  {
   "cell_type": "code",
   "execution_count": 20,
   "metadata": {},
   "outputs": [],
   "source": [
    "# # Python\n",
    "# # Create an empty DataFrame\n",
    "# df = pd.DataFrame()\n",
    "\n",
    "# # Loop through the file_context_list\n",
    "# for file_context in file_context_list:\n",
    "#     # Convert the dictionary to a DataFrame\n",
    "#     temp_df = pd.DataFrame.from_dict(file_context)\n",
    "\n",
    "#     # Append the temp_df to the main df\n",
    "#     df = pd.concat([df, temp_df], ignore_index=True)"
   ]
  },
  {
   "cell_type": "code",
   "execution_count": 34,
   "metadata": {},
   "outputs": [],
   "source": [
    "# reload for modules\n",
    "import importlib\n",
    "import sys\n",
    "\n",
    "# import the functions\n",
    "_ = importlib.reload(sys.modules['testing_download_functions'])\n",
    "\n",
    "from testing_download_functions import query_data_esgf, extract_file_context, \\\n",
    "                                        download_file, extract_file_context_multithread, \\\n",
    "                                        check_file_exists_jasmin"
   ]
  },
  {
   "cell_type": "code",
   "execution_count": 35,
   "metadata": {},
   "outputs": [
    {
     "name": "stdout",
     "output_type": "stream",
     "text": [
      "NCAR\n",
      "badc\n",
      "File does not exist for sfcWind_Amon_CESM1-1-CAM5-CMIP5_dcppA-hindcast_s1963-r8i1p1f1_gn_196311-197312.nc\n",
      "NCAR\n",
      "badc\n",
      "File does not exist for sfcWind_Amon_CESM1-1-CAM5-CMIP5_dcppA-hindcast_s1963-r9i1p1f1_gn_196311-197312.nc\n",
      "NCAR\n",
      "badc\n",
      "File does not exist for sfcWind_Amon_CESM1-1-CAM5-CMIP5_dcppA-hindcast_s1963-r40i1p1f1_gn_196311-197312.nc\n",
      "NCAR\n",
      "badc\n",
      "File does not exist for sfcWind_Amon_CESM1-1-CAM5-CMIP5_dcppA-hindcast_s1963-r4i1p1f1_gn_196311-197312.nc\n",
      "NCAR\n",
      "badc\n",
      "File does not exist for sfcWind_Amon_CESM1-1-CAM5-CMIP5_dcppA-hindcast_s1963-r5i1p1f1_gn_196311-197312.nc\n",
      "NCAR\n",
      "badc\n",
      "File does not exist for sfcWind_Amon_CESM1-1-CAM5-CMIP5_dcppA-hindcast_s1963-r6i1p1f1_gn_196311-197312.nc\n",
      "NCAR\n",
      "badc\n",
      "File does not exist for sfcWind_Amon_CESM1-1-CAM5-CMIP5_dcppA-hindcast_s1963-r7i1p1f1_gn_196311-197312.nc\n",
      "NCAR\n",
      "badc\n",
      "File does not exist for sfcWind_Amon_CESM1-1-CAM5-CMIP5_dcppA-hindcast_s1963-r33i1p1f1_gn_196311-197312.nc\n",
      "NCAR\n",
      "badc\n",
      "File does not exist for sfcWind_Amon_CESM1-1-CAM5-CMIP5_dcppA-hindcast_s1963-r34i1p1f1_gn_196311-197312.nc\n",
      "NCAR\n",
      "badc\n",
      "File does not exist for sfcWind_Amon_CESM1-1-CAM5-CMIP5_dcppA-hindcast_s1963-r3i1p1f1_gn_196311-197312.nc\n",
      "NCAR\n",
      "badc\n",
      "File does not exist for sfcWind_Amon_CESM1-1-CAM5-CMIP5_dcppA-hindcast_s1963-r39i1p1f1_gn_196311-197312.nc\n",
      "NCAR\n",
      "badc\n",
      "File does not exist for sfcWind_Amon_CESM1-1-CAM5-CMIP5_dcppA-hindcast_s1963-r19i1p1f1_gn_196311-197312.nc\n",
      "NCAR\n",
      "badc\n",
      "File does not exist for sfcWind_Amon_CESM1-1-CAM5-CMIP5_dcppA-hindcast_s1963-r1i1p1f1_gn_196311-197312.nc\n",
      "NCAR\n",
      "badc\n",
      "File does not exist for sfcWind_Amon_CESM1-1-CAM5-CMIP5_dcppA-hindcast_s1963-r27i1p1f1_gn_196311-197312.nc\n",
      "NCAR\n",
      "badc\n",
      "File does not exist for sfcWind_Amon_CESM1-1-CAM5-CMIP5_dcppA-hindcast_s1963-r28i1p1f1_gn_196311-197312.nc\n",
      "NCAR\n",
      "badc\n",
      "File does not exist for sfcWind_Amon_CESM1-1-CAM5-CMIP5_dcppA-hindcast_s1963-r22i1p1f1_gn_196311-197312.nc\n",
      "NCAR\n",
      "badc\n",
      "File does not exist for sfcWind_Amon_CESM1-1-CAM5-CMIP5_dcppA-hindcast_s1963-r23i1p1f1_gn_196311-197312.nc\n",
      "NCAR\n",
      "badc\n",
      "File does not exist for sfcWind_Amon_CESM1-1-CAM5-CMIP5_dcppA-hindcast_s1963-r24i1p1f1_gn_196311-197312.nc\n",
      "NCAR\n",
      "badc\n",
      "File does not exist for sfcWind_Amon_CESM1-1-CAM5-CMIP5_dcppA-hindcast_s1963-r20i1p1f1_gn_196311-197312.nc\n",
      "NCAR\n",
      "badc\n",
      "File does not exist for sfcWind_Amon_CESM1-1-CAM5-CMIP5_dcppA-hindcast_s1963-r21i1p1f1_gn_196311-197312.nc\n",
      "NCAR\n",
      "badc\n",
      "File does not exist for sfcWind_Amon_CESM1-1-CAM5-CMIP5_dcppA-hindcast_s1963-r17i1p1f1_gn_196311-197312.nc\n",
      "NCAR\n",
      "badc\n",
      "File does not exist for sfcWind_Amon_CESM1-1-CAM5-CMIP5_dcppA-hindcast_s1963-r18i1p1f1_gn_196311-197312.nc\n",
      "NCAR\n",
      "badc\n",
      "File does not exist for sfcWind_Amon_CESM1-1-CAM5-CMIP5_dcppA-hindcast_s1963-r25i1p1f1_gn_196311-197312.nc\n",
      "NCAR\n",
      "badc\n",
      "File does not exist for sfcWind_Amon_CESM1-1-CAM5-CMIP5_dcppA-hindcast_s1963-r26i1p1f1_gn_196311-197312.nc\n",
      "NCAR\n",
      "badc\n",
      "File does not exist for sfcWind_Amon_CESM1-1-CAM5-CMIP5_dcppA-hindcast_s1963-r29i1p1f1_gn_196311-197312.nc\n",
      "NCAR\n",
      "badc\n",
      "File does not exist for sfcWind_Amon_CESM1-1-CAM5-CMIP5_dcppA-hindcast_s1963-r2i1p1f1_gn_196311-197312.nc\n",
      "NCAR\n",
      "badc\n",
      "File does not exist for sfcWind_Amon_CESM1-1-CAM5-CMIP5_dcppA-hindcast_s1962-r5i1p1f1_gn_196211-197212.nc\n",
      "NCAR\n",
      "badc\n",
      "File does not exist for sfcWind_Amon_CESM1-1-CAM5-CMIP5_dcppA-hindcast_s1962-r6i1p1f1_gn_196211-197212.nc\n",
      "NCAR\n",
      "badc\n",
      "File does not exist for sfcWind_Amon_CESM1-1-CAM5-CMIP5_dcppA-hindcast_s1962-r7i1p1f1_gn_196211-197212.nc\n",
      "NCAR\n",
      "badc\n",
      "File does not exist for sfcWind_Amon_CESM1-1-CAM5-CMIP5_dcppA-hindcast_s1962-r8i1p1f1_gn_196211-197212.nc\n",
      "NCAR\n",
      "badc\n",
      "File does not exist for sfcWind_Amon_CESM1-1-CAM5-CMIP5_dcppA-hindcast_s1962-r9i1p1f1_gn_196211-197212.nc\n",
      "NCAR\n",
      "badc\n",
      "File does not exist for sfcWind_Amon_CESM1-1-CAM5-CMIP5_dcppA-hindcast_s1963-r10i1p1f1_gn_196311-197312.nc\n",
      "NCAR\n",
      "badc\n",
      "File does not exist for sfcWind_Amon_CESM1-1-CAM5-CMIP5_dcppA-hindcast_s1963-r11i1p1f1_gn_196311-197312.nc\n",
      "NCAR\n",
      "badc\n",
      "File does not exist for sfcWind_Amon_CESM1-1-CAM5-CMIP5_dcppA-hindcast_s1963-r12i1p1f1_gn_196311-197312.nc\n",
      "NCAR\n",
      "badc\n",
      "File does not exist for sfcWind_Amon_CESM1-1-CAM5-CMIP5_dcppA-hindcast_s1963-r13i1p1f1_gn_196311-197312.nc\n",
      "NCAR\n",
      "badc\n",
      "File does not exist for sfcWind_Amon_CESM1-1-CAM5-CMIP5_dcppA-hindcast_s1962-r39i1p1f1_gn_196211-197212.nc\n",
      "NCAR\n",
      "badc\n",
      "File does not exist for sfcWind_Amon_CESM1-1-CAM5-CMIP5_dcppA-hindcast_s1962-r3i1p1f1_gn_196211-197212.nc\n",
      "NCAR\n",
      "badc\n",
      "File does not exist for sfcWind_Amon_CESM1-1-CAM5-CMIP5_dcppA-hindcast_s1962-r40i1p1f1_gn_196211-197212.nc\n",
      "NCAR\n",
      "badc\n",
      "File does not exist for sfcWind_Amon_CESM1-1-CAM5-CMIP5_dcppA-hindcast_s1962-r4i1p1f1_gn_196211-197212.nc\n",
      "NCAR\n",
      "badc\n",
      "File does not exist for sfcWind_Amon_CESM1-1-CAM5-CMIP5_dcppA-hindcast_s1963-r14i1p1f1_gn_196311-197312.nc\n",
      "NCAR\n",
      "badc\n",
      "File does not exist for sfcWind_Amon_CESM1-1-CAM5-CMIP5_dcppA-hindcast_s1963-r15i1p1f1_gn_196311-197312.nc\n",
      "NCAR\n",
      "badc\n",
      "File does not exist for sfcWind_Amon_CESM1-1-CAM5-CMIP5_dcppA-hindcast_s1963-r16i1p1f1_gn_196311-197312.nc\n",
      "NCAR\n",
      "badc\n",
      "File does not exist for sfcWind_Amon_CESM1-1-CAM5-CMIP5_dcppA-hindcast_s1962-r37i1p1f1_gn_196211-197212.nc\n",
      "NCAR\n",
      "badc\n",
      "File does not exist for sfcWind_Amon_CESM1-1-CAM5-CMIP5_dcppA-hindcast_s1962-r38i1p1f1_gn_196211-197212.nc\n",
      "NCAR\n",
      "badc\n",
      "File does not exist for sfcWind_Amon_CESM1-1-CAM5-CMIP5_dcppA-hindcast_s1962-r12i1p1f1_gn_196211-197212.nc\n",
      "NCAR\n",
      "badc\n",
      "File does not exist for sfcWind_Amon_CESM1-1-CAM5-CMIP5_dcppA-hindcast_s1962-r13i1p1f1_gn_196211-197212.nc\n",
      "NCAR\n",
      "badc\n",
      "File does not exist for sfcWind_Amon_CESM1-1-CAM5-CMIP5_dcppA-hindcast_s1962-r14i1p1f1_gn_196211-197212.nc\n",
      "NCAR\n",
      "badc\n",
      "File does not exist for sfcWind_Amon_CESM1-1-CAM5-CMIP5_dcppA-hindcast_s1962-r10i1p1f1_gn_196211-197212.nc\n",
      "NCAR\n",
      "badc\n",
      "File does not exist for sfcWind_Amon_CESM1-1-CAM5-CMIP5_dcppA-hindcast_s1962-r11i1p1f1_gn_196211-197212.nc\n",
      "NCAR\n",
      "badc\n",
      "File does not exist for sfcWind_Amon_CESM1-1-CAM5-CMIP5_dcppA-hindcast_s1962-r15i1p1f1_gn_196211-197212.nc\n",
      "NCAR\n",
      "badc\n",
      "File does not exist for sfcWind_Amon_CESM1-1-CAM5-CMIP5_dcppA-hindcast_s1962-r16i1p1f1_gn_196211-197212.nc\n",
      "NCAR\n",
      "badc\n",
      "File does not exist for sfcWind_Amon_CESM1-1-CAM5-CMIP5_dcppA-hindcast_s1962-r17i1p1f1_gn_196211-197212.nc\n",
      "NCAR\n",
      "badc\n",
      "File does not exist for sfcWind_Amon_CESM1-1-CAM5-CMIP5_dcppA-hindcast_s1962-r18i1p1f1_gn_196211-197212.nc\n",
      "NCAR\n",
      "badc\n",
      "File does not exist for sfcWind_Amon_CESM1-1-CAM5-CMIP5_dcppA-hindcast_s1962-r30i1p1f1_gn_196211-197212.nc\n",
      "NCAR\n",
      "badc\n",
      "File does not exist for sfcWind_Amon_CESM1-1-CAM5-CMIP5_dcppA-hindcast_s1962-r31i1p1f1_gn_196211-197212.nc\n",
      "NCAR\n",
      "badc\n",
      "File does not exist for sfcWind_Amon_CESM1-1-CAM5-CMIP5_dcppA-hindcast_s1962-r27i1p1f1_gn_196211-197212.nc\n",
      "NCAR\n",
      "badc\n",
      "File does not exist for sfcWind_Amon_CESM1-1-CAM5-CMIP5_dcppA-hindcast_s1962-r28i1p1f1_gn_196211-197212.nc\n",
      "NCAR\n",
      "badc\n",
      "File does not exist for sfcWind_Amon_CESM1-1-CAM5-CMIP5_dcppA-hindcast_s1962-r32i1p1f1_gn_196211-197212.nc\n",
      "NCAR\n",
      "badc\n",
      "File does not exist for sfcWind_Amon_CESM1-1-CAM5-CMIP5_dcppA-hindcast_s1962-r33i1p1f1_gn_196211-197212.nc\n",
      "NCAR\n",
      "badc\n",
      "File does not exist for sfcWind_Amon_CESM1-1-CAM5-CMIP5_dcppA-hindcast_s1962-r25i1p1f1_gn_196211-197212.nc\n",
      "NCAR\n",
      "badc\n",
      "File does not exist for sfcWind_Amon_CESM1-1-CAM5-CMIP5_dcppA-hindcast_s1962-r26i1p1f1_gn_196211-197212.nc\n",
      "NCAR\n",
      "badc\n",
      "File does not exist for sfcWind_Amon_CESM1-1-CAM5-CMIP5_dcppA-hindcast_s1962-r22i1p1f1_gn_196211-197212.nc\n",
      "NCAR\n",
      "badc\n",
      "File does not exist for sfcWind_Amon_CESM1-1-CAM5-CMIP5_dcppA-hindcast_s1962-r23i1p1f1_gn_196211-197212.nc\n",
      "NCAR\n",
      "badc\n",
      "File does not exist for sfcWind_Amon_CESM1-1-CAM5-CMIP5_dcppA-hindcast_s1962-r24i1p1f1_gn_196211-197212.nc\n",
      "NCAR\n",
      "badc\n",
      "File does not exist for sfcWind_Amon_CESM1-1-CAM5-CMIP5_dcppA-hindcast_s1962-r29i1p1f1_gn_196211-197212.nc\n",
      "NCAR\n",
      "badc\n",
      "File does not exist for sfcWind_Amon_CESM1-1-CAM5-CMIP5_dcppA-hindcast_s1962-r2i1p1f1_gn_196211-197212.nc\n",
      "NCAR\n",
      "badc\n",
      "File does not exist for sfcWind_Amon_CESM1-1-CAM5-CMIP5_dcppA-hindcast_s1962-r34i1p1f1_gn_196211-197212.nc\n",
      "NCAR\n",
      "badc\n",
      "File does not exist for sfcWind_Amon_CESM1-1-CAM5-CMIP5_dcppA-hindcast_s1962-r35i1p1f1_gn_196211-197212.nc\n",
      "NCAR\n",
      "badc\n",
      "File does not exist for sfcWind_Amon_CESM1-1-CAM5-CMIP5_dcppA-hindcast_s1962-r36i1p1f1_gn_196211-197212.nc\n",
      "NCAR\n",
      "badc\n",
      "File does not exist for sfcWind_Amon_CESM1-1-CAM5-CMIP5_dcppA-hindcast_s1962-r20i1p1f1_gn_196211-197212.nc\n",
      "NCAR\n",
      "badc\n",
      "File does not exist for sfcWind_Amon_CESM1-1-CAM5-CMIP5_dcppA-hindcast_s1962-r21i1p1f1_gn_196211-197212.nc\n",
      "NCAR\n",
      "badc\n",
      "File does not exist for sfcWind_Amon_CESM1-1-CAM5-CMIP5_dcppA-hindcast_s1962-r19i1p1f1_gn_196211-197212.nc\n",
      "NCAR\n",
      "badc\n",
      "File does not exist for sfcWind_Amon_CESM1-1-CAM5-CMIP5_dcppA-hindcast_s1962-r1i1p1f1_gn_196211-197212.nc\n",
      "NCAR\n",
      "badc\n",
      "File does not exist for sfcWind_Amon_CESM1-1-CAM5-CMIP5_dcppA-hindcast_s1963-r37i1p1f1_gn_196311-197312.nc\n",
      "NCAR\n",
      "badc\n",
      "File does not exist for sfcWind_Amon_CESM1-1-CAM5-CMIP5_dcppA-hindcast_s1963-r38i1p1f1_gn_196311-197312.nc\n",
      "NCAR\n",
      "badc\n",
      "File does not exist for sfcWind_Amon_CESM1-1-CAM5-CMIP5_dcppA-hindcast_s1963-r35i1p1f1_gn_196311-197312.nc\n",
      "NCAR\n",
      "badc\n",
      "File does not exist for sfcWind_Amon_CESM1-1-CAM5-CMIP5_dcppA-hindcast_s1963-r36i1p1f1_gn_196311-197312.nc\n",
      "NCAR\n",
      "badc\n",
      "File does not exist for sfcWind_Amon_CESM1-1-CAM5-CMIP5_dcppA-hindcast_s1963-r30i1p1f1_gn_196311-197312.nc\n",
      "NCAR\n",
      "badc\n",
      "File does not exist for sfcWind_Amon_CESM1-1-CAM5-CMIP5_dcppA-hindcast_s1963-r31i1p1f1_gn_196311-197312.nc\n",
      "NCAR\n",
      "badc\n",
      "File does not exist for sfcWind_Amon_CESM1-1-CAM5-CMIP5_dcppA-hindcast_s1963-r32i1p1f1_gn_196311-197312.nc\n"
     ]
    },
    {
     "data": {
      "text/html": [
       "<div>\n",
       "<style scoped>\n",
       "    .dataframe tbody tr th:only-of-type {\n",
       "        vertical-align: middle;\n",
       "    }\n",
       "\n",
       "    .dataframe tbody tr th {\n",
       "        vertical-align: top;\n",
       "    }\n",
       "\n",
       "    .dataframe thead th {\n",
       "        text-align: right;\n",
       "    }\n",
       "</style>\n",
       "<table border=\"1\" class=\"dataframe\">\n",
       "  <thead>\n",
       "    <tr style=\"text-align: right;\">\n",
       "      <th></th>\n",
       "      <th>filename</th>\n",
       "      <th>url</th>\n",
       "      <th>file_exists</th>\n",
       "      <th>filepath</th>\n",
       "    </tr>\n",
       "  </thead>\n",
       "  <tbody>\n",
       "    <tr>\n",
       "      <th>0</th>\n",
       "      <td>sfcWind_Amon_CESM1-1-CAM5-CMIP5_dcppA-hindcast...</td>\n",
       "      <td>http://esgf-data.ucar.edu/thredds/fileServer/e...</td>\n",
       "      <td>False</td>\n",
       "      <td>None</td>\n",
       "    </tr>\n",
       "    <tr>\n",
       "      <th>1</th>\n",
       "      <td>sfcWind_Amon_CESM1-1-CAM5-CMIP5_dcppA-hindcast...</td>\n",
       "      <td>http://esgf-data.ucar.edu/thredds/fileServer/e...</td>\n",
       "      <td>False</td>\n",
       "      <td>None</td>\n",
       "    </tr>\n",
       "    <tr>\n",
       "      <th>2</th>\n",
       "      <td>sfcWind_Amon_CESM1-1-CAM5-CMIP5_dcppA-hindcast...</td>\n",
       "      <td>http://esgf-data.ucar.edu/thredds/fileServer/e...</td>\n",
       "      <td>False</td>\n",
       "      <td>None</td>\n",
       "    </tr>\n",
       "    <tr>\n",
       "      <th>3</th>\n",
       "      <td>sfcWind_Amon_CESM1-1-CAM5-CMIP5_dcppA-hindcast...</td>\n",
       "      <td>http://esgf-data.ucar.edu/thredds/fileServer/e...</td>\n",
       "      <td>False</td>\n",
       "      <td>None</td>\n",
       "    </tr>\n",
       "    <tr>\n",
       "      <th>4</th>\n",
       "      <td>sfcWind_Amon_CESM1-1-CAM5-CMIP5_dcppA-hindcast...</td>\n",
       "      <td>http://esgf-data.ucar.edu/thredds/fileServer/e...</td>\n",
       "      <td>False</td>\n",
       "      <td>None</td>\n",
       "    </tr>\n",
       "    <tr>\n",
       "      <th>...</th>\n",
       "      <td>...</td>\n",
       "      <td>...</td>\n",
       "      <td>...</td>\n",
       "      <td>...</td>\n",
       "    </tr>\n",
       "    <tr>\n",
       "      <th>75</th>\n",
       "      <td>sfcWind_Amon_CESM1-1-CAM5-CMIP5_dcppA-hindcast...</td>\n",
       "      <td>http://esgf-data.ucar.edu/thredds/fileServer/e...</td>\n",
       "      <td>False</td>\n",
       "      <td>None</td>\n",
       "    </tr>\n",
       "    <tr>\n",
       "      <th>76</th>\n",
       "      <td>sfcWind_Amon_CESM1-1-CAM5-CMIP5_dcppA-hindcast...</td>\n",
       "      <td>http://esgf-data.ucar.edu/thredds/fileServer/e...</td>\n",
       "      <td>False</td>\n",
       "      <td>None</td>\n",
       "    </tr>\n",
       "    <tr>\n",
       "      <th>77</th>\n",
       "      <td>sfcWind_Amon_CESM1-1-CAM5-CMIP5_dcppA-hindcast...</td>\n",
       "      <td>http://esgf-data.ucar.edu/thredds/fileServer/e...</td>\n",
       "      <td>False</td>\n",
       "      <td>None</td>\n",
       "    </tr>\n",
       "    <tr>\n",
       "      <th>78</th>\n",
       "      <td>sfcWind_Amon_CESM1-1-CAM5-CMIP5_dcppA-hindcast...</td>\n",
       "      <td>http://esgf-data.ucar.edu/thredds/fileServer/e...</td>\n",
       "      <td>False</td>\n",
       "      <td>None</td>\n",
       "    </tr>\n",
       "    <tr>\n",
       "      <th>79</th>\n",
       "      <td>sfcWind_Amon_CESM1-1-CAM5-CMIP5_dcppA-hindcast...</td>\n",
       "      <td>http://esgf-data.ucar.edu/thredds/fileServer/e...</td>\n",
       "      <td>False</td>\n",
       "      <td>None</td>\n",
       "    </tr>\n",
       "  </tbody>\n",
       "</table>\n",
       "<p>80 rows × 4 columns</p>\n",
       "</div>"
      ],
      "text/plain": [
       "                                             filename  \\\n",
       "0   sfcWind_Amon_CESM1-1-CAM5-CMIP5_dcppA-hindcast...   \n",
       "1   sfcWind_Amon_CESM1-1-CAM5-CMIP5_dcppA-hindcast...   \n",
       "2   sfcWind_Amon_CESM1-1-CAM5-CMIP5_dcppA-hindcast...   \n",
       "3   sfcWind_Amon_CESM1-1-CAM5-CMIP5_dcppA-hindcast...   \n",
       "4   sfcWind_Amon_CESM1-1-CAM5-CMIP5_dcppA-hindcast...   \n",
       "..                                                ...   \n",
       "75  sfcWind_Amon_CESM1-1-CAM5-CMIP5_dcppA-hindcast...   \n",
       "76  sfcWind_Amon_CESM1-1-CAM5-CMIP5_dcppA-hindcast...   \n",
       "77  sfcWind_Amon_CESM1-1-CAM5-CMIP5_dcppA-hindcast...   \n",
       "78  sfcWind_Amon_CESM1-1-CAM5-CMIP5_dcppA-hindcast...   \n",
       "79  sfcWind_Amon_CESM1-1-CAM5-CMIP5_dcppA-hindcast...   \n",
       "\n",
       "                                                  url  file_exists filepath  \n",
       "0   http://esgf-data.ucar.edu/thredds/fileServer/e...        False     None  \n",
       "1   http://esgf-data.ucar.edu/thredds/fileServer/e...        False     None  \n",
       "2   http://esgf-data.ucar.edu/thredds/fileServer/e...        False     None  \n",
       "3   http://esgf-data.ucar.edu/thredds/fileServer/e...        False     None  \n",
       "4   http://esgf-data.ucar.edu/thredds/fileServer/e...        False     None  \n",
       "..                                                ...          ...      ...  \n",
       "75  http://esgf-data.ucar.edu/thredds/fileServer/e...        False     None  \n",
       "76  http://esgf-data.ucar.edu/thredds/fileServer/e...        False     None  \n",
       "77  http://esgf-data.ucar.edu/thredds/fileServer/e...        False     None  \n",
       "78  http://esgf-data.ucar.edu/thredds/fileServer/e...        False     None  \n",
       "79  http://esgf-data.ucar.edu/thredds/fileServer/e...        False     None  \n",
       "\n",
       "[80 rows x 4 columns]"
      ]
     },
     "execution_count": 35,
     "metadata": {},
     "output_type": "execute_result"
    }
   ],
   "source": [
    "# Check whether the files exist on JASMIN\n",
    "import glob\n",
    "\n",
    "# Set up the file_context_df\n",
    "file_context_df = df.copy()\n",
    "\n",
    "# We want to verify whether these files exist on JASMIN\n",
    "damip_dir = \"/badc/cmip6/data/CMIP6/DCPP/\"\n",
    "\n",
    "# Test the function\n",
    "# TODO\n",
    "files_df = check_file_exists_jasmin(file_context_df, damip_dir)\n",
    "\n",
    "files_df"
   ]
  },
  {
   "cell_type": "code",
   "execution_count": 36,
   "metadata": {},
   "outputs": [
    {
     "name": "stdout",
     "output_type": "stream",
     "text": [
      "NCAR\n",
      "gws\n",
      "File exists for sfcWind_Amon_CESM1-1-CAM5-CMIP5_dcppA-hindcast_s1963-r8i1p1f1_gn_196311-197312.nc\n",
      "NCAR\n",
      "gws\n",
      "File exists for sfcWind_Amon_CESM1-1-CAM5-CMIP5_dcppA-hindcast_s1963-r9i1p1f1_gn_196311-197312.nc\n",
      "NCAR\n",
      "gws\n",
      "File exists for sfcWind_Amon_CESM1-1-CAM5-CMIP5_dcppA-hindcast_s1963-r40i1p1f1_gn_196311-197312.nc\n",
      "NCAR\n",
      "gws\n",
      "File exists for sfcWind_Amon_CESM1-1-CAM5-CMIP5_dcppA-hindcast_s1963-r4i1p1f1_gn_196311-197312.nc\n",
      "NCAR\n",
      "gws\n",
      "File exists for sfcWind_Amon_CESM1-1-CAM5-CMIP5_dcppA-hindcast_s1963-r5i1p1f1_gn_196311-197312.nc\n",
      "NCAR\n",
      "gws\n",
      "File exists for sfcWind_Amon_CESM1-1-CAM5-CMIP5_dcppA-hindcast_s1963-r6i1p1f1_gn_196311-197312.nc\n",
      "NCAR\n",
      "gws\n",
      "File exists for sfcWind_Amon_CESM1-1-CAM5-CMIP5_dcppA-hindcast_s1963-r7i1p1f1_gn_196311-197312.nc\n",
      "NCAR\n",
      "gws\n",
      "File does not exist for sfcWind_Amon_CESM1-1-CAM5-CMIP5_dcppA-hindcast_s1963-r33i1p1f1_gn_196311-197312.nc\n",
      "NCAR\n",
      "gws\n",
      "File does not exist for sfcWind_Amon_CESM1-1-CAM5-CMIP5_dcppA-hindcast_s1963-r34i1p1f1_gn_196311-197312.nc\n",
      "NCAR\n",
      "gws\n",
      "File exists for sfcWind_Amon_CESM1-1-CAM5-CMIP5_dcppA-hindcast_s1963-r3i1p1f1_gn_196311-197312.nc\n",
      "NCAR\n",
      "gws\n",
      "File exists for sfcWind_Amon_CESM1-1-CAM5-CMIP5_dcppA-hindcast_s1963-r39i1p1f1_gn_196311-197312.nc\n",
      "NCAR\n",
      "gws\n",
      "File does not exist for sfcWind_Amon_CESM1-1-CAM5-CMIP5_dcppA-hindcast_s1963-r19i1p1f1_gn_196311-197312.nc\n",
      "NCAR\n",
      "gws\n",
      "File does not exist for sfcWind_Amon_CESM1-1-CAM5-CMIP5_dcppA-hindcast_s1963-r1i1p1f1_gn_196311-197312.nc\n",
      "NCAR\n",
      "gws\n",
      "File does not exist for sfcWind_Amon_CESM1-1-CAM5-CMIP5_dcppA-hindcast_s1963-r27i1p1f1_gn_196311-197312.nc\n",
      "NCAR\n",
      "gws\n",
      "File does not exist for sfcWind_Amon_CESM1-1-CAM5-CMIP5_dcppA-hindcast_s1963-r28i1p1f1_gn_196311-197312.nc\n",
      "NCAR\n",
      "gws\n",
      "File does not exist for sfcWind_Amon_CESM1-1-CAM5-CMIP5_dcppA-hindcast_s1963-r22i1p1f1_gn_196311-197312.nc\n",
      "NCAR\n",
      "gws\n",
      "File does not exist for sfcWind_Amon_CESM1-1-CAM5-CMIP5_dcppA-hindcast_s1963-r23i1p1f1_gn_196311-197312.nc\n",
      "NCAR\n",
      "gws\n",
      "File does not exist for sfcWind_Amon_CESM1-1-CAM5-CMIP5_dcppA-hindcast_s1963-r24i1p1f1_gn_196311-197312.nc\n",
      "NCAR\n",
      "gws\n",
      "File does not exist for sfcWind_Amon_CESM1-1-CAM5-CMIP5_dcppA-hindcast_s1963-r20i1p1f1_gn_196311-197312.nc\n",
      "NCAR\n",
      "gws\n",
      "File does not exist for sfcWind_Amon_CESM1-1-CAM5-CMIP5_dcppA-hindcast_s1963-r21i1p1f1_gn_196311-197312.nc\n",
      "NCAR\n",
      "gws\n",
      "File does not exist for sfcWind_Amon_CESM1-1-CAM5-CMIP5_dcppA-hindcast_s1963-r17i1p1f1_gn_196311-197312.nc\n",
      "NCAR\n",
      "gws\n",
      "File does not exist for sfcWind_Amon_CESM1-1-CAM5-CMIP5_dcppA-hindcast_s1963-r18i1p1f1_gn_196311-197312.nc\n",
      "NCAR\n",
      "gws\n",
      "File does not exist for sfcWind_Amon_CESM1-1-CAM5-CMIP5_dcppA-hindcast_s1963-r25i1p1f1_gn_196311-197312.nc\n",
      "NCAR\n",
      "gws\n",
      "File does not exist for sfcWind_Amon_CESM1-1-CAM5-CMIP5_dcppA-hindcast_s1963-r26i1p1f1_gn_196311-197312.nc\n",
      "NCAR\n",
      "gws\n",
      "File does not exist for sfcWind_Amon_CESM1-1-CAM5-CMIP5_dcppA-hindcast_s1963-r29i1p1f1_gn_196311-197312.nc\n",
      "NCAR\n",
      "gws\n",
      "File does not exist for sfcWind_Amon_CESM1-1-CAM5-CMIP5_dcppA-hindcast_s1963-r2i1p1f1_gn_196311-197312.nc\n",
      "NCAR\n",
      "gws\n",
      "File does not exist for sfcWind_Amon_CESM1-1-CAM5-CMIP5_dcppA-hindcast_s1962-r5i1p1f1_gn_196211-197212.nc\n",
      "NCAR\n",
      "gws\n",
      "File does not exist for sfcWind_Amon_CESM1-1-CAM5-CMIP5_dcppA-hindcast_s1962-r6i1p1f1_gn_196211-197212.nc\n",
      "NCAR\n",
      "gws\n",
      "File does not exist for sfcWind_Amon_CESM1-1-CAM5-CMIP5_dcppA-hindcast_s1962-r7i1p1f1_gn_196211-197212.nc\n",
      "NCAR\n",
      "gws\n",
      "File does not exist for sfcWind_Amon_CESM1-1-CAM5-CMIP5_dcppA-hindcast_s1962-r8i1p1f1_gn_196211-197212.nc\n",
      "NCAR\n",
      "gws\n",
      "File does not exist for sfcWind_Amon_CESM1-1-CAM5-CMIP5_dcppA-hindcast_s1962-r9i1p1f1_gn_196211-197212.nc\n",
      "NCAR\n",
      "gws\n",
      "File does not exist for sfcWind_Amon_CESM1-1-CAM5-CMIP5_dcppA-hindcast_s1963-r10i1p1f1_gn_196311-197312.nc\n",
      "NCAR\n",
      "gws\n",
      "File does not exist for sfcWind_Amon_CESM1-1-CAM5-CMIP5_dcppA-hindcast_s1963-r11i1p1f1_gn_196311-197312.nc\n",
      "NCAR\n",
      "gws\n",
      "File does not exist for sfcWind_Amon_CESM1-1-CAM5-CMIP5_dcppA-hindcast_s1963-r12i1p1f1_gn_196311-197312.nc\n",
      "NCAR\n",
      "gws\n",
      "File does not exist for sfcWind_Amon_CESM1-1-CAM5-CMIP5_dcppA-hindcast_s1963-r13i1p1f1_gn_196311-197312.nc\n",
      "NCAR\n",
      "gws\n",
      "File does not exist for sfcWind_Amon_CESM1-1-CAM5-CMIP5_dcppA-hindcast_s1962-r39i1p1f1_gn_196211-197212.nc\n",
      "NCAR\n",
      "gws\n",
      "File does not exist for sfcWind_Amon_CESM1-1-CAM5-CMIP5_dcppA-hindcast_s1962-r3i1p1f1_gn_196211-197212.nc\n",
      "NCAR\n",
      "gws\n",
      "File does not exist for sfcWind_Amon_CESM1-1-CAM5-CMIP5_dcppA-hindcast_s1962-r40i1p1f1_gn_196211-197212.nc\n",
      "NCAR\n",
      "gws\n",
      "File does not exist for sfcWind_Amon_CESM1-1-CAM5-CMIP5_dcppA-hindcast_s1962-r4i1p1f1_gn_196211-197212.nc\n",
      "NCAR\n",
      "gws\n",
      "File does not exist for sfcWind_Amon_CESM1-1-CAM5-CMIP5_dcppA-hindcast_s1963-r14i1p1f1_gn_196311-197312.nc\n",
      "NCAR\n",
      "gws\n",
      "File does not exist for sfcWind_Amon_CESM1-1-CAM5-CMIP5_dcppA-hindcast_s1963-r15i1p1f1_gn_196311-197312.nc\n",
      "NCAR\n",
      "gws\n",
      "File does not exist for sfcWind_Amon_CESM1-1-CAM5-CMIP5_dcppA-hindcast_s1963-r16i1p1f1_gn_196311-197312.nc\n",
      "NCAR\n",
      "gws\n",
      "File does not exist for sfcWind_Amon_CESM1-1-CAM5-CMIP5_dcppA-hindcast_s1962-r37i1p1f1_gn_196211-197212.nc\n",
      "NCAR\n",
      "gws\n",
      "File does not exist for sfcWind_Amon_CESM1-1-CAM5-CMIP5_dcppA-hindcast_s1962-r38i1p1f1_gn_196211-197212.nc\n",
      "NCAR\n",
      "gws\n",
      "File does not exist for sfcWind_Amon_CESM1-1-CAM5-CMIP5_dcppA-hindcast_s1962-r12i1p1f1_gn_196211-197212.nc\n",
      "NCAR\n",
      "gws\n",
      "File does not exist for sfcWind_Amon_CESM1-1-CAM5-CMIP5_dcppA-hindcast_s1962-r13i1p1f1_gn_196211-197212.nc\n",
      "NCAR\n",
      "gws\n",
      "File does not exist for sfcWind_Amon_CESM1-1-CAM5-CMIP5_dcppA-hindcast_s1962-r14i1p1f1_gn_196211-197212.nc\n",
      "NCAR\n",
      "gws\n",
      "File does not exist for sfcWind_Amon_CESM1-1-CAM5-CMIP5_dcppA-hindcast_s1962-r10i1p1f1_gn_196211-197212.nc\n",
      "NCAR\n",
      "gws\n",
      "File does not exist for sfcWind_Amon_CESM1-1-CAM5-CMIP5_dcppA-hindcast_s1962-r11i1p1f1_gn_196211-197212.nc\n",
      "NCAR\n",
      "gws\n",
      "File does not exist for sfcWind_Amon_CESM1-1-CAM5-CMIP5_dcppA-hindcast_s1962-r15i1p1f1_gn_196211-197212.nc\n",
      "NCAR\n",
      "gws\n",
      "File does not exist for sfcWind_Amon_CESM1-1-CAM5-CMIP5_dcppA-hindcast_s1962-r16i1p1f1_gn_196211-197212.nc\n",
      "NCAR\n",
      "gws\n",
      "File does not exist for sfcWind_Amon_CESM1-1-CAM5-CMIP5_dcppA-hindcast_s1962-r17i1p1f1_gn_196211-197212.nc\n",
      "NCAR\n",
      "gws\n",
      "File does not exist for sfcWind_Amon_CESM1-1-CAM5-CMIP5_dcppA-hindcast_s1962-r18i1p1f1_gn_196211-197212.nc\n",
      "NCAR\n",
      "gws\n",
      "File does not exist for sfcWind_Amon_CESM1-1-CAM5-CMIP5_dcppA-hindcast_s1962-r30i1p1f1_gn_196211-197212.nc\n",
      "NCAR\n",
      "gws\n",
      "File does not exist for sfcWind_Amon_CESM1-1-CAM5-CMIP5_dcppA-hindcast_s1962-r31i1p1f1_gn_196211-197212.nc\n",
      "NCAR\n",
      "gws\n",
      "File does not exist for sfcWind_Amon_CESM1-1-CAM5-CMIP5_dcppA-hindcast_s1962-r27i1p1f1_gn_196211-197212.nc\n",
      "NCAR\n",
      "gws\n",
      "File does not exist for sfcWind_Amon_CESM1-1-CAM5-CMIP5_dcppA-hindcast_s1962-r28i1p1f1_gn_196211-197212.nc\n",
      "NCAR\n",
      "gws\n",
      "File does not exist for sfcWind_Amon_CESM1-1-CAM5-CMIP5_dcppA-hindcast_s1962-r32i1p1f1_gn_196211-197212.nc\n",
      "NCAR\n",
      "gws\n",
      "File does not exist for sfcWind_Amon_CESM1-1-CAM5-CMIP5_dcppA-hindcast_s1962-r33i1p1f1_gn_196211-197212.nc\n",
      "NCAR\n",
      "gws\n",
      "File does not exist for sfcWind_Amon_CESM1-1-CAM5-CMIP5_dcppA-hindcast_s1962-r25i1p1f1_gn_196211-197212.nc\n",
      "NCAR\n",
      "gws\n",
      "File does not exist for sfcWind_Amon_CESM1-1-CAM5-CMIP5_dcppA-hindcast_s1962-r26i1p1f1_gn_196211-197212.nc\n",
      "NCAR\n",
      "gws\n",
      "File does not exist for sfcWind_Amon_CESM1-1-CAM5-CMIP5_dcppA-hindcast_s1962-r22i1p1f1_gn_196211-197212.nc\n",
      "NCAR\n",
      "gws\n",
      "File does not exist for sfcWind_Amon_CESM1-1-CAM5-CMIP5_dcppA-hindcast_s1962-r23i1p1f1_gn_196211-197212.nc\n",
      "NCAR\n",
      "gws\n",
      "File does not exist for sfcWind_Amon_CESM1-1-CAM5-CMIP5_dcppA-hindcast_s1962-r24i1p1f1_gn_196211-197212.nc\n",
      "NCAR\n",
      "gws\n",
      "File does not exist for sfcWind_Amon_CESM1-1-CAM5-CMIP5_dcppA-hindcast_s1962-r29i1p1f1_gn_196211-197212.nc\n",
      "NCAR\n",
      "gws\n",
      "File does not exist for sfcWind_Amon_CESM1-1-CAM5-CMIP5_dcppA-hindcast_s1962-r2i1p1f1_gn_196211-197212.nc\n",
      "NCAR\n",
      "gws\n",
      "File does not exist for sfcWind_Amon_CESM1-1-CAM5-CMIP5_dcppA-hindcast_s1962-r34i1p1f1_gn_196211-197212.nc\n",
      "NCAR\n",
      "gws\n",
      "File does not exist for sfcWind_Amon_CESM1-1-CAM5-CMIP5_dcppA-hindcast_s1962-r35i1p1f1_gn_196211-197212.nc\n",
      "NCAR\n",
      "gws\n",
      "File does not exist for sfcWind_Amon_CESM1-1-CAM5-CMIP5_dcppA-hindcast_s1962-r36i1p1f1_gn_196211-197212.nc\n",
      "NCAR\n",
      "gws\n",
      "File does not exist for sfcWind_Amon_CESM1-1-CAM5-CMIP5_dcppA-hindcast_s1962-r20i1p1f1_gn_196211-197212.nc\n",
      "NCAR\n",
      "gws\n",
      "File does not exist for sfcWind_Amon_CESM1-1-CAM5-CMIP5_dcppA-hindcast_s1962-r21i1p1f1_gn_196211-197212.nc\n",
      "NCAR\n",
      "gws\n",
      "File does not exist for sfcWind_Amon_CESM1-1-CAM5-CMIP5_dcppA-hindcast_s1962-r19i1p1f1_gn_196211-197212.nc\n",
      "NCAR\n",
      "gws\n",
      "File does not exist for sfcWind_Amon_CESM1-1-CAM5-CMIP5_dcppA-hindcast_s1962-r1i1p1f1_gn_196211-197212.nc\n",
      "NCAR\n",
      "gws\n",
      "File exists for sfcWind_Amon_CESM1-1-CAM5-CMIP5_dcppA-hindcast_s1963-r37i1p1f1_gn_196311-197312.nc\n",
      "NCAR\n",
      "gws\n",
      "File exists for sfcWind_Amon_CESM1-1-CAM5-CMIP5_dcppA-hindcast_s1963-r38i1p1f1_gn_196311-197312.nc\n",
      "NCAR\n",
      "gws\n",
      "File does not exist for sfcWind_Amon_CESM1-1-CAM5-CMIP5_dcppA-hindcast_s1963-r35i1p1f1_gn_196311-197312.nc\n",
      "NCAR\n",
      "gws\n",
      "File exists for sfcWind_Amon_CESM1-1-CAM5-CMIP5_dcppA-hindcast_s1963-r36i1p1f1_gn_196311-197312.nc\n",
      "NCAR\n",
      "gws\n",
      "File does not exist for sfcWind_Amon_CESM1-1-CAM5-CMIP5_dcppA-hindcast_s1963-r30i1p1f1_gn_196311-197312.nc\n",
      "NCAR\n",
      "gws\n",
      "File does not exist for sfcWind_Amon_CESM1-1-CAM5-CMIP5_dcppA-hindcast_s1963-r31i1p1f1_gn_196311-197312.nc\n",
      "NCAR\n",
      "gws\n",
      "File does not exist for sfcWind_Amon_CESM1-1-CAM5-CMIP5_dcppA-hindcast_s1963-r32i1p1f1_gn_196311-197312.nc\n"
     ]
    }
   ],
   "source": [
    "# We only want to download the files which don't already exist on JASMIN\n",
    "dcpp_dir_gws = \"/gws/nopw/j04/canari/users/benhutch/\"\n",
    "\n",
    "\n",
    "# Now we want to check whether the files exist on JASMIN\n",
    "files_df = check_file_exists_jasmin(files_df, dcpp_dir_gws)"
   ]
  },
  {
   "cell_type": "code",
   "execution_count": 37,
   "metadata": {},
   "outputs": [
    {
     "name": "stderr",
     "output_type": "stream",
     "text": [
      "19.3kKiB [00:01, 10.3kKiB/s]                          \n",
      "  1%|▏         | 1/68 [00:02<02:47,  2.50s/it]"
     ]
    },
    {
     "name": "stdout",
     "output_type": "stream",
     "text": [
      "File is not empty\n",
      "Download complete - file saved to /gws/nopw/j04/canari/users/benhutch/dcppA-hindcast/data/sfcWind/CESM1-1-CAM5-CMIP5/sfcWind_Amon_CESM1-1-CAM5-CMIP5_dcppA-hindcast_s1963-r33i1p1f1_gn_196311-197312.nc\n"
     ]
    },
    {
     "name": "stderr",
     "output_type": "stream",
     "text": [
      "19.3kKiB [00:01, 10.2kKiB/s]                          \n",
      "  3%|▎         | 2/68 [00:05<02:46,  2.52s/it]"
     ]
    },
    {
     "name": "stdout",
     "output_type": "stream",
     "text": [
      "File is not empty\n",
      "Download complete - file saved to /gws/nopw/j04/canari/users/benhutch/dcppA-hindcast/data/sfcWind/CESM1-1-CAM5-CMIP5/sfcWind_Amon_CESM1-1-CAM5-CMIP5_dcppA-hindcast_s1963-r34i1p1f1_gn_196311-197312.nc\n"
     ]
    },
    {
     "name": "stderr",
     "output_type": "stream",
     "text": [
      "19.3kKiB [00:01, 11.0kKiB/s]                          \n"
     ]
    },
    {
     "name": "stdout",
     "output_type": "stream",
     "text": [
      "File is not empty\n",
      "Download complete - file saved to /gws/nopw/j04/canari/users/benhutch/dcppA-hindcast/data/sfcWind/CESM1-1-CAM5-CMIP5/sfcWind_Amon_CESM1-1-CAM5-CMIP5_dcppA-hindcast_s1963-r19i1p1f1_gn_196311-197312.nc\n"
     ]
    },
    {
     "name": "stderr",
     "output_type": "stream",
     "text": [
      "19.3kKiB [00:01, 10.0kKiB/s]                          \n"
     ]
    },
    {
     "name": "stdout",
     "output_type": "stream",
     "text": [
      "File is not empty\n",
      "Download complete - file saved to /gws/nopw/j04/canari/users/benhutch/dcppA-hindcast/data/sfcWind/CESM1-1-CAM5-CMIP5/sfcWind_Amon_CESM1-1-CAM5-CMIP5_dcppA-hindcast_s1963-r1i1p1f1_gn_196311-197312.nc\n"
     ]
    },
    {
     "name": "stderr",
     "output_type": "stream",
     "text": [
      "19.3kKiB [00:01, 10.6kKiB/s]                          \n"
     ]
    },
    {
     "name": "stdout",
     "output_type": "stream",
     "text": [
      "File is not empty\n",
      "Download complete - file saved to /gws/nopw/j04/canari/users/benhutch/dcppA-hindcast/data/sfcWind/CESM1-1-CAM5-CMIP5/sfcWind_Amon_CESM1-1-CAM5-CMIP5_dcppA-hindcast_s1963-r27i1p1f1_gn_196311-197312.nc\n"
     ]
    },
    {
     "name": "stderr",
     "output_type": "stream",
     "text": [
      "19.3kKiB [00:01, 11.0kKiB/s]                          \n"
     ]
    },
    {
     "name": "stdout",
     "output_type": "stream",
     "text": [
      "File is not empty\n",
      "Download complete - file saved to /gws/nopw/j04/canari/users/benhutch/dcppA-hindcast/data/sfcWind/CESM1-1-CAM5-CMIP5/sfcWind_Amon_CESM1-1-CAM5-CMIP5_dcppA-hindcast_s1963-r28i1p1f1_gn_196311-197312.nc\n"
     ]
    },
    {
     "name": "stderr",
     "output_type": "stream",
     "text": [
      "19.3kKiB [00:01, 10.1kKiB/s]                          \n"
     ]
    },
    {
     "name": "stdout",
     "output_type": "stream",
     "text": [
      "File is not empty\n",
      "Download complete - file saved to /gws/nopw/j04/canari/users/benhutch/dcppA-hindcast/data/sfcWind/CESM1-1-CAM5-CMIP5/sfcWind_Amon_CESM1-1-CAM5-CMIP5_dcppA-hindcast_s1963-r22i1p1f1_gn_196311-197312.nc\n"
     ]
    },
    {
     "name": "stderr",
     "output_type": "stream",
     "text": [
      "19.3kKiB [00:01, 10.3kKiB/s]                          \n",
      " 12%|█▏        | 8/68 [00:22<02:46,  2.77s/it]"
     ]
    },
    {
     "name": "stdout",
     "output_type": "stream",
     "text": [
      "File is not empty\n",
      "Download complete - file saved to /gws/nopw/j04/canari/users/benhutch/dcppA-hindcast/data/sfcWind/CESM1-1-CAM5-CMIP5/sfcWind_Amon_CESM1-1-CAM5-CMIP5_dcppA-hindcast_s1963-r23i1p1f1_gn_196311-197312.nc\n"
     ]
    },
    {
     "name": "stderr",
     "output_type": "stream",
     "text": [
      "19.3kKiB [00:01, 10.9kKiB/s]                          \n"
     ]
    },
    {
     "name": "stdout",
     "output_type": "stream",
     "text": [
      "File is not empty\n",
      "Download complete - file saved to /gws/nopw/j04/canari/users/benhutch/dcppA-hindcast/data/sfcWind/CESM1-1-CAM5-CMIP5/sfcWind_Amon_CESM1-1-CAM5-CMIP5_dcppA-hindcast_s1963-r24i1p1f1_gn_196311-197312.nc\n"
     ]
    },
    {
     "name": "stderr",
     "output_type": "stream",
     "text": [
      "19.3kKiB [00:01, 9.68kKiB/s]                          \n"
     ]
    },
    {
     "name": "stdout",
     "output_type": "stream",
     "text": [
      "File is not empty\n",
      "Download complete - file saved to /gws/nopw/j04/canari/users/benhutch/dcppA-hindcast/data/sfcWind/CESM1-1-CAM5-CMIP5/sfcWind_Amon_CESM1-1-CAM5-CMIP5_dcppA-hindcast_s1963-r20i1p1f1_gn_196311-197312.nc\n"
     ]
    },
    {
     "name": "stderr",
     "output_type": "stream",
     "text": [
      "19.3kKiB [00:01, 10.2kKiB/s]                          \n"
     ]
    },
    {
     "name": "stdout",
     "output_type": "stream",
     "text": [
      "File is not empty\n",
      "Download complete - file saved to /gws/nopw/j04/canari/users/benhutch/dcppA-hindcast/data/sfcWind/CESM1-1-CAM5-CMIP5/sfcWind_Amon_CESM1-1-CAM5-CMIP5_dcppA-hindcast_s1963-r21i1p1f1_gn_196311-197312.nc\n"
     ]
    },
    {
     "name": "stderr",
     "output_type": "stream",
     "text": [
      "19.3kKiB [00:01, 10.2kKiB/s]                          \n"
     ]
    },
    {
     "name": "stdout",
     "output_type": "stream",
     "text": [
      "File is not empty\n",
      "Download complete - file saved to /gws/nopw/j04/canari/users/benhutch/dcppA-hindcast/data/sfcWind/CESM1-1-CAM5-CMIP5/sfcWind_Amon_CESM1-1-CAM5-CMIP5_dcppA-hindcast_s1963-r17i1p1f1_gn_196311-197312.nc\n"
     ]
    },
    {
     "name": "stderr",
     "output_type": "stream",
     "text": [
      "19.3kKiB [00:02, 9.62kKiB/s]                          \n"
     ]
    },
    {
     "name": "stdout",
     "output_type": "stream",
     "text": [
      "File is not empty\n",
      "Download complete - file saved to /gws/nopw/j04/canari/users/benhutch/dcppA-hindcast/data/sfcWind/CESM1-1-CAM5-CMIP5/sfcWind_Amon_CESM1-1-CAM5-CMIP5_dcppA-hindcast_s1963-r18i1p1f1_gn_196311-197312.nc\n"
     ]
    },
    {
     "name": "stderr",
     "output_type": "stream",
     "text": [
      "19.3kKiB [00:01, 11.0kKiB/s]                          \n"
     ]
    },
    {
     "name": "stdout",
     "output_type": "stream",
     "text": [
      "File is not empty\n",
      "Download complete - file saved to /gws/nopw/j04/canari/users/benhutch/dcppA-hindcast/data/sfcWind/CESM1-1-CAM5-CMIP5/sfcWind_Amon_CESM1-1-CAM5-CMIP5_dcppA-hindcast_s1963-r25i1p1f1_gn_196311-197312.nc\n"
     ]
    },
    {
     "name": "stderr",
     "output_type": "stream",
     "text": [
      "19.3kKiB [00:01, 10.1kKiB/s]                          \n"
     ]
    },
    {
     "name": "stdout",
     "output_type": "stream",
     "text": [
      "File is not empty\n",
      "Download complete - file saved to /gws/nopw/j04/canari/users/benhutch/dcppA-hindcast/data/sfcWind/CESM1-1-CAM5-CMIP5/sfcWind_Amon_CESM1-1-CAM5-CMIP5_dcppA-hindcast_s1963-r26i1p1f1_gn_196311-197312.nc\n"
     ]
    },
    {
     "name": "stderr",
     "output_type": "stream",
     "text": [
      "19.3kKiB [00:02, 9.03kKiB/s]                          \n"
     ]
    },
    {
     "name": "stdout",
     "output_type": "stream",
     "text": [
      "File is not empty\n",
      "Download complete - file saved to /gws/nopw/j04/canari/users/benhutch/dcppA-hindcast/data/sfcWind/CESM1-1-CAM5-CMIP5/sfcWind_Amon_CESM1-1-CAM5-CMIP5_dcppA-hindcast_s1963-r29i1p1f1_gn_196311-197312.nc\n"
     ]
    },
    {
     "name": "stderr",
     "output_type": "stream",
     "text": [
      "19.3kKiB [00:02, 7.60kKiB/s]                          \n",
      " 25%|██▌       | 17/68 [00:51<02:48,  3.31s/it]"
     ]
    },
    {
     "name": "stdout",
     "output_type": "stream",
     "text": [
      "File is not empty\n",
      "Download complete - file saved to /gws/nopw/j04/canari/users/benhutch/dcppA-hindcast/data/sfcWind/CESM1-1-CAM5-CMIP5/sfcWind_Amon_CESM1-1-CAM5-CMIP5_dcppA-hindcast_s1963-r2i1p1f1_gn_196311-197312.nc\n"
     ]
    },
    {
     "name": "stderr",
     "output_type": "stream",
     "text": [
      "19.3kKiB [00:02, 8.00kKiB/s]                          \n",
      " 26%|██▋       | 18/68 [00:54<02:40,  3.22s/it]"
     ]
    },
    {
     "name": "stdout",
     "output_type": "stream",
     "text": [
      "File is not empty\n",
      "Download complete - file saved to /gws/nopw/j04/canari/users/benhutch/dcppA-hindcast/data/sfcWind/CESM1-1-CAM5-CMIP5/sfcWind_Amon_CESM1-1-CAM5-CMIP5_dcppA-hindcast_s1962-r5i1p1f1_gn_196211-197212.nc\n"
     ]
    },
    {
     "name": "stderr",
     "output_type": "stream",
     "text": [
      "19.3kKiB [00:02, 7.71kKiB/s]                          \n",
      " 28%|██▊       | 19/68 [00:57<02:35,  3.18s/it]"
     ]
    },
    {
     "name": "stdout",
     "output_type": "stream",
     "text": [
      "File is not empty\n",
      "Download complete - file saved to /gws/nopw/j04/canari/users/benhutch/dcppA-hindcast/data/sfcWind/CESM1-1-CAM5-CMIP5/sfcWind_Amon_CESM1-1-CAM5-CMIP5_dcppA-hindcast_s1962-r6i1p1f1_gn_196211-197212.nc\n"
     ]
    },
    {
     "name": "stderr",
     "output_type": "stream",
     "text": [
      "19.3kKiB [00:02, 8.12kKiB/s]                          \n"
     ]
    },
    {
     "name": "stdout",
     "output_type": "stream",
     "text": [
      "File is not empty\n",
      "Download complete - file saved to /gws/nopw/j04/canari/users/benhutch/dcppA-hindcast/data/sfcWind/CESM1-1-CAM5-CMIP5/sfcWind_Amon_CESM1-1-CAM5-CMIP5_dcppA-hindcast_s1962-r7i1p1f1_gn_196211-197212.nc\n"
     ]
    },
    {
     "name": "stderr",
     "output_type": "stream",
     "text": [
      "19.3kKiB [00:02, 7.02kKiB/s]                          \n"
     ]
    },
    {
     "name": "stdout",
     "output_type": "stream",
     "text": [
      "File is not empty\n",
      "Download complete - file saved to /gws/nopw/j04/canari/users/benhutch/dcppA-hindcast/data/sfcWind/CESM1-1-CAM5-CMIP5/sfcWind_Amon_CESM1-1-CAM5-CMIP5_dcppA-hindcast_s1962-r8i1p1f1_gn_196211-197212.nc\n"
     ]
    },
    {
     "name": "stderr",
     "output_type": "stream",
     "text": [
      "19.3kKiB [00:02, 7.34kKiB/s]                          \n",
      " 32%|███▏      | 22/68 [01:08<02:35,  3.39s/it]"
     ]
    },
    {
     "name": "stdout",
     "output_type": "stream",
     "text": [
      "File is not empty\n",
      "Download complete - file saved to /gws/nopw/j04/canari/users/benhutch/dcppA-hindcast/data/sfcWind/CESM1-1-CAM5-CMIP5/sfcWind_Amon_CESM1-1-CAM5-CMIP5_dcppA-hindcast_s1962-r9i1p1f1_gn_196211-197212.nc\n"
     ]
    },
    {
     "name": "stderr",
     "output_type": "stream",
     "text": [
      "19.3kKiB [00:02, 6.71kKiB/s]                          \n"
     ]
    },
    {
     "name": "stdout",
     "output_type": "stream",
     "text": [
      "File is not empty\n",
      "Download complete - file saved to /gws/nopw/j04/canari/users/benhutch/dcppA-hindcast/data/sfcWind/CESM1-1-CAM5-CMIP5/sfcWind_Amon_CESM1-1-CAM5-CMIP5_dcppA-hindcast_s1963-r10i1p1f1_gn_196311-197312.nc\n"
     ]
    },
    {
     "name": "stderr",
     "output_type": "stream",
     "text": [
      "19.3kKiB [00:02, 6.91kKiB/s]                          \n"
     ]
    },
    {
     "name": "stdout",
     "output_type": "stream",
     "text": [
      "File is not empty\n",
      "Download complete - file saved to /gws/nopw/j04/canari/users/benhutch/dcppA-hindcast/data/sfcWind/CESM1-1-CAM5-CMIP5/sfcWind_Amon_CESM1-1-CAM5-CMIP5_dcppA-hindcast_s1963-r11i1p1f1_gn_196311-197312.nc\n"
     ]
    },
    {
     "name": "stderr",
     "output_type": "stream",
     "text": [
      "19.3kKiB [00:02, 6.63kKiB/s]                          \n",
      " 37%|███▋      | 25/68 [01:20<02:41,  3.76s/it]"
     ]
    },
    {
     "name": "stdout",
     "output_type": "stream",
     "text": [
      "File is not empty\n",
      "Download complete - file saved to /gws/nopw/j04/canari/users/benhutch/dcppA-hindcast/data/sfcWind/CESM1-1-CAM5-CMIP5/sfcWind_Amon_CESM1-1-CAM5-CMIP5_dcppA-hindcast_s1963-r12i1p1f1_gn_196311-197312.nc\n"
     ]
    },
    {
     "name": "stderr",
     "output_type": "stream",
     "text": [
      "19.3kKiB [00:02, 7.33kKiB/s]                          \n",
      " 38%|███▊      | 26/68 [01:24<02:34,  3.67s/it]"
     ]
    },
    {
     "name": "stdout",
     "output_type": "stream",
     "text": [
      "File is not empty\n",
      "Download complete - file saved to /gws/nopw/j04/canari/users/benhutch/dcppA-hindcast/data/sfcWind/CESM1-1-CAM5-CMIP5/sfcWind_Amon_CESM1-1-CAM5-CMIP5_dcppA-hindcast_s1963-r13i1p1f1_gn_196311-197312.nc\n"
     ]
    },
    {
     "name": "stderr",
     "output_type": "stream",
     "text": [
      "19.3kKiB [00:02, 7.99kKiB/s]                          \n"
     ]
    },
    {
     "name": "stdout",
     "output_type": "stream",
     "text": [
      "File is not empty\n",
      "Download complete - file saved to /gws/nopw/j04/canari/users/benhutch/dcppA-hindcast/data/sfcWind/CESM1-1-CAM5-CMIP5/sfcWind_Amon_CESM1-1-CAM5-CMIP5_dcppA-hindcast_s1962-r39i1p1f1_gn_196211-197212.nc\n"
     ]
    },
    {
     "name": "stderr",
     "output_type": "stream",
     "text": [
      "19.3kKiB [00:02, 6.72kKiB/s]                          \n"
     ]
    },
    {
     "name": "stdout",
     "output_type": "stream",
     "text": [
      "File is not empty\n",
      "Download complete - file saved to /gws/nopw/j04/canari/users/benhutch/dcppA-hindcast/data/sfcWind/CESM1-1-CAM5-CMIP5/sfcWind_Amon_CESM1-1-CAM5-CMIP5_dcppA-hindcast_s1962-r3i1p1f1_gn_196211-197212.nc\n"
     ]
    },
    {
     "name": "stderr",
     "output_type": "stream",
     "text": [
      "19.3kKiB [00:02, 6.71kKiB/s]                          \n"
     ]
    },
    {
     "name": "stdout",
     "output_type": "stream",
     "text": [
      "File is not empty\n",
      "Download complete - file saved to /gws/nopw/j04/canari/users/benhutch/dcppA-hindcast/data/sfcWind/CESM1-1-CAM5-CMIP5/sfcWind_Amon_CESM1-1-CAM5-CMIP5_dcppA-hindcast_s1962-r40i1p1f1_gn_196211-197212.nc\n"
     ]
    },
    {
     "name": "stderr",
     "output_type": "stream",
     "text": [
      "19.3kKiB [00:02, 6.62kKiB/s]                          \n"
     ]
    },
    {
     "name": "stdout",
     "output_type": "stream",
     "text": [
      "File is not empty\n",
      "Download complete - file saved to /gws/nopw/j04/canari/users/benhutch/dcppA-hindcast/data/sfcWind/CESM1-1-CAM5-CMIP5/sfcWind_Amon_CESM1-1-CAM5-CMIP5_dcppA-hindcast_s1962-r4i1p1f1_gn_196211-197212.nc\n"
     ]
    },
    {
     "name": "stderr",
     "output_type": "stream",
     "text": [
      "19.3kKiB [00:03, 5.32kKiB/s]                          \n"
     ]
    },
    {
     "name": "stdout",
     "output_type": "stream",
     "text": [
      "File is not empty\n",
      "Download complete - file saved to /gws/nopw/j04/canari/users/benhutch/dcppA-hindcast/data/sfcWind/CESM1-1-CAM5-CMIP5/sfcWind_Amon_CESM1-1-CAM5-CMIP5_dcppA-hindcast_s1963-r14i1p1f1_gn_196311-197312.nc\n"
     ]
    },
    {
     "name": "stderr",
     "output_type": "stream",
     "text": [
      "19.3kKiB [00:03, 5.49kKiB/s]                          \n"
     ]
    },
    {
     "name": "stdout",
     "output_type": "stream",
     "text": [
      "File is not empty\n",
      "Download complete - file saved to /gws/nopw/j04/canari/users/benhutch/dcppA-hindcast/data/sfcWind/CESM1-1-CAM5-CMIP5/sfcWind_Amon_CESM1-1-CAM5-CMIP5_dcppA-hindcast_s1963-r15i1p1f1_gn_196311-197312.nc\n"
     ]
    },
    {
     "name": "stderr",
     "output_type": "stream",
     "text": [
      "19.3kKiB [00:03, 5.93kKiB/s]                          \n",
      " 49%|████▊     | 33/68 [01:53<02:27,  4.23s/it]"
     ]
    },
    {
     "name": "stdout",
     "output_type": "stream",
     "text": [
      "File is not empty\n",
      "Download complete - file saved to /gws/nopw/j04/canari/users/benhutch/dcppA-hindcast/data/sfcWind/CESM1-1-CAM5-CMIP5/sfcWind_Amon_CESM1-1-CAM5-CMIP5_dcppA-hindcast_s1963-r16i1p1f1_gn_196311-197312.nc\n"
     ]
    },
    {
     "name": "stderr",
     "output_type": "stream",
     "text": [
      "19.3kKiB [00:03, 5.43kKiB/s]                          \n"
     ]
    },
    {
     "name": "stdout",
     "output_type": "stream",
     "text": [
      "File is not empty\n",
      "Download complete - file saved to /gws/nopw/j04/canari/users/benhutch/dcppA-hindcast/data/sfcWind/CESM1-1-CAM5-CMIP5/sfcWind_Amon_CESM1-1-CAM5-CMIP5_dcppA-hindcast_s1962-r37i1p1f1_gn_196211-197212.nc\n"
     ]
    },
    {
     "name": "stderr",
     "output_type": "stream",
     "text": [
      "19.3kKiB [00:03, 5.51kKiB/s]                          \n"
     ]
    },
    {
     "name": "stdout",
     "output_type": "stream",
     "text": [
      "File is not empty\n",
      "Download complete - file saved to /gws/nopw/j04/canari/users/benhutch/dcppA-hindcast/data/sfcWind/CESM1-1-CAM5-CMIP5/sfcWind_Amon_CESM1-1-CAM5-CMIP5_dcppA-hindcast_s1962-r38i1p1f1_gn_196211-197212.nc\n"
     ]
    },
    {
     "name": "stderr",
     "output_type": "stream",
     "text": [
      "19.3kKiB [00:03, 5.72kKiB/s]                          \n"
     ]
    },
    {
     "name": "stdout",
     "output_type": "stream",
     "text": [
      "File is not empty\n",
      "Download complete - file saved to /gws/nopw/j04/canari/users/benhutch/dcppA-hindcast/data/sfcWind/CESM1-1-CAM5-CMIP5/sfcWind_Amon_CESM1-1-CAM5-CMIP5_dcppA-hindcast_s1962-r12i1p1f1_gn_196211-197212.nc\n"
     ]
    },
    {
     "name": "stderr",
     "output_type": "stream",
     "text": [
      "19.3kKiB [00:03, 5.48kKiB/s]                          \n"
     ]
    },
    {
     "name": "stdout",
     "output_type": "stream",
     "text": [
      "File is not empty\n",
      "Download complete - file saved to /gws/nopw/j04/canari/users/benhutch/dcppA-hindcast/data/sfcWind/CESM1-1-CAM5-CMIP5/sfcWind_Amon_CESM1-1-CAM5-CMIP5_dcppA-hindcast_s1962-r13i1p1f1_gn_196211-197212.nc\n"
     ]
    },
    {
     "name": "stderr",
     "output_type": "stream",
     "text": [
      "19.3kKiB [00:03, 5.49kKiB/s]                          \n"
     ]
    },
    {
     "name": "stdout",
     "output_type": "stream",
     "text": [
      "File is not empty\n",
      "Download complete - file saved to /gws/nopw/j04/canari/users/benhutch/dcppA-hindcast/data/sfcWind/CESM1-1-CAM5-CMIP5/sfcWind_Amon_CESM1-1-CAM5-CMIP5_dcppA-hindcast_s1962-r14i1p1f1_gn_196211-197212.nc\n"
     ]
    },
    {
     "name": "stderr",
     "output_type": "stream",
     "text": [
      "19.3kKiB [00:03, 5.55kKiB/s]                          \n"
     ]
    },
    {
     "name": "stdout",
     "output_type": "stream",
     "text": [
      "File is not empty\n",
      "Download complete - file saved to /gws/nopw/j04/canari/users/benhutch/dcppA-hindcast/data/sfcWind/CESM1-1-CAM5-CMIP5/sfcWind_Amon_CESM1-1-CAM5-CMIP5_dcppA-hindcast_s1962-r10i1p1f1_gn_196211-197212.nc\n"
     ]
    },
    {
     "name": "stderr",
     "output_type": "stream",
     "text": [
      "19.3kKiB [00:03, 5.93kKiB/s]                          \n"
     ]
    },
    {
     "name": "stdout",
     "output_type": "stream",
     "text": [
      "File is not empty\n",
      "Download complete - file saved to /gws/nopw/j04/canari/users/benhutch/dcppA-hindcast/data/sfcWind/CESM1-1-CAM5-CMIP5/sfcWind_Amon_CESM1-1-CAM5-CMIP5_dcppA-hindcast_s1962-r11i1p1f1_gn_196211-197212.nc\n"
     ]
    },
    {
     "name": "stderr",
     "output_type": "stream",
     "text": [
      "19.3kKiB [00:03, 5.87kKiB/s]                          \n",
      " 60%|██████    | 41/68 [02:34<02:10,  4.84s/it]"
     ]
    },
    {
     "name": "stdout",
     "output_type": "stream",
     "text": [
      "File is not empty\n",
      "Download complete - file saved to /gws/nopw/j04/canari/users/benhutch/dcppA-hindcast/data/sfcWind/CESM1-1-CAM5-CMIP5/sfcWind_Amon_CESM1-1-CAM5-CMIP5_dcppA-hindcast_s1962-r15i1p1f1_gn_196211-197212.nc\n"
     ]
    },
    {
     "name": "stderr",
     "output_type": "stream",
     "text": [
      "19.3kKiB [00:03, 5.71kKiB/s]                          \n"
     ]
    },
    {
     "name": "stdout",
     "output_type": "stream",
     "text": [
      "File is not empty\n",
      "Download complete - file saved to /gws/nopw/j04/canari/users/benhutch/dcppA-hindcast/data/sfcWind/CESM1-1-CAM5-CMIP5/sfcWind_Amon_CESM1-1-CAM5-CMIP5_dcppA-hindcast_s1962-r16i1p1f1_gn_196211-197212.nc\n"
     ]
    },
    {
     "name": "stderr",
     "output_type": "stream",
     "text": [
      "19.3kKiB [00:03, 5.48kKiB/s]                          \n"
     ]
    },
    {
     "name": "stdout",
     "output_type": "stream",
     "text": [
      "File is not empty\n",
      "Download complete - file saved to /gws/nopw/j04/canari/users/benhutch/dcppA-hindcast/data/sfcWind/CESM1-1-CAM5-CMIP5/sfcWind_Amon_CESM1-1-CAM5-CMIP5_dcppA-hindcast_s1962-r17i1p1f1_gn_196211-197212.nc\n"
     ]
    },
    {
     "name": "stderr",
     "output_type": "stream",
     "text": [
      "19.3kKiB [00:03, 5.51kKiB/s]                          \n"
     ]
    },
    {
     "name": "stdout",
     "output_type": "stream",
     "text": [
      "File is not empty\n",
      "Download complete - file saved to /gws/nopw/j04/canari/users/benhutch/dcppA-hindcast/data/sfcWind/CESM1-1-CAM5-CMIP5/sfcWind_Amon_CESM1-1-CAM5-CMIP5_dcppA-hindcast_s1962-r18i1p1f1_gn_196211-197212.nc\n"
     ]
    },
    {
     "name": "stderr",
     "output_type": "stream",
     "text": [
      "19.3kKiB [00:05, 3.59kKiB/s]                          \n"
     ]
    },
    {
     "name": "stdout",
     "output_type": "stream",
     "text": [
      "File is not empty\n",
      "Download complete - file saved to /gws/nopw/j04/canari/users/benhutch/dcppA-hindcast/data/sfcWind/CESM1-1-CAM5-CMIP5/sfcWind_Amon_CESM1-1-CAM5-CMIP5_dcppA-hindcast_s1962-r30i1p1f1_gn_196211-197212.nc\n"
     ]
    },
    {
     "name": "stderr",
     "output_type": "stream",
     "text": [
      "19.3kKiB [00:03, 5.92kKiB/s]                          \n"
     ]
    },
    {
     "name": "stdout",
     "output_type": "stream",
     "text": [
      "File is not empty\n",
      "Download complete - file saved to /gws/nopw/j04/canari/users/benhutch/dcppA-hindcast/data/sfcWind/CESM1-1-CAM5-CMIP5/sfcWind_Amon_CESM1-1-CAM5-CMIP5_dcppA-hindcast_s1962-r31i1p1f1_gn_196211-197212.nc\n"
     ]
    },
    {
     "name": "stderr",
     "output_type": "stream",
     "text": [
      "19.3kKiB [00:03, 5.46kKiB/s]                          \n"
     ]
    },
    {
     "name": "stdout",
     "output_type": "stream",
     "text": [
      "File is not empty\n",
      "Download complete - file saved to /gws/nopw/j04/canari/users/benhutch/dcppA-hindcast/data/sfcWind/CESM1-1-CAM5-CMIP5/sfcWind_Amon_CESM1-1-CAM5-CMIP5_dcppA-hindcast_s1962-r27i1p1f1_gn_196211-197212.nc\n"
     ]
    },
    {
     "name": "stderr",
     "output_type": "stream",
     "text": [
      "19.3kKiB [00:03, 5.51kKiB/s]                          \n"
     ]
    },
    {
     "name": "stdout",
     "output_type": "stream",
     "text": [
      "File is not empty\n",
      "Download complete - file saved to /gws/nopw/j04/canari/users/benhutch/dcppA-hindcast/data/sfcWind/CESM1-1-CAM5-CMIP5/sfcWind_Amon_CESM1-1-CAM5-CMIP5_dcppA-hindcast_s1962-r28i1p1f1_gn_196211-197212.nc\n"
     ]
    },
    {
     "name": "stderr",
     "output_type": "stream",
     "text": [
      "19.3kKiB [00:03, 5.49kKiB/s]                          \n",
      " 72%|███████▏  | 49/68 [03:13<01:28,  4.64s/it]"
     ]
    },
    {
     "name": "stdout",
     "output_type": "stream",
     "text": [
      "File is not empty\n",
      "Download complete - file saved to /gws/nopw/j04/canari/users/benhutch/dcppA-hindcast/data/sfcWind/CESM1-1-CAM5-CMIP5/sfcWind_Amon_CESM1-1-CAM5-CMIP5_dcppA-hindcast_s1962-r32i1p1f1_gn_196211-197212.nc\n"
     ]
    },
    {
     "name": "stderr",
     "output_type": "stream",
     "text": [
      "19.3kKiB [00:03, 5.52kKiB/s]                          \n"
     ]
    },
    {
     "name": "stdout",
     "output_type": "stream",
     "text": [
      "File is not empty\n",
      "Download complete - file saved to /gws/nopw/j04/canari/users/benhutch/dcppA-hindcast/data/sfcWind/CESM1-1-CAM5-CMIP5/sfcWind_Amon_CESM1-1-CAM5-CMIP5_dcppA-hindcast_s1962-r33i1p1f1_gn_196211-197212.nc\n"
     ]
    },
    {
     "name": "stderr",
     "output_type": "stream",
     "text": [
      "19.3kKiB [00:03, 5.87kKiB/s]                          \n",
      " 75%|███████▌  | 51/68 [03:22<01:15,  4.42s/it]"
     ]
    },
    {
     "name": "stdout",
     "output_type": "stream",
     "text": [
      "File is not empty\n",
      "Download complete - file saved to /gws/nopw/j04/canari/users/benhutch/dcppA-hindcast/data/sfcWind/CESM1-1-CAM5-CMIP5/sfcWind_Amon_CESM1-1-CAM5-CMIP5_dcppA-hindcast_s1962-r25i1p1f1_gn_196211-197212.nc\n"
     ]
    },
    {
     "name": "stderr",
     "output_type": "stream",
     "text": [
      "19.3kKiB [00:03, 5.56kKiB/s]                          \n"
     ]
    },
    {
     "name": "stdout",
     "output_type": "stream",
     "text": [
      "File is not empty\n",
      "Download complete - file saved to /gws/nopw/j04/canari/users/benhutch/dcppA-hindcast/data/sfcWind/CESM1-1-CAM5-CMIP5/sfcWind_Amon_CESM1-1-CAM5-CMIP5_dcppA-hindcast_s1962-r26i1p1f1_gn_196211-197212.nc\n"
     ]
    },
    {
     "name": "stderr",
     "output_type": "stream",
     "text": [
      "19.3kKiB [00:03, 5.67kKiB/s]                          \n"
     ]
    },
    {
     "name": "stdout",
     "output_type": "stream",
     "text": [
      "File is not empty\n",
      "Download complete - file saved to /gws/nopw/j04/canari/users/benhutch/dcppA-hindcast/data/sfcWind/CESM1-1-CAM5-CMIP5/sfcWind_Amon_CESM1-1-CAM5-CMIP5_dcppA-hindcast_s1962-r22i1p1f1_gn_196211-197212.nc\n"
     ]
    },
    {
     "name": "stderr",
     "output_type": "stream",
     "text": [
      "19.3kKiB [00:04, 4.29kKiB/s]                          \n"
     ]
    },
    {
     "name": "stdout",
     "output_type": "stream",
     "text": [
      "File is not empty\n",
      "Download complete - file saved to /gws/nopw/j04/canari/users/benhutch/dcppA-hindcast/data/sfcWind/CESM1-1-CAM5-CMIP5/sfcWind_Amon_CESM1-1-CAM5-CMIP5_dcppA-hindcast_s1962-r23i1p1f1_gn_196211-197212.nc\n"
     ]
    },
    {
     "name": "stderr",
     "output_type": "stream",
     "text": [
      "19.3kKiB [00:04, 4.67kKiB/s]                          \n"
     ]
    },
    {
     "name": "stdout",
     "output_type": "stream",
     "text": [
      "File is not empty\n",
      "Download complete - file saved to /gws/nopw/j04/canari/users/benhutch/dcppA-hindcast/data/sfcWind/CESM1-1-CAM5-CMIP5/sfcWind_Amon_CESM1-1-CAM5-CMIP5_dcppA-hindcast_s1962-r24i1p1f1_gn_196211-197212.nc\n"
     ]
    },
    {
     "name": "stderr",
     "output_type": "stream",
     "text": [
      "19.3kKiB [00:03, 4.87kKiB/s]                          \n",
      " 82%|████████▏ | 56/68 [03:46<00:58,  4.86s/it]"
     ]
    },
    {
     "name": "stdout",
     "output_type": "stream",
     "text": [
      "File is not empty\n",
      "Download complete - file saved to /gws/nopw/j04/canari/users/benhutch/dcppA-hindcast/data/sfcWind/CESM1-1-CAM5-CMIP5/sfcWind_Amon_CESM1-1-CAM5-CMIP5_dcppA-hindcast_s1962-r29i1p1f1_gn_196211-197212.nc\n"
     ]
    },
    {
     "name": "stderr",
     "output_type": "stream",
     "text": [
      "19.3kKiB [00:04, 4.82kKiB/s]                          \n"
     ]
    },
    {
     "name": "stdout",
     "output_type": "stream",
     "text": [
      "File is not empty\n",
      "Download complete - file saved to /gws/nopw/j04/canari/users/benhutch/dcppA-hindcast/data/sfcWind/CESM1-1-CAM5-CMIP5/sfcWind_Amon_CESM1-1-CAM5-CMIP5_dcppA-hindcast_s1962-r2i1p1f1_gn_196211-197212.nc\n"
     ]
    },
    {
     "name": "stderr",
     "output_type": "stream",
     "text": [
      "19.3kKiB [00:04, 4.82kKiB/s]                          \n"
     ]
    },
    {
     "name": "stdout",
     "output_type": "stream",
     "text": [
      "File is not empty\n",
      "Download complete - file saved to /gws/nopw/j04/canari/users/benhutch/dcppA-hindcast/data/sfcWind/CESM1-1-CAM5-CMIP5/sfcWind_Amon_CESM1-1-CAM5-CMIP5_dcppA-hindcast_s1962-r34i1p1f1_gn_196211-197212.nc\n"
     ]
    },
    {
     "name": "stderr",
     "output_type": "stream",
     "text": [
      "19.3kKiB [00:03, 5.14kKiB/s]                          \n"
     ]
    },
    {
     "name": "stdout",
     "output_type": "stream",
     "text": [
      "File is not empty\n",
      "Download complete - file saved to /gws/nopw/j04/canari/users/benhutch/dcppA-hindcast/data/sfcWind/CESM1-1-CAM5-CMIP5/sfcWind_Amon_CESM1-1-CAM5-CMIP5_dcppA-hindcast_s1962-r35i1p1f1_gn_196211-197212.nc\n"
     ]
    },
    {
     "name": "stderr",
     "output_type": "stream",
     "text": [
      "19.3kKiB [00:04, 4.56kKiB/s]                          \n",
      " 88%|████████▊ | 60/68 [04:06<00:39,  4.92s/it]"
     ]
    },
    {
     "name": "stdout",
     "output_type": "stream",
     "text": [
      "File is not empty\n",
      "Download complete - file saved to /gws/nopw/j04/canari/users/benhutch/dcppA-hindcast/data/sfcWind/CESM1-1-CAM5-CMIP5/sfcWind_Amon_CESM1-1-CAM5-CMIP5_dcppA-hindcast_s1962-r36i1p1f1_gn_196211-197212.nc\n"
     ]
    },
    {
     "name": "stderr",
     "output_type": "stream",
     "text": [
      "19.3kKiB [00:03, 4.98kKiB/s]                          \n"
     ]
    },
    {
     "name": "stdout",
     "output_type": "stream",
     "text": [
      "File is not empty\n",
      "Download complete - file saved to /gws/nopw/j04/canari/users/benhutch/dcppA-hindcast/data/sfcWind/CESM1-1-CAM5-CMIP5/sfcWind_Amon_CESM1-1-CAM5-CMIP5_dcppA-hindcast_s1962-r20i1p1f1_gn_196211-197212.nc\n"
     ]
    },
    {
     "name": "stderr",
     "output_type": "stream",
     "text": [
      "19.3kKiB [00:03, 5.14kKiB/s]                          \n"
     ]
    },
    {
     "name": "stdout",
     "output_type": "stream",
     "text": [
      "File is not empty\n",
      "Download complete - file saved to /gws/nopw/j04/canari/users/benhutch/dcppA-hindcast/data/sfcWind/CESM1-1-CAM5-CMIP5/sfcWind_Amon_CESM1-1-CAM5-CMIP5_dcppA-hindcast_s1962-r21i1p1f1_gn_196211-197212.nc\n"
     ]
    },
    {
     "name": "stderr",
     "output_type": "stream",
     "text": [
      "19.3kKiB [00:04, 4.65kKiB/s]                          \n"
     ]
    },
    {
     "name": "stdout",
     "output_type": "stream",
     "text": [
      "File is not empty\n",
      "Download complete - file saved to /gws/nopw/j04/canari/users/benhutch/dcppA-hindcast/data/sfcWind/CESM1-1-CAM5-CMIP5/sfcWind_Amon_CESM1-1-CAM5-CMIP5_dcppA-hindcast_s1962-r19i1p1f1_gn_196211-197212.nc\n"
     ]
    },
    {
     "name": "stderr",
     "output_type": "stream",
     "text": [
      "19.3kKiB [00:04, 4.79kKiB/s]                          \n"
     ]
    },
    {
     "name": "stdout",
     "output_type": "stream",
     "text": [
      "File is not empty\n",
      "Download complete - file saved to /gws/nopw/j04/canari/users/benhutch/dcppA-hindcast/data/sfcWind/CESM1-1-CAM5-CMIP5/sfcWind_Amon_CESM1-1-CAM5-CMIP5_dcppA-hindcast_s1962-r1i1p1f1_gn_196211-197212.nc\n"
     ]
    },
    {
     "name": "stderr",
     "output_type": "stream",
     "text": [
      "19.3kKiB [00:03, 4.98kKiB/s]                          \n"
     ]
    },
    {
     "name": "stdout",
     "output_type": "stream",
     "text": [
      "File is not empty\n",
      "Download complete - file saved to /gws/nopw/j04/canari/users/benhutch/dcppA-hindcast/data/sfcWind/CESM1-1-CAM5-CMIP5/sfcWind_Amon_CESM1-1-CAM5-CMIP5_dcppA-hindcast_s1963-r35i1p1f1_gn_196311-197312.nc\n"
     ]
    },
    {
     "name": "stderr",
     "output_type": "stream",
     "text": [
      "19.3kKiB [00:04, 4.66kKiB/s]                          \n"
     ]
    },
    {
     "name": "stdout",
     "output_type": "stream",
     "text": [
      "File is not empty\n",
      "Download complete - file saved to /gws/nopw/j04/canari/users/benhutch/dcppA-hindcast/data/sfcWind/CESM1-1-CAM5-CMIP5/sfcWind_Amon_CESM1-1-CAM5-CMIP5_dcppA-hindcast_s1963-r30i1p1f1_gn_196311-197312.nc\n"
     ]
    },
    {
     "name": "stderr",
     "output_type": "stream",
     "text": [
      "19.3kKiB [00:04, 4.61kKiB/s]                          \n"
     ]
    },
    {
     "name": "stdout",
     "output_type": "stream",
     "text": [
      "File is not empty\n",
      "Download complete - file saved to /gws/nopw/j04/canari/users/benhutch/dcppA-hindcast/data/sfcWind/CESM1-1-CAM5-CMIP5/sfcWind_Amon_CESM1-1-CAM5-CMIP5_dcppA-hindcast_s1963-r31i1p1f1_gn_196311-197312.nc\n"
     ]
    },
    {
     "name": "stderr",
     "output_type": "stream",
     "text": [
      "19.3kKiB [00:04, 4.78kKiB/s]                          \n",
      "100%|██████████| 68/68 [04:50<00:00,  4.27s/it]"
     ]
    },
    {
     "name": "stdout",
     "output_type": "stream",
     "text": [
      "File is not empty\n",
      "Download complete - file saved to /gws/nopw/j04/canari/users/benhutch/dcppA-hindcast/data/sfcWind/CESM1-1-CAM5-CMIP5/sfcWind_Amon_CESM1-1-CAM5-CMIP5_dcppA-hindcast_s1963-r32i1p1f1_gn_196311-197312.nc\n"
     ]
    },
    {
     "name": "stderr",
     "output_type": "stream",
     "text": [
      "\n"
     ]
    }
   ],
   "source": [
    "# We only want to download the files which don't already exist on JASMIN\n",
    "# Set up the download directory\n",
    "download_dir = \"/gws/nopw/j04/canari/users/benhutch/\"\n",
    "\n",
    "# Keep a copy of the files_df\n",
    "files_df_copy = files_df.copy()\n",
    "\n",
    "# Keep only the files which exist on JASMIN in the copy\n",
    "files_df_copy = files_df_copy[files_df_copy['file_exists'] == True]\n",
    "\n",
    "# Loop through files_df and download the files\n",
    "# First constrain the dataframe to only the files which don't already exist on JASMIN\n",
    "files_df = files_df[files_df['file_exists'] == False]\n",
    "\n",
    "# Reset the index\n",
    "files_df.reset_index(drop=True, inplace=True)\n",
    "\n",
    "# Loop through the files_df and download the files\n",
    "for i in tqdm(range(len(files_df))):\n",
    "    # Get the file_url\n",
    "    file_url = files_df.loc[i, 'url']\n",
    "\n",
    "    # Get the filename\n",
    "    filename = files_df.loc[i, 'filename']\n",
    "\n",
    "    # Split the filename and extract the variable name\n",
    "    variable = filename.split('_')[0]\n",
    "\n",
    "    # Split the filename to get the experiment name\n",
    "    experiment = filename.split('_')[3]\n",
    "\n",
    "    # Set up the model\n",
    "    model = filename.split('_')[2]\n",
    "\n",
    "    # Set up the download directory\n",
    "    # download_dir_loop = os.path.join(download_dir, experiment, variable, model)\n",
    "\n",
    "    # Modify download dir to be inline with that already saved on canari\n",
    "    download_dir_loop = os.path.join(download_dir, experiment, \"data\",\n",
    "                                        variable, model)\n",
    "\n",
    "    # If the download directory doesn't exist, make it\n",
    "    if not os.path.exists(download_dir_loop):\n",
    "        os.makedirs(download_dir_loop)\n",
    "\n",
    "    # Set up the download path\n",
    "    download_path = os.path.join(download_dir_loop, filename)\n",
    "\n",
    "    # Assert that the download path doesn't already exist\n",
    "    assert not os.path.exists(download_path), \"The file {} already exists\".format(download_path)\n",
    "\n",
    "    # In the filepath column of the dataframe\n",
    "    # replace the current file path with the download path\n",
    "    files_df.loc[i, 'filepath'] = download_path\n",
    "\n",
    "    # Replace the file_exists column with True\n",
    "    files_df.loc[i, 'file_exists'] = True\n",
    "\n",
    "    # Set up the request\n",
    "    r = requests.get(file_url, stream=True)\n",
    "\n",
    "    # Set up the total size\n",
    "    total_size = int(r.headers.get('content-length', 0))\n",
    "    \n",
    "    # Set up the block size\n",
    "    block_size = 1024\n",
    "\n",
    "    # Download the file\n",
    "    with open(download_path, 'wb') as f:\n",
    "        for data in tqdm(r.iter_content(block_size), \n",
    "                        total = total_size//block_size, \n",
    "                        unit = 'KiB', \n",
    "                        unit_scale = True):\n",
    "            f.write(data)\n",
    "\n",
    "        # If the total size is no 0\n",
    "        if total_size != 0:\n",
    "            print(\"File is not empty\")\n",
    "            print(\"Download complete - file saved to {}\".format(download_path))\n",
    "\n",
    "# Assert that all rows in file_exists are True\n",
    "assert all(files_df['file_exists'] == True), \"Not all files have been downloaded\"\n",
    "\n",
    "# Assert that the filepath column doesn't contain any NaNs\n",
    "assert not any(files_df['filepath'].isna()), \"The filepath column contains NaNs\"\n",
    "\n",
    "\n",
    "# append the files_df to the files_df_copy\n",
    "files_df_copy = pd.concat([files_df_copy, files_df], ignore_index=True)\n",
    "\n",
    "# Assrt tha\n"
   ]
  },
  {
   "cell_type": "code",
   "execution_count": 25,
   "metadata": {},
   "outputs": [],
   "source": [
    "# Assert that all rows in file_exists are True\n",
    "assert all(files_df_copy['file_exists'] == True), \"Not all files have been downloaded\"\n",
    "\n",
    "# Assert that the filepath column doesn't contain any NaNs\n",
    "assert not any(files_df_copy['filepath'].isna()), \"The filepath column contains NaNs\""
   ]
  },
  {
   "cell_type": "code",
   "execution_count": null,
   "metadata": {},
   "outputs": [],
   "source": []
  },
  {
   "cell_type": "code",
   "execution_count": 14,
   "metadata": {},
   "outputs": [
    {
     "name": "stderr",
     "output_type": "stream",
     "text": [
      "/tmp/ipykernel_1622/1028569091.py:11: FutureWarning: The frame.append method is deprecated and will be removed from pandas in a future version. Use pandas.concat instead.\n",
      "  file_context_df = file_context_df.append(file_context, ignore_index=True)\n",
      "/tmp/ipykernel_1622/1028569091.py:11: FutureWarning: The frame.append method is deprecated and will be removed from pandas in a future version. Use pandas.concat instead.\n",
      "  file_context_df = file_context_df.append(file_context, ignore_index=True)\n",
      "/tmp/ipykernel_1622/1028569091.py:11: FutureWarning: The frame.append method is deprecated and will be removed from pandas in a future version. Use pandas.concat instead.\n",
      "  file_context_df = file_context_df.append(file_context, ignore_index=True)\n",
      "/tmp/ipykernel_1622/1028569091.py:11: FutureWarning: The frame.append method is deprecated and will be removed from pandas in a future version. Use pandas.concat instead.\n",
      "  file_context_df = file_context_df.append(file_context, ignore_index=True)\n",
      "/tmp/ipykernel_1622/1028569091.py:11: FutureWarning: The frame.append method is deprecated and will be removed from pandas in a future version. Use pandas.concat instead.\n",
      "  file_context_df = file_context_df.append(file_context, ignore_index=True)\n",
      "/tmp/ipykernel_1622/1028569091.py:11: FutureWarning: The frame.append method is deprecated and will be removed from pandas in a future version. Use pandas.concat instead.\n",
      "  file_context_df = file_context_df.append(file_context, ignore_index=True)\n",
      "/tmp/ipykernel_1622/1028569091.py:11: FutureWarning: The frame.append method is deprecated and will be removed from pandas in a future version. Use pandas.concat instead.\n",
      "  file_context_df = file_context_df.append(file_context, ignore_index=True)\n",
      "/tmp/ipykernel_1622/1028569091.py:11: FutureWarning: The frame.append method is deprecated and will be removed from pandas in a future version. Use pandas.concat instead.\n",
      "  file_context_df = file_context_df.append(file_context, ignore_index=True)\n",
      "/tmp/ipykernel_1622/1028569091.py:11: FutureWarning: The frame.append method is deprecated and will be removed from pandas in a future version. Use pandas.concat instead.\n",
      "  file_context_df = file_context_df.append(file_context, ignore_index=True)\n",
      "/tmp/ipykernel_1622/1028569091.py:11: FutureWarning: The frame.append method is deprecated and will be removed from pandas in a future version. Use pandas.concat instead.\n",
      "  file_context_df = file_context_df.append(file_context, ignore_index=True)\n",
      "/tmp/ipykernel_1622/1028569091.py:11: FutureWarning: The frame.append method is deprecated and will be removed from pandas in a future version. Use pandas.concat instead.\n",
      "  file_context_df = file_context_df.append(file_context, ignore_index=True)\n",
      "/tmp/ipykernel_1622/1028569091.py:11: FutureWarning: The frame.append method is deprecated and will be removed from pandas in a future version. Use pandas.concat instead.\n",
      "  file_context_df = file_context_df.append(file_context, ignore_index=True)\n",
      "/tmp/ipykernel_1622/1028569091.py:11: FutureWarning: The frame.append method is deprecated and will be removed from pandas in a future version. Use pandas.concat instead.\n",
      "  file_context_df = file_context_df.append(file_context, ignore_index=True)\n",
      "/tmp/ipykernel_1622/1028569091.py:11: FutureWarning: The frame.append method is deprecated and will be removed from pandas in a future version. Use pandas.concat instead.\n",
      "  file_context_df = file_context_df.append(file_context, ignore_index=True)\n",
      "/tmp/ipykernel_1622/1028569091.py:11: FutureWarning: The frame.append method is deprecated and will be removed from pandas in a future version. Use pandas.concat instead.\n",
      "  file_context_df = file_context_df.append(file_context, ignore_index=True)\n"
     ]
    }
   ],
   "source": [
    "# Extract all of the file_context into dictionaries\n",
    "# and then append them to a dataframe\n",
    "# Initialize an empty list to store the dictionaries\n",
    "# Create an empty dataframe\n",
    "file_context_df = pd.DataFrame()\n",
    "\n",
    "\n",
    "# For each file_context\n",
    "for file_context in file_context_list:\n",
    "    # Append the file_context to the dataframe\n",
    "    file_context_df = file_context_df.append(file_context, ignore_index=True)"
   ]
  },
  {
   "cell_type": "code",
   "execution_count": null,
   "metadata": {},
   "outputs": [],
   "source": [
    "# Python\n",
    "# Form a list of the unique 'source_id' values from the results\n",
    "source_id_list = list(set([result.json['source_id'] for result in results]))\n",
    "\n",
    "# Print the list\n",
    "print(source_id_list)"
   ]
  },
  {
   "cell_type": "code",
   "execution_count": 5,
   "metadata": {},
   "outputs": [
    {
     "name": "stdout",
     "output_type": "stream",
     "text": [
      "5\n",
      "<class 'pyesgf.search.results.ResultSet'>\n",
      "<pyesgf.search.results.ResultSet object at 0x7f87bf91f130>\n"
     ]
    }
   ],
   "source": [
    "# test the function for querying the database\n",
    "results = query_data_esgf(conn,\n",
    "                        source_id='E3SM-2-0',\n",
    "                        experiment_id='hist-aer',\n",
    "                        variable_id='tas',\n",
    "                        table_id='Amon',\n",
    "                        data_node='esgf-data2.llnl.gov',)\n",
    "\n",
    "# print the len of the results\n",
    "print(len(results))\n",
    "\n",
    "# print the type of the results\n",
    "print(type(results))\n",
    "\n",
    "# print the results\n",
    "print(results)"
   ]
  },
  {
   "cell_type": "code",
   "execution_count": 6,
   "metadata": {},
   "outputs": [
    {
     "name": "stdout",
     "output_type": "stream",
     "text": [
      "CMIP6.DAMIP.E3SM-Project.E3SM-2-0.hist-aer.r2i1p1f1.Amon.tas.gr.v20220906|esgf-data2.llnl.gov\n"
     ]
    }
   ],
   "source": [
    "# Print the details of the first result\n",
    "print(results[0].json['id'])"
   ]
  },
  {
   "cell_type": "code",
   "execution_count": 7,
   "metadata": {},
   "outputs": [],
   "source": [
    "# Extract the file context\n",
    "# files_list = extract_file_context(results)\n",
    "\n",
    "# # # Turn the list into a dataframe\n",
    "# # files_df = pd.DataFrame.from_dict(files_list)\n",
    "\n",
    "# # files_df"
   ]
  },
  {
   "cell_type": "code",
   "execution_count": 8,
   "metadata": {},
   "outputs": [
    {
     "name": "stdout",
     "output_type": "stream",
     "text": [
      "Extracting file context for 5 datasets...\n"
     ]
    },
    {
     "data": {
      "text/plain": [
       "[{'filename': 'tas_Amon_E3SM-2-0_hist-aer_r2i1p1f1_gr_185001-189912.nc',\n",
       "  'url': 'https://esgf-data2.llnl.gov/thredds/fileServer/user_pub_work/CMIP6/DAMIP/E3SM-Project/E3SM-2-0/hist-aer/r2i1p1f1/Amon/tas/gr/v20220906/tas_Amon_E3SM-2-0_hist-aer_r2i1p1f1_gr_185001-189912.nc'},\n",
       " {'filename': 'tas_Amon_E3SM-2-0_hist-aer_r2i1p1f1_gr_190001-194912.nc',\n",
       "  'url': 'https://esgf-data2.llnl.gov/thredds/fileServer/user_pub_work/CMIP6/DAMIP/E3SM-Project/E3SM-2-0/hist-aer/r2i1p1f1/Amon/tas/gr/v20220906/tas_Amon_E3SM-2-0_hist-aer_r2i1p1f1_gr_190001-194912.nc'},\n",
       " {'filename': 'tas_Amon_E3SM-2-0_hist-aer_r2i1p1f1_gr_195001-199912.nc',\n",
       "  'url': 'https://esgf-data2.llnl.gov/thredds/fileServer/user_pub_work/CMIP6/DAMIP/E3SM-Project/E3SM-2-0/hist-aer/r2i1p1f1/Amon/tas/gr/v20220906/tas_Amon_E3SM-2-0_hist-aer_r2i1p1f1_gr_195001-199912.nc'},\n",
       " {'filename': 'tas_Amon_E3SM-2-0_hist-aer_r2i1p1f1_gr_200001-201412.nc',\n",
       "  'url': 'https://esgf-data2.llnl.gov/thredds/fileServer/user_pub_work/CMIP6/DAMIP/E3SM-Project/E3SM-2-0/hist-aer/r2i1p1f1/Amon/tas/gr/v20220906/tas_Amon_E3SM-2-0_hist-aer_r2i1p1f1_gr_200001-201412.nc'},\n",
       " {'filename': 'tas_Amon_E3SM-2-0_hist-aer_r1i1p1f1_gr_185001-189912.nc',\n",
       "  'url': 'https://esgf-data2.llnl.gov/thredds/fileServer/user_pub_work/CMIP6/DAMIP/E3SM-Project/E3SM-2-0/hist-aer/r1i1p1f1/Amon/tas/gr/v20220905/tas_Amon_E3SM-2-0_hist-aer_r1i1p1f1_gr_185001-189912.nc'},\n",
       " {'filename': 'tas_Amon_E3SM-2-0_hist-aer_r1i1p1f1_gr_190001-194912.nc',\n",
       "  'url': 'https://esgf-data2.llnl.gov/thredds/fileServer/user_pub_work/CMIP6/DAMIP/E3SM-Project/E3SM-2-0/hist-aer/r1i1p1f1/Amon/tas/gr/v20220905/tas_Amon_E3SM-2-0_hist-aer_r1i1p1f1_gr_190001-194912.nc'},\n",
       " {'filename': 'tas_Amon_E3SM-2-0_hist-aer_r1i1p1f1_gr_195001-199912.nc',\n",
       "  'url': 'https://esgf-data2.llnl.gov/thredds/fileServer/user_pub_work/CMIP6/DAMIP/E3SM-Project/E3SM-2-0/hist-aer/r1i1p1f1/Amon/tas/gr/v20220905/tas_Amon_E3SM-2-0_hist-aer_r1i1p1f1_gr_195001-199912.nc'},\n",
       " {'filename': 'tas_Amon_E3SM-2-0_hist-aer_r1i1p1f1_gr_200001-201412.nc',\n",
       "  'url': 'https://esgf-data2.llnl.gov/thredds/fileServer/user_pub_work/CMIP6/DAMIP/E3SM-Project/E3SM-2-0/hist-aer/r1i1p1f1/Amon/tas/gr/v20220905/tas_Amon_E3SM-2-0_hist-aer_r1i1p1f1_gr_200001-201412.nc'},\n",
       " {'filename': 'tas_Amon_E3SM-2-0_hist-aer_r3i1p1f1_gr_185001-189912.nc',\n",
       "  'url': 'https://esgf-data2.llnl.gov/thredds/fileServer/user_pub_work/CMIP6/DAMIP/E3SM-Project/E3SM-2-0/hist-aer/r3i1p1f1/Amon/tas/gr/v20220906/tas_Amon_E3SM-2-0_hist-aer_r3i1p1f1_gr_185001-189912.nc'},\n",
       " {'filename': 'tas_Amon_E3SM-2-0_hist-aer_r3i1p1f1_gr_190001-194912.nc',\n",
       "  'url': 'https://esgf-data2.llnl.gov/thredds/fileServer/user_pub_work/CMIP6/DAMIP/E3SM-Project/E3SM-2-0/hist-aer/r3i1p1f1/Amon/tas/gr/v20220906/tas_Amon_E3SM-2-0_hist-aer_r3i1p1f1_gr_190001-194912.nc'},\n",
       " {'filename': 'tas_Amon_E3SM-2-0_hist-aer_r3i1p1f1_gr_195001-199912.nc',\n",
       "  'url': 'https://esgf-data2.llnl.gov/thredds/fileServer/user_pub_work/CMIP6/DAMIP/E3SM-Project/E3SM-2-0/hist-aer/r3i1p1f1/Amon/tas/gr/v20220906/tas_Amon_E3SM-2-0_hist-aer_r3i1p1f1_gr_195001-199912.nc'},\n",
       " {'filename': 'tas_Amon_E3SM-2-0_hist-aer_r3i1p1f1_gr_200001-201412.nc',\n",
       "  'url': 'https://esgf-data2.llnl.gov/thredds/fileServer/user_pub_work/CMIP6/DAMIP/E3SM-Project/E3SM-2-0/hist-aer/r3i1p1f1/Amon/tas/gr/v20220906/tas_Amon_E3SM-2-0_hist-aer_r3i1p1f1_gr_200001-201412.nc'},\n",
       " {'filename': 'tas_Amon_E3SM-2-0_hist-aer_r4i1p1f1_gr_185001-189912.nc',\n",
       "  'url': 'https://esgf-data2.llnl.gov/thredds/fileServer/user_pub_work/CMIP6/DAMIP/E3SM-Project/E3SM-2-0/hist-aer/r4i1p1f1/Amon/tas/gr/v20220907/tas_Amon_E3SM-2-0_hist-aer_r4i1p1f1_gr_185001-189912.nc'},\n",
       " {'filename': 'tas_Amon_E3SM-2-0_hist-aer_r4i1p1f1_gr_190001-194912.nc',\n",
       "  'url': 'https://esgf-data2.llnl.gov/thredds/fileServer/user_pub_work/CMIP6/DAMIP/E3SM-Project/E3SM-2-0/hist-aer/r4i1p1f1/Amon/tas/gr/v20220907/tas_Amon_E3SM-2-0_hist-aer_r4i1p1f1_gr_190001-194912.nc'},\n",
       " {'filename': 'tas_Amon_E3SM-2-0_hist-aer_r4i1p1f1_gr_195001-199912.nc',\n",
       "  'url': 'https://esgf-data2.llnl.gov/thredds/fileServer/user_pub_work/CMIP6/DAMIP/E3SM-Project/E3SM-2-0/hist-aer/r4i1p1f1/Amon/tas/gr/v20220907/tas_Amon_E3SM-2-0_hist-aer_r4i1p1f1_gr_195001-199912.nc'},\n",
       " {'filename': 'tas_Amon_E3SM-2-0_hist-aer_r4i1p1f1_gr_200001-201412.nc',\n",
       "  'url': 'https://esgf-data2.llnl.gov/thredds/fileServer/user_pub_work/CMIP6/DAMIP/E3SM-Project/E3SM-2-0/hist-aer/r4i1p1f1/Amon/tas/gr/v20220907/tas_Amon_E3SM-2-0_hist-aer_r4i1p1f1_gr_200001-201412.nc'},\n",
       " {'filename': 'tas_Amon_E3SM-2-0_hist-aer_r5i1p1f1_gr_185001-189912.nc',\n",
       "  'url': 'https://esgf-data2.llnl.gov/thredds/fileServer/user_pub_work/CMIP6/DAMIP/E3SM-Project/E3SM-2-0/hist-aer/r5i1p1f1/Amon/tas/gr/v20220907/tas_Amon_E3SM-2-0_hist-aer_r5i1p1f1_gr_185001-189912.nc'},\n",
       " {'filename': 'tas_Amon_E3SM-2-0_hist-aer_r5i1p1f1_gr_190001-194912.nc',\n",
       "  'url': 'https://esgf-data2.llnl.gov/thredds/fileServer/user_pub_work/CMIP6/DAMIP/E3SM-Project/E3SM-2-0/hist-aer/r5i1p1f1/Amon/tas/gr/v20220907/tas_Amon_E3SM-2-0_hist-aer_r5i1p1f1_gr_190001-194912.nc'},\n",
       " {'filename': 'tas_Amon_E3SM-2-0_hist-aer_r5i1p1f1_gr_195001-199912.nc',\n",
       "  'url': 'https://esgf-data2.llnl.gov/thredds/fileServer/user_pub_work/CMIP6/DAMIP/E3SM-Project/E3SM-2-0/hist-aer/r5i1p1f1/Amon/tas/gr/v20220907/tas_Amon_E3SM-2-0_hist-aer_r5i1p1f1_gr_195001-199912.nc'},\n",
       " {'filename': 'tas_Amon_E3SM-2-0_hist-aer_r5i1p1f1_gr_200001-201412.nc',\n",
       "  'url': 'https://esgf-data2.llnl.gov/thredds/fileServer/user_pub_work/CMIP6/DAMIP/E3SM-Project/E3SM-2-0/hist-aer/r5i1p1f1/Amon/tas/gr/v20220907/tas_Amon_E3SM-2-0_hist-aer_r5i1p1f1_gr_200001-201412.nc'}]"
      ]
     },
     "execution_count": 8,
     "metadata": {},
     "output_type": "execute_result"
    }
   ],
   "source": [
    "files_list_mt = extract_file_context_multithread(results)\n",
    "\n",
    "files_list_mt"
   ]
  },
  {
   "cell_type": "code",
   "execution_count": 9,
   "metadata": {},
   "outputs": [],
   "source": [
    "files_list = files_list_mt"
   ]
  },
  {
   "cell_type": "code",
   "execution_count": 11,
   "metadata": {},
   "outputs": [
    {
     "name": "stdout",
     "output_type": "stream",
     "text": [
      "<class 'list'>\n"
     ]
    },
    {
     "data": {
      "text/html": [
       "<div>\n",
       "<style scoped>\n",
       "    .dataframe tbody tr th:only-of-type {\n",
       "        vertical-align: middle;\n",
       "    }\n",
       "\n",
       "    .dataframe tbody tr th {\n",
       "        vertical-align: top;\n",
       "    }\n",
       "\n",
       "    .dataframe thead th {\n",
       "        text-align: right;\n",
       "    }\n",
       "</style>\n",
       "<table border=\"1\" class=\"dataframe\">\n",
       "  <thead>\n",
       "    <tr style=\"text-align: right;\">\n",
       "      <th></th>\n",
       "      <th>filename</th>\n",
       "      <th>url</th>\n",
       "    </tr>\n",
       "  </thead>\n",
       "  <tbody>\n",
       "    <tr>\n",
       "      <th>0</th>\n",
       "      <td>tas_Amon_E3SM-2-0_hist-aer_r2i1p1f1_gr_185001-...</td>\n",
       "      <td>https://esgf-data2.llnl.gov/thredds/fileServer...</td>\n",
       "    </tr>\n",
       "    <tr>\n",
       "      <th>1</th>\n",
       "      <td>tas_Amon_E3SM-2-0_hist-aer_r2i1p1f1_gr_190001-...</td>\n",
       "      <td>https://esgf-data2.llnl.gov/thredds/fileServer...</td>\n",
       "    </tr>\n",
       "    <tr>\n",
       "      <th>2</th>\n",
       "      <td>tas_Amon_E3SM-2-0_hist-aer_r2i1p1f1_gr_195001-...</td>\n",
       "      <td>https://esgf-data2.llnl.gov/thredds/fileServer...</td>\n",
       "    </tr>\n",
       "    <tr>\n",
       "      <th>3</th>\n",
       "      <td>tas_Amon_E3SM-2-0_hist-aer_r2i1p1f1_gr_200001-...</td>\n",
       "      <td>https://esgf-data2.llnl.gov/thredds/fileServer...</td>\n",
       "    </tr>\n",
       "    <tr>\n",
       "      <th>4</th>\n",
       "      <td>tas_Amon_E3SM-2-0_hist-aer_r1i1p1f1_gr_185001-...</td>\n",
       "      <td>https://esgf-data2.llnl.gov/thredds/fileServer...</td>\n",
       "    </tr>\n",
       "    <tr>\n",
       "      <th>5</th>\n",
       "      <td>tas_Amon_E3SM-2-0_hist-aer_r1i1p1f1_gr_190001-...</td>\n",
       "      <td>https://esgf-data2.llnl.gov/thredds/fileServer...</td>\n",
       "    </tr>\n",
       "    <tr>\n",
       "      <th>6</th>\n",
       "      <td>tas_Amon_E3SM-2-0_hist-aer_r1i1p1f1_gr_195001-...</td>\n",
       "      <td>https://esgf-data2.llnl.gov/thredds/fileServer...</td>\n",
       "    </tr>\n",
       "    <tr>\n",
       "      <th>7</th>\n",
       "      <td>tas_Amon_E3SM-2-0_hist-aer_r1i1p1f1_gr_200001-...</td>\n",
       "      <td>https://esgf-data2.llnl.gov/thredds/fileServer...</td>\n",
       "    </tr>\n",
       "    <tr>\n",
       "      <th>8</th>\n",
       "      <td>tas_Amon_E3SM-2-0_hist-aer_r3i1p1f1_gr_185001-...</td>\n",
       "      <td>https://esgf-data2.llnl.gov/thredds/fileServer...</td>\n",
       "    </tr>\n",
       "    <tr>\n",
       "      <th>9</th>\n",
       "      <td>tas_Amon_E3SM-2-0_hist-aer_r3i1p1f1_gr_190001-...</td>\n",
       "      <td>https://esgf-data2.llnl.gov/thredds/fileServer...</td>\n",
       "    </tr>\n",
       "    <tr>\n",
       "      <th>10</th>\n",
       "      <td>tas_Amon_E3SM-2-0_hist-aer_r3i1p1f1_gr_195001-...</td>\n",
       "      <td>https://esgf-data2.llnl.gov/thredds/fileServer...</td>\n",
       "    </tr>\n",
       "    <tr>\n",
       "      <th>11</th>\n",
       "      <td>tas_Amon_E3SM-2-0_hist-aer_r3i1p1f1_gr_200001-...</td>\n",
       "      <td>https://esgf-data2.llnl.gov/thredds/fileServer...</td>\n",
       "    </tr>\n",
       "    <tr>\n",
       "      <th>12</th>\n",
       "      <td>tas_Amon_E3SM-2-0_hist-aer_r4i1p1f1_gr_185001-...</td>\n",
       "      <td>https://esgf-data2.llnl.gov/thredds/fileServer...</td>\n",
       "    </tr>\n",
       "    <tr>\n",
       "      <th>13</th>\n",
       "      <td>tas_Amon_E3SM-2-0_hist-aer_r4i1p1f1_gr_190001-...</td>\n",
       "      <td>https://esgf-data2.llnl.gov/thredds/fileServer...</td>\n",
       "    </tr>\n",
       "    <tr>\n",
       "      <th>14</th>\n",
       "      <td>tas_Amon_E3SM-2-0_hist-aer_r4i1p1f1_gr_195001-...</td>\n",
       "      <td>https://esgf-data2.llnl.gov/thredds/fileServer...</td>\n",
       "    </tr>\n",
       "    <tr>\n",
       "      <th>15</th>\n",
       "      <td>tas_Amon_E3SM-2-0_hist-aer_r4i1p1f1_gr_200001-...</td>\n",
       "      <td>https://esgf-data2.llnl.gov/thredds/fileServer...</td>\n",
       "    </tr>\n",
       "    <tr>\n",
       "      <th>16</th>\n",
       "      <td>tas_Amon_E3SM-2-0_hist-aer_r5i1p1f1_gr_185001-...</td>\n",
       "      <td>https://esgf-data2.llnl.gov/thredds/fileServer...</td>\n",
       "    </tr>\n",
       "    <tr>\n",
       "      <th>17</th>\n",
       "      <td>tas_Amon_E3SM-2-0_hist-aer_r5i1p1f1_gr_190001-...</td>\n",
       "      <td>https://esgf-data2.llnl.gov/thredds/fileServer...</td>\n",
       "    </tr>\n",
       "    <tr>\n",
       "      <th>18</th>\n",
       "      <td>tas_Amon_E3SM-2-0_hist-aer_r5i1p1f1_gr_195001-...</td>\n",
       "      <td>https://esgf-data2.llnl.gov/thredds/fileServer...</td>\n",
       "    </tr>\n",
       "    <tr>\n",
       "      <th>19</th>\n",
       "      <td>tas_Amon_E3SM-2-0_hist-aer_r5i1p1f1_gr_200001-...</td>\n",
       "      <td>https://esgf-data2.llnl.gov/thredds/fileServer...</td>\n",
       "    </tr>\n",
       "  </tbody>\n",
       "</table>\n",
       "</div>"
      ],
      "text/plain": [
       "                                             filename  \\\n",
       "0   tas_Amon_E3SM-2-0_hist-aer_r2i1p1f1_gr_185001-...   \n",
       "1   tas_Amon_E3SM-2-0_hist-aer_r2i1p1f1_gr_190001-...   \n",
       "2   tas_Amon_E3SM-2-0_hist-aer_r2i1p1f1_gr_195001-...   \n",
       "3   tas_Amon_E3SM-2-0_hist-aer_r2i1p1f1_gr_200001-...   \n",
       "4   tas_Amon_E3SM-2-0_hist-aer_r1i1p1f1_gr_185001-...   \n",
       "5   tas_Amon_E3SM-2-0_hist-aer_r1i1p1f1_gr_190001-...   \n",
       "6   tas_Amon_E3SM-2-0_hist-aer_r1i1p1f1_gr_195001-...   \n",
       "7   tas_Amon_E3SM-2-0_hist-aer_r1i1p1f1_gr_200001-...   \n",
       "8   tas_Amon_E3SM-2-0_hist-aer_r3i1p1f1_gr_185001-...   \n",
       "9   tas_Amon_E3SM-2-0_hist-aer_r3i1p1f1_gr_190001-...   \n",
       "10  tas_Amon_E3SM-2-0_hist-aer_r3i1p1f1_gr_195001-...   \n",
       "11  tas_Amon_E3SM-2-0_hist-aer_r3i1p1f1_gr_200001-...   \n",
       "12  tas_Amon_E3SM-2-0_hist-aer_r4i1p1f1_gr_185001-...   \n",
       "13  tas_Amon_E3SM-2-0_hist-aer_r4i1p1f1_gr_190001-...   \n",
       "14  tas_Amon_E3SM-2-0_hist-aer_r4i1p1f1_gr_195001-...   \n",
       "15  tas_Amon_E3SM-2-0_hist-aer_r4i1p1f1_gr_200001-...   \n",
       "16  tas_Amon_E3SM-2-0_hist-aer_r5i1p1f1_gr_185001-...   \n",
       "17  tas_Amon_E3SM-2-0_hist-aer_r5i1p1f1_gr_190001-...   \n",
       "18  tas_Amon_E3SM-2-0_hist-aer_r5i1p1f1_gr_195001-...   \n",
       "19  tas_Amon_E3SM-2-0_hist-aer_r5i1p1f1_gr_200001-...   \n",
       "\n",
       "                                                  url  \n",
       "0   https://esgf-data2.llnl.gov/thredds/fileServer...  \n",
       "1   https://esgf-data2.llnl.gov/thredds/fileServer...  \n",
       "2   https://esgf-data2.llnl.gov/thredds/fileServer...  \n",
       "3   https://esgf-data2.llnl.gov/thredds/fileServer...  \n",
       "4   https://esgf-data2.llnl.gov/thredds/fileServer...  \n",
       "5   https://esgf-data2.llnl.gov/thredds/fileServer...  \n",
       "6   https://esgf-data2.llnl.gov/thredds/fileServer...  \n",
       "7   https://esgf-data2.llnl.gov/thredds/fileServer...  \n",
       "8   https://esgf-data2.llnl.gov/thredds/fileServer...  \n",
       "9   https://esgf-data2.llnl.gov/thredds/fileServer...  \n",
       "10  https://esgf-data2.llnl.gov/thredds/fileServer...  \n",
       "11  https://esgf-data2.llnl.gov/thredds/fileServer...  \n",
       "12  https://esgf-data2.llnl.gov/thredds/fileServer...  \n",
       "13  https://esgf-data2.llnl.gov/thredds/fileServer...  \n",
       "14  https://esgf-data2.llnl.gov/thredds/fileServer...  \n",
       "15  https://esgf-data2.llnl.gov/thredds/fileServer...  \n",
       "16  https://esgf-data2.llnl.gov/thredds/fileServer...  \n",
       "17  https://esgf-data2.llnl.gov/thredds/fileServer...  \n",
       "18  https://esgf-data2.llnl.gov/thredds/fileServer...  \n",
       "19  https://esgf-data2.llnl.gov/thredds/fileServer...  "
      ]
     },
     "execution_count": 11,
     "metadata": {},
     "output_type": "execute_result"
    }
   ],
   "source": [
    "# Print the type of the files list\n",
    "print(type(files_list))\n",
    "\n",
    "# Extract this into a dataframe\n",
    "files_df = pd.DataFrame.from_dict(files_list)\n",
    "files_df\n",
    "\n",
    "# Assert that all filenames contrain the string \"185001\" and \"202012\"\n",
    "# assert all(files_df['filename'].str.contains('185001')), \"Not all filenames contain the string 185001\"\n",
    "# assert all(files_df['filename'].str.contains('202012')), \"Not all filenames contain the string 202012\"\n",
    "\n",
    "files_df"
   ]
  },
  {
   "cell_type": "code",
   "execution_count": 12,
   "metadata": {},
   "outputs": [
    {
     "name": "stdout",
     "output_type": "stream",
     "text": [
      "E3SM-Project\n",
      "File does not exist for tas_Amon_E3SM-2-0_hist-aer_r2i1p1f1_gr_185001-189912.nc\n",
      "E3SM-Project\n",
      "File does not exist for tas_Amon_E3SM-2-0_hist-aer_r2i1p1f1_gr_190001-194912.nc\n",
      "E3SM-Project\n",
      "File does not exist for tas_Amon_E3SM-2-0_hist-aer_r2i1p1f1_gr_195001-199912.nc\n",
      "E3SM-Project\n",
      "File does not exist for tas_Amon_E3SM-2-0_hist-aer_r2i1p1f1_gr_200001-201412.nc\n",
      "E3SM-Project\n",
      "File does not exist for tas_Amon_E3SM-2-0_hist-aer_r1i1p1f1_gr_185001-189912.nc\n",
      "E3SM-Project\n",
      "File does not exist for tas_Amon_E3SM-2-0_hist-aer_r1i1p1f1_gr_190001-194912.nc\n",
      "E3SM-Project\n",
      "File does not exist for tas_Amon_E3SM-2-0_hist-aer_r1i1p1f1_gr_195001-199912.nc\n",
      "E3SM-Project\n",
      "File does not exist for tas_Amon_E3SM-2-0_hist-aer_r1i1p1f1_gr_200001-201412.nc\n",
      "E3SM-Project\n",
      "File does not exist for tas_Amon_E3SM-2-0_hist-aer_r3i1p1f1_gr_185001-189912.nc\n",
      "E3SM-Project\n",
      "File does not exist for tas_Amon_E3SM-2-0_hist-aer_r3i1p1f1_gr_190001-194912.nc\n",
      "E3SM-Project\n",
      "File does not exist for tas_Amon_E3SM-2-0_hist-aer_r3i1p1f1_gr_195001-199912.nc\n",
      "E3SM-Project\n",
      "File does not exist for tas_Amon_E3SM-2-0_hist-aer_r3i1p1f1_gr_200001-201412.nc\n",
      "E3SM-Project\n",
      "File does not exist for tas_Amon_E3SM-2-0_hist-aer_r4i1p1f1_gr_185001-189912.nc\n",
      "E3SM-Project\n",
      "File does not exist for tas_Amon_E3SM-2-0_hist-aer_r4i1p1f1_gr_190001-194912.nc\n",
      "E3SM-Project\n",
      "File does not exist for tas_Amon_E3SM-2-0_hist-aer_r4i1p1f1_gr_195001-199912.nc\n",
      "E3SM-Project\n",
      "File does not exist for tas_Amon_E3SM-2-0_hist-aer_r4i1p1f1_gr_200001-201412.nc\n",
      "E3SM-Project\n",
      "File does not exist for tas_Amon_E3SM-2-0_hist-aer_r5i1p1f1_gr_185001-189912.nc\n",
      "E3SM-Project\n",
      "File does not exist for tas_Amon_E3SM-2-0_hist-aer_r5i1p1f1_gr_190001-194912.nc\n",
      "E3SM-Project\n",
      "File does not exist for tas_Amon_E3SM-2-0_hist-aer_r5i1p1f1_gr_195001-199912.nc\n",
      "E3SM-Project\n",
      "File does not exist for tas_Amon_E3SM-2-0_hist-aer_r5i1p1f1_gr_200001-201412.nc\n"
     ]
    },
    {
     "data": {
      "text/html": [
       "<div>\n",
       "<style scoped>\n",
       "    .dataframe tbody tr th:only-of-type {\n",
       "        vertical-align: middle;\n",
       "    }\n",
       "\n",
       "    .dataframe tbody tr th {\n",
       "        vertical-align: top;\n",
       "    }\n",
       "\n",
       "    .dataframe thead th {\n",
       "        text-align: right;\n",
       "    }\n",
       "</style>\n",
       "<table border=\"1\" class=\"dataframe\">\n",
       "  <thead>\n",
       "    <tr style=\"text-align: right;\">\n",
       "      <th></th>\n",
       "      <th>filename</th>\n",
       "      <th>url</th>\n",
       "      <th>file_exists</th>\n",
       "    </tr>\n",
       "  </thead>\n",
       "  <tbody>\n",
       "    <tr>\n",
       "      <th>0</th>\n",
       "      <td>tas_Amon_E3SM-2-0_hist-aer_r2i1p1f1_gr_185001-...</td>\n",
       "      <td>https://esgf-data2.llnl.gov/thredds/fileServer...</td>\n",
       "      <td>False</td>\n",
       "    </tr>\n",
       "    <tr>\n",
       "      <th>1</th>\n",
       "      <td>tas_Amon_E3SM-2-0_hist-aer_r2i1p1f1_gr_190001-...</td>\n",
       "      <td>https://esgf-data2.llnl.gov/thredds/fileServer...</td>\n",
       "      <td>False</td>\n",
       "    </tr>\n",
       "    <tr>\n",
       "      <th>2</th>\n",
       "      <td>tas_Amon_E3SM-2-0_hist-aer_r2i1p1f1_gr_195001-...</td>\n",
       "      <td>https://esgf-data2.llnl.gov/thredds/fileServer...</td>\n",
       "      <td>False</td>\n",
       "    </tr>\n",
       "    <tr>\n",
       "      <th>3</th>\n",
       "      <td>tas_Amon_E3SM-2-0_hist-aer_r2i1p1f1_gr_200001-...</td>\n",
       "      <td>https://esgf-data2.llnl.gov/thredds/fileServer...</td>\n",
       "      <td>False</td>\n",
       "    </tr>\n",
       "    <tr>\n",
       "      <th>4</th>\n",
       "      <td>tas_Amon_E3SM-2-0_hist-aer_r1i1p1f1_gr_185001-...</td>\n",
       "      <td>https://esgf-data2.llnl.gov/thredds/fileServer...</td>\n",
       "      <td>False</td>\n",
       "    </tr>\n",
       "    <tr>\n",
       "      <th>5</th>\n",
       "      <td>tas_Amon_E3SM-2-0_hist-aer_r1i1p1f1_gr_190001-...</td>\n",
       "      <td>https://esgf-data2.llnl.gov/thredds/fileServer...</td>\n",
       "      <td>False</td>\n",
       "    </tr>\n",
       "    <tr>\n",
       "      <th>6</th>\n",
       "      <td>tas_Amon_E3SM-2-0_hist-aer_r1i1p1f1_gr_195001-...</td>\n",
       "      <td>https://esgf-data2.llnl.gov/thredds/fileServer...</td>\n",
       "      <td>False</td>\n",
       "    </tr>\n",
       "    <tr>\n",
       "      <th>7</th>\n",
       "      <td>tas_Amon_E3SM-2-0_hist-aer_r1i1p1f1_gr_200001-...</td>\n",
       "      <td>https://esgf-data2.llnl.gov/thredds/fileServer...</td>\n",
       "      <td>False</td>\n",
       "    </tr>\n",
       "    <tr>\n",
       "      <th>8</th>\n",
       "      <td>tas_Amon_E3SM-2-0_hist-aer_r3i1p1f1_gr_185001-...</td>\n",
       "      <td>https://esgf-data2.llnl.gov/thredds/fileServer...</td>\n",
       "      <td>False</td>\n",
       "    </tr>\n",
       "    <tr>\n",
       "      <th>9</th>\n",
       "      <td>tas_Amon_E3SM-2-0_hist-aer_r3i1p1f1_gr_190001-...</td>\n",
       "      <td>https://esgf-data2.llnl.gov/thredds/fileServer...</td>\n",
       "      <td>False</td>\n",
       "    </tr>\n",
       "    <tr>\n",
       "      <th>10</th>\n",
       "      <td>tas_Amon_E3SM-2-0_hist-aer_r3i1p1f1_gr_195001-...</td>\n",
       "      <td>https://esgf-data2.llnl.gov/thredds/fileServer...</td>\n",
       "      <td>False</td>\n",
       "    </tr>\n",
       "    <tr>\n",
       "      <th>11</th>\n",
       "      <td>tas_Amon_E3SM-2-0_hist-aer_r3i1p1f1_gr_200001-...</td>\n",
       "      <td>https://esgf-data2.llnl.gov/thredds/fileServer...</td>\n",
       "      <td>False</td>\n",
       "    </tr>\n",
       "    <tr>\n",
       "      <th>12</th>\n",
       "      <td>tas_Amon_E3SM-2-0_hist-aer_r4i1p1f1_gr_185001-...</td>\n",
       "      <td>https://esgf-data2.llnl.gov/thredds/fileServer...</td>\n",
       "      <td>False</td>\n",
       "    </tr>\n",
       "    <tr>\n",
       "      <th>13</th>\n",
       "      <td>tas_Amon_E3SM-2-0_hist-aer_r4i1p1f1_gr_190001-...</td>\n",
       "      <td>https://esgf-data2.llnl.gov/thredds/fileServer...</td>\n",
       "      <td>False</td>\n",
       "    </tr>\n",
       "    <tr>\n",
       "      <th>14</th>\n",
       "      <td>tas_Amon_E3SM-2-0_hist-aer_r4i1p1f1_gr_195001-...</td>\n",
       "      <td>https://esgf-data2.llnl.gov/thredds/fileServer...</td>\n",
       "      <td>False</td>\n",
       "    </tr>\n",
       "    <tr>\n",
       "      <th>15</th>\n",
       "      <td>tas_Amon_E3SM-2-0_hist-aer_r4i1p1f1_gr_200001-...</td>\n",
       "      <td>https://esgf-data2.llnl.gov/thredds/fileServer...</td>\n",
       "      <td>False</td>\n",
       "    </tr>\n",
       "    <tr>\n",
       "      <th>16</th>\n",
       "      <td>tas_Amon_E3SM-2-0_hist-aer_r5i1p1f1_gr_185001-...</td>\n",
       "      <td>https://esgf-data2.llnl.gov/thredds/fileServer...</td>\n",
       "      <td>False</td>\n",
       "    </tr>\n",
       "    <tr>\n",
       "      <th>17</th>\n",
       "      <td>tas_Amon_E3SM-2-0_hist-aer_r5i1p1f1_gr_190001-...</td>\n",
       "      <td>https://esgf-data2.llnl.gov/thredds/fileServer...</td>\n",
       "      <td>False</td>\n",
       "    </tr>\n",
       "    <tr>\n",
       "      <th>18</th>\n",
       "      <td>tas_Amon_E3SM-2-0_hist-aer_r5i1p1f1_gr_195001-...</td>\n",
       "      <td>https://esgf-data2.llnl.gov/thredds/fileServer...</td>\n",
       "      <td>False</td>\n",
       "    </tr>\n",
       "    <tr>\n",
       "      <th>19</th>\n",
       "      <td>tas_Amon_E3SM-2-0_hist-aer_r5i1p1f1_gr_200001-...</td>\n",
       "      <td>https://esgf-data2.llnl.gov/thredds/fileServer...</td>\n",
       "      <td>False</td>\n",
       "    </tr>\n",
       "  </tbody>\n",
       "</table>\n",
       "</div>"
      ],
      "text/plain": [
       "                                             filename  \\\n",
       "0   tas_Amon_E3SM-2-0_hist-aer_r2i1p1f1_gr_185001-...   \n",
       "1   tas_Amon_E3SM-2-0_hist-aer_r2i1p1f1_gr_190001-...   \n",
       "2   tas_Amon_E3SM-2-0_hist-aer_r2i1p1f1_gr_195001-...   \n",
       "3   tas_Amon_E3SM-2-0_hist-aer_r2i1p1f1_gr_200001-...   \n",
       "4   tas_Amon_E3SM-2-0_hist-aer_r1i1p1f1_gr_185001-...   \n",
       "5   tas_Amon_E3SM-2-0_hist-aer_r1i1p1f1_gr_190001-...   \n",
       "6   tas_Amon_E3SM-2-0_hist-aer_r1i1p1f1_gr_195001-...   \n",
       "7   tas_Amon_E3SM-2-0_hist-aer_r1i1p1f1_gr_200001-...   \n",
       "8   tas_Amon_E3SM-2-0_hist-aer_r3i1p1f1_gr_185001-...   \n",
       "9   tas_Amon_E3SM-2-0_hist-aer_r3i1p1f1_gr_190001-...   \n",
       "10  tas_Amon_E3SM-2-0_hist-aer_r3i1p1f1_gr_195001-...   \n",
       "11  tas_Amon_E3SM-2-0_hist-aer_r3i1p1f1_gr_200001-...   \n",
       "12  tas_Amon_E3SM-2-0_hist-aer_r4i1p1f1_gr_185001-...   \n",
       "13  tas_Amon_E3SM-2-0_hist-aer_r4i1p1f1_gr_190001-...   \n",
       "14  tas_Amon_E3SM-2-0_hist-aer_r4i1p1f1_gr_195001-...   \n",
       "15  tas_Amon_E3SM-2-0_hist-aer_r4i1p1f1_gr_200001-...   \n",
       "16  tas_Amon_E3SM-2-0_hist-aer_r5i1p1f1_gr_185001-...   \n",
       "17  tas_Amon_E3SM-2-0_hist-aer_r5i1p1f1_gr_190001-...   \n",
       "18  tas_Amon_E3SM-2-0_hist-aer_r5i1p1f1_gr_195001-...   \n",
       "19  tas_Amon_E3SM-2-0_hist-aer_r5i1p1f1_gr_200001-...   \n",
       "\n",
       "                                                  url  file_exists  \n",
       "0   https://esgf-data2.llnl.gov/thredds/fileServer...        False  \n",
       "1   https://esgf-data2.llnl.gov/thredds/fileServer...        False  \n",
       "2   https://esgf-data2.llnl.gov/thredds/fileServer...        False  \n",
       "3   https://esgf-data2.llnl.gov/thredds/fileServer...        False  \n",
       "4   https://esgf-data2.llnl.gov/thredds/fileServer...        False  \n",
       "5   https://esgf-data2.llnl.gov/thredds/fileServer...        False  \n",
       "6   https://esgf-data2.llnl.gov/thredds/fileServer...        False  \n",
       "7   https://esgf-data2.llnl.gov/thredds/fileServer...        False  \n",
       "8   https://esgf-data2.llnl.gov/thredds/fileServer...        False  \n",
       "9   https://esgf-data2.llnl.gov/thredds/fileServer...        False  \n",
       "10  https://esgf-data2.llnl.gov/thredds/fileServer...        False  \n",
       "11  https://esgf-data2.llnl.gov/thredds/fileServer...        False  \n",
       "12  https://esgf-data2.llnl.gov/thredds/fileServer...        False  \n",
       "13  https://esgf-data2.llnl.gov/thredds/fileServer...        False  \n",
       "14  https://esgf-data2.llnl.gov/thredds/fileServer...        False  \n",
       "15  https://esgf-data2.llnl.gov/thredds/fileServer...        False  \n",
       "16  https://esgf-data2.llnl.gov/thredds/fileServer...        False  \n",
       "17  https://esgf-data2.llnl.gov/thredds/fileServer...        False  \n",
       "18  https://esgf-data2.llnl.gov/thredds/fileServer...        False  \n",
       "19  https://esgf-data2.llnl.gov/thredds/fileServer...        False  "
      ]
     },
     "execution_count": 12,
     "metadata": {},
     "output_type": "execute_result"
    }
   ],
   "source": [
    "import glob\n",
    "\n",
    "# We want to verify whether these files exist on JASMIN\n",
    "damip_dir = \"/badc/cmip6/data/CMIP6/DAMIP/\"\n",
    "\n",
    "# Test the function\n",
    "files_df = check_file_exists_jasmin(files_df, damip_dir)\n",
    "\n",
    "files_df"
   ]
  },
  {
   "cell_type": "code",
   "execution_count": 10,
   "metadata": {},
   "outputs": [
    {
     "name": "stdout",
     "output_type": "stream",
     "text": [
      "/gws/nopw/j04/scenario/users/benhutch/DAMIP/hist-aer/tas/CanESM5\n",
      "Downloading tas_Amon_CanESM5_hist-aer_r1i1p1f1_gn_185001-202012.nc from http://crd-esgf-drc.ec.gc.ca/thredds/fileServer/esgE_dataroot/AR6/CMIP6/DAMIP/CCCma/CanESM5/hist-aer/r1i1p1f1/Amon/tas/gn/v20190429/tas_Amon_CanESM5_hist-aer_r1i1p1f1_gn_185001-202012.nc\n",
      "Saving to /gws/nopw/j04/scenario/users/benhutch/DAMIP/hist-aer/tas/CanESM5tas_Amon_CanESM5_hist-aer_r1i1p1f1_gn_185001-202012.nc\n"
     ]
    },
    {
     "name": "stderr",
     "output_type": "stream",
     "text": [
      "53.1kKiB [00:46, 1.13kKiB/s]                          \n"
     ]
    },
    {
     "name": "stdout",
     "output_type": "stream",
     "text": [
      "Downloaded size does not match expected size!\n",
      " FYI, the status code was  200\n"
     ]
    }
   ],
   "source": [
    "# Set up the directory to download to\n",
    "download_dir = \"/gws/nopw/j04/scenario/users/benhutch/DAMIP\"\n",
    "\n",
    "# Set up the variable\n",
    "variable = 'tas'\n",
    "\n",
    "# Set up the experiment id\n",
    "experiment_id = 'hist-aer'\n",
    "\n",
    "# Set up the model\n",
    "model = 'CanESM5'\n",
    "\n",
    "# Set up the directory\n",
    "download_path = os.path.join(download_dir, experiment_id, \n",
    "                             variable, model)\n",
    "\n",
    "# Print the download path\n",
    "print(download_path)\n",
    "\n",
    "# Use the download function to download a single file\n",
    "download_file(files_df['url'][0], \n",
    "              files_df['filename'][0], download_path)"
   ]
  },
  {
   "cell_type": "code",
   "execution_count": 11,
   "metadata": {},
   "outputs": [
    {
     "name": "stderr",
     "output_type": "stream",
     "text": [
      "  0%|          | 0/5 [00:00<?, ?it/s]"
     ]
    },
    {
     "name": "stdout",
     "output_type": "stream",
     "text": [
      "Downloading tas_Amon_CanESM5_hist-aer_r1i1p1f1_gn_185001-202012.nc from http://crd-esgf-drc.ec.gc.ca/thredds/fileServer/esgE_dataroot/AR6/CMIP6/DAMIP/CCCma/CanESM5/hist-aer/r1i1p1f1/Amon/tas/gn/v20190429/tas_Amon_CanESM5_hist-aer_r1i1p1f1_gn_185001-202012.nc\n",
      "Saving to /gws/nopw/j04/scenario/users/benhutch/DAMIP/hist-aer/tas/CanESM5tas_Amon_CanESM5_hist-aer_r1i1p1f1_gn_185001-202012.nc\n"
     ]
    },
    {
     "name": "stderr",
     "output_type": "stream",
     "text": [
      "53.1kKiB [00:05, 10.5kKiB/s]                          \n",
      " 20%|██        | 1/5 [00:05<00:23,  5.86s/it]"
     ]
    },
    {
     "name": "stdout",
     "output_type": "stream",
     "text": [
      "Downloaded size does not match expected size!\n",
      " FYI, the status code was  200\n",
      "Downloading tas_Amon_CanESM5_hist-aer_r4i1p1f1_gn_185001-202012.nc from http://crd-esgf-drc.ec.gc.ca/thredds/fileServer/esgE_dataroot/AR6/CMIP6/DAMIP/CCCma/CanESM5/hist-aer/r4i1p1f1/Amon/tas/gn/v20190429/tas_Amon_CanESM5_hist-aer_r4i1p1f1_gn_185001-202012.nc\n",
      "Saving to /gws/nopw/j04/scenario/users/benhutch/DAMIP/hist-aer/tas/CanESM5tas_Amon_CanESM5_hist-aer_r4i1p1f1_gn_185001-202012.nc\n"
     ]
    },
    {
     "name": "stderr",
     "output_type": "stream",
     "text": [
      "53.1kKiB [00:02, 22.6kKiB/s]                          \n",
      " 40%|████      | 2/5 [00:08<00:12,  4.25s/it]"
     ]
    },
    {
     "name": "stdout",
     "output_type": "stream",
     "text": [
      "Downloaded size does not match expected size!\n",
      " FYI, the status code was  200\n",
      "Downloading tas_Amon_CanESM5_hist-aer_r2i1p1f1_gn_185001-202012.nc from http://crd-esgf-drc.ec.gc.ca/thredds/fileServer/esgE_dataroot/AR6/CMIP6/DAMIP/CCCma/CanESM5/hist-aer/r2i1p1f1/Amon/tas/gn/v20190429/tas_Amon_CanESM5_hist-aer_r2i1p1f1_gn_185001-202012.nc\n",
      "Saving to /gws/nopw/j04/scenario/users/benhutch/DAMIP/hist-aer/tas/CanESM5tas_Amon_CanESM5_hist-aer_r2i1p1f1_gn_185001-202012.nc\n"
     ]
    },
    {
     "name": "stderr",
     "output_type": "stream",
     "text": [
      "53.1kKiB [00:19, 2.73kKiB/s]                          \n"
     ]
    },
    {
     "name": "stdout",
     "output_type": "stream",
     "text": [
      "Downloaded size does not match expected size!\n",
      " FYI, the status code was  200\n"
     ]
    },
    {
     "name": "stderr",
     "output_type": "stream",
     "text": [
      " 60%|██████    | 3/5 [00:29<00:23, 11.58s/it]"
     ]
    },
    {
     "name": "stdout",
     "output_type": "stream",
     "text": [
      "Downloading tas_Amon_CanESM5_hist-aer_r5i1p1f1_gn_185001-202012.nc from http://crd-esgf-drc.ec.gc.ca/thredds/fileServer/esgE_dataroot/AR6/CMIP6/DAMIP/CCCma/CanESM5/hist-aer/r5i1p1f1/Amon/tas/gn/v20190429/tas_Amon_CanESM5_hist-aer_r5i1p1f1_gn_185001-202012.nc\n",
      "Saving to /gws/nopw/j04/scenario/users/benhutch/DAMIP/hist-aer/tas/CanESM5tas_Amon_CanESM5_hist-aer_r5i1p1f1_gn_185001-202012.nc\n"
     ]
    },
    {
     "name": "stderr",
     "output_type": "stream",
     "text": [
      "53.1kKiB [00:02, 23.0kKiB/s]                          \n",
      " 80%|████████  | 4/5 [00:32<00:08,  8.18s/it]"
     ]
    },
    {
     "name": "stdout",
     "output_type": "stream",
     "text": [
      "Downloaded size does not match expected size!\n",
      " FYI, the status code was  200\n",
      "Downloading tas_Amon_CanESM5_hist-aer_r3i1p1f1_gn_185001-202012.nc from http://crd-esgf-drc.ec.gc.ca/thredds/fileServer/esgE_dataroot/AR6/CMIP6/DAMIP/CCCma/CanESM5/hist-aer/r3i1p1f1/Amon/tas/gn/v20190429/tas_Amon_CanESM5_hist-aer_r3i1p1f1_gn_185001-202012.nc\n",
      "Saving to /gws/nopw/j04/scenario/users/benhutch/DAMIP/hist-aer/tas/CanESM5tas_Amon_CanESM5_hist-aer_r3i1p1f1_gn_185001-202012.nc\n"
     ]
    },
    {
     "name": "stderr",
     "output_type": "stream",
     "text": [
      "53.1kKiB [00:13, 3.82kKiB/s]                          \n",
      "100%|██████████| 5/5 [00:46<00:00,  9.39s/it]"
     ]
    },
    {
     "name": "stdout",
     "output_type": "stream",
     "text": [
      "Downloaded size does not match expected size!\n",
      " FYI, the status code was  200\n"
     ]
    },
    {
     "name": "stderr",
     "output_type": "stream",
     "text": [
      "\n"
     ]
    }
   ],
   "source": [
    "# Download all the files\n",
    "for i in tqdm(range(len(files_df))):\n",
    "    download_file(files_df['url'][i], \n",
    "                  files_df['filename'][i], download_path)"
   ]
  }
 ],
 "metadata": {
  "kernelspec": {
   "display_name": "Python 3",
   "language": "python",
   "name": "python3"
  },
  "language_info": {
   "codemirror_mode": {
    "name": "ipython",
    "version": 3
   },
   "file_extension": ".py",
   "mimetype": "text/x-python",
   "name": "python",
   "nbconvert_exporter": "python",
   "pygments_lexer": "ipython3",
   "version": "3.10.5"
  }
 },
 "nbformat": 4,
 "nbformat_minor": 2
}
