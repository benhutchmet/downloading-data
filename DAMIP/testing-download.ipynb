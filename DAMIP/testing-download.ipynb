{
 "cells": [
  {
   "cell_type": "code",
   "execution_count": 1,
   "metadata": {},
   "outputs": [],
   "source": [
    "# Testing the downloading data method from:\n",
    "# https://claut.gitlab.io/man_ccia/lab2.html\n",
    "# Import the required modules\n",
    "from pyesgf.search import SearchConnection\n",
    "import os\n",
    "import pandas as pd\n",
    "import requests\n",
    "from tqdm import tqdm\n",
    "\n",
    "# Set the os environment to on\n",
    "os.environ['ESGF_PYCLIENT_NO_FACETS_STAR_WARNING'] = \"on\""
   ]
  },
  {
   "cell_type": "code",
   "execution_count": 2,
   "metadata": {},
   "outputs": [],
   "source": [
    "# Import the functions\n",
    "from testing_download_functions import query_data_esgf, extract_file_context, \\\n",
    "                                        download_file, extract_file_context_multithread, \\\n",
    "                                        check_file_exists_jasmin"
   ]
  },
  {
   "cell_type": "code",
   "execution_count": 3,
   "metadata": {},
   "outputs": [],
   "source": [
    "# set the search connection\n",
    "# to the LLNL search node\n",
    "conn = SearchConnection('https://esgf-node.llnl.gov/esg-search', distrib=True)"
   ]
  },
  {
   "cell_type": "code",
   "execution_count": 4,
   "metadata": {},
   "outputs": [
    {
     "name": "stdout",
     "output_type": "stream",
     "text": [
      "<class 'pyesgf.search.connection.SearchConnection'>\n"
     ]
    }
   ],
   "source": [
    "print(type(conn))"
   ]
  },
  {
   "cell_type": "code",
   "execution_count": 5,
   "metadata": {},
   "outputs": [
    {
     "name": "stdout",
     "output_type": "stream",
     "text": [
      "5\n",
      "<class 'pyesgf.search.results.ResultSet'>\n",
      "<pyesgf.search.results.ResultSet object at 0x7f200941ba60>\n"
     ]
    }
   ],
   "source": [
    "# test the function for querying the database\n",
    "results = query_data_esgf(conn,\n",
    "                        source_id='CanESM5',\n",
    "                        experiment_id='hist-aer',\n",
    "                        variable_id='tas',\n",
    "                        table_id='Amon',\n",
    "                        member_id='r1i1p1f1, r2i1p1f1, r3i1p1f1, r4i1p1f1, r5i1p1f1, r15i1p1f1, r14i1p1f1, r15i1p2f1, r14i1p2f1'\n",
    "                        data_node='crd-esgf-drc.ec.gc.ca',)\n",
    "\n",
    "# print the len of the results\n",
    "print(len(results))\n",
    "\n",
    "# print the type of the results\n",
    "print(type(results))\n",
    "\n",
    "# print the results\n",
    "print(results)"
   ]
  },
  {
   "cell_type": "code",
   "execution_count": 6,
   "metadata": {},
   "outputs": [
    {
     "name": "stdout",
     "output_type": "stream",
     "text": [
      "CMIP6.DAMIP.CCCma.CanESM5.hist-aer.r1i1p1f1.Amon.tas.gn.v20190429|crd-esgf-drc.ec.gc.ca\n"
     ]
    }
   ],
   "source": [
    "# Print the details of the first result\n",
    "print(results[0].json['id'])"
   ]
  },
  {
   "cell_type": "code",
   "execution_count": 7,
   "metadata": {},
   "outputs": [],
   "source": [
    "# # Use the function to extract the file context\n",
    "# files_list_mt = extract_file_context_multithread(results)\n",
    "\n",
    "# # Turn the list into a dataframe\n",
    "# files_df_mt = pd.DataFrame.from_dict(files_list_mt)\n",
    "\n",
    "# files_df_mt"
   ]
  },
  {
   "cell_type": "code",
   "execution_count": 8,
   "metadata": {},
   "outputs": [
    {
     "name": "stdout",
     "output_type": "stream",
     "text": [
      "Extracting file context for 5 datasets...\n"
     ]
    }
   ],
   "source": [
    "# Extract the file context\n",
    "files_list = extract_file_context(results)\n",
    "\n",
    "# # Turn the list into a dataframe\n",
    "# files_df = pd.DataFrame.from_dict(files_list)\n",
    "\n",
    "# files_df"
   ]
  },
  {
   "cell_type": "code",
   "execution_count": 9,
   "metadata": {},
   "outputs": [
    {
     "name": "stdout",
     "output_type": "stream",
     "text": [
      "<class 'list'>\n"
     ]
    },
    {
     "data": {
      "text/html": [
       "<div>\n",
       "<style scoped>\n",
       "    .dataframe tbody tr th:only-of-type {\n",
       "        vertical-align: middle;\n",
       "    }\n",
       "\n",
       "    .dataframe tbody tr th {\n",
       "        vertical-align: top;\n",
       "    }\n",
       "\n",
       "    .dataframe thead th {\n",
       "        text-align: right;\n",
       "    }\n",
       "</style>\n",
       "<table border=\"1\" class=\"dataframe\">\n",
       "  <thead>\n",
       "    <tr style=\"text-align: right;\">\n",
       "      <th></th>\n",
       "      <th>filename</th>\n",
       "      <th>url</th>\n",
       "    </tr>\n",
       "  </thead>\n",
       "  <tbody>\n",
       "    <tr>\n",
       "      <th>0</th>\n",
       "      <td>tas_Amon_CanESM5_hist-aer_r1i1p1f1_gn_185001-2...</td>\n",
       "      <td>http://crd-esgf-drc.ec.gc.ca/thredds/fileServe...</td>\n",
       "    </tr>\n",
       "    <tr>\n",
       "      <th>1</th>\n",
       "      <td>tas_Amon_CanESM5_hist-aer_r4i1p1f1_gn_185001-2...</td>\n",
       "      <td>http://crd-esgf-drc.ec.gc.ca/thredds/fileServe...</td>\n",
       "    </tr>\n",
       "    <tr>\n",
       "      <th>2</th>\n",
       "      <td>tas_Amon_CanESM5_hist-aer_r2i1p1f1_gn_185001-2...</td>\n",
       "      <td>http://crd-esgf-drc.ec.gc.ca/thredds/fileServe...</td>\n",
       "    </tr>\n",
       "    <tr>\n",
       "      <th>3</th>\n",
       "      <td>tas_Amon_CanESM5_hist-aer_r5i1p1f1_gn_185001-2...</td>\n",
       "      <td>http://crd-esgf-drc.ec.gc.ca/thredds/fileServe...</td>\n",
       "    </tr>\n",
       "    <tr>\n",
       "      <th>4</th>\n",
       "      <td>tas_Amon_CanESM5_hist-aer_r3i1p1f1_gn_185001-2...</td>\n",
       "      <td>http://crd-esgf-drc.ec.gc.ca/thredds/fileServe...</td>\n",
       "    </tr>\n",
       "  </tbody>\n",
       "</table>\n",
       "</div>"
      ],
      "text/plain": [
       "                                            filename  \\\n",
       "0  tas_Amon_CanESM5_hist-aer_r1i1p1f1_gn_185001-2...   \n",
       "1  tas_Amon_CanESM5_hist-aer_r4i1p1f1_gn_185001-2...   \n",
       "2  tas_Amon_CanESM5_hist-aer_r2i1p1f1_gn_185001-2...   \n",
       "3  tas_Amon_CanESM5_hist-aer_r5i1p1f1_gn_185001-2...   \n",
       "4  tas_Amon_CanESM5_hist-aer_r3i1p1f1_gn_185001-2...   \n",
       "\n",
       "                                                 url  \n",
       "0  http://crd-esgf-drc.ec.gc.ca/thredds/fileServe...  \n",
       "1  http://crd-esgf-drc.ec.gc.ca/thredds/fileServe...  \n",
       "2  http://crd-esgf-drc.ec.gc.ca/thredds/fileServe...  \n",
       "3  http://crd-esgf-drc.ec.gc.ca/thredds/fileServe...  \n",
       "4  http://crd-esgf-drc.ec.gc.ca/thredds/fileServe...  "
      ]
     },
     "execution_count": 9,
     "metadata": {},
     "output_type": "execute_result"
    }
   ],
   "source": [
    "# Print the type of the files list\n",
    "print(type(files_list))\n",
    "\n",
    "# Extract this into a dataframe\n",
    "files_df = pd.DataFrame.from_dict(files_list)\n",
    "files_df\n",
    "\n",
    "# Assert that all filenames contrain the string \"185001\" and \"202012\"\n",
    "assert all(files_df['filename'].str.contains('185001')), \"Not all filenames contain the string 185001\"\n",
    "assert all(files_df['filename'].str.contains('202012')), \"Not all filenames contain the string 202012\"\n",
    "\n",
    "files_df"
   ]
  },
  {
   "cell_type": "code",
   "execution_count": 16,
   "metadata": {},
   "outputs": [
    {
     "name": "stdout",
     "output_type": "stream",
     "text": [
      "CCCma\n",
      "/badc/cmip6/data/CMIP6/DAMIP/CCCma/CanESM5/hist-aer/r1i1p1f1/Amon/tas/gn/files/d*/tas_Amon_CanESM5_hist-aer_r1i1p1f1_gn_185001-202012.nc\n",
      "File exists for tas_Amon_CanESM5_hist-aer_r1i1p1f1_gn_185001-202012.nc\n",
      "CCCma\n",
      "/badc/cmip6/data/CMIP6/DAMIP/CCCma/CanESM5/hist-aer/r4i1p1f1/Amon/tas/gn/files/d*/tas_Amon_CanESM5_hist-aer_r4i1p1f1_gn_185001-202012.nc\n",
      "File exists for tas_Amon_CanESM5_hist-aer_r4i1p1f1_gn_185001-202012.nc\n",
      "CCCma\n",
      "/badc/cmip6/data/CMIP6/DAMIP/CCCma/CanESM5/hist-aer/r2i1p1f1/Amon/tas/gn/files/d*/tas_Amon_CanESM5_hist-aer_r2i1p1f1_gn_185001-202012.nc\n",
      "File exists for tas_Amon_CanESM5_hist-aer_r2i1p1f1_gn_185001-202012.nc\n",
      "CCCma\n",
      "/badc/cmip6/data/CMIP6/DAMIP/CCCma/CanESM5/hist-aer/r5i1p1f1/Amon/tas/gn/files/d*/tas_Amon_CanESM5_hist-aer_r5i1p1f1_gn_185001-202012.nc\n",
      "File exists for tas_Amon_CanESM5_hist-aer_r5i1p1f1_gn_185001-202012.nc\n",
      "CCCma\n",
      "/badc/cmip6/data/CMIP6/DAMIP/CCCma/CanESM5/hist-aer/r3i1p1f1/Amon/tas/gn/files/d*/tas_Amon_CanESM5_hist-aer_r3i1p1f1_gn_185001-202012.nc\n",
      "File exists for tas_Amon_CanESM5_hist-aer_r3i1p1f1_gn_185001-202012.nc\n"
     ]
    },
    {
     "data": {
      "text/html": [
       "<div>\n",
       "<style scoped>\n",
       "    .dataframe tbody tr th:only-of-type {\n",
       "        vertical-align: middle;\n",
       "    }\n",
       "\n",
       "    .dataframe tbody tr th {\n",
       "        vertical-align: top;\n",
       "    }\n",
       "\n",
       "    .dataframe thead th {\n",
       "        text-align: right;\n",
       "    }\n",
       "</style>\n",
       "<table border=\"1\" class=\"dataframe\">\n",
       "  <thead>\n",
       "    <tr style=\"text-align: right;\">\n",
       "      <th></th>\n",
       "      <th>filename</th>\n",
       "      <th>url</th>\n",
       "      <th>file_exists</th>\n",
       "    </tr>\n",
       "  </thead>\n",
       "  <tbody>\n",
       "    <tr>\n",
       "      <th>0</th>\n",
       "      <td>tas_Amon_CanESM5_hist-aer_r1i1p1f1_gn_185001-2...</td>\n",
       "      <td>http://crd-esgf-drc.ec.gc.ca/thredds/fileServe...</td>\n",
       "      <td>True</td>\n",
       "    </tr>\n",
       "    <tr>\n",
       "      <th>1</th>\n",
       "      <td>tas_Amon_CanESM5_hist-aer_r4i1p1f1_gn_185001-2...</td>\n",
       "      <td>http://crd-esgf-drc.ec.gc.ca/thredds/fileServe...</td>\n",
       "      <td>True</td>\n",
       "    </tr>\n",
       "    <tr>\n",
       "      <th>2</th>\n",
       "      <td>tas_Amon_CanESM5_hist-aer_r2i1p1f1_gn_185001-2...</td>\n",
       "      <td>http://crd-esgf-drc.ec.gc.ca/thredds/fileServe...</td>\n",
       "      <td>True</td>\n",
       "    </tr>\n",
       "    <tr>\n",
       "      <th>3</th>\n",
       "      <td>tas_Amon_CanESM5_hist-aer_r5i1p1f1_gn_185001-2...</td>\n",
       "      <td>http://crd-esgf-drc.ec.gc.ca/thredds/fileServe...</td>\n",
       "      <td>True</td>\n",
       "    </tr>\n",
       "    <tr>\n",
       "      <th>4</th>\n",
       "      <td>tas_Amon_CanESM5_hist-aer_r3i1p1f1_gn_185001-2...</td>\n",
       "      <td>http://crd-esgf-drc.ec.gc.ca/thredds/fileServe...</td>\n",
       "      <td>True</td>\n",
       "    </tr>\n",
       "  </tbody>\n",
       "</table>\n",
       "</div>"
      ],
      "text/plain": [
       "                                            filename  \\\n",
       "0  tas_Amon_CanESM5_hist-aer_r1i1p1f1_gn_185001-2...   \n",
       "1  tas_Amon_CanESM5_hist-aer_r4i1p1f1_gn_185001-2...   \n",
       "2  tas_Amon_CanESM5_hist-aer_r2i1p1f1_gn_185001-2...   \n",
       "3  tas_Amon_CanESM5_hist-aer_r5i1p1f1_gn_185001-2...   \n",
       "4  tas_Amon_CanESM5_hist-aer_r3i1p1f1_gn_185001-2...   \n",
       "\n",
       "                                                 url  file_exists  \n",
       "0  http://crd-esgf-drc.ec.gc.ca/thredds/fileServe...         True  \n",
       "1  http://crd-esgf-drc.ec.gc.ca/thredds/fileServe...         True  \n",
       "2  http://crd-esgf-drc.ec.gc.ca/thredds/fileServe...         True  \n",
       "3  http://crd-esgf-drc.ec.gc.ca/thredds/fileServe...         True  \n",
       "4  http://crd-esgf-drc.ec.gc.ca/thredds/fileServe...         True  "
      ]
     },
     "execution_count": 16,
     "metadata": {},
     "output_type": "execute_result"
    }
   ],
   "source": [
    "import glob\n",
    "\n",
    "# We want to verify whether these files exist on JASMIN\n",
    "damip_dir = \"/badc/cmip6/data/CMIP6/DAMIP/\"\n",
    "\n",
    "# Create a new column in the dataframe to store whether the file exists\n",
    "files_df['file_exists'] = False\n",
    "\n",
    "# Loop over the dataframe\n",
    "for i in range(len(files_df)):\n",
    "    # Get the filename\n",
    "    filename = files_df['filename'][i]\n",
    "\n",
    "    # Split the filename by _\n",
    "    filename_split = filename.split('_')\n",
    "\n",
    "    # Extract the variable name\n",
    "    variable_name = filename_split[0]\n",
    "\n",
    "    # Extract the time window\n",
    "    time_window = filename_split[1]\n",
    "\n",
    "    # Extract the model name\n",
    "    model_name = filename_split[2]\n",
    "\n",
    "    # Split the url by /\n",
    "    # and extract the last 7th element\n",
    "    # which is the directory name\n",
    "    url_split = files_df['url'][i].split('/')\n",
    "    model_group = url_split[9]\n",
    "\n",
    "    print(model_group)\n",
    "\n",
    "    # Extract the experiment name\n",
    "    experiment_name = filename_split[3]\n",
    "\n",
    "    # Extract the ensemble member name\n",
    "    ensemble_member_name = filename_split[4]\n",
    "\n",
    "    # Extract the grid name\n",
    "    grid_name = filename_split[5]\n",
    "\n",
    "    # Form the pattern\n",
    "    pattern = os.path.join(damip_dir, model_group, model_name, experiment_name,\n",
    "                                ensemble_member_name, time_window, variable_name,\n",
    "                                grid_name, \"files\", \"d*\", filename)\n",
    "    \n",
    "    # Print the pattern\n",
    "    print(pattern)\n",
    "\n",
    "    # Get a list of all paths that match the pattern\n",
    "    filepaths = glob.glob(pattern)\n",
    "\n",
    "    # If filepath is greater than 0, the file exists\n",
    "    if len(filepaths) > 0:\n",
    "        print(\"File exists for \" + filename)\n",
    "        files_df.loc[i, 'file_exists'] = True\n",
    "    elif len(filepaths) == 0:\n",
    "        print(\"File does not exist for \" + filename)\n",
    "        files_df.loc[i, 'file_exists'] = False\n",
    "    elif len(filepaths) > 1:\n",
    "        print(\"More than one file found for \" + filename)\n",
    "        AssertionError(\"More than one file found for \" + filename)\n",
    "    else:\n",
    "        print(\"Something went wrong with \" + filename)\n",
    "        AssertionError(\"Something went wrong with \" + filename)\n",
    "\n",
    "files_df"
   ]
  },
  {
   "cell_type": "code",
   "execution_count": 10,
   "metadata": {},
   "outputs": [
    {
     "name": "stdout",
     "output_type": "stream",
     "text": [
      "/gws/nopw/j04/scenario/users/benhutch/DAMIP/hist-aer/tas/CanESM5\n",
      "Downloading tas_Amon_CanESM5_hist-aer_r1i1p1f1_gn_185001-202012.nc from http://crd-esgf-drc.ec.gc.ca/thredds/fileServer/esgE_dataroot/AR6/CMIP6/DAMIP/CCCma/CanESM5/hist-aer/r1i1p1f1/Amon/tas/gn/v20190429/tas_Amon_CanESM5_hist-aer_r1i1p1f1_gn_185001-202012.nc\n",
      "Saving to /gws/nopw/j04/scenario/users/benhutch/DAMIP/hist-aer/tas/CanESM5tas_Amon_CanESM5_hist-aer_r1i1p1f1_gn_185001-202012.nc\n"
     ]
    },
    {
     "name": "stderr",
     "output_type": "stream",
     "text": [
      "53.1kKiB [00:46, 1.13kKiB/s]                          \n"
     ]
    },
    {
     "name": "stdout",
     "output_type": "stream",
     "text": [
      "Downloaded size does not match expected size!\n",
      " FYI, the status code was  200\n"
     ]
    }
   ],
   "source": [
    "# Set up the directory to download to\n",
    "download_dir = \"/gws/nopw/j04/scenario/users/benhutch/DAMIP\"\n",
    "\n",
    "# Set up the variable\n",
    "variable = 'tas'\n",
    "\n",
    "# Set up the experiment id\n",
    "experiment_id = 'hist-aer'\n",
    "\n",
    "# Set up the model\n",
    "model = 'CanESM5'\n",
    "\n",
    "# Set up the directory\n",
    "download_path = os.path.join(download_dir, experiment_id, \n",
    "                             variable, model)\n",
    "\n",
    "# Print the download path\n",
    "print(download_path)\n",
    "\n",
    "# Use the download function to download a single file\n",
    "download_file(files_df['url'][0], \n",
    "              files_df['filename'][0], download_path)"
   ]
  },
  {
   "cell_type": "code",
   "execution_count": 11,
   "metadata": {},
   "outputs": [
    {
     "name": "stderr",
     "output_type": "stream",
     "text": [
      "  0%|          | 0/5 [00:00<?, ?it/s]"
     ]
    },
    {
     "name": "stdout",
     "output_type": "stream",
     "text": [
      "Downloading tas_Amon_CanESM5_hist-aer_r1i1p1f1_gn_185001-202012.nc from http://crd-esgf-drc.ec.gc.ca/thredds/fileServer/esgE_dataroot/AR6/CMIP6/DAMIP/CCCma/CanESM5/hist-aer/r1i1p1f1/Amon/tas/gn/v20190429/tas_Amon_CanESM5_hist-aer_r1i1p1f1_gn_185001-202012.nc\n",
      "Saving to /gws/nopw/j04/scenario/users/benhutch/DAMIP/hist-aer/tas/CanESM5tas_Amon_CanESM5_hist-aer_r1i1p1f1_gn_185001-202012.nc\n"
     ]
    },
    {
     "name": "stderr",
     "output_type": "stream",
     "text": [
      "53.1kKiB [00:05, 10.5kKiB/s]                          \n",
      " 20%|██        | 1/5 [00:05<00:23,  5.86s/it]"
     ]
    },
    {
     "name": "stdout",
     "output_type": "stream",
     "text": [
      "Downloaded size does not match expected size!\n",
      " FYI, the status code was  200\n",
      "Downloading tas_Amon_CanESM5_hist-aer_r4i1p1f1_gn_185001-202012.nc from http://crd-esgf-drc.ec.gc.ca/thredds/fileServer/esgE_dataroot/AR6/CMIP6/DAMIP/CCCma/CanESM5/hist-aer/r4i1p1f1/Amon/tas/gn/v20190429/tas_Amon_CanESM5_hist-aer_r4i1p1f1_gn_185001-202012.nc\n",
      "Saving to /gws/nopw/j04/scenario/users/benhutch/DAMIP/hist-aer/tas/CanESM5tas_Amon_CanESM5_hist-aer_r4i1p1f1_gn_185001-202012.nc\n"
     ]
    },
    {
     "name": "stderr",
     "output_type": "stream",
     "text": [
      "53.1kKiB [00:02, 22.6kKiB/s]                          \n",
      " 40%|████      | 2/5 [00:08<00:12,  4.25s/it]"
     ]
    },
    {
     "name": "stdout",
     "output_type": "stream",
     "text": [
      "Downloaded size does not match expected size!\n",
      " FYI, the status code was  200\n",
      "Downloading tas_Amon_CanESM5_hist-aer_r2i1p1f1_gn_185001-202012.nc from http://crd-esgf-drc.ec.gc.ca/thredds/fileServer/esgE_dataroot/AR6/CMIP6/DAMIP/CCCma/CanESM5/hist-aer/r2i1p1f1/Amon/tas/gn/v20190429/tas_Amon_CanESM5_hist-aer_r2i1p1f1_gn_185001-202012.nc\n",
      "Saving to /gws/nopw/j04/scenario/users/benhutch/DAMIP/hist-aer/tas/CanESM5tas_Amon_CanESM5_hist-aer_r2i1p1f1_gn_185001-202012.nc\n"
     ]
    },
    {
     "name": "stderr",
     "output_type": "stream",
     "text": [
      "53.1kKiB [00:19, 2.73kKiB/s]                          \n"
     ]
    },
    {
     "name": "stdout",
     "output_type": "stream",
     "text": [
      "Downloaded size does not match expected size!\n",
      " FYI, the status code was  200\n"
     ]
    },
    {
     "name": "stderr",
     "output_type": "stream",
     "text": [
      " 60%|██████    | 3/5 [00:29<00:23, 11.58s/it]"
     ]
    },
    {
     "name": "stdout",
     "output_type": "stream",
     "text": [
      "Downloading tas_Amon_CanESM5_hist-aer_r5i1p1f1_gn_185001-202012.nc from http://crd-esgf-drc.ec.gc.ca/thredds/fileServer/esgE_dataroot/AR6/CMIP6/DAMIP/CCCma/CanESM5/hist-aer/r5i1p1f1/Amon/tas/gn/v20190429/tas_Amon_CanESM5_hist-aer_r5i1p1f1_gn_185001-202012.nc\n",
      "Saving to /gws/nopw/j04/scenario/users/benhutch/DAMIP/hist-aer/tas/CanESM5tas_Amon_CanESM5_hist-aer_r5i1p1f1_gn_185001-202012.nc\n"
     ]
    },
    {
     "name": "stderr",
     "output_type": "stream",
     "text": [
      "53.1kKiB [00:02, 23.0kKiB/s]                          \n",
      " 80%|████████  | 4/5 [00:32<00:08,  8.18s/it]"
     ]
    },
    {
     "name": "stdout",
     "output_type": "stream",
     "text": [
      "Downloaded size does not match expected size!\n",
      " FYI, the status code was  200\n",
      "Downloading tas_Amon_CanESM5_hist-aer_r3i1p1f1_gn_185001-202012.nc from http://crd-esgf-drc.ec.gc.ca/thredds/fileServer/esgE_dataroot/AR6/CMIP6/DAMIP/CCCma/CanESM5/hist-aer/r3i1p1f1/Amon/tas/gn/v20190429/tas_Amon_CanESM5_hist-aer_r3i1p1f1_gn_185001-202012.nc\n",
      "Saving to /gws/nopw/j04/scenario/users/benhutch/DAMIP/hist-aer/tas/CanESM5tas_Amon_CanESM5_hist-aer_r3i1p1f1_gn_185001-202012.nc\n"
     ]
    },
    {
     "name": "stderr",
     "output_type": "stream",
     "text": [
      "53.1kKiB [00:13, 3.82kKiB/s]                          \n",
      "100%|██████████| 5/5 [00:46<00:00,  9.39s/it]"
     ]
    },
    {
     "name": "stdout",
     "output_type": "stream",
     "text": [
      "Downloaded size does not match expected size!\n",
      " FYI, the status code was  200\n"
     ]
    },
    {
     "name": "stderr",
     "output_type": "stream",
     "text": [
      "\n"
     ]
    }
   ],
   "source": [
    "# Download all the files\n",
    "for i in tqdm(range(len(files_df))):\n",
    "    download_file(files_df['url'][i], \n",
    "                  files_df['filename'][i], download_path)"
   ]
  }
 ],
 "metadata": {
  "kernelspec": {
   "display_name": "Python 3",
   "language": "python",
   "name": "python3"
  },
  "language_info": {
   "codemirror_mode": {
    "name": "ipython",
    "version": 3
   },
   "file_extension": ".py",
   "mimetype": "text/x-python",
   "name": "python",
   "nbconvert_exporter": "python",
   "pygments_lexer": "ipython3",
   "version": "3.10.5"
  }
 },
 "nbformat": 4,
 "nbformat_minor": 2
}
