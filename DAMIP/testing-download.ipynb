{
 "cells": [
  {
   "cell_type": "code",
   "execution_count": 1,
   "metadata": {},
   "outputs": [],
   "source": [
    "# Testing the downloading data method from:\n",
    "# https://claut.gitlab.io/man_ccia/lab2.html\n",
    "# Import the required modules\n",
    "from pyesgf.search import SearchConnection\n",
    "import os\n",
    "import pandas as pd\n",
    "import requests\n",
    "from tqdm import tqdm\n",
    "\n",
    "# Set the os environment to on\n",
    "os.environ['ESGF_PYCLIENT_NO_FACETS_STAR_WARNING'] = \"on\""
   ]
  },
  {
   "cell_type": "code",
   "execution_count": 2,
   "metadata": {},
   "outputs": [],
   "source": [
    "# Import the functions\n",
    "from testing_download_functions import query_data_esgf, extract_file_context, \\\n",
    "                                        download_file, extract_file_context_multithread"
   ]
  },
  {
   "cell_type": "code",
   "execution_count": 3,
   "metadata": {},
   "outputs": [],
   "source": [
    "# set the search connection\n",
    "# to the LLNL search node\n",
    "conn = SearchConnection('https://esgf-node.llnl.gov/esg-search', distrib=True)"
   ]
  },
  {
   "cell_type": "code",
   "execution_count": 4,
   "metadata": {},
   "outputs": [
    {
     "name": "stdout",
     "output_type": "stream",
     "text": [
      "<class 'pyesgf.search.connection.SearchConnection'>\n"
     ]
    }
   ],
   "source": [
    "print(type(conn))"
   ]
  },
  {
   "cell_type": "code",
   "execution_count": 5,
   "metadata": {},
   "outputs": [
    {
     "name": "stdout",
     "output_type": "stream",
     "text": [
      "30\n",
      "<class 'pyesgf.search.results.ResultSet'>\n",
      "<pyesgf.search.results.ResultSet object at 0x7f63793c7190>\n"
     ]
    }
   ],
   "source": [
    "# test the function for querying the database\n",
    "results = query_data_esgf(conn,\n",
    "                        source_id='CanESM5',\n",
    "                        experiment_id='hist-aer',\n",
    "                        variable_id='tas',\n",
    "                        table_id='Amon',\n",
    "                        data_node='crd-esgf-drc.ec.gc.ca',)\n",
    "\n",
    "# print the len of the results\n",
    "print(len(results))\n",
    "\n",
    "# print the type of the results\n",
    "print(type(results))\n",
    "\n",
    "# print the results\n",
    "print(results)"
   ]
  },
  {
   "cell_type": "code",
   "execution_count": 6,
   "metadata": {},
   "outputs": [
    {
     "name": "stdout",
     "output_type": "stream",
     "text": [
      "CMIP6.DAMIP.CCCma.CanESM5.hist-aer.r10i1p1f1.Amon.tas.gn.v20190429|crd-esgf-drc.ec.gc.ca\n"
     ]
    }
   ],
   "source": [
    "# Print the details of the first result\n",
    "print(results[0].json['id'])"
   ]
  },
  {
   "cell_type": "code",
   "execution_count": 7,
   "metadata": {},
   "outputs": [],
   "source": [
    "# # Use the function to extract the file context\n",
    "# files_list_mt = extract_file_context_multithread(results)\n",
    "\n",
    "# # Turn the list into a dataframe\n",
    "# files_df_mt = pd.DataFrame.from_dict(files_list_mt)\n",
    "\n",
    "# files_df_mt"
   ]
  },
  {
   "cell_type": "code",
   "execution_count": 8,
   "metadata": {},
   "outputs": [
    {
     "name": "stdout",
     "output_type": "stream",
     "text": [
      "Extracting file context for 30 datasets...\n"
     ]
    }
   ],
   "source": [
    "# Extract the file context\n",
    "files_list = extract_file_context(results)\n",
    "\n",
    "# # Turn the list into a dataframe\n",
    "# files_df = pd.DataFrame.from_dict(files_list)\n",
    "\n",
    "# files_df"
   ]
  },
  {
   "cell_type": "code",
   "execution_count": 9,
   "metadata": {},
   "outputs": [
    {
     "name": "stdout",
     "output_type": "stream",
     "text": [
      "<class 'list'>\n"
     ]
    },
    {
     "data": {
      "text/html": [
       "<div>\n",
       "<style scoped>\n",
       "    .dataframe tbody tr th:only-of-type {\n",
       "        vertical-align: middle;\n",
       "    }\n",
       "\n",
       "    .dataframe tbody tr th {\n",
       "        vertical-align: top;\n",
       "    }\n",
       "\n",
       "    .dataframe thead th {\n",
       "        text-align: right;\n",
       "    }\n",
       "</style>\n",
       "<table border=\"1\" class=\"dataframe\">\n",
       "  <thead>\n",
       "    <tr style=\"text-align: right;\">\n",
       "      <th></th>\n",
       "      <th>filename</th>\n",
       "      <th>url</th>\n",
       "    </tr>\n",
       "  </thead>\n",
       "  <tbody>\n",
       "    <tr>\n",
       "      <th>0</th>\n",
       "      <td>tas_Amon_CanESM5_hist-aer_r10i1p1f1_gn_185001-...</td>\n",
       "      <td>http://crd-esgf-drc.ec.gc.ca/thredds/fileServe...</td>\n",
       "    </tr>\n",
       "    <tr>\n",
       "      <th>1</th>\n",
       "      <td>tas_Amon_CanESM5_hist-aer_r1i1p1f1_gn_185001-2...</td>\n",
       "      <td>http://crd-esgf-drc.ec.gc.ca/thredds/fileServe...</td>\n",
       "    </tr>\n",
       "    <tr>\n",
       "      <th>2</th>\n",
       "      <td>tas_Amon_CanESM5_hist-aer_r4i1p1f1_gn_185001-2...</td>\n",
       "      <td>http://crd-esgf-drc.ec.gc.ca/thredds/fileServe...</td>\n",
       "    </tr>\n",
       "    <tr>\n",
       "      <th>3</th>\n",
       "      <td>tas_Amon_CanESM5_hist-aer_r2i1p1f1_gn_185001-2...</td>\n",
       "      <td>http://crd-esgf-drc.ec.gc.ca/thredds/fileServe...</td>\n",
       "    </tr>\n",
       "    <tr>\n",
       "      <th>4</th>\n",
       "      <td>tas_Amon_CanESM5_hist-aer_r7i1p1f1_gn_185001-2...</td>\n",
       "      <td>http://crd-esgf-drc.ec.gc.ca/thredds/fileServe...</td>\n",
       "    </tr>\n",
       "    <tr>\n",
       "      <th>5</th>\n",
       "      <td>tas_Amon_CanESM5_hist-aer_r9i1p1f1_gn_185001-2...</td>\n",
       "      <td>http://crd-esgf-drc.ec.gc.ca/thredds/fileServe...</td>\n",
       "    </tr>\n",
       "    <tr>\n",
       "      <th>6</th>\n",
       "      <td>tas_Amon_CanESM5_hist-aer_r6i1p1f1_gn_185001-2...</td>\n",
       "      <td>http://crd-esgf-drc.ec.gc.ca/thredds/fileServe...</td>\n",
       "    </tr>\n",
       "    <tr>\n",
       "      <th>7</th>\n",
       "      <td>tas_Amon_CanESM5_hist-aer_r8i1p1f1_gn_185001-2...</td>\n",
       "      <td>http://crd-esgf-drc.ec.gc.ca/thredds/fileServe...</td>\n",
       "    </tr>\n",
       "    <tr>\n",
       "      <th>8</th>\n",
       "      <td>tas_Amon_CanESM5_hist-aer_r5i1p1f1_gn_185001-2...</td>\n",
       "      <td>http://crd-esgf-drc.ec.gc.ca/thredds/fileServe...</td>\n",
       "    </tr>\n",
       "    <tr>\n",
       "      <th>9</th>\n",
       "      <td>tas_Amon_CanESM5_hist-aer_r3i1p1f1_gn_185001-2...</td>\n",
       "      <td>http://crd-esgf-drc.ec.gc.ca/thredds/fileServe...</td>\n",
       "    </tr>\n",
       "    <tr>\n",
       "      <th>10</th>\n",
       "      <td>tas_Amon_CanESM5_hist-aer_r11i1p1f1_gn_185001-...</td>\n",
       "      <td>http://crd-esgf-drc.ec.gc.ca/thredds/fileServe...</td>\n",
       "    </tr>\n",
       "    <tr>\n",
       "      <th>11</th>\n",
       "      <td>tas_Amon_CanESM5_hist-aer_r11i1p2f1_gn_185001-...</td>\n",
       "      <td>http://crd-esgf-drc.ec.gc.ca/thredds/fileServe...</td>\n",
       "    </tr>\n",
       "    <tr>\n",
       "      <th>12</th>\n",
       "      <td>tas_Amon_CanESM5_hist-aer_r12i1p1f1_gn_185001-...</td>\n",
       "      <td>http://crd-esgf-drc.ec.gc.ca/thredds/fileServe...</td>\n",
       "    </tr>\n",
       "    <tr>\n",
       "      <th>13</th>\n",
       "      <td>tas_Amon_CanESM5_hist-aer_r12i1p2f1_gn_185001-...</td>\n",
       "      <td>http://crd-esgf-drc.ec.gc.ca/thredds/fileServe...</td>\n",
       "    </tr>\n",
       "    <tr>\n",
       "      <th>14</th>\n",
       "      <td>tas_Amon_CanESM5_hist-aer_r13i1p1f1_gn_185001-...</td>\n",
       "      <td>http://crd-esgf-drc.ec.gc.ca/thredds/fileServe...</td>\n",
       "    </tr>\n",
       "    <tr>\n",
       "      <th>15</th>\n",
       "      <td>tas_Amon_CanESM5_hist-aer_r13i1p2f1_gn_185001-...</td>\n",
       "      <td>http://crd-esgf-drc.ec.gc.ca/thredds/fileServe...</td>\n",
       "    </tr>\n",
       "    <tr>\n",
       "      <th>16</th>\n",
       "      <td>tas_Amon_CanESM5_hist-aer_r14i1p1f1_gn_185001-...</td>\n",
       "      <td>http://crd-esgf-drc.ec.gc.ca/thredds/fileServe...</td>\n",
       "    </tr>\n",
       "    <tr>\n",
       "      <th>17</th>\n",
       "      <td>tas_Amon_CanESM5_hist-aer_r14i1p2f1_gn_185001-...</td>\n",
       "      <td>http://crd-esgf-drc.ec.gc.ca/thredds/fileServe...</td>\n",
       "    </tr>\n",
       "    <tr>\n",
       "      <th>18</th>\n",
       "      <td>tas_Amon_CanESM5_hist-aer_r15i1p1f1_gn_185001-...</td>\n",
       "      <td>http://crd-esgf-drc.ec.gc.ca/thredds/fileServe...</td>\n",
       "    </tr>\n",
       "    <tr>\n",
       "      <th>19</th>\n",
       "      <td>tas_Amon_CanESM5_hist-aer_r15i1p2f1_gn_185001-...</td>\n",
       "      <td>http://crd-esgf-drc.ec.gc.ca/thredds/fileServe...</td>\n",
       "    </tr>\n",
       "    <tr>\n",
       "      <th>20</th>\n",
       "      <td>tas_Amon_CanESM5_hist-aer_r1i1p2f1_gn_185001-2...</td>\n",
       "      <td>http://crd-esgf-drc.ec.gc.ca/thredds/fileServe...</td>\n",
       "    </tr>\n",
       "    <tr>\n",
       "      <th>21</th>\n",
       "      <td>tas_Amon_CanESM5_hist-aer_r2i1p2f1_gn_185001-2...</td>\n",
       "      <td>http://crd-esgf-drc.ec.gc.ca/thredds/fileServe...</td>\n",
       "    </tr>\n",
       "    <tr>\n",
       "      <th>22</th>\n",
       "      <td>tas_Amon_CanESM5_hist-aer_r10i1p2f1_gn_185001-...</td>\n",
       "      <td>http://crd-esgf-drc.ec.gc.ca/thredds/fileServe...</td>\n",
       "    </tr>\n",
       "    <tr>\n",
       "      <th>23</th>\n",
       "      <td>tas_Amon_CanESM5_hist-aer_r3i1p2f1_gn_185001-2...</td>\n",
       "      <td>http://crd-esgf-drc.ec.gc.ca/thredds/fileServe...</td>\n",
       "    </tr>\n",
       "    <tr>\n",
       "      <th>24</th>\n",
       "      <td>tas_Amon_CanESM5_hist-aer_r4i1p2f1_gn_185001-2...</td>\n",
       "      <td>http://crd-esgf-drc.ec.gc.ca/thredds/fileServe...</td>\n",
       "    </tr>\n",
       "    <tr>\n",
       "      <th>25</th>\n",
       "      <td>tas_Amon_CanESM5_hist-aer_r5i1p2f1_gn_185001-2...</td>\n",
       "      <td>http://crd-esgf-drc.ec.gc.ca/thredds/fileServe...</td>\n",
       "    </tr>\n",
       "    <tr>\n",
       "      <th>26</th>\n",
       "      <td>tas_Amon_CanESM5_hist-aer_r6i1p2f1_gn_185001-2...</td>\n",
       "      <td>http://crd-esgf-drc.ec.gc.ca/thredds/fileServe...</td>\n",
       "    </tr>\n",
       "    <tr>\n",
       "      <th>27</th>\n",
       "      <td>tas_Amon_CanESM5_hist-aer_r7i1p2f1_gn_185001-2...</td>\n",
       "      <td>http://crd-esgf-drc.ec.gc.ca/thredds/fileServe...</td>\n",
       "    </tr>\n",
       "    <tr>\n",
       "      <th>28</th>\n",
       "      <td>tas_Amon_CanESM5_hist-aer_r8i1p2f1_gn_185001-2...</td>\n",
       "      <td>http://crd-esgf-drc.ec.gc.ca/thredds/fileServe...</td>\n",
       "    </tr>\n",
       "    <tr>\n",
       "      <th>29</th>\n",
       "      <td>tas_Amon_CanESM5_hist-aer_r9i1p2f1_gn_185001-2...</td>\n",
       "      <td>http://crd-esgf-drc.ec.gc.ca/thredds/fileServe...</td>\n",
       "    </tr>\n",
       "  </tbody>\n",
       "</table>\n",
       "</div>"
      ],
      "text/plain": [
       "                                             filename  \\\n",
       "0   tas_Amon_CanESM5_hist-aer_r10i1p1f1_gn_185001-...   \n",
       "1   tas_Amon_CanESM5_hist-aer_r1i1p1f1_gn_185001-2...   \n",
       "2   tas_Amon_CanESM5_hist-aer_r4i1p1f1_gn_185001-2...   \n",
       "3   tas_Amon_CanESM5_hist-aer_r2i1p1f1_gn_185001-2...   \n",
       "4   tas_Amon_CanESM5_hist-aer_r7i1p1f1_gn_185001-2...   \n",
       "5   tas_Amon_CanESM5_hist-aer_r9i1p1f1_gn_185001-2...   \n",
       "6   tas_Amon_CanESM5_hist-aer_r6i1p1f1_gn_185001-2...   \n",
       "7   tas_Amon_CanESM5_hist-aer_r8i1p1f1_gn_185001-2...   \n",
       "8   tas_Amon_CanESM5_hist-aer_r5i1p1f1_gn_185001-2...   \n",
       "9   tas_Amon_CanESM5_hist-aer_r3i1p1f1_gn_185001-2...   \n",
       "10  tas_Amon_CanESM5_hist-aer_r11i1p1f1_gn_185001-...   \n",
       "11  tas_Amon_CanESM5_hist-aer_r11i1p2f1_gn_185001-...   \n",
       "12  tas_Amon_CanESM5_hist-aer_r12i1p1f1_gn_185001-...   \n",
       "13  tas_Amon_CanESM5_hist-aer_r12i1p2f1_gn_185001-...   \n",
       "14  tas_Amon_CanESM5_hist-aer_r13i1p1f1_gn_185001-...   \n",
       "15  tas_Amon_CanESM5_hist-aer_r13i1p2f1_gn_185001-...   \n",
       "16  tas_Amon_CanESM5_hist-aer_r14i1p1f1_gn_185001-...   \n",
       "17  tas_Amon_CanESM5_hist-aer_r14i1p2f1_gn_185001-...   \n",
       "18  tas_Amon_CanESM5_hist-aer_r15i1p1f1_gn_185001-...   \n",
       "19  tas_Amon_CanESM5_hist-aer_r15i1p2f1_gn_185001-...   \n",
       "20  tas_Amon_CanESM5_hist-aer_r1i1p2f1_gn_185001-2...   \n",
       "21  tas_Amon_CanESM5_hist-aer_r2i1p2f1_gn_185001-2...   \n",
       "22  tas_Amon_CanESM5_hist-aer_r10i1p2f1_gn_185001-...   \n",
       "23  tas_Amon_CanESM5_hist-aer_r3i1p2f1_gn_185001-2...   \n",
       "24  tas_Amon_CanESM5_hist-aer_r4i1p2f1_gn_185001-2...   \n",
       "25  tas_Amon_CanESM5_hist-aer_r5i1p2f1_gn_185001-2...   \n",
       "26  tas_Amon_CanESM5_hist-aer_r6i1p2f1_gn_185001-2...   \n",
       "27  tas_Amon_CanESM5_hist-aer_r7i1p2f1_gn_185001-2...   \n",
       "28  tas_Amon_CanESM5_hist-aer_r8i1p2f1_gn_185001-2...   \n",
       "29  tas_Amon_CanESM5_hist-aer_r9i1p2f1_gn_185001-2...   \n",
       "\n",
       "                                                  url  \n",
       "0   http://crd-esgf-drc.ec.gc.ca/thredds/fileServe...  \n",
       "1   http://crd-esgf-drc.ec.gc.ca/thredds/fileServe...  \n",
       "2   http://crd-esgf-drc.ec.gc.ca/thredds/fileServe...  \n",
       "3   http://crd-esgf-drc.ec.gc.ca/thredds/fileServe...  \n",
       "4   http://crd-esgf-drc.ec.gc.ca/thredds/fileServe...  \n",
       "5   http://crd-esgf-drc.ec.gc.ca/thredds/fileServe...  \n",
       "6   http://crd-esgf-drc.ec.gc.ca/thredds/fileServe...  \n",
       "7   http://crd-esgf-drc.ec.gc.ca/thredds/fileServe...  \n",
       "8   http://crd-esgf-drc.ec.gc.ca/thredds/fileServe...  \n",
       "9   http://crd-esgf-drc.ec.gc.ca/thredds/fileServe...  \n",
       "10  http://crd-esgf-drc.ec.gc.ca/thredds/fileServe...  \n",
       "11  http://crd-esgf-drc.ec.gc.ca/thredds/fileServe...  \n",
       "12  http://crd-esgf-drc.ec.gc.ca/thredds/fileServe...  \n",
       "13  http://crd-esgf-drc.ec.gc.ca/thredds/fileServe...  \n",
       "14  http://crd-esgf-drc.ec.gc.ca/thredds/fileServe...  \n",
       "15  http://crd-esgf-drc.ec.gc.ca/thredds/fileServe...  \n",
       "16  http://crd-esgf-drc.ec.gc.ca/thredds/fileServe...  \n",
       "17  http://crd-esgf-drc.ec.gc.ca/thredds/fileServe...  \n",
       "18  http://crd-esgf-drc.ec.gc.ca/thredds/fileServe...  \n",
       "19  http://crd-esgf-drc.ec.gc.ca/thredds/fileServe...  \n",
       "20  http://crd-esgf-drc.ec.gc.ca/thredds/fileServe...  \n",
       "21  http://crd-esgf-drc.ec.gc.ca/thredds/fileServe...  \n",
       "22  http://crd-esgf-drc.ec.gc.ca/thredds/fileServe...  \n",
       "23  http://crd-esgf-drc.ec.gc.ca/thredds/fileServe...  \n",
       "24  http://crd-esgf-drc.ec.gc.ca/thredds/fileServe...  \n",
       "25  http://crd-esgf-drc.ec.gc.ca/thredds/fileServe...  \n",
       "26  http://crd-esgf-drc.ec.gc.ca/thredds/fileServe...  \n",
       "27  http://crd-esgf-drc.ec.gc.ca/thredds/fileServe...  \n",
       "28  http://crd-esgf-drc.ec.gc.ca/thredds/fileServe...  \n",
       "29  http://crd-esgf-drc.ec.gc.ca/thredds/fileServe...  "
      ]
     },
     "execution_count": 9,
     "metadata": {},
     "output_type": "execute_result"
    }
   ],
   "source": [
    "# Print the type of the files list\n",
    "print(type(files_list))\n",
    "\n",
    "# Extract this into a dataframe\n",
    "files_df = pd.DataFrame.from_dict(files_list)\n",
    "files_df\n",
    "\n",
    "# Assert that all filenames contrain the string \"185001\" and \"202012\"\n",
    "assert all(files_df['filename'].str.contains('185001')), \"Not all filenames contain the string 185001\"\n",
    "assert all(files_df['filename'].str.contains('202012')), \"Not all filenames contain the string 202012\"\n",
    "\n",
    "files_df"
   ]
  },
  {
   "cell_type": "code",
   "execution_count": 10,
   "metadata": {},
   "outputs": [
    {
     "name": "stdout",
     "output_type": "stream",
     "text": [
      "/gws/nopw/j04/scenario/users/benhutch/DAMIP/hist-aer/tas/CanESM5\n",
      "Downloading tas_Amon_CanESM5_hist-aer_r10i1p1f1_gn_185001-202012.nc from http://crd-esgf-drc.ec.gc.ca/thredds/fileServer/esgE_dataroot/AR6/CMIP6/DAMIP/CCCma/CanESM5/hist-aer/r10i1p1f1/Amon/tas/gn/v20190429/tas_Amon_CanESM5_hist-aer_r10i1p1f1_gn_185001-202012.nc\n",
      "Saving to /gws/nopw/j04/scenario/users/benhutch/DAMIP/hist-aer/tas/CanESM5tas_Amon_CanESM5_hist-aer_r10i1p1f1_gn_185001-202012.nc\n"
     ]
    },
    {
     "name": "stderr",
     "output_type": "stream",
     "text": [
      "53.1kKiB [00:05, 9.87kKiB/s]                          \n"
     ]
    },
    {
     "ename": "FileNotFoundError",
     "evalue": "[Errno 2] No such file or directory: 'tas_Amon_CanESM5_hist-aer_r10i1p1f1_gn_185001-202012.nc'",
     "output_type": "error",
     "traceback": [
      "\u001b[0;31m---------------------------------------------------------------------------\u001b[0m",
      "\u001b[0;31mFileNotFoundError\u001b[0m                         Traceback (most recent call last)",
      "\u001b[1;32m/home/users/benhutch/downloading-data/DAMIP/testing-download.ipynb Cell 10\u001b[0m line \u001b[0;36m<cell line: 21>\u001b[0;34m()\u001b[0m\n\u001b[1;32m     <a href='vscode-notebook-cell://ssh-remote%2Bsci3/home/users/benhutch/downloading-data/DAMIP/testing-download.ipynb#X11sdnNjb2RlLXJlbW90ZQ%3D%3D?line=17'>18</a>\u001b[0m \u001b[39mprint\u001b[39m(download_path)\n\u001b[1;32m     <a href='vscode-notebook-cell://ssh-remote%2Bsci3/home/users/benhutch/downloading-data/DAMIP/testing-download.ipynb#X11sdnNjb2RlLXJlbW90ZQ%3D%3D?line=19'>20</a>\u001b[0m \u001b[39m# Use the download function to download a single file\u001b[39;00m\n\u001b[0;32m---> <a href='vscode-notebook-cell://ssh-remote%2Bsci3/home/users/benhutch/downloading-data/DAMIP/testing-download.ipynb#X11sdnNjb2RlLXJlbW90ZQ%3D%3D?line=20'>21</a>\u001b[0m download_file(files_df[\u001b[39m'\u001b[39;49m\u001b[39murl\u001b[39;49m\u001b[39m'\u001b[39;49m][\u001b[39m0\u001b[39;49m], \n\u001b[1;32m     <a href='vscode-notebook-cell://ssh-remote%2Bsci3/home/users/benhutch/downloading-data/DAMIP/testing-download.ipynb#X11sdnNjb2RlLXJlbW90ZQ%3D%3D?line=21'>22</a>\u001b[0m               files_df[\u001b[39m'\u001b[39;49m\u001b[39mfilename\u001b[39;49m\u001b[39m'\u001b[39;49m][\u001b[39m0\u001b[39;49m], download_path)\n",
      "File \u001b[0;32m~/downloading-data/DAMIP/testing_download_functions.py:210\u001b[0m, in \u001b[0;36mdownload_file\u001b[0;34m(url, filename, directory)\u001b[0m\n\u001b[1;32m    206\u001b[0m         f\u001b[39m.\u001b[39mwrite(data)\n\u001b[1;32m    208\u001b[0m \u001b[39m# If the total size is not zero\u001b[39;00m\n\u001b[1;32m    209\u001b[0m \u001b[39m# and the file size is not equal to the total size\u001b[39;00m\n\u001b[0;32m--> 210\u001b[0m \u001b[39mif\u001b[39;00m total_size \u001b[39m!=\u001b[39m \u001b[39m0\u001b[39m \u001b[39mand\u001b[39;00m total_size \u001b[39m!=\u001b[39m os\u001b[39m.\u001b[39;49mpath\u001b[39m.\u001b[39;49mgetsize(filename):\n\u001b[1;32m    211\u001b[0m     \u001b[39mprint\u001b[39m(\u001b[39m\"\u001b[39m\u001b[39mDownloaded size does not match expected size!\u001b[39m\u001b[39m\\n\u001b[39;00m\u001b[39m\"\u001b[39m,\n\u001b[1;32m    212\u001b[0m         \u001b[39m\"\u001b[39m\u001b[39mFYI, the status code was \u001b[39m\u001b[39m\"\u001b[39m, r\u001b[39m.\u001b[39mstatus_code)\n",
      "File \u001b[0;32m/apps/jasmin/jaspy/miniconda_envs/jaspy3.10/m3-4.9.2/envs/jaspy3.10-m3-4.9.2-r20220721/lib/python3.10/genericpath.py:50\u001b[0m, in \u001b[0;36mgetsize\u001b[0;34m(filename)\u001b[0m\n\u001b[1;32m     48\u001b[0m \u001b[39mdef\u001b[39;00m \u001b[39mgetsize\u001b[39m(filename):\n\u001b[1;32m     49\u001b[0m     \u001b[39m\"\"\"Return the size of a file, reported by os.stat().\"\"\"\u001b[39;00m\n\u001b[0;32m---> 50\u001b[0m     \u001b[39mreturn\u001b[39;00m os\u001b[39m.\u001b[39;49mstat(filename)\u001b[39m.\u001b[39mst_size\n",
      "\u001b[0;31mFileNotFoundError\u001b[0m: [Errno 2] No such file or directory: 'tas_Amon_CanESM5_hist-aer_r10i1p1f1_gn_185001-202012.nc'"
     ]
    }
   ],
   "source": [
    "# Set up the directory to download to\n",
    "download_dir = \"/gws/nopw/j04/scenario/users/benhutch/DAMIP\"\n",
    "\n",
    "# Set up the variable\n",
    "variable = 'tas'\n",
    "\n",
    "# Set up the experiment id\n",
    "experiment_id = 'hist-aer'\n",
    "\n",
    "# Set up the model\n",
    "model = 'CanESM5'\n",
    "\n",
    "# Set up the directory\n",
    "download_path = os.path.join(download_dir, experiment_id, \n",
    "                             variable, model)\n",
    "\n",
    "# Print the download path\n",
    "print(download_path)\n",
    "\n",
    "# Use the download function to download a single file\n",
    "download_file(files_df['url'][0], \n",
    "              files_df['filename'][0], download_path)"
   ]
  }
 ],
 "metadata": {
  "kernelspec": {
   "display_name": "Python 3",
   "language": "python",
   "name": "python3"
  },
  "language_info": {
   "codemirror_mode": {
    "name": "ipython",
    "version": 3
   },
   "file_extension": ".py",
   "mimetype": "text/x-python",
   "name": "python",
   "nbconvert_exporter": "python",
   "pygments_lexer": "ipython3",
   "version": "3.10.5"
  }
 },
 "nbformat": 4,
 "nbformat_minor": 2
}
