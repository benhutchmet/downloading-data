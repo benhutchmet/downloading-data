{
 "cells": [
  {
   "cell_type": "code",
   "execution_count": 1,
   "metadata": {},
   "outputs": [],
   "source": [
    "# Testing the downloading data method from:\n",
    "# https://claut.gitlab.io/man_ccia/lab2.html\n",
    "# Import the required modules\n",
    "from pyesgf.search import SearchConnection\n",
    "import os\n",
    "import pandas as pd\n",
    "import requests\n",
    "from tqdm import tqdm\n",
    "\n",
    "# Set the os environment to on\n",
    "os.environ['ESGF_PYCLIENT_NO_FACETS_STAR_WARNING'] = \"on\""
   ]
  },
  {
   "cell_type": "code",
   "execution_count": 2,
   "metadata": {},
   "outputs": [],
   "source": [
    "# Import the functions\n",
    "from testing_download_functions import query_data_esgf, extract_file_context, \\\n",
    "                                        download_file, extract_file_context_multithread, \\\n",
    "                                        check_file_exists_jasmin"
   ]
  },
  {
   "cell_type": "code",
   "execution_count": 3,
   "metadata": {},
   "outputs": [],
   "source": [
    "# set the search connection\n",
    "# to the LLNL search node\n",
    "conn = SearchConnection('https://esgf-node.llnl.gov/esg-search', distrib=True)"
   ]
  },
  {
   "cell_type": "code",
   "execution_count": 4,
   "metadata": {},
   "outputs": [
    {
     "name": "stdout",
     "output_type": "stream",
     "text": [
      "232\n",
      "{'IPSL-CM6A-LR', 'CNRM-CM6-1', 'BCC-CSM2-MR', 'MRI-ESM2-0', 'HadGEM3-GC31-LL', 'GISS-E2-1-G', 'GFDL-ESM4', 'ACCESS-ESM1-5', 'NorESM2-LM', 'ACCESS-CM2', 'MIROC6', 'CanESM5', 'E3SM-2-0', 'FGOALS-g3', 'CESM2'}\n"
     ]
    }
   ],
   "source": [
    "# Find the models which have data on the esgf node for the following constraints\n",
    "# The constraints are:\n",
    "experiment_id = 'hist-aer'\n",
    "latest = True\n",
    "variable_id = 'tas'\n",
    "project = 'CMIP6'\n",
    "table_id = 'Amon'\n",
    "activity_id = 'DAMIP'\n",
    "\n",
    "# Set up the params for the query\n",
    "params = {\n",
    "    \"latest\": latest,\n",
    "    \"project\": project,\n",
    "    \"experiment_id\": experiment_id,\n",
    "    \"variable_id\": variable_id,\n",
    "    \"activity_id\": activity_id,\n",
    "    \"table_id\": table_id\n",
    "}\n",
    "\n",
    "# Query the database\n",
    "query = conn.new_context(**params)\n",
    "\n",
    "# Get the results\n",
    "results = query.search()\n",
    "\n",
    "print(len(results))\n",
    "\n",
    "# Python\n",
    "# Form a list of the unique 'source_id' values from the results\n",
    "# Python\n",
    "# Form a set of the unique 'source_id' values from the results\n",
    "source_id_set = set(id for result in results for id in result.json['source_id'])\n",
    "\n",
    "# Print the set\n",
    "print(source_id_set)"
   ]
  },
  {
   "cell_type": "code",
   "execution_count": 5,
   "metadata": {},
   "outputs": [
    {
     "name": "stdout",
     "output_type": "stream",
     "text": [
      "15\n"
     ]
    }
   ],
   "source": [
    "print(len(source_id_set))"
   ]
  },
  {
   "cell_type": "code",
   "execution_count": 6,
   "metadata": {},
   "outputs": [
    {
     "name": "stdout",
     "output_type": "stream",
     "text": [
      "trying to find valid nodes for model: IPSL-CM6A-LR\n",
      "{'latest': True, 'project': 'CMIP6', 'experiment_id': 'hist-aer', 'variable_id': 'tas', 'activity_id': 'DAMIP', 'table_id': 'Amon', 'source_id': 'IPSL-CM6A-LR'}\n",
      "11\n",
      "CMIP6.DAMIP.IPSL.IPSL-CM6A-LR.hist-aer.r10i1p1f1.Amon.tas.gr.v20180914|aims3.llnl.gov\n",
      "{'aims3.llnl.gov', 'esgf-data04.diasjp.net'}\n",
      "trying to find valid files for node: aims3.llnl.gov\n",
      "10\n",
      "trying to find valid files for node: esgf-data04.diasjp.net\n",
      "1\n",
      "this data_node has less results than the previous one\n",
      "trying to find valid nodes for model: CNRM-CM6-1\n",
      "{'latest': True, 'project': 'CMIP6', 'experiment_id': 'hist-aer', 'variable_id': 'tas', 'activity_id': 'DAMIP', 'table_id': 'Amon', 'source_id': 'CNRM-CM6-1'}\n",
      "11\n",
      "CMIP6.DAMIP.CNRM-CERFACS.CNRM-CM6-1.hist-aer.r10i1p1f2.Amon.tas.gr.v20190308|aims3.llnl.gov\n",
      "{'aims3.llnl.gov', 'esgf-data04.diasjp.net'}\n",
      "trying to find valid files for node: aims3.llnl.gov\n",
      "10\n",
      "trying to find valid files for node: esgf-data04.diasjp.net\n",
      "1\n",
      "this data_node has less results than the previous one\n",
      "trying to find valid nodes for model: BCC-CSM2-MR\n",
      "{'latest': True, 'project': 'CMIP6', 'experiment_id': 'hist-aer', 'variable_id': 'tas', 'activity_id': 'DAMIP', 'table_id': 'Amon', 'source_id': 'BCC-CSM2-MR'}\n",
      "7\n",
      "CMIP6.DAMIP.BCC.BCC-CSM2-MR.hist-aer.r3i1p1f1.Amon.tas.gn.v20190508|aims3.llnl.gov\n",
      "{'aims3.llnl.gov', 'cmip.bcc.cma.cn', 'esgf-data04.diasjp.net'}\n",
      "trying to find valid files for node: aims3.llnl.gov\n",
      "3\n",
      "trying to find valid files for node: cmip.bcc.cma.cn\n",
      "3\n",
      "this data_node has less results than the previous one\n",
      "trying to find valid files for node: esgf-data04.diasjp.net\n",
      "1\n",
      "this data_node has less results than the previous one\n",
      "trying to find valid nodes for model: MRI-ESM2-0\n",
      "{'latest': True, 'project': 'CMIP6', 'experiment_id': 'hist-aer', 'variable_id': 'tas', 'activity_id': 'DAMIP', 'table_id': 'Amon', 'source_id': 'MRI-ESM2-0'}\n",
      "10\n",
      "CMIP6.DAMIP.MRI.MRI-ESM2-0.hist-aer.r1i1p1f1.Amon.tas.gn.v20190320|aims3.llnl.gov\n",
      "{'aims3.llnl.gov', 'esgf-data1.llnl.gov', 'esgf-data03.diasjp.net'}\n",
      "trying to find valid files for node: aims3.llnl.gov\n",
      "3\n",
      "trying to find valid files for node: esgf-data1.llnl.gov\n",
      "2\n",
      "this data_node has less results than the previous one\n",
      "trying to find valid files for node: esgf-data03.diasjp.net\n",
      "5\n",
      "trying to find valid nodes for model: HadGEM3-GC31-LL\n",
      "{'latest': True, 'project': 'CMIP6', 'experiment_id': 'hist-aer', 'variable_id': 'tas', 'activity_id': 'DAMIP', 'table_id': 'Amon', 'source_id': 'HadGEM3-GC31-LL'}\n",
      "55\n",
      "CMIP6.DAMIP.MOHC.HadGEM3-GC31-LL.hist-aer.r1i1p1f3.Amon.tas.gn.v20190814|aims3.llnl.gov\n",
      "{'aims3.llnl.gov', 'esgf-data1.llnl.gov', 'esgf-data04.diasjp.net'}\n",
      "trying to find valid files for node: aims3.llnl.gov\n",
      "3\n",
      "trying to find valid files for node: esgf-data1.llnl.gov\n",
      "51\n",
      "trying to find valid files for node: esgf-data04.diasjp.net\n",
      "1\n",
      "this data_node has less results than the previous one\n",
      "trying to find valid nodes for model: GISS-E2-1-G\n",
      "{'latest': True, 'project': 'CMIP6', 'experiment_id': 'hist-aer', 'variable_id': 'tas', 'activity_id': 'DAMIP', 'table_id': 'Amon', 'source_id': 'GISS-E2-1-G'}\n",
      "28\n",
      "CMIP6.DAMIP.NASA-GISS.GISS-E2-1-G.hist-aer.r1i1p1f1.Amon.tas.gn.v20180821|aims3.llnl.gov\n",
      "{'aims3.llnl.gov', 'esgf-data1.llnl.gov', 'dpesgf03.nccs.nasa.gov', 'esgf-data04.diasjp.net'}\n",
      "trying to find valid files for node: aims3.llnl.gov\n",
      "5\n",
      "trying to find valid files for node: esgf-data1.llnl.gov\n",
      "6\n",
      "trying to find valid files for node: dpesgf03.nccs.nasa.gov\n",
      "15\n",
      "trying to find valid files for node: esgf-data04.diasjp.net\n",
      "2\n",
      "this data_node has less results than the previous one\n",
      "trying to find valid nodes for model: GFDL-ESM4\n",
      "{'latest': True, 'project': 'CMIP6', 'experiment_id': 'hist-aer', 'variable_id': 'tas', 'activity_id': 'DAMIP', 'table_id': 'Amon', 'source_id': 'GFDL-ESM4'}\n",
      "2\n",
      "CMIP6.DAMIP.NOAA-GFDL.GFDL-ESM4.hist-aer.r1i1p1f1.Amon.tas.gr1.v20180701|esgf-data1.llnl.gov\n",
      "{'esgf-data1.llnl.gov', 'esgf-data04.diasjp.net'}\n",
      "trying to find valid files for node: esgf-data1.llnl.gov\n",
      "1\n",
      "trying to find valid files for node: esgf-data04.diasjp.net\n",
      "1\n",
      "this data_node has less results than the previous one\n",
      "trying to find valid nodes for model: ACCESS-ESM1-5\n",
      "{'latest': True, 'project': 'CMIP6', 'experiment_id': 'hist-aer', 'variable_id': 'tas', 'activity_id': 'DAMIP', 'table_id': 'Amon', 'source_id': 'ACCESS-ESM1-5'}\n",
      "4\n",
      "CMIP6.DAMIP.CSIRO.ACCESS-ESM1-5.hist-aer.r1i1p1f1.Amon.tas.gn.v20200615|esgf-data1.llnl.gov\n",
      "{'esgf-data1.llnl.gov', 'esgf-data04.diasjp.net'}\n",
      "trying to find valid files for node: esgf-data1.llnl.gov\n",
      "3\n",
      "trying to find valid files for node: esgf-data04.diasjp.net\n",
      "1\n",
      "this data_node has less results than the previous one\n",
      "trying to find valid nodes for model: NorESM2-LM\n",
      "{'latest': True, 'project': 'CMIP6', 'experiment_id': 'hist-aer', 'variable_id': 'tas', 'activity_id': 'DAMIP', 'table_id': 'Amon', 'source_id': 'NorESM2-LM'}\n",
      "1\n",
      "CMIP6.DAMIP.NCC.NorESM2-LM.hist-aer.r1i1p1f1.Amon.tas.gn.v20190920|esgf-data04.diasjp.net\n",
      "{'esgf-data04.diasjp.net'}\n",
      "trying to find valid files for node: esgf-data04.diasjp.net\n",
      "1\n",
      "trying to find valid nodes for model: ACCESS-CM2\n",
      "{'latest': True, 'project': 'CMIP6', 'experiment_id': 'hist-aer', 'variable_id': 'tas', 'activity_id': 'DAMIP', 'table_id': 'Amon', 'source_id': 'ACCESS-CM2'}\n",
      "4\n",
      "CMIP6.DAMIP.CSIRO-ARCCSS.ACCESS-CM2.hist-aer.r1i1p1f1.Amon.tas.gn.v20201120|esgf-data1.llnl.gov\n",
      "{'esgf-data1.llnl.gov', 'esgf-data04.diasjp.net'}\n",
      "trying to find valid files for node: esgf-data1.llnl.gov\n",
      "3\n",
      "trying to find valid files for node: esgf-data04.diasjp.net\n",
      "1\n",
      "this data_node has less results than the previous one\n",
      "trying to find valid nodes for model: MIROC6\n",
      "{'latest': True, 'project': 'CMIP6', 'experiment_id': 'hist-aer', 'variable_id': 'tas', 'activity_id': 'DAMIP', 'table_id': 'Amon', 'source_id': 'MIROC6'}\n",
      "20\n",
      "CMIP6.DAMIP.MIROC.MIROC6.hist-aer.r1i1p1f1.Amon.tas.gn.v20190705|aims3.llnl.gov\n",
      "{'aims3.llnl.gov', 'esgf-data1.llnl.gov', 'esgf-data02.diasjp.net'}\n",
      "trying to find valid files for node: aims3.llnl.gov\n",
      "3\n",
      "trying to find valid files for node: esgf-data1.llnl.gov\n",
      "7\n",
      "trying to find valid files for node: esgf-data02.diasjp.net\n",
      "10\n",
      "trying to find valid nodes for model: CanESM5\n",
      "{'latest': True, 'project': 'CMIP6', 'experiment_id': 'hist-aer', 'variable_id': 'tas', 'activity_id': 'DAMIP', 'table_id': 'Amon', 'source_id': 'CanESM5'}\n",
      "61\n",
      "CMIP6.DAMIP.CCCma.CanESM5.hist-aer.r1i1p1f1.Amon.tas.gn.v20190429|aims3.llnl.gov\n",
      "{'aims3.llnl.gov', 'esgf-data1.llnl.gov', 'crd-esgf-drc.ec.gc.ca', 'esgf-data04.diasjp.net'}\n",
      "trying to find valid files for node: aims3.llnl.gov\n",
      "4\n",
      "trying to find valid files for node: esgf-data1.llnl.gov\n",
      "26\n",
      "trying to find valid files for node: crd-esgf-drc.ec.gc.ca\n",
      "30\n",
      "trying to find valid files for node: esgf-data04.diasjp.net\n",
      "1\n",
      "this data_node has less results than the previous one\n",
      "trying to find valid nodes for model: E3SM-2-0\n",
      "{'latest': True, 'project': 'CMIP6', 'experiment_id': 'hist-aer', 'variable_id': 'tas', 'activity_id': 'DAMIP', 'table_id': 'Amon', 'source_id': 'E3SM-2-0'}\n",
      "6\n",
      "CMIP6.DAMIP.E3SM-Project.E3SM-2-0.hist-aer.r2i1p1f1.Amon.tas.gr.v20220906|esgf-data2.llnl.gov\n",
      "{'esgf-data04.diasjp.net', 'esgf-data2.llnl.gov'}\n",
      "trying to find valid files for node: esgf-data04.diasjp.net\n",
      "1\n",
      "trying to find valid files for node: esgf-data2.llnl.gov\n",
      "5\n",
      "trying to find valid nodes for model: FGOALS-g3\n",
      "{'latest': True, 'project': 'CMIP6', 'experiment_id': 'hist-aer', 'variable_id': 'tas', 'activity_id': 'DAMIP', 'table_id': 'Amon', 'source_id': 'FGOALS-g3'}\n",
      "7\n",
      "CMIP6.DAMIP.CAS.FGOALS-g3.hist-aer.r1i1p1f1.Amon.tas.gn.v20200411|esg.lasg.ac.cn\n",
      "{'esg.lasg.ac.cn', 'esgf-data1.llnl.gov', 'esgf-data04.diasjp.net'}\n",
      "trying to find valid files for node: esg.lasg.ac.cn\n",
      "3\n",
      "trying to find valid files for node: esgf-data1.llnl.gov\n",
      "3\n",
      "this data_node has less results than the previous one\n",
      "trying to find valid files for node: esgf-data04.diasjp.net\n",
      "1\n",
      "this data_node has less results than the previous one\n",
      "trying to find valid nodes for model: CESM2\n",
      "{'latest': True, 'project': 'CMIP6', 'experiment_id': 'hist-aer', 'variable_id': 'tas', 'activity_id': 'DAMIP', 'table_id': 'Amon', 'source_id': 'CESM2'}\n",
      "5\n",
      "CMIP6.DAMIP.NCAR.CESM2.hist-aer.r3i1p1f1.Amon.tas.gn.v20200305|esgf-data1.llnl.gov\n",
      "{'esgf-data.ucar.edu', 'esgf-data1.llnl.gov', 'esgf-data04.diasjp.net'}\n",
      "trying to find valid files for node: esgf-data.ucar.edu\n",
      "2\n",
      "trying to find valid files for node: esgf-data1.llnl.gov\n",
      "2\n",
      "this data_node has less results than the previous one\n",
      "trying to find valid files for node: esgf-data04.diasjp.net\n",
      "1\n",
      "this data_node has less results than the previous one\n",
      "[{'source_id': 'IPSL-CM6A-LR', 'data_node': 'aims3.llnl.gov', 'num_results': 10}, {'source_id': 'CNRM-CM6-1', 'data_node': 'aims3.llnl.gov', 'num_results': 10}, {'source_id': 'BCC-CSM2-MR', 'data_node': 'aims3.llnl.gov', 'num_results': 3}, {'source_id': 'MRI-ESM2-0', 'data_node': 'aims3.llnl.gov', 'num_results': 3}, {'source_id': 'MRI-ESM2-0', 'data_node': 'esgf-data03.diasjp.net', 'num_results': 5}, {'source_id': 'HadGEM3-GC31-LL', 'data_node': 'aims3.llnl.gov', 'num_results': 3}, {'source_id': 'HadGEM3-GC31-LL', 'data_node': 'esgf-data1.llnl.gov', 'num_results': 51}, {'source_id': 'GISS-E2-1-G', 'data_node': 'aims3.llnl.gov', 'num_results': 5}, {'source_id': 'GISS-E2-1-G', 'data_node': 'esgf-data1.llnl.gov', 'num_results': 6}, {'source_id': 'GISS-E2-1-G', 'data_node': 'dpesgf03.nccs.nasa.gov', 'num_results': 15}, {'source_id': 'GFDL-ESM4', 'data_node': 'esgf-data1.llnl.gov', 'num_results': 1}, {'source_id': 'ACCESS-ESM1-5', 'data_node': 'esgf-data1.llnl.gov', 'num_results': 3}, {'source_id': 'NorESM2-LM', 'data_node': 'esgf-data04.diasjp.net', 'num_results': 1}, {'source_id': 'ACCESS-CM2', 'data_node': 'esgf-data1.llnl.gov', 'num_results': 3}, {'source_id': 'MIROC6', 'data_node': 'aims3.llnl.gov', 'num_results': 3}, {'source_id': 'MIROC6', 'data_node': 'esgf-data1.llnl.gov', 'num_results': 7}, {'source_id': 'MIROC6', 'data_node': 'esgf-data02.diasjp.net', 'num_results': 10}, {'source_id': 'CanESM5', 'data_node': 'aims3.llnl.gov', 'num_results': 4}, {'source_id': 'CanESM5', 'data_node': 'esgf-data1.llnl.gov', 'num_results': 26}, {'source_id': 'CanESM5', 'data_node': 'crd-esgf-drc.ec.gc.ca', 'num_results': 30}, {'source_id': 'E3SM-2-0', 'data_node': 'esgf-data04.diasjp.net', 'num_results': 1}, {'source_id': 'E3SM-2-0', 'data_node': 'esgf-data2.llnl.gov', 'num_results': 5}, {'source_id': 'FGOALS-g3', 'data_node': 'esg.lasg.ac.cn', 'num_results': 3}, {'source_id': 'CESM2', 'data_node': 'esgf-data.ucar.edu', 'num_results': 2}]\n"
     ]
    }
   ],
   "source": [
    "# # Constrain the source_id_set to the first 1 model\n",
    "# source_id_set = list(source_id_set)[0:1]\n",
    "\n",
    "# # Print the set\n",
    "# print(source_id_set)\n",
    "\n",
    "# Initialize an empty dictionary to store the results\n",
    "max_results = {'source_id': None, 'data_node': None, 'num_results': 0}\n",
    "\n",
    "# Create a list for the max_results dictionaries\n",
    "max_results_list = []\n",
    "\n",
    "# Set up the max results per source dictionary\n",
    "max_results_per_source = {}\n",
    "\n",
    "# Loop through the source_id_set and query which nodes have data for each model\n",
    "for source_id in source_id_set:\n",
    "    print(\"trying to find valid nodes for model: {}\".format(source_id))\n",
    "    # Set the source_id constraint\n",
    "    params['source_id'] = source_id\n",
    "    print(params)\n",
    "    # Query the database\n",
    "    model_query = conn.new_context(**params)\n",
    "    # Get the results\n",
    "    model_results = model_query.search()\n",
    "    # Print the number of results\n",
    "    print(len(model_results))\n",
    "\n",
    "    # if the len of the model results is not 0\n",
    "    if len(model_results) != 0:\n",
    "        # Print the first result\n",
    "        print(model_results[0].json['id'])\n",
    "\n",
    "    # Identify the unique nodes (data_node) which have data for the model\n",
    "    data_node_set = set(result.json['data_node'] for result in model_results)\n",
    "\n",
    "    # Print the set\n",
    "    print(data_node_set)\n",
    "\n",
    "    # Loop through the data_node_set and query how many files are available for each \n",
    "    # node\n",
    "    for data_node in data_node_set:\n",
    "        print(\"trying to find valid files for node: {}\".format(data_node))\n",
    "        \n",
    "        # Set up the params for the query\n",
    "        params_node = params.copy()\n",
    "        \n",
    "        # Set the data_node constraint\n",
    "        params_node['data_node'] = data_node\n",
    "        # Query the database\n",
    "        node_query = conn.new_context(**params_node)\n",
    "        # Get the results\n",
    "        node_results = node_query.search()\n",
    "        # Print the number of results\n",
    "        print(len(node_results))\n",
    "\n",
    "        # If this source_id is not in max_results_per_source or this data_node has more results, update the dictionary\n",
    "        if source_id not in max_results_per_source or len(node_results) > max_results_per_source[source_id]:\n",
    "            max_results = {'source_id': source_id, 'data_node': data_node, 'num_results': len(node_results)}\n",
    "            max_results_per_source[source_id] = len(node_results)\n",
    "\n",
    "            # Append the max_results dictionary to the list\n",
    "            max_results_list.append(max_results)\n",
    "        else:\n",
    "            print(\"this data_node has less results than the previous one\")\n",
    "            continue\n",
    "\n",
    "# Print the dictionary\n",
    "print(max_results_list)\n",
    "\n",
    "\n",
    "\n"
   ]
  },
  {
   "cell_type": "code",
   "execution_count": 7,
   "metadata": {},
   "outputs": [
    {
     "name": "stdout",
     "output_type": "stream",
     "text": [
      "['IPSL-CM6A-LR', 'CNRM-CM6-1', 'BCC-CSM2-MR', 'MRI-ESM2-0', 'HadGEM3-GC31-LL', 'GISS-E2-1-G', 'GFDL-ESM4', 'ACCESS-ESM1-5', 'NorESM2-LM', 'ACCESS-CM2', 'MIROC6', 'CanESM5', 'E3SM-2-0', 'FGOALS-g3', 'CESM2']\n",
      "source_id: IPSL-CM6A-LR\n",
      "source_id: CNRM-CM6-1\n",
      "source_id: BCC-CSM2-MR\n",
      "source_id: MRI-ESM2-0\n",
      "source_id: HadGEM3-GC31-LL\n",
      "source_id: GISS-E2-1-G\n",
      "source_id: GFDL-ESM4\n",
      "source_id: ACCESS-ESM1-5\n",
      "source_id: NorESM2-LM\n",
      "source_id: ACCESS-CM2\n",
      "source_id: MIROC6\n",
      "source_id: CanESM5\n",
      "source_id: E3SM-2-0\n",
      "source_id: FGOALS-g3\n",
      "source_id: CESM2\n"
     ]
    }
   ],
   "source": [
    "# Clean the max_results_list to remove duplicate source_id entries\n",
    "# Keep the entry with the highest number of results (num_results)\n",
    "# Initialize an empty list to store the unique source_id entries\n",
    "unique_source_id_list = []\n",
    "\n",
    "# Loop through the max_results_list and append the unique source_id entries\n",
    "for result in max_results_list:\n",
    "    if result['source_id'] not in unique_source_id_list:\n",
    "        unique_source_id_list.append(result['source_id'])\n",
    "\n",
    "# Print the list\n",
    "print(unique_source_id_list)\n",
    "\n",
    "# Initialize an empty list to store the unique max_results_list entries\n",
    "unique_max_results_list = []\n",
    "\n",
    "# Loop through the unique_source_id_list and only\n",
    "# Append the max_results_list entries which match the source_id and have the highest num_results\n",
    "for source_id in unique_source_id_list:\n",
    "    print(\"source_id: {}\".format(source_id))\n",
    "    # Initialize an empty list to store the num_results\n",
    "    num_results_list = []\n",
    "    # Loop through the max_results_list and append the num_results to the list\n",
    "    for result in max_results_list:\n",
    "        if result['source_id'] == source_id:\n",
    "            num_results_list.append(result['num_results'])\n",
    "    # Get the max num_results\n",
    "    max_num_results = max(num_results_list)\n",
    "    # Loop through the max_results_list and append the entries which match the source_id and max_num_results\n",
    "    for result in max_results_list:\n",
    "        if result['source_id'] == source_id and result['num_results'] == max_num_results:\n",
    "            unique_max_results_list.append(result)"
   ]
  },
  {
   "cell_type": "code",
   "execution_count": 8,
   "metadata": {},
   "outputs": [],
   "source": [
    "# Convert the unique_max_results_list to a dataframe\n",
    "unique_max_results_df = pd.DataFrame.from_dict(unique_max_results_list)\n",
    "\n",
    "# Print the dataframe\n",
    "unique_max_results_df\n",
    "\n",
    "# save the dataframe\n",
    "# save in current directory + save_data + filename\n",
    "save_dir = os.path.join(os.getcwd(), 'save_data')\n",
    "save_filename = 'unique_max_results_df_{}_{}_{}_{}_{}.csv'.format(experiment_id, variable_id, project, table_id, activity_id)\n",
    "\n",
    "# Form the save path\n",
    "save_path = os.path.join(save_dir, save_filename)\n",
    "\n",
    "# Check if the save directory exists\n",
    "if not os.path.exists(save_path):\n",
    "    # Make the directory\n",
    "    os.makedirs(save_dir)\n",
    "\n",
    "# Save the dataframe\n",
    "unique_max_results_df.to_csv(save_path)"
   ]
  },
  {
   "cell_type": "code",
   "execution_count": 7,
   "metadata": {},
   "outputs": [],
   "source": [
    "save_dir = os.path.join(os.getcwd(), 'save_data')\n",
    "save_filename = 'unique_max_results_df_{}_{}_{}_{}_{}.csv'.format(experiment_id, variable_id, project, table_id, activity_id)\n",
    "\n",
    "# Form the save path\n",
    "save_path = os.path.join(save_dir, save_filename)"
   ]
  },
  {
   "cell_type": "code",
   "execution_count": 9,
   "metadata": {},
   "outputs": [
    {
     "name": "stdout",
     "output_type": "stream",
     "text": [
      "source_id: IPSL-CM6A-LR, data_node: aims3.llnl.gov\n",
      "experiment_id: hist-aer, variable_id: tas, activity_id: DAMIP, data_node: aims3.llnl.gov\n",
      "10\n",
      "source_id: CNRM-CM6-1, data_node: aims3.llnl.gov\n",
      "experiment_id: hist-aer, variable_id: tas, activity_id: DAMIP, data_node: aims3.llnl.gov\n",
      "10\n",
      "source_id: BCC-CSM2-MR, data_node: aims3.llnl.gov\n",
      "experiment_id: hist-aer, variable_id: tas, activity_id: DAMIP, data_node: aims3.llnl.gov\n",
      "3\n",
      "source_id: MRI-ESM2-0, data_node: esgf-data03.diasjp.net\n",
      "experiment_id: hist-aer, variable_id: tas, activity_id: DAMIP, data_node: esgf-data03.diasjp.net\n",
      "5\n",
      "source_id: HadGEM3-GC31-LL, data_node: esgf-data1.llnl.gov\n",
      "experiment_id: hist-aer, variable_id: tas, activity_id: DAMIP, data_node: esgf-data1.llnl.gov\n",
      "51\n",
      "source_id: GISS-E2-1-G, data_node: dpesgf03.nccs.nasa.gov\n",
      "experiment_id: hist-aer, variable_id: tas, activity_id: DAMIP, data_node: dpesgf03.nccs.nasa.gov\n",
      "15\n",
      "source_id: GFDL-ESM4, data_node: esgf-data1.llnl.gov\n",
      "experiment_id: hist-aer, variable_id: tas, activity_id: DAMIP, data_node: esgf-data1.llnl.gov\n",
      "1\n",
      "source_id: ACCESS-ESM1-5, data_node: esgf-data1.llnl.gov\n",
      "experiment_id: hist-aer, variable_id: tas, activity_id: DAMIP, data_node: esgf-data1.llnl.gov\n",
      "3\n",
      "source_id: NorESM2-LM, data_node: esgf-data04.diasjp.net\n",
      "experiment_id: hist-aer, variable_id: tas, activity_id: DAMIP, data_node: esgf-data04.diasjp.net\n",
      "1\n",
      "source_id: ACCESS-CM2, data_node: esgf-data1.llnl.gov\n",
      "experiment_id: hist-aer, variable_id: tas, activity_id: DAMIP, data_node: esgf-data1.llnl.gov\n",
      "3\n",
      "source_id: MIROC6, data_node: esgf-data02.diasjp.net\n",
      "experiment_id: hist-aer, variable_id: tas, activity_id: DAMIP, data_node: esgf-data02.diasjp.net\n",
      "10\n",
      "source_id: CanESM5, data_node: crd-esgf-drc.ec.gc.ca\n",
      "experiment_id: hist-aer, variable_id: tas, activity_id: DAMIP, data_node: crd-esgf-drc.ec.gc.ca\n",
      "30\n",
      "source_id: E3SM-2-0, data_node: esgf-data2.llnl.gov\n",
      "experiment_id: hist-aer, variable_id: tas, activity_id: DAMIP, data_node: esgf-data2.llnl.gov\n",
      "5\n",
      "source_id: FGOALS-g3, data_node: esg.lasg.ac.cn\n",
      "experiment_id: hist-aer, variable_id: tas, activity_id: DAMIP, data_node: esg.lasg.ac.cn\n",
      "3\n",
      "source_id: CESM2, data_node: esgf-data.ucar.edu\n",
      "experiment_id: hist-aer, variable_id: tas, activity_id: DAMIP, data_node: esgf-data.ucar.edu\n",
      "2\n",
      "[<pyesgf.search.results.ResultSet object at 0x7f7697aebca0>, <pyesgf.search.results.ResultSet object at 0x7f7697ae8430>, <pyesgf.search.results.ResultSet object at 0x7f7697aeb730>, <pyesgf.search.results.ResultSet object at 0x7f7697aeada0>, <pyesgf.search.results.ResultSet object at 0x7f7697aebe80>, <pyesgf.search.results.ResultSet object at 0x7f7697aea3b0>, <pyesgf.search.results.ResultSet object at 0x7f7697ae9780>, <pyesgf.search.results.ResultSet object at 0x7f7697aebfd0>, <pyesgf.search.results.ResultSet object at 0x7f7697aea830>, <pyesgf.search.results.ResultSet object at 0x7f7697ae9570>, <pyesgf.search.results.ResultSet object at 0x7f7697ae86a0>, <pyesgf.search.results.ResultSet object at 0x7f7697aebd60>, <pyesgf.search.results.ResultSet object at 0x7f7697aebd90>, <pyesgf.search.results.ResultSet object at 0x7f7697cd61a0>, <pyesgf.search.results.ResultSet object at 0x7f7697cd4a60>]\n"
     ]
    }
   ],
   "source": [
    "# Open the save_path as a dataframe\n",
    "unique_max_results_df = pd.read_csv(save_path)\n",
    "\n",
    "results_list = []\n",
    "\n",
    "# Loop over the dataframe to create a list of result sets\n",
    "for i in range(len(unique_max_results_df)):\n",
    "    \n",
    "    # Get the source_id and data_node\n",
    "    source_id = unique_max_results_df.loc[i, 'source_id']\n",
    "    data_node = unique_max_results_df.loc[i, 'data_node']\n",
    "\n",
    "    # Print the source_id and data_node\n",
    "    print(\"source_id: {}, data_node: {}\".format(source_id, data_node))\n",
    "\n",
    "    # Print the experiment_id, variable_id, activity_id, and data_node\n",
    "    print(\"experiment_id: {}, variable_id: {}, activity_id: {}, data_node: {}\".format(experiment_id, variable_id, activity_id, data_node))\n",
    "\n",
    "    results = query_data_esgf(conn,\n",
    "                            source_id = source_id,\n",
    "                            experiment_id = experiment_id,\n",
    "                            variable_id = variable_id,\n",
    "                            activity_id = activity_id,\n",
    "                            data_node = data_node,\n",
    "    )\n",
    "\n",
    "    print(len(results))\n",
    "\n",
    "    # Append the results to the results_list\n",
    "    results_list.append(results)\n",
    "\n",
    "# Print the results_list\n",
    "print(results_list)"
   ]
  },
  {
   "cell_type": "code",
   "execution_count": 11,
   "metadata": {},
   "outputs": [
    {
     "name": "stdout",
     "output_type": "stream",
     "text": [
      "10\n",
      "Extracting file context for 10 datasets...\n",
      "Error: <pyesgf.search.results.DatasetResult object at 0x7f7697aeb1f0>\n",
      "Error: <pyesgf.search.results.DatasetResult object at 0x7f7697cd55d0>\n",
      "Error: <pyesgf.search.results.DatasetResult object at 0x7f7697cd6350>\n",
      "Error: <pyesgf.search.results.DatasetResult object at 0x7f7697cd4c70>\n",
      "Error: <pyesgf.search.results.DatasetResult object at 0x7f78a4ef5300>\n",
      "Error: <pyesgf.search.results.DatasetResult object at 0x7f7697cd5690>\n",
      "10\n",
      "Extracting file context for 10 datasets...\n",
      "Error: <pyesgf.search.results.DatasetResult object at 0x7f7697e77790>\n",
      "Error: <pyesgf.search.results.DatasetResult object at 0x7f7697ae9750>\n",
      "Error: <pyesgf.search.results.DatasetResult object at 0x7f7697cd45e0>\n",
      "Error: <pyesgf.search.results.DatasetResult object at 0x7f7697cd50c0>\n",
      "Error: <pyesgf.search.results.DatasetResult object at 0x7f7697cd7370>\n",
      "3\n",
      "Extracting file context for 3 datasets...\n",
      "5\n",
      "Extracting file context for 5 datasets...\n",
      "Error: <pyesgf.search.results.DatasetResult object at 0x7f7697ae8b50>\n",
      "Error: <pyesgf.search.results.DatasetResult object at 0x7f7697e77820>\n",
      "51\n",
      "Extracting file context for 51 datasets...\n",
      "Error: <pyesgf.search.results.DatasetResult object at 0x7f7697a292d0>\n",
      "Error: <pyesgf.search.results.DatasetResult object at 0x7f7697cd4df0>\n",
      "Error: <pyesgf.search.results.DatasetResult object at 0x7f7697a24ca0>\n",
      "Error: <pyesgf.search.results.DatasetResult object at 0x7f7697e77100>\n",
      "Error: <pyesgf.search.results.DatasetResult object at 0x7f7697a254b0>\n",
      "Error: <pyesgf.search.results.DatasetResult object at 0x7f7697ba86a0>\n",
      "Error: <pyesgf.search.results.DatasetResult object at 0x7f7697a2aa40>\n",
      "Error: <pyesgf.search.results.DatasetResult object at 0x7f7697a26290>\n",
      "Error: <pyesgf.search.results.DatasetResult object at 0x7f7697bd93c0>\n",
      "Error: <pyesgf.search.results.DatasetResult object at 0x7f7697ba9210>\n",
      "Error: <pyesgf.search.results.DatasetResult object at 0x7f7697e772b0>\n",
      "Error: <pyesgf.search.results.DatasetResult object at 0x7f7697baa050>\n",
      "Error: <pyesgf.search.results.DatasetResult object at 0x7f7697bd80d0>\n",
      "Error: <pyesgf.search.results.DatasetResult object at 0x7f7697cd7bb0>\n",
      "Error: <pyesgf.search.results.DatasetResult object at 0x7f7697bd9900>\n",
      "Error: <pyesgf.search.results.DatasetResult object at 0x7f7697cd60b0>\n",
      "Error: <pyesgf.search.results.DatasetResult object at 0x7f7697bda380>\n",
      "Error: <pyesgf.search.results.DatasetResult object at 0x7f7697bd8fa0>\n",
      "Error: <pyesgf.search.results.DatasetResult object at 0x7f7697bda200>\n",
      "15\n",
      "Extracting file context for 15 datasets...\n",
      "Error: <pyesgf.search.results.DatasetResult object at 0x7f7697e77400>\n",
      "Error: <pyesgf.search.results.DatasetResult object at 0x7f7697bab280>\n",
      "Error: <pyesgf.search.results.DatasetResult object at 0x7f7697baa5c0>\n",
      "1\n",
      "Extracting file context for 1 datasets...\n",
      "3\n",
      "Extracting file context for 3 datasets...\n",
      "1\n",
      "Extracting file context for 1 datasets...\n",
      "3\n",
      "Extracting file context for 3 datasets...\n",
      "10\n",
      "Extracting file context for 10 datasets...\n",
      "Error: <pyesgf.search.results.DatasetResult object at 0x7f7697e76ad0>\n",
      "Error: <pyesgf.search.results.DatasetResult object at 0x7f7697ba85e0>\n",
      "Error: <pyesgf.search.results.DatasetResult object at 0x7f78a4ef6f50>\n",
      "Error: <pyesgf.search.results.DatasetResult object at 0x7f78a4ef5ff0>\n",
      "30\n",
      "Extracting file context for 30 datasets...\n",
      "Error: <pyesgf.search.results.DatasetResult object at 0x7f7697ae9c30>\n",
      "Error: <pyesgf.search.results.DatasetResult object at 0x7f7697bab580>\n",
      "Error: <pyesgf.search.results.DatasetResult object at 0x7f7697ba81f0>\n",
      "Error: <pyesgf.search.results.DatasetResult object at 0x7f7697c299c0>\n",
      "Error: <pyesgf.search.results.DatasetResult object at 0x7f7697a287c0>\n",
      "Error: <pyesgf.search.results.DatasetResult object at 0x7f7697ba8460>\n",
      "Error: <pyesgf.search.results.DatasetResult object at 0x7f7697c28ee0>\n",
      "Error: <pyesgf.search.results.DatasetResult object at 0x7f7697c2a500>\n",
      "Error: <pyesgf.search.results.DatasetResult object at 0x7f7697c29330>\n",
      "Error: <pyesgf.search.results.DatasetResult object at 0x7f7697a295a0>\n",
      "Error: <pyesgf.search.results.DatasetResult object at 0x7f7697c28070>\n",
      "Error: <pyesgf.search.results.DatasetResult object at 0x7f7697c289a0>\n",
      "Error: <pyesgf.search.results.DatasetResult object at 0x7f7697a2bd30>\n",
      "5\n",
      "Extracting file context for 5 datasets...\n",
      "Error: <pyesgf.search.results.DatasetResult object at 0x7f7697ae9c30>\n",
      "Error: <pyesgf.search.results.DatasetResult object at 0x7f7697e77f70>\n",
      "Error: <pyesgf.search.results.DatasetResult object at 0x7f7697bab040>\n",
      "3\n",
      "Extracting file context for 3 datasets...\n",
      "Error: <pyesgf.search.results.DatasetResult object at 0x7f7697e76f20>\n",
      "Error: <pyesgf.search.results.DatasetResult object at 0x7f7697ae82e0>\n",
      "2\n",
      "Extracting file context for 2 datasets...\n",
      "[[{'filename': 'tas_Amon_IPSL-CM6A-LR_hist-aer_r10i1p1f1_gr_185001-202012.nc', 'url': 'http://aims3.llnl.gov/thredds/fileServer/css03_data/CMIP6/DAMIP/IPSL/IPSL-CM6A-LR/hist-aer/r10i1p1f1/Amon/tas/gr/v20180914/tas_Amon_IPSL-CM6A-LR_hist-aer_r10i1p1f1_gr_185001-202012.nc'}, {'filename': 'tas_Amon_IPSL-CM6A-LR_hist-aer_r7i1p1f1_gr_185001-202012.nc', 'url': 'http://aims3.llnl.gov/thredds/fileServer/css03_data/CMIP6/DAMIP/IPSL/IPSL-CM6A-LR/hist-aer/r7i1p1f1/Amon/tas/gr/v20180914/tas_Amon_IPSL-CM6A-LR_hist-aer_r7i1p1f1_gr_185001-202012.nc'}, {'filename': 'tas_Amon_IPSL-CM6A-LR_hist-aer_r3i1p1f1_gr_185001-202012.nc', 'url': 'http://aims3.llnl.gov/thredds/fileServer/css03_data/CMIP6/DAMIP/IPSL/IPSL-CM6A-LR/hist-aer/r3i1p1f1/Amon/tas/gr/v20180914/tas_Amon_IPSL-CM6A-LR_hist-aer_r3i1p1f1_gr_185001-202012.nc'}, {'filename': 'tas_Amon_IPSL-CM6A-LR_hist-aer_r4i1p1f1_gr_185001-202012.nc', 'url': 'http://aims3.llnl.gov/thredds/fileServer/css03_data/CMIP6/DAMIP/IPSL/IPSL-CM6A-LR/hist-aer/r4i1p1f1/Amon/tas/gr/v20180914/tas_Amon_IPSL-CM6A-LR_hist-aer_r4i1p1f1_gr_185001-202012.nc'}], [{'filename': 'tas_Amon_CNRM-CM6-1_hist-aer_r2i1p1f2_gr_185001-202012.nc', 'url': 'http://aims3.llnl.gov/thredds/fileServer/css03_data/CMIP6/DAMIP/CNRM-CERFACS/CNRM-CM6-1/hist-aer/r2i1p1f2/Amon/tas/gr/v20190308/tas_Amon_CNRM-CM6-1_hist-aer_r2i1p1f2_gr_185001-202012.nc'}, {'filename': 'tas_Amon_CNRM-CM6-1_hist-aer_r3i1p1f2_gr_185001-202012.nc', 'url': 'http://aims3.llnl.gov/thredds/fileServer/css03_data/CMIP6/DAMIP/CNRM-CERFACS/CNRM-CM6-1/hist-aer/r3i1p1f2/Amon/tas/gr/v20190308/tas_Amon_CNRM-CM6-1_hist-aer_r3i1p1f2_gr_185001-202012.nc'}, {'filename': 'tas_Amon_CNRM-CM6-1_hist-aer_r5i1p1f2_gr_185001-202012.nc', 'url': 'http://aims3.llnl.gov/thredds/fileServer/css03_data/CMIP6/DAMIP/CNRM-CERFACS/CNRM-CM6-1/hist-aer/r5i1p1f2/Amon/tas/gr/v20190308/tas_Amon_CNRM-CM6-1_hist-aer_r5i1p1f2_gr_185001-202012.nc'}, {'filename': 'tas_Amon_CNRM-CM6-1_hist-aer_r4i1p1f2_gr_185001-202012.nc', 'url': 'http://aims3.llnl.gov/thredds/fileServer/css03_data/CMIP6/DAMIP/CNRM-CERFACS/CNRM-CM6-1/hist-aer/r4i1p1f2/Amon/tas/gr/v20190308/tas_Amon_CNRM-CM6-1_hist-aer_r4i1p1f2_gr_185001-202012.nc'}, {'filename': 'tas_Amon_CNRM-CM6-1_hist-aer_r7i1p1f2_gr_185001-202012.nc', 'url': 'http://aims3.llnl.gov/thredds/fileServer/css03_data/CMIP6/DAMIP/CNRM-CERFACS/CNRM-CM6-1/hist-aer/r7i1p1f2/Amon/tas/gr/v20190308/tas_Amon_CNRM-CM6-1_hist-aer_r7i1p1f2_gr_185001-202012.nc'}], [{'filename': 'tas_Amon_BCC-CSM2-MR_hist-aer_r3i1p1f1_gn_185001-202012.nc', 'url': 'http://aims3.llnl.gov/thredds/fileServer/css03_data/CMIP6/DAMIP/BCC/BCC-CSM2-MR/hist-aer/r3i1p1f1/Amon/tas/gn/v20190508/tas_Amon_BCC-CSM2-MR_hist-aer_r3i1p1f1_gn_185001-202012.nc'}, {'filename': 'tas_Amon_BCC-CSM2-MR_hist-aer_r2i1p1f1_gn_185001-202012.nc', 'url': 'http://aims3.llnl.gov/thredds/fileServer/css03_data/CMIP6/DAMIP/BCC/BCC-CSM2-MR/hist-aer/r2i1p1f1/Amon/tas/gn/v20190507/tas_Amon_BCC-CSM2-MR_hist-aer_r2i1p1f1_gn_185001-202012.nc'}, {'filename': 'tas_Amon_BCC-CSM2-MR_hist-aer_r1i1p1f1_gn_185001-202012.nc', 'url': 'http://aims3.llnl.gov/thredds/fileServer/css03_data/CMIP6/DAMIP/BCC/BCC-CSM2-MR/hist-aer/r1i1p1f1/Amon/tas/gn/v20190507/tas_Amon_BCC-CSM2-MR_hist-aer_r1i1p1f1_gn_185001-202012.nc'}], [{'filename': 'tas_Amon_MRI-ESM2-0_hist-aer_r4i1p1f1_gn_185001-202012.nc', 'url': 'http://esgf-data03.diasjp.net/thredds/fileServer/esg_dataroot/CMIP6/DAMIP/MRI/MRI-ESM2-0/hist-aer/r4i1p1f1/Amon/tas/gn/v20200327/tas_Amon_MRI-ESM2-0_hist-aer_r4i1p1f1_gn_185001-202012.nc'}, {'filename': 'tas_Amon_MRI-ESM2-0_hist-aer_r1i1p1f1_gn_185001-201412.nc', 'url': 'http://esgf-data03.diasjp.net/thredds/fileServer/esg_dataroot/CMIP6/DAMIP/MRI/MRI-ESM2-0/hist-aer/r1i1p1f1/Amon/tas/gn/v20190320/tas_Amon_MRI-ESM2-0_hist-aer_r1i1p1f1_gn_185001-201412.nc'}, {'filename': 'tas_Amon_MRI-ESM2-0_hist-aer_r1i1p1f1_gn_201501-202012.nc', 'url': 'http://esgf-data03.diasjp.net/thredds/fileServer/esg_dataroot/CMIP6/DAMIP/MRI/MRI-ESM2-0/hist-aer/r1i1p1f1/Amon/tas/gn/v20190320/tas_Amon_MRI-ESM2-0_hist-aer_r1i1p1f1_gn_201501-202012.nc'}, {'filename': 'tas_Amon_MRI-ESM2-0_hist-aer_r2i1p1f1_gn_185001-202012.nc', 'url': 'http://esgf-data03.diasjp.net/thredds/fileServer/esg_dataroot/CMIP6/DAMIP/MRI/MRI-ESM2-0/hist-aer/r2i1p1f1/Amon/tas/gn/v20200327/tas_Amon_MRI-ESM2-0_hist-aer_r2i1p1f1_gn_185001-202012.nc'}], [{'filename': 'tas_Amon_HadGEM3-GC31-LL_hist-aer_r3i1p1f3_gn_185001-194912.nc', 'url': 'http://esgf-data1.llnl.gov/thredds/fileServer/css03_data/CMIP6/DAMIP/MOHC/HadGEM3-GC31-LL/hist-aer/r3i1p1f3/Amon/tas/gn/v20190814/tas_Amon_HadGEM3-GC31-LL_hist-aer_r3i1p1f3_gn_185001-194912.nc'}, {'filename': 'tas_Amon_HadGEM3-GC31-LL_hist-aer_r3i1p1f3_gn_195001-202012.nc', 'url': 'http://esgf-data1.llnl.gov/thredds/fileServer/css03_data/CMIP6/DAMIP/MOHC/HadGEM3-GC31-LL/hist-aer/r3i1p1f3/Amon/tas/gn/v20190814/tas_Amon_HadGEM3-GC31-LL_hist-aer_r3i1p1f3_gn_195001-202012.nc'}, {'filename': 'tas_Amon_HadGEM3-GC31-LL_hist-aer_r5i1p1f3_gn_185001-194912.nc', 'url': 'https://esgf-data1.llnl.gov/thredds/fileServer/css03_data/CMIP6/DAMIP/MOHC/HadGEM3-GC31-LL/hist-aer/r5i1p1f3/Amon/tas/gn/v20211123/tas_Amon_HadGEM3-GC31-LL_hist-aer_r5i1p1f3_gn_185001-194912.nc'}, {'filename': 'tas_Amon_HadGEM3-GC31-LL_hist-aer_r5i1p1f3_gn_195001-202012.nc', 'url': 'https://esgf-data1.llnl.gov/thredds/fileServer/css03_data/CMIP6/DAMIP/MOHC/HadGEM3-GC31-LL/hist-aer/r5i1p1f3/Amon/tas/gn/v20211123/tas_Amon_HadGEM3-GC31-LL_hist-aer_r5i1p1f3_gn_195001-202012.nc'}, {'filename': 'tas_Amon_HadGEM3-GC31-LL_hist-aer_r16i1p1f3_gn_185001-194912.nc', 'url': 'https://esgf-data1.llnl.gov/thredds/fileServer/css03_data/CMIP6/DAMIP/MOHC/HadGEM3-GC31-LL/hist-aer/r16i1p1f3/Amon/tas/gn/v20221128/tas_Amon_HadGEM3-GC31-LL_hist-aer_r16i1p1f3_gn_185001-194912.nc'}, {'filename': 'tas_Amon_HadGEM3-GC31-LL_hist-aer_r16i1p1f3_gn_195001-202012.nc', 'url': 'https://esgf-data1.llnl.gov/thredds/fileServer/css03_data/CMIP6/DAMIP/MOHC/HadGEM3-GC31-LL/hist-aer/r16i1p1f3/Amon/tas/gn/v20221128/tas_Amon_HadGEM3-GC31-LL_hist-aer_r16i1p1f3_gn_195001-202012.nc'}, {'filename': 'tas_Amon_HadGEM3-GC31-LL_hist-aer_r11i1p1f3_gn_185001-194912.nc', 'url': 'https://esgf-data1.llnl.gov/thredds/fileServer/css03_data/CMIP6/DAMIP/MOHC/HadGEM3-GC31-LL/hist-aer/r11i1p1f3/Amon/tas/gn/v20221128/tas_Amon_HadGEM3-GC31-LL_hist-aer_r11i1p1f3_gn_185001-194912.nc'}, {'filename': 'tas_Amon_HadGEM3-GC31-LL_hist-aer_r11i1p1f3_gn_195001-202012.nc', 'url': 'https://esgf-data1.llnl.gov/thredds/fileServer/css03_data/CMIP6/DAMIP/MOHC/HadGEM3-GC31-LL/hist-aer/r11i1p1f3/Amon/tas/gn/v20221128/tas_Amon_HadGEM3-GC31-LL_hist-aer_r11i1p1f3_gn_195001-202012.nc'}, {'filename': 'tas_Amon_HadGEM3-GC31-LL_hist-aer_r17i1p1f3_gn_185001-194912.nc', 'url': 'https://esgf-data1.llnl.gov/thredds/fileServer/css03_data/CMIP6/DAMIP/MOHC/HadGEM3-GC31-LL/hist-aer/r17i1p1f3/Amon/tas/gn/v20221129/tas_Amon_HadGEM3-GC31-LL_hist-aer_r17i1p1f3_gn_185001-194912.nc'}, {'filename': 'tas_Amon_HadGEM3-GC31-LL_hist-aer_r17i1p1f3_gn_195001-202012.nc', 'url': 'https://esgf-data1.llnl.gov/thredds/fileServer/css03_data/CMIP6/DAMIP/MOHC/HadGEM3-GC31-LL/hist-aer/r17i1p1f3/Amon/tas/gn/v20221129/tas_Amon_HadGEM3-GC31-LL_hist-aer_r17i1p1f3_gn_195001-202012.nc'}, {'filename': 'tas_Amon_HadGEM3-GC31-LL_hist-aer_r18i1p1f3_gn_185001-194912.nc', 'url': 'https://esgf-data1.llnl.gov/thredds/fileServer/css03_data/CMIP6/DAMIP/MOHC/HadGEM3-GC31-LL/hist-aer/r18i1p1f3/Amon/tas/gn/v20221129/tas_Amon_HadGEM3-GC31-LL_hist-aer_r18i1p1f3_gn_185001-194912.nc'}, {'filename': 'tas_Amon_HadGEM3-GC31-LL_hist-aer_r18i1p1f3_gn_195001-202012.nc', 'url': 'https://esgf-data1.llnl.gov/thredds/fileServer/css03_data/CMIP6/DAMIP/MOHC/HadGEM3-GC31-LL/hist-aer/r18i1p1f3/Amon/tas/gn/v20221129/tas_Amon_HadGEM3-GC31-LL_hist-aer_r18i1p1f3_gn_195001-202012.nc'}, {'filename': 'tas_Amon_HadGEM3-GC31-LL_hist-aer_r19i1p1f3_gn_185001-194912.nc', 'url': 'https://esgf-data1.llnl.gov/thredds/fileServer/css03_data/CMIP6/DAMIP/MOHC/HadGEM3-GC31-LL/hist-aer/r19i1p1f3/Amon/tas/gn/v20221125/tas_Amon_HadGEM3-GC31-LL_hist-aer_r19i1p1f3_gn_185001-194912.nc'}, {'filename': 'tas_Amon_HadGEM3-GC31-LL_hist-aer_r19i1p1f3_gn_195001-202012.nc', 'url': 'https://esgf-data1.llnl.gov/thredds/fileServer/css03_data/CMIP6/DAMIP/MOHC/HadGEM3-GC31-LL/hist-aer/r19i1p1f3/Amon/tas/gn/v20221125/tas_Amon_HadGEM3-GC31-LL_hist-aer_r19i1p1f3_gn_195001-202012.nc'}, {'filename': 'tas_Amon_HadGEM3-GC31-LL_hist-aer_r38i1p1f3_gn_185001-194912.nc', 'url': 'https://esgf-data1.llnl.gov/thredds/fileServer/css03_data/CMIP6/DAMIP/MOHC/HadGEM3-GC31-LL/hist-aer/r38i1p1f3/Amon/tas/gn/v20230202/tas_Amon_HadGEM3-GC31-LL_hist-aer_r38i1p1f3_gn_185001-194912.nc'}, {'filename': 'tas_Amon_HadGEM3-GC31-LL_hist-aer_r38i1p1f3_gn_195001-202012.nc', 'url': 'https://esgf-data1.llnl.gov/thredds/fileServer/css03_data/CMIP6/DAMIP/MOHC/HadGEM3-GC31-LL/hist-aer/r38i1p1f3/Amon/tas/gn/v20230202/tas_Amon_HadGEM3-GC31-LL_hist-aer_r38i1p1f3_gn_195001-202012.nc'}, {'filename': 'tas_Amon_HadGEM3-GC31-LL_hist-aer_r33i1p1f3_gn_185001-194912.nc', 'url': 'https://esgf-data1.llnl.gov/thredds/fileServer/css03_data/CMIP6/DAMIP/MOHC/HadGEM3-GC31-LL/hist-aer/r33i1p1f3/Amon/tas/gn/v20230205/tas_Amon_HadGEM3-GC31-LL_hist-aer_r33i1p1f3_gn_185001-194912.nc'}, {'filename': 'tas_Amon_HadGEM3-GC31-LL_hist-aer_r33i1p1f3_gn_195001-202012.nc', 'url': 'https://esgf-data1.llnl.gov/thredds/fileServer/css03_data/CMIP6/DAMIP/MOHC/HadGEM3-GC31-LL/hist-aer/r33i1p1f3/Amon/tas/gn/v20230205/tas_Amon_HadGEM3-GC31-LL_hist-aer_r33i1p1f3_gn_195001-202012.nc'}, {'filename': 'tas_Amon_HadGEM3-GC31-LL_hist-aer_r35i1p1f3_gn_185001-194912.nc', 'url': 'https://esgf-data1.llnl.gov/thredds/fileServer/css03_data/CMIP6/DAMIP/MOHC/HadGEM3-GC31-LL/hist-aer/r35i1p1f3/Amon/tas/gn/v20230203/tas_Amon_HadGEM3-GC31-LL_hist-aer_r35i1p1f3_gn_185001-194912.nc'}, {'filename': 'tas_Amon_HadGEM3-GC31-LL_hist-aer_r35i1p1f3_gn_195001-202012.nc', 'url': 'https://esgf-data1.llnl.gov/thredds/fileServer/css03_data/CMIP6/DAMIP/MOHC/HadGEM3-GC31-LL/hist-aer/r35i1p1f3/Amon/tas/gn/v20230203/tas_Amon_HadGEM3-GC31-LL_hist-aer_r35i1p1f3_gn_195001-202012.nc'}, {'filename': 'tas_Amon_HadGEM3-GC31-LL_hist-aer_r48i1p1f3_gn_185001-194912.nc', 'url': 'https://esgf-data1.llnl.gov/thredds/fileServer/css03_data/CMIP6/DAMIP/MOHC/HadGEM3-GC31-LL/hist-aer/r48i1p1f3/Amon/tas/gn/v20230403/tas_Amon_HadGEM3-GC31-LL_hist-aer_r48i1p1f3_gn_185001-194912.nc'}, {'filename': 'tas_Amon_HadGEM3-GC31-LL_hist-aer_r48i1p1f3_gn_195001-202012.nc', 'url': 'https://esgf-data1.llnl.gov/thredds/fileServer/css03_data/CMIP6/DAMIP/MOHC/HadGEM3-GC31-LL/hist-aer/r48i1p1f3/Amon/tas/gn/v20230403/tas_Amon_HadGEM3-GC31-LL_hist-aer_r48i1p1f3_gn_195001-202012.nc'}, {'filename': 'tas_Amon_HadGEM3-GC31-LL_hist-aer_r46i1p1f3_gn_185001-194912.nc', 'url': 'https://esgf-data1.llnl.gov/thredds/fileServer/css03_data/CMIP6/DAMIP/MOHC/HadGEM3-GC31-LL/hist-aer/r46i1p1f3/Amon/tas/gn/v20230328/tas_Amon_HadGEM3-GC31-LL_hist-aer_r46i1p1f3_gn_185001-194912.nc'}, {'filename': 'tas_Amon_HadGEM3-GC31-LL_hist-aer_r46i1p1f3_gn_195001-202012.nc', 'url': 'https://esgf-data1.llnl.gov/thredds/fileServer/css03_data/CMIP6/DAMIP/MOHC/HadGEM3-GC31-LL/hist-aer/r46i1p1f3/Amon/tas/gn/v20230328/tas_Amon_HadGEM3-GC31-LL_hist-aer_r46i1p1f3_gn_195001-202012.nc'}, {'filename': 'tas_Amon_HadGEM3-GC31-LL_hist-aer_r42i1p1f3_gn_185001-194912.nc', 'url': 'https://esgf-data1.llnl.gov/thredds/fileServer/css03_data/CMIP6/DAMIP/MOHC/HadGEM3-GC31-LL/hist-aer/r42i1p1f3/Amon/tas/gn/v20230328/tas_Amon_HadGEM3-GC31-LL_hist-aer_r42i1p1f3_gn_185001-194912.nc'}, {'filename': 'tas_Amon_HadGEM3-GC31-LL_hist-aer_r42i1p1f3_gn_195001-202012.nc', 'url': 'https://esgf-data1.llnl.gov/thredds/fileServer/css03_data/CMIP6/DAMIP/MOHC/HadGEM3-GC31-LL/hist-aer/r42i1p1f3/Amon/tas/gn/v20230328/tas_Amon_HadGEM3-GC31-LL_hist-aer_r42i1p1f3_gn_195001-202012.nc'}, {'filename': 'tas_Amon_HadGEM3-GC31-LL_hist-aer_r21i1p1f3_gn_185001-194912.nc', 'url': 'https://esgf-data1.llnl.gov/thredds/fileServer/css03_data/CMIP6/DAMIP/MOHC/HadGEM3-GC31-LL/hist-aer/r21i1p1f3/Amon/tas/gn/v20230203/tas_Amon_HadGEM3-GC31-LL_hist-aer_r21i1p1f3_gn_185001-194912.nc'}, {'filename': 'tas_Amon_HadGEM3-GC31-LL_hist-aer_r21i1p1f3_gn_195001-202012.nc', 'url': 'https://esgf-data1.llnl.gov/thredds/fileServer/css03_data/CMIP6/DAMIP/MOHC/HadGEM3-GC31-LL/hist-aer/r21i1p1f3/Amon/tas/gn/v20230203/tas_Amon_HadGEM3-GC31-LL_hist-aer_r21i1p1f3_gn_195001-202012.nc'}, {'filename': 'tas_Amon_HadGEM3-GC31-LL_hist-aer_r40i1p1f3_gn_185001-194912.nc', 'url': 'https://esgf-data1.llnl.gov/thredds/fileServer/css03_data/CMIP6/DAMIP/MOHC/HadGEM3-GC31-LL/hist-aer/r40i1p1f3/Amon/tas/gn/v20230206/tas_Amon_HadGEM3-GC31-LL_hist-aer_r40i1p1f3_gn_185001-194912.nc'}, {'filename': 'tas_Amon_HadGEM3-GC31-LL_hist-aer_r40i1p1f3_gn_195001-202012.nc', 'url': 'https://esgf-data1.llnl.gov/thredds/fileServer/css03_data/CMIP6/DAMIP/MOHC/HadGEM3-GC31-LL/hist-aer/r40i1p1f3/Amon/tas/gn/v20230206/tas_Amon_HadGEM3-GC31-LL_hist-aer_r40i1p1f3_gn_195001-202012.nc'}, {'filename': 'tas_Amon_HadGEM3-GC31-LL_hist-aer_r27i1p1f3_gn_185001-194912.nc', 'url': 'https://esgf-data1.llnl.gov/thredds/fileServer/css03_data/CMIP6/DAMIP/MOHC/HadGEM3-GC31-LL/hist-aer/r27i1p1f3/Amon/tas/gn/v20230208/tas_Amon_HadGEM3-GC31-LL_hist-aer_r27i1p1f3_gn_185001-194912.nc'}, {'filename': 'tas_Amon_HadGEM3-GC31-LL_hist-aer_r27i1p1f3_gn_195001-202012.nc', 'url': 'https://esgf-data1.llnl.gov/thredds/fileServer/css03_data/CMIP6/DAMIP/MOHC/HadGEM3-GC31-LL/hist-aer/r27i1p1f3/Amon/tas/gn/v20230208/tas_Amon_HadGEM3-GC31-LL_hist-aer_r27i1p1f3_gn_195001-202012.nc'}, {'filename': 'tas_Amon_HadGEM3-GC31-LL_hist-aer_r57i1p1f3_gn_185001-194912.nc', 'url': 'https://esgf-data1.llnl.gov/thredds/fileServer/css03_data/CMIP6/DAMIP/MOHC/HadGEM3-GC31-LL/hist-aer/r57i1p1f3/Amon/tas/gn/v20230331/tas_Amon_HadGEM3-GC31-LL_hist-aer_r57i1p1f3_gn_185001-194912.nc'}, {'filename': 'tas_Amon_HadGEM3-GC31-LL_hist-aer_r57i1p1f3_gn_195001-202012.nc', 'url': 'https://esgf-data1.llnl.gov/thredds/fileServer/css03_data/CMIP6/DAMIP/MOHC/HadGEM3-GC31-LL/hist-aer/r57i1p1f3/Amon/tas/gn/v20230331/tas_Amon_HadGEM3-GC31-LL_hist-aer_r57i1p1f3_gn_195001-202012.nc'}, {'filename': 'tas_Amon_HadGEM3-GC31-LL_hist-aer_r23i1p1f3_gn_185001-194912.nc', 'url': 'https://esgf-data1.llnl.gov/thredds/fileServer/css03_data/CMIP6/DAMIP/MOHC/HadGEM3-GC31-LL/hist-aer/r23i1p1f3/Amon/tas/gn/v20230205/tas_Amon_HadGEM3-GC31-LL_hist-aer_r23i1p1f3_gn_185001-194912.nc'}, {'filename': 'tas_Amon_HadGEM3-GC31-LL_hist-aer_r23i1p1f3_gn_195001-202012.nc', 'url': 'https://esgf-data1.llnl.gov/thredds/fileServer/css03_data/CMIP6/DAMIP/MOHC/HadGEM3-GC31-LL/hist-aer/r23i1p1f3/Amon/tas/gn/v20230205/tas_Amon_HadGEM3-GC31-LL_hist-aer_r23i1p1f3_gn_195001-202012.nc'}, {'filename': 'tas_Amon_HadGEM3-GC31-LL_hist-aer_r31i1p1f3_gn_185001-194912.nc', 'url': 'https://esgf-data1.llnl.gov/thredds/fileServer/css03_data/CMIP6/DAMIP/MOHC/HadGEM3-GC31-LL/hist-aer/r31i1p1f3/Amon/tas/gn/v20230126/tas_Amon_HadGEM3-GC31-LL_hist-aer_r31i1p1f3_gn_185001-194912.nc'}, {'filename': 'tas_Amon_HadGEM3-GC31-LL_hist-aer_r31i1p1f3_gn_195001-202012.nc', 'url': 'https://esgf-data1.llnl.gov/thredds/fileServer/css03_data/CMIP6/DAMIP/MOHC/HadGEM3-GC31-LL/hist-aer/r31i1p1f3/Amon/tas/gn/v20230126/tas_Amon_HadGEM3-GC31-LL_hist-aer_r31i1p1f3_gn_195001-202012.nc'}, {'filename': 'tas_Amon_HadGEM3-GC31-LL_hist-aer_r45i1p1f3_gn_185001-194912.nc', 'url': 'https://esgf-data1.llnl.gov/thredds/fileServer/css03_data/CMIP6/DAMIP/MOHC/HadGEM3-GC31-LL/hist-aer/r45i1p1f3/Amon/tas/gn/v20230407/tas_Amon_HadGEM3-GC31-LL_hist-aer_r45i1p1f3_gn_185001-194912.nc'}, {'filename': 'tas_Amon_HadGEM3-GC31-LL_hist-aer_r45i1p1f3_gn_195001-202012.nc', 'url': 'https://esgf-data1.llnl.gov/thredds/fileServer/css03_data/CMIP6/DAMIP/MOHC/HadGEM3-GC31-LL/hist-aer/r45i1p1f3/Amon/tas/gn/v20230407/tas_Amon_HadGEM3-GC31-LL_hist-aer_r45i1p1f3_gn_195001-202012.nc'}, {'filename': 'tas_Amon_HadGEM3-GC31-LL_hist-aer_r43i1p1f3_gn_185001-194912.nc', 'url': 'https://esgf-data1.llnl.gov/thredds/fileServer/css03_data/CMIP6/DAMIP/MOHC/HadGEM3-GC31-LL/hist-aer/r43i1p1f3/Amon/tas/gn/v20230411/tas_Amon_HadGEM3-GC31-LL_hist-aer_r43i1p1f3_gn_185001-194912.nc'}, {'filename': 'tas_Amon_HadGEM3-GC31-LL_hist-aer_r43i1p1f3_gn_195001-202012.nc', 'url': 'https://esgf-data1.llnl.gov/thredds/fileServer/css03_data/CMIP6/DAMIP/MOHC/HadGEM3-GC31-LL/hist-aer/r43i1p1f3/Amon/tas/gn/v20230411/tas_Amon_HadGEM3-GC31-LL_hist-aer_r43i1p1f3_gn_195001-202012.nc'}, {'filename': 'tas_Amon_HadGEM3-GC31-LL_hist-aer_r51i1p1f3_gn_185001-194912.nc', 'url': 'https://esgf-data1.llnl.gov/thredds/fileServer/css03_data/CMIP6/DAMIP/MOHC/HadGEM3-GC31-LL/hist-aer/r51i1p1f3/Amon/tas/gn/v20230323/tas_Amon_HadGEM3-GC31-LL_hist-aer_r51i1p1f3_gn_185001-194912.nc'}, {'filename': 'tas_Amon_HadGEM3-GC31-LL_hist-aer_r51i1p1f3_gn_195001-202012.nc', 'url': 'https://esgf-data1.llnl.gov/thredds/fileServer/css03_data/CMIP6/DAMIP/MOHC/HadGEM3-GC31-LL/hist-aer/r51i1p1f3/Amon/tas/gn/v20230323/tas_Amon_HadGEM3-GC31-LL_hist-aer_r51i1p1f3_gn_195001-202012.nc'}, {'filename': 'tas_Amon_HadGEM3-GC31-LL_hist-aer_r52i1p1f3_gn_185001-194912.nc', 'url': 'https://esgf-data1.llnl.gov/thredds/fileServer/css03_data/CMIP6/DAMIP/MOHC/HadGEM3-GC31-LL/hist-aer/r52i1p1f3/Amon/tas/gn/v20230405/tas_Amon_HadGEM3-GC31-LL_hist-aer_r52i1p1f3_gn_185001-194912.nc'}, {'filename': 'tas_Amon_HadGEM3-GC31-LL_hist-aer_r52i1p1f3_gn_195001-202012.nc', 'url': 'https://esgf-data1.llnl.gov/thredds/fileServer/css03_data/CMIP6/DAMIP/MOHC/HadGEM3-GC31-LL/hist-aer/r52i1p1f3/Amon/tas/gn/v20230405/tas_Amon_HadGEM3-GC31-LL_hist-aer_r52i1p1f3_gn_195001-202012.nc'}, {'filename': 'tas_Amon_HadGEM3-GC31-LL_hist-aer_r56i1p1f3_gn_185001-194912.nc', 'url': 'https://esgf-data1.llnl.gov/thredds/fileServer/css03_data/CMIP6/DAMIP/MOHC/HadGEM3-GC31-LL/hist-aer/r56i1p1f3/Amon/tas/gn/v20230331/tas_Amon_HadGEM3-GC31-LL_hist-aer_r56i1p1f3_gn_185001-194912.nc'}, {'filename': 'tas_Amon_HadGEM3-GC31-LL_hist-aer_r56i1p1f3_gn_195001-202012.nc', 'url': 'https://esgf-data1.llnl.gov/thredds/fileServer/css03_data/CMIP6/DAMIP/MOHC/HadGEM3-GC31-LL/hist-aer/r56i1p1f3/Amon/tas/gn/v20230331/tas_Amon_HadGEM3-GC31-LL_hist-aer_r56i1p1f3_gn_195001-202012.nc'}, {'filename': 'tas_Amon_HadGEM3-GC31-LL_hist-aer_r60i1p1f3_gn_185001-194912.nc', 'url': 'https://esgf-data1.llnl.gov/thredds/fileServer/css03_data/CMIP6/DAMIP/MOHC/HadGEM3-GC31-LL/hist-aer/r60i1p1f3/Amon/tas/gn/v20230329/tas_Amon_HadGEM3-GC31-LL_hist-aer_r60i1p1f3_gn_185001-194912.nc'}, {'filename': 'tas_Amon_HadGEM3-GC31-LL_hist-aer_r60i1p1f3_gn_195001-202012.nc', 'url': 'https://esgf-data1.llnl.gov/thredds/fileServer/css03_data/CMIP6/DAMIP/MOHC/HadGEM3-GC31-LL/hist-aer/r60i1p1f3/Amon/tas/gn/v20230329/tas_Amon_HadGEM3-GC31-LL_hist-aer_r60i1p1f3_gn_195001-202012.nc'}, {'filename': 'tas_Amon_HadGEM3-GC31-LL_hist-aer_r24i1p1f3_gn_185001-194912.nc', 'url': 'https://esgf-data1.llnl.gov/thredds/fileServer/css03_data/CMIP6/DAMIP/MOHC/HadGEM3-GC31-LL/hist-aer/r24i1p1f3/Amon/tas/gn/v20230123/tas_Amon_HadGEM3-GC31-LL_hist-aer_r24i1p1f3_gn_185001-194912.nc'}, {'filename': 'tas_Amon_HadGEM3-GC31-LL_hist-aer_r24i1p1f3_gn_195001-202012.nc', 'url': 'https://esgf-data1.llnl.gov/thredds/fileServer/css03_data/CMIP6/DAMIP/MOHC/HadGEM3-GC31-LL/hist-aer/r24i1p1f3/Amon/tas/gn/v20230123/tas_Amon_HadGEM3-GC31-LL_hist-aer_r24i1p1f3_gn_195001-202012.nc'}, {'filename': 'tas_Amon_HadGEM3-GC31-LL_hist-aer_r22i1p1f3_gn_185001-194912.nc', 'url': 'https://esgf-data1.llnl.gov/thredds/fileServer/css03_data/CMIP6/DAMIP/MOHC/HadGEM3-GC31-LL/hist-aer/r22i1p1f3/Amon/tas/gn/v20230208/tas_Amon_HadGEM3-GC31-LL_hist-aer_r22i1p1f3_gn_185001-194912.nc'}, {'filename': 'tas_Amon_HadGEM3-GC31-LL_hist-aer_r22i1p1f3_gn_195001-202012.nc', 'url': 'https://esgf-data1.llnl.gov/thredds/fileServer/css03_data/CMIP6/DAMIP/MOHC/HadGEM3-GC31-LL/hist-aer/r22i1p1f3/Amon/tas/gn/v20230208/tas_Amon_HadGEM3-GC31-LL_hist-aer_r22i1p1f3_gn_195001-202012.nc'}, {'filename': 'tas_Amon_HadGEM3-GC31-LL_hist-aer_r25i1p1f3_gn_185001-194912.nc', 'url': 'https://esgf-data1.llnl.gov/thredds/fileServer/css03_data/CMIP6/DAMIP/MOHC/HadGEM3-GC31-LL/hist-aer/r25i1p1f3/Amon/tas/gn/v20230207/tas_Amon_HadGEM3-GC31-LL_hist-aer_r25i1p1f3_gn_185001-194912.nc'}, {'filename': 'tas_Amon_HadGEM3-GC31-LL_hist-aer_r25i1p1f3_gn_195001-202012.nc', 'url': 'https://esgf-data1.llnl.gov/thredds/fileServer/css03_data/CMIP6/DAMIP/MOHC/HadGEM3-GC31-LL/hist-aer/r25i1p1f3/Amon/tas/gn/v20230207/tas_Amon_HadGEM3-GC31-LL_hist-aer_r25i1p1f3_gn_195001-202012.nc'}, {'filename': 'tas_Amon_HadGEM3-GC31-LL_hist-aer_r59i1p1f3_gn_185001-194912.nc', 'url': 'https://esgf-data1.llnl.gov/thredds/fileServer/css03_data/CMIP6/DAMIP/MOHC/HadGEM3-GC31-LL/hist-aer/r59i1p1f3/Amon/tas/gn/v20230412/tas_Amon_HadGEM3-GC31-LL_hist-aer_r59i1p1f3_gn_185001-194912.nc'}, {'filename': 'tas_Amon_HadGEM3-GC31-LL_hist-aer_r59i1p1f3_gn_195001-202012.nc', 'url': 'https://esgf-data1.llnl.gov/thredds/fileServer/css03_data/CMIP6/DAMIP/MOHC/HadGEM3-GC31-LL/hist-aer/r59i1p1f3/Amon/tas/gn/v20230412/tas_Amon_HadGEM3-GC31-LL_hist-aer_r59i1p1f3_gn_195001-202012.nc'}, {'filename': 'tas_Amon_HadGEM3-GC31-LL_hist-aer_r28i1p1f3_gn_185001-194912.nc', 'url': 'https://esgf-data1.llnl.gov/thredds/fileServer/css03_data/CMIP6/DAMIP/MOHC/HadGEM3-GC31-LL/hist-aer/r28i1p1f3/Amon/tas/gn/v20230207/tas_Amon_HadGEM3-GC31-LL_hist-aer_r28i1p1f3_gn_185001-194912.nc'}, {'filename': 'tas_Amon_HadGEM3-GC31-LL_hist-aer_r28i1p1f3_gn_195001-202012.nc', 'url': 'https://esgf-data1.llnl.gov/thredds/fileServer/css03_data/CMIP6/DAMIP/MOHC/HadGEM3-GC31-LL/hist-aer/r28i1p1f3/Amon/tas/gn/v20230207/tas_Amon_HadGEM3-GC31-LL_hist-aer_r28i1p1f3_gn_195001-202012.nc'}, {'filename': 'tas_Amon_HadGEM3-GC31-LL_hist-aer_r47i1p1f3_gn_185001-194912.nc', 'url': 'https://esgf-data1.llnl.gov/thredds/fileServer/css03_data/CMIP6/DAMIP/MOHC/HadGEM3-GC31-LL/hist-aer/r47i1p1f3/Amon/tas/gn/v20230406/tas_Amon_HadGEM3-GC31-LL_hist-aer_r47i1p1f3_gn_185001-194912.nc'}, {'filename': 'tas_Amon_HadGEM3-GC31-LL_hist-aer_r47i1p1f3_gn_195001-202012.nc', 'url': 'https://esgf-data1.llnl.gov/thredds/fileServer/css03_data/CMIP6/DAMIP/MOHC/HadGEM3-GC31-LL/hist-aer/r47i1p1f3/Amon/tas/gn/v20230406/tas_Amon_HadGEM3-GC31-LL_hist-aer_r47i1p1f3_gn_195001-202012.nc'}, {'filename': 'tas_Amon_HadGEM3-GC31-LL_hist-aer_r34i1p1f3_gn_185001-194912.nc', 'url': 'https://esgf-data1.llnl.gov/thredds/fileServer/css03_data/CMIP6/DAMIP/MOHC/HadGEM3-GC31-LL/hist-aer/r34i1p1f3/Amon/tas/gn/v20230124/tas_Amon_HadGEM3-GC31-LL_hist-aer_r34i1p1f3_gn_185001-194912.nc'}, {'filename': 'tas_Amon_HadGEM3-GC31-LL_hist-aer_r34i1p1f3_gn_195001-202012.nc', 'url': 'https://esgf-data1.llnl.gov/thredds/fileServer/css03_data/CMIP6/DAMIP/MOHC/HadGEM3-GC31-LL/hist-aer/r34i1p1f3/Amon/tas/gn/v20230124/tas_Amon_HadGEM3-GC31-LL_hist-aer_r34i1p1f3_gn_195001-202012.nc'}], [{'filename': 'tas_Amon_GISS-E2-1-G_hist-aer_r3i1p1f1_gn_185001-190012.nc', 'url': 'https://dpesgf03.nccs.nasa.gov/thredds/fileServer/CMIP6/DAMIP/NASA-GISS/GISS-E2-1-G/hist-aer/r3i1p1f1/Amon/tas/gn/v20180822/tas_Amon_GISS-E2-1-G_hist-aer_r3i1p1f1_gn_185001-190012.nc'}, {'filename': 'tas_Amon_GISS-E2-1-G_hist-aer_r3i1p1f1_gn_190101-195012.nc', 'url': 'https://dpesgf03.nccs.nasa.gov/thredds/fileServer/CMIP6/DAMIP/NASA-GISS/GISS-E2-1-G/hist-aer/r3i1p1f1/Amon/tas/gn/v20180822/tas_Amon_GISS-E2-1-G_hist-aer_r3i1p1f1_gn_190101-195012.nc'}, {'filename': 'tas_Amon_GISS-E2-1-G_hist-aer_r3i1p1f1_gn_195101-200012.nc', 'url': 'https://dpesgf03.nccs.nasa.gov/thredds/fileServer/CMIP6/DAMIP/NASA-GISS/GISS-E2-1-G/hist-aer/r3i1p1f1/Amon/tas/gn/v20180822/tas_Amon_GISS-E2-1-G_hist-aer_r3i1p1f1_gn_195101-200012.nc'}, {'filename': 'tas_Amon_GISS-E2-1-G_hist-aer_r3i1p1f1_gn_200101-201412.nc', 'url': 'https://dpesgf03.nccs.nasa.gov/thredds/fileServer/CMIP6/DAMIP/NASA-GISS/GISS-E2-1-G/hist-aer/r3i1p1f1/Amon/tas/gn/v20180822/tas_Amon_GISS-E2-1-G_hist-aer_r3i1p1f1_gn_200101-201412.nc'}, {'filename': 'tas_Amon_GISS-E2-1-G_hist-aer_r5i1p1f1_gn_185001-190012.nc', 'url': 'https://dpesgf03.nccs.nasa.gov/thredds/fileServer/CMIP6/DAMIP/NASA-GISS/GISS-E2-1-G/hist-aer/r5i1p1f1/Amon/tas/gn/v20180823/tas_Amon_GISS-E2-1-G_hist-aer_r5i1p1f1_gn_185001-190012.nc'}, {'filename': 'tas_Amon_GISS-E2-1-G_hist-aer_r5i1p1f1_gn_190101-195012.nc', 'url': 'https://dpesgf03.nccs.nasa.gov/thredds/fileServer/CMIP6/DAMIP/NASA-GISS/GISS-E2-1-G/hist-aer/r5i1p1f1/Amon/tas/gn/v20180823/tas_Amon_GISS-E2-1-G_hist-aer_r5i1p1f1_gn_190101-195012.nc'}, {'filename': 'tas_Amon_GISS-E2-1-G_hist-aer_r5i1p1f1_gn_195101-200012.nc', 'url': 'https://dpesgf03.nccs.nasa.gov/thredds/fileServer/CMIP6/DAMIP/NASA-GISS/GISS-E2-1-G/hist-aer/r5i1p1f1/Amon/tas/gn/v20180823/tas_Amon_GISS-E2-1-G_hist-aer_r5i1p1f1_gn_195101-200012.nc'}, {'filename': 'tas_Amon_GISS-E2-1-G_hist-aer_r5i1p1f1_gn_200101-201412.nc', 'url': 'https://dpesgf03.nccs.nasa.gov/thredds/fileServer/CMIP6/DAMIP/NASA-GISS/GISS-E2-1-G/hist-aer/r5i1p1f1/Amon/tas/gn/v20180823/tas_Amon_GISS-E2-1-G_hist-aer_r5i1p1f1_gn_200101-201412.nc'}, {'filename': 'tas_Amon_GISS-E2-1-G_hist-aer_r2i1p1f1_gn_185001-190012.nc', 'url': 'https://dpesgf03.nccs.nasa.gov/thredds/fileServer/CMIP6/DAMIP/NASA-GISS/GISS-E2-1-G/hist-aer/r2i1p1f1/Amon/tas/gn/v20180821/tas_Amon_GISS-E2-1-G_hist-aer_r2i1p1f1_gn_185001-190012.nc'}, {'filename': 'tas_Amon_GISS-E2-1-G_hist-aer_r2i1p1f1_gn_190101-195012.nc', 'url': 'https://dpesgf03.nccs.nasa.gov/thredds/fileServer/CMIP6/DAMIP/NASA-GISS/GISS-E2-1-G/hist-aer/r2i1p1f1/Amon/tas/gn/v20180821/tas_Amon_GISS-E2-1-G_hist-aer_r2i1p1f1_gn_190101-195012.nc'}, {'filename': 'tas_Amon_GISS-E2-1-G_hist-aer_r2i1p1f1_gn_195101-200012.nc', 'url': 'https://dpesgf03.nccs.nasa.gov/thredds/fileServer/CMIP6/DAMIP/NASA-GISS/GISS-E2-1-G/hist-aer/r2i1p1f1/Amon/tas/gn/v20180821/tas_Amon_GISS-E2-1-G_hist-aer_r2i1p1f1_gn_195101-200012.nc'}, {'filename': 'tas_Amon_GISS-E2-1-G_hist-aer_r2i1p1f1_gn_200101-201412.nc', 'url': 'https://dpesgf03.nccs.nasa.gov/thredds/fileServer/CMIP6/DAMIP/NASA-GISS/GISS-E2-1-G/hist-aer/r2i1p1f1/Amon/tas/gn/v20180821/tas_Amon_GISS-E2-1-G_hist-aer_r2i1p1f1_gn_200101-201412.nc'}, {'filename': 'tas_Amon_GISS-E2-1-G_hist-aer_r4i1p1f1_gn_185001-190012.nc', 'url': 'https://dpesgf03.nccs.nasa.gov/thredds/fileServer/CMIP6/DAMIP/NASA-GISS/GISS-E2-1-G/hist-aer/r4i1p1f1/Amon/tas/gn/v20180823/tas_Amon_GISS-E2-1-G_hist-aer_r4i1p1f1_gn_185001-190012.nc'}, {'filename': 'tas_Amon_GISS-E2-1-G_hist-aer_r4i1p1f1_gn_190101-195012.nc', 'url': 'https://dpesgf03.nccs.nasa.gov/thredds/fileServer/CMIP6/DAMIP/NASA-GISS/GISS-E2-1-G/hist-aer/r4i1p1f1/Amon/tas/gn/v20180823/tas_Amon_GISS-E2-1-G_hist-aer_r4i1p1f1_gn_190101-195012.nc'}, {'filename': 'tas_Amon_GISS-E2-1-G_hist-aer_r4i1p1f1_gn_195101-200012.nc', 'url': 'https://dpesgf03.nccs.nasa.gov/thredds/fileServer/CMIP6/DAMIP/NASA-GISS/GISS-E2-1-G/hist-aer/r4i1p1f1/Amon/tas/gn/v20180823/tas_Amon_GISS-E2-1-G_hist-aer_r4i1p1f1_gn_195101-200012.nc'}, {'filename': 'tas_Amon_GISS-E2-1-G_hist-aer_r4i1p1f1_gn_200101-201412.nc', 'url': 'https://dpesgf03.nccs.nasa.gov/thredds/fileServer/CMIP6/DAMIP/NASA-GISS/GISS-E2-1-G/hist-aer/r4i1p1f1/Amon/tas/gn/v20180823/tas_Amon_GISS-E2-1-G_hist-aer_r4i1p1f1_gn_200101-201412.nc'}, {'filename': 'tas_Amon_GISS-E2-1-G_hist-aer_r3i1p3f1_gn_185001-190012.nc', 'url': 'https://dpesgf03.nccs.nasa.gov/thredds/fileServer/CMIP6/DAMIP/NASA-GISS/GISS-E2-1-G/hist-aer/r3i1p3f1/Amon/tas/gn/v20191226/tas_Amon_GISS-E2-1-G_hist-aer_r3i1p3f1_gn_185001-190012.nc'}, {'filename': 'tas_Amon_GISS-E2-1-G_hist-aer_r3i1p3f1_gn_190101-195012.nc', 'url': 'https://dpesgf03.nccs.nasa.gov/thredds/fileServer/CMIP6/DAMIP/NASA-GISS/GISS-E2-1-G/hist-aer/r3i1p3f1/Amon/tas/gn/v20191226/tas_Amon_GISS-E2-1-G_hist-aer_r3i1p3f1_gn_190101-195012.nc'}, {'filename': 'tas_Amon_GISS-E2-1-G_hist-aer_r3i1p3f1_gn_195101-200012.nc', 'url': 'https://dpesgf03.nccs.nasa.gov/thredds/fileServer/CMIP6/DAMIP/NASA-GISS/GISS-E2-1-G/hist-aer/r3i1p3f1/Amon/tas/gn/v20191226/tas_Amon_GISS-E2-1-G_hist-aer_r3i1p3f1_gn_195101-200012.nc'}, {'filename': 'tas_Amon_GISS-E2-1-G_hist-aer_r3i1p3f1_gn_200101-201412.nc', 'url': 'https://dpesgf03.nccs.nasa.gov/thredds/fileServer/CMIP6/DAMIP/NASA-GISS/GISS-E2-1-G/hist-aer/r3i1p3f1/Amon/tas/gn/v20191226/tas_Amon_GISS-E2-1-G_hist-aer_r3i1p3f1_gn_200101-201412.nc'}, {'filename': 'tas_Amon_GISS-E2-1-G_hist-aer_r4i1p3f1_gn_185001-190012.nc', 'url': 'https://dpesgf03.nccs.nasa.gov/thredds/fileServer/CMIP6/DAMIP/NASA-GISS/GISS-E2-1-G/hist-aer/r4i1p3f1/Amon/tas/gn/v20191226/tas_Amon_GISS-E2-1-G_hist-aer_r4i1p3f1_gn_185001-190012.nc'}, {'filename': 'tas_Amon_GISS-E2-1-G_hist-aer_r4i1p3f1_gn_190101-195012.nc', 'url': 'https://dpesgf03.nccs.nasa.gov/thredds/fileServer/CMIP6/DAMIP/NASA-GISS/GISS-E2-1-G/hist-aer/r4i1p3f1/Amon/tas/gn/v20191226/tas_Amon_GISS-E2-1-G_hist-aer_r4i1p3f1_gn_190101-195012.nc'}, {'filename': 'tas_Amon_GISS-E2-1-G_hist-aer_r4i1p3f1_gn_195101-200012.nc', 'url': 'https://dpesgf03.nccs.nasa.gov/thredds/fileServer/CMIP6/DAMIP/NASA-GISS/GISS-E2-1-G/hist-aer/r4i1p3f1/Amon/tas/gn/v20191226/tas_Amon_GISS-E2-1-G_hist-aer_r4i1p3f1_gn_195101-200012.nc'}, {'filename': 'tas_Amon_GISS-E2-1-G_hist-aer_r4i1p3f1_gn_200101-201412.nc', 'url': 'https://dpesgf03.nccs.nasa.gov/thredds/fileServer/CMIP6/DAMIP/NASA-GISS/GISS-E2-1-G/hist-aer/r4i1p3f1/Amon/tas/gn/v20191226/tas_Amon_GISS-E2-1-G_hist-aer_r4i1p3f1_gn_200101-201412.nc'}, {'filename': 'tas_Amon_GISS-E2-1-G_hist-aer_r5i1p3f1_gn_185001-190012.nc', 'url': 'https://dpesgf03.nccs.nasa.gov/thredds/fileServer/CMIP6/DAMIP/NASA-GISS/GISS-E2-1-G/hist-aer/r5i1p3f1/Amon/tas/gn/v20191226/tas_Amon_GISS-E2-1-G_hist-aer_r5i1p3f1_gn_185001-190012.nc'}, {'filename': 'tas_Amon_GISS-E2-1-G_hist-aer_r5i1p3f1_gn_190101-195012.nc', 'url': 'https://dpesgf03.nccs.nasa.gov/thredds/fileServer/CMIP6/DAMIP/NASA-GISS/GISS-E2-1-G/hist-aer/r5i1p3f1/Amon/tas/gn/v20191226/tas_Amon_GISS-E2-1-G_hist-aer_r5i1p3f1_gn_190101-195012.nc'}, {'filename': 'tas_Amon_GISS-E2-1-G_hist-aer_r5i1p3f1_gn_195101-200012.nc', 'url': 'https://dpesgf03.nccs.nasa.gov/thredds/fileServer/CMIP6/DAMIP/NASA-GISS/GISS-E2-1-G/hist-aer/r5i1p3f1/Amon/tas/gn/v20191226/tas_Amon_GISS-E2-1-G_hist-aer_r5i1p3f1_gn_195101-200012.nc'}, {'filename': 'tas_Amon_GISS-E2-1-G_hist-aer_r5i1p3f1_gn_200101-201412.nc', 'url': 'https://dpesgf03.nccs.nasa.gov/thredds/fileServer/CMIP6/DAMIP/NASA-GISS/GISS-E2-1-G/hist-aer/r5i1p3f1/Amon/tas/gn/v20191226/tas_Amon_GISS-E2-1-G_hist-aer_r5i1p3f1_gn_200101-201412.nc'}, {'filename': 'tas_Amon_GISS-E2-1-G_hist-aer_r1i1p1f2_gn_185001-190012.nc', 'url': 'https://dpesgf03.nccs.nasa.gov/thredds/fileServer/CMIP6/DAMIP/NASA-GISS/GISS-E2-1-G/hist-aer/r1i1p1f2/Amon/tas/gn/v20191226/tas_Amon_GISS-E2-1-G_hist-aer_r1i1p1f2_gn_185001-190012.nc'}, {'filename': 'tas_Amon_GISS-E2-1-G_hist-aer_r1i1p1f2_gn_190101-195012.nc', 'url': 'https://dpesgf03.nccs.nasa.gov/thredds/fileServer/CMIP6/DAMIP/NASA-GISS/GISS-E2-1-G/hist-aer/r1i1p1f2/Amon/tas/gn/v20191226/tas_Amon_GISS-E2-1-G_hist-aer_r1i1p1f2_gn_190101-195012.nc'}, {'filename': 'tas_Amon_GISS-E2-1-G_hist-aer_r1i1p1f2_gn_195101-200012.nc', 'url': 'https://dpesgf03.nccs.nasa.gov/thredds/fileServer/CMIP6/DAMIP/NASA-GISS/GISS-E2-1-G/hist-aer/r1i1p1f2/Amon/tas/gn/v20191226/tas_Amon_GISS-E2-1-G_hist-aer_r1i1p1f2_gn_195101-200012.nc'}, {'filename': 'tas_Amon_GISS-E2-1-G_hist-aer_r1i1p1f2_gn_200101-201412.nc', 'url': 'https://dpesgf03.nccs.nasa.gov/thredds/fileServer/CMIP6/DAMIP/NASA-GISS/GISS-E2-1-G/hist-aer/r1i1p1f2/Amon/tas/gn/v20191226/tas_Amon_GISS-E2-1-G_hist-aer_r1i1p1f2_gn_200101-201412.nc'}, {'filename': 'tas_Amon_GISS-E2-1-G_hist-aer_r2i1p1f2_gn_185001-190012.nc', 'url': 'https://dpesgf03.nccs.nasa.gov/thredds/fileServer/CMIP6/DAMIP/NASA-GISS/GISS-E2-1-G/hist-aer/r2i1p1f2/Amon/tas/gn/v20191226/tas_Amon_GISS-E2-1-G_hist-aer_r2i1p1f2_gn_185001-190012.nc'}, {'filename': 'tas_Amon_GISS-E2-1-G_hist-aer_r2i1p1f2_gn_190101-195012.nc', 'url': 'https://dpesgf03.nccs.nasa.gov/thredds/fileServer/CMIP6/DAMIP/NASA-GISS/GISS-E2-1-G/hist-aer/r2i1p1f2/Amon/tas/gn/v20191226/tas_Amon_GISS-E2-1-G_hist-aer_r2i1p1f2_gn_190101-195012.nc'}, {'filename': 'tas_Amon_GISS-E2-1-G_hist-aer_r2i1p1f2_gn_195101-200012.nc', 'url': 'https://dpesgf03.nccs.nasa.gov/thredds/fileServer/CMIP6/DAMIP/NASA-GISS/GISS-E2-1-G/hist-aer/r2i1p1f2/Amon/tas/gn/v20191226/tas_Amon_GISS-E2-1-G_hist-aer_r2i1p1f2_gn_195101-200012.nc'}, {'filename': 'tas_Amon_GISS-E2-1-G_hist-aer_r2i1p1f2_gn_200101-201412.nc', 'url': 'https://dpesgf03.nccs.nasa.gov/thredds/fileServer/CMIP6/DAMIP/NASA-GISS/GISS-E2-1-G/hist-aer/r2i1p1f2/Amon/tas/gn/v20191226/tas_Amon_GISS-E2-1-G_hist-aer_r2i1p1f2_gn_200101-201412.nc'}, {'filename': 'tas_Amon_GISS-E2-1-G_hist-aer_r5i1p1f2_gn_185001-190012.nc', 'url': 'https://dpesgf03.nccs.nasa.gov/thredds/fileServer/CMIP6/DAMIP/NASA-GISS/GISS-E2-1-G/hist-aer/r5i1p1f2/Amon/tas/gn/v20191226/tas_Amon_GISS-E2-1-G_hist-aer_r5i1p1f2_gn_185001-190012.nc'}, {'filename': 'tas_Amon_GISS-E2-1-G_hist-aer_r5i1p1f2_gn_190101-195012.nc', 'url': 'https://dpesgf03.nccs.nasa.gov/thredds/fileServer/CMIP6/DAMIP/NASA-GISS/GISS-E2-1-G/hist-aer/r5i1p1f2/Amon/tas/gn/v20191226/tas_Amon_GISS-E2-1-G_hist-aer_r5i1p1f2_gn_190101-195012.nc'}, {'filename': 'tas_Amon_GISS-E2-1-G_hist-aer_r5i1p1f2_gn_195101-200012.nc', 'url': 'https://dpesgf03.nccs.nasa.gov/thredds/fileServer/CMIP6/DAMIP/NASA-GISS/GISS-E2-1-G/hist-aer/r5i1p1f2/Amon/tas/gn/v20191226/tas_Amon_GISS-E2-1-G_hist-aer_r5i1p1f2_gn_195101-200012.nc'}, {'filename': 'tas_Amon_GISS-E2-1-G_hist-aer_r5i1p1f2_gn_200101-201412.nc', 'url': 'https://dpesgf03.nccs.nasa.gov/thredds/fileServer/CMIP6/DAMIP/NASA-GISS/GISS-E2-1-G/hist-aer/r5i1p1f2/Amon/tas/gn/v20191226/tas_Amon_GISS-E2-1-G_hist-aer_r5i1p1f2_gn_200101-201412.nc'}, {'filename': 'tas_Amon_GISS-E2-1-G_hist-aer_r4i1p1f2_gn_185001-190012.nc', 'url': 'https://dpesgf03.nccs.nasa.gov/thredds/fileServer/CMIP6/DAMIP/NASA-GISS/GISS-E2-1-G/hist-aer/r4i1p1f2/Amon/tas/gn/v20191226/tas_Amon_GISS-E2-1-G_hist-aer_r4i1p1f2_gn_185001-190012.nc'}, {'filename': 'tas_Amon_GISS-E2-1-G_hist-aer_r4i1p1f2_gn_190101-195012.nc', 'url': 'https://dpesgf03.nccs.nasa.gov/thredds/fileServer/CMIP6/DAMIP/NASA-GISS/GISS-E2-1-G/hist-aer/r4i1p1f2/Amon/tas/gn/v20191226/tas_Amon_GISS-E2-1-G_hist-aer_r4i1p1f2_gn_190101-195012.nc'}, {'filename': 'tas_Amon_GISS-E2-1-G_hist-aer_r4i1p1f2_gn_195101-200012.nc', 'url': 'https://dpesgf03.nccs.nasa.gov/thredds/fileServer/CMIP6/DAMIP/NASA-GISS/GISS-E2-1-G/hist-aer/r4i1p1f2/Amon/tas/gn/v20191226/tas_Amon_GISS-E2-1-G_hist-aer_r4i1p1f2_gn_195101-200012.nc'}, {'filename': 'tas_Amon_GISS-E2-1-G_hist-aer_r4i1p1f2_gn_200101-201412.nc', 'url': 'https://dpesgf03.nccs.nasa.gov/thredds/fileServer/CMIP6/DAMIP/NASA-GISS/GISS-E2-1-G/hist-aer/r4i1p1f2/Amon/tas/gn/v20191226/tas_Amon_GISS-E2-1-G_hist-aer_r4i1p1f2_gn_200101-201412.nc'}, {'filename': 'tas_Amon_GISS-E2-1-G_hist-aer_r3i1p1f2_gn_185001-190012.nc', 'url': 'https://dpesgf03.nccs.nasa.gov/thredds/fileServer/CMIP6/DAMIP/NASA-GISS/GISS-E2-1-G/hist-aer/r3i1p1f2/Amon/tas/gn/v20191226/tas_Amon_GISS-E2-1-G_hist-aer_r3i1p1f2_gn_185001-190012.nc'}, {'filename': 'tas_Amon_GISS-E2-1-G_hist-aer_r3i1p1f2_gn_190101-195012.nc', 'url': 'https://dpesgf03.nccs.nasa.gov/thredds/fileServer/CMIP6/DAMIP/NASA-GISS/GISS-E2-1-G/hist-aer/r3i1p1f2/Amon/tas/gn/v20191226/tas_Amon_GISS-E2-1-G_hist-aer_r3i1p1f2_gn_190101-195012.nc'}, {'filename': 'tas_Amon_GISS-E2-1-G_hist-aer_r3i1p1f2_gn_195101-200012.nc', 'url': 'https://dpesgf03.nccs.nasa.gov/thredds/fileServer/CMIP6/DAMIP/NASA-GISS/GISS-E2-1-G/hist-aer/r3i1p1f2/Amon/tas/gn/v20191226/tas_Amon_GISS-E2-1-G_hist-aer_r3i1p1f2_gn_195101-200012.nc'}, {'filename': 'tas_Amon_GISS-E2-1-G_hist-aer_r3i1p1f2_gn_200101-201412.nc', 'url': 'https://dpesgf03.nccs.nasa.gov/thredds/fileServer/CMIP6/DAMIP/NASA-GISS/GISS-E2-1-G/hist-aer/r3i1p1f2/Amon/tas/gn/v20191226/tas_Amon_GISS-E2-1-G_hist-aer_r3i1p1f2_gn_200101-201412.nc'}], [{'filename': 'tas_Amon_GFDL-ESM4_hist-aer_r1i1p1f1_gr1_185001-194912.nc', 'url': 'http://esgf-data1.llnl.gov/thredds/fileServer/css03_data/CMIP6/DAMIP/NOAA-GFDL/GFDL-ESM4/hist-aer/r1i1p1f1/Amon/tas/gr1/v20180701/tas_Amon_GFDL-ESM4_hist-aer_r1i1p1f1_gr1_185001-194912.nc'}, {'filename': 'tas_Amon_GFDL-ESM4_hist-aer_r1i1p1f1_gr1_195001-201912.nc', 'url': 'http://esgf-data1.llnl.gov/thredds/fileServer/css03_data/CMIP6/DAMIP/NOAA-GFDL/GFDL-ESM4/hist-aer/r1i1p1f1/Amon/tas/gr1/v20180701/tas_Amon_GFDL-ESM4_hist-aer_r1i1p1f1_gr1_195001-201912.nc'}, {'filename': 'tas_Amon_GFDL-ESM4_hist-aer_r1i1p1f1_gr1_202001-202012.nc', 'url': 'http://esgf-data1.llnl.gov/thredds/fileServer/css03_data/CMIP6/DAMIP/NOAA-GFDL/GFDL-ESM4/hist-aer/r1i1p1f1/Amon/tas/gr1/v20180701/tas_Amon_GFDL-ESM4_hist-aer_r1i1p1f1_gr1_202001-202012.nc'}], [{'filename': 'tas_Amon_ACCESS-ESM1-5_hist-aer_r1i1p1f1_gn_185001-202012.nc', 'url': 'https://esgf-data1.llnl.gov/thredds/fileServer/css03_data/CMIP6/DAMIP/CSIRO/ACCESS-ESM1-5/hist-aer/r1i1p1f1/Amon/tas/gn/v20200615/tas_Amon_ACCESS-ESM1-5_hist-aer_r1i1p1f1_gn_185001-202012.nc'}, {'filename': 'tas_Amon_ACCESS-ESM1-5_hist-aer_r2i1p1f1_gn_185001-202012.nc', 'url': 'https://esgf-data1.llnl.gov/thredds/fileServer/css03_data/CMIP6/DAMIP/CSIRO/ACCESS-ESM1-5/hist-aer/r2i1p1f1/Amon/tas/gn/v20200615/tas_Amon_ACCESS-ESM1-5_hist-aer_r2i1p1f1_gn_185001-202012.nc'}, {'filename': 'tas_Amon_ACCESS-ESM1-5_hist-aer_r3i1p1f1_gn_185001-202012.nc', 'url': 'https://esgf-data1.llnl.gov/thredds/fileServer/css03_data/CMIP6/DAMIP/CSIRO/ACCESS-ESM1-5/hist-aer/r3i1p1f1/Amon/tas/gn/v20200615/tas_Amon_ACCESS-ESM1-5_hist-aer_r3i1p1f1_gn_185001-202012.nc'}], [{'filename': 'tas_Amon_NorESM2-LM_hist-aer_r1i1p1f1_gn_185001-185912.nc', 'url': 'http://esgf-data04.diasjp.net/thredds/fileServer/esg_dataroot/CMIP6/DAMIP/NCC/NorESM2-LM/hist-aer/r1i1p1f1/Amon/tas/gn/v20190920/tas_Amon_NorESM2-LM_hist-aer_r1i1p1f1_gn_185001-185912.nc'}, {'filename': 'tas_Amon_NorESM2-LM_hist-aer_r1i1p1f1_gn_186001-186912.nc', 'url': 'http://esgf-data04.diasjp.net/thredds/fileServer/esg_dataroot/CMIP6/DAMIP/NCC/NorESM2-LM/hist-aer/r1i1p1f1/Amon/tas/gn/v20190920/tas_Amon_NorESM2-LM_hist-aer_r1i1p1f1_gn_186001-186912.nc'}, {'filename': 'tas_Amon_NorESM2-LM_hist-aer_r1i1p1f1_gn_187001-187912.nc', 'url': 'http://esgf-data04.diasjp.net/thredds/fileServer/esg_dataroot/CMIP6/DAMIP/NCC/NorESM2-LM/hist-aer/r1i1p1f1/Amon/tas/gn/v20190920/tas_Amon_NorESM2-LM_hist-aer_r1i1p1f1_gn_187001-187912.nc'}, {'filename': 'tas_Amon_NorESM2-LM_hist-aer_r1i1p1f1_gn_188001-188912.nc', 'url': 'http://esgf-data04.diasjp.net/thredds/fileServer/esg_dataroot/CMIP6/DAMIP/NCC/NorESM2-LM/hist-aer/r1i1p1f1/Amon/tas/gn/v20190920/tas_Amon_NorESM2-LM_hist-aer_r1i1p1f1_gn_188001-188912.nc'}, {'filename': 'tas_Amon_NorESM2-LM_hist-aer_r1i1p1f1_gn_189001-189912.nc', 'url': 'http://esgf-data04.diasjp.net/thredds/fileServer/esg_dataroot/CMIP6/DAMIP/NCC/NorESM2-LM/hist-aer/r1i1p1f1/Amon/tas/gn/v20190920/tas_Amon_NorESM2-LM_hist-aer_r1i1p1f1_gn_189001-189912.nc'}, {'filename': 'tas_Amon_NorESM2-LM_hist-aer_r1i1p1f1_gn_190001-190912.nc', 'url': 'http://esgf-data04.diasjp.net/thredds/fileServer/esg_dataroot/CMIP6/DAMIP/NCC/NorESM2-LM/hist-aer/r1i1p1f1/Amon/tas/gn/v20190920/tas_Amon_NorESM2-LM_hist-aer_r1i1p1f1_gn_190001-190912.nc'}, {'filename': 'tas_Amon_NorESM2-LM_hist-aer_r1i1p1f1_gn_191001-191912.nc', 'url': 'http://esgf-data04.diasjp.net/thredds/fileServer/esg_dataroot/CMIP6/DAMIP/NCC/NorESM2-LM/hist-aer/r1i1p1f1/Amon/tas/gn/v20190920/tas_Amon_NorESM2-LM_hist-aer_r1i1p1f1_gn_191001-191912.nc'}, {'filename': 'tas_Amon_NorESM2-LM_hist-aer_r1i1p1f1_gn_192001-192912.nc', 'url': 'http://esgf-data04.diasjp.net/thredds/fileServer/esg_dataroot/CMIP6/DAMIP/NCC/NorESM2-LM/hist-aer/r1i1p1f1/Amon/tas/gn/v20190920/tas_Amon_NorESM2-LM_hist-aer_r1i1p1f1_gn_192001-192912.nc'}, {'filename': 'tas_Amon_NorESM2-LM_hist-aer_r1i1p1f1_gn_193001-193912.nc', 'url': 'http://esgf-data04.diasjp.net/thredds/fileServer/esg_dataroot/CMIP6/DAMIP/NCC/NorESM2-LM/hist-aer/r1i1p1f1/Amon/tas/gn/v20190920/tas_Amon_NorESM2-LM_hist-aer_r1i1p1f1_gn_193001-193912.nc'}, {'filename': 'tas_Amon_NorESM2-LM_hist-aer_r1i1p1f1_gn_194001-194912.nc', 'url': 'http://esgf-data04.diasjp.net/thredds/fileServer/esg_dataroot/CMIP6/DAMIP/NCC/NorESM2-LM/hist-aer/r1i1p1f1/Amon/tas/gn/v20190920/tas_Amon_NorESM2-LM_hist-aer_r1i1p1f1_gn_194001-194912.nc'}, {'filename': 'tas_Amon_NorESM2-LM_hist-aer_r1i1p1f1_gn_195001-195912.nc', 'url': 'http://esgf-data04.diasjp.net/thredds/fileServer/esg_dataroot/CMIP6/DAMIP/NCC/NorESM2-LM/hist-aer/r1i1p1f1/Amon/tas/gn/v20190920/tas_Amon_NorESM2-LM_hist-aer_r1i1p1f1_gn_195001-195912.nc'}, {'filename': 'tas_Amon_NorESM2-LM_hist-aer_r1i1p1f1_gn_196001-196912.nc', 'url': 'http://esgf-data04.diasjp.net/thredds/fileServer/esg_dataroot/CMIP6/DAMIP/NCC/NorESM2-LM/hist-aer/r1i1p1f1/Amon/tas/gn/v20190920/tas_Amon_NorESM2-LM_hist-aer_r1i1p1f1_gn_196001-196912.nc'}, {'filename': 'tas_Amon_NorESM2-LM_hist-aer_r1i1p1f1_gn_197001-197912.nc', 'url': 'http://esgf-data04.diasjp.net/thredds/fileServer/esg_dataroot/CMIP6/DAMIP/NCC/NorESM2-LM/hist-aer/r1i1p1f1/Amon/tas/gn/v20190920/tas_Amon_NorESM2-LM_hist-aer_r1i1p1f1_gn_197001-197912.nc'}, {'filename': 'tas_Amon_NorESM2-LM_hist-aer_r1i1p1f1_gn_198001-198912.nc', 'url': 'http://esgf-data04.diasjp.net/thredds/fileServer/esg_dataroot/CMIP6/DAMIP/NCC/NorESM2-LM/hist-aer/r1i1p1f1/Amon/tas/gn/v20190920/tas_Amon_NorESM2-LM_hist-aer_r1i1p1f1_gn_198001-198912.nc'}, {'filename': 'tas_Amon_NorESM2-LM_hist-aer_r1i1p1f1_gn_199001-199912.nc', 'url': 'http://esgf-data04.diasjp.net/thredds/fileServer/esg_dataroot/CMIP6/DAMIP/NCC/NorESM2-LM/hist-aer/r1i1p1f1/Amon/tas/gn/v20190920/tas_Amon_NorESM2-LM_hist-aer_r1i1p1f1_gn_199001-199912.nc'}, {'filename': 'tas_Amon_NorESM2-LM_hist-aer_r1i1p1f1_gn_200001-200912.nc', 'url': 'http://esgf-data04.diasjp.net/thredds/fileServer/esg_dataroot/CMIP6/DAMIP/NCC/NorESM2-LM/hist-aer/r1i1p1f1/Amon/tas/gn/v20190920/tas_Amon_NorESM2-LM_hist-aer_r1i1p1f1_gn_200001-200912.nc'}, {'filename': 'tas_Amon_NorESM2-LM_hist-aer_r1i1p1f1_gn_201001-201412.nc', 'url': 'http://esgf-data04.diasjp.net/thredds/fileServer/esg_dataroot/CMIP6/DAMIP/NCC/NorESM2-LM/hist-aer/r1i1p1f1/Amon/tas/gn/v20190920/tas_Amon_NorESM2-LM_hist-aer_r1i1p1f1_gn_201001-201412.nc'}, {'filename': 'tas_Amon_NorESM2-LM_hist-aer_r1i1p1f1_gn_201501-202012.nc', 'url': 'http://esgf-data04.diasjp.net/thredds/fileServer/esg_dataroot/CMIP6/DAMIP/NCC/NorESM2-LM/hist-aer/r1i1p1f1/Amon/tas/gn/v20190920/tas_Amon_NorESM2-LM_hist-aer_r1i1p1f1_gn_201501-202012.nc'}], [{'filename': 'tas_Amon_ACCESS-CM2_hist-aer_r1i1p1f1_gn_185001-202012.nc', 'url': 'https://esgf-data1.llnl.gov/thredds/fileServer/css03_data/CMIP6/DAMIP/CSIRO-ARCCSS/ACCESS-CM2/hist-aer/r1i1p1f1/Amon/tas/gn/v20201120/tas_Amon_ACCESS-CM2_hist-aer_r1i1p1f1_gn_185001-202012.nc'}, {'filename': 'tas_Amon_ACCESS-CM2_hist-aer_r3i1p1f1_gn_185001-202012.nc', 'url': 'https://esgf-data1.llnl.gov/thredds/fileServer/css03_data/CMIP6/DAMIP/CSIRO-ARCCSS/ACCESS-CM2/hist-aer/r3i1p1f1/Amon/tas/gn/v20201120/tas_Amon_ACCESS-CM2_hist-aer_r3i1p1f1_gn_185001-202012.nc'}, {'filename': 'tas_Amon_ACCESS-CM2_hist-aer_r2i1p1f1_gn_185001-202012.nc', 'url': 'https://esgf-data1.llnl.gov/thredds/fileServer/css03_data/CMIP6/DAMIP/CSIRO-ARCCSS/ACCESS-CM2/hist-aer/r2i1p1f1/Amon/tas/gn/v20201120/tas_Amon_ACCESS-CM2_hist-aer_r2i1p1f1_gn_185001-202012.nc'}], [{'filename': 'tas_Amon_MIROC6_hist-aer_r1i1p1f1_gn_185001-194912.nc', 'url': 'http://esgf-data02.diasjp.net/thredds/fileServer/esg_dataroot/CMIP6/DAMIP/MIROC/MIROC6/hist-aer/r1i1p1f1/Amon/tas/gn/v20190705/tas_Amon_MIROC6_hist-aer_r1i1p1f1_gn_185001-194912.nc'}, {'filename': 'tas_Amon_MIROC6_hist-aer_r1i1p1f1_gn_195001-202012.nc', 'url': 'http://esgf-data02.diasjp.net/thredds/fileServer/esg_dataroot/CMIP6/DAMIP/MIROC/MIROC6/hist-aer/r1i1p1f1/Amon/tas/gn/v20190705/tas_Amon_MIROC6_hist-aer_r1i1p1f1_gn_195001-202012.nc'}, {'filename': 'tas_Amon_MIROC6_hist-aer_r4i1p1f1_gn_185001-194912.nc', 'url': 'http://esgf-data02.diasjp.net/thredds/fileServer/esg_dataroot/CMIP6/DAMIP/MIROC/MIROC6/hist-aer/r4i1p1f1/Amon/tas/gn/v20201228/tas_Amon_MIROC6_hist-aer_r4i1p1f1_gn_185001-194912.nc'}, {'filename': 'tas_Amon_MIROC6_hist-aer_r4i1p1f1_gn_195001-202012.nc', 'url': 'http://esgf-data02.diasjp.net/thredds/fileServer/esg_dataroot/CMIP6/DAMIP/MIROC/MIROC6/hist-aer/r4i1p1f1/Amon/tas/gn/v20201228/tas_Amon_MIROC6_hist-aer_r4i1p1f1_gn_195001-202012.nc'}, {'filename': 'tas_Amon_MIROC6_hist-aer_r5i1p1f1_gn_185001-194912.nc', 'url': 'http://esgf-data02.diasjp.net/thredds/fileServer/esg_dataroot/CMIP6/DAMIP/MIROC/MIROC6/hist-aer/r5i1p1f1/Amon/tas/gn/v20201228/tas_Amon_MIROC6_hist-aer_r5i1p1f1_gn_185001-194912.nc'}, {'filename': 'tas_Amon_MIROC6_hist-aer_r5i1p1f1_gn_195001-202012.nc', 'url': 'http://esgf-data02.diasjp.net/thredds/fileServer/esg_dataroot/CMIP6/DAMIP/MIROC/MIROC6/hist-aer/r5i1p1f1/Amon/tas/gn/v20201228/tas_Amon_MIROC6_hist-aer_r5i1p1f1_gn_195001-202012.nc'}, {'filename': 'tas_Amon_MIROC6_hist-aer_r3i1p1f1_gn_185001-194912.nc', 'url': 'http://esgf-data02.diasjp.net/thredds/fileServer/esg_dataroot/CMIP6/DAMIP/MIROC/MIROC6/hist-aer/r3i1p1f1/Amon/tas/gn/v20190705/tas_Amon_MIROC6_hist-aer_r3i1p1f1_gn_185001-194912.nc'}, {'filename': 'tas_Amon_MIROC6_hist-aer_r3i1p1f1_gn_195001-202012.nc', 'url': 'http://esgf-data02.diasjp.net/thredds/fileServer/esg_dataroot/CMIP6/DAMIP/MIROC/MIROC6/hist-aer/r3i1p1f1/Amon/tas/gn/v20190705/tas_Amon_MIROC6_hist-aer_r3i1p1f1_gn_195001-202012.nc'}, {'filename': 'tas_Amon_MIROC6_hist-aer_r7i1p1f1_gn_185001-194912.nc', 'url': 'http://esgf-data02.diasjp.net/thredds/fileServer/esg_dataroot/CMIP6/DAMIP/MIROC/MIROC6/hist-aer/r7i1p1f1/Amon/tas/gn/v20201228/tas_Amon_MIROC6_hist-aer_r7i1p1f1_gn_185001-194912.nc'}, {'filename': 'tas_Amon_MIROC6_hist-aer_r7i1p1f1_gn_195001-202012.nc', 'url': 'http://esgf-data02.diasjp.net/thredds/fileServer/esg_dataroot/CMIP6/DAMIP/MIROC/MIROC6/hist-aer/r7i1p1f1/Amon/tas/gn/v20201228/tas_Amon_MIROC6_hist-aer_r7i1p1f1_gn_195001-202012.nc'}, {'filename': 'tas_Amon_MIROC6_hist-aer_r9i1p1f1_gn_185001-194912.nc', 'url': 'http://esgf-data02.diasjp.net/thredds/fileServer/esg_dataroot/CMIP6/DAMIP/MIROC/MIROC6/hist-aer/r9i1p1f1/Amon/tas/gn/v20201228/tas_Amon_MIROC6_hist-aer_r9i1p1f1_gn_185001-194912.nc'}, {'filename': 'tas_Amon_MIROC6_hist-aer_r9i1p1f1_gn_195001-202012.nc', 'url': 'http://esgf-data02.diasjp.net/thredds/fileServer/esg_dataroot/CMIP6/DAMIP/MIROC/MIROC6/hist-aer/r9i1p1f1/Amon/tas/gn/v20201228/tas_Amon_MIROC6_hist-aer_r9i1p1f1_gn_195001-202012.nc'}], [{'filename': 'tas_Amon_CanESM5_hist-aer_r1i1p1f1_gn_185001-202012.nc', 'url': 'http://crd-esgf-drc.ec.gc.ca/thredds/fileServer/esgE_dataroot/AR6/CMIP6/DAMIP/CCCma/CanESM5/hist-aer/r1i1p1f1/Amon/tas/gn/v20190429/tas_Amon_CanESM5_hist-aer_r1i1p1f1_gn_185001-202012.nc'}, {'filename': 'tas_Amon_CanESM5_hist-aer_r4i1p1f1_gn_185001-202012.nc', 'url': 'http://crd-esgf-drc.ec.gc.ca/thredds/fileServer/esgE_dataroot/AR6/CMIP6/DAMIP/CCCma/CanESM5/hist-aer/r4i1p1f1/Amon/tas/gn/v20190429/tas_Amon_CanESM5_hist-aer_r4i1p1f1_gn_185001-202012.nc'}, {'filename': 'tas_Amon_CanESM5_hist-aer_r2i1p1f1_gn_185001-202012.nc', 'url': 'http://crd-esgf-drc.ec.gc.ca/thredds/fileServer/esgE_dataroot/AR6/CMIP6/DAMIP/CCCma/CanESM5/hist-aer/r2i1p1f1/Amon/tas/gn/v20190429/tas_Amon_CanESM5_hist-aer_r2i1p1f1_gn_185001-202012.nc'}, {'filename': 'tas_Amon_CanESM5_hist-aer_r9i1p1f1_gn_185001-202012.nc', 'url': 'http://crd-esgf-drc.ec.gc.ca/thredds/fileServer/esgE_dataroot/AR6/CMIP6/DAMIP/CCCma/CanESM5/hist-aer/r9i1p1f1/Amon/tas/gn/v20190429/tas_Amon_CanESM5_hist-aer_r9i1p1f1_gn_185001-202012.nc'}, {'filename': 'tas_Amon_CanESM5_hist-aer_r8i1p1f1_gn_185001-202012.nc', 'url': 'http://crd-esgf-drc.ec.gc.ca/thredds/fileServer/esgE_dataroot/AR6/CMIP6/DAMIP/CCCma/CanESM5/hist-aer/r8i1p1f1/Amon/tas/gn/v20190429/tas_Amon_CanESM5_hist-aer_r8i1p1f1_gn_185001-202012.nc'}, {'filename': 'tas_Amon_CanESM5_hist-aer_r5i1p1f1_gn_185001-202012.nc', 'url': 'http://crd-esgf-drc.ec.gc.ca/thredds/fileServer/esgE_dataroot/AR6/CMIP6/DAMIP/CCCma/CanESM5/hist-aer/r5i1p1f1/Amon/tas/gn/v20190429/tas_Amon_CanESM5_hist-aer_r5i1p1f1_gn_185001-202012.nc'}, {'filename': 'tas_Amon_CanESM5_hist-aer_r3i1p1f1_gn_185001-202012.nc', 'url': 'http://crd-esgf-drc.ec.gc.ca/thredds/fileServer/esgE_dataroot/AR6/CMIP6/DAMIP/CCCma/CanESM5/hist-aer/r3i1p1f1/Amon/tas/gn/v20190429/tas_Amon_CanESM5_hist-aer_r3i1p1f1_gn_185001-202012.nc'}, {'filename': 'tas_Amon_CanESM5_hist-aer_r11i1p2f1_gn_185001-202012.nc', 'url': 'http://crd-esgf-drc.ec.gc.ca/thredds/fileServer/esgA_dataroot/AR6/CMIP6/DAMIP/CCCma/CanESM5/hist-aer/r11i1p2f1/Amon/tas/gn/v20190429/tas_Amon_CanESM5_hist-aer_r11i1p2f1_gn_185001-202012.nc'}, {'filename': 'tas_Amon_CanESM5_hist-aer_r12i1p1f1_gn_185001-202012.nc', 'url': 'http://crd-esgf-drc.ec.gc.ca/thredds/fileServer/esgA_dataroot/AR6/CMIP6/DAMIP/CCCma/CanESM5/hist-aer/r12i1p1f1/Amon/tas/gn/v20190429/tas_Amon_CanESM5_hist-aer_r12i1p1f1_gn_185001-202012.nc'}, {'filename': 'tas_Amon_CanESM5_hist-aer_r13i1p2f1_gn_185001-202012.nc', 'url': 'http://crd-esgf-drc.ec.gc.ca/thredds/fileServer/esgA_dataroot/AR6/CMIP6/DAMIP/CCCma/CanESM5/hist-aer/r13i1p2f1/Amon/tas/gn/v20190429/tas_Amon_CanESM5_hist-aer_r13i1p2f1_gn_185001-202012.nc'}, {'filename': 'tas_Amon_CanESM5_hist-aer_r14i1p2f1_gn_185001-202012.nc', 'url': 'http://crd-esgf-drc.ec.gc.ca/thredds/fileServer/esgA_dataroot/AR6/CMIP6/DAMIP/CCCma/CanESM5/hist-aer/r14i1p2f1/Amon/tas/gn/v20190429/tas_Amon_CanESM5_hist-aer_r14i1p2f1_gn_185001-202012.nc'}, {'filename': 'tas_Amon_CanESM5_hist-aer_r15i1p1f1_gn_185001-202012.nc', 'url': 'http://crd-esgf-drc.ec.gc.ca/thredds/fileServer/esgA_dataroot/AR6/CMIP6/DAMIP/CCCma/CanESM5/hist-aer/r15i1p1f1/Amon/tas/gn/v20190429/tas_Amon_CanESM5_hist-aer_r15i1p1f1_gn_185001-202012.nc'}, {'filename': 'tas_Amon_CanESM5_hist-aer_r15i1p2f1_gn_185001-202012.nc', 'url': 'http://crd-esgf-drc.ec.gc.ca/thredds/fileServer/esgA_dataroot/AR6/CMIP6/DAMIP/CCCma/CanESM5/hist-aer/r15i1p2f1/Amon/tas/gn/v20190429/tas_Amon_CanESM5_hist-aer_r15i1p2f1_gn_185001-202012.nc'}, {'filename': 'tas_Amon_CanESM5_hist-aer_r10i1p2f1_gn_185001-202012.nc', 'url': 'http://crd-esgf-drc.ec.gc.ca/thredds/fileServer/esgA_dataroot/AR6/CMIP6/DAMIP/CCCma/CanESM5/hist-aer/r10i1p2f1/Amon/tas/gn/v20190429/tas_Amon_CanESM5_hist-aer_r10i1p2f1_gn_185001-202012.nc'}, {'filename': 'tas_Amon_CanESM5_hist-aer_r7i1p2f1_gn_185001-202012.nc', 'url': 'http://crd-esgf-drc.ec.gc.ca/thredds/fileServer/esgA_dataroot/AR6/CMIP6/DAMIP/CCCma/CanESM5/hist-aer/r7i1p2f1/Amon/tas/gn/v20190429/tas_Amon_CanESM5_hist-aer_r7i1p2f1_gn_185001-202012.nc'}, {'filename': 'tas_Amon_CanESM5_hist-aer_r8i1p2f1_gn_185001-202012.nc', 'url': 'http://crd-esgf-drc.ec.gc.ca/thredds/fileServer/esgA_dataroot/AR6/CMIP6/DAMIP/CCCma/CanESM5/hist-aer/r8i1p2f1/Amon/tas/gn/v20190429/tas_Amon_CanESM5_hist-aer_r8i1p2f1_gn_185001-202012.nc'}, {'filename': 'tas_Amon_CanESM5_hist-aer_r9i1p2f1_gn_185001-202012.nc', 'url': 'http://crd-esgf-drc.ec.gc.ca/thredds/fileServer/esgA_dataroot/AR6/CMIP6/DAMIP/CCCma/CanESM5/hist-aer/r9i1p2f1/Amon/tas/gn/v20190429/tas_Amon_CanESM5_hist-aer_r9i1p2f1_gn_185001-202012.nc'}], [{'filename': 'tas_Amon_E3SM-2-0_hist-aer_r2i1p1f1_gr_185001-189912.nc', 'url': 'https://esgf-data2.llnl.gov/thredds/fileServer/user_pub_work/CMIP6/DAMIP/E3SM-Project/E3SM-2-0/hist-aer/r2i1p1f1/Amon/tas/gr/v20220906/tas_Amon_E3SM-2-0_hist-aer_r2i1p1f1_gr_185001-189912.nc'}, {'filename': 'tas_Amon_E3SM-2-0_hist-aer_r2i1p1f1_gr_190001-194912.nc', 'url': 'https://esgf-data2.llnl.gov/thredds/fileServer/user_pub_work/CMIP6/DAMIP/E3SM-Project/E3SM-2-0/hist-aer/r2i1p1f1/Amon/tas/gr/v20220906/tas_Amon_E3SM-2-0_hist-aer_r2i1p1f1_gr_190001-194912.nc'}, {'filename': 'tas_Amon_E3SM-2-0_hist-aer_r2i1p1f1_gr_195001-199912.nc', 'url': 'https://esgf-data2.llnl.gov/thredds/fileServer/user_pub_work/CMIP6/DAMIP/E3SM-Project/E3SM-2-0/hist-aer/r2i1p1f1/Amon/tas/gr/v20220906/tas_Amon_E3SM-2-0_hist-aer_r2i1p1f1_gr_195001-199912.nc'}, {'filename': 'tas_Amon_E3SM-2-0_hist-aer_r2i1p1f1_gr_200001-201412.nc', 'url': 'https://esgf-data2.llnl.gov/thredds/fileServer/user_pub_work/CMIP6/DAMIP/E3SM-Project/E3SM-2-0/hist-aer/r2i1p1f1/Amon/tas/gr/v20220906/tas_Amon_E3SM-2-0_hist-aer_r2i1p1f1_gr_200001-201412.nc'}, {'filename': 'tas_Amon_E3SM-2-0_hist-aer_r4i1p1f1_gr_185001-189912.nc', 'url': 'https://esgf-data2.llnl.gov/thredds/fileServer/user_pub_work/CMIP6/DAMIP/E3SM-Project/E3SM-2-0/hist-aer/r4i1p1f1/Amon/tas/gr/v20220907/tas_Amon_E3SM-2-0_hist-aer_r4i1p1f1_gr_185001-189912.nc'}, {'filename': 'tas_Amon_E3SM-2-0_hist-aer_r4i1p1f1_gr_190001-194912.nc', 'url': 'https://esgf-data2.llnl.gov/thredds/fileServer/user_pub_work/CMIP6/DAMIP/E3SM-Project/E3SM-2-0/hist-aer/r4i1p1f1/Amon/tas/gr/v20220907/tas_Amon_E3SM-2-0_hist-aer_r4i1p1f1_gr_190001-194912.nc'}, {'filename': 'tas_Amon_E3SM-2-0_hist-aer_r4i1p1f1_gr_195001-199912.nc', 'url': 'https://esgf-data2.llnl.gov/thredds/fileServer/user_pub_work/CMIP6/DAMIP/E3SM-Project/E3SM-2-0/hist-aer/r4i1p1f1/Amon/tas/gr/v20220907/tas_Amon_E3SM-2-0_hist-aer_r4i1p1f1_gr_195001-199912.nc'}, {'filename': 'tas_Amon_E3SM-2-0_hist-aer_r4i1p1f1_gr_200001-201412.nc', 'url': 'https://esgf-data2.llnl.gov/thredds/fileServer/user_pub_work/CMIP6/DAMIP/E3SM-Project/E3SM-2-0/hist-aer/r4i1p1f1/Amon/tas/gr/v20220907/tas_Amon_E3SM-2-0_hist-aer_r4i1p1f1_gr_200001-201412.nc'}], [{'filename': 'tas_Amon_FGOALS-g3_hist-aer_r2i1p1f1_gn_185001-185912.nc', 'url': 'http://esg.lasg.ac.cn/thredds/fileServer/esg_dataroot/CMIP6/DAMIP/CAS/FGOALS-g3/hist-aer/r2i1p1f1/Amon/tas/gn/v20200411/tas_Amon_FGOALS-g3_hist-aer_r2i1p1f1_gn_185001-185912.nc'}, {'filename': 'tas_Amon_FGOALS-g3_hist-aer_r2i1p1f1_gn_186001-186912.nc', 'url': 'http://esg.lasg.ac.cn/thredds/fileServer/esg_dataroot/CMIP6/DAMIP/CAS/FGOALS-g3/hist-aer/r2i1p1f1/Amon/tas/gn/v20200411/tas_Amon_FGOALS-g3_hist-aer_r2i1p1f1_gn_186001-186912.nc'}, {'filename': 'tas_Amon_FGOALS-g3_hist-aer_r2i1p1f1_gn_187001-187912.nc', 'url': 'http://esg.lasg.ac.cn/thredds/fileServer/esg_dataroot/CMIP6/DAMIP/CAS/FGOALS-g3/hist-aer/r2i1p1f1/Amon/tas/gn/v20200411/tas_Amon_FGOALS-g3_hist-aer_r2i1p1f1_gn_187001-187912.nc'}, {'filename': 'tas_Amon_FGOALS-g3_hist-aer_r2i1p1f1_gn_188001-188912.nc', 'url': 'http://esg.lasg.ac.cn/thredds/fileServer/esg_dataroot/CMIP6/DAMIP/CAS/FGOALS-g3/hist-aer/r2i1p1f1/Amon/tas/gn/v20200411/tas_Amon_FGOALS-g3_hist-aer_r2i1p1f1_gn_188001-188912.nc'}, {'filename': 'tas_Amon_FGOALS-g3_hist-aer_r2i1p1f1_gn_189001-189912.nc', 'url': 'http://esg.lasg.ac.cn/thredds/fileServer/esg_dataroot/CMIP6/DAMIP/CAS/FGOALS-g3/hist-aer/r2i1p1f1/Amon/tas/gn/v20200411/tas_Amon_FGOALS-g3_hist-aer_r2i1p1f1_gn_189001-189912.nc'}, {'filename': 'tas_Amon_FGOALS-g3_hist-aer_r2i1p1f1_gn_190001-190912.nc', 'url': 'http://esg.lasg.ac.cn/thredds/fileServer/esg_dataroot/CMIP6/DAMIP/CAS/FGOALS-g3/hist-aer/r2i1p1f1/Amon/tas/gn/v20200411/tas_Amon_FGOALS-g3_hist-aer_r2i1p1f1_gn_190001-190912.nc'}, {'filename': 'tas_Amon_FGOALS-g3_hist-aer_r2i1p1f1_gn_191001-191912.nc', 'url': 'http://esg.lasg.ac.cn/thredds/fileServer/esg_dataroot/CMIP6/DAMIP/CAS/FGOALS-g3/hist-aer/r2i1p1f1/Amon/tas/gn/v20200411/tas_Amon_FGOALS-g3_hist-aer_r2i1p1f1_gn_191001-191912.nc'}, {'filename': 'tas_Amon_FGOALS-g3_hist-aer_r2i1p1f1_gn_192001-192912.nc', 'url': 'http://esg.lasg.ac.cn/thredds/fileServer/esg_dataroot/CMIP6/DAMIP/CAS/FGOALS-g3/hist-aer/r2i1p1f1/Amon/tas/gn/v20200411/tas_Amon_FGOALS-g3_hist-aer_r2i1p1f1_gn_192001-192912.nc'}, {'filename': 'tas_Amon_FGOALS-g3_hist-aer_r2i1p1f1_gn_193001-193912.nc', 'url': 'http://esg.lasg.ac.cn/thredds/fileServer/esg_dataroot/CMIP6/DAMIP/CAS/FGOALS-g3/hist-aer/r2i1p1f1/Amon/tas/gn/v20200411/tas_Amon_FGOALS-g3_hist-aer_r2i1p1f1_gn_193001-193912.nc'}, {'filename': 'tas_Amon_FGOALS-g3_hist-aer_r2i1p1f1_gn_194001-194912.nc', 'url': 'http://esg.lasg.ac.cn/thredds/fileServer/esg_dataroot/CMIP6/DAMIP/CAS/FGOALS-g3/hist-aer/r2i1p1f1/Amon/tas/gn/v20200411/tas_Amon_FGOALS-g3_hist-aer_r2i1p1f1_gn_194001-194912.nc'}, {'filename': 'tas_Amon_FGOALS-g3_hist-aer_r2i1p1f1_gn_195001-195912.nc', 'url': 'http://esg.lasg.ac.cn/thredds/fileServer/esg_dataroot/CMIP6/DAMIP/CAS/FGOALS-g3/hist-aer/r2i1p1f1/Amon/tas/gn/v20200411/tas_Amon_FGOALS-g3_hist-aer_r2i1p1f1_gn_195001-195912.nc'}, {'filename': 'tas_Amon_FGOALS-g3_hist-aer_r2i1p1f1_gn_196001-196912.nc', 'url': 'http://esg.lasg.ac.cn/thredds/fileServer/esg_dataroot/CMIP6/DAMIP/CAS/FGOALS-g3/hist-aer/r2i1p1f1/Amon/tas/gn/v20200411/tas_Amon_FGOALS-g3_hist-aer_r2i1p1f1_gn_196001-196912.nc'}, {'filename': 'tas_Amon_FGOALS-g3_hist-aer_r2i1p1f1_gn_197001-197912.nc', 'url': 'http://esg.lasg.ac.cn/thredds/fileServer/esg_dataroot/CMIP6/DAMIP/CAS/FGOALS-g3/hist-aer/r2i1p1f1/Amon/tas/gn/v20200411/tas_Amon_FGOALS-g3_hist-aer_r2i1p1f1_gn_197001-197912.nc'}, {'filename': 'tas_Amon_FGOALS-g3_hist-aer_r2i1p1f1_gn_198001-198912.nc', 'url': 'http://esg.lasg.ac.cn/thredds/fileServer/esg_dataroot/CMIP6/DAMIP/CAS/FGOALS-g3/hist-aer/r2i1p1f1/Amon/tas/gn/v20200411/tas_Amon_FGOALS-g3_hist-aer_r2i1p1f1_gn_198001-198912.nc'}, {'filename': 'tas_Amon_FGOALS-g3_hist-aer_r2i1p1f1_gn_199001-199912.nc', 'url': 'http://esg.lasg.ac.cn/thredds/fileServer/esg_dataroot/CMIP6/DAMIP/CAS/FGOALS-g3/hist-aer/r2i1p1f1/Amon/tas/gn/v20200411/tas_Amon_FGOALS-g3_hist-aer_r2i1p1f1_gn_199001-199912.nc'}, {'filename': 'tas_Amon_FGOALS-g3_hist-aer_r2i1p1f1_gn_200001-200912.nc', 'url': 'http://esg.lasg.ac.cn/thredds/fileServer/esg_dataroot/CMIP6/DAMIP/CAS/FGOALS-g3/hist-aer/r2i1p1f1/Amon/tas/gn/v20200411/tas_Amon_FGOALS-g3_hist-aer_r2i1p1f1_gn_200001-200912.nc'}, {'filename': 'tas_Amon_FGOALS-g3_hist-aer_r2i1p1f1_gn_201001-202012.nc', 'url': 'http://esg.lasg.ac.cn/thredds/fileServer/esg_dataroot/CMIP6/DAMIP/CAS/FGOALS-g3/hist-aer/r2i1p1f1/Amon/tas/gn/v20200411/tas_Amon_FGOALS-g3_hist-aer_r2i1p1f1_gn_201001-202012.nc'}], [{'filename': 'tas_Amon_CESM2_hist-aer_r3i1p1f1_gn_185001-189912.nc', 'url': 'http://esgf-data.ucar.edu/thredds/fileServer/esg_dataroot/CMIP6/DAMIP/NCAR/CESM2/hist-aer/r3i1p1f1/Amon/tas/gn/v20200305/tas_Amon_CESM2_hist-aer_r3i1p1f1_gn_185001-189912.nc'}, {'filename': 'tas_Amon_CESM2_hist-aer_r3i1p1f1_gn_190001-194912.nc', 'url': 'http://esgf-data.ucar.edu/thredds/fileServer/esg_dataroot/CMIP6/DAMIP/NCAR/CESM2/hist-aer/r3i1p1f1/Amon/tas/gn/v20200305/tas_Amon_CESM2_hist-aer_r3i1p1f1_gn_190001-194912.nc'}, {'filename': 'tas_Amon_CESM2_hist-aer_r3i1p1f1_gn_195001-199912.nc', 'url': 'http://esgf-data.ucar.edu/thredds/fileServer/esg_dataroot/CMIP6/DAMIP/NCAR/CESM2/hist-aer/r3i1p1f1/Amon/tas/gn/v20200305/tas_Amon_CESM2_hist-aer_r3i1p1f1_gn_195001-199912.nc'}, {'filename': 'tas_Amon_CESM2_hist-aer_r3i1p1f1_gn_200001-201412.nc', 'url': 'http://esgf-data.ucar.edu/thredds/fileServer/esg_dataroot/CMIP6/DAMIP/NCAR/CESM2/hist-aer/r3i1p1f1/Amon/tas/gn/v20200305/tas_Amon_CESM2_hist-aer_r3i1p1f1_gn_200001-201412.nc'}, {'filename': 'tas_Amon_CESM2_hist-aer_r1i1p1f1_gn_185001-189912.nc', 'url': 'http://esgf-data.ucar.edu/thredds/fileServer/esg_dataroot/CMIP6/DAMIP/NCAR/CESM2/hist-aer/r1i1p1f1/Amon/tas/gn/v20200206/tas_Amon_CESM2_hist-aer_r1i1p1f1_gn_185001-189912.nc'}, {'filename': 'tas_Amon_CESM2_hist-aer_r1i1p1f1_gn_190001-194912.nc', 'url': 'http://esgf-data.ucar.edu/thredds/fileServer/esg_dataroot/CMIP6/DAMIP/NCAR/CESM2/hist-aer/r1i1p1f1/Amon/tas/gn/v20200206/tas_Amon_CESM2_hist-aer_r1i1p1f1_gn_190001-194912.nc'}, {'filename': 'tas_Amon_CESM2_hist-aer_r1i1p1f1_gn_195001-199912.nc', 'url': 'http://esgf-data.ucar.edu/thredds/fileServer/esg_dataroot/CMIP6/DAMIP/NCAR/CESM2/hist-aer/r1i1p1f1/Amon/tas/gn/v20200206/tas_Amon_CESM2_hist-aer_r1i1p1f1_gn_195001-199912.nc'}, {'filename': 'tas_Amon_CESM2_hist-aer_r1i1p1f1_gn_200001-201412.nc', 'url': 'http://esgf-data.ucar.edu/thredds/fileServer/esg_dataroot/CMIP6/DAMIP/NCAR/CESM2/hist-aer/r1i1p1f1/Amon/tas/gn/v20200206/tas_Amon_CESM2_hist-aer_r1i1p1f1_gn_200001-201412.nc'}]]\n"
     ]
    }
   ],
   "source": [
    "# Set up a list for the file context\n",
    "file_context_list = []\n",
    "\n",
    "# Loop through the results_list and print ther number of results\n",
    "for results in results_list:\n",
    "    print(len(results))\n",
    "\n",
    "    # Extract the file context from the results\n",
    "    file_context = extract_file_context_multithread(results)\n",
    "\n",
    "    # Append the file_context to the file_context_list\n",
    "    file_context_list.append(file_context)\n",
    "\n",
    "# Print the file_context_list\n",
    "print(file_context_list)"
   ]
  },
  {
   "cell_type": "code",
   "execution_count": 16,
   "metadata": {},
   "outputs": [
    {
     "name": "stdout",
     "output_type": "stream",
     "text": [
      "IPSL\n",
      "File exists for tas_Amon_IPSL-CM6A-LR_hist-aer_r10i1p1f1_gr_185001-202012.nc\n",
      "IPSL\n",
      "File exists for tas_Amon_IPSL-CM6A-LR_hist-aer_r7i1p1f1_gr_185001-202012.nc\n",
      "IPSL\n",
      "File exists for tas_Amon_IPSL-CM6A-LR_hist-aer_r3i1p1f1_gr_185001-202012.nc\n",
      "IPSL\n",
      "File exists for tas_Amon_IPSL-CM6A-LR_hist-aer_r4i1p1f1_gr_185001-202012.nc\n",
      "CNRM-CERFACS\n",
      "File exists for tas_Amon_CNRM-CM6-1_hist-aer_r2i1p1f2_gr_185001-202012.nc\n",
      "CNRM-CERFACS\n",
      "File exists for tas_Amon_CNRM-CM6-1_hist-aer_r3i1p1f2_gr_185001-202012.nc\n",
      "CNRM-CERFACS\n",
      "File exists for tas_Amon_CNRM-CM6-1_hist-aer_r5i1p1f2_gr_185001-202012.nc\n",
      "CNRM-CERFACS\n",
      "File exists for tas_Amon_CNRM-CM6-1_hist-aer_r4i1p1f2_gr_185001-202012.nc\n",
      "CNRM-CERFACS\n",
      "File exists for tas_Amon_CNRM-CM6-1_hist-aer_r7i1p1f2_gr_185001-202012.nc\n",
      "BCC\n",
      "File exists for tas_Amon_BCC-CSM2-MR_hist-aer_r3i1p1f1_gn_185001-202012.nc\n",
      "BCC\n",
      "File exists for tas_Amon_BCC-CSM2-MR_hist-aer_r2i1p1f1_gn_185001-202012.nc\n",
      "BCC\n",
      "File exists for tas_Amon_BCC-CSM2-MR_hist-aer_r1i1p1f1_gn_185001-202012.nc\n",
      "MRI\n",
      "File does not exist for tas_Amon_MRI-ESM2-0_hist-aer_r4i1p1f1_gn_185001-202012.nc\n",
      "MRI\n",
      "File exists for tas_Amon_MRI-ESM2-0_hist-aer_r1i1p1f1_gn_185001-201412.nc\n",
      "MRI\n",
      "File exists for tas_Amon_MRI-ESM2-0_hist-aer_r1i1p1f1_gn_201501-202012.nc\n",
      "MRI\n",
      "File exists for tas_Amon_MRI-ESM2-0_hist-aer_r2i1p1f1_gn_185001-202012.nc\n",
      "MOHC\n",
      "File exists for tas_Amon_HadGEM3-GC31-LL_hist-aer_r3i1p1f3_gn_185001-194912.nc\n",
      "MOHC\n",
      "File exists for tas_Amon_HadGEM3-GC31-LL_hist-aer_r3i1p1f3_gn_195001-202012.nc\n",
      "MOHC\n",
      "File exists for tas_Amon_HadGEM3-GC31-LL_hist-aer_r5i1p1f3_gn_185001-194912.nc\n",
      "MOHC\n",
      "File exists for tas_Amon_HadGEM3-GC31-LL_hist-aer_r5i1p1f3_gn_195001-202012.nc\n",
      "MOHC\n",
      "File exists for tas_Amon_HadGEM3-GC31-LL_hist-aer_r16i1p1f3_gn_185001-194912.nc\n",
      "MOHC\n",
      "File exists for tas_Amon_HadGEM3-GC31-LL_hist-aer_r16i1p1f3_gn_195001-202012.nc\n",
      "MOHC\n",
      "File exists for tas_Amon_HadGEM3-GC31-LL_hist-aer_r11i1p1f3_gn_185001-194912.nc\n",
      "MOHC\n",
      "File exists for tas_Amon_HadGEM3-GC31-LL_hist-aer_r11i1p1f3_gn_195001-202012.nc\n",
      "MOHC\n",
      "File exists for tas_Amon_HadGEM3-GC31-LL_hist-aer_r17i1p1f3_gn_185001-194912.nc\n",
      "MOHC\n",
      "File exists for tas_Amon_HadGEM3-GC31-LL_hist-aer_r17i1p1f3_gn_195001-202012.nc\n",
      "MOHC\n",
      "File exists for tas_Amon_HadGEM3-GC31-LL_hist-aer_r18i1p1f3_gn_185001-194912.nc\n",
      "MOHC\n",
      "File exists for tas_Amon_HadGEM3-GC31-LL_hist-aer_r18i1p1f3_gn_195001-202012.nc\n",
      "MOHC\n",
      "File exists for tas_Amon_HadGEM3-GC31-LL_hist-aer_r19i1p1f3_gn_185001-194912.nc\n",
      "MOHC\n",
      "File exists for tas_Amon_HadGEM3-GC31-LL_hist-aer_r19i1p1f3_gn_195001-202012.nc\n",
      "MOHC\n",
      "File exists for tas_Amon_HadGEM3-GC31-LL_hist-aer_r38i1p1f3_gn_185001-194912.nc\n",
      "MOHC\n",
      "File exists for tas_Amon_HadGEM3-GC31-LL_hist-aer_r38i1p1f3_gn_195001-202012.nc\n",
      "MOHC\n",
      "File exists for tas_Amon_HadGEM3-GC31-LL_hist-aer_r33i1p1f3_gn_185001-194912.nc\n",
      "MOHC\n",
      "File exists for tas_Amon_HadGEM3-GC31-LL_hist-aer_r33i1p1f3_gn_195001-202012.nc\n",
      "MOHC\n",
      "File exists for tas_Amon_HadGEM3-GC31-LL_hist-aer_r35i1p1f3_gn_185001-194912.nc\n",
      "MOHC\n",
      "File exists for tas_Amon_HadGEM3-GC31-LL_hist-aer_r35i1p1f3_gn_195001-202012.nc\n",
      "MOHC\n",
      "File exists for tas_Amon_HadGEM3-GC31-LL_hist-aer_r48i1p1f3_gn_185001-194912.nc\n",
      "MOHC\n",
      "File exists for tas_Amon_HadGEM3-GC31-LL_hist-aer_r48i1p1f3_gn_195001-202012.nc\n",
      "MOHC\n",
      "File exists for tas_Amon_HadGEM3-GC31-LL_hist-aer_r46i1p1f3_gn_185001-194912.nc\n",
      "MOHC\n",
      "File exists for tas_Amon_HadGEM3-GC31-LL_hist-aer_r46i1p1f3_gn_195001-202012.nc\n",
      "MOHC\n",
      "File exists for tas_Amon_HadGEM3-GC31-LL_hist-aer_r42i1p1f3_gn_185001-194912.nc\n",
      "MOHC\n",
      "File exists for tas_Amon_HadGEM3-GC31-LL_hist-aer_r42i1p1f3_gn_195001-202012.nc\n",
      "MOHC\n",
      "File exists for tas_Amon_HadGEM3-GC31-LL_hist-aer_r21i1p1f3_gn_185001-194912.nc\n",
      "MOHC\n",
      "File exists for tas_Amon_HadGEM3-GC31-LL_hist-aer_r21i1p1f3_gn_195001-202012.nc\n",
      "MOHC\n",
      "File exists for tas_Amon_HadGEM3-GC31-LL_hist-aer_r40i1p1f3_gn_185001-194912.nc\n",
      "MOHC\n",
      "File exists for tas_Amon_HadGEM3-GC31-LL_hist-aer_r40i1p1f3_gn_195001-202012.nc\n",
      "MOHC\n",
      "File exists for tas_Amon_HadGEM3-GC31-LL_hist-aer_r27i1p1f3_gn_185001-194912.nc\n",
      "MOHC\n",
      "File exists for tas_Amon_HadGEM3-GC31-LL_hist-aer_r27i1p1f3_gn_195001-202012.nc\n",
      "MOHC\n",
      "File exists for tas_Amon_HadGEM3-GC31-LL_hist-aer_r57i1p1f3_gn_185001-194912.nc\n",
      "MOHC\n",
      "File exists for tas_Amon_HadGEM3-GC31-LL_hist-aer_r57i1p1f3_gn_195001-202012.nc\n",
      "MOHC\n",
      "File exists for tas_Amon_HadGEM3-GC31-LL_hist-aer_r23i1p1f3_gn_185001-194912.nc\n",
      "MOHC\n",
      "File exists for tas_Amon_HadGEM3-GC31-LL_hist-aer_r23i1p1f3_gn_195001-202012.nc\n",
      "MOHC\n",
      "File exists for tas_Amon_HadGEM3-GC31-LL_hist-aer_r31i1p1f3_gn_185001-194912.nc\n",
      "MOHC\n",
      "File exists for tas_Amon_HadGEM3-GC31-LL_hist-aer_r31i1p1f3_gn_195001-202012.nc\n",
      "MOHC\n",
      "File exists for tas_Amon_HadGEM3-GC31-LL_hist-aer_r45i1p1f3_gn_185001-194912.nc\n",
      "MOHC\n",
      "File exists for tas_Amon_HadGEM3-GC31-LL_hist-aer_r45i1p1f3_gn_195001-202012.nc\n",
      "MOHC\n",
      "File exists for tas_Amon_HadGEM3-GC31-LL_hist-aer_r43i1p1f3_gn_185001-194912.nc\n",
      "MOHC\n",
      "File exists for tas_Amon_HadGEM3-GC31-LL_hist-aer_r43i1p1f3_gn_195001-202012.nc\n",
      "MOHC\n",
      "File exists for tas_Amon_HadGEM3-GC31-LL_hist-aer_r51i1p1f3_gn_185001-194912.nc\n",
      "MOHC\n",
      "File exists for tas_Amon_HadGEM3-GC31-LL_hist-aer_r51i1p1f3_gn_195001-202012.nc\n",
      "MOHC\n",
      "File exists for tas_Amon_HadGEM3-GC31-LL_hist-aer_r52i1p1f3_gn_185001-194912.nc\n",
      "MOHC\n",
      "File exists for tas_Amon_HadGEM3-GC31-LL_hist-aer_r52i1p1f3_gn_195001-202012.nc\n",
      "MOHC\n",
      "File exists for tas_Amon_HadGEM3-GC31-LL_hist-aer_r56i1p1f3_gn_185001-194912.nc\n",
      "MOHC\n",
      "File exists for tas_Amon_HadGEM3-GC31-LL_hist-aer_r56i1p1f3_gn_195001-202012.nc\n",
      "MOHC\n",
      "File exists for tas_Amon_HadGEM3-GC31-LL_hist-aer_r60i1p1f3_gn_185001-194912.nc\n",
      "MOHC\n",
      "File exists for tas_Amon_HadGEM3-GC31-LL_hist-aer_r60i1p1f3_gn_195001-202012.nc\n",
      "MOHC\n",
      "File exists for tas_Amon_HadGEM3-GC31-LL_hist-aer_r24i1p1f3_gn_185001-194912.nc\n",
      "MOHC\n",
      "File exists for tas_Amon_HadGEM3-GC31-LL_hist-aer_r24i1p1f3_gn_195001-202012.nc\n",
      "MOHC\n",
      "File exists for tas_Amon_HadGEM3-GC31-LL_hist-aer_r22i1p1f3_gn_185001-194912.nc\n",
      "MOHC\n",
      "File exists for tas_Amon_HadGEM3-GC31-LL_hist-aer_r22i1p1f3_gn_195001-202012.nc\n",
      "MOHC\n",
      "File exists for tas_Amon_HadGEM3-GC31-LL_hist-aer_r25i1p1f3_gn_185001-194912.nc\n",
      "MOHC\n",
      "File exists for tas_Amon_HadGEM3-GC31-LL_hist-aer_r25i1p1f3_gn_195001-202012.nc\n",
      "MOHC\n",
      "File exists for tas_Amon_HadGEM3-GC31-LL_hist-aer_r59i1p1f3_gn_185001-194912.nc\n",
      "MOHC\n",
      "File exists for tas_Amon_HadGEM3-GC31-LL_hist-aer_r59i1p1f3_gn_195001-202012.nc\n",
      "MOHC\n",
      "File exists for tas_Amon_HadGEM3-GC31-LL_hist-aer_r28i1p1f3_gn_185001-194912.nc\n",
      "MOHC\n",
      "File exists for tas_Amon_HadGEM3-GC31-LL_hist-aer_r28i1p1f3_gn_195001-202012.nc\n",
      "MOHC\n",
      "File exists for tas_Amon_HadGEM3-GC31-LL_hist-aer_r47i1p1f3_gn_185001-194912.nc\n",
      "MOHC\n",
      "File exists for tas_Amon_HadGEM3-GC31-LL_hist-aer_r47i1p1f3_gn_195001-202012.nc\n",
      "MOHC\n",
      "File exists for tas_Amon_HadGEM3-GC31-LL_hist-aer_r34i1p1f3_gn_185001-194912.nc\n",
      "MOHC\n",
      "File exists for tas_Amon_HadGEM3-GC31-LL_hist-aer_r34i1p1f3_gn_195001-202012.nc\n",
      "NASA-GISS\n",
      "File exists for tas_Amon_GISS-E2-1-G_hist-aer_r3i1p1f1_gn_185001-190012.nc\n",
      "NASA-GISS\n",
      "File exists for tas_Amon_GISS-E2-1-G_hist-aer_r3i1p1f1_gn_190101-195012.nc\n",
      "NASA-GISS\n",
      "File exists for tas_Amon_GISS-E2-1-G_hist-aer_r3i1p1f1_gn_195101-200012.nc\n",
      "NASA-GISS\n",
      "File exists for tas_Amon_GISS-E2-1-G_hist-aer_r3i1p1f1_gn_200101-201412.nc\n",
      "NASA-GISS\n",
      "File exists for tas_Amon_GISS-E2-1-G_hist-aer_r5i1p1f1_gn_185001-190012.nc\n",
      "NASA-GISS\n",
      "File exists for tas_Amon_GISS-E2-1-G_hist-aer_r5i1p1f1_gn_190101-195012.nc\n",
      "NASA-GISS\n",
      "File exists for tas_Amon_GISS-E2-1-G_hist-aer_r5i1p1f1_gn_195101-200012.nc\n",
      "NASA-GISS\n",
      "File exists for tas_Amon_GISS-E2-1-G_hist-aer_r5i1p1f1_gn_200101-201412.nc\n",
      "NASA-GISS\n",
      "File exists for tas_Amon_GISS-E2-1-G_hist-aer_r2i1p1f1_gn_185001-190012.nc\n",
      "NASA-GISS\n",
      "File exists for tas_Amon_GISS-E2-1-G_hist-aer_r2i1p1f1_gn_190101-195012.nc\n",
      "NASA-GISS\n",
      "File exists for tas_Amon_GISS-E2-1-G_hist-aer_r2i1p1f1_gn_195101-200012.nc\n",
      "NASA-GISS\n",
      "File exists for tas_Amon_GISS-E2-1-G_hist-aer_r2i1p1f1_gn_200101-201412.nc\n",
      "NASA-GISS\n",
      "File exists for tas_Amon_GISS-E2-1-G_hist-aer_r4i1p1f1_gn_185001-190012.nc\n",
      "NASA-GISS\n",
      "File exists for tas_Amon_GISS-E2-1-G_hist-aer_r4i1p1f1_gn_190101-195012.nc\n",
      "NASA-GISS\n",
      "File exists for tas_Amon_GISS-E2-1-G_hist-aer_r4i1p1f1_gn_195101-200012.nc\n",
      "NASA-GISS\n",
      "File exists for tas_Amon_GISS-E2-1-G_hist-aer_r4i1p1f1_gn_200101-201412.nc\n",
      "NASA-GISS\n",
      "File does not exist for tas_Amon_GISS-E2-1-G_hist-aer_r3i1p3f1_gn_185001-190012.nc\n",
      "NASA-GISS\n",
      "File does not exist for tas_Amon_GISS-E2-1-G_hist-aer_r3i1p3f1_gn_190101-195012.nc\n",
      "NASA-GISS\n",
      "File does not exist for tas_Amon_GISS-E2-1-G_hist-aer_r3i1p3f1_gn_195101-200012.nc\n",
      "NASA-GISS\n",
      "File does not exist for tas_Amon_GISS-E2-1-G_hist-aer_r3i1p3f1_gn_200101-201412.nc\n",
      "NASA-GISS\n",
      "File does not exist for tas_Amon_GISS-E2-1-G_hist-aer_r4i1p3f1_gn_185001-190012.nc\n",
      "NASA-GISS\n",
      "File does not exist for tas_Amon_GISS-E2-1-G_hist-aer_r4i1p3f1_gn_190101-195012.nc\n",
      "NASA-GISS\n",
      "File does not exist for tas_Amon_GISS-E2-1-G_hist-aer_r4i1p3f1_gn_195101-200012.nc\n",
      "NASA-GISS\n",
      "File does not exist for tas_Amon_GISS-E2-1-G_hist-aer_r4i1p3f1_gn_200101-201412.nc\n",
      "NASA-GISS\n",
      "File does not exist for tas_Amon_GISS-E2-1-G_hist-aer_r5i1p3f1_gn_185001-190012.nc\n",
      "NASA-GISS\n",
      "File does not exist for tas_Amon_GISS-E2-1-G_hist-aer_r5i1p3f1_gn_190101-195012.nc\n",
      "NASA-GISS\n",
      "File does not exist for tas_Amon_GISS-E2-1-G_hist-aer_r5i1p3f1_gn_195101-200012.nc\n",
      "NASA-GISS\n",
      "File does not exist for tas_Amon_GISS-E2-1-G_hist-aer_r5i1p3f1_gn_200101-201412.nc\n",
      "NASA-GISS\n",
      "File exists for tas_Amon_GISS-E2-1-G_hist-aer_r1i1p1f2_gn_185001-190012.nc\n",
      "NASA-GISS\n",
      "File exists for tas_Amon_GISS-E2-1-G_hist-aer_r1i1p1f2_gn_190101-195012.nc\n",
      "NASA-GISS\n",
      "File does not exist for tas_Amon_GISS-E2-1-G_hist-aer_r1i1p1f2_gn_195101-200012.nc\n",
      "NASA-GISS\n",
      "File exists for tas_Amon_GISS-E2-1-G_hist-aer_r1i1p1f2_gn_200101-201412.nc\n",
      "NASA-GISS\n",
      "File does not exist for tas_Amon_GISS-E2-1-G_hist-aer_r2i1p1f2_gn_185001-190012.nc\n",
      "NASA-GISS\n",
      "File does not exist for tas_Amon_GISS-E2-1-G_hist-aer_r2i1p1f2_gn_190101-195012.nc\n",
      "NASA-GISS\n",
      "File does not exist for tas_Amon_GISS-E2-1-G_hist-aer_r2i1p1f2_gn_195101-200012.nc\n",
      "NASA-GISS\n",
      "File does not exist for tas_Amon_GISS-E2-1-G_hist-aer_r2i1p1f2_gn_200101-201412.nc\n",
      "NASA-GISS\n",
      "File does not exist for tas_Amon_GISS-E2-1-G_hist-aer_r5i1p1f2_gn_185001-190012.nc\n",
      "NASA-GISS\n",
      "File does not exist for tas_Amon_GISS-E2-1-G_hist-aer_r5i1p1f2_gn_190101-195012.nc\n",
      "NASA-GISS\n",
      "File does not exist for tas_Amon_GISS-E2-1-G_hist-aer_r5i1p1f2_gn_195101-200012.nc\n",
      "NASA-GISS\n",
      "File does not exist for tas_Amon_GISS-E2-1-G_hist-aer_r5i1p1f2_gn_200101-201412.nc\n",
      "NASA-GISS\n",
      "File does not exist for tas_Amon_GISS-E2-1-G_hist-aer_r4i1p1f2_gn_185001-190012.nc\n",
      "NASA-GISS\n",
      "File does not exist for tas_Amon_GISS-E2-1-G_hist-aer_r4i1p1f2_gn_190101-195012.nc\n",
      "NASA-GISS\n",
      "File does not exist for tas_Amon_GISS-E2-1-G_hist-aer_r4i1p1f2_gn_195101-200012.nc\n",
      "NASA-GISS\n",
      "File does not exist for tas_Amon_GISS-E2-1-G_hist-aer_r4i1p1f2_gn_200101-201412.nc\n",
      "NASA-GISS\n",
      "File does not exist for tas_Amon_GISS-E2-1-G_hist-aer_r3i1p1f2_gn_185001-190012.nc\n",
      "NASA-GISS\n",
      "File does not exist for tas_Amon_GISS-E2-1-G_hist-aer_r3i1p1f2_gn_190101-195012.nc\n",
      "NASA-GISS\n",
      "File does not exist for tas_Amon_GISS-E2-1-G_hist-aer_r3i1p1f2_gn_195101-200012.nc\n",
      "NASA-GISS\n",
      "File does not exist for tas_Amon_GISS-E2-1-G_hist-aer_r3i1p1f2_gn_200101-201412.nc\n",
      "NOAA-GFDL\n",
      "File exists for tas_Amon_GFDL-ESM4_hist-aer_r1i1p1f1_gr1_185001-194912.nc\n",
      "NOAA-GFDL\n",
      "File exists for tas_Amon_GFDL-ESM4_hist-aer_r1i1p1f1_gr1_195001-201912.nc\n",
      "NOAA-GFDL\n",
      "File exists for tas_Amon_GFDL-ESM4_hist-aer_r1i1p1f1_gr1_202001-202012.nc\n",
      "CSIRO\n",
      "File exists for tas_Amon_ACCESS-ESM1-5_hist-aer_r1i1p1f1_gn_185001-202012.nc\n",
      "CSIRO\n",
      "File exists for tas_Amon_ACCESS-ESM1-5_hist-aer_r2i1p1f1_gn_185001-202012.nc\n",
      "CSIRO\n",
      "File exists for tas_Amon_ACCESS-ESM1-5_hist-aer_r3i1p1f1_gn_185001-202012.nc\n",
      "NCC\n",
      "File exists for tas_Amon_NorESM2-LM_hist-aer_r1i1p1f1_gn_185001-185912.nc\n",
      "NCC\n",
      "File exists for tas_Amon_NorESM2-LM_hist-aer_r1i1p1f1_gn_186001-186912.nc\n",
      "NCC\n",
      "File exists for tas_Amon_NorESM2-LM_hist-aer_r1i1p1f1_gn_187001-187912.nc\n",
      "NCC\n",
      "File exists for tas_Amon_NorESM2-LM_hist-aer_r1i1p1f1_gn_188001-188912.nc\n",
      "NCC\n",
      "File exists for tas_Amon_NorESM2-LM_hist-aer_r1i1p1f1_gn_189001-189912.nc\n",
      "NCC\n",
      "File exists for tas_Amon_NorESM2-LM_hist-aer_r1i1p1f1_gn_190001-190912.nc\n",
      "NCC\n",
      "File exists for tas_Amon_NorESM2-LM_hist-aer_r1i1p1f1_gn_191001-191912.nc\n",
      "NCC\n",
      "File exists for tas_Amon_NorESM2-LM_hist-aer_r1i1p1f1_gn_192001-192912.nc\n",
      "NCC\n",
      "File exists for tas_Amon_NorESM2-LM_hist-aer_r1i1p1f1_gn_193001-193912.nc\n",
      "NCC\n",
      "File exists for tas_Amon_NorESM2-LM_hist-aer_r1i1p1f1_gn_194001-194912.nc\n",
      "NCC\n",
      "File exists for tas_Amon_NorESM2-LM_hist-aer_r1i1p1f1_gn_195001-195912.nc\n",
      "NCC\n",
      "File exists for tas_Amon_NorESM2-LM_hist-aer_r1i1p1f1_gn_196001-196912.nc\n",
      "NCC\n",
      "File exists for tas_Amon_NorESM2-LM_hist-aer_r1i1p1f1_gn_197001-197912.nc\n",
      "NCC\n",
      "File exists for tas_Amon_NorESM2-LM_hist-aer_r1i1p1f1_gn_198001-198912.nc\n",
      "NCC\n",
      "File exists for tas_Amon_NorESM2-LM_hist-aer_r1i1p1f1_gn_199001-199912.nc\n",
      "NCC\n",
      "File exists for tas_Amon_NorESM2-LM_hist-aer_r1i1p1f1_gn_200001-200912.nc\n",
      "NCC\n",
      "File exists for tas_Amon_NorESM2-LM_hist-aer_r1i1p1f1_gn_201001-201412.nc\n",
      "NCC\n",
      "File exists for tas_Amon_NorESM2-LM_hist-aer_r1i1p1f1_gn_201501-202012.nc\n",
      "CSIRO-ARCCSS\n",
      "File exists for tas_Amon_ACCESS-CM2_hist-aer_r1i1p1f1_gn_185001-202012.nc\n",
      "CSIRO-ARCCSS\n",
      "File does not exist for tas_Amon_ACCESS-CM2_hist-aer_r3i1p1f1_gn_185001-202012.nc\n",
      "CSIRO-ARCCSS\n",
      "File does not exist for tas_Amon_ACCESS-CM2_hist-aer_r2i1p1f1_gn_185001-202012.nc\n",
      "MIROC\n",
      "File exists for tas_Amon_MIROC6_hist-aer_r1i1p1f1_gn_185001-194912.nc\n",
      "MIROC\n",
      "File exists for tas_Amon_MIROC6_hist-aer_r1i1p1f1_gn_195001-202012.nc\n",
      "MIROC\n",
      "File does not exist for tas_Amon_MIROC6_hist-aer_r4i1p1f1_gn_185001-194912.nc\n",
      "MIROC\n",
      "File does not exist for tas_Amon_MIROC6_hist-aer_r4i1p1f1_gn_195001-202012.nc\n",
      "MIROC\n",
      "File does not exist for tas_Amon_MIROC6_hist-aer_r5i1p1f1_gn_185001-194912.nc\n",
      "MIROC\n",
      "File does not exist for tas_Amon_MIROC6_hist-aer_r5i1p1f1_gn_195001-202012.nc\n",
      "MIROC\n",
      "File exists for tas_Amon_MIROC6_hist-aer_r3i1p1f1_gn_185001-194912.nc\n",
      "MIROC\n",
      "File exists for tas_Amon_MIROC6_hist-aer_r3i1p1f1_gn_195001-202012.nc\n",
      "MIROC\n",
      "File does not exist for tas_Amon_MIROC6_hist-aer_r7i1p1f1_gn_185001-194912.nc\n",
      "MIROC\n",
      "File does not exist for tas_Amon_MIROC6_hist-aer_r7i1p1f1_gn_195001-202012.nc\n",
      "MIROC\n",
      "File does not exist for tas_Amon_MIROC6_hist-aer_r9i1p1f1_gn_185001-194912.nc\n",
      "MIROC\n",
      "File does not exist for tas_Amon_MIROC6_hist-aer_r9i1p1f1_gn_195001-202012.nc\n",
      "CCCma\n",
      "File exists for tas_Amon_CanESM5_hist-aer_r1i1p1f1_gn_185001-202012.nc\n",
      "CCCma\n",
      "File exists for tas_Amon_CanESM5_hist-aer_r4i1p1f1_gn_185001-202012.nc\n",
      "CCCma\n",
      "File exists for tas_Amon_CanESM5_hist-aer_r2i1p1f1_gn_185001-202012.nc\n",
      "CCCma\n",
      "File exists for tas_Amon_CanESM5_hist-aer_r9i1p1f1_gn_185001-202012.nc\n",
      "CCCma\n",
      "File exists for tas_Amon_CanESM5_hist-aer_r8i1p1f1_gn_185001-202012.nc\n",
      "CCCma\n",
      "File exists for tas_Amon_CanESM5_hist-aer_r5i1p1f1_gn_185001-202012.nc\n",
      "CCCma\n",
      "File exists for tas_Amon_CanESM5_hist-aer_r3i1p1f1_gn_185001-202012.nc\n",
      "CCCma\n",
      "File does not exist for tas_Amon_CanESM5_hist-aer_r11i1p2f1_gn_185001-202012.nc\n",
      "CCCma\n",
      "File does not exist for tas_Amon_CanESM5_hist-aer_r12i1p1f1_gn_185001-202012.nc\n",
      "CCCma\n",
      "File does not exist for tas_Amon_CanESM5_hist-aer_r13i1p2f1_gn_185001-202012.nc\n",
      "CCCma\n",
      "File does not exist for tas_Amon_CanESM5_hist-aer_r14i1p2f1_gn_185001-202012.nc\n",
      "CCCma\n",
      "File does not exist for tas_Amon_CanESM5_hist-aer_r15i1p1f1_gn_185001-202012.nc\n",
      "CCCma\n",
      "File does not exist for tas_Amon_CanESM5_hist-aer_r15i1p2f1_gn_185001-202012.nc\n",
      "CCCma\n",
      "File does not exist for tas_Amon_CanESM5_hist-aer_r10i1p2f1_gn_185001-202012.nc\n",
      "CCCma\n",
      "File does not exist for tas_Amon_CanESM5_hist-aer_r7i1p2f1_gn_185001-202012.nc\n",
      "CCCma\n",
      "File does not exist for tas_Amon_CanESM5_hist-aer_r8i1p2f1_gn_185001-202012.nc\n",
      "CCCma\n",
      "File does not exist for tas_Amon_CanESM5_hist-aer_r9i1p2f1_gn_185001-202012.nc\n",
      "E3SM-Project\n",
      "File does not exist for tas_Amon_E3SM-2-0_hist-aer_r2i1p1f1_gr_185001-189912.nc\n",
      "E3SM-Project\n",
      "File does not exist for tas_Amon_E3SM-2-0_hist-aer_r2i1p1f1_gr_190001-194912.nc\n",
      "E3SM-Project\n",
      "File does not exist for tas_Amon_E3SM-2-0_hist-aer_r2i1p1f1_gr_195001-199912.nc\n",
      "E3SM-Project\n",
      "File does not exist for tas_Amon_E3SM-2-0_hist-aer_r2i1p1f1_gr_200001-201412.nc\n",
      "E3SM-Project\n",
      "File does not exist for tas_Amon_E3SM-2-0_hist-aer_r4i1p1f1_gr_185001-189912.nc\n",
      "E3SM-Project\n",
      "File does not exist for tas_Amon_E3SM-2-0_hist-aer_r4i1p1f1_gr_190001-194912.nc\n",
      "E3SM-Project\n",
      "File does not exist for tas_Amon_E3SM-2-0_hist-aer_r4i1p1f1_gr_195001-199912.nc\n",
      "E3SM-Project\n",
      "File does not exist for tas_Amon_E3SM-2-0_hist-aer_r4i1p1f1_gr_200001-201412.nc\n",
      "CAS\n",
      "File exists for tas_Amon_FGOALS-g3_hist-aer_r2i1p1f1_gn_185001-185912.nc\n",
      "CAS\n",
      "File exists for tas_Amon_FGOALS-g3_hist-aer_r2i1p1f1_gn_186001-186912.nc\n",
      "CAS\n",
      "File exists for tas_Amon_FGOALS-g3_hist-aer_r2i1p1f1_gn_187001-187912.nc\n",
      "CAS\n",
      "File exists for tas_Amon_FGOALS-g3_hist-aer_r2i1p1f1_gn_188001-188912.nc\n",
      "CAS\n",
      "File exists for tas_Amon_FGOALS-g3_hist-aer_r2i1p1f1_gn_189001-189912.nc\n",
      "CAS\n",
      "File exists for tas_Amon_FGOALS-g3_hist-aer_r2i1p1f1_gn_190001-190912.nc\n",
      "CAS\n",
      "File exists for tas_Amon_FGOALS-g3_hist-aer_r2i1p1f1_gn_191001-191912.nc\n",
      "CAS\n",
      "File exists for tas_Amon_FGOALS-g3_hist-aer_r2i1p1f1_gn_192001-192912.nc\n",
      "CAS\n",
      "File exists for tas_Amon_FGOALS-g3_hist-aer_r2i1p1f1_gn_193001-193912.nc\n",
      "CAS\n",
      "File exists for tas_Amon_FGOALS-g3_hist-aer_r2i1p1f1_gn_194001-194912.nc\n",
      "CAS\n",
      "File exists for tas_Amon_FGOALS-g3_hist-aer_r2i1p1f1_gn_195001-195912.nc\n",
      "CAS\n",
      "File exists for tas_Amon_FGOALS-g3_hist-aer_r2i1p1f1_gn_196001-196912.nc\n",
      "CAS\n",
      "File exists for tas_Amon_FGOALS-g3_hist-aer_r2i1p1f1_gn_197001-197912.nc\n",
      "CAS\n",
      "File exists for tas_Amon_FGOALS-g3_hist-aer_r2i1p1f1_gn_198001-198912.nc\n",
      "CAS\n",
      "File exists for tas_Amon_FGOALS-g3_hist-aer_r2i1p1f1_gn_199001-199912.nc\n",
      "CAS\n",
      "File exists for tas_Amon_FGOALS-g3_hist-aer_r2i1p1f1_gn_200001-200912.nc\n",
      "CAS\n",
      "File does not exist for tas_Amon_FGOALS-g3_hist-aer_r2i1p1f1_gn_201001-202012.nc\n",
      "NCAR\n",
      "File exists for tas_Amon_CESM2_hist-aer_r3i1p1f1_gn_185001-189912.nc\n",
      "NCAR\n",
      "File exists for tas_Amon_CESM2_hist-aer_r3i1p1f1_gn_190001-194912.nc\n",
      "NCAR\n",
      "File exists for tas_Amon_CESM2_hist-aer_r3i1p1f1_gn_195001-199912.nc\n",
      "NCAR\n",
      "File exists for tas_Amon_CESM2_hist-aer_r3i1p1f1_gn_200001-201412.nc\n",
      "NCAR\n",
      "File exists for tas_Amon_CESM2_hist-aer_r1i1p1f1_gn_185001-189912.nc\n",
      "NCAR\n",
      "File exists for tas_Amon_CESM2_hist-aer_r1i1p1f1_gn_190001-194912.nc\n",
      "NCAR\n",
      "File exists for tas_Amon_CESM2_hist-aer_r1i1p1f1_gn_195001-199912.nc\n",
      "NCAR\n",
      "File exists for tas_Amon_CESM2_hist-aer_r1i1p1f1_gn_200001-201412.nc\n"
     ]
    },
    {
     "data": {
      "text/html": [
       "<div>\n",
       "<style scoped>\n",
       "    .dataframe tbody tr th:only-of-type {\n",
       "        vertical-align: middle;\n",
       "    }\n",
       "\n",
       "    .dataframe tbody tr th {\n",
       "        vertical-align: top;\n",
       "    }\n",
       "\n",
       "    .dataframe thead th {\n",
       "        text-align: right;\n",
       "    }\n",
       "</style>\n",
       "<table border=\"1\" class=\"dataframe\">\n",
       "  <thead>\n",
       "    <tr style=\"text-align: right;\">\n",
       "      <th></th>\n",
       "      <th>filename</th>\n",
       "      <th>url</th>\n",
       "      <th>file_exists</th>\n",
       "    </tr>\n",
       "  </thead>\n",
       "  <tbody>\n",
       "    <tr>\n",
       "      <th>0</th>\n",
       "      <td>tas_Amon_IPSL-CM6A-LR_hist-aer_r10i1p1f1_gr_18...</td>\n",
       "      <td>http://aims3.llnl.gov/thredds/fileServer/css03...</td>\n",
       "      <td>True</td>\n",
       "    </tr>\n",
       "    <tr>\n",
       "      <th>1</th>\n",
       "      <td>tas_Amon_IPSL-CM6A-LR_hist-aer_r7i1p1f1_gr_185...</td>\n",
       "      <td>http://aims3.llnl.gov/thredds/fileServer/css03...</td>\n",
       "      <td>True</td>\n",
       "    </tr>\n",
       "    <tr>\n",
       "      <th>2</th>\n",
       "      <td>tas_Amon_IPSL-CM6A-LR_hist-aer_r3i1p1f1_gr_185...</td>\n",
       "      <td>http://aims3.llnl.gov/thredds/fileServer/css03...</td>\n",
       "      <td>True</td>\n",
       "    </tr>\n",
       "    <tr>\n",
       "      <th>3</th>\n",
       "      <td>tas_Amon_IPSL-CM6A-LR_hist-aer_r4i1p1f1_gr_185...</td>\n",
       "      <td>http://aims3.llnl.gov/thredds/fileServer/css03...</td>\n",
       "      <td>True</td>\n",
       "    </tr>\n",
       "    <tr>\n",
       "      <th>4</th>\n",
       "      <td>tas_Amon_CNRM-CM6-1_hist-aer_r2i1p1f2_gr_18500...</td>\n",
       "      <td>http://aims3.llnl.gov/thredds/fileServer/css03...</td>\n",
       "      <td>True</td>\n",
       "    </tr>\n",
       "    <tr>\n",
       "      <th>...</th>\n",
       "      <td>...</td>\n",
       "      <td>...</td>\n",
       "      <td>...</td>\n",
       "    </tr>\n",
       "    <tr>\n",
       "      <th>212</th>\n",
       "      <td>tas_Amon_CESM2_hist-aer_r3i1p1f1_gn_200001-201...</td>\n",
       "      <td>http://esgf-data.ucar.edu/thredds/fileServer/e...</td>\n",
       "      <td>True</td>\n",
       "    </tr>\n",
       "    <tr>\n",
       "      <th>213</th>\n",
       "      <td>tas_Amon_CESM2_hist-aer_r1i1p1f1_gn_185001-189...</td>\n",
       "      <td>http://esgf-data.ucar.edu/thredds/fileServer/e...</td>\n",
       "      <td>True</td>\n",
       "    </tr>\n",
       "    <tr>\n",
       "      <th>214</th>\n",
       "      <td>tas_Amon_CESM2_hist-aer_r1i1p1f1_gn_190001-194...</td>\n",
       "      <td>http://esgf-data.ucar.edu/thredds/fileServer/e...</td>\n",
       "      <td>True</td>\n",
       "    </tr>\n",
       "    <tr>\n",
       "      <th>215</th>\n",
       "      <td>tas_Amon_CESM2_hist-aer_r1i1p1f1_gn_195001-199...</td>\n",
       "      <td>http://esgf-data.ucar.edu/thredds/fileServer/e...</td>\n",
       "      <td>True</td>\n",
       "    </tr>\n",
       "    <tr>\n",
       "      <th>216</th>\n",
       "      <td>tas_Amon_CESM2_hist-aer_r1i1p1f1_gn_200001-201...</td>\n",
       "      <td>http://esgf-data.ucar.edu/thredds/fileServer/e...</td>\n",
       "      <td>True</td>\n",
       "    </tr>\n",
       "  </tbody>\n",
       "</table>\n",
       "<p>217 rows × 3 columns</p>\n",
       "</div>"
      ],
      "text/plain": [
       "                                              filename  \\\n",
       "0    tas_Amon_IPSL-CM6A-LR_hist-aer_r10i1p1f1_gr_18...   \n",
       "1    tas_Amon_IPSL-CM6A-LR_hist-aer_r7i1p1f1_gr_185...   \n",
       "2    tas_Amon_IPSL-CM6A-LR_hist-aer_r3i1p1f1_gr_185...   \n",
       "3    tas_Amon_IPSL-CM6A-LR_hist-aer_r4i1p1f1_gr_185...   \n",
       "4    tas_Amon_CNRM-CM6-1_hist-aer_r2i1p1f2_gr_18500...   \n",
       "..                                                 ...   \n",
       "212  tas_Amon_CESM2_hist-aer_r3i1p1f1_gn_200001-201...   \n",
       "213  tas_Amon_CESM2_hist-aer_r1i1p1f1_gn_185001-189...   \n",
       "214  tas_Amon_CESM2_hist-aer_r1i1p1f1_gn_190001-194...   \n",
       "215  tas_Amon_CESM2_hist-aer_r1i1p1f1_gn_195001-199...   \n",
       "216  tas_Amon_CESM2_hist-aer_r1i1p1f1_gn_200001-201...   \n",
       "\n",
       "                                                   url  file_exists  \n",
       "0    http://aims3.llnl.gov/thredds/fileServer/css03...         True  \n",
       "1    http://aims3.llnl.gov/thredds/fileServer/css03...         True  \n",
       "2    http://aims3.llnl.gov/thredds/fileServer/css03...         True  \n",
       "3    http://aims3.llnl.gov/thredds/fileServer/css03...         True  \n",
       "4    http://aims3.llnl.gov/thredds/fileServer/css03...         True  \n",
       "..                                                 ...          ...  \n",
       "212  http://esgf-data.ucar.edu/thredds/fileServer/e...         True  \n",
       "213  http://esgf-data.ucar.edu/thredds/fileServer/e...         True  \n",
       "214  http://esgf-data.ucar.edu/thredds/fileServer/e...         True  \n",
       "215  http://esgf-data.ucar.edu/thredds/fileServer/e...         True  \n",
       "216  http://esgf-data.ucar.edu/thredds/fileServer/e...         True  \n",
       "\n",
       "[217 rows x 3 columns]"
      ]
     },
     "execution_count": 16,
     "metadata": {},
     "output_type": "execute_result"
    }
   ],
   "source": [
    "# Check whether the files exist on JASMIN\n",
    "import glob\n",
    "\n",
    "# We want to verify whether these files exist on JASMIN\n",
    "damip_dir = \"/badc/cmip6/data/CMIP6/DAMIP/\"\n",
    "\n",
    "# Test the function\n",
    "files_df = check_file_exists_jasmin(file_context_df, damip_dir)\n",
    "\n",
    "files_df"
   ]
  },
  {
   "cell_type": "code",
   "execution_count": 23,
   "metadata": {},
   "outputs": [
    {
     "name": "stderr",
     "output_type": "stream",
     "text": [
      "228kKiB [00:13, 17.2kKiB/s]                         \n",
      "  2%|▏         | 1/59 [00:13<13:21, 13.82s/it]"
     ]
    },
    {
     "name": "stdout",
     "output_type": "stream",
     "text": [
      "File is not empty\n",
      "Download complete - file saved to /gws/nopw/j04/scenario/users/benhutch/hist-aer/tas/MRI-ESM2-0/tas_Amon_MRI-ESM2-0_hist-aer_r4i1p1f1_gn_185001-202012.nc\n"
     ]
    },
    {
     "name": "stderr",
     "output_type": "stream",
     "text": [
      "31.0kKiB [00:01, 24.9kKiB/s]                          \n",
      "  3%|▎         | 2/59 [00:15<06:26,  6.78s/it]"
     ]
    },
    {
     "name": "stdout",
     "output_type": "stream",
     "text": [
      "File is not empty\n",
      "Download complete - file saved to /gws/nopw/j04/scenario/users/benhutch/hist-aer/tas/GISS-E2-1-G/tas_Amon_GISS-E2-1-G_hist-aer_r3i1p3f1_gn_185001-190012.nc\n"
     ]
    },
    {
     "name": "stderr",
     "output_type": "stream",
     "text": [
      "30.4kKiB [00:01, 24.3kKiB/s]                          \n",
      "  5%|▌         | 3/59 [00:17<04:15,  4.55s/it]"
     ]
    },
    {
     "name": "stdout",
     "output_type": "stream",
     "text": [
      "File is not empty\n",
      "Download complete - file saved to /gws/nopw/j04/scenario/users/benhutch/hist-aer/tas/GISS-E2-1-G/tas_Amon_GISS-E2-1-G_hist-aer_r3i1p3f1_gn_190101-195012.nc\n"
     ]
    },
    {
     "name": "stderr",
     "output_type": "stream",
     "text": [
      "30.4kKiB [00:03, 8.80kKiB/s]                          \n",
      "  7%|▋         | 4/59 [00:21<03:59,  4.36s/it]"
     ]
    },
    {
     "name": "stdout",
     "output_type": "stream",
     "text": [
      "File is not empty\n",
      "Download complete - file saved to /gws/nopw/j04/scenario/users/benhutch/hist-aer/tas/GISS-E2-1-G/tas_Amon_GISS-E2-1-G_hist-aer_r3i1p3f1_gn_195101-200012.nc\n"
     ]
    },
    {
     "name": "stderr",
     "output_type": "stream",
     "text": [
      "8.53kKiB [00:00, 9.57kKiB/s]                          \n",
      "  8%|▊         | 5/59 [00:23<03:00,  3.35s/it]"
     ]
    },
    {
     "name": "stdout",
     "output_type": "stream",
     "text": [
      "File is not empty\n",
      "Download complete - file saved to /gws/nopw/j04/scenario/users/benhutch/hist-aer/tas/GISS-E2-1-G/tas_Amon_GISS-E2-1-G_hist-aer_r3i1p3f1_gn_200101-201412.nc\n"
     ]
    },
    {
     "name": "stderr",
     "output_type": "stream",
     "text": [
      "31.0kKiB [00:01, 24.7kKiB/s]                          \n",
      " 10%|█         | 6/59 [00:25<02:30,  2.83s/it]"
     ]
    },
    {
     "name": "stdout",
     "output_type": "stream",
     "text": [
      "File is not empty\n",
      "Download complete - file saved to /gws/nopw/j04/scenario/users/benhutch/hist-aer/tas/GISS-E2-1-G/tas_Amon_GISS-E2-1-G_hist-aer_r4i1p3f1_gn_185001-190012.nc\n"
     ]
    },
    {
     "name": "stderr",
     "output_type": "stream",
     "text": [
      "30.4kKiB [00:01, 25.9kKiB/s]                          \n",
      " 12%|█▏        | 7/59 [00:26<02:10,  2.51s/it]"
     ]
    },
    {
     "name": "stdout",
     "output_type": "stream",
     "text": [
      "File is not empty\n",
      "Download complete - file saved to /gws/nopw/j04/scenario/users/benhutch/hist-aer/tas/GISS-E2-1-G/tas_Amon_GISS-E2-1-G_hist-aer_r4i1p3f1_gn_190101-195012.nc\n"
     ]
    },
    {
     "name": "stderr",
     "output_type": "stream",
     "text": [
      "30.4kKiB [00:01, 24.1kKiB/s]                          \n",
      " 14%|█▎        | 8/59 [00:28<01:58,  2.32s/it]"
     ]
    },
    {
     "name": "stdout",
     "output_type": "stream",
     "text": [
      "File is not empty\n",
      "Download complete - file saved to /gws/nopw/j04/scenario/users/benhutch/hist-aer/tas/GISS-E2-1-G/tas_Amon_GISS-E2-1-G_hist-aer_r4i1p3f1_gn_195101-200012.nc\n"
     ]
    },
    {
     "name": "stderr",
     "output_type": "stream",
     "text": [
      "8.53kKiB [00:00, 9.28kKiB/s]                          \n",
      " 15%|█▌        | 9/59 [00:30<01:44,  2.08s/it]"
     ]
    },
    {
     "name": "stdout",
     "output_type": "stream",
     "text": [
      "File is not empty\n",
      "Download complete - file saved to /gws/nopw/j04/scenario/users/benhutch/hist-aer/tas/GISS-E2-1-G/tas_Amon_GISS-E2-1-G_hist-aer_r4i1p3f1_gn_200101-201412.nc\n"
     ]
    },
    {
     "name": "stderr",
     "output_type": "stream",
     "text": [
      "31.0kKiB [00:01, 25.6kKiB/s]                          \n",
      " 17%|█▋        | 10/59 [00:32<01:39,  2.03s/it]"
     ]
    },
    {
     "name": "stdout",
     "output_type": "stream",
     "text": [
      "File is not empty\n",
      "Download complete - file saved to /gws/nopw/j04/scenario/users/benhutch/hist-aer/tas/GISS-E2-1-G/tas_Amon_GISS-E2-1-G_hist-aer_r5i1p3f1_gn_185001-190012.nc\n"
     ]
    },
    {
     "name": "stderr",
     "output_type": "stream",
     "text": [
      "30.4kKiB [00:07, 4.03kKiB/s]                          \n",
      " 19%|█▊        | 11/59 [00:40<03:08,  3.93s/it]"
     ]
    },
    {
     "name": "stdout",
     "output_type": "stream",
     "text": [
      "File is not empty\n",
      "Download complete - file saved to /gws/nopw/j04/scenario/users/benhutch/hist-aer/tas/GISS-E2-1-G/tas_Amon_GISS-E2-1-G_hist-aer_r5i1p3f1_gn_190101-195012.nc\n"
     ]
    },
    {
     "name": "stderr",
     "output_type": "stream",
     "text": [
      "30.4kKiB [00:04, 7.23kKiB/s]                          \n",
      " 20%|██        | 12/59 [00:45<03:19,  4.24s/it]"
     ]
    },
    {
     "name": "stdout",
     "output_type": "stream",
     "text": [
      "File is not empty\n",
      "Download complete - file saved to /gws/nopw/j04/scenario/users/benhutch/hist-aer/tas/GISS-E2-1-G/tas_Amon_GISS-E2-1-G_hist-aer_r5i1p3f1_gn_195101-200012.nc\n"
     ]
    },
    {
     "name": "stderr",
     "output_type": "stream",
     "text": [
      "8.53kKiB [00:00, 9.12kKiB/s]                          \n",
      " 22%|██▏       | 13/59 [00:46<02:36,  3.40s/it]"
     ]
    },
    {
     "name": "stdout",
     "output_type": "stream",
     "text": [
      "File is not empty\n",
      "Download complete - file saved to /gws/nopw/j04/scenario/users/benhutch/hist-aer/tas/GISS-E2-1-G/tas_Amon_GISS-E2-1-G_hist-aer_r5i1p3f1_gn_200101-201412.nc\n"
     ]
    },
    {
     "name": "stderr",
     "output_type": "stream",
     "text": [
      "30.4kKiB [00:01, 25.6kKiB/s]                          \n",
      " 24%|██▎       | 14/59 [00:48<02:10,  2.91s/it]"
     ]
    },
    {
     "name": "stdout",
     "output_type": "stream",
     "text": [
      "File is not empty\n",
      "Download complete - file saved to /gws/nopw/j04/scenario/users/benhutch/hist-aer/tas/GISS-E2-1-G/tas_Amon_GISS-E2-1-G_hist-aer_r1i1p1f2_gn_195101-200012.nc\n"
     ]
    },
    {
     "name": "stderr",
     "output_type": "stream",
     "text": [
      "31.0kKiB [00:02, 14.6kKiB/s]                          \n",
      " 25%|██▌       | 15/59 [00:51<02:06,  2.88s/it]"
     ]
    },
    {
     "name": "stdout",
     "output_type": "stream",
     "text": [
      "File is not empty\n",
      "Download complete - file saved to /gws/nopw/j04/scenario/users/benhutch/hist-aer/tas/GISS-E2-1-G/tas_Amon_GISS-E2-1-G_hist-aer_r2i1p1f2_gn_185001-190012.nc\n"
     ]
    },
    {
     "name": "stderr",
     "output_type": "stream",
     "text": [
      "30.4kKiB [00:01, 17.7kKiB/s]                          \n"
     ]
    },
    {
     "name": "stdout",
     "output_type": "stream",
     "text": [
      "File is not empty\n",
      "Download complete - file saved to /gws/nopw/j04/scenario/users/benhutch/hist-aer/tas/GISS-E2-1-G/tas_Amon_GISS-E2-1-G_hist-aer_r2i1p1f2_gn_190101-195012.nc\n"
     ]
    },
    {
     "name": "stderr",
     "output_type": "stream",
     "text": [
      "30.4kKiB [00:01, 23.4kKiB/s]                          \n",
      " 29%|██▉       | 17/59 [00:55<01:46,  2.53s/it]"
     ]
    },
    {
     "name": "stdout",
     "output_type": "stream",
     "text": [
      "File is not empty\n",
      "Download complete - file saved to /gws/nopw/j04/scenario/users/benhutch/hist-aer/tas/GISS-E2-1-G/tas_Amon_GISS-E2-1-G_hist-aer_r2i1p1f2_gn_195101-200012.nc\n"
     ]
    },
    {
     "name": "stderr",
     "output_type": "stream",
     "text": [
      "8.53kKiB [00:00, 8.84kKiB/s]                          \n",
      " 31%|███       | 18/59 [00:57<01:31,  2.24s/it]"
     ]
    },
    {
     "name": "stdout",
     "output_type": "stream",
     "text": [
      "File is not empty\n",
      "Download complete - file saved to /gws/nopw/j04/scenario/users/benhutch/hist-aer/tas/GISS-E2-1-G/tas_Amon_GISS-E2-1-G_hist-aer_r2i1p1f2_gn_200101-201412.nc\n"
     ]
    },
    {
     "name": "stderr",
     "output_type": "stream",
     "text": [
      "31.0kKiB [00:01, 23.8kKiB/s]                          \n",
      " 32%|███▏      | 19/59 [00:59<01:25,  2.14s/it]"
     ]
    },
    {
     "name": "stdout",
     "output_type": "stream",
     "text": [
      "File is not empty\n",
      "Download complete - file saved to /gws/nopw/j04/scenario/users/benhutch/hist-aer/tas/GISS-E2-1-G/tas_Amon_GISS-E2-1-G_hist-aer_r5i1p1f2_gn_185001-190012.nc\n"
     ]
    },
    {
     "name": "stderr",
     "output_type": "stream",
     "text": [
      "30.4kKiB [00:01, 24.0kKiB/s]                          \n",
      " 34%|███▍      | 20/59 [01:01<01:20,  2.07s/it]"
     ]
    },
    {
     "name": "stdout",
     "output_type": "stream",
     "text": [
      "File is not empty\n",
      "Download complete - file saved to /gws/nopw/j04/scenario/users/benhutch/hist-aer/tas/GISS-E2-1-G/tas_Amon_GISS-E2-1-G_hist-aer_r5i1p1f2_gn_190101-195012.nc\n"
     ]
    },
    {
     "name": "stderr",
     "output_type": "stream",
     "text": [
      "30.4kKiB [00:01, 23.9kKiB/s]                          \n",
      " 36%|███▌      | 21/59 [01:03<01:16,  2.02s/it]"
     ]
    },
    {
     "name": "stdout",
     "output_type": "stream",
     "text": [
      "File is not empty\n",
      "Download complete - file saved to /gws/nopw/j04/scenario/users/benhutch/hist-aer/tas/GISS-E2-1-G/tas_Amon_GISS-E2-1-G_hist-aer_r5i1p1f2_gn_195101-200012.nc\n"
     ]
    },
    {
     "name": "stderr",
     "output_type": "stream",
     "text": [
      "8.53kKiB [00:00, 9.36kKiB/s]                          \n",
      " 37%|███▋      | 22/59 [01:04<01:08,  1.85s/it]"
     ]
    },
    {
     "name": "stdout",
     "output_type": "stream",
     "text": [
      "File is not empty\n",
      "Download complete - file saved to /gws/nopw/j04/scenario/users/benhutch/hist-aer/tas/GISS-E2-1-G/tas_Amon_GISS-E2-1-G_hist-aer_r5i1p1f2_gn_200101-201412.nc\n"
     ]
    },
    {
     "name": "stderr",
     "output_type": "stream",
     "text": [
      "31.0kKiB [00:01, 24.6kKiB/s]                          \n",
      " 39%|███▉      | 23/59 [01:06<01:11,  1.97s/it]"
     ]
    },
    {
     "name": "stdout",
     "output_type": "stream",
     "text": [
      "File is not empty\n",
      "Download complete - file saved to /gws/nopw/j04/scenario/users/benhutch/hist-aer/tas/GISS-E2-1-G/tas_Amon_GISS-E2-1-G_hist-aer_r4i1p1f2_gn_185001-190012.nc\n"
     ]
    },
    {
     "name": "stderr",
     "output_type": "stream",
     "text": [
      "30.4kKiB [00:01, 23.7kKiB/s]                          \n",
      " 41%|████      | 24/59 [01:08<01:08,  1.96s/it]"
     ]
    },
    {
     "name": "stdout",
     "output_type": "stream",
     "text": [
      "File is not empty\n",
      "Download complete - file saved to /gws/nopw/j04/scenario/users/benhutch/hist-aer/tas/GISS-E2-1-G/tas_Amon_GISS-E2-1-G_hist-aer_r4i1p1f2_gn_190101-195012.nc\n"
     ]
    },
    {
     "name": "stderr",
     "output_type": "stream",
     "text": [
      "30.4kKiB [00:01, 23.9kKiB/s]                          \n",
      " 42%|████▏     | 25/59 [01:10<01:05,  1.94s/it]"
     ]
    },
    {
     "name": "stdout",
     "output_type": "stream",
     "text": [
      "File is not empty\n",
      "Download complete - file saved to /gws/nopw/j04/scenario/users/benhutch/hist-aer/tas/GISS-E2-1-G/tas_Amon_GISS-E2-1-G_hist-aer_r4i1p1f2_gn_195101-200012.nc\n"
     ]
    },
    {
     "name": "stderr",
     "output_type": "stream",
     "text": [
      "8.53kKiB [00:01, 4.76kKiB/s]                          \n",
      " 44%|████▍     | 26/59 [01:13<01:07,  2.06s/it]"
     ]
    },
    {
     "name": "stdout",
     "output_type": "stream",
     "text": [
      "File is not empty\n",
      "Download complete - file saved to /gws/nopw/j04/scenario/users/benhutch/hist-aer/tas/GISS-E2-1-G/tas_Amon_GISS-E2-1-G_hist-aer_r4i1p1f2_gn_200101-201412.nc\n"
     ]
    },
    {
     "name": "stderr",
     "output_type": "stream",
     "text": [
      "31.0kKiB [00:01, 18.1kKiB/s]                          \n",
      " 46%|████▌     | 27/59 [01:15<01:08,  2.15s/it]"
     ]
    },
    {
     "name": "stdout",
     "output_type": "stream",
     "text": [
      "File is not empty\n",
      "Download complete - file saved to /gws/nopw/j04/scenario/users/benhutch/hist-aer/tas/GISS-E2-1-G/tas_Amon_GISS-E2-1-G_hist-aer_r3i1p1f2_gn_185001-190012.nc\n"
     ]
    },
    {
     "name": "stderr",
     "output_type": "stream",
     "text": [
      "30.4kKiB [00:02, 10.8kKiB/s]                          \n",
      " 47%|████▋     | 28/59 [01:18<01:18,  2.54s/it]"
     ]
    },
    {
     "name": "stdout",
     "output_type": "stream",
     "text": [
      "File is not empty\n",
      "Download complete - file saved to /gws/nopw/j04/scenario/users/benhutch/hist-aer/tas/GISS-E2-1-G/tas_Amon_GISS-E2-1-G_hist-aer_r3i1p1f2_gn_190101-195012.nc\n"
     ]
    },
    {
     "name": "stderr",
     "output_type": "stream",
     "text": [
      "30.4kKiB [00:01, 23.7kKiB/s]                          \n",
      " 49%|████▉     | 29/59 [01:20<01:10,  2.34s/it]"
     ]
    },
    {
     "name": "stdout",
     "output_type": "stream",
     "text": [
      "File is not empty\n",
      "Download complete - file saved to /gws/nopw/j04/scenario/users/benhutch/hist-aer/tas/GISS-E2-1-G/tas_Amon_GISS-E2-1-G_hist-aer_r3i1p1f2_gn_195101-200012.nc\n"
     ]
    },
    {
     "name": "stderr",
     "output_type": "stream",
     "text": [
      "8.53kKiB [00:00, 9.20kKiB/s]                          \n",
      " 51%|█████     | 30/59 [01:22<01:00,  2.08s/it]"
     ]
    },
    {
     "name": "stdout",
     "output_type": "stream",
     "text": [
      "File is not empty\n",
      "Download complete - file saved to /gws/nopw/j04/scenario/users/benhutch/hist-aer/tas/GISS-E2-1-G/tas_Amon_GISS-E2-1-G_hist-aer_r3i1p1f2_gn_200101-201412.nc\n"
     ]
    },
    {
     "name": "stderr",
     "output_type": "stream",
     "text": [
      "150kKiB [00:30, 4.88kKiB/s]                         \n",
      " 53%|█████▎    | 31/59 [01:53<05:03, 10.82s/it]"
     ]
    },
    {
     "name": "stdout",
     "output_type": "stream",
     "text": [
      "File is not empty\n",
      "Download complete - file saved to /gws/nopw/j04/scenario/users/benhutch/hist-aer/tas/ACCESS-CM2/tas_Amon_ACCESS-CM2_hist-aer_r3i1p1f1_gn_185001-202012.nc\n"
     ]
    },
    {
     "name": "stderr",
     "output_type": "stream",
     "text": [
      "150kKiB [00:42, 3.54kKiB/s]                         \n"
     ]
    },
    {
     "name": "stdout",
     "output_type": "stream",
     "text": [
      "File is not empty\n",
      "Download complete - file saved to /gws/nopw/j04/scenario/users/benhutch/hist-aer/tas/ACCESS-CM2/tas_Amon_ACCESS-CM2_hist-aer_r2i1p1f1_gn_185001-202012.nc\n"
     ]
    },
    {
     "name": "stderr",
     "output_type": "stream",
     "text": [
      "84.9kKiB [00:07, 12.0kKiB/s]                          \n",
      " 56%|█████▌    | 33/59 [02:45<07:16, 16.79s/it]"
     ]
    },
    {
     "name": "stdout",
     "output_type": "stream",
     "text": [
      "File is not empty\n",
      "Download complete - file saved to /gws/nopw/j04/scenario/users/benhutch/hist-aer/tas/MIROC6/tas_Amon_MIROC6_hist-aer_r4i1p1f1_gn_185001-194912.nc\n"
     ]
    },
    {
     "name": "stderr",
     "output_type": "stream",
     "text": [
      "60.3kKiB [00:04, 14.6kKiB/s]                          \n",
      " 58%|█████▊    | 34/59 [02:49<05:28, 13.16s/it]"
     ]
    },
    {
     "name": "stdout",
     "output_type": "stream",
     "text": [
      "File is not empty\n",
      "Download complete - file saved to /gws/nopw/j04/scenario/users/benhutch/hist-aer/tas/MIROC6/tas_Amon_MIROC6_hist-aer_r4i1p1f1_gn_195001-202012.nc\n"
     ]
    },
    {
     "name": "stderr",
     "output_type": "stream",
     "text": [
      "84.9kKiB [00:05, 15.1kKiB/s]                          \n",
      " 59%|█████▉    | 35/59 [02:55<04:26, 11.09s/it]"
     ]
    },
    {
     "name": "stdout",
     "output_type": "stream",
     "text": [
      "File is not empty\n",
      "Download complete - file saved to /gws/nopw/j04/scenario/users/benhutch/hist-aer/tas/MIROC6/tas_Amon_MIROC6_hist-aer_r5i1p1f1_gn_185001-194912.nc\n"
     ]
    },
    {
     "name": "stderr",
     "output_type": "stream",
     "text": [
      "60.3kKiB [00:04, 14.7kKiB/s]                          \n",
      " 61%|██████    | 36/59 [03:00<03:31,  9.18s/it]"
     ]
    },
    {
     "name": "stdout",
     "output_type": "stream",
     "text": [
      "File is not empty\n",
      "Download complete - file saved to /gws/nopw/j04/scenario/users/benhutch/hist-aer/tas/MIROC6/tas_Amon_MIROC6_hist-aer_r5i1p1f1_gn_195001-202012.nc\n"
     ]
    },
    {
     "name": "stderr",
     "output_type": "stream",
     "text": [
      "84.9kKiB [00:05, 15.2kKiB/s]                          \n",
      " 63%|██████▎   | 37/59 [03:06<03:02,  8.31s/it]"
     ]
    },
    {
     "name": "stdout",
     "output_type": "stream",
     "text": [
      "File is not empty\n",
      "Download complete - file saved to /gws/nopw/j04/scenario/users/benhutch/hist-aer/tas/MIROC6/tas_Amon_MIROC6_hist-aer_r7i1p1f1_gn_185001-194912.nc\n"
     ]
    },
    {
     "name": "stderr",
     "output_type": "stream",
     "text": [
      "60.3kKiB [00:04, 12.1kKiB/s]                          \n",
      " 64%|██████▍   | 38/59 [03:12<02:37,  7.50s/it]"
     ]
    },
    {
     "name": "stdout",
     "output_type": "stream",
     "text": [
      "File is not empty\n",
      "Download complete - file saved to /gws/nopw/j04/scenario/users/benhutch/hist-aer/tas/MIROC6/tas_Amon_MIROC6_hist-aer_r7i1p1f1_gn_195001-202012.nc\n"
     ]
    },
    {
     "name": "stderr",
     "output_type": "stream",
     "text": [
      "84.9kKiB [00:05, 15.3kKiB/s]                          \n",
      " 66%|██████▌   | 39/59 [03:18<02:22,  7.14s/it]"
     ]
    },
    {
     "name": "stdout",
     "output_type": "stream",
     "text": [
      "File is not empty\n",
      "Download complete - file saved to /gws/nopw/j04/scenario/users/benhutch/hist-aer/tas/MIROC6/tas_Amon_MIROC6_hist-aer_r9i1p1f1_gn_185001-194912.nc\n"
     ]
    },
    {
     "name": "stderr",
     "output_type": "stream",
     "text": [
      "60.3kKiB [00:04, 14.8kKiB/s]                          \n",
      " 68%|██████▊   | 40/59 [03:23<02:02,  6.42s/it]"
     ]
    },
    {
     "name": "stdout",
     "output_type": "stream",
     "text": [
      "File is not empty\n",
      "Download complete - file saved to /gws/nopw/j04/scenario/users/benhutch/hist-aer/tas/MIROC6/tas_Amon_MIROC6_hist-aer_r9i1p1f1_gn_195001-202012.nc\n"
     ]
    },
    {
     "name": "stderr",
     "output_type": "stream",
     "text": [
      "53.1kKiB [00:05, 9.14kKiB/s]                          \n",
      " 69%|██████▉   | 41/59 [03:31<02:01,  6.74s/it]"
     ]
    },
    {
     "name": "stdout",
     "output_type": "stream",
     "text": [
      "File is not empty\n",
      "Download complete - file saved to /gws/nopw/j04/scenario/users/benhutch/hist-aer/tas/CanESM5/tas_Amon_CanESM5_hist-aer_r11i1p2f1_gn_185001-202012.nc\n"
     ]
    },
    {
     "name": "stderr",
     "output_type": "stream",
     "text": [
      "53.1kKiB [00:02, 25.7kKiB/s]                          \n",
      " 71%|███████   | 42/59 [03:33<01:34,  5.57s/it]"
     ]
    },
    {
     "name": "stdout",
     "output_type": "stream",
     "text": [
      "File is not empty\n",
      "Download complete - file saved to /gws/nopw/j04/scenario/users/benhutch/hist-aer/tas/CanESM5/tas_Amon_CanESM5_hist-aer_r12i1p1f1_gn_185001-202012.nc\n"
     ]
    },
    {
     "name": "stderr",
     "output_type": "stream",
     "text": [
      "53.1kKiB [00:02, 24.8kKiB/s]                          \n",
      " 73%|███████▎  | 43/59 [03:36<01:15,  4.75s/it]"
     ]
    },
    {
     "name": "stdout",
     "output_type": "stream",
     "text": [
      "File is not empty\n",
      "Download complete - file saved to /gws/nopw/j04/scenario/users/benhutch/hist-aer/tas/CanESM5/tas_Amon_CanESM5_hist-aer_r13i1p2f1_gn_185001-202012.nc\n"
     ]
    },
    {
     "name": "stderr",
     "output_type": "stream",
     "text": [
      "53.1kKiB [00:02, 25.9kKiB/s]                          \n",
      " 75%|███████▍  | 44/59 [03:39<01:02,  4.19s/it]"
     ]
    },
    {
     "name": "stdout",
     "output_type": "stream",
     "text": [
      "File is not empty\n",
      "Download complete - file saved to /gws/nopw/j04/scenario/users/benhutch/hist-aer/tas/CanESM5/tas_Amon_CanESM5_hist-aer_r14i1p2f1_gn_185001-202012.nc\n"
     ]
    },
    {
     "name": "stderr",
     "output_type": "stream",
     "text": [
      "53.1kKiB [00:04, 11.9kKiB/s]                          \n",
      " 76%|███████▋  | 45/59 [03:44<01:03,  4.51s/it]"
     ]
    },
    {
     "name": "stdout",
     "output_type": "stream",
     "text": [
      "File is not empty\n",
      "Download complete - file saved to /gws/nopw/j04/scenario/users/benhutch/hist-aer/tas/CanESM5/tas_Amon_CanESM5_hist-aer_r15i1p1f1_gn_185001-202012.nc\n"
     ]
    },
    {
     "name": "stderr",
     "output_type": "stream",
     "text": [
      "53.1kKiB [00:04, 10.9kKiB/s]                          \n",
      " 78%|███████▊  | 46/59 [03:50<01:03,  4.87s/it]"
     ]
    },
    {
     "name": "stdout",
     "output_type": "stream",
     "text": [
      "File is not empty\n",
      "Download complete - file saved to /gws/nopw/j04/scenario/users/benhutch/hist-aer/tas/CanESM5/tas_Amon_CanESM5_hist-aer_r15i1p2f1_gn_185001-202012.nc\n"
     ]
    },
    {
     "name": "stderr",
     "output_type": "stream",
     "text": [
      "53.1kKiB [00:02, 21.9kKiB/s]                          \n",
      " 80%|███████▉  | 47/59 [03:53<00:52,  4.39s/it]"
     ]
    },
    {
     "name": "stdout",
     "output_type": "stream",
     "text": [
      "File is not empty\n",
      "Download complete - file saved to /gws/nopw/j04/scenario/users/benhutch/hist-aer/tas/CanESM5/tas_Amon_CanESM5_hist-aer_r10i1p2f1_gn_185001-202012.nc\n"
     ]
    },
    {
     "name": "stderr",
     "output_type": "stream",
     "text": [
      "53.1kKiB [00:02, 26.5kKiB/s]                          \n",
      " 81%|████████▏ | 48/59 [03:56<00:42,  3.91s/it]"
     ]
    },
    {
     "name": "stdout",
     "output_type": "stream",
     "text": [
      "File is not empty\n",
      "Download complete - file saved to /gws/nopw/j04/scenario/users/benhutch/hist-aer/tas/CanESM5/tas_Amon_CanESM5_hist-aer_r7i1p2f1_gn_185001-202012.nc\n"
     ]
    },
    {
     "name": "stderr",
     "output_type": "stream",
     "text": [
      "53.1kKiB [00:02, 26.2kKiB/s]                          \n",
      " 83%|████████▎ | 49/59 [03:59<00:35,  3.54s/it]"
     ]
    },
    {
     "name": "stdout",
     "output_type": "stream",
     "text": [
      "File is not empty\n",
      "Download complete - file saved to /gws/nopw/j04/scenario/users/benhutch/hist-aer/tas/CanESM5/tas_Amon_CanESM5_hist-aer_r8i1p2f1_gn_185001-202012.nc\n"
     ]
    },
    {
     "name": "stderr",
     "output_type": "stream",
     "text": [
      "53.1kKiB [00:02, 25.7kKiB/s]                          \n",
      " 85%|████████▍ | 50/59 [04:02<00:30,  3.34s/it]"
     ]
    },
    {
     "name": "stdout",
     "output_type": "stream",
     "text": [
      "File is not empty\n",
      "Download complete - file saved to /gws/nopw/j04/scenario/users/benhutch/hist-aer/tas/CanESM5/tas_Amon_CanESM5_hist-aer_r9i1p2f1_gn_185001-202012.nc\n"
     ]
    },
    {
     "name": "stderr",
     "output_type": "stream",
     "text": [
      "108kKiB [00:11, 9.85kKiB/s]                         \n",
      " 86%|████████▋ | 51/59 [04:13<00:46,  5.86s/it]"
     ]
    },
    {
     "name": "stdout",
     "output_type": "stream",
     "text": [
      "File is not empty\n",
      "Download complete - file saved to /gws/nopw/j04/scenario/users/benhutch/hist-aer/tas/E3SM-2-0/tas_Amon_E3SM-2-0_hist-aer_r2i1p1f1_gr_185001-189912.nc\n"
     ]
    },
    {
     "name": "stderr",
     "output_type": "stream",
     "text": [
      "108kKiB [00:20, 5.39kKiB/s]                         \n",
      " 88%|████████▊ | 52/59 [04:34<01:12, 10.29s/it]"
     ]
    },
    {
     "name": "stdout",
     "output_type": "stream",
     "text": [
      "File is not empty\n",
      "Download complete - file saved to /gws/nopw/j04/scenario/users/benhutch/hist-aer/tas/E3SM-2-0/tas_Amon_E3SM-2-0_hist-aer_r2i1p1f1_gr_190001-194912.nc\n"
     ]
    },
    {
     "name": "stderr",
     "output_type": "stream",
     "text": [
      "108kKiB [00:14, 7.39kKiB/s]                         \n",
      " 90%|████████▉ | 53/59 [04:50<01:11, 11.86s/it]"
     ]
    },
    {
     "name": "stdout",
     "output_type": "stream",
     "text": [
      "File is not empty\n",
      "Download complete - file saved to /gws/nopw/j04/scenario/users/benhutch/hist-aer/tas/E3SM-2-0/tas_Amon_E3SM-2-0_hist-aer_r2i1p1f1_gr_195001-199912.nc\n"
     ]
    },
    {
     "name": "stderr",
     "output_type": "stream",
     "text": [
      "32.6kKiB [00:03, 9.52kKiB/s]                          \n",
      " 92%|█████████▏| 54/59 [04:54<00:47,  9.53s/it]"
     ]
    },
    {
     "name": "stdout",
     "output_type": "stream",
     "text": [
      "File is not empty\n",
      "Download complete - file saved to /gws/nopw/j04/scenario/users/benhutch/hist-aer/tas/E3SM-2-0/tas_Amon_E3SM-2-0_hist-aer_r2i1p1f1_gr_200001-201412.nc\n"
     ]
    },
    {
     "name": "stderr",
     "output_type": "stream",
     "text": [
      "108kKiB [00:20, 5.33kKiB/s]                         \n",
      " 93%|█████████▎| 55/59 [05:15<00:51, 12.93s/it]"
     ]
    },
    {
     "name": "stdout",
     "output_type": "stream",
     "text": [
      "File is not empty\n",
      "Download complete - file saved to /gws/nopw/j04/scenario/users/benhutch/hist-aer/tas/E3SM-2-0/tas_Amon_E3SM-2-0_hist-aer_r4i1p1f1_gr_185001-189912.nc\n"
     ]
    },
    {
     "name": "stderr",
     "output_type": "stream",
     "text": [
      "108kKiB [00:13, 8.18kKiB/s]                         \n",
      " 95%|█████████▍| 56/59 [05:28<00:39, 13.20s/it]"
     ]
    },
    {
     "name": "stdout",
     "output_type": "stream",
     "text": [
      "File is not empty\n",
      "Download complete - file saved to /gws/nopw/j04/scenario/users/benhutch/hist-aer/tas/E3SM-2-0/tas_Amon_E3SM-2-0_hist-aer_r4i1p1f1_gr_190001-194912.nc\n"
     ]
    },
    {
     "name": "stderr",
     "output_type": "stream",
     "text": [
      "108kKiB [00:07, 14.0kKiB/s]                         \n",
      " 97%|█████████▋| 57/59 [05:37<00:23, 11.72s/it]"
     ]
    },
    {
     "name": "stdout",
     "output_type": "stream",
     "text": [
      "File is not empty\n",
      "Download complete - file saved to /gws/nopw/j04/scenario/users/benhutch/hist-aer/tas/E3SM-2-0/tas_Amon_E3SM-2-0_hist-aer_r4i1p1f1_gr_195001-199912.nc\n"
     ]
    },
    {
     "name": "stderr",
     "output_type": "stream",
     "text": [
      "32.6kKiB [00:03, 10.8kKiB/s]                          \n",
      " 98%|█████████▊| 58/59 [05:40<00:09,  9.30s/it]"
     ]
    },
    {
     "name": "stdout",
     "output_type": "stream",
     "text": [
      "File is not empty\n",
      "Download complete - file saved to /gws/nopw/j04/scenario/users/benhutch/hist-aer/tas/E3SM-2-0/tas_Amon_E3SM-2-0_hist-aer_r4i1p1f1_gr_200001-201412.nc\n"
     ]
    },
    {
     "name": "stderr",
     "output_type": "stream",
     "text": [
      "7.45kKiB [00:04, 1.68kKiB/s]                          \n",
      "100%|██████████| 59/59 [05:47<00:00,  5.89s/it]"
     ]
    },
    {
     "name": "stdout",
     "output_type": "stream",
     "text": [
      "File is not empty\n",
      "Download complete - file saved to /gws/nopw/j04/scenario/users/benhutch/hist-aer/tas/FGOALS-g3/tas_Amon_FGOALS-g3_hist-aer_r2i1p1f1_gn_201001-202012.nc\n"
     ]
    },
    {
     "name": "stderr",
     "output_type": "stream",
     "text": [
      "\n"
     ]
    }
   ],
   "source": [
    "# We only want to download the files which don't already exist on JASMIN\n",
    "# Set up the download directory\n",
    "download_dir = \"/gws/nopw/j04/scenario/users/benhutch/\"\n",
    "\n",
    "# Loop through files_df and download the files\n",
    "# First constrain the dataframe to only the files which don't already exist on JASMIN\n",
    "files_df = files_df[files_df['file_exists'] == False]\n",
    "\n",
    "# Reset the index\n",
    "files_df.reset_index(drop=True, inplace=True)\n",
    "\n",
    "# Loop through the files_df and download the files\n",
    "for i in tqdm(range(len(files_df))):\n",
    "    # Get the file_url\n",
    "    file_url = files_df.loc[i, 'url']\n",
    "\n",
    "    # Get the filename\n",
    "    filename = files_df.loc[i, 'filename']\n",
    "\n",
    "    # Split the filename and extract the variable name\n",
    "    variable = filename.split('_')[0]\n",
    "\n",
    "    # Split the filename to get the experiment name\n",
    "    experiment = filename.split('_')[3]\n",
    "\n",
    "    # Set up the model\n",
    "    model = filename.split('_')[2]\n",
    "\n",
    "    # Set up the download directory\n",
    "    download_dir_loop = os.path.join(download_dir, experiment, variable, model)\n",
    "\n",
    "    # If the download directory doesn't exist, make it\n",
    "    if not os.path.exists(download_dir_loop):\n",
    "        os.makedirs(download_dir_loop)\n",
    "\n",
    "    # Set up the download path\n",
    "    download_path = os.path.join(download_dir_loop, filename)\n",
    "\n",
    "    # Set up the request\n",
    "    r = requests.get(file_url, stream=True)\n",
    "\n",
    "    # Set up the total size\n",
    "    total_size = int(r.headers.get('content-length', 0))\n",
    "    \n",
    "    # Set up the block size\n",
    "    block_size = 1024\n",
    "\n",
    "    # Download the file\n",
    "    with open(download_path, 'wb') as f:\n",
    "        for data in tqdm(r.iter_content(block_size), \n",
    "                        total = total_size//block_size, \n",
    "                        unit = 'KiB', \n",
    "                        unit_scale = True):\n",
    "            f.write(data)\n",
    "\n",
    "        # If the total size is no 0\n",
    "        if total_size != 0:\n",
    "            print(\"File is not empty\")\n",
    "            print(\"Download complete - file saved to {}\".format(download_path))\n"
   ]
  },
  {
   "cell_type": "code",
   "execution_count": 14,
   "metadata": {},
   "outputs": [
    {
     "name": "stderr",
     "output_type": "stream",
     "text": [
      "/tmp/ipykernel_1622/1028569091.py:11: FutureWarning: The frame.append method is deprecated and will be removed from pandas in a future version. Use pandas.concat instead.\n",
      "  file_context_df = file_context_df.append(file_context, ignore_index=True)\n",
      "/tmp/ipykernel_1622/1028569091.py:11: FutureWarning: The frame.append method is deprecated and will be removed from pandas in a future version. Use pandas.concat instead.\n",
      "  file_context_df = file_context_df.append(file_context, ignore_index=True)\n",
      "/tmp/ipykernel_1622/1028569091.py:11: FutureWarning: The frame.append method is deprecated and will be removed from pandas in a future version. Use pandas.concat instead.\n",
      "  file_context_df = file_context_df.append(file_context, ignore_index=True)\n",
      "/tmp/ipykernel_1622/1028569091.py:11: FutureWarning: The frame.append method is deprecated and will be removed from pandas in a future version. Use pandas.concat instead.\n",
      "  file_context_df = file_context_df.append(file_context, ignore_index=True)\n",
      "/tmp/ipykernel_1622/1028569091.py:11: FutureWarning: The frame.append method is deprecated and will be removed from pandas in a future version. Use pandas.concat instead.\n",
      "  file_context_df = file_context_df.append(file_context, ignore_index=True)\n",
      "/tmp/ipykernel_1622/1028569091.py:11: FutureWarning: The frame.append method is deprecated and will be removed from pandas in a future version. Use pandas.concat instead.\n",
      "  file_context_df = file_context_df.append(file_context, ignore_index=True)\n",
      "/tmp/ipykernel_1622/1028569091.py:11: FutureWarning: The frame.append method is deprecated and will be removed from pandas in a future version. Use pandas.concat instead.\n",
      "  file_context_df = file_context_df.append(file_context, ignore_index=True)\n",
      "/tmp/ipykernel_1622/1028569091.py:11: FutureWarning: The frame.append method is deprecated and will be removed from pandas in a future version. Use pandas.concat instead.\n",
      "  file_context_df = file_context_df.append(file_context, ignore_index=True)\n",
      "/tmp/ipykernel_1622/1028569091.py:11: FutureWarning: The frame.append method is deprecated and will be removed from pandas in a future version. Use pandas.concat instead.\n",
      "  file_context_df = file_context_df.append(file_context, ignore_index=True)\n",
      "/tmp/ipykernel_1622/1028569091.py:11: FutureWarning: The frame.append method is deprecated and will be removed from pandas in a future version. Use pandas.concat instead.\n",
      "  file_context_df = file_context_df.append(file_context, ignore_index=True)\n",
      "/tmp/ipykernel_1622/1028569091.py:11: FutureWarning: The frame.append method is deprecated and will be removed from pandas in a future version. Use pandas.concat instead.\n",
      "  file_context_df = file_context_df.append(file_context, ignore_index=True)\n",
      "/tmp/ipykernel_1622/1028569091.py:11: FutureWarning: The frame.append method is deprecated and will be removed from pandas in a future version. Use pandas.concat instead.\n",
      "  file_context_df = file_context_df.append(file_context, ignore_index=True)\n",
      "/tmp/ipykernel_1622/1028569091.py:11: FutureWarning: The frame.append method is deprecated and will be removed from pandas in a future version. Use pandas.concat instead.\n",
      "  file_context_df = file_context_df.append(file_context, ignore_index=True)\n",
      "/tmp/ipykernel_1622/1028569091.py:11: FutureWarning: The frame.append method is deprecated and will be removed from pandas in a future version. Use pandas.concat instead.\n",
      "  file_context_df = file_context_df.append(file_context, ignore_index=True)\n",
      "/tmp/ipykernel_1622/1028569091.py:11: FutureWarning: The frame.append method is deprecated and will be removed from pandas in a future version. Use pandas.concat instead.\n",
      "  file_context_df = file_context_df.append(file_context, ignore_index=True)\n"
     ]
    }
   ],
   "source": [
    "# Extract all of the file_context into dictionaries\n",
    "# and then append them to a dataframe\n",
    "# Initialize an empty list to store the dictionaries\n",
    "# Create an empty dataframe\n",
    "file_context_df = pd.DataFrame()\n",
    "\n",
    "\n",
    "# For each file_context\n",
    "for file_context in file_context_list:\n",
    "    # Append the file_context to the dataframe\n",
    "    file_context_df = file_context_df.append(file_context, ignore_index=True)"
   ]
  },
  {
   "cell_type": "code",
   "execution_count": null,
   "metadata": {},
   "outputs": [],
   "source": [
    "# Python\n",
    "# Form a list of the unique 'source_id' values from the results\n",
    "source_id_list = list(set([result.json['source_id'] for result in results]))\n",
    "\n",
    "# Print the list\n",
    "print(source_id_list)"
   ]
  },
  {
   "cell_type": "code",
   "execution_count": 5,
   "metadata": {},
   "outputs": [
    {
     "name": "stdout",
     "output_type": "stream",
     "text": [
      "5\n",
      "<class 'pyesgf.search.results.ResultSet'>\n",
      "<pyesgf.search.results.ResultSet object at 0x7f87bf91f130>\n"
     ]
    }
   ],
   "source": [
    "# test the function for querying the database\n",
    "results = query_data_esgf(conn,\n",
    "                        source_id='E3SM-2-0',\n",
    "                        experiment_id='hist-aer',\n",
    "                        variable_id='tas',\n",
    "                        table_id='Amon',\n",
    "                        data_node='esgf-data2.llnl.gov',)\n",
    "\n",
    "# print the len of the results\n",
    "print(len(results))\n",
    "\n",
    "# print the type of the results\n",
    "print(type(results))\n",
    "\n",
    "# print the results\n",
    "print(results)"
   ]
  },
  {
   "cell_type": "code",
   "execution_count": 6,
   "metadata": {},
   "outputs": [
    {
     "name": "stdout",
     "output_type": "stream",
     "text": [
      "CMIP6.DAMIP.E3SM-Project.E3SM-2-0.hist-aer.r2i1p1f1.Amon.tas.gr.v20220906|esgf-data2.llnl.gov\n"
     ]
    }
   ],
   "source": [
    "# Print the details of the first result\n",
    "print(results[0].json['id'])"
   ]
  },
  {
   "cell_type": "code",
   "execution_count": 7,
   "metadata": {},
   "outputs": [],
   "source": [
    "# Extract the file context\n",
    "# files_list = extract_file_context(results)\n",
    "\n",
    "# # # Turn the list into a dataframe\n",
    "# # files_df = pd.DataFrame.from_dict(files_list)\n",
    "\n",
    "# # files_df"
   ]
  },
  {
   "cell_type": "code",
   "execution_count": 8,
   "metadata": {},
   "outputs": [
    {
     "name": "stdout",
     "output_type": "stream",
     "text": [
      "Extracting file context for 5 datasets...\n"
     ]
    },
    {
     "data": {
      "text/plain": [
       "[{'filename': 'tas_Amon_E3SM-2-0_hist-aer_r2i1p1f1_gr_185001-189912.nc',\n",
       "  'url': 'https://esgf-data2.llnl.gov/thredds/fileServer/user_pub_work/CMIP6/DAMIP/E3SM-Project/E3SM-2-0/hist-aer/r2i1p1f1/Amon/tas/gr/v20220906/tas_Amon_E3SM-2-0_hist-aer_r2i1p1f1_gr_185001-189912.nc'},\n",
       " {'filename': 'tas_Amon_E3SM-2-0_hist-aer_r2i1p1f1_gr_190001-194912.nc',\n",
       "  'url': 'https://esgf-data2.llnl.gov/thredds/fileServer/user_pub_work/CMIP6/DAMIP/E3SM-Project/E3SM-2-0/hist-aer/r2i1p1f1/Amon/tas/gr/v20220906/tas_Amon_E3SM-2-0_hist-aer_r2i1p1f1_gr_190001-194912.nc'},\n",
       " {'filename': 'tas_Amon_E3SM-2-0_hist-aer_r2i1p1f1_gr_195001-199912.nc',\n",
       "  'url': 'https://esgf-data2.llnl.gov/thredds/fileServer/user_pub_work/CMIP6/DAMIP/E3SM-Project/E3SM-2-0/hist-aer/r2i1p1f1/Amon/tas/gr/v20220906/tas_Amon_E3SM-2-0_hist-aer_r2i1p1f1_gr_195001-199912.nc'},\n",
       " {'filename': 'tas_Amon_E3SM-2-0_hist-aer_r2i1p1f1_gr_200001-201412.nc',\n",
       "  'url': 'https://esgf-data2.llnl.gov/thredds/fileServer/user_pub_work/CMIP6/DAMIP/E3SM-Project/E3SM-2-0/hist-aer/r2i1p1f1/Amon/tas/gr/v20220906/tas_Amon_E3SM-2-0_hist-aer_r2i1p1f1_gr_200001-201412.nc'},\n",
       " {'filename': 'tas_Amon_E3SM-2-0_hist-aer_r1i1p1f1_gr_185001-189912.nc',\n",
       "  'url': 'https://esgf-data2.llnl.gov/thredds/fileServer/user_pub_work/CMIP6/DAMIP/E3SM-Project/E3SM-2-0/hist-aer/r1i1p1f1/Amon/tas/gr/v20220905/tas_Amon_E3SM-2-0_hist-aer_r1i1p1f1_gr_185001-189912.nc'},\n",
       " {'filename': 'tas_Amon_E3SM-2-0_hist-aer_r1i1p1f1_gr_190001-194912.nc',\n",
       "  'url': 'https://esgf-data2.llnl.gov/thredds/fileServer/user_pub_work/CMIP6/DAMIP/E3SM-Project/E3SM-2-0/hist-aer/r1i1p1f1/Amon/tas/gr/v20220905/tas_Amon_E3SM-2-0_hist-aer_r1i1p1f1_gr_190001-194912.nc'},\n",
       " {'filename': 'tas_Amon_E3SM-2-0_hist-aer_r1i1p1f1_gr_195001-199912.nc',\n",
       "  'url': 'https://esgf-data2.llnl.gov/thredds/fileServer/user_pub_work/CMIP6/DAMIP/E3SM-Project/E3SM-2-0/hist-aer/r1i1p1f1/Amon/tas/gr/v20220905/tas_Amon_E3SM-2-0_hist-aer_r1i1p1f1_gr_195001-199912.nc'},\n",
       " {'filename': 'tas_Amon_E3SM-2-0_hist-aer_r1i1p1f1_gr_200001-201412.nc',\n",
       "  'url': 'https://esgf-data2.llnl.gov/thredds/fileServer/user_pub_work/CMIP6/DAMIP/E3SM-Project/E3SM-2-0/hist-aer/r1i1p1f1/Amon/tas/gr/v20220905/tas_Amon_E3SM-2-0_hist-aer_r1i1p1f1_gr_200001-201412.nc'},\n",
       " {'filename': 'tas_Amon_E3SM-2-0_hist-aer_r3i1p1f1_gr_185001-189912.nc',\n",
       "  'url': 'https://esgf-data2.llnl.gov/thredds/fileServer/user_pub_work/CMIP6/DAMIP/E3SM-Project/E3SM-2-0/hist-aer/r3i1p1f1/Amon/tas/gr/v20220906/tas_Amon_E3SM-2-0_hist-aer_r3i1p1f1_gr_185001-189912.nc'},\n",
       " {'filename': 'tas_Amon_E3SM-2-0_hist-aer_r3i1p1f1_gr_190001-194912.nc',\n",
       "  'url': 'https://esgf-data2.llnl.gov/thredds/fileServer/user_pub_work/CMIP6/DAMIP/E3SM-Project/E3SM-2-0/hist-aer/r3i1p1f1/Amon/tas/gr/v20220906/tas_Amon_E3SM-2-0_hist-aer_r3i1p1f1_gr_190001-194912.nc'},\n",
       " {'filename': 'tas_Amon_E3SM-2-0_hist-aer_r3i1p1f1_gr_195001-199912.nc',\n",
       "  'url': 'https://esgf-data2.llnl.gov/thredds/fileServer/user_pub_work/CMIP6/DAMIP/E3SM-Project/E3SM-2-0/hist-aer/r3i1p1f1/Amon/tas/gr/v20220906/tas_Amon_E3SM-2-0_hist-aer_r3i1p1f1_gr_195001-199912.nc'},\n",
       " {'filename': 'tas_Amon_E3SM-2-0_hist-aer_r3i1p1f1_gr_200001-201412.nc',\n",
       "  'url': 'https://esgf-data2.llnl.gov/thredds/fileServer/user_pub_work/CMIP6/DAMIP/E3SM-Project/E3SM-2-0/hist-aer/r3i1p1f1/Amon/tas/gr/v20220906/tas_Amon_E3SM-2-0_hist-aer_r3i1p1f1_gr_200001-201412.nc'},\n",
       " {'filename': 'tas_Amon_E3SM-2-0_hist-aer_r4i1p1f1_gr_185001-189912.nc',\n",
       "  'url': 'https://esgf-data2.llnl.gov/thredds/fileServer/user_pub_work/CMIP6/DAMIP/E3SM-Project/E3SM-2-0/hist-aer/r4i1p1f1/Amon/tas/gr/v20220907/tas_Amon_E3SM-2-0_hist-aer_r4i1p1f1_gr_185001-189912.nc'},\n",
       " {'filename': 'tas_Amon_E3SM-2-0_hist-aer_r4i1p1f1_gr_190001-194912.nc',\n",
       "  'url': 'https://esgf-data2.llnl.gov/thredds/fileServer/user_pub_work/CMIP6/DAMIP/E3SM-Project/E3SM-2-0/hist-aer/r4i1p1f1/Amon/tas/gr/v20220907/tas_Amon_E3SM-2-0_hist-aer_r4i1p1f1_gr_190001-194912.nc'},\n",
       " {'filename': 'tas_Amon_E3SM-2-0_hist-aer_r4i1p1f1_gr_195001-199912.nc',\n",
       "  'url': 'https://esgf-data2.llnl.gov/thredds/fileServer/user_pub_work/CMIP6/DAMIP/E3SM-Project/E3SM-2-0/hist-aer/r4i1p1f1/Amon/tas/gr/v20220907/tas_Amon_E3SM-2-0_hist-aer_r4i1p1f1_gr_195001-199912.nc'},\n",
       " {'filename': 'tas_Amon_E3SM-2-0_hist-aer_r4i1p1f1_gr_200001-201412.nc',\n",
       "  'url': 'https://esgf-data2.llnl.gov/thredds/fileServer/user_pub_work/CMIP6/DAMIP/E3SM-Project/E3SM-2-0/hist-aer/r4i1p1f1/Amon/tas/gr/v20220907/tas_Amon_E3SM-2-0_hist-aer_r4i1p1f1_gr_200001-201412.nc'},\n",
       " {'filename': 'tas_Amon_E3SM-2-0_hist-aer_r5i1p1f1_gr_185001-189912.nc',\n",
       "  'url': 'https://esgf-data2.llnl.gov/thredds/fileServer/user_pub_work/CMIP6/DAMIP/E3SM-Project/E3SM-2-0/hist-aer/r5i1p1f1/Amon/tas/gr/v20220907/tas_Amon_E3SM-2-0_hist-aer_r5i1p1f1_gr_185001-189912.nc'},\n",
       " {'filename': 'tas_Amon_E3SM-2-0_hist-aer_r5i1p1f1_gr_190001-194912.nc',\n",
       "  'url': 'https://esgf-data2.llnl.gov/thredds/fileServer/user_pub_work/CMIP6/DAMIP/E3SM-Project/E3SM-2-0/hist-aer/r5i1p1f1/Amon/tas/gr/v20220907/tas_Amon_E3SM-2-0_hist-aer_r5i1p1f1_gr_190001-194912.nc'},\n",
       " {'filename': 'tas_Amon_E3SM-2-0_hist-aer_r5i1p1f1_gr_195001-199912.nc',\n",
       "  'url': 'https://esgf-data2.llnl.gov/thredds/fileServer/user_pub_work/CMIP6/DAMIP/E3SM-Project/E3SM-2-0/hist-aer/r5i1p1f1/Amon/tas/gr/v20220907/tas_Amon_E3SM-2-0_hist-aer_r5i1p1f1_gr_195001-199912.nc'},\n",
       " {'filename': 'tas_Amon_E3SM-2-0_hist-aer_r5i1p1f1_gr_200001-201412.nc',\n",
       "  'url': 'https://esgf-data2.llnl.gov/thredds/fileServer/user_pub_work/CMIP6/DAMIP/E3SM-Project/E3SM-2-0/hist-aer/r5i1p1f1/Amon/tas/gr/v20220907/tas_Amon_E3SM-2-0_hist-aer_r5i1p1f1_gr_200001-201412.nc'}]"
      ]
     },
     "execution_count": 8,
     "metadata": {},
     "output_type": "execute_result"
    }
   ],
   "source": [
    "files_list_mt = extract_file_context_multithread(results)\n",
    "\n",
    "files_list_mt"
   ]
  },
  {
   "cell_type": "code",
   "execution_count": 9,
   "metadata": {},
   "outputs": [],
   "source": [
    "files_list = files_list_mt"
   ]
  },
  {
   "cell_type": "code",
   "execution_count": 11,
   "metadata": {},
   "outputs": [
    {
     "name": "stdout",
     "output_type": "stream",
     "text": [
      "<class 'list'>\n"
     ]
    },
    {
     "data": {
      "text/html": [
       "<div>\n",
       "<style scoped>\n",
       "    .dataframe tbody tr th:only-of-type {\n",
       "        vertical-align: middle;\n",
       "    }\n",
       "\n",
       "    .dataframe tbody tr th {\n",
       "        vertical-align: top;\n",
       "    }\n",
       "\n",
       "    .dataframe thead th {\n",
       "        text-align: right;\n",
       "    }\n",
       "</style>\n",
       "<table border=\"1\" class=\"dataframe\">\n",
       "  <thead>\n",
       "    <tr style=\"text-align: right;\">\n",
       "      <th></th>\n",
       "      <th>filename</th>\n",
       "      <th>url</th>\n",
       "    </tr>\n",
       "  </thead>\n",
       "  <tbody>\n",
       "    <tr>\n",
       "      <th>0</th>\n",
       "      <td>tas_Amon_E3SM-2-0_hist-aer_r2i1p1f1_gr_185001-...</td>\n",
       "      <td>https://esgf-data2.llnl.gov/thredds/fileServer...</td>\n",
       "    </tr>\n",
       "    <tr>\n",
       "      <th>1</th>\n",
       "      <td>tas_Amon_E3SM-2-0_hist-aer_r2i1p1f1_gr_190001-...</td>\n",
       "      <td>https://esgf-data2.llnl.gov/thredds/fileServer...</td>\n",
       "    </tr>\n",
       "    <tr>\n",
       "      <th>2</th>\n",
       "      <td>tas_Amon_E3SM-2-0_hist-aer_r2i1p1f1_gr_195001-...</td>\n",
       "      <td>https://esgf-data2.llnl.gov/thredds/fileServer...</td>\n",
       "    </tr>\n",
       "    <tr>\n",
       "      <th>3</th>\n",
       "      <td>tas_Amon_E3SM-2-0_hist-aer_r2i1p1f1_gr_200001-...</td>\n",
       "      <td>https://esgf-data2.llnl.gov/thredds/fileServer...</td>\n",
       "    </tr>\n",
       "    <tr>\n",
       "      <th>4</th>\n",
       "      <td>tas_Amon_E3SM-2-0_hist-aer_r1i1p1f1_gr_185001-...</td>\n",
       "      <td>https://esgf-data2.llnl.gov/thredds/fileServer...</td>\n",
       "    </tr>\n",
       "    <tr>\n",
       "      <th>5</th>\n",
       "      <td>tas_Amon_E3SM-2-0_hist-aer_r1i1p1f1_gr_190001-...</td>\n",
       "      <td>https://esgf-data2.llnl.gov/thredds/fileServer...</td>\n",
       "    </tr>\n",
       "    <tr>\n",
       "      <th>6</th>\n",
       "      <td>tas_Amon_E3SM-2-0_hist-aer_r1i1p1f1_gr_195001-...</td>\n",
       "      <td>https://esgf-data2.llnl.gov/thredds/fileServer...</td>\n",
       "    </tr>\n",
       "    <tr>\n",
       "      <th>7</th>\n",
       "      <td>tas_Amon_E3SM-2-0_hist-aer_r1i1p1f1_gr_200001-...</td>\n",
       "      <td>https://esgf-data2.llnl.gov/thredds/fileServer...</td>\n",
       "    </tr>\n",
       "    <tr>\n",
       "      <th>8</th>\n",
       "      <td>tas_Amon_E3SM-2-0_hist-aer_r3i1p1f1_gr_185001-...</td>\n",
       "      <td>https://esgf-data2.llnl.gov/thredds/fileServer...</td>\n",
       "    </tr>\n",
       "    <tr>\n",
       "      <th>9</th>\n",
       "      <td>tas_Amon_E3SM-2-0_hist-aer_r3i1p1f1_gr_190001-...</td>\n",
       "      <td>https://esgf-data2.llnl.gov/thredds/fileServer...</td>\n",
       "    </tr>\n",
       "    <tr>\n",
       "      <th>10</th>\n",
       "      <td>tas_Amon_E3SM-2-0_hist-aer_r3i1p1f1_gr_195001-...</td>\n",
       "      <td>https://esgf-data2.llnl.gov/thredds/fileServer...</td>\n",
       "    </tr>\n",
       "    <tr>\n",
       "      <th>11</th>\n",
       "      <td>tas_Amon_E3SM-2-0_hist-aer_r3i1p1f1_gr_200001-...</td>\n",
       "      <td>https://esgf-data2.llnl.gov/thredds/fileServer...</td>\n",
       "    </tr>\n",
       "    <tr>\n",
       "      <th>12</th>\n",
       "      <td>tas_Amon_E3SM-2-0_hist-aer_r4i1p1f1_gr_185001-...</td>\n",
       "      <td>https://esgf-data2.llnl.gov/thredds/fileServer...</td>\n",
       "    </tr>\n",
       "    <tr>\n",
       "      <th>13</th>\n",
       "      <td>tas_Amon_E3SM-2-0_hist-aer_r4i1p1f1_gr_190001-...</td>\n",
       "      <td>https://esgf-data2.llnl.gov/thredds/fileServer...</td>\n",
       "    </tr>\n",
       "    <tr>\n",
       "      <th>14</th>\n",
       "      <td>tas_Amon_E3SM-2-0_hist-aer_r4i1p1f1_gr_195001-...</td>\n",
       "      <td>https://esgf-data2.llnl.gov/thredds/fileServer...</td>\n",
       "    </tr>\n",
       "    <tr>\n",
       "      <th>15</th>\n",
       "      <td>tas_Amon_E3SM-2-0_hist-aer_r4i1p1f1_gr_200001-...</td>\n",
       "      <td>https://esgf-data2.llnl.gov/thredds/fileServer...</td>\n",
       "    </tr>\n",
       "    <tr>\n",
       "      <th>16</th>\n",
       "      <td>tas_Amon_E3SM-2-0_hist-aer_r5i1p1f1_gr_185001-...</td>\n",
       "      <td>https://esgf-data2.llnl.gov/thredds/fileServer...</td>\n",
       "    </tr>\n",
       "    <tr>\n",
       "      <th>17</th>\n",
       "      <td>tas_Amon_E3SM-2-0_hist-aer_r5i1p1f1_gr_190001-...</td>\n",
       "      <td>https://esgf-data2.llnl.gov/thredds/fileServer...</td>\n",
       "    </tr>\n",
       "    <tr>\n",
       "      <th>18</th>\n",
       "      <td>tas_Amon_E3SM-2-0_hist-aer_r5i1p1f1_gr_195001-...</td>\n",
       "      <td>https://esgf-data2.llnl.gov/thredds/fileServer...</td>\n",
       "    </tr>\n",
       "    <tr>\n",
       "      <th>19</th>\n",
       "      <td>tas_Amon_E3SM-2-0_hist-aer_r5i1p1f1_gr_200001-...</td>\n",
       "      <td>https://esgf-data2.llnl.gov/thredds/fileServer...</td>\n",
       "    </tr>\n",
       "  </tbody>\n",
       "</table>\n",
       "</div>"
      ],
      "text/plain": [
       "                                             filename  \\\n",
       "0   tas_Amon_E3SM-2-0_hist-aer_r2i1p1f1_gr_185001-...   \n",
       "1   tas_Amon_E3SM-2-0_hist-aer_r2i1p1f1_gr_190001-...   \n",
       "2   tas_Amon_E3SM-2-0_hist-aer_r2i1p1f1_gr_195001-...   \n",
       "3   tas_Amon_E3SM-2-0_hist-aer_r2i1p1f1_gr_200001-...   \n",
       "4   tas_Amon_E3SM-2-0_hist-aer_r1i1p1f1_gr_185001-...   \n",
       "5   tas_Amon_E3SM-2-0_hist-aer_r1i1p1f1_gr_190001-...   \n",
       "6   tas_Amon_E3SM-2-0_hist-aer_r1i1p1f1_gr_195001-...   \n",
       "7   tas_Amon_E3SM-2-0_hist-aer_r1i1p1f1_gr_200001-...   \n",
       "8   tas_Amon_E3SM-2-0_hist-aer_r3i1p1f1_gr_185001-...   \n",
       "9   tas_Amon_E3SM-2-0_hist-aer_r3i1p1f1_gr_190001-...   \n",
       "10  tas_Amon_E3SM-2-0_hist-aer_r3i1p1f1_gr_195001-...   \n",
       "11  tas_Amon_E3SM-2-0_hist-aer_r3i1p1f1_gr_200001-...   \n",
       "12  tas_Amon_E3SM-2-0_hist-aer_r4i1p1f1_gr_185001-...   \n",
       "13  tas_Amon_E3SM-2-0_hist-aer_r4i1p1f1_gr_190001-...   \n",
       "14  tas_Amon_E3SM-2-0_hist-aer_r4i1p1f1_gr_195001-...   \n",
       "15  tas_Amon_E3SM-2-0_hist-aer_r4i1p1f1_gr_200001-...   \n",
       "16  tas_Amon_E3SM-2-0_hist-aer_r5i1p1f1_gr_185001-...   \n",
       "17  tas_Amon_E3SM-2-0_hist-aer_r5i1p1f1_gr_190001-...   \n",
       "18  tas_Amon_E3SM-2-0_hist-aer_r5i1p1f1_gr_195001-...   \n",
       "19  tas_Amon_E3SM-2-0_hist-aer_r5i1p1f1_gr_200001-...   \n",
       "\n",
       "                                                  url  \n",
       "0   https://esgf-data2.llnl.gov/thredds/fileServer...  \n",
       "1   https://esgf-data2.llnl.gov/thredds/fileServer...  \n",
       "2   https://esgf-data2.llnl.gov/thredds/fileServer...  \n",
       "3   https://esgf-data2.llnl.gov/thredds/fileServer...  \n",
       "4   https://esgf-data2.llnl.gov/thredds/fileServer...  \n",
       "5   https://esgf-data2.llnl.gov/thredds/fileServer...  \n",
       "6   https://esgf-data2.llnl.gov/thredds/fileServer...  \n",
       "7   https://esgf-data2.llnl.gov/thredds/fileServer...  \n",
       "8   https://esgf-data2.llnl.gov/thredds/fileServer...  \n",
       "9   https://esgf-data2.llnl.gov/thredds/fileServer...  \n",
       "10  https://esgf-data2.llnl.gov/thredds/fileServer...  \n",
       "11  https://esgf-data2.llnl.gov/thredds/fileServer...  \n",
       "12  https://esgf-data2.llnl.gov/thredds/fileServer...  \n",
       "13  https://esgf-data2.llnl.gov/thredds/fileServer...  \n",
       "14  https://esgf-data2.llnl.gov/thredds/fileServer...  \n",
       "15  https://esgf-data2.llnl.gov/thredds/fileServer...  \n",
       "16  https://esgf-data2.llnl.gov/thredds/fileServer...  \n",
       "17  https://esgf-data2.llnl.gov/thredds/fileServer...  \n",
       "18  https://esgf-data2.llnl.gov/thredds/fileServer...  \n",
       "19  https://esgf-data2.llnl.gov/thredds/fileServer...  "
      ]
     },
     "execution_count": 11,
     "metadata": {},
     "output_type": "execute_result"
    }
   ],
   "source": [
    "# Print the type of the files list\n",
    "print(type(files_list))\n",
    "\n",
    "# Extract this into a dataframe\n",
    "files_df = pd.DataFrame.from_dict(files_list)\n",
    "files_df\n",
    "\n",
    "# Assert that all filenames contrain the string \"185001\" and \"202012\"\n",
    "# assert all(files_df['filename'].str.contains('185001')), \"Not all filenames contain the string 185001\"\n",
    "# assert all(files_df['filename'].str.contains('202012')), \"Not all filenames contain the string 202012\"\n",
    "\n",
    "files_df"
   ]
  },
  {
   "cell_type": "code",
   "execution_count": 12,
   "metadata": {},
   "outputs": [
    {
     "name": "stdout",
     "output_type": "stream",
     "text": [
      "E3SM-Project\n",
      "File does not exist for tas_Amon_E3SM-2-0_hist-aer_r2i1p1f1_gr_185001-189912.nc\n",
      "E3SM-Project\n",
      "File does not exist for tas_Amon_E3SM-2-0_hist-aer_r2i1p1f1_gr_190001-194912.nc\n",
      "E3SM-Project\n",
      "File does not exist for tas_Amon_E3SM-2-0_hist-aer_r2i1p1f1_gr_195001-199912.nc\n",
      "E3SM-Project\n",
      "File does not exist for tas_Amon_E3SM-2-0_hist-aer_r2i1p1f1_gr_200001-201412.nc\n",
      "E3SM-Project\n",
      "File does not exist for tas_Amon_E3SM-2-0_hist-aer_r1i1p1f1_gr_185001-189912.nc\n",
      "E3SM-Project\n",
      "File does not exist for tas_Amon_E3SM-2-0_hist-aer_r1i1p1f1_gr_190001-194912.nc\n",
      "E3SM-Project\n",
      "File does not exist for tas_Amon_E3SM-2-0_hist-aer_r1i1p1f1_gr_195001-199912.nc\n",
      "E3SM-Project\n",
      "File does not exist for tas_Amon_E3SM-2-0_hist-aer_r1i1p1f1_gr_200001-201412.nc\n",
      "E3SM-Project\n",
      "File does not exist for tas_Amon_E3SM-2-0_hist-aer_r3i1p1f1_gr_185001-189912.nc\n",
      "E3SM-Project\n",
      "File does not exist for tas_Amon_E3SM-2-0_hist-aer_r3i1p1f1_gr_190001-194912.nc\n",
      "E3SM-Project\n",
      "File does not exist for tas_Amon_E3SM-2-0_hist-aer_r3i1p1f1_gr_195001-199912.nc\n",
      "E3SM-Project\n",
      "File does not exist for tas_Amon_E3SM-2-0_hist-aer_r3i1p1f1_gr_200001-201412.nc\n",
      "E3SM-Project\n",
      "File does not exist for tas_Amon_E3SM-2-0_hist-aer_r4i1p1f1_gr_185001-189912.nc\n",
      "E3SM-Project\n",
      "File does not exist for tas_Amon_E3SM-2-0_hist-aer_r4i1p1f1_gr_190001-194912.nc\n",
      "E3SM-Project\n",
      "File does not exist for tas_Amon_E3SM-2-0_hist-aer_r4i1p1f1_gr_195001-199912.nc\n",
      "E3SM-Project\n",
      "File does not exist for tas_Amon_E3SM-2-0_hist-aer_r4i1p1f1_gr_200001-201412.nc\n",
      "E3SM-Project\n",
      "File does not exist for tas_Amon_E3SM-2-0_hist-aer_r5i1p1f1_gr_185001-189912.nc\n",
      "E3SM-Project\n",
      "File does not exist for tas_Amon_E3SM-2-0_hist-aer_r5i1p1f1_gr_190001-194912.nc\n",
      "E3SM-Project\n",
      "File does not exist for tas_Amon_E3SM-2-0_hist-aer_r5i1p1f1_gr_195001-199912.nc\n",
      "E3SM-Project\n",
      "File does not exist for tas_Amon_E3SM-2-0_hist-aer_r5i1p1f1_gr_200001-201412.nc\n"
     ]
    },
    {
     "data": {
      "text/html": [
       "<div>\n",
       "<style scoped>\n",
       "    .dataframe tbody tr th:only-of-type {\n",
       "        vertical-align: middle;\n",
       "    }\n",
       "\n",
       "    .dataframe tbody tr th {\n",
       "        vertical-align: top;\n",
       "    }\n",
       "\n",
       "    .dataframe thead th {\n",
       "        text-align: right;\n",
       "    }\n",
       "</style>\n",
       "<table border=\"1\" class=\"dataframe\">\n",
       "  <thead>\n",
       "    <tr style=\"text-align: right;\">\n",
       "      <th></th>\n",
       "      <th>filename</th>\n",
       "      <th>url</th>\n",
       "      <th>file_exists</th>\n",
       "    </tr>\n",
       "  </thead>\n",
       "  <tbody>\n",
       "    <tr>\n",
       "      <th>0</th>\n",
       "      <td>tas_Amon_E3SM-2-0_hist-aer_r2i1p1f1_gr_185001-...</td>\n",
       "      <td>https://esgf-data2.llnl.gov/thredds/fileServer...</td>\n",
       "      <td>False</td>\n",
       "    </tr>\n",
       "    <tr>\n",
       "      <th>1</th>\n",
       "      <td>tas_Amon_E3SM-2-0_hist-aer_r2i1p1f1_gr_190001-...</td>\n",
       "      <td>https://esgf-data2.llnl.gov/thredds/fileServer...</td>\n",
       "      <td>False</td>\n",
       "    </tr>\n",
       "    <tr>\n",
       "      <th>2</th>\n",
       "      <td>tas_Amon_E3SM-2-0_hist-aer_r2i1p1f1_gr_195001-...</td>\n",
       "      <td>https://esgf-data2.llnl.gov/thredds/fileServer...</td>\n",
       "      <td>False</td>\n",
       "    </tr>\n",
       "    <tr>\n",
       "      <th>3</th>\n",
       "      <td>tas_Amon_E3SM-2-0_hist-aer_r2i1p1f1_gr_200001-...</td>\n",
       "      <td>https://esgf-data2.llnl.gov/thredds/fileServer...</td>\n",
       "      <td>False</td>\n",
       "    </tr>\n",
       "    <tr>\n",
       "      <th>4</th>\n",
       "      <td>tas_Amon_E3SM-2-0_hist-aer_r1i1p1f1_gr_185001-...</td>\n",
       "      <td>https://esgf-data2.llnl.gov/thredds/fileServer...</td>\n",
       "      <td>False</td>\n",
       "    </tr>\n",
       "    <tr>\n",
       "      <th>5</th>\n",
       "      <td>tas_Amon_E3SM-2-0_hist-aer_r1i1p1f1_gr_190001-...</td>\n",
       "      <td>https://esgf-data2.llnl.gov/thredds/fileServer...</td>\n",
       "      <td>False</td>\n",
       "    </tr>\n",
       "    <tr>\n",
       "      <th>6</th>\n",
       "      <td>tas_Amon_E3SM-2-0_hist-aer_r1i1p1f1_gr_195001-...</td>\n",
       "      <td>https://esgf-data2.llnl.gov/thredds/fileServer...</td>\n",
       "      <td>False</td>\n",
       "    </tr>\n",
       "    <tr>\n",
       "      <th>7</th>\n",
       "      <td>tas_Amon_E3SM-2-0_hist-aer_r1i1p1f1_gr_200001-...</td>\n",
       "      <td>https://esgf-data2.llnl.gov/thredds/fileServer...</td>\n",
       "      <td>False</td>\n",
       "    </tr>\n",
       "    <tr>\n",
       "      <th>8</th>\n",
       "      <td>tas_Amon_E3SM-2-0_hist-aer_r3i1p1f1_gr_185001-...</td>\n",
       "      <td>https://esgf-data2.llnl.gov/thredds/fileServer...</td>\n",
       "      <td>False</td>\n",
       "    </tr>\n",
       "    <tr>\n",
       "      <th>9</th>\n",
       "      <td>tas_Amon_E3SM-2-0_hist-aer_r3i1p1f1_gr_190001-...</td>\n",
       "      <td>https://esgf-data2.llnl.gov/thredds/fileServer...</td>\n",
       "      <td>False</td>\n",
       "    </tr>\n",
       "    <tr>\n",
       "      <th>10</th>\n",
       "      <td>tas_Amon_E3SM-2-0_hist-aer_r3i1p1f1_gr_195001-...</td>\n",
       "      <td>https://esgf-data2.llnl.gov/thredds/fileServer...</td>\n",
       "      <td>False</td>\n",
       "    </tr>\n",
       "    <tr>\n",
       "      <th>11</th>\n",
       "      <td>tas_Amon_E3SM-2-0_hist-aer_r3i1p1f1_gr_200001-...</td>\n",
       "      <td>https://esgf-data2.llnl.gov/thredds/fileServer...</td>\n",
       "      <td>False</td>\n",
       "    </tr>\n",
       "    <tr>\n",
       "      <th>12</th>\n",
       "      <td>tas_Amon_E3SM-2-0_hist-aer_r4i1p1f1_gr_185001-...</td>\n",
       "      <td>https://esgf-data2.llnl.gov/thredds/fileServer...</td>\n",
       "      <td>False</td>\n",
       "    </tr>\n",
       "    <tr>\n",
       "      <th>13</th>\n",
       "      <td>tas_Amon_E3SM-2-0_hist-aer_r4i1p1f1_gr_190001-...</td>\n",
       "      <td>https://esgf-data2.llnl.gov/thredds/fileServer...</td>\n",
       "      <td>False</td>\n",
       "    </tr>\n",
       "    <tr>\n",
       "      <th>14</th>\n",
       "      <td>tas_Amon_E3SM-2-0_hist-aer_r4i1p1f1_gr_195001-...</td>\n",
       "      <td>https://esgf-data2.llnl.gov/thredds/fileServer...</td>\n",
       "      <td>False</td>\n",
       "    </tr>\n",
       "    <tr>\n",
       "      <th>15</th>\n",
       "      <td>tas_Amon_E3SM-2-0_hist-aer_r4i1p1f1_gr_200001-...</td>\n",
       "      <td>https://esgf-data2.llnl.gov/thredds/fileServer...</td>\n",
       "      <td>False</td>\n",
       "    </tr>\n",
       "    <tr>\n",
       "      <th>16</th>\n",
       "      <td>tas_Amon_E3SM-2-0_hist-aer_r5i1p1f1_gr_185001-...</td>\n",
       "      <td>https://esgf-data2.llnl.gov/thredds/fileServer...</td>\n",
       "      <td>False</td>\n",
       "    </tr>\n",
       "    <tr>\n",
       "      <th>17</th>\n",
       "      <td>tas_Amon_E3SM-2-0_hist-aer_r5i1p1f1_gr_190001-...</td>\n",
       "      <td>https://esgf-data2.llnl.gov/thredds/fileServer...</td>\n",
       "      <td>False</td>\n",
       "    </tr>\n",
       "    <tr>\n",
       "      <th>18</th>\n",
       "      <td>tas_Amon_E3SM-2-0_hist-aer_r5i1p1f1_gr_195001-...</td>\n",
       "      <td>https://esgf-data2.llnl.gov/thredds/fileServer...</td>\n",
       "      <td>False</td>\n",
       "    </tr>\n",
       "    <tr>\n",
       "      <th>19</th>\n",
       "      <td>tas_Amon_E3SM-2-0_hist-aer_r5i1p1f1_gr_200001-...</td>\n",
       "      <td>https://esgf-data2.llnl.gov/thredds/fileServer...</td>\n",
       "      <td>False</td>\n",
       "    </tr>\n",
       "  </tbody>\n",
       "</table>\n",
       "</div>"
      ],
      "text/plain": [
       "                                             filename  \\\n",
       "0   tas_Amon_E3SM-2-0_hist-aer_r2i1p1f1_gr_185001-...   \n",
       "1   tas_Amon_E3SM-2-0_hist-aer_r2i1p1f1_gr_190001-...   \n",
       "2   tas_Amon_E3SM-2-0_hist-aer_r2i1p1f1_gr_195001-...   \n",
       "3   tas_Amon_E3SM-2-0_hist-aer_r2i1p1f1_gr_200001-...   \n",
       "4   tas_Amon_E3SM-2-0_hist-aer_r1i1p1f1_gr_185001-...   \n",
       "5   tas_Amon_E3SM-2-0_hist-aer_r1i1p1f1_gr_190001-...   \n",
       "6   tas_Amon_E3SM-2-0_hist-aer_r1i1p1f1_gr_195001-...   \n",
       "7   tas_Amon_E3SM-2-0_hist-aer_r1i1p1f1_gr_200001-...   \n",
       "8   tas_Amon_E3SM-2-0_hist-aer_r3i1p1f1_gr_185001-...   \n",
       "9   tas_Amon_E3SM-2-0_hist-aer_r3i1p1f1_gr_190001-...   \n",
       "10  tas_Amon_E3SM-2-0_hist-aer_r3i1p1f1_gr_195001-...   \n",
       "11  tas_Amon_E3SM-2-0_hist-aer_r3i1p1f1_gr_200001-...   \n",
       "12  tas_Amon_E3SM-2-0_hist-aer_r4i1p1f1_gr_185001-...   \n",
       "13  tas_Amon_E3SM-2-0_hist-aer_r4i1p1f1_gr_190001-...   \n",
       "14  tas_Amon_E3SM-2-0_hist-aer_r4i1p1f1_gr_195001-...   \n",
       "15  tas_Amon_E3SM-2-0_hist-aer_r4i1p1f1_gr_200001-...   \n",
       "16  tas_Amon_E3SM-2-0_hist-aer_r5i1p1f1_gr_185001-...   \n",
       "17  tas_Amon_E3SM-2-0_hist-aer_r5i1p1f1_gr_190001-...   \n",
       "18  tas_Amon_E3SM-2-0_hist-aer_r5i1p1f1_gr_195001-...   \n",
       "19  tas_Amon_E3SM-2-0_hist-aer_r5i1p1f1_gr_200001-...   \n",
       "\n",
       "                                                  url  file_exists  \n",
       "0   https://esgf-data2.llnl.gov/thredds/fileServer...        False  \n",
       "1   https://esgf-data2.llnl.gov/thredds/fileServer...        False  \n",
       "2   https://esgf-data2.llnl.gov/thredds/fileServer...        False  \n",
       "3   https://esgf-data2.llnl.gov/thredds/fileServer...        False  \n",
       "4   https://esgf-data2.llnl.gov/thredds/fileServer...        False  \n",
       "5   https://esgf-data2.llnl.gov/thredds/fileServer...        False  \n",
       "6   https://esgf-data2.llnl.gov/thredds/fileServer...        False  \n",
       "7   https://esgf-data2.llnl.gov/thredds/fileServer...        False  \n",
       "8   https://esgf-data2.llnl.gov/thredds/fileServer...        False  \n",
       "9   https://esgf-data2.llnl.gov/thredds/fileServer...        False  \n",
       "10  https://esgf-data2.llnl.gov/thredds/fileServer...        False  \n",
       "11  https://esgf-data2.llnl.gov/thredds/fileServer...        False  \n",
       "12  https://esgf-data2.llnl.gov/thredds/fileServer...        False  \n",
       "13  https://esgf-data2.llnl.gov/thredds/fileServer...        False  \n",
       "14  https://esgf-data2.llnl.gov/thredds/fileServer...        False  \n",
       "15  https://esgf-data2.llnl.gov/thredds/fileServer...        False  \n",
       "16  https://esgf-data2.llnl.gov/thredds/fileServer...        False  \n",
       "17  https://esgf-data2.llnl.gov/thredds/fileServer...        False  \n",
       "18  https://esgf-data2.llnl.gov/thredds/fileServer...        False  \n",
       "19  https://esgf-data2.llnl.gov/thredds/fileServer...        False  "
      ]
     },
     "execution_count": 12,
     "metadata": {},
     "output_type": "execute_result"
    }
   ],
   "source": [
    "import glob\n",
    "\n",
    "# We want to verify whether these files exist on JASMIN\n",
    "damip_dir = \"/badc/cmip6/data/CMIP6/DAMIP/\"\n",
    "\n",
    "# Test the function\n",
    "files_df = check_file_exists_jasmin(files_df, damip_dir)\n",
    "\n",
    "files_df"
   ]
  },
  {
   "cell_type": "code",
   "execution_count": 10,
   "metadata": {},
   "outputs": [
    {
     "name": "stdout",
     "output_type": "stream",
     "text": [
      "/gws/nopw/j04/scenario/users/benhutch/DAMIP/hist-aer/tas/CanESM5\n",
      "Downloading tas_Amon_CanESM5_hist-aer_r1i1p1f1_gn_185001-202012.nc from http://crd-esgf-drc.ec.gc.ca/thredds/fileServer/esgE_dataroot/AR6/CMIP6/DAMIP/CCCma/CanESM5/hist-aer/r1i1p1f1/Amon/tas/gn/v20190429/tas_Amon_CanESM5_hist-aer_r1i1p1f1_gn_185001-202012.nc\n",
      "Saving to /gws/nopw/j04/scenario/users/benhutch/DAMIP/hist-aer/tas/CanESM5tas_Amon_CanESM5_hist-aer_r1i1p1f1_gn_185001-202012.nc\n"
     ]
    },
    {
     "name": "stderr",
     "output_type": "stream",
     "text": [
      "53.1kKiB [00:46, 1.13kKiB/s]                          \n"
     ]
    },
    {
     "name": "stdout",
     "output_type": "stream",
     "text": [
      "Downloaded size does not match expected size!\n",
      " FYI, the status code was  200\n"
     ]
    }
   ],
   "source": [
    "# Set up the directory to download to\n",
    "download_dir = \"/gws/nopw/j04/scenario/users/benhutch/DAMIP\"\n",
    "\n",
    "# Set up the variable\n",
    "variable = 'tas'\n",
    "\n",
    "# Set up the experiment id\n",
    "experiment_id = 'hist-aer'\n",
    "\n",
    "# Set up the model\n",
    "model = 'CanESM5'\n",
    "\n",
    "# Set up the directory\n",
    "download_path = os.path.join(download_dir, experiment_id, \n",
    "                             variable, model)\n",
    "\n",
    "# Print the download path\n",
    "print(download_path)\n",
    "\n",
    "# Use the download function to download a single file\n",
    "download_file(files_df['url'][0], \n",
    "              files_df['filename'][0], download_path)"
   ]
  },
  {
   "cell_type": "code",
   "execution_count": 11,
   "metadata": {},
   "outputs": [
    {
     "name": "stderr",
     "output_type": "stream",
     "text": [
      "  0%|          | 0/5 [00:00<?, ?it/s]"
     ]
    },
    {
     "name": "stdout",
     "output_type": "stream",
     "text": [
      "Downloading tas_Amon_CanESM5_hist-aer_r1i1p1f1_gn_185001-202012.nc from http://crd-esgf-drc.ec.gc.ca/thredds/fileServer/esgE_dataroot/AR6/CMIP6/DAMIP/CCCma/CanESM5/hist-aer/r1i1p1f1/Amon/tas/gn/v20190429/tas_Amon_CanESM5_hist-aer_r1i1p1f1_gn_185001-202012.nc\n",
      "Saving to /gws/nopw/j04/scenario/users/benhutch/DAMIP/hist-aer/tas/CanESM5tas_Amon_CanESM5_hist-aer_r1i1p1f1_gn_185001-202012.nc\n"
     ]
    },
    {
     "name": "stderr",
     "output_type": "stream",
     "text": [
      "53.1kKiB [00:05, 10.5kKiB/s]                          \n",
      " 20%|██        | 1/5 [00:05<00:23,  5.86s/it]"
     ]
    },
    {
     "name": "stdout",
     "output_type": "stream",
     "text": [
      "Downloaded size does not match expected size!\n",
      " FYI, the status code was  200\n",
      "Downloading tas_Amon_CanESM5_hist-aer_r4i1p1f1_gn_185001-202012.nc from http://crd-esgf-drc.ec.gc.ca/thredds/fileServer/esgE_dataroot/AR6/CMIP6/DAMIP/CCCma/CanESM5/hist-aer/r4i1p1f1/Amon/tas/gn/v20190429/tas_Amon_CanESM5_hist-aer_r4i1p1f1_gn_185001-202012.nc\n",
      "Saving to /gws/nopw/j04/scenario/users/benhutch/DAMIP/hist-aer/tas/CanESM5tas_Amon_CanESM5_hist-aer_r4i1p1f1_gn_185001-202012.nc\n"
     ]
    },
    {
     "name": "stderr",
     "output_type": "stream",
     "text": [
      "53.1kKiB [00:02, 22.6kKiB/s]                          \n",
      " 40%|████      | 2/5 [00:08<00:12,  4.25s/it]"
     ]
    },
    {
     "name": "stdout",
     "output_type": "stream",
     "text": [
      "Downloaded size does not match expected size!\n",
      " FYI, the status code was  200\n",
      "Downloading tas_Amon_CanESM5_hist-aer_r2i1p1f1_gn_185001-202012.nc from http://crd-esgf-drc.ec.gc.ca/thredds/fileServer/esgE_dataroot/AR6/CMIP6/DAMIP/CCCma/CanESM5/hist-aer/r2i1p1f1/Amon/tas/gn/v20190429/tas_Amon_CanESM5_hist-aer_r2i1p1f1_gn_185001-202012.nc\n",
      "Saving to /gws/nopw/j04/scenario/users/benhutch/DAMIP/hist-aer/tas/CanESM5tas_Amon_CanESM5_hist-aer_r2i1p1f1_gn_185001-202012.nc\n"
     ]
    },
    {
     "name": "stderr",
     "output_type": "stream",
     "text": [
      "53.1kKiB [00:19, 2.73kKiB/s]                          \n"
     ]
    },
    {
     "name": "stdout",
     "output_type": "stream",
     "text": [
      "Downloaded size does not match expected size!\n",
      " FYI, the status code was  200\n"
     ]
    },
    {
     "name": "stderr",
     "output_type": "stream",
     "text": [
      " 60%|██████    | 3/5 [00:29<00:23, 11.58s/it]"
     ]
    },
    {
     "name": "stdout",
     "output_type": "stream",
     "text": [
      "Downloading tas_Amon_CanESM5_hist-aer_r5i1p1f1_gn_185001-202012.nc from http://crd-esgf-drc.ec.gc.ca/thredds/fileServer/esgE_dataroot/AR6/CMIP6/DAMIP/CCCma/CanESM5/hist-aer/r5i1p1f1/Amon/tas/gn/v20190429/tas_Amon_CanESM5_hist-aer_r5i1p1f1_gn_185001-202012.nc\n",
      "Saving to /gws/nopw/j04/scenario/users/benhutch/DAMIP/hist-aer/tas/CanESM5tas_Amon_CanESM5_hist-aer_r5i1p1f1_gn_185001-202012.nc\n"
     ]
    },
    {
     "name": "stderr",
     "output_type": "stream",
     "text": [
      "53.1kKiB [00:02, 23.0kKiB/s]                          \n",
      " 80%|████████  | 4/5 [00:32<00:08,  8.18s/it]"
     ]
    },
    {
     "name": "stdout",
     "output_type": "stream",
     "text": [
      "Downloaded size does not match expected size!\n",
      " FYI, the status code was  200\n",
      "Downloading tas_Amon_CanESM5_hist-aer_r3i1p1f1_gn_185001-202012.nc from http://crd-esgf-drc.ec.gc.ca/thredds/fileServer/esgE_dataroot/AR6/CMIP6/DAMIP/CCCma/CanESM5/hist-aer/r3i1p1f1/Amon/tas/gn/v20190429/tas_Amon_CanESM5_hist-aer_r3i1p1f1_gn_185001-202012.nc\n",
      "Saving to /gws/nopw/j04/scenario/users/benhutch/DAMIP/hist-aer/tas/CanESM5tas_Amon_CanESM5_hist-aer_r3i1p1f1_gn_185001-202012.nc\n"
     ]
    },
    {
     "name": "stderr",
     "output_type": "stream",
     "text": [
      "53.1kKiB [00:13, 3.82kKiB/s]                          \n",
      "100%|██████████| 5/5 [00:46<00:00,  9.39s/it]"
     ]
    },
    {
     "name": "stdout",
     "output_type": "stream",
     "text": [
      "Downloaded size does not match expected size!\n",
      " FYI, the status code was  200\n"
     ]
    },
    {
     "name": "stderr",
     "output_type": "stream",
     "text": [
      "\n"
     ]
    }
   ],
   "source": [
    "# Download all the files\n",
    "for i in tqdm(range(len(files_df))):\n",
    "    download_file(files_df['url'][i], \n",
    "                  files_df['filename'][i], download_path)"
   ]
  }
 ],
 "metadata": {
  "kernelspec": {
   "display_name": "Python 3",
   "language": "python",
   "name": "python3"
  },
  "language_info": {
   "codemirror_mode": {
    "name": "ipython",
    "version": 3
   },
   "file_extension": ".py",
   "mimetype": "text/x-python",
   "name": "python",
   "nbconvert_exporter": "python",
   "pygments_lexer": "ipython3",
   "version": "3.10.5"
  }
 },
 "nbformat": 4,
 "nbformat_minor": 2
}
