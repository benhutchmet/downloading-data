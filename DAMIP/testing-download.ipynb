{
 "cells": [
  {
   "cell_type": "code",
   "execution_count": 1,
   "metadata": {},
   "outputs": [],
   "source": [
    "# Testing the downloading data method from:\n",
    "# https://claut.gitlab.io/man_ccia/lab2.html\n",
    "# Import the required modules\n",
    "from pyesgf.search import SearchConnection\n",
    "import os\n",
    "import pandas as pd\n",
    "import requests\n",
    "from tqdm import tqdm\n",
    "\n",
    "# Set the os environment to on\n",
    "os.environ['ESGF_PYCLIENT_NO_FACETS_STAR_WARNING'] = \"on\""
   ]
  },
  {
   "cell_type": "code",
   "execution_count": 2,
   "metadata": {},
   "outputs": [],
   "source": [
    "# Import the functions\n",
    "from testing_download_functions import query_data_esgf, extract_file_context"
   ]
  },
  {
   "cell_type": "code",
   "execution_count": 3,
   "metadata": {},
   "outputs": [],
   "source": [
    "# set the search connection\n",
    "# to the LLNL search node\n",
    "conn = SearchConnection('https://esgf-node.llnl.gov/esg-search', distrib=True)"
   ]
  },
  {
   "cell_type": "code",
   "execution_count": 4,
   "metadata": {},
   "outputs": [
    {
     "name": "stdout",
     "output_type": "stream",
     "text": [
      "<class 'pyesgf.search.connection.SearchConnection'>\n"
     ]
    }
   ],
   "source": [
    "print(type(conn))"
   ]
  },
  {
   "cell_type": "code",
   "execution_count": 5,
   "metadata": {},
   "outputs": [
    {
     "name": "stdout",
     "output_type": "stream",
     "text": [
      "2\n",
      "<class 'pyesgf.search.results.ResultSet'>\n",
      "<pyesgf.search.results.ResultSet object at 0x7fa629397a60>\n"
     ]
    }
   ],
   "source": [
    "# test the function for querying the database\n",
    "results = query_data_esgf(conn,\n",
    "                        source_id='CanESM5',\n",
    "                        experiment_id='hist-aer',\n",
    "                        variable_id='tas',\n",
    "                        table_id='Amon',\n",
    "                        member_id='r1i1p1f1, r2i1p1f1',\n",
    "                        data_node='crd-esgf-drc.ec.gc.ca',)\n",
    "\n",
    "# print the len of the results\n",
    "print(len(results))\n",
    "\n",
    "# print the type of the results\n",
    "print(type(results))\n",
    "\n",
    "# print the results\n",
    "print(results)"
   ]
  },
  {
   "cell_type": "code",
   "execution_count": 6,
   "metadata": {},
   "outputs": [
    {
     "name": "stdout",
     "output_type": "stream",
     "text": [
      "CMIP6.DAMIP.CCCma.CanESM5.hist-aer.r1i1p1f1.Amon.tas.gn.v20190429|crd-esgf-drc.ec.gc.ca\n"
     ]
    }
   ],
   "source": [
    "# Print the details of the first result\n",
    "print(results[0].json['id'])"
   ]
  },
  {
   "cell_type": "code",
   "execution_count": 8,
   "metadata": {},
   "outputs": [
    {
     "name": "stdout",
     "output_type": "stream",
     "text": [
      "Extracting file context for 2 datasets...\n",
      "[[{'filename': 'tas_Amon_CanESM5_hist-aer_r1i1p1f1_gn_185001-202012.nc', 'url': 'http://crd-esgf-drc.ec.gc.ca/thredds/fileServer/esgE_dataroot/AR6/CMIP6/DAMIP/CCCma/CanESM5/hist-aer/r1i1p1f1/Amon/tas/gn/v20190429/tas_Amon_CanESM5_hist-aer_r1i1p1f1_gn_185001-202012.nc'}], [{'filename': 'tas_Amon_CanESM5_hist-aer_r2i1p1f1_gn_185001-202012.nc', 'url': 'http://crd-esgf-drc.ec.gc.ca/thredds/fileServer/esgE_dataroot/AR6/CMIP6/DAMIP/CCCma/CanESM5/hist-aer/r2i1p1f1/Amon/tas/gn/v20190429/tas_Amon_CanESM5_hist-aer_r2i1p1f1_gn_185001-202012.nc'}]]\n"
     ]
    }
   ],
   "source": [
    "# Use the function to extract the file context\n",
    "files_list = extract_file_context(results)\n",
    "\n",
    "# print the files list\n",
    "print(files_list)"
   ]
  }
 ],
 "metadata": {
  "kernelspec": {
   "display_name": "Python 3",
   "language": "python",
   "name": "python3"
  },
  "language_info": {
   "codemirror_mode": {
    "name": "ipython",
    "version": 3
   },
   "file_extension": ".py",
   "mimetype": "text/x-python",
   "name": "python",
   "nbconvert_exporter": "python",
   "pygments_lexer": "ipython3",
   "version": "3.10.5"
  }
 },
 "nbformat": 4,
 "nbformat_minor": 2
}
