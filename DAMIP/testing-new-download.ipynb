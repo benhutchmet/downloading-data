{
 "cells": [
  {
   "cell_type": "code",
   "execution_count": null,
   "metadata": {},
   "outputs": [],
   "source": [
    "# Import the required modules\n",
    "from pyesgf.search import SearchConnection\n",
    "import os\n",
    "import sys\n",
    "import importlib\n",
    "import pandas as pd\n",
    "import requests\n",
    "from tqdm import tqdm\n",
    "\n",
    "# Set the os environment to on\n",
    "os.environ['ESGF_PYCLIENT_NO_FACETS_STAR_WARNING'] = \"on\""
   ]
  },
  {
   "cell_type": "code",
   "execution_count": null,
   "metadata": {},
   "outputs": [],
   "source": [
    "# Import the functions\n",
    "from testing_download_functions import *"
   ]
  },
  {
   "cell_type": "code",
   "execution_count": null,
   "metadata": {},
   "outputs": [],
   "source": [
    "# Import the functions again, so as not to have to restart the kernel\n",
    "_ = importlib.reload(sys.modules['testing_download_functions'])\n",
    "\n",
    "# Import the functions again\n",
    "from testing_download_functions import *"
   ]
  },
  {
   "cell_type": "code",
   "execution_count": null,
   "metadata": {},
   "outputs": [],
   "source": [
    "# Set up the search connection\n",
    "conn = SearchConnection('https://esgf-data.dkrz.de/esg-search', distrib=True)"
   ]
  },
  {
   "cell_type": "code",
   "execution_count": null,
   "metadata": {},
   "outputs": [],
   "source": [
    "# Set up the params\n",
    "params = {\n",
    "    'experiment_id': 'hist-GHG',\n",
    "    'latest': True,\n",
    "    'variable_id': 'tas',\n",
    "    'project': 'CMIP6',\n",
    "    'table_id': 'Amon',\n",
    "    'activity_id': 'DAMIP',\n",
    "}"
   ]
  },
  {
   "cell_type": "code",
   "execution_count": null,
   "metadata": {},
   "outputs": [],
   "source": [
    "# Query the database to find models for the above params\n",
    "models_list = query_models_esgf(experiment_id=params['experiment_id'],\n",
    "                                variable_id=params['variable_id'],\n",
    "                                table_id=params['table_id'],\n",
    "                                activity_id=params['activity_id'],\n",
    "                                connection=conn,\n",
    "                                latest=params['latest'],\n",
    "                                project=params['project'])\n",
    "\n",
    "# Print the models list\n",
    "print(models_list)"
   ]
  },
  {
   "cell_type": "code",
   "execution_count": null,
   "metadata": {},
   "outputs": [],
   "source": [
    "# Now query the database to find the valid nodes for the above params/models\n",
    "model_nodes = find_valid_nodes(params=params,\n",
    "                                models_list=models_list,\n",
    "                                connection=conn)"
   ]
  },
  {
   "cell_type": "code",
   "execution_count": null,
   "metadata": {},
   "outputs": [],
   "source": [
    "# Create a dataframe conating the results for each of the valid models \n",
    "# and nodes"
   ]
  }
 ],
 "metadata": {
  "language_info": {
   "name": "python"
  }
 },
 "nbformat": 4,
 "nbformat_minor": 2
}
